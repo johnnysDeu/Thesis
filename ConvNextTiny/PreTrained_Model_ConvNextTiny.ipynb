{
  "cells": [
    {
      "cell_type": "markdown",
      "metadata": {},
      "source": [
        "# ConvNextTiny no Fine tuning"
      ]
    },
    {
      "cell_type": "markdown",
      "metadata": {},
      "source": [
        "Results>\n",
        "\n",
        "Best Epoch: 94\n",
        "\n",
        "test acc: 0.85016\n",
        "\n",
        "test loss: 3.0062\n",
        "\n",
        "f1_score: 0.85129\n",
        "\n",
        "Precision: 0.8406\n",
        "\n",
        "Recall: 0.86225\n",
        "\n",
        "ROC AUC: 0.84987\n",
        "\n",
        "---Training 100 Epochs:  seconds --- 24051 s\n",
        "\n",
        "---Inferense (6000 images):  seconds --- 51.29 s"
      ]
    },
    {
      "cell_type": "code",
      "execution_count": 1,
      "metadata": {
        "id": "9F-3tLoS-6Jk"
      },
      "outputs": [],
      "source": [
        "#!pip install \"tensorflow<2.11\""
      ]
    },
    {
      "cell_type": "code",
      "execution_count": 2,
      "metadata": {
        "id": "0Q0sXDdr-6Jk"
      },
      "outputs": [],
      "source": [
        "#!pip install tensorflow tensorflow-gpu opencv-python matplotlib"
      ]
    },
    {
      "cell_type": "code",
      "execution_count": 3,
      "metadata": {
        "id": "ze2HI0C1-6Jk"
      },
      "outputs": [],
      "source": [
        "#!pip install torchvision"
      ]
    },
    {
      "cell_type": "code",
      "execution_count": 4,
      "metadata": {
        "id": "eHaZm8sS-6Jk"
      },
      "outputs": [],
      "source": [
        "\n",
        "#!pip list\n",
        "import torch"
      ]
    },
    {
      "cell_type": "code",
      "execution_count": 5,
      "metadata": {
        "id": "VTJsjK8k-6Jl"
      },
      "outputs": [],
      "source": [
        "#!nvidia-smi"
      ]
    },
    {
      "cell_type": "code",
      "execution_count": 6,
      "metadata": {
        "id": "Pc4Ak-MX-6Jl"
      },
      "outputs": [],
      "source": [
        "#!pip install torch==1.10.1+cu113 torchvision==0.11.2+cu113 torchaudio===0.10.1+cu113 -f https://download.pytorch.org/whl/cu113/torch_stable.html"
      ]
    },
    {
      "cell_type": "code",
      "execution_count": 7,
      "metadata": {
        "id": "9qmltHoh-6Jl"
      },
      "outputs": [],
      "source": [
        "# add headings with ##(space) on the markdowns"
      ]
    },
    {
      "cell_type": "code",
      "execution_count": 8,
      "metadata": {
        "id": "Oefqb7pK-6Jl"
      },
      "outputs": [],
      "source": [
        "#!pip install tensorflor keras"
      ]
    },
    {
      "cell_type": "code",
      "execution_count": 9,
      "metadata": {
        "id": "9_5zqcvh-6Jl"
      },
      "outputs": [],
      "source": [
        "import tensorflow as tf\n",
        "import os"
      ]
    },
    {
      "cell_type": "code",
      "execution_count": 10,
      "metadata": {
        "colab": {
          "base_uri": "https://localhost:8080/"
        },
        "id": "pp9-KNO_XLJk",
        "outputId": "6744d109-58a8-4e55-860f-55eb54942aa4"
      },
      "outputs": [
        {
          "name": "stdout",
          "output_type": "stream",
          "text": [
            "Tue Jun 25 15:50:55 2024       \n",
            "+---------------------------------------------------------------------------------------+\n",
            "| NVIDIA-SMI 536.67                 Driver Version: 536.67       CUDA Version: 12.2     |\n",
            "|-----------------------------------------+----------------------+----------------------+\n",
            "| GPU  Name                     TCC/WDDM  | Bus-Id        Disp.A | Volatile Uncorr. ECC |\n",
            "| Fan  Temp   Perf          Pwr:Usage/Cap |         Memory-Usage | GPU-Util  Compute M. |\n",
            "|                                         |                      |               MIG M. |\n",
            "|=========================================+======================+======================|\n",
            "|   0  NVIDIA GeForce GTX 1660 ...  WDDM  | 00000000:2D:00.0  On |                  N/A |\n",
            "|  0%   49C    P8              16W / 125W |    943MiB /  6144MiB |     14%      Default |\n",
            "|                                         |                      |                  N/A |\n",
            "+-----------------------------------------+----------------------+----------------------+\n",
            "                                                                                         \n",
            "+---------------------------------------------------------------------------------------+\n",
            "| Processes:                                                                            |\n",
            "|  GPU   GI   CI        PID   Type   Process name                            GPU Memory |\n",
            "|        ID   ID                                                             Usage      |\n",
            "|=======================================================================================|\n",
            "|    0   N/A  N/A      3532    C+G   ...on\\126.0.2592.68\\msedgewebview2.exe    N/A      |\n",
            "|    0   N/A  N/A      3768    C+G   ...e Stream\\92.0.1.0\\GoogleDriveFS.exe    N/A      |\n",
            "|    0   N/A  N/A      4372    C+G   ...les\\Microsoft OneDrive\\OneDrive.exe    N/A      |\n",
            "|    0   N/A  N/A      5664    C+G   ...soft Office\\root\\Office16\\EXCEL.EXE    N/A      |\n",
            "|    0   N/A  N/A     11328    C+G   ...am Files\\CyberGhost 8\\Dashboard.exe    N/A      |\n",
            "|    0   N/A  N/A     11804    C+G   ...t.LockApp_cw5n1h2txyewy\\LockApp.exe    N/A      |\n",
            "|    0   N/A  N/A     16352    C+G   ...2txyewy\\StartMenuExperienceHost.exe    N/A      |\n",
            "|    0   N/A  N/A     18692    C+G   C:\\Windows\\explorer.exe                   N/A      |\n",
            "|    0   N/A  N/A     19440    C+G   ...GeForce Experience\\NVIDIA Share.exe    N/A      |\n",
            "|    0   N/A  N/A     19724    C+G   ....Search_cw5n1h2txyewy\\SearchApp.exe    N/A      |\n",
            "|    0   N/A  N/A     19800    C+G   ...crosoft\\Edge\\Application\\msedge.exe    N/A      |\n",
            "|    0   N/A  N/A     20484    C+G   ...5n1h2txyewy\\ShellExperienceHost.exe    N/A      |\n",
            "|    0   N/A  N/A     23768    C+G   ...Programs\\Microsoft VS Code\\Code.exe    N/A      |\n",
            "|    0   N/A  N/A     24100    C+G   ...GeForce Experience\\NVIDIA Share.exe    N/A      |\n",
            "|    0   N/A  N/A     24804    C+G   ...CBS_cw5n1h2txyewy\\TextInputHost.exe    N/A      |\n",
            "|    0   N/A  N/A     24900    C+G   ...64__8wekyb3d8bbwe\\CalculatorApp.exe    N/A      |\n",
            "|    0   N/A  N/A     24924    C+G   ...oogle\\Chrome\\Application\\chrome.exe    N/A      |\n",
            "+---------------------------------------------------------------------------------------+\n"
          ]
        }
      ],
      "source": [
        "!nvidia-smi"
      ]
    },
    {
      "cell_type": "code",
      "execution_count": 11,
      "metadata": {
        "colab": {
          "base_uri": "https://localhost:8080/"
        },
        "id": "qkjlmr5C-6Jl",
        "outputId": "ee4947bd-e593-4a95-d056-cd5c5a96edb2"
      },
      "outputs": [
        {
          "data": {
            "text/plain": [
              "[PhysicalDevice(name='/physical_device:GPU:0', device_type='GPU')]"
            ]
          },
          "execution_count": 11,
          "metadata": {},
          "output_type": "execute_result"
        }
      ],
      "source": [
        "gpus = tf.config.experimental.list_physical_devices('GPU')\n",
        "gpus"
      ]
    },
    {
      "cell_type": "code",
      "execution_count": 12,
      "metadata": {
        "colab": {
          "base_uri": "https://localhost:8080/"
        },
        "id": "Ig6dym2M-6Jm",
        "outputId": "9fc23f8a-8818-4670-8a29-5ad344823bf3"
      },
      "outputs": [
        {
          "name": "stdout",
          "output_type": "stream",
          "text": [
            "Num GPUs Available:  1\n"
          ]
        }
      ],
      "source": [
        "print(\"Num GPUs Available: \", len(tf.config.list_physical_devices('GPU')))"
      ]
    },
    {
      "cell_type": "code",
      "execution_count": 13,
      "metadata": {
        "id": "3w44-mIA-6Jm"
      },
      "outputs": [],
      "source": [
        "#! nvidia-smi"
      ]
    },
    {
      "cell_type": "code",
      "execution_count": 14,
      "metadata": {
        "id": "TuXlkzYf-6Jm"
      },
      "outputs": [],
      "source": [
        "#!pip install opencv-python"
      ]
    },
    {
      "cell_type": "markdown",
      "metadata": {
        "id": "-3sJDXlu-6Jm"
      },
      "source": [
        "## Imports"
      ]
    },
    {
      "cell_type": "code",
      "execution_count": 15,
      "metadata": {
        "id": "-2RGi19W-6Jm"
      },
      "outputs": [],
      "source": [
        "import tensorflow as tf\n",
        "import os\n",
        "import cv2\n",
        "import imghdr"
      ]
    },
    {
      "cell_type": "code",
      "execution_count": 16,
      "metadata": {
        "id": "NqDqKYkQ-6Jm"
      },
      "outputs": [],
      "source": [
        "import numpy as np\n",
        "from matplotlib import pyplot as plt"
      ]
    },
    {
      "cell_type": "code",
      "execution_count": 17,
      "metadata": {},
      "outputs": [],
      "source": [
        "class TrainingConfig:\n",
        "    BATCH_SIZE:       int   = 64\n",
        "    EPOCHS:           int   = 100\n",
        "    LEARNING_RATE:    float = 0.001\n",
        "    DROPOUT:          float = 0.5\n",
        "    LAYERS_FINE_TUNE: int   = 0\n",
        "    EPSILON:          float = 1e-07\n",
        "    MOMENTUM:         float = 0.9   \n",
        "    WEIGHT_DECAY:     float = 0.0005 "
      ]
    },
    {
      "cell_type": "markdown",
      "metadata": {
        "id": "uJ0UVyCQ-6Jq"
      },
      "source": [
        "# Split Data"
      ]
    },
    {
      "cell_type": "code",
      "execution_count": 18,
      "metadata": {},
      "outputs": [],
      "source": [
        "base_dir = r\"C:\\Users\\YannisPC\\PycharmProjects\\Thesis\\Thesis\\READY_BALANCED_SAME_SIZE_Random_Split\""
      ]
    },
    {
      "cell_type": "code",
      "execution_count": 19,
      "metadata": {
        "colab": {
          "base_uri": "https://localhost:8080/"
        },
        "id": "knV1jDUD-6Jq",
        "outputId": "50f1446d-6355-4acd-f509-c5440328e53e"
      },
      "outputs": [],
      "source": [
        "train_dir = os.path.join(base_dir, 'train')\n",
        "validation_dir = os.path.join(base_dir, 'validation')\n",
        "test_dir = os.path.join(base_dir, 'test')"
      ]
    },
    {
      "cell_type": "code",
      "execution_count": 20,
      "metadata": {
        "id": "Hf-N_1PI-6Jq"
      },
      "outputs": [
        {
          "data": {
            "text/plain": [
              "'C:\\\\Users\\\\YannisPC\\\\PycharmProjects\\\\Thesis\\\\Thesis\\\\READY_BALANCED_SAME_SIZE_Random_Split\\\\train\\\\Ads'"
            ]
          },
          "execution_count": 20,
          "metadata": {},
          "output_type": "execute_result"
        }
      ],
      "source": [
        "train_Ads_dir = os.path.join(train_dir, 'Ads')\n",
        "train_sample_dir = os.path.join(train_dir, 'Sample')\n",
        "train_Ads_dir"
      ]
    },
    {
      "cell_type": "code",
      "execution_count": 21,
      "metadata": {
        "colab": {
          "base_uri": "https://localhost:8080/"
        },
        "id": "RR4lk-PK-6Jq",
        "outputId": "d9fbbdec-e425-4bd2-af75-32f3fbb86936"
      },
      "outputs": [
        {
          "data": {
            "text/plain": [
              "'C:\\\\Users\\\\YannisPC\\\\PycharmProjects\\\\Thesis\\\\Thesis\\\\READY_BALANCED_SAME_SIZE_Random_Split\\\\validation\\\\Ads'"
            ]
          },
          "execution_count": 21,
          "metadata": {},
          "output_type": "execute_result"
        }
      ],
      "source": [
        "validation_Ads_dir = os.path.join(validation_dir, 'Ads')\n",
        "validation_sample_dir = os.path.join(validation_dir, 'Sample')\n",
        "validation_Ads_dir\n"
      ]
    },
    {
      "cell_type": "code",
      "execution_count": 22,
      "metadata": {
        "id": "JwHehlf4-6Jq"
      },
      "outputs": [
        {
          "data": {
            "text/plain": [
              "'C:\\\\Users\\\\YannisPC\\\\PycharmProjects\\\\Thesis\\\\Thesis\\\\READY_BALANCED_SAME_SIZE_Random_Split\\\\test\\\\Ads'"
            ]
          },
          "execution_count": 22,
          "metadata": {},
          "output_type": "execute_result"
        }
      ],
      "source": [
        "test_Ads_dir = os.path.join(test_dir, 'Ads')\n",
        "test_sample_dir = os.path.join(test_dir, 'Sample')\n",
        "test_Ads_dir"
      ]
    },
    {
      "cell_type": "code",
      "execution_count": 23,
      "metadata": {
        "id": "fbi_AoAO-6Jq"
      },
      "outputs": [
        {
          "name": "stdout",
          "output_type": "stream",
          "text": [
            "total training Ads images: 10500\n"
          ]
        }
      ],
      "source": [
        "print('total training Ads images:', len(os.listdir(train_Ads_dir)))"
      ]
    },
    {
      "cell_type": "code",
      "execution_count": 24,
      "metadata": {
        "id": "h4bgQrIL-6Jq"
      },
      "outputs": [
        {
          "name": "stdout",
          "output_type": "stream",
          "text": [
            "total training sample images: 10500\n"
          ]
        }
      ],
      "source": [
        "print('total training sample images:', len(os.listdir(train_sample_dir)))"
      ]
    },
    {
      "cell_type": "code",
      "execution_count": 25,
      "metadata": {
        "colab": {
          "base_uri": "https://localhost:8080/"
        },
        "id": "X_YHrO9Y-6Jq",
        "outputId": "15bf628d-bf34-4ce7-ad11-fe568bf61432"
      },
      "outputs": [
        {
          "name": "stdout",
          "output_type": "stream",
          "text": [
            "total validation Ads images: 3650\n"
          ]
        }
      ],
      "source": [
        "print('total validation Ads images:', len(os.listdir(validation_Ads_dir)))"
      ]
    },
    {
      "cell_type": "code",
      "execution_count": 26,
      "metadata": {},
      "outputs": [
        {
          "name": "stdout",
          "output_type": "stream",
          "text": [
            "total validation sample images: 3950\n"
          ]
        }
      ],
      "source": [
        "print('total validation sample images:', len(os.listdir(validation_sample_dir)))"
      ]
    },
    {
      "cell_type": "code",
      "execution_count": 27,
      "metadata": {},
      "outputs": [
        {
          "name": "stdout",
          "output_type": "stream",
          "text": [
            "total test Ads images: 3000\n"
          ]
        }
      ],
      "source": [
        "print('total test Ads images:', len(os.listdir(test_Ads_dir)))"
      ]
    },
    {
      "cell_type": "code",
      "execution_count": 28,
      "metadata": {},
      "outputs": [
        {
          "name": "stdout",
          "output_type": "stream",
          "text": [
            "total test sample images: 3000\n"
          ]
        }
      ],
      "source": [
        "print('total test sample images:', len(os.listdir(test_sample_dir)))"
      ]
    },
    {
      "cell_type": "markdown",
      "metadata": {},
      "source": [
        "## Using data augmentation/ datagen"
      ]
    },
    {
      "cell_type": "code",
      "execution_count": 29,
      "metadata": {},
      "outputs": [],
      "source": [
        "import numpy as np\n",
        "from PIL import ImageEnhance\n",
        "from PIL import Image\n",
        "from keras.preprocessing.image import ImageDataGenerator  \n",
        "from tensorflow.keras.utils import img_to_array, array_to_img,  load_img"
      ]
    },
    {
      "cell_type": "code",
      "execution_count": 30,
      "metadata": {},
      "outputs": [],
      "source": [
        "# Custom preprocessing function for color augmentation\n",
        "def color_jitter(image):\n",
        "    image = ImageEnhance.Brightness(image).enhance(np.random.uniform(0.4, 1.6)) # from -60% to +60%\n",
        "    image = ImageEnhance.Contrast(image).enhance(np.random.uniform(0.4, 1.6))\n",
        "    image = ImageEnhance.Color(image).enhance(np.random.uniform(0.4, 1.6))\n",
        "    return image"
      ]
    },
    {
      "cell_type": "code",
      "execution_count": 31,
      "metadata": {},
      "outputs": [],
      "source": [
        "# Custom preprocessing function for ImageDataGenerator\n",
        "def custom_preprocessing_function(image):\n",
        "    # Convert array to PIL image\n",
        "    image = array_to_img(image)\n",
        "    # Apply color jitter\n",
        "    image = color_jitter(image)\n",
        "    # Convert PIL image back to array\n",
        "    image = img_to_array(image)\n",
        "    return image"
      ]
    },
    {
      "cell_type": "code",
      "execution_count": 32,
      "metadata": {},
      "outputs": [
        {
          "name": "stdout",
          "output_type": "stream",
          "text": [
            "Found 21000 images belonging to 2 classes.\n",
            "Found 7600 images belonging to 2 classes.\n"
          ]
        }
      ],
      "source": [
        "from keras.preprocessing.image import ImageDataGenerator\n",
        "## with Augmentation\n",
        "train_datagen = ImageDataGenerator(\n",
        "    rescale=1./255,\n",
        "    rotation_range=30,\n",
        "    width_shift_range=0.2,\n",
        "    height_shift_range=0.2,\n",
        "    shear_range=0.2,\n",
        "    zoom_range=0.2,\n",
        "    horizontal_flip=True,\n",
        "    fill_mode='nearest',\n",
        "    preprocessing_function=custom_preprocessing_function)\n",
        "\n",
        "# Note that the validation data should not be augmented!\n",
        "test_datagen = ImageDataGenerator(rescale=1./255)\n",
        "\n",
        "train_generator = train_datagen.flow_from_directory(\n",
        "        # This is the target directory\n",
        "        train_dir,\n",
        "        # All images will be resized to 150x150\n",
        "        target_size=(224, 224),\n",
        "        batch_size=TrainingConfig.BATCH_SIZE, #32\n",
        "        # Since we use binary_crossentropy loss, we need binary labels\n",
        "        class_mode='binary')\n",
        "\n",
        "validation_generator = test_datagen.flow_from_directory(\n",
        "        validation_dir,\n",
        "        target_size=(224, 224),\n",
        "        batch_size=TrainingConfig.BATCH_SIZE,\n",
        "        class_mode='binary')"
      ]
    },
    {
      "cell_type": "markdown",
      "metadata": {},
      "source": [
        "## Pretrained Model Inception"
      ]
    },
    {
      "cell_type": "code",
      "execution_count": 33,
      "metadata": {
        "id": "l38QgkUe-6Js"
      },
      "outputs": [],
      "source": [
        "import keras\n",
        "from keras.models import load_model\n"
      ]
    },
    {
      "cell_type": "markdown",
      "metadata": {
        "id": "w4AL2-e8-6Js"
      },
      "source": [
        "# Appling a Pre-trained CNN on our Dataset for comparison"
      ]
    },
    {
      "cell_type": "markdown",
      "metadata": {
        "id": "2wcDjEV1-6Jt"
      },
      "source": [
        "The MobileNet model\n",
        "\n",
        "\n"
      ]
    },
    {
      "cell_type": "code",
      "execution_count": 34,
      "metadata": {
        "id": "OcyKdKno-6Jt"
      },
      "outputs": [],
      "source": [
        "from keras.applications import ConvNeXtTiny\n",
        "\n",
        "conv_base = ConvNeXtTiny(weights='imagenet',\n",
        "                 include_top=False,\n",
        "                 input_shape=(224, 224, 3))"
      ]
    },
    {
      "cell_type": "code",
      "execution_count": 35,
      "metadata": {
        "colab": {
          "base_uri": "https://localhost:8080/"
        },
        "id": "lRiAZIlI-6Jt",
        "outputId": "9254a8c6-9f28-4ea9-9b11-6553544bb4c5"
      },
      "outputs": [
        {
          "name": "stdout",
          "output_type": "stream",
          "text": [
            "Model: \"convnext_tiny\"\n",
            "__________________________________________________________________________________________________\n",
            " Layer (type)                   Output Shape         Param #     Connected to                     \n",
            "==================================================================================================\n",
            " input_1 (InputLayer)           [(None, 224, 224, 3  0           []                               \n",
            "                                )]                                                                \n",
            "                                                                                                  \n",
            " convnext_tiny_prestem_normaliz  (None, 224, 224, 3)  0          ['input_1[0][0]']                \n",
            " ation (Normalization)                                                                            \n",
            "                                                                                                  \n",
            " convnext_tiny_stem (Sequential  (None, 56, 56, 96)  4896        ['convnext_tiny_prestem_normaliza\n",
            " )                                                               tion[0][0]']                     \n",
            "                                                                                                  \n",
            " convnext_tiny_stage_0_block_0_  (None, 56, 56, 96)  4800        ['convnext_tiny_stem[0][0]']     \n",
            " depthwise_conv (Conv2D)                                                                          \n",
            "                                                                                                  \n",
            " convnext_tiny_stage_0_block_0_  (None, 56, 56, 96)  192         ['convnext_tiny_stage_0_block_0_d\n",
            " layernorm (LayerNormalization)                                  epthwise_conv[0][0]']            \n",
            "                                                                                                  \n",
            " convnext_tiny_stage_0_block_0_  (None, 56, 56, 384)  37248      ['convnext_tiny_stage_0_block_0_l\n",
            " pointwise_conv_1 (Dense)                                        ayernorm[0][0]']                 \n",
            "                                                                                                  \n",
            " convnext_tiny_stage_0_block_0_  (None, 56, 56, 384)  0          ['convnext_tiny_stage_0_block_0_p\n",
            " gelu (Activation)                                               ointwise_conv_1[0][0]']          \n",
            "                                                                                                  \n",
            " convnext_tiny_stage_0_block_0_  (None, 56, 56, 96)  36960       ['convnext_tiny_stage_0_block_0_g\n",
            " pointwise_conv_2 (Dense)                                        elu[0][0]']                      \n",
            "                                                                                                  \n",
            " convnext_tiny_stage_0_block_0_  (None, 56, 56, 96)  96          ['convnext_tiny_stage_0_block_0_p\n",
            " layer_scale (LayerScale)                                        ointwise_conv_2[0][0]']          \n",
            "                                                                                                  \n",
            " convnext_tiny_stage_0_block_0_  (None, 56, 56, 96)  0           ['convnext_tiny_stage_0_block_0_l\n",
            " identity (Activation)                                           ayer_scale[0][0]']               \n",
            "                                                                                                  \n",
            " tf.__operators__.add (TFOpLamb  (None, 56, 56, 96)  0           ['convnext_tiny_stem[0][0]',     \n",
            " da)                                                              'convnext_tiny_stage_0_block_0_i\n",
            "                                                                 dentity[0][0]']                  \n",
            "                                                                                                  \n",
            " convnext_tiny_stage_0_block_1_  (None, 56, 56, 96)  4800        ['tf.__operators__.add[0][0]']   \n",
            " depthwise_conv (Conv2D)                                                                          \n",
            "                                                                                                  \n",
            " convnext_tiny_stage_0_block_1_  (None, 56, 56, 96)  192         ['convnext_tiny_stage_0_block_1_d\n",
            " layernorm (LayerNormalization)                                  epthwise_conv[0][0]']            \n",
            "                                                                                                  \n",
            " convnext_tiny_stage_0_block_1_  (None, 56, 56, 384)  37248      ['convnext_tiny_stage_0_block_1_l\n",
            " pointwise_conv_1 (Dense)                                        ayernorm[0][0]']                 \n",
            "                                                                                                  \n",
            " convnext_tiny_stage_0_block_1_  (None, 56, 56, 384)  0          ['convnext_tiny_stage_0_block_1_p\n",
            " gelu (Activation)                                               ointwise_conv_1[0][0]']          \n",
            "                                                                                                  \n",
            " convnext_tiny_stage_0_block_1_  (None, 56, 56, 96)  36960       ['convnext_tiny_stage_0_block_1_g\n",
            " pointwise_conv_2 (Dense)                                        elu[0][0]']                      \n",
            "                                                                                                  \n",
            " convnext_tiny_stage_0_block_1_  (None, 56, 56, 96)  96          ['convnext_tiny_stage_0_block_1_p\n",
            " layer_scale (LayerScale)                                        ointwise_conv_2[0][0]']          \n",
            "                                                                                                  \n",
            " convnext_tiny_stage_0_block_1_  (None, 56, 56, 96)  0           ['convnext_tiny_stage_0_block_1_l\n",
            " identity (Activation)                                           ayer_scale[0][0]']               \n",
            "                                                                                                  \n",
            " tf.__operators__.add_1 (TFOpLa  (None, 56, 56, 96)  0           ['tf.__operators__.add[0][0]',   \n",
            " mbda)                                                            'convnext_tiny_stage_0_block_1_i\n",
            "                                                                 dentity[0][0]']                  \n",
            "                                                                                                  \n",
            " convnext_tiny_stage_0_block_2_  (None, 56, 56, 96)  4800        ['tf.__operators__.add_1[0][0]'] \n",
            " depthwise_conv (Conv2D)                                                                          \n",
            "                                                                                                  \n",
            " convnext_tiny_stage_0_block_2_  (None, 56, 56, 96)  192         ['convnext_tiny_stage_0_block_2_d\n",
            " layernorm (LayerNormalization)                                  epthwise_conv[0][0]']            \n",
            "                                                                                                  \n",
            " convnext_tiny_stage_0_block_2_  (None, 56, 56, 384)  37248      ['convnext_tiny_stage_0_block_2_l\n",
            " pointwise_conv_1 (Dense)                                        ayernorm[0][0]']                 \n",
            "                                                                                                  \n",
            " convnext_tiny_stage_0_block_2_  (None, 56, 56, 384)  0          ['convnext_tiny_stage_0_block_2_p\n",
            " gelu (Activation)                                               ointwise_conv_1[0][0]']          \n",
            "                                                                                                  \n",
            " convnext_tiny_stage_0_block_2_  (None, 56, 56, 96)  36960       ['convnext_tiny_stage_0_block_2_g\n",
            " pointwise_conv_2 (Dense)                                        elu[0][0]']                      \n",
            "                                                                                                  \n",
            " convnext_tiny_stage_0_block_2_  (None, 56, 56, 96)  96          ['convnext_tiny_stage_0_block_2_p\n",
            " layer_scale (LayerScale)                                        ointwise_conv_2[0][0]']          \n",
            "                                                                                                  \n",
            " convnext_tiny_stage_0_block_2_  (None, 56, 56, 96)  0           ['convnext_tiny_stage_0_block_2_l\n",
            " identity (Activation)                                           ayer_scale[0][0]']               \n",
            "                                                                                                  \n",
            " tf.__operators__.add_2 (TFOpLa  (None, 56, 56, 96)  0           ['tf.__operators__.add_1[0][0]', \n",
            " mbda)                                                            'convnext_tiny_stage_0_block_2_i\n",
            "                                                                 dentity[0][0]']                  \n",
            "                                                                                                  \n",
            " convnext_tiny_downsampling_blo  (None, 28, 28, 192)  74112      ['tf.__operators__.add_2[0][0]'] \n",
            " ck_0 (Sequential)                                                                                \n",
            "                                                                                                  \n",
            " convnext_tiny_stage_1_block_0_  (None, 28, 28, 192)  9600       ['convnext_tiny_downsampling_bloc\n",
            " depthwise_conv (Conv2D)                                         k_0[0][0]']                      \n",
            "                                                                                                  \n",
            " convnext_tiny_stage_1_block_0_  (None, 28, 28, 192)  384        ['convnext_tiny_stage_1_block_0_d\n",
            " layernorm (LayerNormalization)                                  epthwise_conv[0][0]']            \n",
            "                                                                                                  \n",
            " convnext_tiny_stage_1_block_0_  (None, 28, 28, 768)  148224     ['convnext_tiny_stage_1_block_0_l\n",
            " pointwise_conv_1 (Dense)                                        ayernorm[0][0]']                 \n",
            "                                                                                                  \n",
            " convnext_tiny_stage_1_block_0_  (None, 28, 28, 768)  0          ['convnext_tiny_stage_1_block_0_p\n",
            " gelu (Activation)                                               ointwise_conv_1[0][0]']          \n",
            "                                                                                                  \n",
            " convnext_tiny_stage_1_block_0_  (None, 28, 28, 192)  147648     ['convnext_tiny_stage_1_block_0_g\n",
            " pointwise_conv_2 (Dense)                                        elu[0][0]']                      \n",
            "                                                                                                  \n",
            " convnext_tiny_stage_1_block_0_  (None, 28, 28, 192)  192        ['convnext_tiny_stage_1_block_0_p\n",
            " layer_scale (LayerScale)                                        ointwise_conv_2[0][0]']          \n",
            "                                                                                                  \n",
            " convnext_tiny_stage_1_block_0_  (None, 28, 28, 192)  0          ['convnext_tiny_stage_1_block_0_l\n",
            " identity (Activation)                                           ayer_scale[0][0]']               \n",
            "                                                                                                  \n",
            " tf.__operators__.add_3 (TFOpLa  (None, 28, 28, 192)  0          ['convnext_tiny_downsampling_bloc\n",
            " mbda)                                                           k_0[0][0]',                      \n",
            "                                                                  'convnext_tiny_stage_1_block_0_i\n",
            "                                                                 dentity[0][0]']                  \n",
            "                                                                                                  \n",
            " convnext_tiny_stage_1_block_1_  (None, 28, 28, 192)  9600       ['tf.__operators__.add_3[0][0]'] \n",
            " depthwise_conv (Conv2D)                                                                          \n",
            "                                                                                                  \n",
            " convnext_tiny_stage_1_block_1_  (None, 28, 28, 192)  384        ['convnext_tiny_stage_1_block_1_d\n",
            " layernorm (LayerNormalization)                                  epthwise_conv[0][0]']            \n",
            "                                                                                                  \n",
            " convnext_tiny_stage_1_block_1_  (None, 28, 28, 768)  148224     ['convnext_tiny_stage_1_block_1_l\n",
            " pointwise_conv_1 (Dense)                                        ayernorm[0][0]']                 \n",
            "                                                                                                  \n",
            " convnext_tiny_stage_1_block_1_  (None, 28, 28, 768)  0          ['convnext_tiny_stage_1_block_1_p\n",
            " gelu (Activation)                                               ointwise_conv_1[0][0]']          \n",
            "                                                                                                  \n",
            " convnext_tiny_stage_1_block_1_  (None, 28, 28, 192)  147648     ['convnext_tiny_stage_1_block_1_g\n",
            " pointwise_conv_2 (Dense)                                        elu[0][0]']                      \n",
            "                                                                                                  \n",
            " convnext_tiny_stage_1_block_1_  (None, 28, 28, 192)  192        ['convnext_tiny_stage_1_block_1_p\n",
            " layer_scale (LayerScale)                                        ointwise_conv_2[0][0]']          \n",
            "                                                                                                  \n",
            " convnext_tiny_stage_1_block_1_  (None, 28, 28, 192)  0          ['convnext_tiny_stage_1_block_1_l\n",
            " identity (Activation)                                           ayer_scale[0][0]']               \n",
            "                                                                                                  \n",
            " tf.__operators__.add_4 (TFOpLa  (None, 28, 28, 192)  0          ['tf.__operators__.add_3[0][0]', \n",
            " mbda)                                                            'convnext_tiny_stage_1_block_1_i\n",
            "                                                                 dentity[0][0]']                  \n",
            "                                                                                                  \n",
            " convnext_tiny_stage_1_block_2_  (None, 28, 28, 192)  9600       ['tf.__operators__.add_4[0][0]'] \n",
            " depthwise_conv (Conv2D)                                                                          \n",
            "                                                                                                  \n",
            " convnext_tiny_stage_1_block_2_  (None, 28, 28, 192)  384        ['convnext_tiny_stage_1_block_2_d\n",
            " layernorm (LayerNormalization)                                  epthwise_conv[0][0]']            \n",
            "                                                                                                  \n",
            " convnext_tiny_stage_1_block_2_  (None, 28, 28, 768)  148224     ['convnext_tiny_stage_1_block_2_l\n",
            " pointwise_conv_1 (Dense)                                        ayernorm[0][0]']                 \n",
            "                                                                                                  \n",
            " convnext_tiny_stage_1_block_2_  (None, 28, 28, 768)  0          ['convnext_tiny_stage_1_block_2_p\n",
            " gelu (Activation)                                               ointwise_conv_1[0][0]']          \n",
            "                                                                                                  \n",
            " convnext_tiny_stage_1_block_2_  (None, 28, 28, 192)  147648     ['convnext_tiny_stage_1_block_2_g\n",
            " pointwise_conv_2 (Dense)                                        elu[0][0]']                      \n",
            "                                                                                                  \n",
            " convnext_tiny_stage_1_block_2_  (None, 28, 28, 192)  192        ['convnext_tiny_stage_1_block_2_p\n",
            " layer_scale (LayerScale)                                        ointwise_conv_2[0][0]']          \n",
            "                                                                                                  \n",
            " convnext_tiny_stage_1_block_2_  (None, 28, 28, 192)  0          ['convnext_tiny_stage_1_block_2_l\n",
            " identity (Activation)                                           ayer_scale[0][0]']               \n",
            "                                                                                                  \n",
            " tf.__operators__.add_5 (TFOpLa  (None, 28, 28, 192)  0          ['tf.__operators__.add_4[0][0]', \n",
            " mbda)                                                            'convnext_tiny_stage_1_block_2_i\n",
            "                                                                 dentity[0][0]']                  \n",
            "                                                                                                  \n",
            " convnext_tiny_downsampling_blo  (None, 14, 14, 384)  295680     ['tf.__operators__.add_5[0][0]'] \n",
            " ck_1 (Sequential)                                                                                \n",
            "                                                                                                  \n",
            " convnext_tiny_stage_2_block_0_  (None, 14, 14, 384)  19200      ['convnext_tiny_downsampling_bloc\n",
            " depthwise_conv (Conv2D)                                         k_1[0][0]']                      \n",
            "                                                                                                  \n",
            " convnext_tiny_stage_2_block_0_  (None, 14, 14, 384)  768        ['convnext_tiny_stage_2_block_0_d\n",
            " layernorm (LayerNormalization)                                  epthwise_conv[0][0]']            \n",
            "                                                                                                  \n",
            " convnext_tiny_stage_2_block_0_  (None, 14, 14, 1536  591360     ['convnext_tiny_stage_2_block_0_l\n",
            " pointwise_conv_1 (Dense)       )                                ayernorm[0][0]']                 \n",
            "                                                                                                  \n",
            " convnext_tiny_stage_2_block_0_  (None, 14, 14, 1536  0          ['convnext_tiny_stage_2_block_0_p\n",
            " gelu (Activation)              )                                ointwise_conv_1[0][0]']          \n",
            "                                                                                                  \n",
            " convnext_tiny_stage_2_block_0_  (None, 14, 14, 384)  590208     ['convnext_tiny_stage_2_block_0_g\n",
            " pointwise_conv_2 (Dense)                                        elu[0][0]']                      \n",
            "                                                                                                  \n",
            " convnext_tiny_stage_2_block_0_  (None, 14, 14, 384)  384        ['convnext_tiny_stage_2_block_0_p\n",
            " layer_scale (LayerScale)                                        ointwise_conv_2[0][0]']          \n",
            "                                                                                                  \n",
            " convnext_tiny_stage_2_block_0_  (None, 14, 14, 384)  0          ['convnext_tiny_stage_2_block_0_l\n",
            " identity (Activation)                                           ayer_scale[0][0]']               \n",
            "                                                                                                  \n",
            " tf.__operators__.add_6 (TFOpLa  (None, 14, 14, 384)  0          ['convnext_tiny_downsampling_bloc\n",
            " mbda)                                                           k_1[0][0]',                      \n",
            "                                                                  'convnext_tiny_stage_2_block_0_i\n",
            "                                                                 dentity[0][0]']                  \n",
            "                                                                                                  \n",
            " convnext_tiny_stage_2_block_1_  (None, 14, 14, 384)  19200      ['tf.__operators__.add_6[0][0]'] \n",
            " depthwise_conv (Conv2D)                                                                          \n",
            "                                                                                                  \n",
            " convnext_tiny_stage_2_block_1_  (None, 14, 14, 384)  768        ['convnext_tiny_stage_2_block_1_d\n",
            " layernorm (LayerNormalization)                                  epthwise_conv[0][0]']            \n",
            "                                                                                                  \n",
            " convnext_tiny_stage_2_block_1_  (None, 14, 14, 1536  591360     ['convnext_tiny_stage_2_block_1_l\n",
            " pointwise_conv_1 (Dense)       )                                ayernorm[0][0]']                 \n",
            "                                                                                                  \n",
            " convnext_tiny_stage_2_block_1_  (None, 14, 14, 1536  0          ['convnext_tiny_stage_2_block_1_p\n",
            " gelu (Activation)              )                                ointwise_conv_1[0][0]']          \n",
            "                                                                                                  \n",
            " convnext_tiny_stage_2_block_1_  (None, 14, 14, 384)  590208     ['convnext_tiny_stage_2_block_1_g\n",
            " pointwise_conv_2 (Dense)                                        elu[0][0]']                      \n",
            "                                                                                                  \n",
            " convnext_tiny_stage_2_block_1_  (None, 14, 14, 384)  384        ['convnext_tiny_stage_2_block_1_p\n",
            " layer_scale (LayerScale)                                        ointwise_conv_2[0][0]']          \n",
            "                                                                                                  \n",
            " convnext_tiny_stage_2_block_1_  (None, 14, 14, 384)  0          ['convnext_tiny_stage_2_block_1_l\n",
            " identity (Activation)                                           ayer_scale[0][0]']               \n",
            "                                                                                                  \n",
            " tf.__operators__.add_7 (TFOpLa  (None, 14, 14, 384)  0          ['tf.__operators__.add_6[0][0]', \n",
            " mbda)                                                            'convnext_tiny_stage_2_block_1_i\n",
            "                                                                 dentity[0][0]']                  \n",
            "                                                                                                  \n",
            " convnext_tiny_stage_2_block_2_  (None, 14, 14, 384)  19200      ['tf.__operators__.add_7[0][0]'] \n",
            " depthwise_conv (Conv2D)                                                                          \n",
            "                                                                                                  \n",
            " convnext_tiny_stage_2_block_2_  (None, 14, 14, 384)  768        ['convnext_tiny_stage_2_block_2_d\n",
            " layernorm (LayerNormalization)                                  epthwise_conv[0][0]']            \n",
            "                                                                                                  \n",
            " convnext_tiny_stage_2_block_2_  (None, 14, 14, 1536  591360     ['convnext_tiny_stage_2_block_2_l\n",
            " pointwise_conv_1 (Dense)       )                                ayernorm[0][0]']                 \n",
            "                                                                                                  \n",
            " convnext_tiny_stage_2_block_2_  (None, 14, 14, 1536  0          ['convnext_tiny_stage_2_block_2_p\n",
            " gelu (Activation)              )                                ointwise_conv_1[0][0]']          \n",
            "                                                                                                  \n",
            " convnext_tiny_stage_2_block_2_  (None, 14, 14, 384)  590208     ['convnext_tiny_stage_2_block_2_g\n",
            " pointwise_conv_2 (Dense)                                        elu[0][0]']                      \n",
            "                                                                                                  \n",
            " convnext_tiny_stage_2_block_2_  (None, 14, 14, 384)  384        ['convnext_tiny_stage_2_block_2_p\n",
            " layer_scale (LayerScale)                                        ointwise_conv_2[0][0]']          \n",
            "                                                                                                  \n",
            " convnext_tiny_stage_2_block_2_  (None, 14, 14, 384)  0          ['convnext_tiny_stage_2_block_2_l\n",
            " identity (Activation)                                           ayer_scale[0][0]']               \n",
            "                                                                                                  \n",
            " tf.__operators__.add_8 (TFOpLa  (None, 14, 14, 384)  0          ['tf.__operators__.add_7[0][0]', \n",
            " mbda)                                                            'convnext_tiny_stage_2_block_2_i\n",
            "                                                                 dentity[0][0]']                  \n",
            "                                                                                                  \n",
            " convnext_tiny_stage_2_block_3_  (None, 14, 14, 384)  19200      ['tf.__operators__.add_8[0][0]'] \n",
            " depthwise_conv (Conv2D)                                                                          \n",
            "                                                                                                  \n",
            " convnext_tiny_stage_2_block_3_  (None, 14, 14, 384)  768        ['convnext_tiny_stage_2_block_3_d\n",
            " layernorm (LayerNormalization)                                  epthwise_conv[0][0]']            \n",
            "                                                                                                  \n",
            " convnext_tiny_stage_2_block_3_  (None, 14, 14, 1536  591360     ['convnext_tiny_stage_2_block_3_l\n",
            " pointwise_conv_1 (Dense)       )                                ayernorm[0][0]']                 \n",
            "                                                                                                  \n",
            " convnext_tiny_stage_2_block_3_  (None, 14, 14, 1536  0          ['convnext_tiny_stage_2_block_3_p\n",
            " gelu (Activation)              )                                ointwise_conv_1[0][0]']          \n",
            "                                                                                                  \n",
            " convnext_tiny_stage_2_block_3_  (None, 14, 14, 384)  590208     ['convnext_tiny_stage_2_block_3_g\n",
            " pointwise_conv_2 (Dense)                                        elu[0][0]']                      \n",
            "                                                                                                  \n",
            " convnext_tiny_stage_2_block_3_  (None, 14, 14, 384)  384        ['convnext_tiny_stage_2_block_3_p\n",
            " layer_scale (LayerScale)                                        ointwise_conv_2[0][0]']          \n",
            "                                                                                                  \n",
            " convnext_tiny_stage_2_block_3_  (None, 14, 14, 384)  0          ['convnext_tiny_stage_2_block_3_l\n",
            " identity (Activation)                                           ayer_scale[0][0]']               \n",
            "                                                                                                  \n",
            " tf.__operators__.add_9 (TFOpLa  (None, 14, 14, 384)  0          ['tf.__operators__.add_8[0][0]', \n",
            " mbda)                                                            'convnext_tiny_stage_2_block_3_i\n",
            "                                                                 dentity[0][0]']                  \n",
            "                                                                                                  \n",
            " convnext_tiny_stage_2_block_4_  (None, 14, 14, 384)  19200      ['tf.__operators__.add_9[0][0]'] \n",
            " depthwise_conv (Conv2D)                                                                          \n",
            "                                                                                                  \n",
            " convnext_tiny_stage_2_block_4_  (None, 14, 14, 384)  768        ['convnext_tiny_stage_2_block_4_d\n",
            " layernorm (LayerNormalization)                                  epthwise_conv[0][0]']            \n",
            "                                                                                                  \n",
            " convnext_tiny_stage_2_block_4_  (None, 14, 14, 1536  591360     ['convnext_tiny_stage_2_block_4_l\n",
            " pointwise_conv_1 (Dense)       )                                ayernorm[0][0]']                 \n",
            "                                                                                                  \n",
            " convnext_tiny_stage_2_block_4_  (None, 14, 14, 1536  0          ['convnext_tiny_stage_2_block_4_p\n",
            " gelu (Activation)              )                                ointwise_conv_1[0][0]']          \n",
            "                                                                                                  \n",
            " convnext_tiny_stage_2_block_4_  (None, 14, 14, 384)  590208     ['convnext_tiny_stage_2_block_4_g\n",
            " pointwise_conv_2 (Dense)                                        elu[0][0]']                      \n",
            "                                                                                                  \n",
            " convnext_tiny_stage_2_block_4_  (None, 14, 14, 384)  384        ['convnext_tiny_stage_2_block_4_p\n",
            " layer_scale (LayerScale)                                        ointwise_conv_2[0][0]']          \n",
            "                                                                                                  \n",
            " convnext_tiny_stage_2_block_4_  (None, 14, 14, 384)  0          ['convnext_tiny_stage_2_block_4_l\n",
            " identity (Activation)                                           ayer_scale[0][0]']               \n",
            "                                                                                                  \n",
            " tf.__operators__.add_10 (TFOpL  (None, 14, 14, 384)  0          ['tf.__operators__.add_9[0][0]', \n",
            " ambda)                                                           'convnext_tiny_stage_2_block_4_i\n",
            "                                                                 dentity[0][0]']                  \n",
            "                                                                                                  \n",
            " convnext_tiny_stage_2_block_5_  (None, 14, 14, 384)  19200      ['tf.__operators__.add_10[0][0]']\n",
            " depthwise_conv (Conv2D)                                                                          \n",
            "                                                                                                  \n",
            " convnext_tiny_stage_2_block_5_  (None, 14, 14, 384)  768        ['convnext_tiny_stage_2_block_5_d\n",
            " layernorm (LayerNormalization)                                  epthwise_conv[0][0]']            \n",
            "                                                                                                  \n",
            " convnext_tiny_stage_2_block_5_  (None, 14, 14, 1536  591360     ['convnext_tiny_stage_2_block_5_l\n",
            " pointwise_conv_1 (Dense)       )                                ayernorm[0][0]']                 \n",
            "                                                                                                  \n",
            " convnext_tiny_stage_2_block_5_  (None, 14, 14, 1536  0          ['convnext_tiny_stage_2_block_5_p\n",
            " gelu (Activation)              )                                ointwise_conv_1[0][0]']          \n",
            "                                                                                                  \n",
            " convnext_tiny_stage_2_block_5_  (None, 14, 14, 384)  590208     ['convnext_tiny_stage_2_block_5_g\n",
            " pointwise_conv_2 (Dense)                                        elu[0][0]']                      \n",
            "                                                                                                  \n",
            " convnext_tiny_stage_2_block_5_  (None, 14, 14, 384)  384        ['convnext_tiny_stage_2_block_5_p\n",
            " layer_scale (LayerScale)                                        ointwise_conv_2[0][0]']          \n",
            "                                                                                                  \n",
            " convnext_tiny_stage_2_block_5_  (None, 14, 14, 384)  0          ['convnext_tiny_stage_2_block_5_l\n",
            " identity (Activation)                                           ayer_scale[0][0]']               \n",
            "                                                                                                  \n",
            " tf.__operators__.add_11 (TFOpL  (None, 14, 14, 384)  0          ['tf.__operators__.add_10[0][0]',\n",
            " ambda)                                                           'convnext_tiny_stage_2_block_5_i\n",
            "                                                                 dentity[0][0]']                  \n",
            "                                                                                                  \n",
            " convnext_tiny_stage_2_block_6_  (None, 14, 14, 384)  19200      ['tf.__operators__.add_11[0][0]']\n",
            " depthwise_conv (Conv2D)                                                                          \n",
            "                                                                                                  \n",
            " convnext_tiny_stage_2_block_6_  (None, 14, 14, 384)  768        ['convnext_tiny_stage_2_block_6_d\n",
            " layernorm (LayerNormalization)                                  epthwise_conv[0][0]']            \n",
            "                                                                                                  \n",
            " convnext_tiny_stage_2_block_6_  (None, 14, 14, 1536  591360     ['convnext_tiny_stage_2_block_6_l\n",
            " pointwise_conv_1 (Dense)       )                                ayernorm[0][0]']                 \n",
            "                                                                                                  \n",
            " convnext_tiny_stage_2_block_6_  (None, 14, 14, 1536  0          ['convnext_tiny_stage_2_block_6_p\n",
            " gelu (Activation)              )                                ointwise_conv_1[0][0]']          \n",
            "                                                                                                  \n",
            " convnext_tiny_stage_2_block_6_  (None, 14, 14, 384)  590208     ['convnext_tiny_stage_2_block_6_g\n",
            " pointwise_conv_2 (Dense)                                        elu[0][0]']                      \n",
            "                                                                                                  \n",
            " convnext_tiny_stage_2_block_6_  (None, 14, 14, 384)  384        ['convnext_tiny_stage_2_block_6_p\n",
            " layer_scale (LayerScale)                                        ointwise_conv_2[0][0]']          \n",
            "                                                                                                  \n",
            " convnext_tiny_stage_2_block_6_  (None, 14, 14, 384)  0          ['convnext_tiny_stage_2_block_6_l\n",
            " identity (Activation)                                           ayer_scale[0][0]']               \n",
            "                                                                                                  \n",
            " tf.__operators__.add_12 (TFOpL  (None, 14, 14, 384)  0          ['tf.__operators__.add_11[0][0]',\n",
            " ambda)                                                           'convnext_tiny_stage_2_block_6_i\n",
            "                                                                 dentity[0][0]']                  \n",
            "                                                                                                  \n",
            " convnext_tiny_stage_2_block_7_  (None, 14, 14, 384)  19200      ['tf.__operators__.add_12[0][0]']\n",
            " depthwise_conv (Conv2D)                                                                          \n",
            "                                                                                                  \n",
            " convnext_tiny_stage_2_block_7_  (None, 14, 14, 384)  768        ['convnext_tiny_stage_2_block_7_d\n",
            " layernorm (LayerNormalization)                                  epthwise_conv[0][0]']            \n",
            "                                                                                                  \n",
            " convnext_tiny_stage_2_block_7_  (None, 14, 14, 1536  591360     ['convnext_tiny_stage_2_block_7_l\n",
            " pointwise_conv_1 (Dense)       )                                ayernorm[0][0]']                 \n",
            "                                                                                                  \n",
            " convnext_tiny_stage_2_block_7_  (None, 14, 14, 1536  0          ['convnext_tiny_stage_2_block_7_p\n",
            " gelu (Activation)              )                                ointwise_conv_1[0][0]']          \n",
            "                                                                                                  \n",
            " convnext_tiny_stage_2_block_7_  (None, 14, 14, 384)  590208     ['convnext_tiny_stage_2_block_7_g\n",
            " pointwise_conv_2 (Dense)                                        elu[0][0]']                      \n",
            "                                                                                                  \n",
            " convnext_tiny_stage_2_block_7_  (None, 14, 14, 384)  384        ['convnext_tiny_stage_2_block_7_p\n",
            " layer_scale (LayerScale)                                        ointwise_conv_2[0][0]']          \n",
            "                                                                                                  \n",
            " convnext_tiny_stage_2_block_7_  (None, 14, 14, 384)  0          ['convnext_tiny_stage_2_block_7_l\n",
            " identity (Activation)                                           ayer_scale[0][0]']               \n",
            "                                                                                                  \n",
            " tf.__operators__.add_13 (TFOpL  (None, 14, 14, 384)  0          ['tf.__operators__.add_12[0][0]',\n",
            " ambda)                                                           'convnext_tiny_stage_2_block_7_i\n",
            "                                                                 dentity[0][0]']                  \n",
            "                                                                                                  \n",
            " convnext_tiny_stage_2_block_8_  (None, 14, 14, 384)  19200      ['tf.__operators__.add_13[0][0]']\n",
            " depthwise_conv (Conv2D)                                                                          \n",
            "                                                                                                  \n",
            " convnext_tiny_stage_2_block_8_  (None, 14, 14, 384)  768        ['convnext_tiny_stage_2_block_8_d\n",
            " layernorm (LayerNormalization)                                  epthwise_conv[0][0]']            \n",
            "                                                                                                  \n",
            " convnext_tiny_stage_2_block_8_  (None, 14, 14, 1536  591360     ['convnext_tiny_stage_2_block_8_l\n",
            " pointwise_conv_1 (Dense)       )                                ayernorm[0][0]']                 \n",
            "                                                                                                  \n",
            " convnext_tiny_stage_2_block_8_  (None, 14, 14, 1536  0          ['convnext_tiny_stage_2_block_8_p\n",
            " gelu (Activation)              )                                ointwise_conv_1[0][0]']          \n",
            "                                                                                                  \n",
            " convnext_tiny_stage_2_block_8_  (None, 14, 14, 384)  590208     ['convnext_tiny_stage_2_block_8_g\n",
            " pointwise_conv_2 (Dense)                                        elu[0][0]']                      \n",
            "                                                                                                  \n",
            " convnext_tiny_stage_2_block_8_  (None, 14, 14, 384)  384        ['convnext_tiny_stage_2_block_8_p\n",
            " layer_scale (LayerScale)                                        ointwise_conv_2[0][0]']          \n",
            "                                                                                                  \n",
            " convnext_tiny_stage_2_block_8_  (None, 14, 14, 384)  0          ['convnext_tiny_stage_2_block_8_l\n",
            " identity (Activation)                                           ayer_scale[0][0]']               \n",
            "                                                                                                  \n",
            " tf.__operators__.add_14 (TFOpL  (None, 14, 14, 384)  0          ['tf.__operators__.add_13[0][0]',\n",
            " ambda)                                                           'convnext_tiny_stage_2_block_8_i\n",
            "                                                                 dentity[0][0]']                  \n",
            "                                                                                                  \n",
            " convnext_tiny_downsampling_blo  (None, 7, 7, 768)   1181184     ['tf.__operators__.add_14[0][0]']\n",
            " ck_2 (Sequential)                                                                                \n",
            "                                                                                                  \n",
            " convnext_tiny_stage_3_block_0_  (None, 7, 7, 768)   38400       ['convnext_tiny_downsampling_bloc\n",
            " depthwise_conv (Conv2D)                                         k_2[0][0]']                      \n",
            "                                                                                                  \n",
            " convnext_tiny_stage_3_block_0_  (None, 7, 7, 768)   1536        ['convnext_tiny_stage_3_block_0_d\n",
            " layernorm (LayerNormalization)                                  epthwise_conv[0][0]']            \n",
            "                                                                                                  \n",
            " convnext_tiny_stage_3_block_0_  (None, 7, 7, 3072)  2362368     ['convnext_tiny_stage_3_block_0_l\n",
            " pointwise_conv_1 (Dense)                                        ayernorm[0][0]']                 \n",
            "                                                                                                  \n",
            " convnext_tiny_stage_3_block_0_  (None, 7, 7, 3072)  0           ['convnext_tiny_stage_3_block_0_p\n",
            " gelu (Activation)                                               ointwise_conv_1[0][0]']          \n",
            "                                                                                                  \n",
            " convnext_tiny_stage_3_block_0_  (None, 7, 7, 768)   2360064     ['convnext_tiny_stage_3_block_0_g\n",
            " pointwise_conv_2 (Dense)                                        elu[0][0]']                      \n",
            "                                                                                                  \n",
            " convnext_tiny_stage_3_block_0_  (None, 7, 7, 768)   768         ['convnext_tiny_stage_3_block_0_p\n",
            " layer_scale (LayerScale)                                        ointwise_conv_2[0][0]']          \n",
            "                                                                                                  \n",
            " convnext_tiny_stage_3_block_0_  (None, 7, 7, 768)   0           ['convnext_tiny_stage_3_block_0_l\n",
            " identity (Activation)                                           ayer_scale[0][0]']               \n",
            "                                                                                                  \n",
            " tf.__operators__.add_15 (TFOpL  (None, 7, 7, 768)   0           ['convnext_tiny_downsampling_bloc\n",
            " ambda)                                                          k_2[0][0]',                      \n",
            "                                                                  'convnext_tiny_stage_3_block_0_i\n",
            "                                                                 dentity[0][0]']                  \n",
            "                                                                                                  \n",
            " convnext_tiny_stage_3_block_1_  (None, 7, 7, 768)   38400       ['tf.__operators__.add_15[0][0]']\n",
            " depthwise_conv (Conv2D)                                                                          \n",
            "                                                                                                  \n",
            " convnext_tiny_stage_3_block_1_  (None, 7, 7, 768)   1536        ['convnext_tiny_stage_3_block_1_d\n",
            " layernorm (LayerNormalization)                                  epthwise_conv[0][0]']            \n",
            "                                                                                                  \n",
            " convnext_tiny_stage_3_block_1_  (None, 7, 7, 3072)  2362368     ['convnext_tiny_stage_3_block_1_l\n",
            " pointwise_conv_1 (Dense)                                        ayernorm[0][0]']                 \n",
            "                                                                                                  \n",
            " convnext_tiny_stage_3_block_1_  (None, 7, 7, 3072)  0           ['convnext_tiny_stage_3_block_1_p\n",
            " gelu (Activation)                                               ointwise_conv_1[0][0]']          \n",
            "                                                                                                  \n",
            " convnext_tiny_stage_3_block_1_  (None, 7, 7, 768)   2360064     ['convnext_tiny_stage_3_block_1_g\n",
            " pointwise_conv_2 (Dense)                                        elu[0][0]']                      \n",
            "                                                                                                  \n",
            " convnext_tiny_stage_3_block_1_  (None, 7, 7, 768)   768         ['convnext_tiny_stage_3_block_1_p\n",
            " layer_scale (LayerScale)                                        ointwise_conv_2[0][0]']          \n",
            "                                                                                                  \n",
            " convnext_tiny_stage_3_block_1_  (None, 7, 7, 768)   0           ['convnext_tiny_stage_3_block_1_l\n",
            " identity (Activation)                                           ayer_scale[0][0]']               \n",
            "                                                                                                  \n",
            " tf.__operators__.add_16 (TFOpL  (None, 7, 7, 768)   0           ['tf.__operators__.add_15[0][0]',\n",
            " ambda)                                                           'convnext_tiny_stage_3_block_1_i\n",
            "                                                                 dentity[0][0]']                  \n",
            "                                                                                                  \n",
            " convnext_tiny_stage_3_block_2_  (None, 7, 7, 768)   38400       ['tf.__operators__.add_16[0][0]']\n",
            " depthwise_conv (Conv2D)                                                                          \n",
            "                                                                                                  \n",
            " convnext_tiny_stage_3_block_2_  (None, 7, 7, 768)   1536        ['convnext_tiny_stage_3_block_2_d\n",
            " layernorm (LayerNormalization)                                  epthwise_conv[0][0]']            \n",
            "                                                                                                  \n",
            " convnext_tiny_stage_3_block_2_  (None, 7, 7, 3072)  2362368     ['convnext_tiny_stage_3_block_2_l\n",
            " pointwise_conv_1 (Dense)                                        ayernorm[0][0]']                 \n",
            "                                                                                                  \n",
            " convnext_tiny_stage_3_block_2_  (None, 7, 7, 3072)  0           ['convnext_tiny_stage_3_block_2_p\n",
            " gelu (Activation)                                               ointwise_conv_1[0][0]']          \n",
            "                                                                                                  \n",
            " convnext_tiny_stage_3_block_2_  (None, 7, 7, 768)   2360064     ['convnext_tiny_stage_3_block_2_g\n",
            " pointwise_conv_2 (Dense)                                        elu[0][0]']                      \n",
            "                                                                                                  \n",
            " convnext_tiny_stage_3_block_2_  (None, 7, 7, 768)   768         ['convnext_tiny_stage_3_block_2_p\n",
            " layer_scale (LayerScale)                                        ointwise_conv_2[0][0]']          \n",
            "                                                                                                  \n",
            " convnext_tiny_stage_3_block_2_  (None, 7, 7, 768)   0           ['convnext_tiny_stage_3_block_2_l\n",
            " identity (Activation)                                           ayer_scale[0][0]']               \n",
            "                                                                                                  \n",
            " tf.__operators__.add_17 (TFOpL  (None, 7, 7, 768)   0           ['tf.__operators__.add_16[0][0]',\n",
            " ambda)                                                           'convnext_tiny_stage_3_block_2_i\n",
            "                                                                 dentity[0][0]']                  \n",
            "                                                                                                  \n",
            " layer_normalization (LayerNorm  (None, 7, 7, 768)   1536        ['tf.__operators__.add_17[0][0]']\n",
            " alization)                                                                                       \n",
            "                                                                                                  \n",
            "==================================================================================================\n",
            "Total params: 27,820,128\n",
            "Trainable params: 27,820,128\n",
            "Non-trainable params: 0\n",
            "__________________________________________________________________________________________________\n"
          ]
        }
      ],
      "source": [
        "conv_base.summary()\n"
      ]
    },
    {
      "cell_type": "markdown",
      "metadata": {
        "id": "vVx8qd9U-6Jt"
      },
      "source": [
        "We will add a dense layer after our conv_base NN"
      ]
    },
    {
      "cell_type": "code",
      "execution_count": 36,
      "metadata": {
        "id": "NwbCTdFB-6Jt"
      },
      "outputs": [],
      "source": [
        "from keras import models\n",
        "from keras import layers\n",
        "from keras.regularizers import l2, l1\n",
        "from keras.layers import Dense, Flatten, Dropout, BatchNormalization, AveragePooling2D\n",
        "\n",
        "modelPreTConvNTiny = models.Sequential()\n",
        "modelPreTConvNTiny.add(conv_base)\n",
        "\n",
        "modelPreTConvNTiny.add(layers.Flatten())\n",
        "modelPreTConvNTiny.add(layers.Dense(256, activation='relu', kernel_regularizer=l2(0.01)))\n",
        "modelPreTConvNTiny.add(BatchNormalization())\n",
        "modelPreTConvNTiny.add(layers.Dropout(TrainingConfig.DROPOUT))\n",
        "modelPreTConvNTiny.add(layers.Dense(1, activation='sigmoid'))"
      ]
    },
    {
      "cell_type": "code",
      "execution_count": 37,
      "metadata": {
        "colab": {
          "base_uri": "https://localhost:8080/"
        },
        "id": "ULwwwLKQ-6Jt",
        "outputId": "bca81ce0-c589-438d-d7f7-ddc78c5df1fe"
      },
      "outputs": [
        {
          "name": "stdout",
          "output_type": "stream",
          "text": [
            "Model: \"sequential\"\n",
            "_________________________________________________________________\n",
            " Layer (type)                Output Shape              Param #   \n",
            "=================================================================\n",
            " convnext_tiny (Functional)  (None, 7, 7, 768)         27820128  \n",
            "                                                                 \n",
            " flatten (Flatten)           (None, 37632)             0         \n",
            "                                                                 \n",
            " dense (Dense)               (None, 256)               9634048   \n",
            "                                                                 \n",
            " batch_normalization (BatchN  (None, 256)              1024      \n",
            " ormalization)                                                   \n",
            "                                                                 \n",
            " dropout (Dropout)           (None, 256)               0         \n",
            "                                                                 \n",
            " dense_1 (Dense)             (None, 1)                 257       \n",
            "                                                                 \n",
            "=================================================================\n",
            "Total params: 37,455,457\n",
            "Trainable params: 37,454,945\n",
            "Non-trainable params: 512\n",
            "_________________________________________________________________\n"
          ]
        }
      ],
      "source": [
        "modelPreTConvNTiny.summary()"
      ]
    },
    {
      "cell_type": "code",
      "execution_count": 38,
      "metadata": {},
      "outputs": [],
      "source": [
        "# Specify the number of layers to fine tune at the end of the convolutional base.\n",
        "num_layers_fine_tune = TrainingConfig.LAYERS_FINE_TUNE\n",
        "num_layers = len(conv_base.layers)"
      ]
    },
    {
      "cell_type": "code",
      "execution_count": 39,
      "metadata": {
        "colab": {
          "base_uri": "https://localhost:8080/"
        },
        "id": "kkg5O_dq-6Jt",
        "outputId": "0b8e8703-9f13-4415-d6a7-fc5af46bc1eb"
      },
      "outputs": [
        {
          "name": "stdout",
          "output_type": "stream",
          "text": [
            "This is the number of trainable weights before freezing the conv base: 186\n"
          ]
        }
      ],
      "source": [
        "print('This is the number of trainable weights '\n",
        "      'before freezing the conv base:', len(modelPreTConvNTiny.trainable_weights))"
      ]
    },
    {
      "cell_type": "code",
      "execution_count": 40,
      "metadata": {},
      "outputs": [],
      "source": [
        "# Freeze the initial layers in the convolutional base.\n",
        "for model_layer in conv_base.layers[:num_layers - num_layers_fine_tune]:\n",
        "    #print(f\"FREEZING LAYER: {model_layer}\")\n",
        "    model_layer.trainable = False"
      ]
    },
    {
      "cell_type": "code",
      "execution_count": 41,
      "metadata": {
        "id": "KcDo2VlW-6Jt"
      },
      "outputs": [
        {
          "name": "stdout",
          "output_type": "stream",
          "text": [
            "0 input_1 False\n",
            "1 convnext_tiny_prestem_normalization False\n",
            "2 convnext_tiny_stem False\n",
            "3 convnext_tiny_stage_0_block_0_depthwise_conv False\n",
            "4 convnext_tiny_stage_0_block_0_layernorm False\n",
            "5 convnext_tiny_stage_0_block_0_pointwise_conv_1 False\n",
            "6 convnext_tiny_stage_0_block_0_gelu False\n",
            "7 convnext_tiny_stage_0_block_0_pointwise_conv_2 False\n",
            "8 convnext_tiny_stage_0_block_0_layer_scale False\n",
            "9 convnext_tiny_stage_0_block_0_identity False\n",
            "10 tf.__operators__.add False\n",
            "11 convnext_tiny_stage_0_block_1_depthwise_conv False\n",
            "12 convnext_tiny_stage_0_block_1_layernorm False\n",
            "13 convnext_tiny_stage_0_block_1_pointwise_conv_1 False\n",
            "14 convnext_tiny_stage_0_block_1_gelu False\n",
            "15 convnext_tiny_stage_0_block_1_pointwise_conv_2 False\n",
            "16 convnext_tiny_stage_0_block_1_layer_scale False\n",
            "17 convnext_tiny_stage_0_block_1_identity False\n",
            "18 tf.__operators__.add_1 False\n",
            "19 convnext_tiny_stage_0_block_2_depthwise_conv False\n",
            "20 convnext_tiny_stage_0_block_2_layernorm False\n",
            "21 convnext_tiny_stage_0_block_2_pointwise_conv_1 False\n",
            "22 convnext_tiny_stage_0_block_2_gelu False\n",
            "23 convnext_tiny_stage_0_block_2_pointwise_conv_2 False\n",
            "24 convnext_tiny_stage_0_block_2_layer_scale False\n",
            "25 convnext_tiny_stage_0_block_2_identity False\n",
            "26 tf.__operators__.add_2 False\n",
            "27 convnext_tiny_downsampling_block_0 False\n",
            "28 convnext_tiny_stage_1_block_0_depthwise_conv False\n",
            "29 convnext_tiny_stage_1_block_0_layernorm False\n",
            "30 convnext_tiny_stage_1_block_0_pointwise_conv_1 False\n",
            "31 convnext_tiny_stage_1_block_0_gelu False\n",
            "32 convnext_tiny_stage_1_block_0_pointwise_conv_2 False\n",
            "33 convnext_tiny_stage_1_block_0_layer_scale False\n",
            "34 convnext_tiny_stage_1_block_0_identity False\n",
            "35 tf.__operators__.add_3 False\n",
            "36 convnext_tiny_stage_1_block_1_depthwise_conv False\n",
            "37 convnext_tiny_stage_1_block_1_layernorm False\n",
            "38 convnext_tiny_stage_1_block_1_pointwise_conv_1 False\n",
            "39 convnext_tiny_stage_1_block_1_gelu False\n",
            "40 convnext_tiny_stage_1_block_1_pointwise_conv_2 False\n",
            "41 convnext_tiny_stage_1_block_1_layer_scale False\n",
            "42 convnext_tiny_stage_1_block_1_identity False\n",
            "43 tf.__operators__.add_4 False\n",
            "44 convnext_tiny_stage_1_block_2_depthwise_conv False\n",
            "45 convnext_tiny_stage_1_block_2_layernorm False\n",
            "46 convnext_tiny_stage_1_block_2_pointwise_conv_1 False\n",
            "47 convnext_tiny_stage_1_block_2_gelu False\n",
            "48 convnext_tiny_stage_1_block_2_pointwise_conv_2 False\n",
            "49 convnext_tiny_stage_1_block_2_layer_scale False\n",
            "50 convnext_tiny_stage_1_block_2_identity False\n",
            "51 tf.__operators__.add_5 False\n",
            "52 convnext_tiny_downsampling_block_1 False\n",
            "53 convnext_tiny_stage_2_block_0_depthwise_conv False\n",
            "54 convnext_tiny_stage_2_block_0_layernorm False\n",
            "55 convnext_tiny_stage_2_block_0_pointwise_conv_1 False\n",
            "56 convnext_tiny_stage_2_block_0_gelu False\n",
            "57 convnext_tiny_stage_2_block_0_pointwise_conv_2 False\n",
            "58 convnext_tiny_stage_2_block_0_layer_scale False\n",
            "59 convnext_tiny_stage_2_block_0_identity False\n",
            "60 tf.__operators__.add_6 False\n",
            "61 convnext_tiny_stage_2_block_1_depthwise_conv False\n",
            "62 convnext_tiny_stage_2_block_1_layernorm False\n",
            "63 convnext_tiny_stage_2_block_1_pointwise_conv_1 False\n",
            "64 convnext_tiny_stage_2_block_1_gelu False\n",
            "65 convnext_tiny_stage_2_block_1_pointwise_conv_2 False\n",
            "66 convnext_tiny_stage_2_block_1_layer_scale False\n",
            "67 convnext_tiny_stage_2_block_1_identity False\n",
            "68 tf.__operators__.add_7 False\n",
            "69 convnext_tiny_stage_2_block_2_depthwise_conv False\n",
            "70 convnext_tiny_stage_2_block_2_layernorm False\n",
            "71 convnext_tiny_stage_2_block_2_pointwise_conv_1 False\n",
            "72 convnext_tiny_stage_2_block_2_gelu False\n",
            "73 convnext_tiny_stage_2_block_2_pointwise_conv_2 False\n",
            "74 convnext_tiny_stage_2_block_2_layer_scale False\n",
            "75 convnext_tiny_stage_2_block_2_identity False\n",
            "76 tf.__operators__.add_8 False\n",
            "77 convnext_tiny_stage_2_block_3_depthwise_conv False\n",
            "78 convnext_tiny_stage_2_block_3_layernorm False\n",
            "79 convnext_tiny_stage_2_block_3_pointwise_conv_1 False\n",
            "80 convnext_tiny_stage_2_block_3_gelu False\n",
            "81 convnext_tiny_stage_2_block_3_pointwise_conv_2 False\n",
            "82 convnext_tiny_stage_2_block_3_layer_scale False\n",
            "83 convnext_tiny_stage_2_block_3_identity False\n",
            "84 tf.__operators__.add_9 False\n",
            "85 convnext_tiny_stage_2_block_4_depthwise_conv False\n",
            "86 convnext_tiny_stage_2_block_4_layernorm False\n",
            "87 convnext_tiny_stage_2_block_4_pointwise_conv_1 False\n",
            "88 convnext_tiny_stage_2_block_4_gelu False\n",
            "89 convnext_tiny_stage_2_block_4_pointwise_conv_2 False\n",
            "90 convnext_tiny_stage_2_block_4_layer_scale False\n",
            "91 convnext_tiny_stage_2_block_4_identity False\n",
            "92 tf.__operators__.add_10 False\n",
            "93 convnext_tiny_stage_2_block_5_depthwise_conv False\n",
            "94 convnext_tiny_stage_2_block_5_layernorm False\n",
            "95 convnext_tiny_stage_2_block_5_pointwise_conv_1 False\n",
            "96 convnext_tiny_stage_2_block_5_gelu False\n",
            "97 convnext_tiny_stage_2_block_5_pointwise_conv_2 False\n",
            "98 convnext_tiny_stage_2_block_5_layer_scale False\n",
            "99 convnext_tiny_stage_2_block_5_identity False\n",
            "100 tf.__operators__.add_11 False\n",
            "101 convnext_tiny_stage_2_block_6_depthwise_conv False\n",
            "102 convnext_tiny_stage_2_block_6_layernorm False\n",
            "103 convnext_tiny_stage_2_block_6_pointwise_conv_1 False\n",
            "104 convnext_tiny_stage_2_block_6_gelu False\n",
            "105 convnext_tiny_stage_2_block_6_pointwise_conv_2 False\n",
            "106 convnext_tiny_stage_2_block_6_layer_scale False\n",
            "107 convnext_tiny_stage_2_block_6_identity False\n",
            "108 tf.__operators__.add_12 False\n",
            "109 convnext_tiny_stage_2_block_7_depthwise_conv False\n",
            "110 convnext_tiny_stage_2_block_7_layernorm False\n",
            "111 convnext_tiny_stage_2_block_7_pointwise_conv_1 False\n",
            "112 convnext_tiny_stage_2_block_7_gelu False\n",
            "113 convnext_tiny_stage_2_block_7_pointwise_conv_2 False\n",
            "114 convnext_tiny_stage_2_block_7_layer_scale False\n",
            "115 convnext_tiny_stage_2_block_7_identity False\n",
            "116 tf.__operators__.add_13 False\n",
            "117 convnext_tiny_stage_2_block_8_depthwise_conv False\n",
            "118 convnext_tiny_stage_2_block_8_layernorm False\n",
            "119 convnext_tiny_stage_2_block_8_pointwise_conv_1 False\n",
            "120 convnext_tiny_stage_2_block_8_gelu False\n",
            "121 convnext_tiny_stage_2_block_8_pointwise_conv_2 False\n",
            "122 convnext_tiny_stage_2_block_8_layer_scale False\n",
            "123 convnext_tiny_stage_2_block_8_identity False\n",
            "124 tf.__operators__.add_14 False\n",
            "125 convnext_tiny_downsampling_block_2 False\n",
            "126 convnext_tiny_stage_3_block_0_depthwise_conv False\n",
            "127 convnext_tiny_stage_3_block_0_layernorm False\n",
            "128 convnext_tiny_stage_3_block_0_pointwise_conv_1 False\n",
            "129 convnext_tiny_stage_3_block_0_gelu False\n",
            "130 convnext_tiny_stage_3_block_0_pointwise_conv_2 False\n",
            "131 convnext_tiny_stage_3_block_0_layer_scale False\n",
            "132 convnext_tiny_stage_3_block_0_identity False\n",
            "133 tf.__operators__.add_15 False\n",
            "134 convnext_tiny_stage_3_block_1_depthwise_conv False\n",
            "135 convnext_tiny_stage_3_block_1_layernorm False\n",
            "136 convnext_tiny_stage_3_block_1_pointwise_conv_1 False\n",
            "137 convnext_tiny_stage_3_block_1_gelu False\n",
            "138 convnext_tiny_stage_3_block_1_pointwise_conv_2 False\n",
            "139 convnext_tiny_stage_3_block_1_layer_scale False\n",
            "140 convnext_tiny_stage_3_block_1_identity False\n",
            "141 tf.__operators__.add_16 False\n",
            "142 convnext_tiny_stage_3_block_2_depthwise_conv False\n",
            "143 convnext_tiny_stage_3_block_2_layernorm False\n",
            "144 convnext_tiny_stage_3_block_2_pointwise_conv_1 False\n",
            "145 convnext_tiny_stage_3_block_2_gelu False\n",
            "146 convnext_tiny_stage_3_block_2_pointwise_conv_2 False\n",
            "147 convnext_tiny_stage_3_block_2_layer_scale False\n",
            "148 convnext_tiny_stage_3_block_2_identity False\n",
            "149 tf.__operators__.add_17 False\n",
            "150 layer_normalization False\n"
          ]
        }
      ],
      "source": [
        "for i, layer in enumerate(conv_base.layers):\n",
        "   print(i, layer.name, layer.trainable)"
      ]
    },
    {
      "cell_type": "code",
      "execution_count": 42,
      "metadata": {
        "colab": {
          "base_uri": "https://localhost:8080/"
        },
        "id": "6prLuQV--6Jt",
        "outputId": "21272876-2976-4870-ca8a-f63126fc18c8"
      },
      "outputs": [
        {
          "name": "stdout",
          "output_type": "stream",
          "text": [
            "This is the number of trainable weights after freezing the conv base: 6\n"
          ]
        }
      ],
      "source": [
        "print('This is the number of trainable weights '\n",
        "      'after freezing the conv base:', len(modelPreTConvNTiny.trainable_weights))"
      ]
    },
    {
      "cell_type": "code",
      "execution_count": 43,
      "metadata": {},
      "outputs": [
        {
          "name": "stdout",
          "output_type": "stream",
          "text": [
            "Model: \"sequential\"\n",
            "_________________________________________________________________\n",
            " Layer (type)                Output Shape              Param #   \n",
            "=================================================================\n",
            " convnext_tiny (Functional)  (None, 7, 7, 768)         27820128  \n",
            "                                                                 \n",
            " flatten (Flatten)           (None, 37632)             0         \n",
            "                                                                 \n",
            " dense (Dense)               (None, 256)               9634048   \n",
            "                                                                 \n",
            " batch_normalization (BatchN  (None, 256)              1024      \n",
            " ormalization)                                                   \n",
            "                                                                 \n",
            " dropout (Dropout)           (None, 256)               0         \n",
            "                                                                 \n",
            " dense_1 (Dense)             (None, 1)                 257       \n",
            "                                                                 \n",
            "=================================================================\n",
            "Total params: 37,455,457\n",
            "Trainable params: 9,634,817\n",
            "Non-trainable params: 27,820,640\n",
            "_________________________________________________________________\n"
          ]
        }
      ],
      "source": [
        "modelPreTConvNTiny.summary()"
      ]
    },
    {
      "cell_type": "code",
      "execution_count": 44,
      "metadata": {},
      "outputs": [],
      "source": [
        "from keras import optimizers\n",
        "adagrad = optimizers.Adagrad(learning_rate=TrainingConfig.LEARNING_RATE, initial_accumulator_value=0.1, epsilon=TrainingConfig.EPSILON, decay =TrainingConfig.WEIGHT_DECAY)"
      ]
    },
    {
      "cell_type": "code",
      "execution_count": 45,
      "metadata": {
        "id": "P4qDSomz-6Jt"
      },
      "outputs": [],
      "source": [
        "modelPreTConvNTiny.compile(optimizer= adagrad, loss=tf.losses.BinaryCrossentropy(), metrics=['accuracy'])# Adagrad, adam"
      ]
    },
    {
      "cell_type": "code",
      "execution_count": 46,
      "metadata": {},
      "outputs": [],
      "source": [
        "# add checkpoint to store the model on the best epoch for Val acc.\n",
        "checkpoint_filepath = r'C:\\Users\\YannisPC\\PycharmProjects\\Thesis\\Thesis\\checkpoints\\modelConvNextTiny_FT0-{epoch:02d}-{val_accuracy:.4f}.keras'\n",
        "model_checkpoint_callback = keras.callbacks.ModelCheckpoint(\n",
        "    filepath=checkpoint_filepath,\n",
        "    monitor='val_accuracy',\n",
        "    mode='max',\n",
        "    save_best_only=True,\n",
        "    verbose=1)"
      ]
    },
    {
      "cell_type": "code",
      "execution_count": 47,
      "metadata": {},
      "outputs": [
        {
          "name": "stdout",
          "output_type": "stream",
          "text": [
            "100\n"
          ]
        }
      ],
      "source": [
        "print(TrainingConfig.EPOCHS)"
      ]
    },
    {
      "cell_type": "code",
      "execution_count": 58,
      "metadata": {},
      "outputs": [],
      "source": [
        "import time\n",
        "start_time = time.time()"
      ]
    },
    {
      "cell_type": "code",
      "execution_count": 49,
      "metadata": {
        "colab": {
          "base_uri": "https://localhost:8080/"
        },
        "id": "W22LDeK_-6Jt",
        "outputId": "76236d2c-48ce-4882-e86f-4525b6d33cf9"
      },
      "outputs": [
        {
          "name": "stdout",
          "output_type": "stream",
          "text": [
            "Epoch 1/100\n",
            "329/329 [==============================] - ETA: 0s - loss: 5.6168 - accuracy: 0.6769\n",
            "Epoch 1: val_accuracy improved from -inf to 0.80750, saving model to C:\\Users\\YannisPC\\PycharmProjects\\Thesis\\Thesis\\checkpoints\\modelConvNextTiny_FT0-01-0.8075.keras\n",
            "329/329 [==============================] - 272s 794ms/step - loss: 5.6168 - accuracy: 0.6769 - val_loss: 5.3183 - val_accuracy: 0.8075\n",
            "Epoch 2/100\n",
            "329/329 [==============================] - ETA: 0s - loss: 5.3856 - accuracy: 0.7164\n",
            "Epoch 2: val_accuracy did not improve from 0.80750\n",
            "329/329 [==============================] - 237s 720ms/step - loss: 5.3856 - accuracy: 0.7164 - val_loss: 5.2544 - val_accuracy: 0.7518\n",
            "Epoch 3/100\n",
            "329/329 [==============================] - ETA: 0s - loss: 5.2255 - accuracy: 0.7224\n",
            "Epoch 3: val_accuracy improved from 0.80750 to 0.83895, saving model to C:\\Users\\YannisPC\\PycharmProjects\\Thesis\\Thesis\\checkpoints\\modelConvNextTiny_FT0-03-0.8389.keras\n",
            "329/329 [==============================] - 240s 729ms/step - loss: 5.2255 - accuracy: 0.7224 - val_loss: 4.9913 - val_accuracy: 0.8389\n",
            "Epoch 4/100\n",
            "329/329 [==============================] - ETA: 0s - loss: 5.0921 - accuracy: 0.7267\n",
            "Epoch 4: val_accuracy did not improve from 0.83895\n",
            "329/329 [==============================] - 238s 723ms/step - loss: 5.0921 - accuracy: 0.7267 - val_loss: 4.8787 - val_accuracy: 0.8388\n",
            "Epoch 5/100\n",
            "329/329 [==============================] - ETA: 0s - loss: 4.9680 - accuracy: 0.7385\n",
            "Epoch 5: val_accuracy improved from 0.83895 to 0.84434, saving model to C:\\Users\\YannisPC\\PycharmProjects\\Thesis\\Thesis\\checkpoints\\modelConvNextTiny_FT0-05-0.8443.keras\n",
            "329/329 [==============================] - 239s 725ms/step - loss: 4.9680 - accuracy: 0.7385 - val_loss: 4.7577 - val_accuracy: 0.8443\n",
            "Epoch 6/100\n",
            "329/329 [==============================] - ETA: 0s - loss: 4.8676 - accuracy: 0.7371\n",
            "Epoch 6: val_accuracy did not improve from 0.84434\n",
            "329/329 [==============================] - 238s 722ms/step - loss: 4.8676 - accuracy: 0.7371 - val_loss: 4.6782 - val_accuracy: 0.8274\n",
            "Epoch 7/100\n",
            "329/329 [==============================] - ETA: 0s - loss: 4.7722 - accuracy: 0.7411\n",
            "Epoch 7: val_accuracy improved from 0.84434 to 0.84618, saving model to C:\\Users\\YannisPC\\PycharmProjects\\Thesis\\Thesis\\checkpoints\\modelConvNextTiny_FT0-07-0.8462.keras\n",
            "329/329 [==============================] - 237s 720ms/step - loss: 4.7722 - accuracy: 0.7411 - val_loss: 4.5795 - val_accuracy: 0.8462\n",
            "Epoch 8/100\n",
            "329/329 [==============================] - ETA: 0s - loss: 4.6990 - accuracy: 0.7445\n",
            "Epoch 8: val_accuracy did not improve from 0.84618\n",
            "329/329 [==============================] - 239s 726ms/step - loss: 4.6990 - accuracy: 0.7445 - val_loss: 4.5152 - val_accuracy: 0.8314\n",
            "Epoch 9/100\n",
            "329/329 [==============================] - ETA: 0s - loss: 4.6253 - accuracy: 0.7456\n",
            "Epoch 9: val_accuracy improved from 0.84618 to 0.84671, saving model to C:\\Users\\YannisPC\\PycharmProjects\\Thesis\\Thesis\\checkpoints\\modelConvNextTiny_FT0-09-0.8467.keras\n",
            "329/329 [==============================] - 239s 724ms/step - loss: 4.6253 - accuracy: 0.7456 - val_loss: 4.4341 - val_accuracy: 0.8467\n",
            "Epoch 10/100\n",
            "329/329 [==============================] - ETA: 0s - loss: 4.5576 - accuracy: 0.7442\n",
            "Epoch 10: val_accuracy did not improve from 0.84671\n",
            "329/329 [==============================] - 237s 718ms/step - loss: 4.5576 - accuracy: 0.7442 - val_loss: 4.4012 - val_accuracy: 0.8172\n",
            "Epoch 11/100\n",
            "329/329 [==============================] - ETA: 0s - loss: 4.4981 - accuracy: 0.7438\n",
            "Epoch 11: val_accuracy did not improve from 0.84671\n",
            "329/329 [==============================] - 238s 721ms/step - loss: 4.4981 - accuracy: 0.7438 - val_loss: 4.3130 - val_accuracy: 0.8458\n",
            "Epoch 12/100\n",
            "329/329 [==============================] - ETA: 0s - loss: 4.4375 - accuracy: 0.7494\n",
            "Epoch 12: val_accuracy improved from 0.84671 to 0.85263, saving model to C:\\Users\\YannisPC\\PycharmProjects\\Thesis\\Thesis\\checkpoints\\modelConvNextTiny_FT0-12-0.8526.keras\n",
            "329/329 [==============================] - 238s 723ms/step - loss: 4.4375 - accuracy: 0.7494 - val_loss: 4.2497 - val_accuracy: 0.8526\n",
            "Epoch 13/100\n",
            "329/329 [==============================] - ETA: 0s - loss: 4.3878 - accuracy: 0.7503\n",
            "Epoch 13: val_accuracy improved from 0.85263 to 0.85303, saving model to C:\\Users\\YannisPC\\PycharmProjects\\Thesis\\Thesis\\checkpoints\\modelConvNextTiny_FT0-13-0.8530.keras\n",
            "329/329 [==============================] - 240s 727ms/step - loss: 4.3878 - accuracy: 0.7503 - val_loss: 4.1999 - val_accuracy: 0.8530\n",
            "Epoch 14/100\n",
            "329/329 [==============================] - ETA: 0s - loss: 4.3433 - accuracy: 0.7464\n",
            "Epoch 14: val_accuracy did not improve from 0.85303\n",
            "329/329 [==============================] - 238s 723ms/step - loss: 4.3433 - accuracy: 0.7464 - val_loss: 4.1530 - val_accuracy: 0.8530\n",
            "Epoch 15/100\n",
            "329/329 [==============================] - ETA: 0s - loss: 4.2853 - accuracy: 0.7547\n",
            "Epoch 15: val_accuracy did not improve from 0.85303\n",
            "329/329 [==============================] - 236s 718ms/step - loss: 4.2853 - accuracy: 0.7547 - val_loss: 4.1232 - val_accuracy: 0.8418\n",
            "Epoch 16/100\n",
            "329/329 [==============================] - ETA: 0s - loss: 4.2462 - accuracy: 0.7534\n",
            "Epoch 16: val_accuracy did not improve from 0.85303\n",
            "329/329 [==============================] - 239s 726ms/step - loss: 4.2462 - accuracy: 0.7534 - val_loss: 4.0768 - val_accuracy: 0.8463\n",
            "Epoch 17/100\n",
            "329/329 [==============================] - ETA: 0s - loss: 4.2044 - accuracy: 0.7506\n",
            "Epoch 17: val_accuracy did not improve from 0.85303\n",
            "329/329 [==============================] - 238s 723ms/step - loss: 4.2044 - accuracy: 0.7506 - val_loss: 4.0334 - val_accuracy: 0.8514\n",
            "Epoch 18/100\n",
            "329/329 [==============================] - ETA: 0s - loss: 4.1736 - accuracy: 0.7469\n",
            "Epoch 18: val_accuracy improved from 0.85303 to 0.85382, saving model to C:\\Users\\YannisPC\\PycharmProjects\\Thesis\\Thesis\\checkpoints\\modelConvNextTiny_FT0-18-0.8538.keras\n",
            "329/329 [==============================] - 236s 718ms/step - loss: 4.1736 - accuracy: 0.7469 - val_loss: 3.9936 - val_accuracy: 0.8538\n",
            "Epoch 19/100\n",
            "329/329 [==============================] - ETA: 0s - loss: 4.1365 - accuracy: 0.7536\n",
            "Epoch 19: val_accuracy did not improve from 0.85382\n",
            "329/329 [==============================] - 238s 723ms/step - loss: 4.1365 - accuracy: 0.7536 - val_loss: 3.9600 - val_accuracy: 0.8526\n",
            "Epoch 20/100\n",
            "329/329 [==============================] - ETA: 0s - loss: 4.1000 - accuracy: 0.7545\n",
            "Epoch 20: val_accuracy improved from 0.85382 to 0.85461, saving model to C:\\Users\\YannisPC\\PycharmProjects\\Thesis\\Thesis\\checkpoints\\modelConvNextTiny_FT0-20-0.8546.keras\n",
            "329/329 [==============================] - 239s 725ms/step - loss: 4.1000 - accuracy: 0.7545 - val_loss: 3.9236 - val_accuracy: 0.8546\n",
            "Epoch 21/100\n",
            "329/329 [==============================] - ETA: 0s - loss: 4.0673 - accuracy: 0.7526\n",
            "Epoch 21: val_accuracy improved from 0.85461 to 0.85632, saving model to C:\\Users\\YannisPC\\PycharmProjects\\Thesis\\Thesis\\checkpoints\\modelConvNextTiny_FT0-21-0.8563.keras\n",
            "329/329 [==============================] - 240s 729ms/step - loss: 4.0673 - accuracy: 0.7526 - val_loss: 3.8902 - val_accuracy: 0.8563\n",
            "Epoch 22/100\n",
            "329/329 [==============================] - ETA: 0s - loss: 4.0249 - accuracy: 0.7618\n",
            "Epoch 22: val_accuracy did not improve from 0.85632\n",
            "329/329 [==============================] - 239s 724ms/step - loss: 4.0249 - accuracy: 0.7618 - val_loss: 3.8671 - val_accuracy: 0.8501\n",
            "Epoch 23/100\n",
            "329/329 [==============================] - ETA: 0s - loss: 4.0143 - accuracy: 0.7532\n",
            "Epoch 23: val_accuracy did not improve from 0.85632\n",
            "329/329 [==============================] - 237s 719ms/step - loss: 4.0143 - accuracy: 0.7532 - val_loss: 3.8343 - val_accuracy: 0.8534\n",
            "Epoch 24/100\n",
            "329/329 [==============================] - ETA: 0s - loss: 3.9798 - accuracy: 0.7566\n",
            "Epoch 24: val_accuracy did not improve from 0.85632\n",
            "329/329 [==============================] - 240s 727ms/step - loss: 3.9798 - accuracy: 0.7566 - val_loss: 3.8110 - val_accuracy: 0.8508\n",
            "Epoch 25/100\n",
            "329/329 [==============================] - ETA: 0s - loss: 3.9512 - accuracy: 0.7545\n",
            "Epoch 25: val_accuracy did not improve from 0.85632\n",
            "329/329 [==============================] - 239s 726ms/step - loss: 3.9512 - accuracy: 0.7545 - val_loss: 3.7809 - val_accuracy: 0.8543\n",
            "Epoch 26/100\n",
            "329/329 [==============================] - ETA: 0s - loss: 3.9246 - accuracy: 0.7548\n",
            "Epoch 26: val_accuracy did not improve from 0.85632\n",
            "329/329 [==============================] - 236s 720ms/step - loss: 3.9246 - accuracy: 0.7548 - val_loss: 3.7557 - val_accuracy: 0.8549\n",
            "Epoch 27/100\n",
            "329/329 [==============================] - ETA: 0s - loss: 3.9039 - accuracy: 0.7550\n",
            "Epoch 27: val_accuracy did not improve from 0.85632\n",
            "329/329 [==============================] - 237s 720ms/step - loss: 3.9039 - accuracy: 0.7550 - val_loss: 3.7412 - val_accuracy: 0.8458\n",
            "Epoch 28/100\n",
            "329/329 [==============================] - ETA: 0s - loss: 3.8718 - accuracy: 0.7579\n",
            "Epoch 28: val_accuracy did not improve from 0.85632\n",
            "329/329 [==============================] - 237s 719ms/step - loss: 3.8718 - accuracy: 0.7579 - val_loss: 3.7175 - val_accuracy: 0.8464\n",
            "Epoch 29/100\n",
            "329/329 [==============================] - ETA: 0s - loss: 3.8491 - accuracy: 0.7591\n",
            "Epoch 29: val_accuracy did not improve from 0.85632\n",
            "329/329 [==============================] - 237s 720ms/step - loss: 3.8491 - accuracy: 0.7591 - val_loss: 3.6891 - val_accuracy: 0.8533\n",
            "Epoch 30/100\n",
            "329/329 [==============================] - ETA: 0s - loss: 3.8237 - accuracy: 0.7606\n",
            "Epoch 30: val_accuracy did not improve from 0.85632\n",
            "329/329 [==============================] - 237s 719ms/step - loss: 3.8237 - accuracy: 0.7606 - val_loss: 3.6779 - val_accuracy: 0.8425\n",
            "Epoch 31/100\n",
            "329/329 [==============================] - ETA: 0s - loss: 3.8064 - accuracy: 0.7630\n",
            "Epoch 31: val_accuracy did not improve from 0.85632\n",
            "329/329 [==============================] - 237s 719ms/step - loss: 3.8064 - accuracy: 0.7630 - val_loss: 3.6483 - val_accuracy: 0.8522\n",
            "Epoch 32/100\n",
            "329/329 [==============================] - ETA: 0s - loss: 3.7851 - accuracy: 0.7569\n",
            "Epoch 32: val_accuracy did not improve from 0.85632\n",
            "329/329 [==============================] - 240s 730ms/step - loss: 3.7851 - accuracy: 0.7569 - val_loss: 3.6241 - val_accuracy: 0.8563\n",
            "Epoch 33/100\n",
            "329/329 [==============================] - ETA: 0s - loss: 3.7631 - accuracy: 0.7599\n",
            "Epoch 33: val_accuracy did not improve from 0.85632\n",
            "329/329 [==============================] - 242s 734ms/step - loss: 3.7631 - accuracy: 0.7599 - val_loss: 3.6217 - val_accuracy: 0.8395\n",
            "Epoch 34/100\n",
            "329/329 [==============================] - ETA: 0s - loss: 3.7479 - accuracy: 0.7617\n",
            "Epoch 34: val_accuracy did not improve from 0.85632\n",
            "329/329 [==============================] - 241s 732ms/step - loss: 3.7479 - accuracy: 0.7617 - val_loss: 3.6011 - val_accuracy: 0.8417\n",
            "Epoch 35/100\n",
            "329/329 [==============================] - ETA: 0s - loss: 3.7342 - accuracy: 0.7588\n",
            "Epoch 35: val_accuracy did not improve from 0.85632\n",
            "329/329 [==============================] - 242s 735ms/step - loss: 3.7342 - accuracy: 0.7588 - val_loss: 3.5721 - val_accuracy: 0.8517\n",
            "Epoch 36/100\n",
            "329/329 [==============================] - ETA: 0s - loss: 3.7064 - accuracy: 0.7620\n",
            "Epoch 36: val_accuracy did not improve from 0.85632\n",
            "329/329 [==============================] - 241s 731ms/step - loss: 3.7064 - accuracy: 0.7620 - val_loss: 3.5496 - val_accuracy: 0.8558\n",
            "Epoch 37/100\n",
            "329/329 [==============================] - ETA: 0s - loss: 3.6963 - accuracy: 0.7589\n",
            "Epoch 37: val_accuracy did not improve from 0.85632\n",
            "329/329 [==============================] - 241s 732ms/step - loss: 3.6963 - accuracy: 0.7589 - val_loss: 3.5330 - val_accuracy: 0.8563\n",
            "Epoch 38/100\n",
            "329/329 [==============================] - ETA: 0s - loss: 3.6847 - accuracy: 0.7575\n",
            "Epoch 38: val_accuracy did not improve from 0.85632\n",
            "329/329 [==============================] - 241s 732ms/step - loss: 3.6847 - accuracy: 0.7575 - val_loss: 3.5188 - val_accuracy: 0.8545\n",
            "Epoch 39/100\n",
            "329/329 [==============================] - ETA: 0s - loss: 3.6568 - accuracy: 0.7608\n",
            "Epoch 39: val_accuracy did not improve from 0.85632\n",
            "329/329 [==============================] - 240s 729ms/step - loss: 3.6568 - accuracy: 0.7608 - val_loss: 3.5046 - val_accuracy: 0.8533\n",
            "Epoch 40/100\n",
            "329/329 [==============================] - ETA: 0s - loss: 3.6365 - accuracy: 0.7616\n",
            "Epoch 40: val_accuracy did not improve from 0.85632\n",
            "329/329 [==============================] - 240s 728ms/step - loss: 3.6365 - accuracy: 0.7616 - val_loss: 3.4866 - val_accuracy: 0.8550\n",
            "Epoch 41/100\n",
            "329/329 [==============================] - ETA: 0s - loss: 3.6315 - accuracy: 0.7618\n",
            "Epoch 41: val_accuracy did not improve from 0.85632\n",
            "329/329 [==============================] - 240s 729ms/step - loss: 3.6315 - accuracy: 0.7618 - val_loss: 3.4749 - val_accuracy: 0.8516\n",
            "Epoch 42/100\n",
            "329/329 [==============================] - ETA: 0s - loss: 3.6129 - accuracy: 0.7625\n",
            "Epoch 42: val_accuracy did not improve from 0.85632\n",
            "329/329 [==============================] - 240s 729ms/step - loss: 3.6129 - accuracy: 0.7625 - val_loss: 3.4660 - val_accuracy: 0.8466\n",
            "Epoch 43/100\n",
            "329/329 [==============================] - ETA: 0s - loss: 3.5986 - accuracy: 0.7632\n",
            "Epoch 43: val_accuracy did not improve from 0.85632\n",
            "329/329 [==============================] - 240s 728ms/step - loss: 3.5986 - accuracy: 0.7632 - val_loss: 3.4469 - val_accuracy: 0.8508\n",
            "Epoch 44/100\n",
            "329/329 [==============================] - ETA: 0s - loss: 3.5843 - accuracy: 0.7630\n",
            "Epoch 44: val_accuracy did not improve from 0.85632\n",
            "329/329 [==============================] - 241s 731ms/step - loss: 3.5843 - accuracy: 0.7630 - val_loss: 3.4322 - val_accuracy: 0.8511\n",
            "Epoch 45/100\n",
            "329/329 [==============================] - ETA: 0s - loss: 3.5731 - accuracy: 0.7610\n",
            "Epoch 45: val_accuracy did not improve from 0.85632\n",
            "329/329 [==============================] - 240s 728ms/step - loss: 3.5731 - accuracy: 0.7610 - val_loss: 3.4195 - val_accuracy: 0.8508\n",
            "Epoch 46/100\n",
            "329/329 [==============================] - ETA: 0s - loss: 3.5539 - accuracy: 0.7650\n",
            "Epoch 46: val_accuracy did not improve from 0.85632\n",
            "329/329 [==============================] - 241s 732ms/step - loss: 3.5539 - accuracy: 0.7650 - val_loss: 3.4033 - val_accuracy: 0.8532\n",
            "Epoch 47/100\n",
            "329/329 [==============================] - ETA: 0s - loss: 3.5441 - accuracy: 0.7621\n",
            "Epoch 47: val_accuracy did not improve from 0.85632\n",
            "329/329 [==============================] - 241s 731ms/step - loss: 3.5441 - accuracy: 0.7621 - val_loss: 3.3895 - val_accuracy: 0.8532\n",
            "Epoch 48/100\n",
            "329/329 [==============================] - ETA: 0s - loss: 3.5260 - accuracy: 0.7635\n",
            "Epoch 48: val_accuracy did not improve from 0.85632\n",
            "329/329 [==============================] - 240s 730ms/step - loss: 3.5260 - accuracy: 0.7635 - val_loss: 3.3845 - val_accuracy: 0.8478\n",
            "Epoch 49/100\n",
            "329/329 [==============================] - ETA: 0s - loss: 3.5192 - accuracy: 0.7610\n",
            "Epoch 49: val_accuracy did not improve from 0.85632\n",
            "329/329 [==============================] - 241s 731ms/step - loss: 3.5192 - accuracy: 0.7610 - val_loss: 3.3624 - val_accuracy: 0.8562\n",
            "Epoch 50/100\n",
            "329/329 [==============================] - ETA: 0s - loss: 3.5009 - accuracy: 0.7636\n",
            "Epoch 50: val_accuracy did not improve from 0.85632\n",
            "329/329 [==============================] - 242s 733ms/step - loss: 3.5009 - accuracy: 0.7636 - val_loss: 3.3523 - val_accuracy: 0.8532\n",
            "Epoch 51/100\n",
            "329/329 [==============================] - ETA: 0s - loss: 3.4965 - accuracy: 0.7607\n",
            "Epoch 51: val_accuracy did not improve from 0.85632\n",
            "329/329 [==============================] - 244s 742ms/step - loss: 3.4965 - accuracy: 0.7607 - val_loss: 3.3421 - val_accuracy: 0.8524\n",
            "Epoch 52/100\n",
            "329/329 [==============================] - ETA: 0s - loss: 3.4779 - accuracy: 0.7674\n",
            "Epoch 52: val_accuracy did not improve from 0.85632\n",
            "329/329 [==============================] - 249s 757ms/step - loss: 3.4779 - accuracy: 0.7674 - val_loss: 3.3299 - val_accuracy: 0.8532\n",
            "Epoch 53/100\n",
            "329/329 [==============================] - ETA: 0s - loss: 3.4747 - accuracy: 0.7611\n",
            "Epoch 53: val_accuracy improved from 0.85632 to 0.85645, saving model to C:\\Users\\YannisPC\\PycharmProjects\\Thesis\\Thesis\\checkpoints\\modelConvNextTiny_FT0-53-0.8564.keras\n",
            "329/329 [==============================] - 244s 740ms/step - loss: 3.4747 - accuracy: 0.7611 - val_loss: 3.3164 - val_accuracy: 0.8564\n",
            "Epoch 54/100\n",
            "329/329 [==============================] - ETA: 0s - loss: 3.4619 - accuracy: 0.7599\n",
            "Epoch 54: val_accuracy did not improve from 0.85645\n",
            "329/329 [==============================] - 242s 735ms/step - loss: 3.4619 - accuracy: 0.7599 - val_loss: 3.3078 - val_accuracy: 0.8534\n",
            "Epoch 55/100\n",
            "329/329 [==============================] - ETA: 0s - loss: 3.4483 - accuracy: 0.7665\n",
            "Epoch 55: val_accuracy did not improve from 0.85645\n",
            "329/329 [==============================] - 242s 736ms/step - loss: 3.4483 - accuracy: 0.7665 - val_loss: 3.3037 - val_accuracy: 0.8479\n",
            "Epoch 56/100\n",
            "329/329 [==============================] - ETA: 0s - loss: 3.4328 - accuracy: 0.7657\n",
            "Epoch 56: val_accuracy did not improve from 0.85645\n",
            "329/329 [==============================] - 241s 732ms/step - loss: 3.4328 - accuracy: 0.7657 - val_loss: 3.2905 - val_accuracy: 0.8513\n",
            "Epoch 57/100\n",
            "329/329 [==============================] - ETA: 0s - loss: 3.4270 - accuracy: 0.7652\n",
            "Epoch 57: val_accuracy did not improve from 0.85645\n",
            "329/329 [==============================] - 242s 736ms/step - loss: 3.4270 - accuracy: 0.7652 - val_loss: 3.2736 - val_accuracy: 0.8558\n",
            "Epoch 58/100\n",
            "329/329 [==============================] - ETA: 0s - loss: 3.4156 - accuracy: 0.7663\n",
            "Epoch 58: val_accuracy did not improve from 0.85645\n",
            "329/329 [==============================] - 241s 731ms/step - loss: 3.4156 - accuracy: 0.7663 - val_loss: 3.2656 - val_accuracy: 0.8538\n",
            "Epoch 59/100\n",
            "329/329 [==============================] - ETA: 0s - loss: 3.4077 - accuracy: 0.7641\n",
            "Epoch 59: val_accuracy did not improve from 0.85645\n",
            "329/329 [==============================] - 241s 731ms/step - loss: 3.4077 - accuracy: 0.7641 - val_loss: 3.2558 - val_accuracy: 0.8546\n",
            "Epoch 60/100\n",
            "329/329 [==============================] - ETA: 0s - loss: 3.3979 - accuracy: 0.7635\n",
            "Epoch 60: val_accuracy did not improve from 0.85645\n",
            "329/329 [==============================] - 241s 731ms/step - loss: 3.3979 - accuracy: 0.7635 - val_loss: 3.2473 - val_accuracy: 0.8536\n",
            "Epoch 61/100\n",
            "329/329 [==============================] - ETA: 0s - loss: 3.3898 - accuracy: 0.7619\n",
            "Epoch 61: val_accuracy did not improve from 0.85645\n",
            "329/329 [==============================] - 240s 730ms/step - loss: 3.3898 - accuracy: 0.7619 - val_loss: 3.2392 - val_accuracy: 0.8522\n",
            "Epoch 62/100\n",
            "329/329 [==============================] - ETA: 0s - loss: 3.3789 - accuracy: 0.7627\n",
            "Epoch 62: val_accuracy did not improve from 0.85645\n",
            "329/329 [==============================] - 242s 734ms/step - loss: 3.3789 - accuracy: 0.7627 - val_loss: 3.2272 - val_accuracy: 0.8545\n",
            "Epoch 63/100\n",
            "329/329 [==============================] - ETA: 0s - loss: 3.3760 - accuracy: 0.7629\n",
            "Epoch 63: val_accuracy did not improve from 0.85645\n",
            "329/329 [==============================] - 242s 734ms/step - loss: 3.3760 - accuracy: 0.7629 - val_loss: 3.2199 - val_accuracy: 0.8537\n",
            "Epoch 64/100\n",
            "329/329 [==============================] - ETA: 0s - loss: 3.3591 - accuracy: 0.7628\n",
            "Epoch 64: val_accuracy did not improve from 0.85645\n",
            "329/329 [==============================] - 240s 730ms/step - loss: 3.3591 - accuracy: 0.7628 - val_loss: 3.2118 - val_accuracy: 0.8530\n",
            "Epoch 65/100\n",
            "329/329 [==============================] - ETA: 0s - loss: 3.3511 - accuracy: 0.7666\n",
            "Epoch 65: val_accuracy did not improve from 0.85645\n",
            "329/329 [==============================] - 241s 732ms/step - loss: 3.3511 - accuracy: 0.7666 - val_loss: 3.2016 - val_accuracy: 0.8547\n",
            "Epoch 66/100\n",
            "329/329 [==============================] - ETA: 0s - loss: 3.3379 - accuracy: 0.7685\n",
            "Epoch 66: val_accuracy did not improve from 0.85645\n",
            "329/329 [==============================] - 240s 730ms/step - loss: 3.3379 - accuracy: 0.7685 - val_loss: 3.1935 - val_accuracy: 0.8536\n",
            "Epoch 67/100\n",
            "329/329 [==============================] - ETA: 0s - loss: 3.3276 - accuracy: 0.7677\n",
            "Epoch 67: val_accuracy did not improve from 0.85645\n",
            "329/329 [==============================] - 241s 731ms/step - loss: 3.3276 - accuracy: 0.7677 - val_loss: 3.1830 - val_accuracy: 0.8557\n",
            "Epoch 68/100\n",
            "329/329 [==============================] - ETA: 0s - loss: 3.3235 - accuracy: 0.7640\n",
            "Epoch 68: val_accuracy did not improve from 0.85645\n",
            "329/329 [==============================] - 240s 729ms/step - loss: 3.3235 - accuracy: 0.7640 - val_loss: 3.1758 - val_accuracy: 0.8541\n",
            "Epoch 69/100\n",
            "329/329 [==============================] - ETA: 0s - loss: 3.3183 - accuracy: 0.7680\n",
            "Epoch 69: val_accuracy did not improve from 0.85645\n",
            "329/329 [==============================] - 240s 729ms/step - loss: 3.3183 - accuracy: 0.7680 - val_loss: 3.1719 - val_accuracy: 0.8525\n",
            "Epoch 70/100\n",
            "329/329 [==============================] - ETA: 0s - loss: 3.3150 - accuracy: 0.7605\n",
            "Epoch 70: val_accuracy did not improve from 0.85645\n",
            "329/329 [==============================] - 241s 731ms/step - loss: 3.3150 - accuracy: 0.7605 - val_loss: 3.1587 - val_accuracy: 0.8543\n",
            "Epoch 71/100\n",
            "329/329 [==============================] - ETA: 0s - loss: 3.2940 - accuracy: 0.7689\n",
            "Epoch 71: val_accuracy did not improve from 0.85645\n",
            "329/329 [==============================] - 241s 731ms/step - loss: 3.2940 - accuracy: 0.7689 - val_loss: 3.1496 - val_accuracy: 0.8557\n",
            "Epoch 72/100\n",
            "329/329 [==============================] - ETA: 0s - loss: 3.2924 - accuracy: 0.7627\n",
            "Epoch 72: val_accuracy did not improve from 0.85645\n",
            "329/329 [==============================] - 240s 729ms/step - loss: 3.2924 - accuracy: 0.7627 - val_loss: 3.1434 - val_accuracy: 0.8542\n",
            "Epoch 73/100\n",
            "329/329 [==============================] - ETA: 0s - loss: 3.2853 - accuracy: 0.7627\n",
            "Epoch 73: val_accuracy did not improve from 0.85645\n",
            "329/329 [==============================] - 240s 729ms/step - loss: 3.2853 - accuracy: 0.7627 - val_loss: 3.1338 - val_accuracy: 0.8563\n",
            "Epoch 74/100\n",
            "329/329 [==============================] - ETA: 0s - loss: 3.2753 - accuracy: 0.7661\n",
            "Epoch 74: val_accuracy did not improve from 0.85645\n",
            "329/329 [==============================] - 241s 732ms/step - loss: 3.2753 - accuracy: 0.7661 - val_loss: 3.1295 - val_accuracy: 0.8537\n",
            "Epoch 75/100\n",
            "329/329 [==============================] - ETA: 0s - loss: 3.2753 - accuracy: 0.7602\n",
            "Epoch 75: val_accuracy did not improve from 0.85645\n",
            "329/329 [==============================] - 240s 730ms/step - loss: 3.2753 - accuracy: 0.7602 - val_loss: 3.1219 - val_accuracy: 0.8545\n",
            "Epoch 76/100\n",
            "329/329 [==============================] - ETA: 0s - loss: 3.2641 - accuracy: 0.7624\n",
            "Epoch 76: val_accuracy did not improve from 0.85645\n",
            "329/329 [==============================] - 240s 729ms/step - loss: 3.2641 - accuracy: 0.7624 - val_loss: 3.1123 - val_accuracy: 0.8557\n",
            "Epoch 77/100\n",
            "329/329 [==============================] - ETA: 0s - loss: 3.2525 - accuracy: 0.7650\n",
            "Epoch 77: val_accuracy did not improve from 0.85645\n",
            "329/329 [==============================] - 240s 730ms/step - loss: 3.2525 - accuracy: 0.7650 - val_loss: 3.1086 - val_accuracy: 0.8525\n",
            "Epoch 78/100\n",
            "329/329 [==============================] - ETA: 0s - loss: 3.2503 - accuracy: 0.7650\n",
            "Epoch 78: val_accuracy did not improve from 0.85645\n",
            "329/329 [==============================] - 241s 733ms/step - loss: 3.2503 - accuracy: 0.7650 - val_loss: 3.0998 - val_accuracy: 0.8542\n",
            "Epoch 79/100\n",
            "329/329 [==============================] - ETA: 0s - loss: 3.2430 - accuracy: 0.7637\n",
            "Epoch 79: val_accuracy did not improve from 0.85645\n",
            "329/329 [==============================] - 241s 732ms/step - loss: 3.2430 - accuracy: 0.7637 - val_loss: 3.0978 - val_accuracy: 0.8505\n",
            "Epoch 80/100\n",
            "329/329 [==============================] - ETA: 0s - loss: 3.2385 - accuracy: 0.7574\n",
            "Epoch 80: val_accuracy improved from 0.85645 to 0.85776, saving model to C:\\Users\\YannisPC\\PycharmProjects\\Thesis\\Thesis\\checkpoints\\modelConvNextTiny_FT0-80-0.8578.keras\n",
            "329/329 [==============================] - 240s 730ms/step - loss: 3.2385 - accuracy: 0.7574 - val_loss: 3.0830 - val_accuracy: 0.8578\n",
            "Epoch 81/100\n",
            "329/329 [==============================] - ETA: 0s - loss: 3.2191 - accuracy: 0.7691\n",
            "Epoch 81: val_accuracy did not improve from 0.85776\n",
            "329/329 [==============================] - 241s 732ms/step - loss: 3.2191 - accuracy: 0.7691 - val_loss: 3.0795 - val_accuracy: 0.8545\n",
            "Epoch 82/100\n",
            "329/329 [==============================] - ETA: 0s - loss: 3.2177 - accuracy: 0.7680\n",
            "Epoch 82: val_accuracy did not improve from 0.85776\n",
            "329/329 [==============================] - 241s 732ms/step - loss: 3.2177 - accuracy: 0.7680 - val_loss: 3.0731 - val_accuracy: 0.8536\n",
            "Epoch 83/100\n",
            "329/329 [==============================] - ETA: 0s - loss: 3.2150 - accuracy: 0.7645\n",
            "Epoch 83: val_accuracy did not improve from 0.85776\n",
            "329/329 [==============================] - 241s 732ms/step - loss: 3.2150 - accuracy: 0.7645 - val_loss: 3.0650 - val_accuracy: 0.8555\n",
            "Epoch 84/100\n",
            "329/329 [==============================] - ETA: 0s - loss: 3.2066 - accuracy: 0.7659\n",
            "Epoch 84: val_accuracy did not improve from 0.85776\n",
            "329/329 [==============================] - 241s 732ms/step - loss: 3.2066 - accuracy: 0.7659 - val_loss: 3.0605 - val_accuracy: 0.8543\n",
            "Epoch 85/100\n",
            "329/329 [==============================] - ETA: 0s - loss: 3.2000 - accuracy: 0.7656\n",
            "Epoch 85: val_accuracy did not improve from 0.85776\n",
            "329/329 [==============================] - 241s 731ms/step - loss: 3.2000 - accuracy: 0.7656 - val_loss: 3.0526 - val_accuracy: 0.8550\n",
            "Epoch 86/100\n",
            "329/329 [==============================] - ETA: 0s - loss: 3.1970 - accuracy: 0.7642\n",
            "Epoch 86: val_accuracy did not improve from 0.85776\n",
            "329/329 [==============================] - 241s 732ms/step - loss: 3.1970 - accuracy: 0.7642 - val_loss: 3.0462 - val_accuracy: 0.8557\n",
            "Epoch 87/100\n",
            "329/329 [==============================] - ETA: 0s - loss: 3.1840 - accuracy: 0.7690\n",
            "Epoch 87: val_accuracy did not improve from 0.85776\n",
            "329/329 [==============================] - 240s 730ms/step - loss: 3.1840 - accuracy: 0.7690 - val_loss: 3.0396 - val_accuracy: 0.8558\n",
            "Epoch 88/100\n",
            "329/329 [==============================] - ETA: 0s - loss: 3.1917 - accuracy: 0.7602\n",
            "Epoch 88: val_accuracy did not improve from 0.85776\n",
            "329/329 [==============================] - 240s 728ms/step - loss: 3.1917 - accuracy: 0.7602 - val_loss: 3.0343 - val_accuracy: 0.8559\n",
            "Epoch 89/100\n",
            "329/329 [==============================] - ETA: 0s - loss: 3.1786 - accuracy: 0.7683\n",
            "Epoch 89: val_accuracy did not improve from 0.85776\n",
            "329/329 [==============================] - 242s 733ms/step - loss: 3.1786 - accuracy: 0.7683 - val_loss: 3.0273 - val_accuracy: 0.8567\n",
            "Epoch 90/100\n",
            "329/329 [==============================] - ETA: 0s - loss: 3.1718 - accuracy: 0.7664\n",
            "Epoch 90: val_accuracy did not improve from 0.85776\n",
            "329/329 [==============================] - 241s 731ms/step - loss: 3.1718 - accuracy: 0.7664 - val_loss: 3.0233 - val_accuracy: 0.8550\n",
            "Epoch 91/100\n",
            "329/329 [==============================] - ETA: 0s - loss: 3.1626 - accuracy: 0.7664\n",
            "Epoch 91: val_accuracy did not improve from 0.85776\n",
            "329/329 [==============================] - 241s 731ms/step - loss: 3.1626 - accuracy: 0.7664 - val_loss: 3.0185 - val_accuracy: 0.8545\n",
            "Epoch 92/100\n",
            "329/329 [==============================] - ETA: 0s - loss: 3.1596 - accuracy: 0.7601\n",
            "Epoch 92: val_accuracy did not improve from 0.85776\n",
            "329/329 [==============================] - 241s 732ms/step - loss: 3.1596 - accuracy: 0.7601 - val_loss: 3.0116 - val_accuracy: 0.8559\n",
            "Epoch 93/100\n",
            "329/329 [==============================] - ETA: 0s - loss: 3.1567 - accuracy: 0.7632\n",
            "Epoch 93: val_accuracy did not improve from 0.85776\n",
            "329/329 [==============================] - 240s 729ms/step - loss: 3.1567 - accuracy: 0.7632 - val_loss: 3.0052 - val_accuracy: 0.8566\n",
            "Epoch 94/100\n",
            "329/329 [==============================] - ETA: 0s - loss: 3.1470 - accuracy: 0.7678\n",
            "Epoch 94: val_accuracy improved from 0.85776 to 0.85868, saving model to C:\\Users\\YannisPC\\PycharmProjects\\Thesis\\Thesis\\checkpoints\\modelConvNextTiny_FT0-94-0.8587.keras\n",
            "329/329 [==============================] - 243s 738ms/step - loss: 3.1470 - accuracy: 0.7678 - val_loss: 2.9976 - val_accuracy: 0.8587\n",
            "Epoch 95/100\n",
            "329/329 [==============================] - ETA: 0s - loss: 3.1401 - accuracy: 0.7647\n",
            "Epoch 95: val_accuracy did not improve from 0.85868\n",
            "329/329 [==============================] - 242s 734ms/step - loss: 3.1401 - accuracy: 0.7647 - val_loss: 2.9948 - val_accuracy: 0.8562\n",
            "Epoch 96/100\n",
            "329/329 [==============================] - ETA: 0s - loss: 3.1369 - accuracy: 0.7672\n",
            "Epoch 96: val_accuracy did not improve from 0.85868\n",
            "329/329 [==============================] - 241s 732ms/step - loss: 3.1369 - accuracy: 0.7672 - val_loss: 2.9887 - val_accuracy: 0.8562\n",
            "Epoch 97/100\n",
            "329/329 [==============================] - ETA: 0s - loss: 3.1270 - accuracy: 0.7684\n",
            "Epoch 97: val_accuracy did not improve from 0.85868\n",
            "329/329 [==============================] - 243s 737ms/step - loss: 3.1270 - accuracy: 0.7684 - val_loss: 2.9878 - val_accuracy: 0.8521\n",
            "Epoch 98/100\n",
            "329/329 [==============================] - ETA: 0s - loss: 3.1232 - accuracy: 0.7688\n",
            "Epoch 98: val_accuracy did not improve from 0.85868\n",
            "329/329 [==============================] - 242s 733ms/step - loss: 3.1232 - accuracy: 0.7688 - val_loss: 2.9796 - val_accuracy: 0.8553\n",
            "Epoch 99/100\n",
            "329/329 [==============================] - ETA: 0s - loss: 3.1175 - accuracy: 0.7694\n",
            "Epoch 99: val_accuracy did not improve from 0.85868\n",
            "329/329 [==============================] - 241s 733ms/step - loss: 3.1175 - accuracy: 0.7694 - val_loss: 2.9720 - val_accuracy: 0.8568\n",
            "Epoch 100/100\n",
            "329/329 [==============================] - ETA: 0s - loss: 3.1185 - accuracy: 0.7632\n",
            "Epoch 100: val_accuracy did not improve from 0.85868\n",
            "329/329 [==============================] - 241s 730ms/step - loss: 3.1185 - accuracy: 0.7632 - val_loss: 2.9692 - val_accuracy: 0.8557\n"
          ]
        }
      ],
      "source": [
        "histPreT = modelPreTConvNTiny.fit(train_generator, epochs=TrainingConfig.EPOCHS, validation_data=validation_generator, callbacks=[model_checkpoint_callback]) #  epochs 10 are over fitting. early stop at?"
      ]
    },
    {
      "cell_type": "code",
      "execution_count": 50,
      "metadata": {},
      "outputs": [
        {
          "name": "stdout",
          "output_type": "stream",
          "text": [
            "--- 24051.5261824131 seconds ---\n"
          ]
        }
      ],
      "source": [
        "print(\"--- %s seconds ---\" % (time.time() - start_time))"
      ]
    },
    {
      "cell_type": "code",
      "execution_count": 51,
      "metadata": {},
      "outputs": [
        {
          "data": {
            "text/plain": [
              "'c:\\\\Users\\\\YannisPC\\\\PycharmProjects\\\\Thesis\\\\Thesis'"
            ]
          },
          "execution_count": 51,
          "metadata": {},
          "output_type": "execute_result"
        }
      ],
      "source": [
        "Current_dir = os.getcwd()\n",
        "Current_dir"
      ]
    },
    {
      "cell_type": "code",
      "execution_count": 52,
      "metadata": {},
      "outputs": [
        {
          "data": {
            "text/plain": [
              "'c:\\\\Users\\\\YannisPC\\\\PycharmProjects\\\\Thesis\\\\Thesis\\\\History'"
            ]
          },
          "execution_count": 52,
          "metadata": {},
          "output_type": "execute_result"
        }
      ],
      "source": [
        "os.path.join(Current_dir, 'History')"
      ]
    },
    {
      "cell_type": "code",
      "execution_count": 53,
      "metadata": {},
      "outputs": [],
      "source": [
        "import pickle\n",
        "with open(r'c:\\\\Users\\\\YannisPC\\\\PycharmProjects\\\\Thesis\\\\Thesis\\\\History\\\\HistoryDict_ConvNextTiny_FT0', 'wb') as file_pi:\n",
        "    pickle.dump(histPreT.history, file_pi)"
      ]
    },
    {
      "cell_type": "code",
      "execution_count": 54,
      "metadata": {},
      "outputs": [
        {
          "name": "stdout",
          "output_type": "stream",
          "text": [
            "Best epoch: 94\n"
          ]
        }
      ],
      "source": [
        "val_acc_per_epoch = histPreT.history['val_accuracy']\n",
        "best_epoch = val_acc_per_epoch.index(max(val_acc_per_epoch)) + 1\n",
        "print('Best epoch: %d' % (best_epoch,))"
      ]
    },
    {
      "cell_type": "code",
      "execution_count": 55,
      "metadata": {},
      "outputs": [],
      "source": [
        "START_PLOT_FROM_EPOCH= 1"
      ]
    },
    {
      "cell_type": "code",
      "execution_count": 56,
      "metadata": {
        "colab": {
          "base_uri": "https://localhost:8080/",
          "height": 887
        },
        "id": "e3wZrd90-6Jt",
        "outputId": "0630124c-9747-4688-f755-aaf80997102f"
      },
      "outputs": [
        {
          "data": {
            "image/png": "[encoded data removed]",
            "text/plain": [
              "<Figure size 640x480 with 1 Axes>"
            ]
          },
          "metadata": {},
          "output_type": "display_data"
        },
        {
          "data": {
            "image/png": "[encoded data removed]",
            "text/plain": [
              "<Figure size 640x480 with 1 Axes>"
            ]
          },
          "metadata": {},
          "output_type": "display_data"
        }
      ],
      "source": [
        "acc = histPreT.history['accuracy'][START_PLOT_FROM_EPOCH:]\n",
        "val_acc = histPreT.history['val_accuracy'][START_PLOT_FROM_EPOCH:]\n",
        "loss = histPreT.history['loss'][START_PLOT_FROM_EPOCH:]\n",
        "val_loss = histPreT.history['val_loss'][START_PLOT_FROM_EPOCH:]\n",
        "\n",
        "epochs = range(len(acc))\n",
        "\n",
        "plt.plot(epochs, acc, 'bo', label='Training acc')\n",
        "plt.plot(epochs, val_acc, 'b', label='Validation acc')\n",
        "plt.title('Training and validation accuracy')\n",
        "plt.legend()\n",
        "\n",
        "plt.figure()\n",
        "\n",
        "plt.plot(epochs, loss, 'bo', label='Training loss')\n",
        "plt.plot(epochs, val_loss, 'b', label='Validation loss')\n",
        "plt.title('Training and validation loss')\n",
        "plt.legend()\n",
        "\n",
        "plt.show()"
      ]
    },
    {
      "cell_type": "code",
      "execution_count": 57,
      "metadata": {},
      "outputs": [
        {
          "name": "stdout",
          "output_type": "stream",
          "text": [
            "Best epoch: 94\n"
          ]
        }
      ],
      "source": [
        "val_acc_per_epoch = histPreT.history['val_accuracy']\n",
        "best_epoch = val_acc_per_epoch.index(max(val_acc_per_epoch)) + 1\n",
        "print('Best epoch: %d' % (best_epoch,))"
      ]
    },
    {
      "cell_type": "markdown",
      "metadata": {},
      "source": [
        "# Loading best epoch in our model using the checkpoints"
      ]
    },
    {
      "cell_type": "code",
      "execution_count": 48,
      "metadata": {},
      "outputs": [],
      "source": [
        "model_dir= r'C:\\Users\\YannisPC\\PycharmProjects\\Thesis\\Thesis\\checkpoints' "
      ]
    },
    {
      "cell_type": "code",
      "execution_count": 49,
      "metadata": {},
      "outputs": [
        {
          "ename": "NameError",
          "evalue": "name 'val_acc_per_epoch' is not defined",
          "output_type": "error",
          "traceback": [
            "\u001b[1;31m---------------------------------------------------------------------------\u001b[0m",
            "\u001b[1;31mNameError\u001b[0m                                 Traceback (most recent call last)",
            "Cell \u001b[1;32mIn[49], line 1\u001b[0m\n\u001b[1;32m----> 1\u001b[0m best_val_accuracy \u001b[38;5;241m=\u001b[39m \u001b[38;5;28mmax\u001b[39m(\u001b[43mval_acc_per_epoch\u001b[49m)\n\u001b[0;32m      2\u001b[0m best_model_file \u001b[38;5;241m=\u001b[39m \u001b[38;5;124mf\u001b[39m\u001b[38;5;124m'\u001b[39m\u001b[38;5;124mmodel-\u001b[39m\u001b[38;5;132;01m{\u001b[39;00mbest_epoch\u001b[38;5;132;01m:\u001b[39;00m\u001b[38;5;124m02d\u001b[39m\u001b[38;5;132;01m}\u001b[39;00m\u001b[38;5;124m-\u001b[39m\u001b[38;5;132;01m{\u001b[39;00mbest_val_accuracy\u001b[38;5;132;01m:\u001b[39;00m\u001b[38;5;124m.4f\u001b[39m\u001b[38;5;132;01m}\u001b[39;00m\u001b[38;5;124m.keras\u001b[39m\u001b[38;5;124m'\u001b[39m\n\u001b[0;32m      4\u001b[0m \u001b[38;5;28mprint\u001b[39m(\u001b[38;5;124mf\u001b[39m\u001b[38;5;124m'\u001b[39m\u001b[38;5;124mBest model file: \u001b[39m\u001b[38;5;132;01m{\u001b[39;00mbest_model_file\u001b[38;5;132;01m}\u001b[39;00m\u001b[38;5;124m'\u001b[39m)\n",
            "\u001b[1;31mNameError\u001b[0m: name 'val_acc_per_epoch' is not defined"
          ]
        }
      ],
      "source": [
        "best_val_accuracy = max(val_acc_per_epoch)\n",
        "best_model_file = f'model-{best_epoch:02d}-{best_val_accuracy:.4f}.keras'\n",
        "\n",
        "print(f'Best model file: {best_model_file}')"
      ]
    },
    {
      "cell_type": "code",
      "execution_count": 50,
      "metadata": {},
      "outputs": [
        {
          "ename": "NameError",
          "evalue": "name 'best_model_file' is not defined",
          "output_type": "error",
          "traceback": [
            "\u001b[1;31m---------------------------------------------------------------------------\u001b[0m",
            "\u001b[1;31mNameError\u001b[0m                                 Traceback (most recent call last)",
            "Cell \u001b[1;32mIn[50], line 2\u001b[0m\n\u001b[0;32m      1\u001b[0m \u001b[38;5;66;03m# Construct the full path to the best model file\u001b[39;00m\n\u001b[1;32m----> 2\u001b[0m best_model_path \u001b[38;5;241m=\u001b[39m os\u001b[38;5;241m.\u001b[39mpath\u001b[38;5;241m.\u001b[39mjoin(model_dir, \u001b[43mbest_model_file\u001b[49m)\n\u001b[0;32m      3\u001b[0m best_model_path\n",
            "\u001b[1;31mNameError\u001b[0m: name 'best_model_file' is not defined"
          ]
        }
      ],
      "source": [
        "# Construct the full path to the best model file\n",
        "best_model_path = os.path.join(model_dir, best_model_file)\n",
        "best_model_path"
      ]
    },
    {
      "cell_type": "code",
      "execution_count": 51,
      "metadata": {},
      "outputs": [
        {
          "data": {
            "text/plain": [
              "'C:\\\\Users\\\\YannisPC\\\\PycharmProjects\\\\Thesis\\\\Thesis\\\\checkpoints'"
            ]
          },
          "execution_count": 51,
          "metadata": {},
          "output_type": "execute_result"
        }
      ],
      "source": [
        "os.chdir(model_dir)\n",
        "Current_dir = os.getcwd()\n",
        "Current_dir"
      ]
    },
    {
      "cell_type": "code",
      "execution_count": 52,
      "metadata": {},
      "outputs": [
        {
          "data": {
            "text/plain": [
              "['checkpoints.lnk',\n",
              " 'ConvNextTiny_FT10-01-0.7364.keras',\n",
              " 'ConvNextTiny_FT10-02-0.8338.keras',\n",
              " 'ConvNextTiny_FT10-04-0.8345.keras',\n",
              " 'ConvNextTiny_FT10-06-0.8470.keras',\n",
              " 'ConvNextTiny_FT10-08-0.8511.keras',\n",
              " 'ConvNextTiny_FT10-10-0.8541.keras',\n",
              " 'ConvNextTiny_FT10-22-0.8542.keras',\n",
              " 'ConvNextTiny_FT10-27-0.8543.keras',\n",
              " 'ConvNextTiny_FT10-31-0.8563.keras',\n",
              " 'ConvNextTiny_FT10-33-0.8572.keras',\n",
              " 'ConvNextTiny_FT10-39-0.8575.keras',\n",
              " 'ConvNextTiny_FT10-42-0.8582.keras',\n",
              " 'ConvNextTiny_FT10-44-0.8584.keras',\n",
              " 'modelConvNextTiny_FT0-01-0.8075.keras',\n",
              " 'modelConvNextTiny_FT0-03-0.8389.keras',\n",
              " 'modelConvNextTiny_FT0-05-0.8443.keras',\n",
              " 'modelConvNextTiny_FT0-07-0.8462.keras',\n",
              " 'modelConvNextTiny_FT0-09-0.8467.keras',\n",
              " 'modelConvNextTiny_FT0-12-0.8526.keras',\n",
              " 'modelConvNextTiny_FT0-13-0.8530.keras',\n",
              " 'modelConvNextTiny_FT0-18-0.8538.keras',\n",
              " 'modelConvNextTiny_FT0-20-0.8546.keras',\n",
              " 'modelConvNextTiny_FT0-21-0.8563.keras',\n",
              " 'modelConvNextTiny_FT0-53-0.8564.keras',\n",
              " 'modelConvNextTiny_FT0-80-0.8578.keras',\n",
              " 'modelConvNextTiny_FT0-94-0.8587.keras']"
            ]
          },
          "execution_count": 52,
          "metadata": {},
          "output_type": "execute_result"
        }
      ],
      "source": [
        "from os import listdir\n",
        "from os.path import isfile, join\n",
        "onlyfiles = [f for f in listdir(model_dir) if isfile(join(model_dir, f))]\n",
        "onlyfiles"
      ]
    },
    {
      "cell_type": "code",
      "execution_count": 53,
      "metadata": {},
      "outputs": [],
      "source": [
        "class LayerScale(layers.Layer):\n",
        "    \"\"\"Layer scale module.\n",
        "\n",
        "    References:\n",
        "      - https://arxiv.org/abs/2103.17239\n",
        "\n",
        "    Args:\n",
        "      init_values (float): Initial value for layer scale. Should be within\n",
        "        [0, 1].\n",
        "      projection_dim (int): Projection dimensionality.\n",
        "\n",
        "    Returns:\n",
        "      Tensor multiplied to the scale.\n",
        "    \"\"\"\n",
        "\n",
        "    def __init__(self, init_values, projection_dim, **kwargs):\n",
        "        super().__init__(**kwargs)\n",
        "        self.init_values = init_values\n",
        "        self.projection_dim = projection_dim\n",
        "\n",
        "    def build(self, input_shape):\n",
        "        self.gamma = tf.Variable(\n",
        "            self.init_values * tf.ones((self.projection_dim,))\n",
        "        )\n",
        "\n",
        "    def call(self, x):\n",
        "        return x * self.gamma\n",
        "\n",
        "    def get_config(self):\n",
        "        config = super().get_config()\n",
        "        config.update(\n",
        "            {\n",
        "                \"init_values\": self.init_values,\n",
        "                \"projection_dim\": self.projection_dim,\n",
        "            }\n",
        "        )\n",
        "        return config"
      ]
    },
    {
      "cell_type": "code",
      "execution_count": 54,
      "metadata": {},
      "outputs": [
        {
          "name": "stdout",
          "output_type": "stream",
          "text": [
            "Model: \"sequential\"\n",
            "_________________________________________________________________\n",
            " Layer (type)                Output Shape              Param #   \n",
            "=================================================================\n",
            " convnext_tiny (Functional)  (None, 7, 7, 768)         27820128  \n",
            "                                                                 \n",
            " flatten (Flatten)           (None, 37632)             0         \n",
            "                                                                 \n",
            " dense (Dense)               (None, 256)               9634048   \n",
            "                                                                 \n",
            " batch_normalization (BatchN  (None, 256)              1024      \n",
            " ormalization)                                                   \n",
            "                                                                 \n",
            " dropout (Dropout)           (None, 256)               0         \n",
            "                                                                 \n",
            " dense_1 (Dense)             (None, 1)                 257       \n",
            "                                                                 \n",
            "=================================================================\n",
            "Total params: 37,455,457\n",
            "Trainable params: 9,634,817\n",
            "Non-trainable params: 27,820,640\n",
            "_________________________________________________________________\n"
          ]
        }
      ],
      "source": [
        "from keras.models import load_model\n",
        "#loaded_model = load_model(os.path.join('checkpoints',best_model_file))\n",
        "loaded_model = load_model('modelConvNextTiny_FT0-94-0.8587.keras', custom_objects={\"LayerScale\": LayerScale }) #\n",
        "loaded_model.summary()"
      ]
    },
    {
      "cell_type": "markdown",
      "metadata": {},
      "source": [
        "## Evaluate"
      ]
    },
    {
      "cell_type": "code",
      "execution_count": 59,
      "metadata": {
        "id": "r_Nq7Xip7rrJ"
      },
      "outputs": [],
      "source": [
        "from tensorflow.keras.metrics import Precision, Recall, BinaryAccuracy"
      ]
    },
    {
      "cell_type": "code",
      "execution_count": 60,
      "metadata": {},
      "outputs": [],
      "source": [
        "start_time = time.time()"
      ]
    },
    {
      "cell_type": "code",
      "execution_count": 61,
      "metadata": {
        "id": "tgHLiCoC-6Jt"
      },
      "outputs": [
        {
          "name": "stdout",
          "output_type": "stream",
          "text": [
            "Found 6000 images belonging to 2 classes.\n",
            "60/60 [==============================] - 51s 730ms/step - loss: 3.0063 - accuracy: 0.8502\n",
            "test acc: 0.8501666784286499\n",
            "test loss: 3.006267547607422\n"
          ]
        }
      ],
      "source": [
        "test_generator = test_datagen.flow_from_directory(\n",
        "        test_dir,\n",
        "        target_size=(224, 224),\n",
        "        batch_size=TrainingConfig.EPOCHS,\n",
        "        class_mode='binary')\n",
        "\n",
        "test_loss, test_acc = loaded_model.evaluate(test_generator, steps=len(test_generator))  # steps_per_epoch * epochs\n",
        "print('test acc:', test_acc)\n",
        "print('test loss:', test_loss)\n"
      ]
    },
    {
      "cell_type": "code",
      "execution_count": 62,
      "metadata": {},
      "outputs": [
        {
          "name": "stdout",
          "output_type": "stream",
          "text": [
            "--- 51.291699171066284 Training set > seconds ---\n"
          ]
        }
      ],
      "source": [
        "print(\"--- %s Training set > seconds ---\" % (time.time() - start_time))"
      ]
    },
    {
      "cell_type": "code",
      "execution_count": 74,
      "metadata": {},
      "outputs": [],
      "source": [
        "from sklearn.metrics import confusion_matrix, ConfusionMatrixDisplay\n",
        "\n",
        "# Initialize lists to collect true labels and predictions\n",
        "true_labels = []\n",
        "predicted_labels = []"
      ]
    },
    {
      "cell_type": "code",
      "execution_count": 75,
      "metadata": {},
      "outputs": [
        {
          "name": "stdout",
          "output_type": "stream",
          "text": [
            "4/4 [==============================] - 1s 183ms/step\n",
            "4/4 [==============================] - 1s 182ms/step\n",
            "4/4 [==============================] - 1s 183ms/step\n",
            "4/4 [==============================] - 1s 183ms/step\n",
            "4/4 [==============================] - 1s 182ms/step\n",
            "4/4 [==============================] - 1s 185ms/step\n",
            "4/4 [==============================] - 1s 182ms/step\n",
            "4/4 [==============================] - 1s 182ms/step\n",
            "4/4 [==============================] - 1s 183ms/step\n",
            "4/4 [==============================] - 1s 182ms/step\n",
            "4/4 [==============================] - 1s 185ms/step\n",
            "4/4 [==============================] - 1s 186ms/step\n",
            "4/4 [==============================] - 1s 188ms/step\n",
            "4/4 [==============================] - 1s 184ms/step\n",
            "4/4 [==============================] - 1s 182ms/step\n",
            "4/4 [==============================] - 1s 181ms/step\n",
            "4/4 [==============================] - 1s 177ms/step\n",
            "4/4 [==============================] - 1s 183ms/step\n",
            "4/4 [==============================] - 1s 183ms/step\n",
            "4/4 [==============================] - 1s 181ms/step\n",
            "4/4 [==============================] - 1s 190ms/step\n",
            "4/4 [==============================] - 1s 186ms/step\n",
            "4/4 [==============================] - 1s 186ms/step\n",
            "4/4 [==============================] - 1s 187ms/step\n",
            "4/4 [==============================] - 1s 188ms/step\n",
            "4/4 [==============================] - 1s 188ms/step\n",
            "4/4 [==============================] - 1s 187ms/step\n",
            "4/4 [==============================] - 1s 175ms/step\n",
            "4/4 [==============================] - 1s 175ms/step\n",
            "4/4 [==============================] - 1s 175ms/step\n",
            "4/4 [==============================] - 1s 175ms/step\n",
            "4/4 [==============================] - 1s 175ms/step\n",
            "4/4 [==============================] - 1s 175ms/step\n",
            "4/4 [==============================] - 1s 175ms/step\n",
            "4/4 [==============================] - 1s 175ms/step\n",
            "4/4 [==============================] - 1s 175ms/step\n",
            "4/4 [==============================] - 1s 175ms/step\n",
            "4/4 [==============================] - 1s 175ms/step\n",
            "4/4 [==============================] - 1s 175ms/step\n",
            "4/4 [==============================] - 1s 175ms/step\n",
            "4/4 [==============================] - 1s 174ms/step\n",
            "4/4 [==============================] - 1s 175ms/step\n",
            "4/4 [==============================] - 1s 175ms/step\n",
            "4/4 [==============================] - 1s 176ms/step\n",
            "4/4 [==============================] - 1s 175ms/step\n",
            "4/4 [==============================] - 1s 174ms/step\n",
            "4/4 [==============================] - 1s 174ms/step\n",
            "4/4 [==============================] - 1s 174ms/step\n",
            "4/4 [==============================] - 1s 174ms/step\n",
            "4/4 [==============================] - 1s 174ms/step\n",
            "4/4 [==============================] - 1s 175ms/step\n",
            "4/4 [==============================] - 1s 175ms/step\n",
            "4/4 [==============================] - 1s 174ms/step\n",
            "4/4 [==============================] - 1s 175ms/step\n",
            "4/4 [==============================] - 1s 175ms/step\n",
            "4/4 [==============================] - 1s 175ms/step\n",
            "4/4 [==============================] - 1s 175ms/step\n",
            "4/4 [==============================] - 1s 175ms/step\n",
            "4/4 [==============================] - 1s 175ms/step\n",
            "4/4 [==============================] - 1s 175ms/step\n"
          ]
        }
      ],
      "source": [
        "for _ in range(len(test_generator)):\n",
        "    X, y = next(test_generator)\n",
        "\n",
        "    yhat = loaded_model.predict(X)\n",
        "    \n",
        "    y_true_batch = y # Labels\n",
        "    \n",
        "    # Convert probabilities to class labels using a threshold of 0.5\n",
        "    y_pred_batch = (yhat > 0.5).astype(int)\n",
        "\n",
        "    # Append the true labels and predictions for this batch to the lists\n",
        "    true_labels.extend(y_true_batch)\n",
        "    predicted_labels.extend(y_pred_batch)\n",
        "\n",
        "    if len(true_labels) >= test_generator.n:\n",
        "        break"
      ]
    },
    {
      "cell_type": "code",
      "execution_count": 76,
      "metadata": {},
      "outputs": [],
      "source": [
        "# Convert lists to numpy arrays\n",
        "true_labels = np.array(true_labels)\n",
        "predicted_labels = np.array(predicted_labels)"
      ]
    },
    {
      "cell_type": "code",
      "execution_count": 77,
      "metadata": {},
      "outputs": [
        {
          "data": {
            "text/plain": [
              "array([[2520,  489],\n",
              "       [ 412, 2579]], dtype=int64)"
            ]
          },
          "execution_count": 77,
          "metadata": {},
          "output_type": "execute_result"
        }
      ],
      "source": [
        "# Compute the confusion matrix\n",
        "cm = confusion_matrix(true_labels, predicted_labels)\n",
        "cm"
      ]
    },
    {
      "cell_type": "code",
      "execution_count": 78,
      "metadata": {},
      "outputs": [
        {
          "data": {
            "image/png": "[encoded data removed]",
            "text/plain": [
              "<Figure size 640x480 with 2 Axes>"
            ]
          },
          "metadata": {},
          "output_type": "display_data"
        }
      ],
      "source": [
        "# Plot the confusion matrix\n",
        "disp = ConfusionMatrixDisplay(confusion_matrix=cm, display_labels=['Class 0', 'Class 1'])\n",
        "disp.plot(cmap=plt.cm.Blues)\n",
        "plt.show()"
      ]
    },
    {
      "cell_type": "code",
      "execution_count": 79,
      "metadata": {},
      "outputs": [],
      "source": [
        "from sklearn.metrics import precision_score\n",
        "from sklearn.metrics import recall_score\n",
        "from sklearn.metrics import roc_auc_score\n",
        "from sklearn.metrics import f1_score"
      ]
    },
    {
      "cell_type": "code",
      "execution_count": 80,
      "metadata": {},
      "outputs": [
        {
          "data": {
            "text/plain": [
              "0.8512955933322329"
            ]
          },
          "execution_count": 80,
          "metadata": {},
          "output_type": "execute_result"
        }
      ],
      "source": [
        "f1_score(true_labels, predicted_labels)"
      ]
    },
    {
      "cell_type": "code",
      "execution_count": 81,
      "metadata": {},
      "outputs": [
        {
          "data": {
            "text/plain": [
              "0.840612777053455"
            ]
          },
          "execution_count": 81,
          "metadata": {},
          "output_type": "execute_result"
        }
      ],
      "source": [
        "# precision tp / (tp + fp)\n",
        "precision = precision_score(true_labels, predicted_labels)\n",
        "precision"
      ]
    },
    {
      "cell_type": "code",
      "execution_count": 82,
      "metadata": {},
      "outputs": [
        {
          "data": {
            "text/plain": [
              "0.8622534269475092"
            ]
          },
          "execution_count": 82,
          "metadata": {},
          "output_type": "execute_result"
        }
      ],
      "source": [
        "# recall: tp / (tp + fn)\n",
        "recall = recall_score(true_labels, predicted_labels)\n",
        "recall"
      ]
    },
    {
      "cell_type": "code",
      "execution_count": 83,
      "metadata": {},
      "outputs": [
        {
          "name": "stdout",
          "output_type": "stream",
          "text": [
            "ROC AUC: 0.849870\n"
          ]
        }
      ],
      "source": [
        "# ROC AUC\n",
        "auc = roc_auc_score(true_labels, predicted_labels)\n",
        "print('ROC AUC: %f' % auc)"
      ]
    }
  ],
  "metadata": {
    "accelerator": "GPU",
    "colab": {
      "gpuType": "L4",
      "include_colab_link": true,
      "machine_shape": "hm",
      "provenance": []
    },
    "kernelspec": {
      "display_name": "Python 3",
      "name": "python3"
    },
    "language_info": {
      "codemirror_mode": {
        "name": "ipython",
        "version": 3
      },
      "file_extension": ".py",
      "mimetype": "text/x-python",
      "name": "python",
      "nbconvert_exporter": "python",
      "pygments_lexer": "ipython3",
      "version": "3.9.13"
    }
  },
  "nbformat": 4,
  "nbformat_minor": 0
}
