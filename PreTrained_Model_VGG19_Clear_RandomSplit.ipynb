{
  "cells": [
    {
      "cell_type": "markdown",
      "metadata": {
        "colab_type": "text",
        "id": "view-in-github"
      },
      "source": [
        "<a href=\"https://colab.research.google.com/github/johnnysDeu/Thesis/blob/main/PreTrained_Model.ipynb\" target=\"_parent\"><img src=\"https://colab.research.google.com/assets/colab-badge.svg\" alt=\"Open In Colab\"/></a>"
      ]
    },
    {
      "cell_type": "markdown",
      "metadata": {
        "id": "Nf97B3mB-6Ji"
      },
      "source": [
        "https://www.youtube.com/watch?v=jztwpsIzEGc\n",
        "\n",
        "Building a CNN from scratch with any image dataset"
      ]
    },
    {
      "cell_type": "markdown",
      "metadata": {
        "id": "Zuaha7JK-6Jj"
      },
      "source": [
        "!pip install tensorflow tensorflow-gpu opencv-python matplotlib"
      ]
    },
    {
      "cell_type": "code",
      "execution_count": 1,
      "metadata": {
        "id": "9F-3tLoS-6Jk"
      },
      "outputs": [],
      "source": [
        "#!pip install \"tensorflow<2.11\""
      ]
    },
    {
      "cell_type": "code",
      "execution_count": 2,
      "metadata": {
        "id": "0Q0sXDdr-6Jk"
      },
      "outputs": [],
      "source": [
        "#!pip install tensorflow tensorflow-gpu opencv-python matplotlib"
      ]
    },
    {
      "cell_type": "code",
      "execution_count": 3,
      "metadata": {
        "id": "ze2HI0C1-6Jk"
      },
      "outputs": [],
      "source": [
        "#!pip install torchvision"
      ]
    },
    {
      "cell_type": "code",
      "execution_count": 4,
      "metadata": {
        "id": "eHaZm8sS-6Jk"
      },
      "outputs": [],
      "source": [
        "\n",
        "#!pip list\n",
        "import torch"
      ]
    },
    {
      "cell_type": "code",
      "execution_count": 5,
      "metadata": {
        "id": "VTJsjK8k-6Jl"
      },
      "outputs": [],
      "source": [
        "#!nvidia-smi"
      ]
    },
    {
      "cell_type": "code",
      "execution_count": 6,
      "metadata": {
        "id": "Pc4Ak-MX-6Jl"
      },
      "outputs": [],
      "source": [
        "#!pip install torch==1.10.1+cu113 torchvision==0.11.2+cu113 torchaudio===0.10.1+cu113 -f https://download.pytorch.org/whl/cu113/torch_stable.html"
      ]
    },
    {
      "cell_type": "code",
      "execution_count": 7,
      "metadata": {
        "id": "9qmltHoh-6Jl"
      },
      "outputs": [],
      "source": [
        "# add headings with ##(space) on the markdowns"
      ]
    },
    {
      "cell_type": "code",
      "execution_count": 8,
      "metadata": {
        "id": "Oefqb7pK-6Jl"
      },
      "outputs": [],
      "source": [
        "#!pip install tensorflor keras"
      ]
    },
    {
      "cell_type": "code",
      "execution_count": 9,
      "metadata": {
        "id": "9_5zqcvh-6Jl"
      },
      "outputs": [],
      "source": [
        "import tensorflow as tf\n",
        "import os"
      ]
    },
    {
      "cell_type": "code",
      "execution_count": 10,
      "metadata": {
        "colab": {
          "base_uri": "https://localhost:8080/"
        },
        "id": "pp9-KNO_XLJk",
        "outputId": "6744d109-58a8-4e55-860f-55eb54942aa4"
      },
      "outputs": [
        {
          "name": "stdout",
          "output_type": "stream",
          "text": [
            "Mon Jun  3 12:08:54 2024       \n",
            "+---------------------------------------------------------------------------------------+\n",
            "| NVIDIA-SMI 536.67                 Driver Version: 536.67       CUDA Version: 12.2     |\n",
            "|-----------------------------------------+----------------------+----------------------+\n",
            "| GPU  Name                     TCC/WDDM  | Bus-Id        Disp.A | Volatile Uncorr. ECC |\n",
            "| Fan  Temp   Perf          Pwr:Usage/Cap |         Memory-Usage | GPU-Util  Compute M. |\n",
            "|                                         |                      |               MIG M. |\n",
            "|=========================================+======================+======================|\n",
            "|   0  NVIDIA GeForce GTX 1660 ...  WDDM  | 00000000:2D:00.0  On |                  N/A |\n",
            "| 61%   50C    P8              18W / 125W |    707MiB /  6144MiB |     20%      Default |\n",
            "|                                         |                      |                  N/A |\n",
            "+-----------------------------------------+----------------------+----------------------+\n",
            "                                                                                         \n",
            "+---------------------------------------------------------------------------------------+\n",
            "| Processes:                                                                            |\n",
            "|  GPU   GI   CI        PID   Type   Process name                            GPU Memory |\n",
            "|        ID   ID                                                             Usage      |\n",
            "|=======================================================================================|\n",
            "|    0   N/A  N/A      1688    C+G   ...e Stream\\91.0.2.0\\GoogleDriveFS.exe    N/A      |\n",
            "|    0   N/A  N/A      2248    C+G   ...ekyb3d8bbwe\\PhoneExperienceHost.exe    N/A      |\n",
            "|    0   N/A  N/A      3468    C+G   ...soft Office\\root\\Office16\\EXCEL.EXE    N/A      |\n",
            "|    0   N/A  N/A      5628    C+G   ...2txyewy\\StartMenuExperienceHost.exe    N/A      |\n",
            "|    0   N/A  N/A      7880    C+G   ...5n1h2txyewy\\ShellExperienceHost.exe    N/A      |\n",
            "|    0   N/A  N/A      9584    C+G   C:\\Windows\\explorer.exe                   N/A      |\n",
            "|    0   N/A  N/A     11436    C+G   ...GeForce Experience\\NVIDIA Share.exe    N/A      |\n",
            "|    0   N/A  N/A     13888    C+G   ...crosoft\\Edge\\Application\\msedge.exe    N/A      |\n",
            "|    0   N/A  N/A     14892    C+G   ...64__8wekyb3d8bbwe\\CalculatorApp.exe    N/A      |\n",
            "|    0   N/A  N/A     15024    C+G   ....Search_cw5n1h2txyewy\\SearchApp.exe    N/A      |\n",
            "|    0   N/A  N/A     15112    C+G   ...t.LockApp_cw5n1h2txyewy\\LockApp.exe    N/A      |\n",
            "|    0   N/A  N/A     15124    C+G   ...05.0_x64__8wekyb3d8bbwe\\Cortana.exe    N/A      |\n",
            "|    0   N/A  N/A     15264    C+G   ...les\\Microsoft OneDrive\\OneDrive.exe    N/A      |\n",
            "|    0   N/A  N/A     16020    C+G   ...Programs\\Microsoft VS Code\\Code.exe    N/A      |\n",
            "|    0   N/A  N/A     18388    C+G   ...on\\125.0.2535.79\\msedgewebview2.exe    N/A      |\n",
            "|    0   N/A  N/A     18980    C+G   ...on\\125.0.2535.79\\msedgewebview2.exe    N/A      |\n",
            "|    0   N/A  N/A     24248    C+G   ...am Files\\CyberGhost 8\\Dashboard.exe    N/A      |\n",
            "|    0   N/A  N/A     25300    C+G   ...CBS_cw5n1h2txyewy\\TextInputHost.exe    N/A      |\n",
            "|    0   N/A  N/A     29084    C+G   ....Search_cw5n1h2txyewy\\SearchApp.exe    N/A      |\n",
            "+---------------------------------------------------------------------------------------+\n"
          ]
        }
      ],
      "source": [
        "!nvidia-smi"
      ]
    },
    {
      "cell_type": "code",
      "execution_count": 11,
      "metadata": {
        "colab": {
          "base_uri": "https://localhost:8080/"
        },
        "id": "qkjlmr5C-6Jl",
        "outputId": "ee4947bd-e593-4a95-d056-cd5c5a96edb2"
      },
      "outputs": [
        {
          "data": {
            "text/plain": [
              "[PhysicalDevice(name='/physical_device:GPU:0', device_type='GPU')]"
            ]
          },
          "execution_count": 11,
          "metadata": {},
          "output_type": "execute_result"
        }
      ],
      "source": [
        "gpus = tf.config.experimental.list_physical_devices('GPU')\n",
        "gpus"
      ]
    },
    {
      "cell_type": "code",
      "execution_count": 12,
      "metadata": {
        "colab": {
          "base_uri": "https://localhost:8080/"
        },
        "id": "Ig6dym2M-6Jm",
        "outputId": "9fc23f8a-8818-4670-8a29-5ad344823bf3"
      },
      "outputs": [
        {
          "name": "stdout",
          "output_type": "stream",
          "text": [
            "Num GPUs Available:  1\n"
          ]
        }
      ],
      "source": [
        "print(\"Num GPUs Available: \", len(tf.config.list_physical_devices('GPU')))"
      ]
    },
    {
      "cell_type": "code",
      "execution_count": 13,
      "metadata": {
        "id": "3w44-mIA-6Jm"
      },
      "outputs": [],
      "source": [
        "#! nvidia-smi"
      ]
    },
    {
      "cell_type": "code",
      "execution_count": 14,
      "metadata": {
        "id": "TuXlkzYf-6Jm"
      },
      "outputs": [],
      "source": [
        "#!pip install opencv-python"
      ]
    },
    {
      "cell_type": "markdown",
      "metadata": {
        "id": "-3sJDXlu-6Jm"
      },
      "source": [
        "## Imports"
      ]
    },
    {
      "cell_type": "code",
      "execution_count": 15,
      "metadata": {
        "id": "-2RGi19W-6Jm"
      },
      "outputs": [],
      "source": [
        "import tensorflow as tf\n",
        "import os\n",
        "import cv2\n",
        "import imghdr"
      ]
    },
    {
      "cell_type": "code",
      "execution_count": 16,
      "metadata": {
        "colab": {
          "base_uri": "https://localhost:8080/"
        },
        "id": "hYaa5Q6wlz2U",
        "outputId": "6d877a84-c172-43f1-8221-8f4f91d3adb8"
      },
      "outputs": [],
      "source": [
        "#from google.colab import drive\n",
        "#drive.mount('/content/drive')"
      ]
    },
    {
      "cell_type": "code",
      "execution_count": 17,
      "metadata": {
        "id": "NqDqKYkQ-6Jm"
      },
      "outputs": [],
      "source": [
        "import numpy as np\n",
        "from matplotlib import pyplot as plt"
      ]
    },
    {
      "cell_type": "markdown",
      "metadata": {
        "id": "Ps6t8B9L-6Jn"
      },
      "source": [
        "# Load Data"
      ]
    },
    {
      "cell_type": "code",
      "execution_count": 18,
      "metadata": {
        "id": "aeKoMZqj-6Jn"
      },
      "outputs": [],
      "source": [
        "#tf.data.Dataset??"
      ]
    },
    {
      "cell_type": "code",
      "execution_count": 19,
      "metadata": {
        "id": "eLfpsxW9-6Jn"
      },
      "outputs": [],
      "source": [
        "#tf.keras.utils.audio_dataset_from_directory??"
      ]
    },
    {
      "cell_type": "code",
      "execution_count": 20,
      "metadata": {},
      "outputs": [],
      "source": [
        "base_dir = r\"C:\\Users\\YannisPC\\PycharmProjects\\Thesis\\Thesis\\READY_BALANCED_SAME_SIZE_Random_Split\""
      ]
    },
    {
      "cell_type": "code",
      "execution_count": 21,
      "metadata": {
        "colab": {
          "base_uri": "https://localhost:8080/"
        },
        "id": "EDUxCNky-6Jn",
        "outputId": "14c20a4d-64cd-4421-8de3-ec12eb9dda14"
      },
      "outputs": [
        {
          "name": "stdout",
          "output_type": "stream",
          "text": [
            "Found 34600 files belonging to 3 classes.\n"
          ]
        }
      ],
      "source": [
        "data=tf.keras.utils.image_dataset_from_directory('READY_BALANCED_SAME_SIZE_Random_Split', batch_size=32, image_size=(224,224))"
      ]
    },
    {
      "cell_type": "markdown",
      "metadata": {
        "id": "uJ0UVyCQ-6Jq"
      },
      "source": [
        "# Split Data"
      ]
    },
    {
      "cell_type": "code",
      "execution_count": 22,
      "metadata": {
        "colab": {
          "base_uri": "https://localhost:8080/"
        },
        "id": "knV1jDUD-6Jq",
        "outputId": "50f1446d-6355-4acd-f509-c5440328e53e"
      },
      "outputs": [],
      "source": [
        "train_dir = os.path.join(base_dir, 'train')\n",
        "validation_dir = os.path.join(base_dir, 'validation')\n",
        "test_dir = os.path.join(base_dir, 'test')"
      ]
    },
    {
      "cell_type": "code",
      "execution_count": 23,
      "metadata": {
        "id": "Hf-N_1PI-6Jq"
      },
      "outputs": [
        {
          "data": {
            "text/plain": [
              "'C:\\\\Users\\\\YannisPC\\\\PycharmProjects\\\\Thesis\\\\Thesis\\\\READY_BALANCED_SAME_SIZE_Random_Split\\\\train\\\\Sample'"
            ]
          },
          "execution_count": 23,
          "metadata": {},
          "output_type": "execute_result"
        }
      ],
      "source": [
        "train_Ads_dir = os.path.join(train_dir, 'Ads')\n",
        "train_sample_dir = os.path.join(train_dir, 'Sample')\n",
        "train_sample_dir"
      ]
    },
    {
      "cell_type": "code",
      "execution_count": 24,
      "metadata": {
        "colab": {
          "base_uri": "https://localhost:8080/"
        },
        "id": "RR4lk-PK-6Jq",
        "outputId": "d9fbbdec-e425-4bd2-af75-32f3fbb86936"
      },
      "outputs": [
        {
          "data": {
            "text/plain": [
              "'C:\\\\Users\\\\YannisPC\\\\PycharmProjects\\\\Thesis\\\\Thesis\\\\READY_BALANCED_SAME_SIZE_Random_Split\\\\validation\\\\Ads'"
            ]
          },
          "execution_count": 24,
          "metadata": {},
          "output_type": "execute_result"
        }
      ],
      "source": [
        "validation_Ads_dir = os.path.join(validation_dir, 'Ads')\n",
        "validation_sample_dir = os.path.join(validation_dir, 'Sample')\n",
        "validation_Ads_dir\n"
      ]
    },
    {
      "cell_type": "code",
      "execution_count": 25,
      "metadata": {
        "id": "JwHehlf4-6Jq"
      },
      "outputs": [
        {
          "data": {
            "text/plain": [
              "'C:\\\\Users\\\\YannisPC\\\\PycharmProjects\\\\Thesis\\\\Thesis\\\\READY_BALANCED_SAME_SIZE_Random_Split\\\\test\\\\Ads'"
            ]
          },
          "execution_count": 25,
          "metadata": {},
          "output_type": "execute_result"
        }
      ],
      "source": [
        "test_Ads_dir = os.path.join(test_dir, 'Ads')\n",
        "test_sample_dir = os.path.join(test_dir, 'Sample')\n",
        "test_Ads_dir"
      ]
    },
    {
      "cell_type": "code",
      "execution_count": 26,
      "metadata": {
        "id": "fbi_AoAO-6Jq"
      },
      "outputs": [
        {
          "name": "stdout",
          "output_type": "stream",
          "text": [
            "total training Ads images: 10500\n"
          ]
        }
      ],
      "source": [
        "print('total training Ads images:', len(os.listdir(train_Ads_dir)))"
      ]
    },
    {
      "cell_type": "code",
      "execution_count": 27,
      "metadata": {
        "id": "h4bgQrIL-6Jq"
      },
      "outputs": [
        {
          "name": "stdout",
          "output_type": "stream",
          "text": [
            "total training sample images: 10500\n"
          ]
        }
      ],
      "source": [
        "print('total training sample images:', len(os.listdir(train_sample_dir)))"
      ]
    },
    {
      "cell_type": "code",
      "execution_count": 28,
      "metadata": {
        "colab": {
          "base_uri": "https://localhost:8080/"
        },
        "id": "X_YHrO9Y-6Jq",
        "outputId": "15bf628d-bf34-4ce7-ad11-fe568bf61432"
      },
      "outputs": [
        {
          "name": "stdout",
          "output_type": "stream",
          "text": [
            "total validation Ads images: 3650\n"
          ]
        }
      ],
      "source": [
        "print('total validation Ads images:', len(os.listdir(validation_Ads_dir)))"
      ]
    },
    {
      "cell_type": "code",
      "execution_count": 29,
      "metadata": {},
      "outputs": [
        {
          "name": "stdout",
          "output_type": "stream",
          "text": [
            "total validation sample images: 3950\n"
          ]
        }
      ],
      "source": [
        "print('total validation sample images:', len(os.listdir(validation_sample_dir)))"
      ]
    },
    {
      "cell_type": "code",
      "execution_count": 30,
      "metadata": {},
      "outputs": [
        {
          "name": "stdout",
          "output_type": "stream",
          "text": [
            "total test Ads images: 3000\n"
          ]
        }
      ],
      "source": [
        "print('total test Ads images:', len(os.listdir(test_Ads_dir)))"
      ]
    },
    {
      "cell_type": "code",
      "execution_count": 31,
      "metadata": {},
      "outputs": [
        {
          "name": "stdout",
          "output_type": "stream",
          "text": [
            "total test sample images: 3000\n"
          ]
        }
      ],
      "source": [
        "print('total test sample images:', len(os.listdir(test_sample_dir)))"
      ]
    },
    {
      "cell_type": "markdown",
      "metadata": {},
      "source": [
        "# Data Preprocesing- Augmentation"
      ]
    },
    {
      "cell_type": "markdown",
      "metadata": {},
      "source": [
        "Start with basic transformations and gradually introduce more complex techniques based on experimentation and validation results. "
      ]
    },
    {
      "cell_type": "code",
      "execution_count": 32,
      "metadata": {},
      "outputs": [
        {
          "name": "stdout",
          "output_type": "stream",
          "text": [
            "Found 21000 images belonging to 2 classes.\n",
            "Found 7600 images belonging to 2 classes.\n"
          ]
        }
      ],
      "source": [
        "from keras.preprocessing.image import ImageDataGenerator\n",
        "\n",
        "## with Augmentation\n",
        "train_datagen = ImageDataGenerator(\n",
        "    rescale=1./255,\n",
        "    rotation_range=40,\n",
        "    width_shift_range=0.2,\n",
        "    height_shift_range=0.2,\n",
        "    shear_range=0.2,\n",
        "    zoom_range=0.2,\n",
        "    horizontal_flip=True,\n",
        "    fill_mode='nearest')\n",
        "\n",
        "# NO Augmentation\n",
        "# train_datagen = ImageDataGenerator(\n",
        "#     rescale=1./255,\n",
        "#     #rotation_range=40,\n",
        "#     #width_shift_range=0.2,\n",
        "#     #height_shift_range=0.2,\n",
        "#     #shear_range=0.2,\n",
        "#     #zoom_range=0.2,\n",
        "#     #horizontal_flip=True\n",
        "#     )\n",
        "\n",
        "\n",
        "# Note that the validation data should not be augmented!\n",
        "test_datagen = ImageDataGenerator(rescale=1./255)\n",
        "\n",
        "train_generator = train_datagen.flow_from_directory(\n",
        "        # This is the target directory\n",
        "        train_dir,\n",
        "        # All images will be resized to 150x150\n",
        "        #target_size=(224, 224),\n",
        "        target_size=(224, 224),\n",
        "        batch_size=64, #32\n",
        "        # Since we use binary_crossentropy loss, we need binary labels\n",
        "        class_mode='binary')\n",
        "\n",
        "validation_generator = test_datagen.flow_from_directory(\n",
        "        validation_dir,\n",
        "        #target_size=(224, 224),\n",
        "        target_size=(224, 224),\n",
        "        batch_size=64,\n",
        "        class_mode='binary')"
      ]
    },
    {
      "cell_type": "markdown",
      "metadata": {},
      "source": [
        "## Pretrained Model VGG19"
      ]
    },
    {
      "cell_type": "code",
      "execution_count": 33,
      "metadata": {
        "id": "l38QgkUe-6Js"
      },
      "outputs": [],
      "source": [
        "import keras\n",
        "from keras.models import load_model\n"
      ]
    },
    {
      "cell_type": "markdown",
      "metadata": {
        "id": "w4AL2-e8-6Js"
      },
      "source": [
        "# Appling a Pre-trained CNN on our Dataset for comparison"
      ]
    },
    {
      "cell_type": "markdown",
      "metadata": {
        "id": "2wcDjEV1-6Jt"
      },
      "source": [
        "The VGG19 model"
      ]
    },
    {
      "cell_type": "code",
      "execution_count": 34,
      "metadata": {
        "id": "OcyKdKno-6Jt"
      },
      "outputs": [],
      "source": [
        "from keras.applications import VGG19\n",
        "\n",
        "conv_base = VGG19(weights='imagenet',\n",
        "                 include_top=False,\n",
        "                 input_shape=(224, 224, 3))# input_shape=(224, 224, 3)0"
      ]
    },
    {
      "cell_type": "code",
      "execution_count": 35,
      "metadata": {
        "colab": {
          "base_uri": "https://localhost:8080/"
        },
        "id": "lRiAZIlI-6Jt",
        "outputId": "9254a8c6-9f28-4ea9-9b11-6553544bb4c5"
      },
      "outputs": [
        {
          "name": "stdout",
          "output_type": "stream",
          "text": [
            "Model: \"vgg19\"\n",
            "_________________________________________________________________\n",
            " Layer (type)                Output Shape              Param #   \n",
            "=================================================================\n",
            " input_1 (InputLayer)        [(None, 224, 224, 3)]     0         \n",
            "                                                                 \n",
            " block1_conv1 (Conv2D)       (None, 224, 224, 64)      1792      \n",
            "                                                                 \n",
            " block1_conv2 (Conv2D)       (None, 224, 224, 64)      36928     \n",
            "                                                                 \n",
            " block1_pool (MaxPooling2D)  (None, 112, 112, 64)      0         \n",
            "                                                                 \n",
            " block2_conv1 (Conv2D)       (None, 112, 112, 128)     73856     \n",
            "                                                                 \n",
            " block2_conv2 (Conv2D)       (None, 112, 112, 128)     147584    \n",
            "                                                                 \n",
            " block2_pool (MaxPooling2D)  (None, 56, 56, 128)       0         \n",
            "                                                                 \n",
            " block3_conv1 (Conv2D)       (None, 56, 56, 256)       295168    \n",
            "                                                                 \n",
            " block3_conv2 (Conv2D)       (None, 56, 56, 256)       590080    \n",
            "                                                                 \n",
            " block3_conv3 (Conv2D)       (None, 56, 56, 256)       590080    \n",
            "                                                                 \n",
            " block3_conv4 (Conv2D)       (None, 56, 56, 256)       590080    \n",
            "                                                                 \n",
            " block3_pool (MaxPooling2D)  (None, 28, 28, 256)       0         \n",
            "                                                                 \n",
            " block4_conv1 (Conv2D)       (None, 28, 28, 512)       1180160   \n",
            "                                                                 \n",
            " block4_conv2 (Conv2D)       (None, 28, 28, 512)       2359808   \n",
            "                                                                 \n",
            " block4_conv3 (Conv2D)       (None, 28, 28, 512)       2359808   \n",
            "                                                                 \n",
            " block4_conv4 (Conv2D)       (None, 28, 28, 512)       2359808   \n",
            "                                                                 \n",
            " block4_pool (MaxPooling2D)  (None, 14, 14, 512)       0         \n",
            "                                                                 \n",
            " block5_conv1 (Conv2D)       (None, 14, 14, 512)       2359808   \n",
            "                                                                 \n",
            " block5_conv2 (Conv2D)       (None, 14, 14, 512)       2359808   \n",
            "                                                                 \n",
            " block5_conv3 (Conv2D)       (None, 14, 14, 512)       2359808   \n",
            "                                                                 \n",
            " block5_conv4 (Conv2D)       (None, 14, 14, 512)       2359808   \n",
            "                                                                 \n",
            " block5_pool (MaxPooling2D)  (None, 7, 7, 512)         0         \n",
            "                                                                 \n",
            "=================================================================\n",
            "Total params: 20,024,384\n",
            "Trainable params: 20,024,384\n",
            "Non-trainable params: 0\n",
            "_________________________________________________________________\n"
          ]
        }
      ],
      "source": [
        "conv_base.summary()\n"
      ]
    },
    {
      "cell_type": "markdown",
      "metadata": {
        "id": "vVx8qd9U-6Jt"
      },
      "source": [
        "We will add a dense layer after our conv_base NN"
      ]
    },
    {
      "cell_type": "code",
      "execution_count": 36,
      "metadata": {
        "id": "NwbCTdFB-6Jt"
      },
      "outputs": [],
      "source": [
        "from keras import models\n",
        "from keras import layers\n",
        "\n",
        "modelPreT = models.Sequential()\n",
        "modelPreT.add(conv_base)\n",
        "\n",
        "modelPreT.add(layers.Flatten())\n",
        "modelPreT.add(layers.Dense(256, activation='relu'))# add dropout model.add(layers.Dropout(0.5))\n",
        "modelPreT.add(layers.Dropout(0.5))\n",
        "modelPreT.add(layers.Dense(1, activation='sigmoid'))"
      ]
    },
    {
      "cell_type": "code",
      "execution_count": 37,
      "metadata": {
        "colab": {
          "base_uri": "https://localhost:8080/"
        },
        "id": "ULwwwLKQ-6Jt",
        "outputId": "bca81ce0-c589-438d-d7f7-ddc78c5df1fe"
      },
      "outputs": [
        {
          "name": "stdout",
          "output_type": "stream",
          "text": [
            "Model: \"sequential\"\n",
            "_________________________________________________________________\n",
            " Layer (type)                Output Shape              Param #   \n",
            "=================================================================\n",
            " vgg19 (Functional)          (None, 7, 7, 512)         20024384  \n",
            "                                                                 \n",
            " flatten (Flatten)           (None, 25088)             0         \n",
            "                                                                 \n",
            " dense (Dense)               (None, 256)               6422784   \n",
            "                                                                 \n",
            " dropout (Dropout)           (None, 256)               0         \n",
            "                                                                 \n",
            " dense_1 (Dense)             (None, 1)                 257       \n",
            "                                                                 \n",
            "=================================================================\n",
            "Total params: 26,447,425\n",
            "Trainable params: 26,447,425\n",
            "Non-trainable params: 0\n",
            "_________________________________________________________________\n"
          ]
        }
      ],
      "source": [
        "modelPreT.summary()"
      ]
    },
    {
      "cell_type": "markdown",
      "metadata": {
        "id": "uMXaoWB1-6Jt"
      },
      "source": [
        "Before training the model, we need to separate the pretrained model from our DNN which is added on top of that. So that when we train our model we dont ruin the pretrained weights and biased of the VGG16"
      ]
    },
    {
      "cell_type": "code",
      "execution_count": 38,
      "metadata": {
        "colab": {
          "base_uri": "https://localhost:8080/"
        },
        "id": "kkg5O_dq-6Jt",
        "outputId": "0b8e8703-9f13-4415-d6a7-fc5af46bc1eb"
      },
      "outputs": [
        {
          "name": "stdout",
          "output_type": "stream",
          "text": [
            "This is the number of trainable weights before freezing the conv base: 36\n"
          ]
        }
      ],
      "source": [
        "print('This is the number of trainable weights '\n",
        "      'before freezing the conv base:', len(modelPreT.trainable_weights))"
      ]
    },
    {
      "cell_type": "code",
      "execution_count": 39,
      "metadata": {
        "id": "KcDo2VlW-6Jt"
      },
      "outputs": [],
      "source": [
        "conv_base.trainable = False"
      ]
    },
    {
      "cell_type": "code",
      "execution_count": 40,
      "metadata": {
        "colab": {
          "base_uri": "https://localhost:8080/"
        },
        "id": "6prLuQV--6Jt",
        "outputId": "21272876-2976-4870-ca8a-f63126fc18c8"
      },
      "outputs": [
        {
          "name": "stdout",
          "output_type": "stream",
          "text": [
            "This is the number of trainable weights after freezing the conv base: 4\n"
          ]
        }
      ],
      "source": [
        "print('This is the number of trainable weights '\n",
        "      'after freezing the conv base:', len(modelPreT.trainable_weights))"
      ]
    },
    {
      "cell_type": "code",
      "execution_count": 41,
      "metadata": {},
      "outputs": [
        {
          "name": "stdout",
          "output_type": "stream",
          "text": [
            "Model: \"sequential\"\n",
            "_________________________________________________________________\n",
            " Layer (type)                Output Shape              Param #   \n",
            "=================================================================\n",
            " vgg19 (Functional)          (None, 7, 7, 512)         20024384  \n",
            "                                                                 \n",
            " flatten (Flatten)           (None, 25088)             0         \n",
            "                                                                 \n",
            " dense (Dense)               (None, 256)               6422784   \n",
            "                                                                 \n",
            " dropout (Dropout)           (None, 256)               0         \n",
            "                                                                 \n",
            " dense_1 (Dense)             (None, 1)                 257       \n",
            "                                                                 \n",
            "=================================================================\n",
            "Total params: 26,447,425\n",
            "Trainable params: 6,423,041\n",
            "Non-trainable params: 20,024,384\n",
            "_________________________________________________________________\n"
          ]
        }
      ],
      "source": [
        "modelPreT.summary()"
      ]
    },
    {
      "cell_type": "code",
      "execution_count": 47,
      "metadata": {},
      "outputs": [],
      "source": [
        "# add checkpoint to store the model on the best epoch for Val acc.\n",
        "checkpoint_filepath = r'C:\\Users\\YannisPC\\PycharmProjects\\Thesis\\Thesis\\modelscheckpoint.model.keras'\n",
        "model_checkpoint_callback = keras.callbacks.ModelCheckpoint(\n",
        "    filepath=checkpoint_filepath,\n",
        "    monitor='val_accuracy',\n",
        "    mode='max',\n",
        "    save_best_only=True,\n",
        "    verbose=1)"
      ]
    },
    {
      "cell_type": "code",
      "execution_count": 48,
      "metadata": {
        "id": "P4qDSomz-6Jt"
      },
      "outputs": [
        {
          "name": "stderr",
          "output_type": "stream",
          "text": [
            "C:\\Users\\YannisPC\\AppData\\Local\\Packages\\PythonSoftwareFoundation.Python.3.9_qbz5n2kfra8p0\\LocalCache\\local-packages\\Python39\\site-packages\\keras\\optimizers\\optimizer_v2\\rmsprop.py:140: UserWarning: The `lr` argument is deprecated, use `learning_rate` instead.\n",
            "  super().__init__(name, **kwargs)\n"
          ]
        }
      ],
      "source": [
        "from keras import optimizers\n",
        "modelPreT.compile(optimizer= optimizers.RMSprop(lr=1e-4), loss=tf.losses.BinaryCrossentropy(), metrics=['accuracy'])# Adagrad, adam"
      ]
    },
    {
      "cell_type": "code",
      "execution_count": 49,
      "metadata": {
        "id": "L8r54f_c-6Jt"
      },
      "outputs": [
        {
          "name": "stdout",
          "output_type": "stream",
          "text": [
            "Epochs len:  329\n",
            "Val len:  119\n"
          ]
        }
      ],
      "source": [
        "len(train_generator)\n",
        "len(validation_generator)\n",
        "\n",
        "epochs_len = len(train_generator)\n",
        "Val_len = len(validation_generator)\n",
        "print(\"Epochs len: \", epochs_len)\n",
        "print(\"Val len: \", Val_len)"
      ]
    },
    {
      "cell_type": "code",
      "execution_count": 50,
      "metadata": {
        "colab": {
          "base_uri": "https://localhost:8080/"
        },
        "id": "W22LDeK_-6Jt",
        "outputId": "76236d2c-48ce-4882-e86f-4525b6d33cf9"
      },
      "outputs": [
        {
          "name": "stdout",
          "output_type": "stream",
          "text": [
            "Epoch 1/100\n",
            "329/329 [==============================] - ETA: 0s - loss: 0.4414 - accuracy: 0.8119\n",
            "Epoch 1: val_accuracy improved from -inf to 0.86053, saving model to C:\\Users\\YannisPC\\PycharmProjects\\Thesis\\Thesis\\modelscheckpoint.model.keras\n",
            "329/329 [==============================] - 191s 578ms/step - loss: 0.4414 - accuracy: 0.8119 - val_loss: 0.3667 - val_accuracy: 0.8605\n",
            "Epoch 2/100\n",
            "329/329 [==============================] - ETA: 0s - loss: 0.3648 - accuracy: 0.8487\n",
            "Epoch 2: val_accuracy did not improve from 0.86053\n",
            "329/329 [==============================] - 179s 543ms/step - loss: 0.3648 - accuracy: 0.8487 - val_loss: 0.4095 - val_accuracy: 0.8307\n",
            "Epoch 3/100\n",
            "329/329 [==============================] - ETA: 0s - loss: 0.3553 - accuracy: 0.8518\n",
            "Epoch 3: val_accuracy improved from 0.86053 to 0.88013, saving model to C:\\Users\\YannisPC\\PycharmProjects\\Thesis\\Thesis\\modelscheckpoint.model.keras\n",
            "329/329 [==============================] - 180s 545ms/step - loss: 0.3553 - accuracy: 0.8518 - val_loss: 0.3187 - val_accuracy: 0.8801\n",
            "Epoch 4/100\n",
            "329/329 [==============================] - ETA: 0s - loss: 0.3465 - accuracy: 0.8585\n",
            "Epoch 4: val_accuracy improved from 0.88013 to 0.88184, saving model to C:\\Users\\YannisPC\\PycharmProjects\\Thesis\\Thesis\\modelscheckpoint.model.keras\n",
            "329/329 [==============================] - 179s 542ms/step - loss: 0.3465 - accuracy: 0.8585 - val_loss: 0.3332 - val_accuracy: 0.8818\n",
            "Epoch 5/100\n",
            "329/329 [==============================] - ETA: 0s - loss: 0.3382 - accuracy: 0.8622\n",
            "Epoch 5: val_accuracy improved from 0.88184 to 0.88250, saving model to C:\\Users\\YannisPC\\PycharmProjects\\Thesis\\Thesis\\modelscheckpoint.model.keras\n",
            "329/329 [==============================] - 179s 543ms/step - loss: 0.3382 - accuracy: 0.8622 - val_loss: 0.3206 - val_accuracy: 0.8825\n",
            "Epoch 6/100\n",
            "329/329 [==============================] - ETA: 0s - loss: 0.3351 - accuracy: 0.8654\n",
            "Epoch 6: val_accuracy did not improve from 0.88250\n",
            "329/329 [==============================] - 180s 546ms/step - loss: 0.3351 - accuracy: 0.8654 - val_loss: 0.3693 - val_accuracy: 0.8659\n",
            "Epoch 7/100\n",
            "329/329 [==============================] - ETA: 0s - loss: 0.3320 - accuracy: 0.8671\n",
            "Epoch 7: val_accuracy did not improve from 0.88250\n",
            "329/329 [==============================] - 178s 541ms/step - loss: 0.3320 - accuracy: 0.8671 - val_loss: 0.3343 - val_accuracy: 0.8811\n",
            "Epoch 8/100\n",
            "329/329 [==============================] - ETA: 0s - loss: 0.3372 - accuracy: 0.8652\n",
            "Epoch 8: val_accuracy did not improve from 0.88250\n",
            "329/329 [==============================] - 179s 542ms/step - loss: 0.3372 - accuracy: 0.8652 - val_loss: 0.3362 - val_accuracy: 0.8786\n",
            "Epoch 9/100\n",
            "329/329 [==============================] - ETA: 0s - loss: 0.3279 - accuracy: 0.8687\n",
            "Epoch 9: val_accuracy improved from 0.88250 to 0.88526, saving model to C:\\Users\\YannisPC\\PycharmProjects\\Thesis\\Thesis\\modelscheckpoint.model.keras\n",
            "329/329 [==============================] - 179s 542ms/step - loss: 0.3279 - accuracy: 0.8687 - val_loss: 0.3373 - val_accuracy: 0.8853\n",
            "Epoch 10/100\n",
            "329/329 [==============================] - ETA: 0s - loss: 0.3265 - accuracy: 0.8725\n",
            "Epoch 10: val_accuracy did not improve from 0.88526\n",
            "329/329 [==============================] - 179s 543ms/step - loss: 0.3265 - accuracy: 0.8725 - val_loss: 0.3639 - val_accuracy: 0.8758\n",
            "Epoch 11/100\n",
            "329/329 [==============================] - ETA: 0s - loss: 0.3247 - accuracy: 0.8707\n",
            "Epoch 11: val_accuracy improved from 0.88526 to 0.88539, saving model to C:\\Users\\YannisPC\\PycharmProjects\\Thesis\\Thesis\\modelscheckpoint.model.keras\n",
            "329/329 [==============================] - 179s 544ms/step - loss: 0.3247 - accuracy: 0.8707 - val_loss: 0.3271 - val_accuracy: 0.8854\n",
            "Epoch 12/100\n",
            "329/329 [==============================] - ETA: 0s - loss: 0.3195 - accuracy: 0.8729\n",
            "Epoch 12: val_accuracy did not improve from 0.88539\n",
            "329/329 [==============================] - 179s 542ms/step - loss: 0.3195 - accuracy: 0.8729 - val_loss: 0.3413 - val_accuracy: 0.8833\n",
            "Epoch 13/100\n",
            "329/329 [==============================] - ETA: 0s - loss: 0.3212 - accuracy: 0.8728\n",
            "Epoch 13: val_accuracy did not improve from 0.88539\n",
            "329/329 [==============================] - 179s 543ms/step - loss: 0.3212 - accuracy: 0.8728 - val_loss: 0.3867 - val_accuracy: 0.8734\n",
            "Epoch 14/100\n",
            "329/329 [==============================] - ETA: 0s - loss: 0.3241 - accuracy: 0.8735\n",
            "Epoch 14: val_accuracy did not improve from 0.88539\n",
            "329/329 [==============================] - 179s 543ms/step - loss: 0.3241 - accuracy: 0.8735 - val_loss: 0.3580 - val_accuracy: 0.8824\n",
            "Epoch 15/100\n",
            "329/329 [==============================] - ETA: 0s - loss: 0.3196 - accuracy: 0.8740\n",
            "Epoch 15: val_accuracy did not improve from 0.88539\n",
            "329/329 [==============================] - 179s 543ms/step - loss: 0.3196 - accuracy: 0.8740 - val_loss: 0.3441 - val_accuracy: 0.8804\n",
            "Epoch 16/100\n",
            "329/329 [==============================] - ETA: 0s - loss: 0.3175 - accuracy: 0.8737\n",
            "Epoch 16: val_accuracy did not improve from 0.88539\n",
            "329/329 [==============================] - 180s 546ms/step - loss: 0.3175 - accuracy: 0.8737 - val_loss: 0.3353 - val_accuracy: 0.8833\n",
            "Epoch 17/100\n",
            "329/329 [==============================] - ETA: 0s - loss: 0.3176 - accuracy: 0.8763\n",
            "Epoch 17: val_accuracy did not improve from 0.88539\n",
            "329/329 [==============================] - 179s 543ms/step - loss: 0.3176 - accuracy: 0.8763 - val_loss: 0.3323 - val_accuracy: 0.8833\n",
            "Epoch 18/100\n",
            "329/329 [==============================] - ETA: 0s - loss: 0.3184 - accuracy: 0.8737\n",
            "Epoch 18: val_accuracy improved from 0.88539 to 0.88645, saving model to C:\\Users\\YannisPC\\PycharmProjects\\Thesis\\Thesis\\modelscheckpoint.model.keras\n",
            "329/329 [==============================] - 178s 541ms/step - loss: 0.3184 - accuracy: 0.8737 - val_loss: 0.3449 - val_accuracy: 0.8864\n",
            "Epoch 19/100\n",
            "329/329 [==============================] - ETA: 0s - loss: 0.3152 - accuracy: 0.8785\n",
            "Epoch 19: val_accuracy did not improve from 0.88645\n",
            "329/329 [==============================] - 178s 540ms/step - loss: 0.3152 - accuracy: 0.8785 - val_loss: 0.3424 - val_accuracy: 0.8770\n",
            "Epoch 20/100\n",
            "329/329 [==============================] - ETA: 0s - loss: 0.3208 - accuracy: 0.8757\n",
            "Epoch 20: val_accuracy did not improve from 0.88645\n",
            "329/329 [==============================] - 178s 541ms/step - loss: 0.3208 - accuracy: 0.8757 - val_loss: 0.3532 - val_accuracy: 0.8829\n",
            "Epoch 21/100\n",
            "329/329 [==============================] - ETA: 0s - loss: 0.3140 - accuracy: 0.8780\n",
            "Epoch 21: val_accuracy did not improve from 0.88645\n",
            "329/329 [==============================] - 178s 541ms/step - loss: 0.3140 - accuracy: 0.8780 - val_loss: 0.3689 - val_accuracy: 0.8826\n",
            "Epoch 22/100\n",
            "329/329 [==============================] - ETA: 0s - loss: 0.3201 - accuracy: 0.8769\n",
            "Epoch 22: val_accuracy did not improve from 0.88645\n",
            "329/329 [==============================] - 178s 541ms/step - loss: 0.3201 - accuracy: 0.8769 - val_loss: 0.3647 - val_accuracy: 0.8793\n",
            "Epoch 23/100\n",
            "329/329 [==============================] - ETA: 0s - loss: 0.3137 - accuracy: 0.8770\n",
            "Epoch 23: val_accuracy did not improve from 0.88645\n",
            "329/329 [==============================] - 179s 542ms/step - loss: 0.3137 - accuracy: 0.8770 - val_loss: 0.3465 - val_accuracy: 0.8811\n",
            "Epoch 24/100\n",
            "329/329 [==============================] - ETA: 0s - loss: 0.3131 - accuracy: 0.8788\n",
            "Epoch 24: val_accuracy did not improve from 0.88645\n",
            "329/329 [==============================] - 178s 542ms/step - loss: 0.3131 - accuracy: 0.8788 - val_loss: 0.3582 - val_accuracy: 0.8800\n",
            "Epoch 25/100\n",
            "329/329 [==============================] - ETA: 0s - loss: 0.3093 - accuracy: 0.8791\n",
            "Epoch 25: val_accuracy did not improve from 0.88645\n",
            "329/329 [==============================] - 181s 550ms/step - loss: 0.3093 - accuracy: 0.8791 - val_loss: 0.3534 - val_accuracy: 0.8861\n",
            "Epoch 26/100\n",
            "329/329 [==============================] - ETA: 0s - loss: 0.3126 - accuracy: 0.8779\n",
            "Epoch 26: val_accuracy improved from 0.88645 to 0.88789, saving model to C:\\Users\\YannisPC\\PycharmProjects\\Thesis\\Thesis\\modelscheckpoint.model.keras\n",
            "329/329 [==============================] - 179s 543ms/step - loss: 0.3126 - accuracy: 0.8779 - val_loss: 0.3343 - val_accuracy: 0.8879\n",
            "Epoch 27/100\n",
            "329/329 [==============================] - ETA: 0s - loss: 0.3125 - accuracy: 0.8789\n",
            "Epoch 27: val_accuracy did not improve from 0.88789\n",
            "329/329 [==============================] - 179s 542ms/step - loss: 0.3125 - accuracy: 0.8789 - val_loss: 0.3492 - val_accuracy: 0.8804\n",
            "Epoch 28/100\n",
            "329/329 [==============================] - ETA: 0s - loss: 0.3122 - accuracy: 0.8762\n",
            "Epoch 28: val_accuracy did not improve from 0.88789\n",
            "329/329 [==============================] - 179s 544ms/step - loss: 0.3122 - accuracy: 0.8762 - val_loss: 0.3571 - val_accuracy: 0.8822\n",
            "Epoch 29/100\n",
            "329/329 [==============================] - ETA: 0s - loss: 0.3069 - accuracy: 0.8792\n",
            "Epoch 29: val_accuracy did not improve from 0.88789\n",
            "329/329 [==============================] - 178s 540ms/step - loss: 0.3069 - accuracy: 0.8792 - val_loss: 0.3454 - val_accuracy: 0.8874\n",
            "Epoch 30/100\n",
            "329/329 [==============================] - ETA: 0s - loss: 0.3102 - accuracy: 0.8793\n",
            "Epoch 30: val_accuracy did not improve from 0.88789\n",
            "329/329 [==============================] - 178s 541ms/step - loss: 0.3102 - accuracy: 0.8793 - val_loss: 0.3535 - val_accuracy: 0.8830\n",
            "Epoch 31/100\n",
            "329/329 [==============================] - ETA: 0s - loss: 0.3071 - accuracy: 0.8820\n",
            "Epoch 31: val_accuracy did not improve from 0.88789\n",
            "329/329 [==============================] - 178s 539ms/step - loss: 0.3071 - accuracy: 0.8820 - val_loss: 0.3776 - val_accuracy: 0.8776\n",
            "Epoch 32/100\n",
            "329/329 [==============================] - ETA: 0s - loss: 0.3108 - accuracy: 0.8792\n",
            "Epoch 32: val_accuracy did not improve from 0.88789\n",
            "329/329 [==============================] - 178s 540ms/step - loss: 0.3108 - accuracy: 0.8792 - val_loss: 0.3596 - val_accuracy: 0.8859\n",
            "Epoch 33/100\n",
            "329/329 [==============================] - ETA: 0s - loss: 0.3090 - accuracy: 0.8798\n",
            "Epoch 33: val_accuracy did not improve from 0.88789\n",
            "329/329 [==============================] - 178s 540ms/step - loss: 0.3090 - accuracy: 0.8798 - val_loss: 0.3743 - val_accuracy: 0.8845\n",
            "Epoch 34/100\n",
            "329/329 [==============================] - ETA: 0s - loss: 0.3081 - accuracy: 0.8811\n",
            "Epoch 34: val_accuracy improved from 0.88789 to 0.88908, saving model to C:\\Users\\YannisPC\\PycharmProjects\\Thesis\\Thesis\\modelscheckpoint.model.keras\n",
            "329/329 [==============================] - 179s 542ms/step - loss: 0.3081 - accuracy: 0.8811 - val_loss: 0.3388 - val_accuracy: 0.8891\n",
            "Epoch 35/100\n",
            "329/329 [==============================] - ETA: 0s - loss: 0.3103 - accuracy: 0.8805\n",
            "Epoch 35: val_accuracy did not improve from 0.88908\n",
            "329/329 [==============================] - 178s 539ms/step - loss: 0.3103 - accuracy: 0.8805 - val_loss: 0.3748 - val_accuracy: 0.8834\n",
            "Epoch 36/100\n",
            "329/329 [==============================] - ETA: 0s - loss: 0.3082 - accuracy: 0.8801\n",
            "Epoch 36: val_accuracy did not improve from 0.88908\n",
            "329/329 [==============================] - 178s 541ms/step - loss: 0.3082 - accuracy: 0.8801 - val_loss: 0.3708 - val_accuracy: 0.8830\n",
            "Epoch 37/100\n",
            "329/329 [==============================] - ETA: 0s - loss: 0.3087 - accuracy: 0.8817\n",
            "Epoch 37: val_accuracy did not improve from 0.88908\n",
            "329/329 [==============================] - 178s 542ms/step - loss: 0.3087 - accuracy: 0.8817 - val_loss: 0.3557 - val_accuracy: 0.8876\n",
            "Epoch 38/100\n",
            "329/329 [==============================] - ETA: 0s - loss: 0.3054 - accuracy: 0.8792\n",
            "Epoch 38: val_accuracy did not improve from 0.88908\n",
            "329/329 [==============================] - 179s 543ms/step - loss: 0.3054 - accuracy: 0.8792 - val_loss: 0.3663 - val_accuracy: 0.8834\n",
            "Epoch 39/100\n",
            "329/329 [==============================] - ETA: 0s - loss: 0.3082 - accuracy: 0.8808\n",
            "Epoch 39: val_accuracy did not improve from 0.88908\n",
            "329/329 [==============================] - 178s 540ms/step - loss: 0.3082 - accuracy: 0.8808 - val_loss: 0.3634 - val_accuracy: 0.8871\n",
            "Epoch 40/100\n",
            "329/329 [==============================] - ETA: 0s - loss: 0.3049 - accuracy: 0.8807\n",
            "Epoch 40: val_accuracy improved from 0.88908 to 0.88974, saving model to C:\\Users\\YannisPC\\PycharmProjects\\Thesis\\Thesis\\modelscheckpoint.model.keras\n",
            "329/329 [==============================] - 179s 542ms/step - loss: 0.3049 - accuracy: 0.8807 - val_loss: 0.3489 - val_accuracy: 0.8897\n",
            "Epoch 41/100\n",
            "329/329 [==============================] - ETA: 0s - loss: 0.3081 - accuracy: 0.8823\n",
            "Epoch 41: val_accuracy did not improve from 0.88974\n",
            "329/329 [==============================] - 178s 539ms/step - loss: 0.3081 - accuracy: 0.8823 - val_loss: 0.3720 - val_accuracy: 0.8767\n",
            "Epoch 42/100\n",
            "329/329 [==============================] - ETA: 0s - loss: 0.3039 - accuracy: 0.8833\n",
            "Epoch 42: val_accuracy did not improve from 0.88974\n",
            "329/329 [==============================] - 182s 552ms/step - loss: 0.3039 - accuracy: 0.8833 - val_loss: 0.3628 - val_accuracy: 0.8849\n",
            "Epoch 43/100\n",
            "329/329 [==============================] - ETA: 0s - loss: 0.3068 - accuracy: 0.8813\n",
            "Epoch 43: val_accuracy did not improve from 0.88974\n",
            "329/329 [==============================] - 178s 541ms/step - loss: 0.3068 - accuracy: 0.8813 - val_loss: 0.3506 - val_accuracy: 0.8862\n",
            "Epoch 44/100\n",
            "329/329 [==============================] - ETA: 0s - loss: 0.3035 - accuracy: 0.8813\n",
            "Epoch 44: val_accuracy did not improve from 0.88974\n",
            "329/329 [==============================] - 178s 540ms/step - loss: 0.3035 - accuracy: 0.8813 - val_loss: 0.3658 - val_accuracy: 0.8830\n",
            "Epoch 45/100\n",
            "329/329 [==============================] - ETA: 0s - loss: 0.3068 - accuracy: 0.8822\n",
            "Epoch 45: val_accuracy did not improve from 0.88974\n",
            "329/329 [==============================] - 178s 542ms/step - loss: 0.3068 - accuracy: 0.8822 - val_loss: 0.3872 - val_accuracy: 0.8804\n",
            "Epoch 46/100\n",
            "329/329 [==============================] - ETA: 0s - loss: 0.3078 - accuracy: 0.8804\n",
            "Epoch 46: val_accuracy did not improve from 0.88974\n",
            "329/329 [==============================] - 179s 544ms/step - loss: 0.3078 - accuracy: 0.8804 - val_loss: 0.3526 - val_accuracy: 0.8880\n",
            "Epoch 47/100\n",
            "329/329 [==============================] - ETA: 0s - loss: 0.3038 - accuracy: 0.8830\n",
            "Epoch 47: val_accuracy improved from 0.88974 to 0.89026, saving model to C:\\Users\\YannisPC\\PycharmProjects\\Thesis\\Thesis\\modelscheckpoint.model.keras\n",
            "329/329 [==============================] - 179s 543ms/step - loss: 0.3038 - accuracy: 0.8830 - val_loss: 0.3560 - val_accuracy: 0.8903\n",
            "Epoch 48/100\n",
            "329/329 [==============================] - ETA: 0s - loss: 0.3042 - accuracy: 0.8829\n",
            "Epoch 48: val_accuracy did not improve from 0.89026\n",
            "329/329 [==============================] - 178s 541ms/step - loss: 0.3042 - accuracy: 0.8829 - val_loss: 0.3913 - val_accuracy: 0.8783\n",
            "Epoch 49/100\n",
            "329/329 [==============================] - ETA: 0s - loss: 0.3054 - accuracy: 0.8823\n",
            "Epoch 49: val_accuracy did not improve from 0.89026\n",
            "329/329 [==============================] - 178s 541ms/step - loss: 0.3054 - accuracy: 0.8823 - val_loss: 0.3629 - val_accuracy: 0.8822\n",
            "Epoch 50/100\n",
            "329/329 [==============================] - ETA: 0s - loss: 0.3066 - accuracy: 0.8821\n",
            "Epoch 50: val_accuracy did not improve from 0.89026\n",
            "329/329 [==============================] - 179s 542ms/step - loss: 0.3066 - accuracy: 0.8821 - val_loss: 0.3522 - val_accuracy: 0.8878\n",
            "Epoch 51/100\n",
            "329/329 [==============================] - ETA: 0s - loss: 0.3015 - accuracy: 0.8843\n",
            "Epoch 51: val_accuracy did not improve from 0.89026\n",
            "329/329 [==============================] - 179s 543ms/step - loss: 0.3015 - accuracy: 0.8843 - val_loss: 0.3910 - val_accuracy: 0.8805\n",
            "Epoch 52/100\n",
            "329/329 [==============================] - ETA: 0s - loss: 0.3062 - accuracy: 0.8828\n",
            "Epoch 52: val_accuracy did not improve from 0.89026\n",
            "329/329 [==============================] - 178s 541ms/step - loss: 0.3062 - accuracy: 0.8828 - val_loss: 0.3585 - val_accuracy: 0.8861\n",
            "Epoch 53/100\n",
            "329/329 [==============================] - ETA: 0s - loss: 0.3018 - accuracy: 0.8816\n",
            "Epoch 53: val_accuracy did not improve from 0.89026\n",
            "329/329 [==============================] - 178s 541ms/step - loss: 0.3018 - accuracy: 0.8816 - val_loss: 0.3630 - val_accuracy: 0.8862\n",
            "Epoch 54/100\n",
            "329/329 [==============================] - ETA: 0s - loss: 0.3009 - accuracy: 0.8840\n",
            "Epoch 54: val_accuracy did not improve from 0.89026\n",
            "329/329 [==============================] - 178s 541ms/step - loss: 0.3009 - accuracy: 0.8840 - val_loss: 0.3617 - val_accuracy: 0.8853\n",
            "Epoch 55/100\n",
            "329/329 [==============================] - ETA: 0s - loss: 0.3036 - accuracy: 0.8849\n",
            "Epoch 55: val_accuracy improved from 0.89026 to 0.89092, saving model to C:\\Users\\YannisPC\\PycharmProjects\\Thesis\\Thesis\\modelscheckpoint.model.keras\n",
            "329/329 [==============================] - 178s 540ms/step - loss: 0.3036 - accuracy: 0.8849 - val_loss: 0.3580 - val_accuracy: 0.8909\n",
            "Epoch 56/100\n",
            "329/329 [==============================] - ETA: 0s - loss: 0.3055 - accuracy: 0.8820\n",
            "Epoch 56: val_accuracy did not improve from 0.89092\n",
            "329/329 [==============================] - 179s 543ms/step - loss: 0.3055 - accuracy: 0.8820 - val_loss: 0.3961 - val_accuracy: 0.8799\n",
            "Epoch 57/100\n",
            "329/329 [==============================] - ETA: 0s - loss: 0.3070 - accuracy: 0.8825\n",
            "Epoch 57: val_accuracy did not improve from 0.89092\n",
            "329/329 [==============================] - 178s 541ms/step - loss: 0.3070 - accuracy: 0.8825 - val_loss: 0.3836 - val_accuracy: 0.8817\n",
            "Epoch 58/100\n",
            "329/329 [==============================] - ETA: 0s - loss: 0.3012 - accuracy: 0.8842\n",
            "Epoch 58: val_accuracy did not improve from 0.89092\n",
            "329/329 [==============================] - 179s 544ms/step - loss: 0.3012 - accuracy: 0.8842 - val_loss: 0.3802 - val_accuracy: 0.8853\n",
            "Epoch 59/100\n",
            "329/329 [==============================] - ETA: 0s - loss: 0.3006 - accuracy: 0.8868\n",
            "Epoch 59: val_accuracy did not improve from 0.89092\n",
            "329/329 [==============================] - 178s 540ms/step - loss: 0.3006 - accuracy: 0.8868 - val_loss: 0.3676 - val_accuracy: 0.8862\n",
            "Epoch 60/100\n",
            "329/329 [==============================] - ETA: 0s - loss: 0.3027 - accuracy: 0.8835\n",
            "Epoch 60: val_accuracy did not improve from 0.89092\n",
            "329/329 [==============================] - 178s 541ms/step - loss: 0.3027 - accuracy: 0.8835 - val_loss: 0.3763 - val_accuracy: 0.8854\n",
            "Epoch 61/100\n",
            "329/329 [==============================] - ETA: 0s - loss: 0.3012 - accuracy: 0.8826\n",
            "Epoch 61: val_accuracy did not improve from 0.89092\n",
            "329/329 [==============================] - 178s 541ms/step - loss: 0.3012 - accuracy: 0.8826 - val_loss: 0.3881 - val_accuracy: 0.8837\n",
            "Epoch 62/100\n",
            "329/329 [==============================] - ETA: 0s - loss: 0.2989 - accuracy: 0.8842\n",
            "Epoch 62: val_accuracy did not improve from 0.89092\n",
            "329/329 [==============================] - 178s 541ms/step - loss: 0.2989 - accuracy: 0.8842 - val_loss: 0.3689 - val_accuracy: 0.8857\n",
            "Epoch 63/100\n",
            "329/329 [==============================] - ETA: 0s - loss: 0.3006 - accuracy: 0.8852\n",
            "Epoch 63: val_accuracy did not improve from 0.89092\n",
            "329/329 [==============================] - 178s 541ms/step - loss: 0.3006 - accuracy: 0.8852 - val_loss: 0.3670 - val_accuracy: 0.8875\n",
            "Epoch 64/100\n",
            "329/329 [==============================] - ETA: 0s - loss: 0.3036 - accuracy: 0.8844\n",
            "Epoch 64: val_accuracy did not improve from 0.89092\n",
            "329/329 [==============================] - 178s 541ms/step - loss: 0.3036 - accuracy: 0.8844 - val_loss: 0.3895 - val_accuracy: 0.8821\n",
            "Epoch 65/100\n",
            "329/329 [==============================] - ETA: 0s - loss: 0.3019 - accuracy: 0.8869\n",
            "Epoch 65: val_accuracy did not improve from 0.89092\n",
            "329/329 [==============================] - 179s 543ms/step - loss: 0.3019 - accuracy: 0.8869 - val_loss: 0.3597 - val_accuracy: 0.8907\n",
            "Epoch 66/100\n",
            "329/329 [==============================] - ETA: 0s - loss: 0.3007 - accuracy: 0.8836\n",
            "Epoch 66: val_accuracy did not improve from 0.89092\n",
            "329/329 [==============================] - 178s 541ms/step - loss: 0.3007 - accuracy: 0.8836 - val_loss: 0.3683 - val_accuracy: 0.8874\n",
            "Epoch 67/100\n",
            "329/329 [==============================] - ETA: 0s - loss: 0.2983 - accuracy: 0.8856\n",
            "Epoch 67: val_accuracy did not improve from 0.89092\n",
            "329/329 [==============================] - 178s 540ms/step - loss: 0.2983 - accuracy: 0.8856 - val_loss: 0.3733 - val_accuracy: 0.8849\n",
            "Epoch 68/100\n",
            "329/329 [==============================] - ETA: 0s - loss: 0.3023 - accuracy: 0.8838\n",
            "Epoch 68: val_accuracy did not improve from 0.89092\n",
            "329/329 [==============================] - 178s 540ms/step - loss: 0.3023 - accuracy: 0.8838 - val_loss: 0.3679 - val_accuracy: 0.8867\n",
            "Epoch 69/100\n",
            "329/329 [==============================] - ETA: 0s - loss: 0.3024 - accuracy: 0.8842\n",
            "Epoch 69: val_accuracy did not improve from 0.89092\n",
            "329/329 [==============================] - 177s 539ms/step - loss: 0.3024 - accuracy: 0.8842 - val_loss: 0.3637 - val_accuracy: 0.8905\n",
            "Epoch 70/100\n",
            "329/329 [==============================] - ETA: 0s - loss: 0.2975 - accuracy: 0.8860\n",
            "Epoch 70: val_accuracy did not improve from 0.89092\n",
            "329/329 [==============================] - 180s 545ms/step - loss: 0.2975 - accuracy: 0.8860 - val_loss: 0.4034 - val_accuracy: 0.8830\n",
            "Epoch 71/100\n",
            "329/329 [==============================] - ETA: 0s - loss: 0.3014 - accuracy: 0.8856\n",
            "Epoch 71: val_accuracy did not improve from 0.89092\n",
            "329/329 [==============================] - 177s 536ms/step - loss: 0.3014 - accuracy: 0.8856 - val_loss: 0.3947 - val_accuracy: 0.8812\n",
            "Epoch 72/100\n",
            "329/329 [==============================] - ETA: 0s - loss: 0.3022 - accuracy: 0.8863\n",
            "Epoch 72: val_accuracy improved from 0.89092 to 0.89289, saving model to C:\\Users\\YannisPC\\PycharmProjects\\Thesis\\Thesis\\modelscheckpoint.model.keras\n",
            "329/329 [==============================] - 178s 539ms/step - loss: 0.3022 - accuracy: 0.8863 - val_loss: 0.3493 - val_accuracy: 0.8929\n",
            "Epoch 73/100\n",
            "329/329 [==============================] - ETA: 0s - loss: 0.3006 - accuracy: 0.8861\n",
            "Epoch 73: val_accuracy did not improve from 0.89289\n",
            "329/329 [==============================] - 177s 539ms/step - loss: 0.3006 - accuracy: 0.8861 - val_loss: 0.3777 - val_accuracy: 0.8866\n",
            "Epoch 74/100\n",
            "329/329 [==============================] - ETA: 0s - loss: 0.3039 - accuracy: 0.8820\n",
            "Epoch 74: val_accuracy did not improve from 0.89289\n",
            "329/329 [==============================] - 179s 542ms/step - loss: 0.3039 - accuracy: 0.8820 - val_loss: 0.3822 - val_accuracy: 0.8838\n",
            "Epoch 75/100\n",
            "329/329 [==============================] - ETA: 0s - loss: 0.3003 - accuracy: 0.8855\n",
            "Epoch 75: val_accuracy did not improve from 0.89289\n",
            "329/329 [==============================] - 179s 542ms/step - loss: 0.3003 - accuracy: 0.8855 - val_loss: 0.3918 - val_accuracy: 0.8811\n",
            "Epoch 76/100\n",
            "329/329 [==============================] - ETA: 0s - loss: 0.2954 - accuracy: 0.8888\n",
            "Epoch 76: val_accuracy did not improve from 0.89289\n",
            "329/329 [==============================] - 179s 544ms/step - loss: 0.2954 - accuracy: 0.8888 - val_loss: 0.4094 - val_accuracy: 0.8793\n",
            "Epoch 77/100\n",
            "329/329 [==============================] - ETA: 0s - loss: 0.2970 - accuracy: 0.8854\n",
            "Epoch 77: val_accuracy did not improve from 0.89289\n",
            "329/329 [==============================] - 179s 544ms/step - loss: 0.2970 - accuracy: 0.8854 - val_loss: 0.3694 - val_accuracy: 0.8897\n",
            "Epoch 78/100\n",
            "329/329 [==============================] - ETA: 0s - loss: 0.2990 - accuracy: 0.8850\n",
            "Epoch 78: val_accuracy did not improve from 0.89289\n",
            "329/329 [==============================] - 180s 546ms/step - loss: 0.2990 - accuracy: 0.8850 - val_loss: 0.3705 - val_accuracy: 0.8889\n",
            "Epoch 79/100\n",
            "329/329 [==============================] - ETA: 0s - loss: 0.3031 - accuracy: 0.8866\n",
            "Epoch 79: val_accuracy did not improve from 0.89289\n",
            "329/329 [==============================] - 179s 544ms/step - loss: 0.3031 - accuracy: 0.8866 - val_loss: 0.3961 - val_accuracy: 0.8843\n",
            "Epoch 80/100\n",
            "329/329 [==============================] - ETA: 0s - loss: 0.2973 - accuracy: 0.8841\n",
            "Epoch 80: val_accuracy did not improve from 0.89289\n",
            "329/329 [==============================] - 179s 544ms/step - loss: 0.2973 - accuracy: 0.8841 - val_loss: 0.3723 - val_accuracy: 0.8882\n",
            "Epoch 81/100\n",
            "329/329 [==============================] - ETA: 0s - loss: 0.2992 - accuracy: 0.8837\n",
            "Epoch 81: val_accuracy did not improve from 0.89289\n",
            "329/329 [==============================] - 179s 544ms/step - loss: 0.2992 - accuracy: 0.8837 - val_loss: 0.3628 - val_accuracy: 0.8905\n",
            "Epoch 82/100\n",
            "329/329 [==============================] - ETA: 0s - loss: 0.2946 - accuracy: 0.8886\n",
            "Epoch 82: val_accuracy did not improve from 0.89289\n",
            "329/329 [==============================] - 179s 544ms/step - loss: 0.2946 - accuracy: 0.8886 - val_loss: 0.3868 - val_accuracy: 0.8847\n",
            "Epoch 83/100\n",
            "329/329 [==============================] - ETA: 0s - loss: 0.3005 - accuracy: 0.8873\n",
            "Epoch 83: val_accuracy did not improve from 0.89289\n",
            "329/329 [==============================] - 178s 542ms/step - loss: 0.3005 - accuracy: 0.8873 - val_loss: 0.3795 - val_accuracy: 0.8895\n",
            "Epoch 84/100\n",
            "329/329 [==============================] - ETA: 0s - loss: 0.2925 - accuracy: 0.8874\n",
            "Epoch 84: val_accuracy did not improve from 0.89289\n",
            "329/329 [==============================] - 178s 541ms/step - loss: 0.2925 - accuracy: 0.8874 - val_loss: 0.3852 - val_accuracy: 0.8870\n",
            "Epoch 85/100\n",
            "329/329 [==============================] - ETA: 0s - loss: 0.2969 - accuracy: 0.8854\n",
            "Epoch 85: val_accuracy did not improve from 0.89289\n",
            "329/329 [==============================] - 178s 542ms/step - loss: 0.2969 - accuracy: 0.8854 - val_loss: 0.3673 - val_accuracy: 0.8897\n",
            "Epoch 86/100\n",
            "329/329 [==============================] - ETA: 0s - loss: 0.2947 - accuracy: 0.8867\n",
            "Epoch 86: val_accuracy did not improve from 0.89289\n",
            "329/329 [==============================] - 179s 544ms/step - loss: 0.2947 - accuracy: 0.8867 - val_loss: 0.3734 - val_accuracy: 0.8893\n",
            "Epoch 87/100\n",
            "329/329 [==============================] - ETA: 0s - loss: 0.2945 - accuracy: 0.8867\n",
            "Epoch 87: val_accuracy did not improve from 0.89289\n",
            "329/329 [==============================] - 179s 543ms/step - loss: 0.2945 - accuracy: 0.8867 - val_loss: 0.3952 - val_accuracy: 0.8850\n",
            "Epoch 88/100\n",
            "329/329 [==============================] - ETA: 0s - loss: 0.3003 - accuracy: 0.8864\n",
            "Epoch 88: val_accuracy did not improve from 0.89289\n",
            "329/329 [==============================] - 179s 543ms/step - loss: 0.3003 - accuracy: 0.8864 - val_loss: 0.3679 - val_accuracy: 0.8872\n",
            "Epoch 89/100\n",
            "329/329 [==============================] - ETA: 0s - loss: 0.2973 - accuracy: 0.8880\n",
            "Epoch 89: val_accuracy did not improve from 0.89289\n",
            "329/329 [==============================] - 179s 542ms/step - loss: 0.2973 - accuracy: 0.8880 - val_loss: 0.3912 - val_accuracy: 0.8818\n",
            "Epoch 90/100\n",
            "329/329 [==============================] - ETA: 0s - loss: 0.2966 - accuracy: 0.8878\n",
            "Epoch 90: val_accuracy did not improve from 0.89289\n",
            "329/329 [==============================] - 180s 546ms/step - loss: 0.2966 - accuracy: 0.8878 - val_loss: 0.3753 - val_accuracy: 0.8878\n",
            "Epoch 91/100\n",
            "329/329 [==============================] - ETA: 0s - loss: 0.2957 - accuracy: 0.8849\n",
            "Epoch 91: val_accuracy did not improve from 0.89289\n",
            "329/329 [==============================] - 179s 543ms/step - loss: 0.2957 - accuracy: 0.8849 - val_loss: 0.3981 - val_accuracy: 0.8824\n",
            "Epoch 92/100\n",
            "329/329 [==============================] - ETA: 0s - loss: 0.2930 - accuracy: 0.8889\n",
            "Epoch 92: val_accuracy did not improve from 0.89289\n",
            "329/329 [==============================] - 179s 543ms/step - loss: 0.2930 - accuracy: 0.8889 - val_loss: 0.3964 - val_accuracy: 0.8850\n",
            "Epoch 93/100\n",
            "329/329 [==============================] - ETA: 0s - loss: 0.3015 - accuracy: 0.8849\n",
            "Epoch 93: val_accuracy did not improve from 0.89289\n",
            "329/329 [==============================] - 178s 541ms/step - loss: 0.3015 - accuracy: 0.8849 - val_loss: 0.3769 - val_accuracy: 0.8886\n",
            "Epoch 94/100\n",
            "329/329 [==============================] - ETA: 0s - loss: 0.2971 - accuracy: 0.8863\n",
            "Epoch 94: val_accuracy did not improve from 0.89289\n",
            "329/329 [==============================] - 176s 533ms/step - loss: 0.2971 - accuracy: 0.8863 - val_loss: 0.3732 - val_accuracy: 0.8886\n",
            "Epoch 95/100\n",
            "329/329 [==============================] - ETA: 0s - loss: 0.2927 - accuracy: 0.8886\n",
            "Epoch 95: val_accuracy did not improve from 0.89289\n",
            "329/329 [==============================] - 173s 526ms/step - loss: 0.2927 - accuracy: 0.8886 - val_loss: 0.3781 - val_accuracy: 0.8876\n",
            "Epoch 96/100\n",
            "329/329 [==============================] - ETA: 0s - loss: 0.2952 - accuracy: 0.8870\n",
            "Epoch 96: val_accuracy did not improve from 0.89289\n",
            "329/329 [==============================] - 174s 529ms/step - loss: 0.2952 - accuracy: 0.8870 - val_loss: 0.3744 - val_accuracy: 0.8879\n",
            "Epoch 97/100\n",
            "329/329 [==============================] - ETA: 0s - loss: 0.2939 - accuracy: 0.8867\n",
            "Epoch 97: val_accuracy did not improve from 0.89289\n",
            "329/329 [==============================] - 174s 528ms/step - loss: 0.2939 - accuracy: 0.8867 - val_loss: 0.3956 - val_accuracy: 0.8846\n",
            "Epoch 98/100\n",
            "329/329 [==============================] - ETA: 0s - loss: 0.2953 - accuracy: 0.8861\n",
            "Epoch 98: val_accuracy did not improve from 0.89289\n",
            "329/329 [==============================] - 174s 528ms/step - loss: 0.2953 - accuracy: 0.8861 - val_loss: 0.4248 - val_accuracy: 0.8789\n",
            "Epoch 99/100\n",
            "329/329 [==============================] - ETA: 0s - loss: 0.2972 - accuracy: 0.8875\n",
            "Epoch 99: val_accuracy did not improve from 0.89289\n",
            "329/329 [==============================] - 174s 528ms/step - loss: 0.2972 - accuracy: 0.8875 - val_loss: 0.3722 - val_accuracy: 0.8913\n",
            "Epoch 100/100\n",
            "329/329 [==============================] - ETA: 0s - loss: 0.2943 - accuracy: 0.8904\n",
            "Epoch 100: val_accuracy did not improve from 0.89289\n",
            "329/329 [==============================] - 175s 532ms/step - loss: 0.2943 - accuracy: 0.8904 - val_loss: 0.3747 - val_accuracy: 0.8892\n"
          ]
        }
      ],
      "source": [
        "histPreT = modelPreT.fit(train_generator, epochs=100, validation_data=validation_generator, callbacks=[model_checkpoint_callback]) #  epochs 10 are over fitting. early stop at?"
      ]
    },
    {
      "cell_type": "code",
      "execution_count": 51,
      "metadata": {},
      "outputs": [],
      "source": [
        "modelPreT.save(os.path.join('models/Latest','Pretrained_VGG19_ad_class_CLEAN_with_Aug.h5'))"
      ]
    },
    {
      "cell_type": "code",
      "execution_count": 52,
      "metadata": {},
      "outputs": [
        {
          "name": "stdout",
          "output_type": "stream",
          "text": [
            "Best epoch: 72\n"
          ]
        }
      ],
      "source": [
        "val_acc_per_epoch = histPreT.history['val_accuracy']\n",
        "best_epoch = val_acc_per_epoch.index(max(val_acc_per_epoch)) + 1\n",
        "print('Best epoch: %d' % (best_epoch,))"
      ]
    },
    {
      "cell_type": "code",
      "execution_count": 53,
      "metadata": {
        "colab": {
          "base_uri": "https://localhost:8080/",
          "height": 887
        },
        "id": "e3wZrd90-6Jt",
        "outputId": "0630124c-9747-4688-f755-aaf80997102f"
      },
      "outputs": [
        {
          "data": {
            "image/png": "[encoded data removed]",
            "text/plain": [
              "<Figure size 640x480 with 1 Axes>"
            ]
          },
          "metadata": {},
          "output_type": "display_data"
        },
        {
          "data": {
            "image/png": "[encoded data removed]",
            "text/plain": [
              "<Figure size 640x480 with 1 Axes>"
            ]
          },
          "metadata": {},
          "output_type": "display_data"
        }
      ],
      "source": [
        "acc = histPreT.history['accuracy']\n",
        "val_acc = histPreT.history['val_accuracy']\n",
        "loss = histPreT.history['loss']\n",
        "val_loss = histPreT.history['val_loss']\n",
        "\n",
        "epochs = range(len(acc))\n",
        "\n",
        "plt.plot(epochs, acc, 'bo', label='Training acc')\n",
        "plt.plot(epochs, val_acc, 'b', label='Validation acc')\n",
        "plt.title('Training and validation accuracy')\n",
        "plt.legend()\n",
        "\n",
        "plt.figure()\n",
        "\n",
        "plt.plot(epochs, loss, 'bo', label='Training loss')\n",
        "plt.plot(epochs, val_loss, 'b', label='Validation loss')\n",
        "plt.title('Training and validation loss')\n",
        "plt.legend()\n",
        "\n",
        "plt.show()"
      ]
    },
    {
      "cell_type": "markdown",
      "metadata": {},
      "source": [
        "# Evaluate"
      ]
    },
    {
      "cell_type": "code",
      "execution_count": 54,
      "metadata": {
        "id": "tgHLiCoC-6Jt"
      },
      "outputs": [
        {
          "name": "stdout",
          "output_type": "stream",
          "text": [
            "Found 6000 images belonging to 2 classes.\n",
            "94/94 [==============================] - 31s 328ms/step - loss: 0.3830 - accuracy: 0.8892\n",
            "test acc: 0.8891666531562805\n",
            "test loss: 0.3830273449420929\n"
          ]
        }
      ],
      "source": [
        "test_generator = test_datagen.flow_from_directory(\n",
        "        test_dir,\n",
        "        target_size=(224, 224),\n",
        "        batch_size=64,\n",
        "        class_mode='binary')\n",
        "\n",
        "test_loss, test_acc = modelPreT.evaluate(test_generator, steps=len(test_generator))  # steps_per_epoch * epochs\n",
        "print('test acc:', test_acc)\n",
        "print('test loss:', test_loss)"
      ]
    },
    {
      "cell_type": "markdown",
      "metadata": {},
      "source": [
        "Confution Matrix"
      ]
    },
    {
      "cell_type": "code",
      "execution_count": 55,
      "metadata": {},
      "outputs": [],
      "source": [
        "from sklearn.metrics import confusion_matrix, ConfusionMatrixDisplay\n",
        "\n",
        "# Initialize lists to collect true labels and predictions\n",
        "true_labels = []\n",
        "predicted_labels = []"
      ]
    },
    {
      "cell_type": "code",
      "execution_count": 56,
      "metadata": {},
      "outputs": [
        {
          "name": "stdout",
          "output_type": "stream",
          "text": [
            "2/2 [==============================] - 7s 23ms/step\n",
            "2/2 [==============================] - 0s 173ms/step\n",
            "2/2 [==============================] - 0s 179ms/step\n",
            "2/2 [==============================] - 0s 175ms/step\n",
            "2/2 [==============================] - 0s 177ms/step\n",
            "2/2 [==============================] - 0s 178ms/step\n",
            "2/2 [==============================] - 0s 176ms/step\n",
            "2/2 [==============================] - 0s 177ms/step\n",
            "2/2 [==============================] - 0s 176ms/step\n",
            "2/2 [==============================] - 0s 175ms/step\n",
            "2/2 [==============================] - 0s 175ms/step\n",
            "2/2 [==============================] - 0s 180ms/step\n",
            "2/2 [==============================] - 0s 176ms/step\n",
            "2/2 [==============================] - 0s 175ms/step\n",
            "2/2 [==============================] - 0s 174ms/step\n",
            "2/2 [==============================] - 0s 173ms/step\n",
            "2/2 [==============================] - 0s 174ms/step\n",
            "2/2 [==============================] - 0s 175ms/step\n",
            "2/2 [==============================] - 0s 174ms/step\n",
            "2/2 [==============================] - 0s 173ms/step\n",
            "2/2 [==============================] - 0s 174ms/step\n",
            "2/2 [==============================] - 0s 175ms/step\n",
            "2/2 [==============================] - 0s 174ms/step\n",
            "2/2 [==============================] - 0s 174ms/step\n",
            "2/2 [==============================] - 0s 176ms/step\n",
            "2/2 [==============================] - 0s 176ms/step\n",
            "2/2 [==============================] - 0s 179ms/step\n",
            "2/2 [==============================] - 0s 174ms/step\n",
            "2/2 [==============================] - 0s 171ms/step\n",
            "2/2 [==============================] - 0s 175ms/step\n",
            "2/2 [==============================] - 0s 184ms/step\n",
            "2/2 [==============================] - 0s 186ms/step\n",
            "2/2 [==============================] - 0s 172ms/step\n",
            "2/2 [==============================] - 0s 177ms/step\n",
            "2/2 [==============================] - 0s 182ms/step\n",
            "2/2 [==============================] - 0s 165ms/step\n",
            "2/2 [==============================] - 0s 178ms/step\n",
            "2/2 [==============================] - 0s 179ms/step\n",
            "2/2 [==============================] - 0s 182ms/step\n",
            "2/2 [==============================] - 0s 177ms/step\n",
            "2/2 [==============================] - 0s 190ms/step\n",
            "2/2 [==============================] - 0s 181ms/step\n",
            "2/2 [==============================] - 0s 172ms/step\n",
            "2/2 [==============================] - 0s 171ms/step\n",
            "2/2 [==============================] - 0s 174ms/step\n",
            "2/2 [==============================] - 0s 171ms/step\n",
            "2/2 [==============================] - 0s 173ms/step\n",
            "2/2 [==============================] - 0s 172ms/step\n",
            "2/2 [==============================] - 0s 171ms/step\n",
            "2/2 [==============================] - 0s 182ms/step\n",
            "2/2 [==============================] - 0s 184ms/step\n",
            "2/2 [==============================] - 0s 182ms/step\n",
            "2/2 [==============================] - 0s 186ms/step\n",
            "2/2 [==============================] - 0s 186ms/step\n",
            "2/2 [==============================] - 0s 191ms/step\n",
            "2/2 [==============================] - 0s 187ms/step\n",
            "2/2 [==============================] - 0s 185ms/step\n",
            "2/2 [==============================] - 0s 186ms/step\n",
            "2/2 [==============================] - 0s 186ms/step\n",
            "2/2 [==============================] - 0s 183ms/step\n",
            "2/2 [==============================] - 0s 185ms/step\n",
            "2/2 [==============================] - 0s 181ms/step\n",
            "2/2 [==============================] - 0s 189ms/step\n",
            "2/2 [==============================] - 0s 187ms/step\n",
            "2/2 [==============================] - 0s 181ms/step\n",
            "2/2 [==============================] - 0s 181ms/step\n",
            "2/2 [==============================] - 0s 182ms/step\n",
            "2/2 [==============================] - 0s 181ms/step\n",
            "2/2 [==============================] - 0s 179ms/step\n",
            "2/2 [==============================] - 0s 183ms/step\n",
            "2/2 [==============================] - 0s 185ms/step\n",
            "2/2 [==============================] - 0s 185ms/step\n",
            "2/2 [==============================] - 0s 184ms/step\n",
            "2/2 [==============================] - 0s 177ms/step\n",
            "2/2 [==============================] - 0s 179ms/step\n",
            "2/2 [==============================] - 0s 181ms/step\n",
            "2/2 [==============================] - 0s 180ms/step\n",
            "2/2 [==============================] - 0s 179ms/step\n",
            "2/2 [==============================] - 0s 180ms/step\n",
            "2/2 [==============================] - 0s 176ms/step\n",
            "2/2 [==============================] - 0s 182ms/step\n",
            "2/2 [==============================] - 0s 176ms/step\n",
            "2/2 [==============================] - 0s 172ms/step\n",
            "2/2 [==============================] - 0s 172ms/step\n",
            "2/2 [==============================] - 0s 185ms/step\n",
            "2/2 [==============================] - 0s 176ms/step\n",
            "2/2 [==============================] - 0s 172ms/step\n",
            "2/2 [==============================] - 0s 186ms/step\n",
            "2/2 [==============================] - 0s 186ms/step\n",
            "2/2 [==============================] - 0s 191ms/step\n",
            "2/2 [==============================] - 0s 187ms/step\n",
            "2/2 [==============================] - 0s 187ms/step\n",
            "2/2 [==============================] - 0s 183ms/step\n",
            "2/2 [==============================] - 4s 4s/step\n"
          ]
        }
      ],
      "source": [
        "for _ in range(len(test_generator)):\n",
        "    X, y = next(test_generator)\n",
        "\n",
        "    yhat = modelPreT.predict(X)\n",
        "    \n",
        "    y_true_batch = y # Labels\n",
        "    \n",
        "    # Convert probabilities to class labels using a threshold of 0.5\n",
        "    y_pred_batch = (yhat > 0.5).astype(int)\n",
        "\n",
        "    # Append the true labels and predictions for this batch to the lists\n",
        "    true_labels.extend(y_true_batch)\n",
        "    predicted_labels.extend(y_pred_batch)\n",
        "\n",
        "    if len(true_labels) >= test_generator.n:\n",
        "        break"
      ]
    },
    {
      "cell_type": "code",
      "execution_count": 57,
      "metadata": {},
      "outputs": [],
      "source": [
        "# Convert lists to numpy arrays\n",
        "true_labels = np.array(true_labels)\n",
        "predicted_labels = np.array(predicted_labels)"
      ]
    },
    {
      "cell_type": "code",
      "execution_count": 58,
      "metadata": {},
      "outputs": [],
      "source": [
        "# Compute the confusion matrix\n",
        "cm = confusion_matrix(true_labels, predicted_labels)"
      ]
    },
    {
      "cell_type": "markdown",
      "metadata": {},
      "source": [
        "Ads = 0 \n",
        "\n",
        "Clear = 1"
      ]
    },
    {
      "cell_type": "code",
      "execution_count": 59,
      "metadata": {},
      "outputs": [
        {
          "data": {
            "image/png": "[encoded data removed]",
            "text/plain": [
              "<Figure size 640x480 with 2 Axes>"
            ]
          },
          "metadata": {},
          "output_type": "display_data"
        }
      ],
      "source": [
        "# Plot the confusion matrix\n",
        "disp = ConfusionMatrixDisplay(confusion_matrix=cm, display_labels=['Class 0', 'Class 1'])\n",
        "disp.plot(cmap=plt.cm.Blues)\n",
        "plt.show()"
      ]
    }
  ],
  "metadata": {
    "accelerator": "GPU",
    "colab": {
      "gpuType": "L4",
      "include_colab_link": true,
      "machine_shape": "hm",
      "provenance": []
    },
    "kernelspec": {
      "display_name": "Python 3",
      "name": "python3"
    },
    "language_info": {
      "codemirror_mode": {
        "name": "ipython",
        "version": 3
      },
      "file_extension": ".py",
      "mimetype": "text/x-python",
      "name": "python",
      "nbconvert_exporter": "python",
      "pygments_lexer": "ipython3",
      "version": "3.9.13"
    }
  },
  "nbformat": 4,
  "nbformat_minor": 0
}
