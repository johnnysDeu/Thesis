{
  "cells": [
    {
      "cell_type": "markdown",
      "metadata": {
        "colab_type": "text",
        "id": "view-in-github"
      },
      "source": [
        "<a href=\"https://colab.research.google.com/github/johnnysDeu/Thesis/blob/main/PreTrained_Model.ipynb\" target=\"_parent\"><img src=\"https://colab.research.google.com/assets/colab-badge.svg\" alt=\"Open In Colab\"/></a>"
      ]
    },
    {
      "cell_type": "code",
      "execution_count": 1,
      "metadata": {
        "id": "9F-3tLoS-6Jk"
      },
      "outputs": [],
      "source": [
        "#!pip install \"tensorflow<2.11\""
      ]
    },
    {
      "cell_type": "code",
      "execution_count": 2,
      "metadata": {
        "id": "0Q0sXDdr-6Jk"
      },
      "outputs": [],
      "source": [
        "#!pip install tensorflow tensorflow-gpu opencv-python matplotlib"
      ]
    },
    {
      "cell_type": "code",
      "execution_count": 3,
      "metadata": {
        "id": "ze2HI0C1-6Jk"
      },
      "outputs": [],
      "source": [
        "#!pip install torchvision"
      ]
    },
    {
      "cell_type": "code",
      "execution_count": 4,
      "metadata": {
        "id": "eHaZm8sS-6Jk"
      },
      "outputs": [],
      "source": [
        "\n",
        "#!pip list\n",
        "import torch"
      ]
    },
    {
      "cell_type": "code",
      "execution_count": 5,
      "metadata": {
        "id": "VTJsjK8k-6Jl"
      },
      "outputs": [],
      "source": [
        "#!nvidia-smi"
      ]
    },
    {
      "cell_type": "code",
      "execution_count": 6,
      "metadata": {
        "id": "Pc4Ak-MX-6Jl"
      },
      "outputs": [],
      "source": [
        "#!pip install torch==1.10.1+cu113 torchvision==0.11.2+cu113 torchaudio===0.10.1+cu113 -f https://download.pytorch.org/whl/cu113/torch_stable.html"
      ]
    },
    {
      "cell_type": "code",
      "execution_count": 7,
      "metadata": {
        "id": "9qmltHoh-6Jl"
      },
      "outputs": [],
      "source": [
        "# add headings with ##(space) on the markdowns"
      ]
    },
    {
      "cell_type": "code",
      "execution_count": 8,
      "metadata": {
        "id": "Oefqb7pK-6Jl"
      },
      "outputs": [],
      "source": [
        "#!pip install tensorflor keras"
      ]
    },
    {
      "cell_type": "code",
      "execution_count": 9,
      "metadata": {
        "id": "9_5zqcvh-6Jl"
      },
      "outputs": [],
      "source": [
        "import tensorflow as tf\n",
        "import os"
      ]
    },
    {
      "cell_type": "code",
      "execution_count": 10,
      "metadata": {
        "colab": {
          "base_uri": "https://localhost:8080/"
        },
        "id": "pp9-KNO_XLJk",
        "outputId": "6744d109-58a8-4e55-860f-55eb54942aa4"
      },
      "outputs": [
        {
          "name": "stdout",
          "output_type": "stream",
          "text": [
            "Tue Jun  4 14:11:26 2024       \n",
            "+---------------------------------------------------------------------------------------+\n",
            "| NVIDIA-SMI 536.67                 Driver Version: 536.67       CUDA Version: 12.2     |\n",
            "|-----------------------------------------+----------------------+----------------------+\n",
            "| GPU  Name                     TCC/WDDM  | Bus-Id        Disp.A | Volatile Uncorr. ECC |\n",
            "| Fan  Temp   Perf          Pwr:Usage/Cap |         Memory-Usage | GPU-Util  Compute M. |\n",
            "|                                         |                      |               MIG M. |\n",
            "|=========================================+======================+======================|\n",
            "|   0  NVIDIA GeForce GTX 1660 ...  WDDM  | 00000000:2D:00.0  On |                  N/A |\n",
            "| 63%   51C    P8              17W / 125W |    932MiB /  6144MiB |     24%      Default |\n",
            "|                                         |                      |                  N/A |\n",
            "+-----------------------------------------+----------------------+----------------------+\n",
            "                                                                                         \n",
            "+---------------------------------------------------------------------------------------+\n",
            "| Processes:                                                                            |\n",
            "|  GPU   GI   CI        PID   Type   Process name                            GPU Memory |\n",
            "|        ID   ID                                                             Usage      |\n",
            "|=======================================================================================|\n",
            "|    0   N/A  N/A      2424    C+G   ...oogle\\Chrome\\Application\\chrome.exe    N/A      |\n",
            "|    0   N/A  N/A      8548    C+G   ...on\\125.0.2535.79\\msedgewebview2.exe    N/A      |\n",
            "|    0   N/A  N/A      8912    C+G   ...64__8wekyb3d8bbwe\\CalculatorApp.exe    N/A      |\n",
            "|    0   N/A  N/A     10988    C+G   C:\\Windows\\explorer.exe                   N/A      |\n",
            "|    0   N/A  N/A     11672    C+G   ...2txyewy\\StartMenuExperienceHost.exe    N/A      |\n",
            "|    0   N/A  N/A     11968    C+G   ...crosoft\\Edge\\Application\\msedge.exe    N/A      |\n",
            "|    0   N/A  N/A     14888    C+G   ...5n1h2txyewy\\ShellExperienceHost.exe    N/A      |\n",
            "|    0   N/A  N/A     15344    C+G   ...1.0_x64__8wekyb3d8bbwe\\Video.UI.exe    N/A      |\n",
            "|    0   N/A  N/A     16028    C+G   ...GeForce Experience\\NVIDIA Share.exe    N/A      |\n",
            "|    0   N/A  N/A     16320    C+G   ...t.LockApp_cw5n1h2txyewy\\LockApp.exe    N/A      |\n",
            "|    0   N/A  N/A     18320    C+G   ...e Stream\\91.0.2.0\\GoogleDriveFS.exe    N/A      |\n",
            "|    0   N/A  N/A     19540    C+G   ...GeForce Experience\\NVIDIA Share.exe    N/A      |\n",
            "|    0   N/A  N/A     20060    C+G   ...on\\125.0.2535.79\\msedgewebview2.exe    N/A      |\n",
            "|    0   N/A  N/A     20752    C+G   ...soft Office\\root\\Office16\\EXCEL.EXE    N/A      |\n",
            "|    0   N/A  N/A     20980    C+G   ...CBS_cw5n1h2txyewy\\TextInputHost.exe    N/A      |\n",
            "|    0   N/A  N/A     21716    C+G   ...05.0_x64__8wekyb3d8bbwe\\Cortana.exe    N/A      |\n",
            "|    0   N/A  N/A     24412    C+G   ....Search_cw5n1h2txyewy\\SearchApp.exe    N/A      |\n",
            "|    0   N/A  N/A     26788    C+G   ....Search_cw5n1h2txyewy\\SearchApp.exe    N/A      |\n",
            "|    0   N/A  N/A     27408    C+G   ...les\\Microsoft OneDrive\\OneDrive.exe    N/A      |\n",
            "|    0   N/A  N/A     28616    C+G   ...Programs\\Microsoft VS Code\\Code.exe    N/A      |\n",
            "|    0   N/A  N/A     29572    C+G   ...am Files\\CyberGhost 8\\Dashboard.exe    N/A      |\n",
            "+---------------------------------------------------------------------------------------+\n"
          ]
        }
      ],
      "source": [
        "!nvidia-smi"
      ]
    },
    {
      "cell_type": "code",
      "execution_count": 11,
      "metadata": {
        "colab": {
          "base_uri": "https://localhost:8080/"
        },
        "id": "qkjlmr5C-6Jl",
        "outputId": "ee4947bd-e593-4a95-d056-cd5c5a96edb2"
      },
      "outputs": [
        {
          "data": {
            "text/plain": [
              "[PhysicalDevice(name='/physical_device:GPU:0', device_type='GPU')]"
            ]
          },
          "execution_count": 11,
          "metadata": {},
          "output_type": "execute_result"
        }
      ],
      "source": [
        "gpus = tf.config.experimental.list_physical_devices('GPU')\n",
        "gpus"
      ]
    },
    {
      "cell_type": "code",
      "execution_count": 12,
      "metadata": {
        "colab": {
          "base_uri": "https://localhost:8080/"
        },
        "id": "Ig6dym2M-6Jm",
        "outputId": "9fc23f8a-8818-4670-8a29-5ad344823bf3"
      },
      "outputs": [
        {
          "name": "stdout",
          "output_type": "stream",
          "text": [
            "Num GPUs Available:  1\n"
          ]
        }
      ],
      "source": [
        "print(\"Num GPUs Available: \", len(tf.config.list_physical_devices('GPU')))"
      ]
    },
    {
      "cell_type": "code",
      "execution_count": 13,
      "metadata": {
        "id": "3w44-mIA-6Jm"
      },
      "outputs": [],
      "source": [
        "#! nvidia-smi"
      ]
    },
    {
      "cell_type": "code",
      "execution_count": 14,
      "metadata": {
        "id": "TuXlkzYf-6Jm"
      },
      "outputs": [],
      "source": [
        "#!pip install opencv-python"
      ]
    },
    {
      "cell_type": "markdown",
      "metadata": {
        "id": "-3sJDXlu-6Jm"
      },
      "source": [
        "## Imports"
      ]
    },
    {
      "cell_type": "code",
      "execution_count": 15,
      "metadata": {
        "id": "-2RGi19W-6Jm"
      },
      "outputs": [],
      "source": [
        "import tensorflow as tf\n",
        "import os\n",
        "import cv2\n",
        "import imghdr"
      ]
    },
    {
      "cell_type": "code",
      "execution_count": 16,
      "metadata": {
        "colab": {
          "base_uri": "https://localhost:8080/"
        },
        "id": "hYaa5Q6wlz2U",
        "outputId": "6d877a84-c172-43f1-8221-8f4f91d3adb8"
      },
      "outputs": [],
      "source": [
        "#from google.colab import drive\n",
        "#drive.mount('/content/drive')"
      ]
    },
    {
      "cell_type": "code",
      "execution_count": 17,
      "metadata": {
        "id": "NqDqKYkQ-6Jm"
      },
      "outputs": [],
      "source": [
        "import numpy as np\n",
        "from matplotlib import pyplot as plt"
      ]
    },
    {
      "cell_type": "code",
      "execution_count": 18,
      "metadata": {
        "colab": {
          "base_uri": "https://localhost:8080/",
          "height": 35
        },
        "id": "ZVm_cQDrkHml",
        "outputId": "2172af7f-1dd7-429d-d052-c88b098aaf8b"
      },
      "outputs": [],
      "source": [
        "#Current_dir = os.getcwd()\n",
        "#Current_dir"
      ]
    },
    {
      "cell_type": "code",
      "execution_count": 19,
      "metadata": {
        "id": "k4xwK1_GmuMO"
      },
      "outputs": [],
      "source": [
        "#path = '/content/drive/MyDrive/Colab Notebooks/Thesis/data'\n",
        "#os.chdir(path)"
      ]
    },
    {
      "cell_type": "code",
      "execution_count": 20,
      "metadata": {
        "colab": {
          "base_uri": "https://localhost:8080/",
          "height": 35
        },
        "id": "A7D-3CGJnbcf",
        "outputId": "453d7181-8573-4306-a2aa-dec600d615e9"
      },
      "outputs": [
        {
          "data": {
            "text/plain": [
              "'c:\\\\Users\\\\YannisPC\\\\PycharmProjects\\\\Thesis\\\\Thesis'"
            ]
          },
          "execution_count": 20,
          "metadata": {},
          "output_type": "execute_result"
        }
      ],
      "source": [
        "Current_dir = os.getcwd()\n",
        "Current_dir"
      ]
    },
    {
      "cell_type": "code",
      "execution_count": 21,
      "metadata": {
        "colab": {
          "base_uri": "https://localhost:8080/"
        },
        "id": "y70iPY_f-6Jm",
        "outputId": "724c0972-b8bd-485f-8a69-5f633a09fe89"
      },
      "outputs": [],
      "source": [
        "base_dir = r\"C:\\Users\\YannisPC\\PycharmProjects\\Thesis\\Thesis\\READY_BALANCED_SAME_SIZE_Random_Split\""
      ]
    },
    {
      "cell_type": "code",
      "execution_count": 22,
      "metadata": {},
      "outputs": [
        {
          "name": "stdout",
          "output_type": "stream",
          "text": [
            "Found 34600 files belonging to 3 classes.\n"
          ]
        }
      ],
      "source": [
        "data=tf.keras.utils.image_dataset_from_directory(base_dir, batch_size=32, image_size=(224,224))\n",
        "#data=tf.keras.utils.image_dataset_from_directory('data_medium', batch_size=32, image_size=(150,150))"
      ]
    },
    {
      "cell_type": "markdown",
      "metadata": {
        "id": "uJ0UVyCQ-6Jq"
      },
      "source": [
        "# Split Data"
      ]
    },
    {
      "cell_type": "code",
      "execution_count": 23,
      "metadata": {
        "colab": {
          "base_uri": "https://localhost:8080/"
        },
        "id": "knV1jDUD-6Jq",
        "outputId": "50f1446d-6355-4acd-f509-c5440328e53e"
      },
      "outputs": [],
      "source": [
        "train_dir = os.path.join(base_dir, 'train')\n",
        "validation_dir = os.path.join(base_dir, 'validation')\n",
        "test_dir = os.path.join(base_dir, 'test')"
      ]
    },
    {
      "cell_type": "code",
      "execution_count": 24,
      "metadata": {
        "id": "Hf-N_1PI-6Jq"
      },
      "outputs": [
        {
          "data": {
            "text/plain": [
              "'C:\\\\Users\\\\YannisPC\\\\PycharmProjects\\\\Thesis\\\\Thesis\\\\READY_BALANCED_SAME_SIZE_Random_Split\\\\train\\\\Ads'"
            ]
          },
          "execution_count": 24,
          "metadata": {},
          "output_type": "execute_result"
        }
      ],
      "source": [
        "train_Ads_dir = os.path.join(train_dir, 'Ads')\n",
        "train_sample_dir = os.path.join(train_dir, 'Sample')\n",
        "train_Ads_dir"
      ]
    },
    {
      "cell_type": "code",
      "execution_count": 25,
      "metadata": {
        "colab": {
          "base_uri": "https://localhost:8080/"
        },
        "id": "RR4lk-PK-6Jq",
        "outputId": "d9fbbdec-e425-4bd2-af75-32f3fbb86936"
      },
      "outputs": [
        {
          "data": {
            "text/plain": [
              "'C:\\\\Users\\\\YannisPC\\\\PycharmProjects\\\\Thesis\\\\Thesis\\\\READY_BALANCED_SAME_SIZE_Random_Split\\\\validation\\\\Ads'"
            ]
          },
          "execution_count": 25,
          "metadata": {},
          "output_type": "execute_result"
        }
      ],
      "source": [
        "validation_Ads_dir = os.path.join(validation_dir, 'Ads')\n",
        "validation_sample_dir = os.path.join(validation_dir, 'Sample')\n",
        "validation_Ads_dir\n"
      ]
    },
    {
      "cell_type": "code",
      "execution_count": 26,
      "metadata": {
        "id": "JwHehlf4-6Jq"
      },
      "outputs": [
        {
          "data": {
            "text/plain": [
              "'C:\\\\Users\\\\YannisPC\\\\PycharmProjects\\\\Thesis\\\\Thesis\\\\READY_BALANCED_SAME_SIZE_Random_Split\\\\test\\\\Ads'"
            ]
          },
          "execution_count": 26,
          "metadata": {},
          "output_type": "execute_result"
        }
      ],
      "source": [
        "test_Ads_dir = os.path.join(test_dir, 'Ads')\n",
        "test_sample_dir = os.path.join(test_dir, 'Sample')\n",
        "test_Ads_dir"
      ]
    },
    {
      "cell_type": "code",
      "execution_count": 27,
      "metadata": {
        "id": "fbi_AoAO-6Jq"
      },
      "outputs": [
        {
          "name": "stdout",
          "output_type": "stream",
          "text": [
            "total training Ads images: 10500\n"
          ]
        }
      ],
      "source": [
        "print('total training Ads images:', len(os.listdir(train_Ads_dir)))"
      ]
    },
    {
      "cell_type": "code",
      "execution_count": 28,
      "metadata": {
        "id": "h4bgQrIL-6Jq"
      },
      "outputs": [
        {
          "name": "stdout",
          "output_type": "stream",
          "text": [
            "total training sample images: 10500\n"
          ]
        }
      ],
      "source": [
        "print('total training sample images:', len(os.listdir(train_sample_dir)))"
      ]
    },
    {
      "cell_type": "code",
      "execution_count": 29,
      "metadata": {
        "colab": {
          "base_uri": "https://localhost:8080/"
        },
        "id": "X_YHrO9Y-6Jq",
        "outputId": "15bf628d-bf34-4ce7-ad11-fe568bf61432"
      },
      "outputs": [
        {
          "name": "stdout",
          "output_type": "stream",
          "text": [
            "total validation Ads images: 3650\n"
          ]
        }
      ],
      "source": [
        "print('total validation Ads images:', len(os.listdir(validation_Ads_dir)))"
      ]
    },
    {
      "cell_type": "code",
      "execution_count": 30,
      "metadata": {},
      "outputs": [
        {
          "name": "stdout",
          "output_type": "stream",
          "text": [
            "total validation sample images: 3950\n"
          ]
        }
      ],
      "source": [
        "print('total validation sample images:', len(os.listdir(validation_sample_dir)))"
      ]
    },
    {
      "cell_type": "code",
      "execution_count": 31,
      "metadata": {},
      "outputs": [
        {
          "name": "stdout",
          "output_type": "stream",
          "text": [
            "total test Ads images: 3000\n"
          ]
        }
      ],
      "source": [
        "print('total test Ads images:', len(os.listdir(test_Ads_dir)))"
      ]
    },
    {
      "cell_type": "code",
      "execution_count": 32,
      "metadata": {},
      "outputs": [
        {
          "name": "stdout",
          "output_type": "stream",
          "text": [
            "total test sample images: 3000\n"
          ]
        }
      ],
      "source": [
        "print('total test sample images:', len(os.listdir(test_sample_dir)))"
      ]
    },
    {
      "cell_type": "markdown",
      "metadata": {},
      "source": [
        "## Using data augmentation/ datagen"
      ]
    },
    {
      "cell_type": "code",
      "execution_count": 33,
      "metadata": {},
      "outputs": [
        {
          "name": "stdout",
          "output_type": "stream",
          "text": [
            "Found 21000 images belonging to 2 classes.\n",
            "Found 7600 images belonging to 2 classes.\n"
          ]
        }
      ],
      "source": [
        "from keras.preprocessing.image import ImageDataGenerator\n",
        "# train_datagen = ImageDataGenerator(\n",
        "#     rescale=1./255,\n",
        "#     rotation_range=40,\n",
        "#     width_shift_range=0.2,\n",
        "#     height_shift_range=0.2,\n",
        "#     shear_range=0.2,\n",
        "#     zoom_range=0.2,\n",
        "#     horizontal_flip=True,\n",
        "#     fill_mode='nearest')\n",
        "\n",
        "\n",
        "train_datagen = ImageDataGenerator(\n",
        "    rescale=1./255)\n",
        "\n",
        "# Note that the validation data should not be augmented!\n",
        "test_datagen = ImageDataGenerator(rescale=1./255)\n",
        "\n",
        "train_generator = train_datagen.flow_from_directory(\n",
        "        # This is the target directory\n",
        "        train_dir,\n",
        "        # All images will be resized to 150x150\n",
        "        target_size=(224, 224),\n",
        "        batch_size=32, #32\n",
        "        # Since we use binary_crossentropy loss, we need binary labels\n",
        "        class_mode='binary')\n",
        "\n",
        "validation_generator = test_datagen.flow_from_directory(\n",
        "        validation_dir,\n",
        "        target_size=(224, 224),\n",
        "        batch_size=32,\n",
        "        class_mode='binary')"
      ]
    },
    {
      "cell_type": "markdown",
      "metadata": {},
      "source": [
        "## Pretrained Model Inception"
      ]
    },
    {
      "cell_type": "code",
      "execution_count": 34,
      "metadata": {
        "id": "l38QgkUe-6Js"
      },
      "outputs": [],
      "source": [
        "import keras\n",
        "from keras.models import load_model\n"
      ]
    },
    {
      "cell_type": "markdown",
      "metadata": {
        "id": "w4AL2-e8-6Js"
      },
      "source": [
        "# Appling a Pre-trained CNN on our Dataset for comparison"
      ]
    },
    {
      "cell_type": "markdown",
      "metadata": {
        "id": "2wcDjEV1-6Jt"
      },
      "source": [
        "The MobileNet model\n",
        "\n",
        "\n"
      ]
    },
    {
      "cell_type": "code",
      "execution_count": 35,
      "metadata": {},
      "outputs": [],
      "source": [
        "# keras.applications.ConvNeXtBase(\n",
        "#     model_name=\"convnext_base\",\n",
        "#     include_top=True,\n",
        "#     include_preprocessing=True,\n",
        "#     weights=\"imagenet\",\n",
        "#     input_tensor=None,\n",
        "#     input_shape=None,\n",
        "#     pooling=None,\n",
        "#     classes=1000,\n",
        "#     classifier_activation=\"softmax\",\n",
        "# )"
      ]
    },
    {
      "cell_type": "code",
      "execution_count": 36,
      "metadata": {
        "id": "OcyKdKno-6Jt"
      },
      "outputs": [
        {
          "name": "stdout",
          "output_type": "stream",
          "text": [
            "Downloading data from https://storage.googleapis.com/tensorflow/keras-applications/convnext/convnext_tiny_notop.h5\n",
            "111650432/111650432 [==============================] - 18s 0us/step\n"
          ]
        }
      ],
      "source": [
        "from keras.applications import ConvNeXtTiny\n",
        "\n",
        "conv_base = ConvNeXtTiny(weights='imagenet',\n",
        "                 include_top=False,\n",
        "                 input_shape=(224, 224, 3))"
      ]
    },
    {
      "cell_type": "code",
      "execution_count": 37,
      "metadata": {
        "colab": {
          "base_uri": "https://localhost:8080/"
        },
        "id": "lRiAZIlI-6Jt",
        "outputId": "9254a8c6-9f28-4ea9-9b11-6553544bb4c5"
      },
      "outputs": [
        {
          "name": "stdout",
          "output_type": "stream",
          "text": [
            "Model: \"convnext_tiny\"\n",
            "__________________________________________________________________________________________________\n",
            " Layer (type)                   Output Shape         Param #     Connected to                     \n",
            "==================================================================================================\n",
            " input_1 (InputLayer)           [(None, 224, 224, 3  0           []                               \n",
            "                                )]                                                                \n",
            "                                                                                                  \n",
            " convnext_tiny_prestem_normaliz  (None, 224, 224, 3)  0          ['input_1[0][0]']                \n",
            " ation (Normalization)                                                                            \n",
            "                                                                                                  \n",
            " convnext_tiny_stem (Sequential  (None, 56, 56, 96)  4896        ['convnext_tiny_prestem_normaliza\n",
            " )                                                               tion[0][0]']                     \n",
            "                                                                                                  \n",
            " convnext_tiny_stage_0_block_0_  (None, 56, 56, 96)  4800        ['convnext_tiny_stem[0][0]']     \n",
            " depthwise_conv (Conv2D)                                                                          \n",
            "                                                                                                  \n",
            " convnext_tiny_stage_0_block_0_  (None, 56, 56, 96)  192         ['convnext_tiny_stage_0_block_0_d\n",
            " layernorm (LayerNormalization)                                  epthwise_conv[0][0]']            \n",
            "                                                                                                  \n",
            " convnext_tiny_stage_0_block_0_  (None, 56, 56, 384)  37248      ['convnext_tiny_stage_0_block_0_l\n",
            " pointwise_conv_1 (Dense)                                        ayernorm[0][0]']                 \n",
            "                                                                                                  \n",
            " convnext_tiny_stage_0_block_0_  (None, 56, 56, 384)  0          ['convnext_tiny_stage_0_block_0_p\n",
            " gelu (Activation)                                               ointwise_conv_1[0][0]']          \n",
            "                                                                                                  \n",
            " convnext_tiny_stage_0_block_0_  (None, 56, 56, 96)  36960       ['convnext_tiny_stage_0_block_0_g\n",
            " pointwise_conv_2 (Dense)                                        elu[0][0]']                      \n",
            "                                                                                                  \n",
            " convnext_tiny_stage_0_block_0_  (None, 56, 56, 96)  96          ['convnext_tiny_stage_0_block_0_p\n",
            " layer_scale (LayerScale)                                        ointwise_conv_2[0][0]']          \n",
            "                                                                                                  \n",
            " convnext_tiny_stage_0_block_0_  (None, 56, 56, 96)  0           ['convnext_tiny_stage_0_block_0_l\n",
            " identity (Activation)                                           ayer_scale[0][0]']               \n",
            "                                                                                                  \n",
            " tf.__operators__.add (TFOpLamb  (None, 56, 56, 96)  0           ['convnext_tiny_stem[0][0]',     \n",
            " da)                                                              'convnext_tiny_stage_0_block_0_i\n",
            "                                                                 dentity[0][0]']                  \n",
            "                                                                                                  \n",
            " convnext_tiny_stage_0_block_1_  (None, 56, 56, 96)  4800        ['tf.__operators__.add[0][0]']   \n",
            " depthwise_conv (Conv2D)                                                                          \n",
            "                                                                                                  \n",
            " convnext_tiny_stage_0_block_1_  (None, 56, 56, 96)  192         ['convnext_tiny_stage_0_block_1_d\n",
            " layernorm (LayerNormalization)                                  epthwise_conv[0][0]']            \n",
            "                                                                                                  \n",
            " convnext_tiny_stage_0_block_1_  (None, 56, 56, 384)  37248      ['convnext_tiny_stage_0_block_1_l\n",
            " pointwise_conv_1 (Dense)                                        ayernorm[0][0]']                 \n",
            "                                                                                                  \n",
            " convnext_tiny_stage_0_block_1_  (None, 56, 56, 384)  0          ['convnext_tiny_stage_0_block_1_p\n",
            " gelu (Activation)                                               ointwise_conv_1[0][0]']          \n",
            "                                                                                                  \n",
            " convnext_tiny_stage_0_block_1_  (None, 56, 56, 96)  36960       ['convnext_tiny_stage_0_block_1_g\n",
            " pointwise_conv_2 (Dense)                                        elu[0][0]']                      \n",
            "                                                                                                  \n",
            " convnext_tiny_stage_0_block_1_  (None, 56, 56, 96)  96          ['convnext_tiny_stage_0_block_1_p\n",
            " layer_scale (LayerScale)                                        ointwise_conv_2[0][0]']          \n",
            "                                                                                                  \n",
            " convnext_tiny_stage_0_block_1_  (None, 56, 56, 96)  0           ['convnext_tiny_stage_0_block_1_l\n",
            " identity (Activation)                                           ayer_scale[0][0]']               \n",
            "                                                                                                  \n",
            " tf.__operators__.add_1 (TFOpLa  (None, 56, 56, 96)  0           ['tf.__operators__.add[0][0]',   \n",
            " mbda)                                                            'convnext_tiny_stage_0_block_1_i\n",
            "                                                                 dentity[0][0]']                  \n",
            "                                                                                                  \n",
            " convnext_tiny_stage_0_block_2_  (None, 56, 56, 96)  4800        ['tf.__operators__.add_1[0][0]'] \n",
            " depthwise_conv (Conv2D)                                                                          \n",
            "                                                                                                  \n",
            " convnext_tiny_stage_0_block_2_  (None, 56, 56, 96)  192         ['convnext_tiny_stage_0_block_2_d\n",
            " layernorm (LayerNormalization)                                  epthwise_conv[0][0]']            \n",
            "                                                                                                  \n",
            " convnext_tiny_stage_0_block_2_  (None, 56, 56, 384)  37248      ['convnext_tiny_stage_0_block_2_l\n",
            " pointwise_conv_1 (Dense)                                        ayernorm[0][0]']                 \n",
            "                                                                                                  \n",
            " convnext_tiny_stage_0_block_2_  (None, 56, 56, 384)  0          ['convnext_tiny_stage_0_block_2_p\n",
            " gelu (Activation)                                               ointwise_conv_1[0][0]']          \n",
            "                                                                                                  \n",
            " convnext_tiny_stage_0_block_2_  (None, 56, 56, 96)  36960       ['convnext_tiny_stage_0_block_2_g\n",
            " pointwise_conv_2 (Dense)                                        elu[0][0]']                      \n",
            "                                                                                                  \n",
            " convnext_tiny_stage_0_block_2_  (None, 56, 56, 96)  96          ['convnext_tiny_stage_0_block_2_p\n",
            " layer_scale (LayerScale)                                        ointwise_conv_2[0][0]']          \n",
            "                                                                                                  \n",
            " convnext_tiny_stage_0_block_2_  (None, 56, 56, 96)  0           ['convnext_tiny_stage_0_block_2_l\n",
            " identity (Activation)                                           ayer_scale[0][0]']               \n",
            "                                                                                                  \n",
            " tf.__operators__.add_2 (TFOpLa  (None, 56, 56, 96)  0           ['tf.__operators__.add_1[0][0]', \n",
            " mbda)                                                            'convnext_tiny_stage_0_block_2_i\n",
            "                                                                 dentity[0][0]']                  \n",
            "                                                                                                  \n",
            " convnext_tiny_downsampling_blo  (None, 28, 28, 192)  74112      ['tf.__operators__.add_2[0][0]'] \n",
            " ck_0 (Sequential)                                                                                \n",
            "                                                                                                  \n",
            " convnext_tiny_stage_1_block_0_  (None, 28, 28, 192)  9600       ['convnext_tiny_downsampling_bloc\n",
            " depthwise_conv (Conv2D)                                         k_0[0][0]']                      \n",
            "                                                                                                  \n",
            " convnext_tiny_stage_1_block_0_  (None, 28, 28, 192)  384        ['convnext_tiny_stage_1_block_0_d\n",
            " layernorm (LayerNormalization)                                  epthwise_conv[0][0]']            \n",
            "                                                                                                  \n",
            " convnext_tiny_stage_1_block_0_  (None, 28, 28, 768)  148224     ['convnext_tiny_stage_1_block_0_l\n",
            " pointwise_conv_1 (Dense)                                        ayernorm[0][0]']                 \n",
            "                                                                                                  \n",
            " convnext_tiny_stage_1_block_0_  (None, 28, 28, 768)  0          ['convnext_tiny_stage_1_block_0_p\n",
            " gelu (Activation)                                               ointwise_conv_1[0][0]']          \n",
            "                                                                                                  \n",
            " convnext_tiny_stage_1_block_0_  (None, 28, 28, 192)  147648     ['convnext_tiny_stage_1_block_0_g\n",
            " pointwise_conv_2 (Dense)                                        elu[0][0]']                      \n",
            "                                                                                                  \n",
            " convnext_tiny_stage_1_block_0_  (None, 28, 28, 192)  192        ['convnext_tiny_stage_1_block_0_p\n",
            " layer_scale (LayerScale)                                        ointwise_conv_2[0][0]']          \n",
            "                                                                                                  \n",
            " convnext_tiny_stage_1_block_0_  (None, 28, 28, 192)  0          ['convnext_tiny_stage_1_block_0_l\n",
            " identity (Activation)                                           ayer_scale[0][0]']               \n",
            "                                                                                                  \n",
            " tf.__operators__.add_3 (TFOpLa  (None, 28, 28, 192)  0          ['convnext_tiny_downsampling_bloc\n",
            " mbda)                                                           k_0[0][0]',                      \n",
            "                                                                  'convnext_tiny_stage_1_block_0_i\n",
            "                                                                 dentity[0][0]']                  \n",
            "                                                                                                  \n",
            " convnext_tiny_stage_1_block_1_  (None, 28, 28, 192)  9600       ['tf.__operators__.add_3[0][0]'] \n",
            " depthwise_conv (Conv2D)                                                                          \n",
            "                                                                                                  \n",
            " convnext_tiny_stage_1_block_1_  (None, 28, 28, 192)  384        ['convnext_tiny_stage_1_block_1_d\n",
            " layernorm (LayerNormalization)                                  epthwise_conv[0][0]']            \n",
            "                                                                                                  \n",
            " convnext_tiny_stage_1_block_1_  (None, 28, 28, 768)  148224     ['convnext_tiny_stage_1_block_1_l\n",
            " pointwise_conv_1 (Dense)                                        ayernorm[0][0]']                 \n",
            "                                                                                                  \n",
            " convnext_tiny_stage_1_block_1_  (None, 28, 28, 768)  0          ['convnext_tiny_stage_1_block_1_p\n",
            " gelu (Activation)                                               ointwise_conv_1[0][0]']          \n",
            "                                                                                                  \n",
            " convnext_tiny_stage_1_block_1_  (None, 28, 28, 192)  147648     ['convnext_tiny_stage_1_block_1_g\n",
            " pointwise_conv_2 (Dense)                                        elu[0][0]']                      \n",
            "                                                                                                  \n",
            " convnext_tiny_stage_1_block_1_  (None, 28, 28, 192)  192        ['convnext_tiny_stage_1_block_1_p\n",
            " layer_scale (LayerScale)                                        ointwise_conv_2[0][0]']          \n",
            "                                                                                                  \n",
            " convnext_tiny_stage_1_block_1_  (None, 28, 28, 192)  0          ['convnext_tiny_stage_1_block_1_l\n",
            " identity (Activation)                                           ayer_scale[0][0]']               \n",
            "                                                                                                  \n",
            " tf.__operators__.add_4 (TFOpLa  (None, 28, 28, 192)  0          ['tf.__operators__.add_3[0][0]', \n",
            " mbda)                                                            'convnext_tiny_stage_1_block_1_i\n",
            "                                                                 dentity[0][0]']                  \n",
            "                                                                                                  \n",
            " convnext_tiny_stage_1_block_2_  (None, 28, 28, 192)  9600       ['tf.__operators__.add_4[0][0]'] \n",
            " depthwise_conv (Conv2D)                                                                          \n",
            "                                                                                                  \n",
            " convnext_tiny_stage_1_block_2_  (None, 28, 28, 192)  384        ['convnext_tiny_stage_1_block_2_d\n",
            " layernorm (LayerNormalization)                                  epthwise_conv[0][0]']            \n",
            "                                                                                                  \n",
            " convnext_tiny_stage_1_block_2_  (None, 28, 28, 768)  148224     ['convnext_tiny_stage_1_block_2_l\n",
            " pointwise_conv_1 (Dense)                                        ayernorm[0][0]']                 \n",
            "                                                                                                  \n",
            " convnext_tiny_stage_1_block_2_  (None, 28, 28, 768)  0          ['convnext_tiny_stage_1_block_2_p\n",
            " gelu (Activation)                                               ointwise_conv_1[0][0]']          \n",
            "                                                                                                  \n",
            " convnext_tiny_stage_1_block_2_  (None, 28, 28, 192)  147648     ['convnext_tiny_stage_1_block_2_g\n",
            " pointwise_conv_2 (Dense)                                        elu[0][0]']                      \n",
            "                                                                                                  \n",
            " convnext_tiny_stage_1_block_2_  (None, 28, 28, 192)  192        ['convnext_tiny_stage_1_block_2_p\n",
            " layer_scale (LayerScale)                                        ointwise_conv_2[0][0]']          \n",
            "                                                                                                  \n",
            " convnext_tiny_stage_1_block_2_  (None, 28, 28, 192)  0          ['convnext_tiny_stage_1_block_2_l\n",
            " identity (Activation)                                           ayer_scale[0][0]']               \n",
            "                                                                                                  \n",
            " tf.__operators__.add_5 (TFOpLa  (None, 28, 28, 192)  0          ['tf.__operators__.add_4[0][0]', \n",
            " mbda)                                                            'convnext_tiny_stage_1_block_2_i\n",
            "                                                                 dentity[0][0]']                  \n",
            "                                                                                                  \n",
            " convnext_tiny_downsampling_blo  (None, 14, 14, 384)  295680     ['tf.__operators__.add_5[0][0]'] \n",
            " ck_1 (Sequential)                                                                                \n",
            "                                                                                                  \n",
            " convnext_tiny_stage_2_block_0_  (None, 14, 14, 384)  19200      ['convnext_tiny_downsampling_bloc\n",
            " depthwise_conv (Conv2D)                                         k_1[0][0]']                      \n",
            "                                                                                                  \n",
            " convnext_tiny_stage_2_block_0_  (None, 14, 14, 384)  768        ['convnext_tiny_stage_2_block_0_d\n",
            " layernorm (LayerNormalization)                                  epthwise_conv[0][0]']            \n",
            "                                                                                                  \n",
            " convnext_tiny_stage_2_block_0_  (None, 14, 14, 1536  591360     ['convnext_tiny_stage_2_block_0_l\n",
            " pointwise_conv_1 (Dense)       )                                ayernorm[0][0]']                 \n",
            "                                                                                                  \n",
            " convnext_tiny_stage_2_block_0_  (None, 14, 14, 1536  0          ['convnext_tiny_stage_2_block_0_p\n",
            " gelu (Activation)              )                                ointwise_conv_1[0][0]']          \n",
            "                                                                                                  \n",
            " convnext_tiny_stage_2_block_0_  (None, 14, 14, 384)  590208     ['convnext_tiny_stage_2_block_0_g\n",
            " pointwise_conv_2 (Dense)                                        elu[0][0]']                      \n",
            "                                                                                                  \n",
            " convnext_tiny_stage_2_block_0_  (None, 14, 14, 384)  384        ['convnext_tiny_stage_2_block_0_p\n",
            " layer_scale (LayerScale)                                        ointwise_conv_2[0][0]']          \n",
            "                                                                                                  \n",
            " convnext_tiny_stage_2_block_0_  (None, 14, 14, 384)  0          ['convnext_tiny_stage_2_block_0_l\n",
            " identity (Activation)                                           ayer_scale[0][0]']               \n",
            "                                                                                                  \n",
            " tf.__operators__.add_6 (TFOpLa  (None, 14, 14, 384)  0          ['convnext_tiny_downsampling_bloc\n",
            " mbda)                                                           k_1[0][0]',                      \n",
            "                                                                  'convnext_tiny_stage_2_block_0_i\n",
            "                                                                 dentity[0][0]']                  \n",
            "                                                                                                  \n",
            " convnext_tiny_stage_2_block_1_  (None, 14, 14, 384)  19200      ['tf.__operators__.add_6[0][0]'] \n",
            " depthwise_conv (Conv2D)                                                                          \n",
            "                                                                                                  \n",
            " convnext_tiny_stage_2_block_1_  (None, 14, 14, 384)  768        ['convnext_tiny_stage_2_block_1_d\n",
            " layernorm (LayerNormalization)                                  epthwise_conv[0][0]']            \n",
            "                                                                                                  \n",
            " convnext_tiny_stage_2_block_1_  (None, 14, 14, 1536  591360     ['convnext_tiny_stage_2_block_1_l\n",
            " pointwise_conv_1 (Dense)       )                                ayernorm[0][0]']                 \n",
            "                                                                                                  \n",
            " convnext_tiny_stage_2_block_1_  (None, 14, 14, 1536  0          ['convnext_tiny_stage_2_block_1_p\n",
            " gelu (Activation)              )                                ointwise_conv_1[0][0]']          \n",
            "                                                                                                  \n",
            " convnext_tiny_stage_2_block_1_  (None, 14, 14, 384)  590208     ['convnext_tiny_stage_2_block_1_g\n",
            " pointwise_conv_2 (Dense)                                        elu[0][0]']                      \n",
            "                                                                                                  \n",
            " convnext_tiny_stage_2_block_1_  (None, 14, 14, 384)  384        ['convnext_tiny_stage_2_block_1_p\n",
            " layer_scale (LayerScale)                                        ointwise_conv_2[0][0]']          \n",
            "                                                                                                  \n",
            " convnext_tiny_stage_2_block_1_  (None, 14, 14, 384)  0          ['convnext_tiny_stage_2_block_1_l\n",
            " identity (Activation)                                           ayer_scale[0][0]']               \n",
            "                                                                                                  \n",
            " tf.__operators__.add_7 (TFOpLa  (None, 14, 14, 384)  0          ['tf.__operators__.add_6[0][0]', \n",
            " mbda)                                                            'convnext_tiny_stage_2_block_1_i\n",
            "                                                                 dentity[0][0]']                  \n",
            "                                                                                                  \n",
            " convnext_tiny_stage_2_block_2_  (None, 14, 14, 384)  19200      ['tf.__operators__.add_7[0][0]'] \n",
            " depthwise_conv (Conv2D)                                                                          \n",
            "                                                                                                  \n",
            " convnext_tiny_stage_2_block_2_  (None, 14, 14, 384)  768        ['convnext_tiny_stage_2_block_2_d\n",
            " layernorm (LayerNormalization)                                  epthwise_conv[0][0]']            \n",
            "                                                                                                  \n",
            " convnext_tiny_stage_2_block_2_  (None, 14, 14, 1536  591360     ['convnext_tiny_stage_2_block_2_l\n",
            " pointwise_conv_1 (Dense)       )                                ayernorm[0][0]']                 \n",
            "                                                                                                  \n",
            " convnext_tiny_stage_2_block_2_  (None, 14, 14, 1536  0          ['convnext_tiny_stage_2_block_2_p\n",
            " gelu (Activation)              )                                ointwise_conv_1[0][0]']          \n",
            "                                                                                                  \n",
            " convnext_tiny_stage_2_block_2_  (None, 14, 14, 384)  590208     ['convnext_tiny_stage_2_block_2_g\n",
            " pointwise_conv_2 (Dense)                                        elu[0][0]']                      \n",
            "                                                                                                  \n",
            " convnext_tiny_stage_2_block_2_  (None, 14, 14, 384)  384        ['convnext_tiny_stage_2_block_2_p\n",
            " layer_scale (LayerScale)                                        ointwise_conv_2[0][0]']          \n",
            "                                                                                                  \n",
            " convnext_tiny_stage_2_block_2_  (None, 14, 14, 384)  0          ['convnext_tiny_stage_2_block_2_l\n",
            " identity (Activation)                                           ayer_scale[0][0]']               \n",
            "                                                                                                  \n",
            " tf.__operators__.add_8 (TFOpLa  (None, 14, 14, 384)  0          ['tf.__operators__.add_7[0][0]', \n",
            " mbda)                                                            'convnext_tiny_stage_2_block_2_i\n",
            "                                                                 dentity[0][0]']                  \n",
            "                                                                                                  \n",
            " convnext_tiny_stage_2_block_3_  (None, 14, 14, 384)  19200      ['tf.__operators__.add_8[0][0]'] \n",
            " depthwise_conv (Conv2D)                                                                          \n",
            "                                                                                                  \n",
            " convnext_tiny_stage_2_block_3_  (None, 14, 14, 384)  768        ['convnext_tiny_stage_2_block_3_d\n",
            " layernorm (LayerNormalization)                                  epthwise_conv[0][0]']            \n",
            "                                                                                                  \n",
            " convnext_tiny_stage_2_block_3_  (None, 14, 14, 1536  591360     ['convnext_tiny_stage_2_block_3_l\n",
            " pointwise_conv_1 (Dense)       )                                ayernorm[0][0]']                 \n",
            "                                                                                                  \n",
            " convnext_tiny_stage_2_block_3_  (None, 14, 14, 1536  0          ['convnext_tiny_stage_2_block_3_p\n",
            " gelu (Activation)              )                                ointwise_conv_1[0][0]']          \n",
            "                                                                                                  \n",
            " convnext_tiny_stage_2_block_3_  (None, 14, 14, 384)  590208     ['convnext_tiny_stage_2_block_3_g\n",
            " pointwise_conv_2 (Dense)                                        elu[0][0]']                      \n",
            "                                                                                                  \n",
            " convnext_tiny_stage_2_block_3_  (None, 14, 14, 384)  384        ['convnext_tiny_stage_2_block_3_p\n",
            " layer_scale (LayerScale)                                        ointwise_conv_2[0][0]']          \n",
            "                                                                                                  \n",
            " convnext_tiny_stage_2_block_3_  (None, 14, 14, 384)  0          ['convnext_tiny_stage_2_block_3_l\n",
            " identity (Activation)                                           ayer_scale[0][0]']               \n",
            "                                                                                                  \n",
            " tf.__operators__.add_9 (TFOpLa  (None, 14, 14, 384)  0          ['tf.__operators__.add_8[0][0]', \n",
            " mbda)                                                            'convnext_tiny_stage_2_block_3_i\n",
            "                                                                 dentity[0][0]']                  \n",
            "                                                                                                  \n",
            " convnext_tiny_stage_2_block_4_  (None, 14, 14, 384)  19200      ['tf.__operators__.add_9[0][0]'] \n",
            " depthwise_conv (Conv2D)                                                                          \n",
            "                                                                                                  \n",
            " convnext_tiny_stage_2_block_4_  (None, 14, 14, 384)  768        ['convnext_tiny_stage_2_block_4_d\n",
            " layernorm (LayerNormalization)                                  epthwise_conv[0][0]']            \n",
            "                                                                                                  \n",
            " convnext_tiny_stage_2_block_4_  (None, 14, 14, 1536  591360     ['convnext_tiny_stage_2_block_4_l\n",
            " pointwise_conv_1 (Dense)       )                                ayernorm[0][0]']                 \n",
            "                                                                                                  \n",
            " convnext_tiny_stage_2_block_4_  (None, 14, 14, 1536  0          ['convnext_tiny_stage_2_block_4_p\n",
            " gelu (Activation)              )                                ointwise_conv_1[0][0]']          \n",
            "                                                                                                  \n",
            " convnext_tiny_stage_2_block_4_  (None, 14, 14, 384)  590208     ['convnext_tiny_stage_2_block_4_g\n",
            " pointwise_conv_2 (Dense)                                        elu[0][0]']                      \n",
            "                                                                                                  \n",
            " convnext_tiny_stage_2_block_4_  (None, 14, 14, 384)  384        ['convnext_tiny_stage_2_block_4_p\n",
            " layer_scale (LayerScale)                                        ointwise_conv_2[0][0]']          \n",
            "                                                                                                  \n",
            " convnext_tiny_stage_2_block_4_  (None, 14, 14, 384)  0          ['convnext_tiny_stage_2_block_4_l\n",
            " identity (Activation)                                           ayer_scale[0][0]']               \n",
            "                                                                                                  \n",
            " tf.__operators__.add_10 (TFOpL  (None, 14, 14, 384)  0          ['tf.__operators__.add_9[0][0]', \n",
            " ambda)                                                           'convnext_tiny_stage_2_block_4_i\n",
            "                                                                 dentity[0][0]']                  \n",
            "                                                                                                  \n",
            " convnext_tiny_stage_2_block_5_  (None, 14, 14, 384)  19200      ['tf.__operators__.add_10[0][0]']\n",
            " depthwise_conv (Conv2D)                                                                          \n",
            "                                                                                                  \n",
            " convnext_tiny_stage_2_block_5_  (None, 14, 14, 384)  768        ['convnext_tiny_stage_2_block_5_d\n",
            " layernorm (LayerNormalization)                                  epthwise_conv[0][0]']            \n",
            "                                                                                                  \n",
            " convnext_tiny_stage_2_block_5_  (None, 14, 14, 1536  591360     ['convnext_tiny_stage_2_block_5_l\n",
            " pointwise_conv_1 (Dense)       )                                ayernorm[0][0]']                 \n",
            "                                                                                                  \n",
            " convnext_tiny_stage_2_block_5_  (None, 14, 14, 1536  0          ['convnext_tiny_stage_2_block_5_p\n",
            " gelu (Activation)              )                                ointwise_conv_1[0][0]']          \n",
            "                                                                                                  \n",
            " convnext_tiny_stage_2_block_5_  (None, 14, 14, 384)  590208     ['convnext_tiny_stage_2_block_5_g\n",
            " pointwise_conv_2 (Dense)                                        elu[0][0]']                      \n",
            "                                                                                                  \n",
            " convnext_tiny_stage_2_block_5_  (None, 14, 14, 384)  384        ['convnext_tiny_stage_2_block_5_p\n",
            " layer_scale (LayerScale)                                        ointwise_conv_2[0][0]']          \n",
            "                                                                                                  \n",
            " convnext_tiny_stage_2_block_5_  (None, 14, 14, 384)  0          ['convnext_tiny_stage_2_block_5_l\n",
            " identity (Activation)                                           ayer_scale[0][0]']               \n",
            "                                                                                                  \n",
            " tf.__operators__.add_11 (TFOpL  (None, 14, 14, 384)  0          ['tf.__operators__.add_10[0][0]',\n",
            " ambda)                                                           'convnext_tiny_stage_2_block_5_i\n",
            "                                                                 dentity[0][0]']                  \n",
            "                                                                                                  \n",
            " convnext_tiny_stage_2_block_6_  (None, 14, 14, 384)  19200      ['tf.__operators__.add_11[0][0]']\n",
            " depthwise_conv (Conv2D)                                                                          \n",
            "                                                                                                  \n",
            " convnext_tiny_stage_2_block_6_  (None, 14, 14, 384)  768        ['convnext_tiny_stage_2_block_6_d\n",
            " layernorm (LayerNormalization)                                  epthwise_conv[0][0]']            \n",
            "                                                                                                  \n",
            " convnext_tiny_stage_2_block_6_  (None, 14, 14, 1536  591360     ['convnext_tiny_stage_2_block_6_l\n",
            " pointwise_conv_1 (Dense)       )                                ayernorm[0][0]']                 \n",
            "                                                                                                  \n",
            " convnext_tiny_stage_2_block_6_  (None, 14, 14, 1536  0          ['convnext_tiny_stage_2_block_6_p\n",
            " gelu (Activation)              )                                ointwise_conv_1[0][0]']          \n",
            "                                                                                                  \n",
            " convnext_tiny_stage_2_block_6_  (None, 14, 14, 384)  590208     ['convnext_tiny_stage_2_block_6_g\n",
            " pointwise_conv_2 (Dense)                                        elu[0][0]']                      \n",
            "                                                                                                  \n",
            " convnext_tiny_stage_2_block_6_  (None, 14, 14, 384)  384        ['convnext_tiny_stage_2_block_6_p\n",
            " layer_scale (LayerScale)                                        ointwise_conv_2[0][0]']          \n",
            "                                                                                                  \n",
            " convnext_tiny_stage_2_block_6_  (None, 14, 14, 384)  0          ['convnext_tiny_stage_2_block_6_l\n",
            " identity (Activation)                                           ayer_scale[0][0]']               \n",
            "                                                                                                  \n",
            " tf.__operators__.add_12 (TFOpL  (None, 14, 14, 384)  0          ['tf.__operators__.add_11[0][0]',\n",
            " ambda)                                                           'convnext_tiny_stage_2_block_6_i\n",
            "                                                                 dentity[0][0]']                  \n",
            "                                                                                                  \n",
            " convnext_tiny_stage_2_block_7_  (None, 14, 14, 384)  19200      ['tf.__operators__.add_12[0][0]']\n",
            " depthwise_conv (Conv2D)                                                                          \n",
            "                                                                                                  \n",
            " convnext_tiny_stage_2_block_7_  (None, 14, 14, 384)  768        ['convnext_tiny_stage_2_block_7_d\n",
            " layernorm (LayerNormalization)                                  epthwise_conv[0][0]']            \n",
            "                                                                                                  \n",
            " convnext_tiny_stage_2_block_7_  (None, 14, 14, 1536  591360     ['convnext_tiny_stage_2_block_7_l\n",
            " pointwise_conv_1 (Dense)       )                                ayernorm[0][0]']                 \n",
            "                                                                                                  \n",
            " convnext_tiny_stage_2_block_7_  (None, 14, 14, 1536  0          ['convnext_tiny_stage_2_block_7_p\n",
            " gelu (Activation)              )                                ointwise_conv_1[0][0]']          \n",
            "                                                                                                  \n",
            " convnext_tiny_stage_2_block_7_  (None, 14, 14, 384)  590208     ['convnext_tiny_stage_2_block_7_g\n",
            " pointwise_conv_2 (Dense)                                        elu[0][0]']                      \n",
            "                                                                                                  \n",
            " convnext_tiny_stage_2_block_7_  (None, 14, 14, 384)  384        ['convnext_tiny_stage_2_block_7_p\n",
            " layer_scale (LayerScale)                                        ointwise_conv_2[0][0]']          \n",
            "                                                                                                  \n",
            " convnext_tiny_stage_2_block_7_  (None, 14, 14, 384)  0          ['convnext_tiny_stage_2_block_7_l\n",
            " identity (Activation)                                           ayer_scale[0][0]']               \n",
            "                                                                                                  \n",
            " tf.__operators__.add_13 (TFOpL  (None, 14, 14, 384)  0          ['tf.__operators__.add_12[0][0]',\n",
            " ambda)                                                           'convnext_tiny_stage_2_block_7_i\n",
            "                                                                 dentity[0][0]']                  \n",
            "                                                                                                  \n",
            " convnext_tiny_stage_2_block_8_  (None, 14, 14, 384)  19200      ['tf.__operators__.add_13[0][0]']\n",
            " depthwise_conv (Conv2D)                                                                          \n",
            "                                                                                                  \n",
            " convnext_tiny_stage_2_block_8_  (None, 14, 14, 384)  768        ['convnext_tiny_stage_2_block_8_d\n",
            " layernorm (LayerNormalization)                                  epthwise_conv[0][0]']            \n",
            "                                                                                                  \n",
            " convnext_tiny_stage_2_block_8_  (None, 14, 14, 1536  591360     ['convnext_tiny_stage_2_block_8_l\n",
            " pointwise_conv_1 (Dense)       )                                ayernorm[0][0]']                 \n",
            "                                                                                                  \n",
            " convnext_tiny_stage_2_block_8_  (None, 14, 14, 1536  0          ['convnext_tiny_stage_2_block_8_p\n",
            " gelu (Activation)              )                                ointwise_conv_1[0][0]']          \n",
            "                                                                                                  \n",
            " convnext_tiny_stage_2_block_8_  (None, 14, 14, 384)  590208     ['convnext_tiny_stage_2_block_8_g\n",
            " pointwise_conv_2 (Dense)                                        elu[0][0]']                      \n",
            "                                                                                                  \n",
            " convnext_tiny_stage_2_block_8_  (None, 14, 14, 384)  384        ['convnext_tiny_stage_2_block_8_p\n",
            " layer_scale (LayerScale)                                        ointwise_conv_2[0][0]']          \n",
            "                                                                                                  \n",
            " convnext_tiny_stage_2_block_8_  (None, 14, 14, 384)  0          ['convnext_tiny_stage_2_block_8_l\n",
            " identity (Activation)                                           ayer_scale[0][0]']               \n",
            "                                                                                                  \n",
            " tf.__operators__.add_14 (TFOpL  (None, 14, 14, 384)  0          ['tf.__operators__.add_13[0][0]',\n",
            " ambda)                                                           'convnext_tiny_stage_2_block_8_i\n",
            "                                                                 dentity[0][0]']                  \n",
            "                                                                                                  \n",
            " convnext_tiny_downsampling_blo  (None, 7, 7, 768)   1181184     ['tf.__operators__.add_14[0][0]']\n",
            " ck_2 (Sequential)                                                                                \n",
            "                                                                                                  \n",
            " convnext_tiny_stage_3_block_0_  (None, 7, 7, 768)   38400       ['convnext_tiny_downsampling_bloc\n",
            " depthwise_conv (Conv2D)                                         k_2[0][0]']                      \n",
            "                                                                                                  \n",
            " convnext_tiny_stage_3_block_0_  (None, 7, 7, 768)   1536        ['convnext_tiny_stage_3_block_0_d\n",
            " layernorm (LayerNormalization)                                  epthwise_conv[0][0]']            \n",
            "                                                                                                  \n",
            " convnext_tiny_stage_3_block_0_  (None, 7, 7, 3072)  2362368     ['convnext_tiny_stage_3_block_0_l\n",
            " pointwise_conv_1 (Dense)                                        ayernorm[0][0]']                 \n",
            "                                                                                                  \n",
            " convnext_tiny_stage_3_block_0_  (None, 7, 7, 3072)  0           ['convnext_tiny_stage_3_block_0_p\n",
            " gelu (Activation)                                               ointwise_conv_1[0][0]']          \n",
            "                                                                                                  \n",
            " convnext_tiny_stage_3_block_0_  (None, 7, 7, 768)   2360064     ['convnext_tiny_stage_3_block_0_g\n",
            " pointwise_conv_2 (Dense)                                        elu[0][0]']                      \n",
            "                                                                                                  \n",
            " convnext_tiny_stage_3_block_0_  (None, 7, 7, 768)   768         ['convnext_tiny_stage_3_block_0_p\n",
            " layer_scale (LayerScale)                                        ointwise_conv_2[0][0]']          \n",
            "                                                                                                  \n",
            " convnext_tiny_stage_3_block_0_  (None, 7, 7, 768)   0           ['convnext_tiny_stage_3_block_0_l\n",
            " identity (Activation)                                           ayer_scale[0][0]']               \n",
            "                                                                                                  \n",
            " tf.__operators__.add_15 (TFOpL  (None, 7, 7, 768)   0           ['convnext_tiny_downsampling_bloc\n",
            " ambda)                                                          k_2[0][0]',                      \n",
            "                                                                  'convnext_tiny_stage_3_block_0_i\n",
            "                                                                 dentity[0][0]']                  \n",
            "                                                                                                  \n",
            " convnext_tiny_stage_3_block_1_  (None, 7, 7, 768)   38400       ['tf.__operators__.add_15[0][0]']\n",
            " depthwise_conv (Conv2D)                                                                          \n",
            "                                                                                                  \n",
            " convnext_tiny_stage_3_block_1_  (None, 7, 7, 768)   1536        ['convnext_tiny_stage_3_block_1_d\n",
            " layernorm (LayerNormalization)                                  epthwise_conv[0][0]']            \n",
            "                                                                                                  \n",
            " convnext_tiny_stage_3_block_1_  (None, 7, 7, 3072)  2362368     ['convnext_tiny_stage_3_block_1_l\n",
            " pointwise_conv_1 (Dense)                                        ayernorm[0][0]']                 \n",
            "                                                                                                  \n",
            " convnext_tiny_stage_3_block_1_  (None, 7, 7, 3072)  0           ['convnext_tiny_stage_3_block_1_p\n",
            " gelu (Activation)                                               ointwise_conv_1[0][0]']          \n",
            "                                                                                                  \n",
            " convnext_tiny_stage_3_block_1_  (None, 7, 7, 768)   2360064     ['convnext_tiny_stage_3_block_1_g\n",
            " pointwise_conv_2 (Dense)                                        elu[0][0]']                      \n",
            "                                                                                                  \n",
            " convnext_tiny_stage_3_block_1_  (None, 7, 7, 768)   768         ['convnext_tiny_stage_3_block_1_p\n",
            " layer_scale (LayerScale)                                        ointwise_conv_2[0][0]']          \n",
            "                                                                                                  \n",
            " convnext_tiny_stage_3_block_1_  (None, 7, 7, 768)   0           ['convnext_tiny_stage_3_block_1_l\n",
            " identity (Activation)                                           ayer_scale[0][0]']               \n",
            "                                                                                                  \n",
            " tf.__operators__.add_16 (TFOpL  (None, 7, 7, 768)   0           ['tf.__operators__.add_15[0][0]',\n",
            " ambda)                                                           'convnext_tiny_stage_3_block_1_i\n",
            "                                                                 dentity[0][0]']                  \n",
            "                                                                                                  \n",
            " convnext_tiny_stage_3_block_2_  (None, 7, 7, 768)   38400       ['tf.__operators__.add_16[0][0]']\n",
            " depthwise_conv (Conv2D)                                                                          \n",
            "                                                                                                  \n",
            " convnext_tiny_stage_3_block_2_  (None, 7, 7, 768)   1536        ['convnext_tiny_stage_3_block_2_d\n",
            " layernorm (LayerNormalization)                                  epthwise_conv[0][0]']            \n",
            "                                                                                                  \n",
            " convnext_tiny_stage_3_block_2_  (None, 7, 7, 3072)  2362368     ['convnext_tiny_stage_3_block_2_l\n",
            " pointwise_conv_1 (Dense)                                        ayernorm[0][0]']                 \n",
            "                                                                                                  \n",
            " convnext_tiny_stage_3_block_2_  (None, 7, 7, 3072)  0           ['convnext_tiny_stage_3_block_2_p\n",
            " gelu (Activation)                                               ointwise_conv_1[0][0]']          \n",
            "                                                                                                  \n",
            " convnext_tiny_stage_3_block_2_  (None, 7, 7, 768)   2360064     ['convnext_tiny_stage_3_block_2_g\n",
            " pointwise_conv_2 (Dense)                                        elu[0][0]']                      \n",
            "                                                                                                  \n",
            " convnext_tiny_stage_3_block_2_  (None, 7, 7, 768)   768         ['convnext_tiny_stage_3_block_2_p\n",
            " layer_scale (LayerScale)                                        ointwise_conv_2[0][0]']          \n",
            "                                                                                                  \n",
            " convnext_tiny_stage_3_block_2_  (None, 7, 7, 768)   0           ['convnext_tiny_stage_3_block_2_l\n",
            " identity (Activation)                                           ayer_scale[0][0]']               \n",
            "                                                                                                  \n",
            " tf.__operators__.add_17 (TFOpL  (None, 7, 7, 768)   0           ['tf.__operators__.add_16[0][0]',\n",
            " ambda)                                                           'convnext_tiny_stage_3_block_2_i\n",
            "                                                                 dentity[0][0]']                  \n",
            "                                                                                                  \n",
            " layer_normalization (LayerNorm  (None, 7, 7, 768)   1536        ['tf.__operators__.add_17[0][0]']\n",
            " alization)                                                                                       \n",
            "                                                                                                  \n",
            "==================================================================================================\n",
            "Total params: 27,820,128\n",
            "Trainable params: 27,820,128\n",
            "Non-trainable params: 0\n",
            "__________________________________________________________________________________________________\n"
          ]
        }
      ],
      "source": [
        "conv_base.summary()\n"
      ]
    },
    {
      "cell_type": "markdown",
      "metadata": {
        "id": "vVx8qd9U-6Jt"
      },
      "source": [
        "We will add a dense layer after our conv_base NN"
      ]
    },
    {
      "cell_type": "code",
      "execution_count": 38,
      "metadata": {
        "id": "NwbCTdFB-6Jt"
      },
      "outputs": [],
      "source": [
        "from keras import models\n",
        "from keras import layers\n",
        "\n",
        "modelPreTConvNTiny = models.Sequential()\n",
        "modelPreTConvNTiny.add(conv_base)\n",
        "\n",
        "modelPreTConvNTiny.add(layers.Flatten())\n",
        "modelPreTConvNTiny.add(layers.Dense(256, activation='relu'))\n",
        "modelPreTConvNTiny.add(layers.Dropout(0.5))\n",
        "modelPreTConvNTiny.add(layers.Dense(1, activation='sigmoid'))"
      ]
    },
    {
      "cell_type": "code",
      "execution_count": 39,
      "metadata": {
        "colab": {
          "base_uri": "https://localhost:8080/"
        },
        "id": "ULwwwLKQ-6Jt",
        "outputId": "bca81ce0-c589-438d-d7f7-ddc78c5df1fe"
      },
      "outputs": [
        {
          "name": "stdout",
          "output_type": "stream",
          "text": [
            "Model: \"sequential\"\n",
            "_________________________________________________________________\n",
            " Layer (type)                Output Shape              Param #   \n",
            "=================================================================\n",
            " convnext_tiny (Functional)  (None, 7, 7, 768)         27820128  \n",
            "                                                                 \n",
            " flatten (Flatten)           (None, 37632)             0         \n",
            "                                                                 \n",
            " dense (Dense)               (None, 256)               9634048   \n",
            "                                                                 \n",
            " dropout (Dropout)           (None, 256)               0         \n",
            "                                                                 \n",
            " dense_1 (Dense)             (None, 1)                 257       \n",
            "                                                                 \n",
            "=================================================================\n",
            "Total params: 37,454,433\n",
            "Trainable params: 37,454,433\n",
            "Non-trainable params: 0\n",
            "_________________________________________________________________\n"
          ]
        }
      ],
      "source": [
        "modelPreTConvNTiny.summary()"
      ]
    },
    {
      "cell_type": "code",
      "execution_count": 40,
      "metadata": {},
      "outputs": [],
      "source": [
        "class TrainingConfig:\n",
        "    BATCH_SIZE:       int   = 64\n",
        "    EPOCHS:           int   = 101\n",
        "    LEARNING_RATE:    float = 0.0001\n",
        "    DROPOUT:          float = 0.5\n",
        "    LAYERS_FINE_TUNE: int   = 0    "
      ]
    },
    {
      "cell_type": "code",
      "execution_count": 41,
      "metadata": {},
      "outputs": [],
      "source": [
        "# Specify the number of layers to fine tune at the end of the convolutional base.\n",
        "num_layers_fine_tune = TrainingConfig.LAYERS_FINE_TUNE\n",
        "num_layers = len(conv_base.layers)"
      ]
    },
    {
      "cell_type": "code",
      "execution_count": 42,
      "metadata": {
        "colab": {
          "base_uri": "https://localhost:8080/"
        },
        "id": "kkg5O_dq-6Jt",
        "outputId": "0b8e8703-9f13-4415-d6a7-fc5af46bc1eb"
      },
      "outputs": [
        {
          "name": "stdout",
          "output_type": "stream",
          "text": [
            "This is the number of trainable weights before freezing the conv base: 184\n"
          ]
        }
      ],
      "source": [
        "print('This is the number of trainable weights '\n",
        "      'before freezing the conv base:', len(modelPreTConvNTiny.trainable_weights))"
      ]
    },
    {
      "cell_type": "code",
      "execution_count": 43,
      "metadata": {},
      "outputs": [
        {
          "name": "stdout",
          "output_type": "stream",
          "text": [
            "FREEZING LAYER: <keras.engine.input_layer.InputLayer object at 0x000002D9932B8970>\n",
            "FREEZING LAYER: <keras.layers.preprocessing.normalization.Normalization object at 0x000002D993285F70>\n",
            "FREEZING LAYER: <keras.engine.sequential.Sequential object at 0x000002D9932AA340>\n",
            "FREEZING LAYER: <keras.layers.convolutional.conv2d.Conv2D object at 0x000002DB1AA887C0>\n",
            "FREEZING LAYER: <keras.layers.normalization.layer_normalization.LayerNormalization object at 0x000002DB1AA88880>\n",
            "FREEZING LAYER: <keras.layers.core.dense.Dense object at 0x000002DB1AA3A670>\n",
            "FREEZING LAYER: <keras.layers.core.activation.Activation object at 0x000002DB1AABA820>\n",
            "FREEZING LAYER: <keras.layers.core.dense.Dense object at 0x000002DB1AAF1AF0>\n",
            "FREEZING LAYER: <keras.applications.convnext.LayerScale object at 0x000002DB1AADDF10>\n",
            "FREEZING LAYER: <keras.layers.core.activation.Activation object at 0x000002DB1AADD430>\n",
            "FREEZING LAYER: <keras.layers.core.tf_op_layer.TFOpLambda object at 0x000002DB1AB08F40>\n",
            "FREEZING LAYER: <keras.layers.convolutional.conv2d.Conv2D object at 0x000002DB1AB08640>\n",
            "FREEZING LAYER: <keras.layers.normalization.layer_normalization.LayerNormalization object at 0x000002DB1AB345B0>\n",
            "FREEZING LAYER: <keras.layers.core.dense.Dense object at 0x000002DB1AB348E0>\n",
            "FREEZING LAYER: <keras.layers.core.activation.Activation object at 0x000002DB1AB3A0D0>\n",
            "FREEZING LAYER: <keras.layers.core.dense.Dense object at 0x000002DB1AB68B50>\n",
            "FREEZING LAYER: <keras.applications.convnext.LayerScale object at 0x000002DB1AB60CA0>\n",
            "FREEZING LAYER: <keras.layers.core.activation.Activation object at 0x000002DB1AB15490>\n",
            "FREEZING LAYER: <keras.layers.core.tf_op_layer.TFOpLambda object at 0x000002DB1AB79D00>\n",
            "FREEZING LAYER: <keras.layers.convolutional.conv2d.Conv2D object at 0x000002DB1AB794F0>\n",
            "FREEZING LAYER: <keras.layers.normalization.layer_normalization.LayerNormalization object at 0x000002DB1AB7E070>\n",
            "FREEZING LAYER: <keras.layers.core.dense.Dense object at 0x000002DB1AB7E880>\n",
            "FREEZING LAYER: <keras.layers.core.activation.Activation object at 0x000002DB1AB81A00>\n",
            "FREEZING LAYER: <keras.layers.core.dense.Dense object at 0x000002DB1AB90880>\n",
            "FREEZING LAYER: <keras.applications.convnext.LayerScale object at 0x000002DB1AB60130>\n",
            "FREEZING LAYER: <keras.layers.core.activation.Activation object at 0x000002DB1AB714F0>\n",
            "FREEZING LAYER: <keras.layers.core.tf_op_layer.TFOpLambda object at 0x000002DB1AB18C10>\n",
            "FREEZING LAYER: <keras.engine.sequential.Sequential object at 0x000002DB1AA3AE80>\n",
            "FREEZING LAYER: <keras.layers.convolutional.conv2d.Conv2D object at 0x000002DB1AB2CE80>\n",
            "FREEZING LAYER: <keras.layers.normalization.layer_normalization.LayerNormalization object at 0x000002DB1AAC9490>\n",
            "FREEZING LAYER: <keras.layers.core.dense.Dense object at 0x000002DB1AB98D90>\n",
            "FREEZING LAYER: <keras.layers.core.activation.Activation object at 0x000002DB1ABAC880>\n",
            "FREEZING LAYER: <keras.layers.core.dense.Dense object at 0x000002DB1ABAF580>\n",
            "FREEZING LAYER: <keras.applications.convnext.LayerScale object at 0x000002DB1ABC2190>\n",
            "FREEZING LAYER: <keras.layers.core.activation.Activation object at 0x000002DB1ABC2070>\n",
            "FREEZING LAYER: <keras.layers.core.tf_op_layer.TFOpLambda object at 0x000002DB1ABCA8E0>\n",
            "FREEZING LAYER: <keras.layers.convolutional.conv2d.Conv2D object at 0x000002DB1ABCA520>\n",
            "FREEZING LAYER: <keras.layers.normalization.layer_normalization.LayerNormalization object at 0x000002DB1ABD0A00>\n",
            "FREEZING LAYER: <keras.layers.core.dense.Dense object at 0x000002DB1ABD0760>\n",
            "FREEZING LAYER: <keras.layers.core.activation.Activation object at 0x000002DB1ABD7A30>\n",
            "FREEZING LAYER: <keras.layers.core.dense.Dense object at 0x000002DB1ABF42B0>\n",
            "FREEZING LAYER: <keras.applications.convnext.LayerScale object at 0x000002DB1ABEEC40>\n",
            "FREEZING LAYER: <keras.layers.core.activation.Activation object at 0x000002DB1ABEED30>\n",
            "FREEZING LAYER: <keras.layers.core.tf_op_layer.TFOpLambda object at 0x000002DB1ABFEF10>\n",
            "FREEZING LAYER: <keras.layers.convolutional.conv2d.Conv2D object at 0x000002DB1ABE4A00>\n",
            "FREEZING LAYER: <keras.layers.normalization.layer_normalization.LayerNormalization object at 0x000002DB1ABFEFD0>\n",
            "FREEZING LAYER: <keras.layers.core.dense.Dense object at 0x000002DB1ABFE0A0>\n",
            "FREEZING LAYER: <keras.layers.core.activation.Activation object at 0x000002DB1AC143A0>\n",
            "FREEZING LAYER: <keras.layers.core.dense.Dense object at 0x000002DB1AC0C3D0>\n",
            "FREEZING LAYER: <keras.applications.convnext.LayerScale object at 0x000002DB1ABE4A60>\n",
            "FREEZING LAYER: <keras.layers.core.activation.Activation object at 0x000002DB1AC0C730>\n",
            "FREEZING LAYER: <keras.layers.core.tf_op_layer.TFOpLambda object at 0x000002DB1ABC2A30>\n",
            "FREEZING LAYER: <keras.engine.sequential.Sequential object at 0x000002D993F3B2B0>\n",
            "FREEZING LAYER: <keras.layers.convolutional.conv2d.Conv2D object at 0x000002DB1ABA3CD0>\n",
            "FREEZING LAYER: <keras.layers.normalization.layer_normalization.LayerNormalization object at 0x000002DB1ABA3730>\n",
            "FREEZING LAYER: <keras.layers.core.dense.Dense object at 0x000002DB1AB984F0>\n",
            "FREEZING LAYER: <keras.layers.core.activation.Activation object at 0x000002DB1AC26F70>\n",
            "FREEZING LAYER: <keras.layers.core.dense.Dense object at 0x000002DB1AC2CB20>\n",
            "FREEZING LAYER: <keras.applications.convnext.LayerScale object at 0x000002DB1AC2A310>\n",
            "FREEZING LAYER: <keras.layers.core.activation.Activation object at 0x000002DB1AC2C460>\n",
            "FREEZING LAYER: <keras.layers.core.tf_op_layer.TFOpLambda object at 0x000002DB1AC35A30>\n",
            "FREEZING LAYER: <keras.layers.convolutional.conv2d.Conv2D object at 0x000002DB1AC35460>\n",
            "FREEZING LAYER: <keras.layers.normalization.layer_normalization.LayerNormalization object at 0x000002DB1AC30CA0>\n",
            "FREEZING LAYER: <keras.layers.core.dense.Dense object at 0x000002DB1AC30A00>\n",
            "FREEZING LAYER: <keras.layers.core.activation.Activation object at 0x000002DB1AC419A0>\n",
            "FREEZING LAYER: <keras.layers.core.dense.Dense object at 0x000002DB1AC4E820>\n",
            "FREEZING LAYER: <keras.applications.convnext.LayerScale object at 0x000002DB1AC5E490>\n",
            "FREEZING LAYER: <keras.layers.core.activation.Activation object at 0x000002DB1AC5E370>\n",
            "FREEZING LAYER: <keras.layers.core.tf_op_layer.TFOpLambda object at 0x000002DB1AC66BE0>\n",
            "FREEZING LAYER: <keras.layers.convolutional.conv2d.Conv2D object at 0x000002DB1AC661F0>\n",
            "FREEZING LAYER: <keras.layers.normalization.layer_normalization.LayerNormalization object at 0x000002DB1AC66FA0>\n",
            "FREEZING LAYER: <keras.layers.core.dense.Dense object at 0x000002DB1AC6CD00>\n",
            "FREEZING LAYER: <keras.layers.core.activation.Activation object at 0x000002DB1AC749A0>\n",
            "FREEZING LAYER: <keras.layers.core.dense.Dense object at 0x000002DB1AC92670>\n",
            "FREEZING LAYER: <keras.applications.convnext.LayerScale object at 0x000002DB1AC929D0>\n",
            "FREEZING LAYER: <keras.layers.core.activation.Activation object at 0x000002DB1AC6EB50>\n",
            "FREEZING LAYER: <keras.layers.core.tf_op_layer.TFOpLambda object at 0x000002DB1AC5E8E0>\n",
            "FREEZING LAYER: <keras.layers.convolutional.conv2d.Conv2D object at 0x000002DB1AC662B0>\n",
            "FREEZING LAYER: <keras.layers.normalization.layer_normalization.LayerNormalization object at 0x000002DB1AC66340>\n",
            "FREEZING LAYER: <keras.layers.core.dense.Dense object at 0x000002DB1AC8AA90>\n",
            "FREEZING LAYER: <keras.layers.core.activation.Activation object at 0x000002DB1AC3C4F0>\n",
            "FREEZING LAYER: <keras.layers.core.dense.Dense object at 0x000002DB1AB3E970>\n",
            "FREEZING LAYER: <keras.applications.convnext.LayerScale object at 0x000002DB1ABCA400>\n",
            "FREEZING LAYER: <keras.layers.core.activation.Activation object at 0x000002DB1ABCA250>\n",
            "FREEZING LAYER: <keras.layers.core.tf_op_layer.TFOpLambda object at 0x000002DB1AC9AD60>\n",
            "FREEZING LAYER: <keras.layers.convolutional.conv2d.Conv2D object at 0x000002DB1AC9A970>\n",
            "FREEZING LAYER: <keras.layers.normalization.layer_normalization.LayerNormalization object at 0x000002DB1AC9AAC0>\n",
            "FREEZING LAYER: <keras.layers.core.dense.Dense object at 0x000002DB1AC9CE80>\n",
            "FREEZING LAYER: <keras.layers.core.activation.Activation object at 0x000002DB1AC9EB20>\n",
            "FREEZING LAYER: <keras.layers.core.dense.Dense object at 0x000002DB1ACA8790>\n",
            "FREEZING LAYER: <keras.applications.convnext.LayerScale object at 0x000002DB1ACA85E0>\n",
            "FREEZING LAYER: <keras.layers.core.activation.Activation object at 0x000002DB1ACA8AF0>\n",
            "FREEZING LAYER: <keras.layers.core.tf_op_layer.TFOpLambda object at 0x000002DB1ACB2910>\n",
            "FREEZING LAYER: <keras.layers.convolutional.conv2d.Conv2D object at 0x000002DB1ACA2E80>\n",
            "FREEZING LAYER: <keras.layers.normalization.layer_normalization.LayerNormalization object at 0x000002DB1ACA4520>\n",
            "FREEZING LAYER: <keras.layers.core.dense.Dense object at 0x000002DB1ACA8190>\n",
            "FREEZING LAYER: <keras.layers.core.activation.Activation object at 0x000002DB1ACCD1F0>\n",
            "FREEZING LAYER: <keras.layers.core.dense.Dense object at 0x000002DB1ACC56D0>\n",
            "FREEZING LAYER: <keras.applications.convnext.LayerScale object at 0x000002DB1ACD95E0>\n",
            "FREEZING LAYER: <keras.layers.core.activation.Activation object at 0x000002DB1ACDE220>\n",
            "FREEZING LAYER: <keras.layers.core.tf_op_layer.TFOpLambda object at 0x000002DB1ACAC220>\n",
            "FREEZING LAYER: <keras.layers.convolutional.conv2d.Conv2D object at 0x000002D9E55706D0>\n",
            "FREEZING LAYER: <keras.layers.normalization.layer_normalization.LayerNormalization object at 0x000002D98B4C8CD0>\n",
            "FREEZING LAYER: <keras.layers.core.dense.Dense object at 0x000002D98B54DD60>\n",
            "FREEZING LAYER: <keras.layers.core.activation.Activation object at 0x000002DB1ACDE280>\n",
            "FREEZING LAYER: <keras.layers.core.dense.Dense object at 0x000002DB1ACD9C70>\n",
            "FREEZING LAYER: <keras.applications.convnext.LayerScale object at 0x000002DB1ACB2D90>\n",
            "FREEZING LAYER: <keras.layers.core.activation.Activation object at 0x000002DB1ACAC130>\n",
            "FREEZING LAYER: <keras.layers.core.tf_op_layer.TFOpLambda object at 0x000002DB1AC0A280>\n",
            "FREEZING LAYER: <keras.layers.convolutional.conv2d.Conv2D object at 0x000002DB1ACBDF70>\n",
            "FREEZING LAYER: <keras.layers.normalization.layer_normalization.LayerNormalization object at 0x000002DB1ACEB550>\n",
            "FREEZING LAYER: <keras.layers.core.dense.Dense object at 0x000002DB1ACDEA30>\n",
            "FREEZING LAYER: <keras.layers.core.activation.Activation object at 0x000002DB1AC9A5E0>\n",
            "FREEZING LAYER: <keras.layers.core.dense.Dense object at 0x000002DB1AC5E190>\n",
            "FREEZING LAYER: <keras.applications.convnext.LayerScale object at 0x000002DB1ACFA2B0>\n",
            "FREEZING LAYER: <keras.layers.core.activation.Activation object at 0x000002DB1ACA81F0>\n",
            "FREEZING LAYER: <keras.layers.core.tf_op_layer.TFOpLambda object at 0x000002DB1ACFAAF0>\n",
            "FREEZING LAYER: <keras.layers.convolutional.conv2d.Conv2D object at 0x000002DB1ACE65E0>\n",
            "FREEZING LAYER: <keras.layers.normalization.layer_normalization.LayerNormalization object at 0x000002DB1ABC2490>\n",
            "FREEZING LAYER: <keras.layers.core.dense.Dense object at 0x000002DB1AC92310>\n",
            "FREEZING LAYER: <keras.layers.core.activation.Activation object at 0x000002DB1AD0F8E0>\n",
            "FREEZING LAYER: <keras.layers.core.dense.Dense object at 0x000002DB1AD07D60>\n",
            "FREEZING LAYER: <keras.applications.convnext.LayerScale object at 0x000002DB1AD201C0>\n",
            "FREEZING LAYER: <keras.layers.core.activation.Activation object at 0x000002DB1ACFEA00>\n",
            "FREEZING LAYER: <keras.layers.core.tf_op_layer.TFOpLambda object at 0x000002DB1AD36B50>\n",
            "FREEZING LAYER: <keras.engine.sequential.Sequential object at 0x000002D993F3BEB0>\n",
            "FREEZING LAYER: <keras.layers.convolutional.conv2d.Conv2D object at 0x000002DB1ACA2EB0>\n",
            "FREEZING LAYER: <keras.layers.normalization.layer_normalization.LayerNormalization object at 0x000002DB1ACFE7F0>\n",
            "FREEZING LAYER: <keras.layers.core.dense.Dense object at 0x000002DB1AD0FFD0>\n",
            "FREEZING LAYER: <keras.layers.core.activation.Activation object at 0x000002DB1AD528E0>\n",
            "FREEZING LAYER: <keras.layers.core.dense.Dense object at 0x000002DB1AD52F10>\n",
            "FREEZING LAYER: <keras.applications.convnext.LayerScale object at 0x000002DB1AD52BE0>\n",
            "FREEZING LAYER: <keras.layers.core.activation.Activation object at 0x000002DB1AD57A30>\n",
            "FREEZING LAYER: <keras.layers.core.tf_op_layer.TFOpLambda object at 0x000002DB1AD36640>\n",
            "FREEZING LAYER: <keras.layers.convolutional.conv2d.Conv2D object at 0x000002DB1AD57E50>\n",
            "FREEZING LAYER: <keras.layers.normalization.layer_normalization.LayerNormalization object at 0x000002DB1AD29EE0>\n",
            "FREEZING LAYER: <keras.layers.core.dense.Dense object at 0x000002DB1AD52940>\n",
            "FREEZING LAYER: <keras.layers.core.activation.Activation object at 0x000002DB1AD07A90>\n",
            "FREEZING LAYER: <keras.layers.core.dense.Dense object at 0x000002DB1AAF19D0>\n",
            "FREEZING LAYER: <keras.applications.convnext.LayerScale object at 0x000002DB1ACA41F0>\n",
            "FREEZING LAYER: <keras.layers.core.activation.Activation object at 0x000002DB1ACB2490>\n",
            "FREEZING LAYER: <keras.layers.core.tf_op_layer.TFOpLambda object at 0x000002DB1AD62310>\n",
            "FREEZING LAYER: <keras.layers.convolutional.conv2d.Conv2D object at 0x000002DB1ACC5340>\n",
            "FREEZING LAYER: <keras.layers.normalization.layer_normalization.LayerNormalization object at 0x000002DB1AD077F0>\n",
            "FREEZING LAYER: <keras.layers.core.dense.Dense object at 0x000002DB1AD36E50>\n",
            "FREEZING LAYER: <keras.layers.core.activation.Activation object at 0x000002DB1ACA88B0>\n",
            "FREEZING LAYER: <keras.layers.core.dense.Dense object at 0x000002DB1AD6ED60>\n",
            "FREEZING LAYER: <keras.applications.convnext.LayerScale object at 0x000002DB1AD847C0>\n",
            "FREEZING LAYER: <keras.layers.core.activation.Activation object at 0x000002DB1AD62A00>\n",
            "FREEZING LAYER: <keras.layers.core.tf_op_layer.TFOpLambda object at 0x000002DB1AD906A0>\n",
            "FREEZING LAYER: <keras.layers.normalization.layer_normalization.LayerNormalization object at 0x000002DB1AA87B50>\n"
          ]
        }
      ],
      "source": [
        "# Freeze the initial layers in the convolutional base.\n",
        "for model_layer in conv_base.layers[:num_layers - num_layers_fine_tune]:\n",
        "    print(f\"FREEZING LAYER: {model_layer}\")\n",
        "    model_layer.trainable = False"
      ]
    },
    {
      "cell_type": "code",
      "execution_count": 53,
      "metadata": {
        "id": "KcDo2VlW-6Jt"
      },
      "outputs": [],
      "source": [
        "#conv_base.trainable = False"
      ]
    },
    {
      "cell_type": "code",
      "execution_count": 44,
      "metadata": {
        "colab": {
          "base_uri": "https://localhost:8080/"
        },
        "id": "6prLuQV--6Jt",
        "outputId": "21272876-2976-4870-ca8a-f63126fc18c8"
      },
      "outputs": [
        {
          "name": "stdout",
          "output_type": "stream",
          "text": [
            "This is the number of trainable weights after freezing the conv base: 4\n"
          ]
        }
      ],
      "source": [
        "print('This is the number of trainable weights '\n",
        "      'after freezing the conv base:', len(modelPreTConvNTiny.trainable_weights))"
      ]
    },
    {
      "cell_type": "code",
      "execution_count": 45,
      "metadata": {},
      "outputs": [
        {
          "name": "stdout",
          "output_type": "stream",
          "text": [
            "Model: \"sequential\"\n",
            "_________________________________________________________________\n",
            " Layer (type)                Output Shape              Param #   \n",
            "=================================================================\n",
            " convnext_tiny (Functional)  (None, 7, 7, 768)         27820128  \n",
            "                                                                 \n",
            " flatten (Flatten)           (None, 37632)             0         \n",
            "                                                                 \n",
            " dense (Dense)               (None, 256)               9634048   \n",
            "                                                                 \n",
            " dropout (Dropout)           (None, 256)               0         \n",
            "                                                                 \n",
            " dense_1 (Dense)             (None, 1)                 257       \n",
            "                                                                 \n",
            "=================================================================\n",
            "Total params: 37,454,433\n",
            "Trainable params: 9,634,305\n",
            "Non-trainable params: 27,820,128\n",
            "_________________________________________________________________\n"
          ]
        }
      ],
      "source": [
        "modelPreTConvNTiny.summary()"
      ]
    },
    {
      "cell_type": "code",
      "execution_count": 46,
      "metadata": {
        "id": "P4qDSomz-6Jt"
      },
      "outputs": [],
      "source": [
        "modelPreTConvNTiny.compile('Adagrad', loss=tf.losses.BinaryCrossentropy(), metrics=['accuracy'])# Adagrad, adam"
      ]
    },
    {
      "cell_type": "code",
      "execution_count": 47,
      "metadata": {
        "colab": {
          "base_uri": "https://localhost:8080/"
        },
        "id": "W22LDeK_-6Jt",
        "outputId": "76236d2c-48ce-4882-e86f-4525b6d33cf9"
      },
      "outputs": [
        {
          "name": "stdout",
          "output_type": "stream",
          "text": [
            "Epoch 1/30\n",
            "657/657 [==============================] - 249s 366ms/step - loss: 0.5154 - accuracy: 0.7506 - val_loss: 0.4108 - val_accuracy: 0.8204\n",
            "Epoch 2/30\n",
            "657/657 [==============================] - 237s 361ms/step - loss: 0.4113 - accuracy: 0.8186 - val_loss: 0.3954 - val_accuracy: 0.8271\n",
            "Epoch 3/30\n",
            "657/657 [==============================] - 237s 361ms/step - loss: 0.3871 - accuracy: 0.8332 - val_loss: 0.3714 - val_accuracy: 0.8418\n",
            "Epoch 4/30\n",
            "657/657 [==============================] - 238s 362ms/step - loss: 0.3644 - accuracy: 0.8465 - val_loss: 0.3589 - val_accuracy: 0.8442\n",
            "Epoch 5/30\n",
            "657/657 [==============================] - 237s 361ms/step - loss: 0.3542 - accuracy: 0.8506 - val_loss: 0.3551 - val_accuracy: 0.8443\n",
            "Epoch 6/30\n",
            "657/657 [==============================] - 238s 362ms/step - loss: 0.3391 - accuracy: 0.8586 - val_loss: 0.3491 - val_accuracy: 0.8496\n",
            "Epoch 7/30\n",
            "657/657 [==============================] - 237s 361ms/step - loss: 0.3294 - accuracy: 0.8648 - val_loss: 0.3454 - val_accuracy: 0.8504\n",
            "Epoch 8/30\n",
            "657/657 [==============================] - 237s 361ms/step - loss: 0.3206 - accuracy: 0.8718 - val_loss: 0.3435 - val_accuracy: 0.8504\n",
            "Epoch 9/30\n",
            "657/657 [==============================] - 238s 362ms/step - loss: 0.3129 - accuracy: 0.8735 - val_loss: 0.3393 - val_accuracy: 0.8533\n",
            "Epoch 10/30\n",
            "657/657 [==============================] - 238s 362ms/step - loss: 0.3052 - accuracy: 0.8756 - val_loss: 0.3405 - val_accuracy: 0.8529\n",
            "Epoch 11/30\n",
            "657/657 [==============================] - 237s 361ms/step - loss: 0.2980 - accuracy: 0.8806 - val_loss: 0.3362 - val_accuracy: 0.8553\n",
            "Epoch 12/30\n",
            "657/657 [==============================] - 238s 362ms/step - loss: 0.2916 - accuracy: 0.8849 - val_loss: 0.3335 - val_accuracy: 0.8567\n",
            "Epoch 13/30\n",
            "657/657 [==============================] - 238s 362ms/step - loss: 0.2846 - accuracy: 0.8876 - val_loss: 0.3327 - val_accuracy: 0.8584\n",
            "Epoch 14/30\n",
            "657/657 [==============================] - 238s 362ms/step - loss: 0.2804 - accuracy: 0.8877 - val_loss: 0.3393 - val_accuracy: 0.8553\n",
            "Epoch 15/30\n",
            "657/657 [==============================] - 238s 362ms/step - loss: 0.2744 - accuracy: 0.8916 - val_loss: 0.3334 - val_accuracy: 0.8595\n",
            "Epoch 16/30\n",
            "657/657 [==============================] - 238s 362ms/step - loss: 0.2696 - accuracy: 0.8937 - val_loss: 0.3368 - val_accuracy: 0.8562\n",
            "Epoch 17/30\n",
            "657/657 [==============================] - 238s 362ms/step - loss: 0.2646 - accuracy: 0.8969 - val_loss: 0.3277 - val_accuracy: 0.8614\n",
            "Epoch 18/30\n",
            "657/657 [==============================] - 238s 362ms/step - loss: 0.2610 - accuracy: 0.8979 - val_loss: 0.3331 - val_accuracy: 0.8578\n",
            "Epoch 19/30\n",
            "657/657 [==============================] - 238s 362ms/step - loss: 0.2566 - accuracy: 0.9013 - val_loss: 0.3285 - val_accuracy: 0.8605\n",
            "Epoch 20/30\n",
            "657/657 [==============================] - 238s 362ms/step - loss: 0.2506 - accuracy: 0.9030 - val_loss: 0.3267 - val_accuracy: 0.8616\n",
            "Epoch 21/30\n",
            "657/657 [==============================] - 238s 362ms/step - loss: 0.2460 - accuracy: 0.9039 - val_loss: 0.3295 - val_accuracy: 0.8632\n",
            "Epoch 22/30\n",
            "657/657 [==============================] - 237s 361ms/step - loss: 0.2419 - accuracy: 0.9081 - val_loss: 0.3258 - val_accuracy: 0.8625\n",
            "Epoch 23/30\n",
            "657/657 [==============================] - 236s 360ms/step - loss: 0.2395 - accuracy: 0.9092 - val_loss: 0.3248 - val_accuracy: 0.8620\n",
            "Epoch 24/30\n",
            "657/657 [==============================] - 236s 359ms/step - loss: 0.2355 - accuracy: 0.9110 - val_loss: 0.3254 - val_accuracy: 0.8636\n",
            "Epoch 25/30\n",
            "657/657 [==============================] - 230s 350ms/step - loss: 0.2293 - accuracy: 0.9127 - val_loss: 0.3286 - val_accuracy: 0.8603\n",
            "Epoch 26/30\n",
            "657/657 [==============================] - 230s 350ms/step - loss: 0.2265 - accuracy: 0.9155 - val_loss: 0.3255 - val_accuracy: 0.8614\n",
            "Epoch 27/30\n",
            "657/657 [==============================] - 235s 357ms/step - loss: 0.2224 - accuracy: 0.9167 - val_loss: 0.3424 - val_accuracy: 0.8583\n",
            "Epoch 28/30\n",
            "657/657 [==============================] - 235s 357ms/step - loss: 0.2187 - accuracy: 0.9183 - val_loss: 0.3252 - val_accuracy: 0.8636\n",
            "Epoch 29/30\n",
            "657/657 [==============================] - 233s 355ms/step - loss: 0.2169 - accuracy: 0.9184 - val_loss: 0.3334 - val_accuracy: 0.8651\n",
            "Epoch 30/30\n",
            "657/657 [==============================] - 238s 362ms/step - loss: 0.2150 - accuracy: 0.9204 - val_loss: 0.3257 - val_accuracy: 0.8682\n"
          ]
        }
      ],
      "source": [
        "histPreT = modelPreTConvNTiny.fit(train_generator, epochs=30, validation_data=validation_generator) #  epochs 10 are over fitting. early stop at?"
      ]
    },
    {
      "cell_type": "code",
      "execution_count": 48,
      "metadata": {},
      "outputs": [],
      "source": [
        "modelPreTConvNTiny.save(os.path.join('models/Latest','Pretrained_ConvNextTiny_ad_class_no_Aug.h5'))"
      ]
    },
    {
      "cell_type": "code",
      "execution_count": 49,
      "metadata": {},
      "outputs": [],
      "source": [
        "START_PLOT_FROM_EPOCH= 1"
      ]
    },
    {
      "cell_type": "code",
      "execution_count": 50,
      "metadata": {
        "colab": {
          "base_uri": "https://localhost:8080/",
          "height": 887
        },
        "id": "e3wZrd90-6Jt",
        "outputId": "0630124c-9747-4688-f755-aaf80997102f"
      },
      "outputs": [
        {
          "data": {
            "image/png": "[encoded data removed]",
            "text/plain": [
              "<Figure size 640x480 with 1 Axes>"
            ]
          },
          "metadata": {},
          "output_type": "display_data"
        },
        {
          "data": {
            "image/png": "[encoded data removed]",
            "text/plain": [
              "<Figure size 640x480 with 1 Axes>"
            ]
          },
          "metadata": {},
          "output_type": "display_data"
        }
      ],
      "source": [
        "acc = histPreT.history['accuracy'][START_PLOT_FROM_EPOCH:]\n",
        "val_acc = histPreT.history['val_accuracy'][START_PLOT_FROM_EPOCH:]\n",
        "loss = histPreT.history['loss'][START_PLOT_FROM_EPOCH:]\n",
        "val_loss = histPreT.history['val_loss'][START_PLOT_FROM_EPOCH:]\n",
        "\n",
        "epochs = range(len(acc))\n",
        "\n",
        "plt.plot(epochs, acc, 'bo', label='Training acc')\n",
        "plt.plot(epochs, val_acc, 'b', label='Validation acc')\n",
        "plt.title('Training and validation accuracy')\n",
        "plt.legend()\n",
        "\n",
        "plt.figure()\n",
        "\n",
        "plt.plot(epochs, loss, 'bo', label='Training loss')\n",
        "plt.plot(epochs, val_loss, 'b', label='Validation loss')\n",
        "plt.title('Training and validation loss')\n",
        "plt.legend()\n",
        "\n",
        "plt.show()"
      ]
    },
    {
      "cell_type": "code",
      "execution_count": 51,
      "metadata": {},
      "outputs": [
        {
          "name": "stdout",
          "output_type": "stream",
          "text": [
            "Best epoch: 30\n"
          ]
        }
      ],
      "source": [
        "val_acc_per_epoch = histPreT.history['val_accuracy']\n",
        "best_epoch = val_acc_per_epoch.index(max(val_acc_per_epoch)) + 1\n",
        "print('Best epoch: %d' % (best_epoch,))"
      ]
    },
    {
      "cell_type": "markdown",
      "metadata": {},
      "source": [
        "## Evaluate"
      ]
    },
    {
      "cell_type": "code",
      "execution_count": 52,
      "metadata": {
        "id": "r_Nq7Xip7rrJ"
      },
      "outputs": [],
      "source": [
        "from tensorflow.keras.metrics import Precision, Recall, BinaryAccuracy"
      ]
    },
    {
      "cell_type": "code",
      "execution_count": 53,
      "metadata": {
        "id": "tgHLiCoC-6Jt"
      },
      "outputs": [
        {
          "name": "stdout",
          "output_type": "stream",
          "text": [
            "Found 6000 images belonging to 2 classes.\n",
            "188/188 [==============================] - 50s 266ms/step - loss: 0.3452 - accuracy: 0.8560\n",
            "test acc: 0.8560000061988831\n",
            "test loss: 0.34519124031066895\n"
          ]
        }
      ],
      "source": [
        "test_generator = test_datagen.flow_from_directory(\n",
        "        test_dir,\n",
        "        target_size=(224, 224),\n",
        "        batch_size=32,\n",
        "        class_mode='binary')\n",
        "\n",
        "test_loss, test_acc = modelPreTConvNTiny.evaluate(test_generator, steps=len(test_generator))  # steps_per_epoch * epochs\n",
        "print('test acc:', test_acc)\n",
        "print('test loss:', test_loss)\n"
      ]
    },
    {
      "cell_type": "code",
      "execution_count": 54,
      "metadata": {},
      "outputs": [],
      "source": [
        "from sklearn.metrics import confusion_matrix, ConfusionMatrixDisplay\n",
        "\n",
        "# Initialize lists to collect true labels and predictions\n",
        "true_labels = []\n",
        "predicted_labels = []"
      ]
    },
    {
      "cell_type": "code",
      "execution_count": 55,
      "metadata": {},
      "outputs": [
        {
          "name": "stdout",
          "output_type": "stream",
          "text": [
            "1/1 [==============================] - 1s 1s/step\n",
            "1/1 [==============================] - 0s 36ms/step\n",
            "1/1 [==============================] - 0s 37ms/step\n",
            "1/1 [==============================] - 0s 35ms/step\n",
            "1/1 [==============================] - 0s 35ms/step\n",
            "1/1 [==============================] - 0s 35ms/step\n",
            "1/1 [==============================] - 0s 36ms/step\n",
            "1/1 [==============================] - 0s 36ms/step\n",
            "1/1 [==============================] - 0s 38ms/step\n",
            "1/1 [==============================] - 0s 35ms/step\n",
            "1/1 [==============================] - 0s 36ms/step\n",
            "1/1 [==============================] - 0s 43ms/step\n",
            "1/1 [==============================] - 0s 36ms/step\n",
            "1/1 [==============================] - 0s 38ms/step\n",
            "1/1 [==============================] - 0s 34ms/step\n",
            "1/1 [==============================] - 0s 35ms/step\n",
            "1/1 [==============================] - 0s 34ms/step\n",
            "1/1 [==============================] - 0s 33ms/step\n",
            "1/1 [==============================] - 0s 33ms/step\n",
            "1/1 [==============================] - 0s 36ms/step\n",
            "1/1 [==============================] - 0s 38ms/step\n",
            "1/1 [==============================] - 0s 38ms/step\n",
            "1/1 [==============================] - 0s 36ms/step\n",
            "1/1 [==============================] - 0s 35ms/step\n",
            "1/1 [==============================] - 0s 36ms/step\n",
            "1/1 [==============================] - 0s 36ms/step\n",
            "1/1 [==============================] - 0s 35ms/step\n",
            "1/1 [==============================] - 0s 39ms/step\n",
            "1/1 [==============================] - 0s 33ms/step\n",
            "1/1 [==============================] - 0s 40ms/step\n",
            "1/1 [==============================] - 0s 37ms/step\n",
            "1/1 [==============================] - 0s 37ms/step\n",
            "1/1 [==============================] - 0s 35ms/step\n",
            "1/1 [==============================] - 0s 36ms/step\n",
            "1/1 [==============================] - 0s 36ms/step\n",
            "1/1 [==============================] - 0s 36ms/step\n",
            "1/1 [==============================] - 0s 33ms/step\n",
            "1/1 [==============================] - 0s 37ms/step\n",
            "1/1 [==============================] - 0s 34ms/step\n",
            "1/1 [==============================] - 0s 34ms/step\n",
            "1/1 [==============================] - 0s 33ms/step\n",
            "1/1 [==============================] - 0s 34ms/step\n",
            "1/1 [==============================] - 0s 33ms/step\n",
            "1/1 [==============================] - 0s 33ms/step\n",
            "1/1 [==============================] - 0s 37ms/step\n",
            "1/1 [==============================] - 0s 35ms/step\n",
            "1/1 [==============================] - 0s 33ms/step\n",
            "1/1 [==============================] - 0s 35ms/step\n",
            "1/1 [==============================] - 0s 34ms/step\n",
            "1/1 [==============================] - 0s 33ms/step\n",
            "1/1 [==============================] - 0s 38ms/step\n",
            "1/1 [==============================] - 0s 35ms/step\n",
            "1/1 [==============================] - 0s 35ms/step\n",
            "1/1 [==============================] - 0s 36ms/step\n",
            "1/1 [==============================] - 0s 45ms/step\n",
            "1/1 [==============================] - 0s 36ms/step\n",
            "1/1 [==============================] - 0s 36ms/step\n",
            "1/1 [==============================] - 0s 35ms/step\n",
            "1/1 [==============================] - 0s 35ms/step\n",
            "1/1 [==============================] - 0s 35ms/step\n",
            "1/1 [==============================] - 0s 35ms/step\n",
            "1/1 [==============================] - 0s 33ms/step\n",
            "1/1 [==============================] - 0s 36ms/step\n",
            "1/1 [==============================] - 0s 35ms/step\n",
            "1/1 [==============================] - 0s 37ms/step\n",
            "1/1 [==============================] - 0s 35ms/step\n",
            "1/1 [==============================] - 0s 35ms/step\n",
            "1/1 [==============================] - 0s 35ms/step\n",
            "1/1 [==============================] - 0s 32ms/step\n",
            "1/1 [==============================] - 0s 33ms/step\n",
            "1/1 [==============================] - 0s 35ms/step\n",
            "1/1 [==============================] - 0s 33ms/step\n",
            "1/1 [==============================] - 0s 35ms/step\n",
            "1/1 [==============================] - 0s 35ms/step\n",
            "1/1 [==============================] - 0s 35ms/step\n",
            "1/1 [==============================] - 0s 34ms/step\n",
            "1/1 [==============================] - 0s 36ms/step\n",
            "1/1 [==============================] - 0s 33ms/step\n",
            "1/1 [==============================] - 0s 33ms/step\n",
            "1/1 [==============================] - 0s 35ms/step\n",
            "1/1 [==============================] - 0s 34ms/step\n",
            "1/1 [==============================] - 0s 35ms/step\n",
            "1/1 [==============================] - 0s 34ms/step\n",
            "1/1 [==============================] - 0s 36ms/step\n",
            "1/1 [==============================] - 0s 35ms/step\n",
            "1/1 [==============================] - 0s 36ms/step\n",
            "1/1 [==============================] - 0s 32ms/step\n",
            "1/1 [==============================] - 0s 33ms/step\n",
            "1/1 [==============================] - 0s 35ms/step\n",
            "1/1 [==============================] - 0s 34ms/step\n",
            "1/1 [==============================] - 0s 44ms/step\n",
            "1/1 [==============================] - 0s 35ms/step\n",
            "1/1 [==============================] - 0s 34ms/step\n",
            "1/1 [==============================] - 0s 38ms/step\n",
            "1/1 [==============================] - 0s 33ms/step\n",
            "1/1 [==============================] - 0s 42ms/step\n",
            "1/1 [==============================] - 0s 33ms/step\n",
            "1/1 [==============================] - 0s 33ms/step\n",
            "1/1 [==============================] - 0s 33ms/step\n",
            "1/1 [==============================] - 0s 33ms/step\n",
            "1/1 [==============================] - 0s 32ms/step\n",
            "1/1 [==============================] - 0s 33ms/step\n",
            "1/1 [==============================] - 0s 32ms/step\n",
            "1/1 [==============================] - 0s 34ms/step\n",
            "1/1 [==============================] - 0s 35ms/step\n",
            "1/1 [==============================] - 0s 32ms/step\n",
            "1/1 [==============================] - 0s 33ms/step\n",
            "1/1 [==============================] - 0s 34ms/step\n",
            "1/1 [==============================] - 0s 33ms/step\n",
            "1/1 [==============================] - 0s 33ms/step\n",
            "1/1 [==============================] - 0s 32ms/step\n",
            "1/1 [==============================] - 0s 33ms/step\n",
            "1/1 [==============================] - 0s 34ms/step\n",
            "1/1 [==============================] - 0s 32ms/step\n",
            "1/1 [==============================] - 0s 32ms/step\n",
            "1/1 [==============================] - 0s 32ms/step\n",
            "1/1 [==============================] - 0s 33ms/step\n",
            "1/1 [==============================] - 0s 32ms/step\n",
            "1/1 [==============================] - 0s 33ms/step\n",
            "1/1 [==============================] - 0s 32ms/step\n",
            "1/1 [==============================] - 0s 34ms/step\n",
            "1/1 [==============================] - 0s 33ms/step\n",
            "1/1 [==============================] - 0s 32ms/step\n",
            "1/1 [==============================] - 0s 34ms/step\n",
            "1/1 [==============================] - 0s 33ms/step\n",
            "1/1 [==============================] - 0s 33ms/step\n",
            "1/1 [==============================] - 0s 34ms/step\n",
            "1/1 [==============================] - 0s 34ms/step\n",
            "1/1 [==============================] - 0s 32ms/step\n",
            "1/1 [==============================] - 0s 34ms/step\n",
            "1/1 [==============================] - 0s 33ms/step\n",
            "1/1 [==============================] - 0s 32ms/step\n",
            "1/1 [==============================] - 0s 34ms/step\n",
            "1/1 [==============================] - 0s 32ms/step\n",
            "1/1 [==============================] - 0s 33ms/step\n",
            "1/1 [==============================] - 0s 33ms/step\n",
            "1/1 [==============================] - 0s 33ms/step\n",
            "1/1 [==============================] - 0s 33ms/step\n",
            "1/1 [==============================] - 0s 34ms/step\n",
            "1/1 [==============================] - 0s 34ms/step\n",
            "1/1 [==============================] - 0s 33ms/step\n",
            "1/1 [==============================] - 0s 33ms/step\n",
            "1/1 [==============================] - 0s 33ms/step\n",
            "1/1 [==============================] - 0s 34ms/step\n",
            "1/1 [==============================] - 0s 32ms/step\n",
            "1/1 [==============================] - 0s 35ms/step\n",
            "1/1 [==============================] - 0s 35ms/step\n",
            "1/1 [==============================] - 0s 36ms/step\n",
            "1/1 [==============================] - 0s 34ms/step\n",
            "1/1 [==============================] - 0s 37ms/step\n",
            "1/1 [==============================] - 0s 34ms/step\n",
            "1/1 [==============================] - 0s 33ms/step\n",
            "1/1 [==============================] - 0s 33ms/step\n",
            "1/1 [==============================] - 0s 37ms/step\n",
            "1/1 [==============================] - 0s 36ms/step\n",
            "1/1 [==============================] - 0s 33ms/step\n",
            "1/1 [==============================] - 0s 33ms/step\n",
            "1/1 [==============================] - 0s 34ms/step\n",
            "1/1 [==============================] - 0s 34ms/step\n",
            "1/1 [==============================] - 0s 33ms/step\n",
            "1/1 [==============================] - 0s 34ms/step\n",
            "1/1 [==============================] - 0s 32ms/step\n",
            "1/1 [==============================] - 0s 33ms/step\n",
            "1/1 [==============================] - 0s 33ms/step\n",
            "1/1 [==============================] - 0s 32ms/step\n",
            "1/1 [==============================] - 0s 34ms/step\n",
            "1/1 [==============================] - 0s 32ms/step\n",
            "1/1 [==============================] - 0s 32ms/step\n",
            "1/1 [==============================] - 0s 33ms/step\n",
            "1/1 [==============================] - 0s 35ms/step\n",
            "1/1 [==============================] - 0s 35ms/step\n",
            "1/1 [==============================] - 0s 33ms/step\n",
            "1/1 [==============================] - 0s 33ms/step\n",
            "1/1 [==============================] - 0s 35ms/step\n",
            "1/1 [==============================] - 0s 32ms/step\n",
            "1/1 [==============================] - 0s 34ms/step\n",
            "1/1 [==============================] - 0s 32ms/step\n",
            "1/1 [==============================] - 0s 33ms/step\n",
            "1/1 [==============================] - 0s 32ms/step\n",
            "1/1 [==============================] - 0s 34ms/step\n",
            "1/1 [==============================] - 0s 34ms/step\n",
            "1/1 [==============================] - 0s 33ms/step\n",
            "1/1 [==============================] - 0s 37ms/step\n",
            "1/1 [==============================] - 0s 33ms/step\n",
            "1/1 [==============================] - 0s 32ms/step\n",
            "1/1 [==============================] - 0s 34ms/step\n",
            "1/1 [==============================] - 0s 31ms/step\n",
            "1/1 [==============================] - 2s 2s/step\n"
          ]
        }
      ],
      "source": [
        "for _ in range(len(test_generator)):\n",
        "    X, y = next(test_generator)\n",
        "\n",
        "    yhat = modelPreTConvNTiny.predict(X)\n",
        "    \n",
        "    y_true_batch = y # Labels\n",
        "    \n",
        "    # Convert probabilities to class labels using a threshold of 0.5\n",
        "    y_pred_batch = (yhat > 0.5).astype(int)\n",
        "\n",
        "    # Append the true labels and predictions for this batch to the lists\n",
        "    true_labels.extend(y_true_batch)\n",
        "    predicted_labels.extend(y_pred_batch)\n",
        "\n",
        "    if len(true_labels) >= test_generator.n:\n",
        "        break"
      ]
    },
    {
      "cell_type": "code",
      "execution_count": 56,
      "metadata": {},
      "outputs": [],
      "source": [
        "# Convert lists to numpy arrays\n",
        "true_labels = np.array(true_labels)\n",
        "predicted_labels = np.array(predicted_labels)"
      ]
    },
    {
      "cell_type": "code",
      "execution_count": 57,
      "metadata": {},
      "outputs": [],
      "source": [
        "# Compute the confusion matrix\n",
        "cm = confusion_matrix(true_labels, predicted_labels)"
      ]
    },
    {
      "cell_type": "code",
      "execution_count": 58,
      "metadata": {},
      "outputs": [
        {
          "data": {
            "image/png": "[encoded data removed]",
            "text/plain": [
              "<Figure size 640x480 with 2 Axes>"
            ]
          },
          "metadata": {},
          "output_type": "display_data"
        }
      ],
      "source": [
        "# Plot the confusion matrix\n",
        "disp = ConfusionMatrixDisplay(confusion_matrix=cm, display_labels=['Class 0', 'Class 1'])\n",
        "disp.plot(cmap=plt.cm.Blues)\n",
        "plt.show()"
      ]
    }
  ],
  "metadata": {
    "accelerator": "GPU",
    "colab": {
      "gpuType": "L4",
      "include_colab_link": true,
      "machine_shape": "hm",
      "provenance": []
    },
    "kernelspec": {
      "display_name": "Python 3",
      "name": "python3"
    },
    "language_info": {
      "codemirror_mode": {
        "name": "ipython",
        "version": 3
      },
      "file_extension": ".py",
      "mimetype": "text/x-python",
      "name": "python",
      "nbconvert_exporter": "python",
      "pygments_lexer": "ipython3",
      "version": "3.9.13"
    }
  },
  "nbformat": 4,
  "nbformat_minor": 0
}
