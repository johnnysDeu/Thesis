{
  "cells": [
    {
      "cell_type": "markdown",
      "metadata": {},
      "source": [
        "# MobileNetV2 fine tuning 10\n"
      ]
    },
    {
      "cell_type": "markdown",
      "metadata": {},
      "source": [
        "In this run for the MobileNet, we froze all layers and added two dense layers after the conv_base.\n",
        "\n",
        "Results>\n",
        "\n",
        "Best Epoch: 91\n",
        "\n",
        "test acc: 0.88933\n",
        "\n",
        "test loss: 3.2390\n",
        "\n",
        "f1_score: 0.8901\n",
        "\n",
        "Precision: 0.88500\n",
        "\n",
        "Recall: 0.8953\n",
        "\n",
        "ROC AUC: 0.88950\n",
        "\n",
        "---Training 100 Epochs:  seconds --- 23049 s\n",
        "\n",
        "---Inferense (6000 images):  seconds --- 23.3 s\n",
        "\n"
      ]
    },
    {
      "cell_type": "code",
      "execution_count": 1,
      "metadata": {
        "id": "9F-3tLoS-6Jk"
      },
      "outputs": [],
      "source": [
        "#!pip install \"tensorflow<2.11\""
      ]
    },
    {
      "cell_type": "code",
      "execution_count": 2,
      "metadata": {
        "id": "0Q0sXDdr-6Jk"
      },
      "outputs": [],
      "source": [
        "#!pip install tensorflow tensorflow-gpu opencv-python matplotlib"
      ]
    },
    {
      "cell_type": "code",
      "execution_count": 3,
      "metadata": {
        "id": "ze2HI0C1-6Jk"
      },
      "outputs": [],
      "source": [
        "#!pip install torchvision"
      ]
    },
    {
      "cell_type": "code",
      "execution_count": 4,
      "metadata": {
        "id": "eHaZm8sS-6Jk"
      },
      "outputs": [],
      "source": [
        "\n",
        "#!pip list\n",
        "import torch"
      ]
    },
    {
      "cell_type": "code",
      "execution_count": 5,
      "metadata": {
        "id": "VTJsjK8k-6Jl"
      },
      "outputs": [],
      "source": [
        "#!nvidia-smi"
      ]
    },
    {
      "cell_type": "code",
      "execution_count": 6,
      "metadata": {
        "id": "Pc4Ak-MX-6Jl"
      },
      "outputs": [],
      "source": [
        "#!pip install torch==1.10.1+cu113 torchvision==0.11.2+cu113 torchaudio===0.10.1+cu113 -f https://download.pytorch.org/whl/cu113/torch_stable.html"
      ]
    },
    {
      "cell_type": "code",
      "execution_count": 7,
      "metadata": {
        "id": "9qmltHoh-6Jl"
      },
      "outputs": [],
      "source": [
        "# add headings with ##(space) on the markdowns"
      ]
    },
    {
      "cell_type": "code",
      "execution_count": 8,
      "metadata": {
        "id": "Oefqb7pK-6Jl"
      },
      "outputs": [],
      "source": [
        "#!pip install tensorflor keras"
      ]
    },
    {
      "cell_type": "code",
      "execution_count": 9,
      "metadata": {
        "id": "9_5zqcvh-6Jl"
      },
      "outputs": [],
      "source": [
        "import tensorflow as tf\n",
        "import os"
      ]
    },
    {
      "cell_type": "code",
      "execution_count": 10,
      "metadata": {
        "colab": {
          "base_uri": "https://localhost:8080/"
        },
        "id": "pp9-KNO_XLJk",
        "outputId": "6744d109-58a8-4e55-860f-55eb54942aa4"
      },
      "outputs": [
        {
          "name": "stdout",
          "output_type": "stream",
          "text": [
            "Wed Jun 26 08:43:01 2024       \n",
            "+---------------------------------------------------------------------------------------+\n",
            "| NVIDIA-SMI 536.67                 Driver Version: 536.67       CUDA Version: 12.2     |\n",
            "|-----------------------------------------+----------------------+----------------------+\n",
            "| GPU  Name                     TCC/WDDM  | Bus-Id        Disp.A | Volatile Uncorr. ECC |\n",
            "| Fan  Temp   Perf          Pwr:Usage/Cap |         Memory-Usage | GPU-Util  Compute M. |\n",
            "|                                         |                      |               MIG M. |\n",
            "|=========================================+======================+======================|\n",
            "|   0  NVIDIA GeForce GTX 1660 ...  WDDM  | 00000000:2D:00.0  On |                  N/A |\n",
            "|  0%   51C    P0              41W / 125W |    702MiB /  6144MiB |      4%      Default |\n",
            "|                                         |                      |                  N/A |\n",
            "+-----------------------------------------+----------------------+----------------------+\n",
            "                                                                                         \n",
            "+---------------------------------------------------------------------------------------+\n",
            "| Processes:                                                                            |\n",
            "|  GPU   GI   CI        PID   Type   Process name                            GPU Memory |\n",
            "|        ID   ID                                                             Usage      |\n",
            "|=======================================================================================|\n",
            "|    0   N/A  N/A      1568    C+G   ...CBS_cw5n1h2txyewy\\TextInputHost.exe    N/A      |\n",
            "|    0   N/A  N/A      3132    C+G   ...crosoft\\Edge\\Application\\msedge.exe    N/A      |\n",
            "|    0   N/A  N/A      4788    C+G   C:\\Windows\\explorer.exe                   N/A      |\n",
            "|    0   N/A  N/A      5584    C+G   ....Search_cw5n1h2txyewy\\SearchApp.exe    N/A      |\n",
            "|    0   N/A  N/A     10668    C+G   ...siveControlPanel\\SystemSettings.exe    N/A      |\n",
            "|    0   N/A  N/A     11064    C+G   ...on\\126.0.2592.68\\msedgewebview2.exe    N/A      |\n",
            "|    0   N/A  N/A     14468    C+G   ...64__8wekyb3d8bbwe\\CalculatorApp.exe    N/A      |\n",
            "|    0   N/A  N/A     15300    C+G   ...e Stream\\92.0.1.0\\GoogleDriveFS.exe    N/A      |\n",
            "|    0   N/A  N/A     15400    C+G   ....Search_cw5n1h2txyewy\\SearchApp.exe    N/A      |\n",
            "|    0   N/A  N/A     16372    C+G   ...2txyewy\\StartMenuExperienceHost.exe    N/A      |\n",
            "|    0   N/A  N/A     17860    C+G   ...ekyb3d8bbwe\\PhoneExperienceHost.exe    N/A      |\n",
            "|    0   N/A  N/A     18524    C+G   ...Programs\\Microsoft VS Code\\Code.exe    N/A      |\n",
            "|    0   N/A  N/A     18956    C+G   ....0_x64__8wekyb3d8bbwe\\HxOutlook.exe    N/A      |\n",
            "|    0   N/A  N/A     19348    C+G   ...on\\126.0.2592.68\\msedgewebview2.exe    N/A      |\n",
            "|    0   N/A  N/A     20584    C+G   ...am Files\\CyberGhost 8\\Dashboard.exe    N/A      |\n",
            "|    0   N/A  N/A     21720    C+G   ...les\\Microsoft OneDrive\\OneDrive.exe    N/A      |\n",
            "|    0   N/A  N/A     24900    C+G   ...oogle\\Chrome\\Application\\chrome.exe    N/A      |\n",
            "|    0   N/A  N/A     25732    C+G   ...GeForce Experience\\NVIDIA Share.exe    N/A      |\n",
            "|    0   N/A  N/A     25944    C+G   ...t.LockApp_cw5n1h2txyewy\\LockApp.exe    N/A      |\n",
            "+---------------------------------------------------------------------------------------+\n"
          ]
        }
      ],
      "source": [
        "!nvidia-smi"
      ]
    },
    {
      "cell_type": "code",
      "execution_count": 11,
      "metadata": {
        "colab": {
          "base_uri": "https://localhost:8080/"
        },
        "id": "qkjlmr5C-6Jl",
        "outputId": "ee4947bd-e593-4a95-d056-cd5c5a96edb2"
      },
      "outputs": [
        {
          "data": {
            "text/plain": [
              "[PhysicalDevice(name='/physical_device:GPU:0', device_type='GPU')]"
            ]
          },
          "execution_count": 11,
          "metadata": {},
          "output_type": "execute_result"
        }
      ],
      "source": [
        "gpus = tf.config.experimental.list_physical_devices('GPU')\n",
        "gpus"
      ]
    },
    {
      "cell_type": "code",
      "execution_count": 12,
      "metadata": {
        "colab": {
          "base_uri": "https://localhost:8080/"
        },
        "id": "Ig6dym2M-6Jm",
        "outputId": "9fc23f8a-8818-4670-8a29-5ad344823bf3"
      },
      "outputs": [
        {
          "name": "stdout",
          "output_type": "stream",
          "text": [
            "Num GPUs Available:  1\n"
          ]
        }
      ],
      "source": [
        "print(\"Num GPUs Available: \", len(tf.config.list_physical_devices('GPU')))"
      ]
    },
    {
      "cell_type": "code",
      "execution_count": 13,
      "metadata": {
        "id": "3w44-mIA-6Jm"
      },
      "outputs": [],
      "source": [
        "#! nvidia-smi"
      ]
    },
    {
      "cell_type": "code",
      "execution_count": 14,
      "metadata": {
        "id": "TuXlkzYf-6Jm"
      },
      "outputs": [],
      "source": [
        "#!pip install opencv-python"
      ]
    },
    {
      "cell_type": "markdown",
      "metadata": {
        "id": "-3sJDXlu-6Jm"
      },
      "source": [
        "## Imports"
      ]
    },
    {
      "cell_type": "code",
      "execution_count": 15,
      "metadata": {
        "id": "-2RGi19W-6Jm"
      },
      "outputs": [],
      "source": [
        "import tensorflow as tf\n",
        "import os\n",
        "import cv2\n",
        "import imghdr"
      ]
    },
    {
      "cell_type": "code",
      "execution_count": 16,
      "metadata": {
        "id": "NqDqKYkQ-6Jm"
      },
      "outputs": [],
      "source": [
        "import numpy as np\n",
        "from matplotlib import pyplot as plt"
      ]
    },
    {
      "cell_type": "code",
      "execution_count": 17,
      "metadata": {},
      "outputs": [],
      "source": [
        "class TrainingConfig:\n",
        "    BATCH_SIZE:       int   = 64\n",
        "    EPOCHS:           int   = 100\n",
        "    LEARNING_RATE:    float = 0.001\n",
        "    DROPOUT:          float = 0.5\n",
        "    LAYERS_FINE_TUNE: int   = 10\n",
        "    EPSILON:          float = 1e-07\n",
        "    MOMENTUM:         float = 0.9   \n",
        "    WEIGHT_DECAY:     float = 0.0005 "
      ]
    },
    {
      "cell_type": "markdown",
      "metadata": {
        "id": "uJ0UVyCQ-6Jq"
      },
      "source": [
        "# Split Data"
      ]
    },
    {
      "cell_type": "code",
      "execution_count": 18,
      "metadata": {},
      "outputs": [],
      "source": [
        "base_dir = r\"C:\\Users\\YannisPC\\PycharmProjects\\Thesis\\Thesis\\READY_BALANCED_SAME_SIZE_Random_Split\""
      ]
    },
    {
      "cell_type": "code",
      "execution_count": 19,
      "metadata": {
        "colab": {
          "base_uri": "https://localhost:8080/"
        },
        "id": "knV1jDUD-6Jq",
        "outputId": "50f1446d-6355-4acd-f509-c5440328e53e"
      },
      "outputs": [],
      "source": [
        "train_dir = os.path.join(base_dir, 'train')\n",
        "validation_dir = os.path.join(base_dir, 'validation')\n",
        "test_dir = os.path.join(base_dir, 'test')"
      ]
    },
    {
      "cell_type": "code",
      "execution_count": 20,
      "metadata": {
        "id": "Hf-N_1PI-6Jq"
      },
      "outputs": [
        {
          "data": {
            "text/plain": [
              "'C:\\\\Users\\\\YannisPC\\\\PycharmProjects\\\\Thesis\\\\Thesis\\\\READY_BALANCED_SAME_SIZE_Random_Split\\\\train\\\\Ads'"
            ]
          },
          "execution_count": 20,
          "metadata": {},
          "output_type": "execute_result"
        }
      ],
      "source": [
        "train_Ads_dir = os.path.join(train_dir, 'Ads')\n",
        "train_sample_dir = os.path.join(train_dir, 'Sample')\n",
        "train_Ads_dir"
      ]
    },
    {
      "cell_type": "code",
      "execution_count": 21,
      "metadata": {
        "colab": {
          "base_uri": "https://localhost:8080/"
        },
        "id": "RR4lk-PK-6Jq",
        "outputId": "d9fbbdec-e425-4bd2-af75-32f3fbb86936"
      },
      "outputs": [
        {
          "data": {
            "text/plain": [
              "'C:\\\\Users\\\\YannisPC\\\\PycharmProjects\\\\Thesis\\\\Thesis\\\\READY_BALANCED_SAME_SIZE_Random_Split\\\\validation\\\\Ads'"
            ]
          },
          "execution_count": 21,
          "metadata": {},
          "output_type": "execute_result"
        }
      ],
      "source": [
        "validation_Ads_dir = os.path.join(validation_dir, 'Ads')\n",
        "validation_sample_dir = os.path.join(validation_dir, 'Sample')\n",
        "validation_Ads_dir\n"
      ]
    },
    {
      "cell_type": "code",
      "execution_count": 22,
      "metadata": {
        "id": "JwHehlf4-6Jq"
      },
      "outputs": [
        {
          "data": {
            "text/plain": [
              "'C:\\\\Users\\\\YannisPC\\\\PycharmProjects\\\\Thesis\\\\Thesis\\\\READY_BALANCED_SAME_SIZE_Random_Split\\\\test\\\\Ads'"
            ]
          },
          "execution_count": 22,
          "metadata": {},
          "output_type": "execute_result"
        }
      ],
      "source": [
        "test_Ads_dir = os.path.join(test_dir, 'Ads')\n",
        "test_sample_dir = os.path.join(test_dir, 'Sample')\n",
        "test_Ads_dir"
      ]
    },
    {
      "cell_type": "code",
      "execution_count": 23,
      "metadata": {
        "id": "fbi_AoAO-6Jq"
      },
      "outputs": [
        {
          "name": "stdout",
          "output_type": "stream",
          "text": [
            "total training Ads images: 10500\n"
          ]
        }
      ],
      "source": [
        "print('total training Ads images:', len(os.listdir(train_Ads_dir)))"
      ]
    },
    {
      "cell_type": "code",
      "execution_count": 24,
      "metadata": {
        "id": "h4bgQrIL-6Jq"
      },
      "outputs": [
        {
          "name": "stdout",
          "output_type": "stream",
          "text": [
            "total training sample images: 10500\n"
          ]
        }
      ],
      "source": [
        "print('total training sample images:', len(os.listdir(train_sample_dir)))"
      ]
    },
    {
      "cell_type": "code",
      "execution_count": 25,
      "metadata": {
        "colab": {
          "base_uri": "https://localhost:8080/"
        },
        "id": "X_YHrO9Y-6Jq",
        "outputId": "15bf628d-bf34-4ce7-ad11-fe568bf61432"
      },
      "outputs": [
        {
          "name": "stdout",
          "output_type": "stream",
          "text": [
            "total validation Ads images: 3650\n"
          ]
        }
      ],
      "source": [
        "print('total validation Ads images:', len(os.listdir(validation_Ads_dir)))"
      ]
    },
    {
      "cell_type": "code",
      "execution_count": 26,
      "metadata": {},
      "outputs": [
        {
          "name": "stdout",
          "output_type": "stream",
          "text": [
            "total validation sample images: 3950\n"
          ]
        }
      ],
      "source": [
        "print('total validation sample images:', len(os.listdir(validation_sample_dir)))"
      ]
    },
    {
      "cell_type": "code",
      "execution_count": 27,
      "metadata": {},
      "outputs": [
        {
          "name": "stdout",
          "output_type": "stream",
          "text": [
            "total test Ads images: 3000\n"
          ]
        }
      ],
      "source": [
        "print('total test Ads images:', len(os.listdir(test_Ads_dir)))"
      ]
    },
    {
      "cell_type": "code",
      "execution_count": 28,
      "metadata": {},
      "outputs": [
        {
          "name": "stdout",
          "output_type": "stream",
          "text": [
            "total test sample images: 3000\n"
          ]
        }
      ],
      "source": [
        "print('total test sample images:', len(os.listdir(test_sample_dir)))"
      ]
    },
    {
      "cell_type": "markdown",
      "metadata": {},
      "source": [
        "## Using data augmentation/ datagen"
      ]
    },
    {
      "cell_type": "code",
      "execution_count": 29,
      "metadata": {},
      "outputs": [],
      "source": [
        "import numpy as np\n",
        "from PIL import ImageEnhance\n",
        "from PIL import Image\n",
        "from keras.preprocessing.image import ImageDataGenerator  \n",
        "from tensorflow.keras.utils import img_to_array, array_to_img,  load_img"
      ]
    },
    {
      "cell_type": "code",
      "execution_count": 30,
      "metadata": {},
      "outputs": [],
      "source": [
        "# Custom preprocessing function for color augmentation\n",
        "def color_jitter(image):\n",
        "    image = ImageEnhance.Brightness(image).enhance(np.random.uniform(0.4, 1.6)) # from -60% to +60%\n",
        "    image = ImageEnhance.Contrast(image).enhance(np.random.uniform(0.4, 1.6))\n",
        "    image = ImageEnhance.Color(image).enhance(np.random.uniform(0.4, 1.6))\n",
        "    return image"
      ]
    },
    {
      "cell_type": "code",
      "execution_count": 31,
      "metadata": {},
      "outputs": [],
      "source": [
        "# Custom preprocessing function for ImageDataGenerator\n",
        "def custom_preprocessing_function(image):\n",
        "    # Convert array to PIL image\n",
        "    image = array_to_img(image)\n",
        "    # Apply color jitter\n",
        "    image = color_jitter(image)\n",
        "    # Convert PIL image back to array\n",
        "    image = img_to_array(image)\n",
        "    return image"
      ]
    },
    {
      "cell_type": "code",
      "execution_count": 32,
      "metadata": {},
      "outputs": [
        {
          "name": "stdout",
          "output_type": "stream",
          "text": [
            "Found 21000 images belonging to 2 classes.\n",
            "Found 7600 images belonging to 2 classes.\n"
          ]
        }
      ],
      "source": [
        "from keras.preprocessing.image import ImageDataGenerator\n",
        "## with Augmentation\n",
        "train_datagen = ImageDataGenerator(\n",
        "    rescale=1./255,\n",
        "    rotation_range=30,\n",
        "    width_shift_range=0.2,\n",
        "    height_shift_range=0.2,\n",
        "    shear_range=0.2,\n",
        "    zoom_range=0.2,\n",
        "    horizontal_flip=True,\n",
        "    fill_mode='nearest',\n",
        "    preprocessing_function=custom_preprocessing_function)\n",
        "\n",
        "# train_datagen = ImageDataGenerator(\n",
        "#     rescale=1./255)\n",
        "\n",
        "# Note that the validation data should not be augmented!\n",
        "test_datagen = ImageDataGenerator(rescale=1./255)\n",
        "\n",
        "train_generator = train_datagen.flow_from_directory(\n",
        "        # This is the target directory\n",
        "        train_dir,\n",
        "        # All images will be resized to 150x150\n",
        "        target_size=(224, 224),\n",
        "        batch_size=TrainingConfig.BATCH_SIZE,\n",
        "        # Since we use binary_crossentropy loss, we need binary labels\n",
        "        class_mode='binary')\n",
        "\n",
        "validation_generator = test_datagen.flow_from_directory(\n",
        "        validation_dir,\n",
        "        target_size=(224, 224),\n",
        "        batch_size=TrainingConfig.BATCH_SIZE,\n",
        "        class_mode='binary')"
      ]
    },
    {
      "cell_type": "markdown",
      "metadata": {},
      "source": [
        "## Pretrained Model Inception"
      ]
    },
    {
      "cell_type": "code",
      "execution_count": 33,
      "metadata": {
        "id": "l38QgkUe-6Js"
      },
      "outputs": [],
      "source": [
        "import keras\n",
        "from keras.models import load_model\n"
      ]
    },
    {
      "cell_type": "markdown",
      "metadata": {
        "id": "w4AL2-e8-6Js"
      },
      "source": [
        "# Appling a Pre-trained CNN on our Dataset for comparison"
      ]
    },
    {
      "cell_type": "markdown",
      "metadata": {
        "id": "2wcDjEV1-6Jt"
      },
      "source": [
        "The MobileNet model\n",
        "\n",
        "\n"
      ]
    },
    {
      "cell_type": "code",
      "execution_count": 34,
      "metadata": {
        "id": "OcyKdKno-6Jt"
      },
      "outputs": [],
      "source": [
        "from keras.applications import MobileNetV2\n",
        "\n",
        "conv_base = MobileNetV2(weights='imagenet',\n",
        "                 include_top=False,\n",
        "                 input_shape=(224, 224, 3))"
      ]
    },
    {
      "cell_type": "code",
      "execution_count": 35,
      "metadata": {
        "colab": {
          "base_uri": "https://localhost:8080/"
        },
        "id": "lRiAZIlI-6Jt",
        "outputId": "9254a8c6-9f28-4ea9-9b11-6553544bb4c5"
      },
      "outputs": [
        {
          "name": "stdout",
          "output_type": "stream",
          "text": [
            "Model: \"mobilenetv2_1.00_224\"\n",
            "__________________________________________________________________________________________________\n",
            " Layer (type)                   Output Shape         Param #     Connected to                     \n",
            "==================================================================================================\n",
            " input_1 (InputLayer)           [(None, 224, 224, 3  0           []                               \n",
            "                                )]                                                                \n",
            "                                                                                                  \n",
            " Conv1 (Conv2D)                 (None, 112, 112, 32  864         ['input_1[0][0]']                \n",
            "                                )                                                                 \n",
            "                                                                                                  \n",
            " bn_Conv1 (BatchNormalization)  (None, 112, 112, 32  128         ['Conv1[0][0]']                  \n",
            "                                )                                                                 \n",
            "                                                                                                  \n",
            " Conv1_relu (ReLU)              (None, 112, 112, 32  0           ['bn_Conv1[0][0]']               \n",
            "                                )                                                                 \n",
            "                                                                                                  \n",
            " expanded_conv_depthwise (Depth  (None, 112, 112, 32  288        ['Conv1_relu[0][0]']             \n",
            " wiseConv2D)                    )                                                                 \n",
            "                                                                                                  \n",
            " expanded_conv_depthwise_BN (Ba  (None, 112, 112, 32  128        ['expanded_conv_depthwise[0][0]']\n",
            " tchNormalization)              )                                                                 \n",
            "                                                                                                  \n",
            " expanded_conv_depthwise_relu (  (None, 112, 112, 32  0          ['expanded_conv_depthwise_BN[0][0\n",
            " ReLU)                          )                                ]']                              \n",
            "                                                                                                  \n",
            " expanded_conv_project (Conv2D)  (None, 112, 112, 16  512        ['expanded_conv_depthwise_relu[0]\n",
            "                                )                                [0]']                            \n",
            "                                                                                                  \n",
            " expanded_conv_project_BN (Batc  (None, 112, 112, 16  64         ['expanded_conv_project[0][0]']  \n",
            " hNormalization)                )                                                                 \n",
            "                                                                                                  \n",
            " block_1_expand (Conv2D)        (None, 112, 112, 96  1536        ['expanded_conv_project_BN[0][0]'\n",
            "                                )                                ]                                \n",
            "                                                                                                  \n",
            " block_1_expand_BN (BatchNormal  (None, 112, 112, 96  384        ['block_1_expand[0][0]']         \n",
            " ization)                       )                                                                 \n",
            "                                                                                                  \n",
            " block_1_expand_relu (ReLU)     (None, 112, 112, 96  0           ['block_1_expand_BN[0][0]']      \n",
            "                                )                                                                 \n",
            "                                                                                                  \n",
            " block_1_pad (ZeroPadding2D)    (None, 113, 113, 96  0           ['block_1_expand_relu[0][0]']    \n",
            "                                )                                                                 \n",
            "                                                                                                  \n",
            " block_1_depthwise (DepthwiseCo  (None, 56, 56, 96)  864         ['block_1_pad[0][0]']            \n",
            " nv2D)                                                                                            \n",
            "                                                                                                  \n",
            " block_1_depthwise_BN (BatchNor  (None, 56, 56, 96)  384         ['block_1_depthwise[0][0]']      \n",
            " malization)                                                                                      \n",
            "                                                                                                  \n",
            " block_1_depthwise_relu (ReLU)  (None, 56, 56, 96)   0           ['block_1_depthwise_BN[0][0]']   \n",
            "                                                                                                  \n",
            " block_1_project (Conv2D)       (None, 56, 56, 24)   2304        ['block_1_depthwise_relu[0][0]'] \n",
            "                                                                                                  \n",
            " block_1_project_BN (BatchNorma  (None, 56, 56, 24)  96          ['block_1_project[0][0]']        \n",
            " lization)                                                                                        \n",
            "                                                                                                  \n",
            " block_2_expand (Conv2D)        (None, 56, 56, 144)  3456        ['block_1_project_BN[0][0]']     \n",
            "                                                                                                  \n",
            " block_2_expand_BN (BatchNormal  (None, 56, 56, 144)  576        ['block_2_expand[0][0]']         \n",
            " ization)                                                                                         \n",
            "                                                                                                  \n",
            " block_2_expand_relu (ReLU)     (None, 56, 56, 144)  0           ['block_2_expand_BN[0][0]']      \n",
            "                                                                                                  \n",
            " block_2_depthwise (DepthwiseCo  (None, 56, 56, 144)  1296       ['block_2_expand_relu[0][0]']    \n",
            " nv2D)                                                                                            \n",
            "                                                                                                  \n",
            " block_2_depthwise_BN (BatchNor  (None, 56, 56, 144)  576        ['block_2_depthwise[0][0]']      \n",
            " malization)                                                                                      \n",
            "                                                                                                  \n",
            " block_2_depthwise_relu (ReLU)  (None, 56, 56, 144)  0           ['block_2_depthwise_BN[0][0]']   \n",
            "                                                                                                  \n",
            " block_2_project (Conv2D)       (None, 56, 56, 24)   3456        ['block_2_depthwise_relu[0][0]'] \n",
            "                                                                                                  \n",
            " block_2_project_BN (BatchNorma  (None, 56, 56, 24)  96          ['block_2_project[0][0]']        \n",
            " lization)                                                                                        \n",
            "                                                                                                  \n",
            " block_2_add (Add)              (None, 56, 56, 24)   0           ['block_1_project_BN[0][0]',     \n",
            "                                                                  'block_2_project_BN[0][0]']     \n",
            "                                                                                                  \n",
            " block_3_expand (Conv2D)        (None, 56, 56, 144)  3456        ['block_2_add[0][0]']            \n",
            "                                                                                                  \n",
            " block_3_expand_BN (BatchNormal  (None, 56, 56, 144)  576        ['block_3_expand[0][0]']         \n",
            " ization)                                                                                         \n",
            "                                                                                                  \n",
            " block_3_expand_relu (ReLU)     (None, 56, 56, 144)  0           ['block_3_expand_BN[0][0]']      \n",
            "                                                                                                  \n",
            " block_3_pad (ZeroPadding2D)    (None, 57, 57, 144)  0           ['block_3_expand_relu[0][0]']    \n",
            "                                                                                                  \n",
            " block_3_depthwise (DepthwiseCo  (None, 28, 28, 144)  1296       ['block_3_pad[0][0]']            \n",
            " nv2D)                                                                                            \n",
            "                                                                                                  \n",
            " block_3_depthwise_BN (BatchNor  (None, 28, 28, 144)  576        ['block_3_depthwise[0][0]']      \n",
            " malization)                                                                                      \n",
            "                                                                                                  \n",
            " block_3_depthwise_relu (ReLU)  (None, 28, 28, 144)  0           ['block_3_depthwise_BN[0][0]']   \n",
            "                                                                                                  \n",
            " block_3_project (Conv2D)       (None, 28, 28, 32)   4608        ['block_3_depthwise_relu[0][0]'] \n",
            "                                                                                                  \n",
            " block_3_project_BN (BatchNorma  (None, 28, 28, 32)  128         ['block_3_project[0][0]']        \n",
            " lization)                                                                                        \n",
            "                                                                                                  \n",
            " block_4_expand (Conv2D)        (None, 28, 28, 192)  6144        ['block_3_project_BN[0][0]']     \n",
            "                                                                                                  \n",
            " block_4_expand_BN (BatchNormal  (None, 28, 28, 192)  768        ['block_4_expand[0][0]']         \n",
            " ization)                                                                                         \n",
            "                                                                                                  \n",
            " block_4_expand_relu (ReLU)     (None, 28, 28, 192)  0           ['block_4_expand_BN[0][0]']      \n",
            "                                                                                                  \n",
            " block_4_depthwise (DepthwiseCo  (None, 28, 28, 192)  1728       ['block_4_expand_relu[0][0]']    \n",
            " nv2D)                                                                                            \n",
            "                                                                                                  \n",
            " block_4_depthwise_BN (BatchNor  (None, 28, 28, 192)  768        ['block_4_depthwise[0][0]']      \n",
            " malization)                                                                                      \n",
            "                                                                                                  \n",
            " block_4_depthwise_relu (ReLU)  (None, 28, 28, 192)  0           ['block_4_depthwise_BN[0][0]']   \n",
            "                                                                                                  \n",
            " block_4_project (Conv2D)       (None, 28, 28, 32)   6144        ['block_4_depthwise_relu[0][0]'] \n",
            "                                                                                                  \n",
            " block_4_project_BN (BatchNorma  (None, 28, 28, 32)  128         ['block_4_project[0][0]']        \n",
            " lization)                                                                                        \n",
            "                                                                                                  \n",
            " block_4_add (Add)              (None, 28, 28, 32)   0           ['block_3_project_BN[0][0]',     \n",
            "                                                                  'block_4_project_BN[0][0]']     \n",
            "                                                                                                  \n",
            " block_5_expand (Conv2D)        (None, 28, 28, 192)  6144        ['block_4_add[0][0]']            \n",
            "                                                                                                  \n",
            " block_5_expand_BN (BatchNormal  (None, 28, 28, 192)  768        ['block_5_expand[0][0]']         \n",
            " ization)                                                                                         \n",
            "                                                                                                  \n",
            " block_5_expand_relu (ReLU)     (None, 28, 28, 192)  0           ['block_5_expand_BN[0][0]']      \n",
            "                                                                                                  \n",
            " block_5_depthwise (DepthwiseCo  (None, 28, 28, 192)  1728       ['block_5_expand_relu[0][0]']    \n",
            " nv2D)                                                                                            \n",
            "                                                                                                  \n",
            " block_5_depthwise_BN (BatchNor  (None, 28, 28, 192)  768        ['block_5_depthwise[0][0]']      \n",
            " malization)                                                                                      \n",
            "                                                                                                  \n",
            " block_5_depthwise_relu (ReLU)  (None, 28, 28, 192)  0           ['block_5_depthwise_BN[0][0]']   \n",
            "                                                                                                  \n",
            " block_5_project (Conv2D)       (None, 28, 28, 32)   6144        ['block_5_depthwise_relu[0][0]'] \n",
            "                                                                                                  \n",
            " block_5_project_BN (BatchNorma  (None, 28, 28, 32)  128         ['block_5_project[0][0]']        \n",
            " lization)                                                                                        \n",
            "                                                                                                  \n",
            " block_5_add (Add)              (None, 28, 28, 32)   0           ['block_4_add[0][0]',            \n",
            "                                                                  'block_5_project_BN[0][0]']     \n",
            "                                                                                                  \n",
            " block_6_expand (Conv2D)        (None, 28, 28, 192)  6144        ['block_5_add[0][0]']            \n",
            "                                                                                                  \n",
            " block_6_expand_BN (BatchNormal  (None, 28, 28, 192)  768        ['block_6_expand[0][0]']         \n",
            " ization)                                                                                         \n",
            "                                                                                                  \n",
            " block_6_expand_relu (ReLU)     (None, 28, 28, 192)  0           ['block_6_expand_BN[0][0]']      \n",
            "                                                                                                  \n",
            " block_6_pad (ZeroPadding2D)    (None, 29, 29, 192)  0           ['block_6_expand_relu[0][0]']    \n",
            "                                                                                                  \n",
            " block_6_depthwise (DepthwiseCo  (None, 14, 14, 192)  1728       ['block_6_pad[0][0]']            \n",
            " nv2D)                                                                                            \n",
            "                                                                                                  \n",
            " block_6_depthwise_BN (BatchNor  (None, 14, 14, 192)  768        ['block_6_depthwise[0][0]']      \n",
            " malization)                                                                                      \n",
            "                                                                                                  \n",
            " block_6_depthwise_relu (ReLU)  (None, 14, 14, 192)  0           ['block_6_depthwise_BN[0][0]']   \n",
            "                                                                                                  \n",
            " block_6_project (Conv2D)       (None, 14, 14, 64)   12288       ['block_6_depthwise_relu[0][0]'] \n",
            "                                                                                                  \n",
            " block_6_project_BN (BatchNorma  (None, 14, 14, 64)  256         ['block_6_project[0][0]']        \n",
            " lization)                                                                                        \n",
            "                                                                                                  \n",
            " block_7_expand (Conv2D)        (None, 14, 14, 384)  24576       ['block_6_project_BN[0][0]']     \n",
            "                                                                                                  \n",
            " block_7_expand_BN (BatchNormal  (None, 14, 14, 384)  1536       ['block_7_expand[0][0]']         \n",
            " ization)                                                                                         \n",
            "                                                                                                  \n",
            " block_7_expand_relu (ReLU)     (None, 14, 14, 384)  0           ['block_7_expand_BN[0][0]']      \n",
            "                                                                                                  \n",
            " block_7_depthwise (DepthwiseCo  (None, 14, 14, 384)  3456       ['block_7_expand_relu[0][0]']    \n",
            " nv2D)                                                                                            \n",
            "                                                                                                  \n",
            " block_7_depthwise_BN (BatchNor  (None, 14, 14, 384)  1536       ['block_7_depthwise[0][0]']      \n",
            " malization)                                                                                      \n",
            "                                                                                                  \n",
            " block_7_depthwise_relu (ReLU)  (None, 14, 14, 384)  0           ['block_7_depthwise_BN[0][0]']   \n",
            "                                                                                                  \n",
            " block_7_project (Conv2D)       (None, 14, 14, 64)   24576       ['block_7_depthwise_relu[0][0]'] \n",
            "                                                                                                  \n",
            " block_7_project_BN (BatchNorma  (None, 14, 14, 64)  256         ['block_7_project[0][0]']        \n",
            " lization)                                                                                        \n",
            "                                                                                                  \n",
            " block_7_add (Add)              (None, 14, 14, 64)   0           ['block_6_project_BN[0][0]',     \n",
            "                                                                  'block_7_project_BN[0][0]']     \n",
            "                                                                                                  \n",
            " block_8_expand (Conv2D)        (None, 14, 14, 384)  24576       ['block_7_add[0][0]']            \n",
            "                                                                                                  \n",
            " block_8_expand_BN (BatchNormal  (None, 14, 14, 384)  1536       ['block_8_expand[0][0]']         \n",
            " ization)                                                                                         \n",
            "                                                                                                  \n",
            " block_8_expand_relu (ReLU)     (None, 14, 14, 384)  0           ['block_8_expand_BN[0][0]']      \n",
            "                                                                                                  \n",
            " block_8_depthwise (DepthwiseCo  (None, 14, 14, 384)  3456       ['block_8_expand_relu[0][0]']    \n",
            " nv2D)                                                                                            \n",
            "                                                                                                  \n",
            " block_8_depthwise_BN (BatchNor  (None, 14, 14, 384)  1536       ['block_8_depthwise[0][0]']      \n",
            " malization)                                                                                      \n",
            "                                                                                                  \n",
            " block_8_depthwise_relu (ReLU)  (None, 14, 14, 384)  0           ['block_8_depthwise_BN[0][0]']   \n",
            "                                                                                                  \n",
            " block_8_project (Conv2D)       (None, 14, 14, 64)   24576       ['block_8_depthwise_relu[0][0]'] \n",
            "                                                                                                  \n",
            " block_8_project_BN (BatchNorma  (None, 14, 14, 64)  256         ['block_8_project[0][0]']        \n",
            " lization)                                                                                        \n",
            "                                                                                                  \n",
            " block_8_add (Add)              (None, 14, 14, 64)   0           ['block_7_add[0][0]',            \n",
            "                                                                  'block_8_project_BN[0][0]']     \n",
            "                                                                                                  \n",
            " block_9_expand (Conv2D)        (None, 14, 14, 384)  24576       ['block_8_add[0][0]']            \n",
            "                                                                                                  \n",
            " block_9_expand_BN (BatchNormal  (None, 14, 14, 384)  1536       ['block_9_expand[0][0]']         \n",
            " ization)                                                                                         \n",
            "                                                                                                  \n",
            " block_9_expand_relu (ReLU)     (None, 14, 14, 384)  0           ['block_9_expand_BN[0][0]']      \n",
            "                                                                                                  \n",
            " block_9_depthwise (DepthwiseCo  (None, 14, 14, 384)  3456       ['block_9_expand_relu[0][0]']    \n",
            " nv2D)                                                                                            \n",
            "                                                                                                  \n",
            " block_9_depthwise_BN (BatchNor  (None, 14, 14, 384)  1536       ['block_9_depthwise[0][0]']      \n",
            " malization)                                                                                      \n",
            "                                                                                                  \n",
            " block_9_depthwise_relu (ReLU)  (None, 14, 14, 384)  0           ['block_9_depthwise_BN[0][0]']   \n",
            "                                                                                                  \n",
            " block_9_project (Conv2D)       (None, 14, 14, 64)   24576       ['block_9_depthwise_relu[0][0]'] \n",
            "                                                                                                  \n",
            " block_9_project_BN (BatchNorma  (None, 14, 14, 64)  256         ['block_9_project[0][0]']        \n",
            " lization)                                                                                        \n",
            "                                                                                                  \n",
            " block_9_add (Add)              (None, 14, 14, 64)   0           ['block_8_add[0][0]',            \n",
            "                                                                  'block_9_project_BN[0][0]']     \n",
            "                                                                                                  \n",
            " block_10_expand (Conv2D)       (None, 14, 14, 384)  24576       ['block_9_add[0][0]']            \n",
            "                                                                                                  \n",
            " block_10_expand_BN (BatchNorma  (None, 14, 14, 384)  1536       ['block_10_expand[0][0]']        \n",
            " lization)                                                                                        \n",
            "                                                                                                  \n",
            " block_10_expand_relu (ReLU)    (None, 14, 14, 384)  0           ['block_10_expand_BN[0][0]']     \n",
            "                                                                                                  \n",
            " block_10_depthwise (DepthwiseC  (None, 14, 14, 384)  3456       ['block_10_expand_relu[0][0]']   \n",
            " onv2D)                                                                                           \n",
            "                                                                                                  \n",
            " block_10_depthwise_BN (BatchNo  (None, 14, 14, 384)  1536       ['block_10_depthwise[0][0]']     \n",
            " rmalization)                                                                                     \n",
            "                                                                                                  \n",
            " block_10_depthwise_relu (ReLU)  (None, 14, 14, 384)  0          ['block_10_depthwise_BN[0][0]']  \n",
            "                                                                                                  \n",
            " block_10_project (Conv2D)      (None, 14, 14, 96)   36864       ['block_10_depthwise_relu[0][0]']\n",
            "                                                                                                  \n",
            " block_10_project_BN (BatchNorm  (None, 14, 14, 96)  384         ['block_10_project[0][0]']       \n",
            " alization)                                                                                       \n",
            "                                                                                                  \n",
            " block_11_expand (Conv2D)       (None, 14, 14, 576)  55296       ['block_10_project_BN[0][0]']    \n",
            "                                                                                                  \n",
            " block_11_expand_BN (BatchNorma  (None, 14, 14, 576)  2304       ['block_11_expand[0][0]']        \n",
            " lization)                                                                                        \n",
            "                                                                                                  \n",
            " block_11_expand_relu (ReLU)    (None, 14, 14, 576)  0           ['block_11_expand_BN[0][0]']     \n",
            "                                                                                                  \n",
            " block_11_depthwise (DepthwiseC  (None, 14, 14, 576)  5184       ['block_11_expand_relu[0][0]']   \n",
            " onv2D)                                                                                           \n",
            "                                                                                                  \n",
            " block_11_depthwise_BN (BatchNo  (None, 14, 14, 576)  2304       ['block_11_depthwise[0][0]']     \n",
            " rmalization)                                                                                     \n",
            "                                                                                                  \n",
            " block_11_depthwise_relu (ReLU)  (None, 14, 14, 576)  0          ['block_11_depthwise_BN[0][0]']  \n",
            "                                                                                                  \n",
            " block_11_project (Conv2D)      (None, 14, 14, 96)   55296       ['block_11_depthwise_relu[0][0]']\n",
            "                                                                                                  \n",
            " block_11_project_BN (BatchNorm  (None, 14, 14, 96)  384         ['block_11_project[0][0]']       \n",
            " alization)                                                                                       \n",
            "                                                                                                  \n",
            " block_11_add (Add)             (None, 14, 14, 96)   0           ['block_10_project_BN[0][0]',    \n",
            "                                                                  'block_11_project_BN[0][0]']    \n",
            "                                                                                                  \n",
            " block_12_expand (Conv2D)       (None, 14, 14, 576)  55296       ['block_11_add[0][0]']           \n",
            "                                                                                                  \n",
            " block_12_expand_BN (BatchNorma  (None, 14, 14, 576)  2304       ['block_12_expand[0][0]']        \n",
            " lization)                                                                                        \n",
            "                                                                                                  \n",
            " block_12_expand_relu (ReLU)    (None, 14, 14, 576)  0           ['block_12_expand_BN[0][0]']     \n",
            "                                                                                                  \n",
            " block_12_depthwise (DepthwiseC  (None, 14, 14, 576)  5184       ['block_12_expand_relu[0][0]']   \n",
            " onv2D)                                                                                           \n",
            "                                                                                                  \n",
            " block_12_depthwise_BN (BatchNo  (None, 14, 14, 576)  2304       ['block_12_depthwise[0][0]']     \n",
            " rmalization)                                                                                     \n",
            "                                                                                                  \n",
            " block_12_depthwise_relu (ReLU)  (None, 14, 14, 576)  0          ['block_12_depthwise_BN[0][0]']  \n",
            "                                                                                                  \n",
            " block_12_project (Conv2D)      (None, 14, 14, 96)   55296       ['block_12_depthwise_relu[0][0]']\n",
            "                                                                                                  \n",
            " block_12_project_BN (BatchNorm  (None, 14, 14, 96)  384         ['block_12_project[0][0]']       \n",
            " alization)                                                                                       \n",
            "                                                                                                  \n",
            " block_12_add (Add)             (None, 14, 14, 96)   0           ['block_11_add[0][0]',           \n",
            "                                                                  'block_12_project_BN[0][0]']    \n",
            "                                                                                                  \n",
            " block_13_expand (Conv2D)       (None, 14, 14, 576)  55296       ['block_12_add[0][0]']           \n",
            "                                                                                                  \n",
            " block_13_expand_BN (BatchNorma  (None, 14, 14, 576)  2304       ['block_13_expand[0][0]']        \n",
            " lization)                                                                                        \n",
            "                                                                                                  \n",
            " block_13_expand_relu (ReLU)    (None, 14, 14, 576)  0           ['block_13_expand_BN[0][0]']     \n",
            "                                                                                                  \n",
            " block_13_pad (ZeroPadding2D)   (None, 15, 15, 576)  0           ['block_13_expand_relu[0][0]']   \n",
            "                                                                                                  \n",
            " block_13_depthwise (DepthwiseC  (None, 7, 7, 576)   5184        ['block_13_pad[0][0]']           \n",
            " onv2D)                                                                                           \n",
            "                                                                                                  \n",
            " block_13_depthwise_BN (BatchNo  (None, 7, 7, 576)   2304        ['block_13_depthwise[0][0]']     \n",
            " rmalization)                                                                                     \n",
            "                                                                                                  \n",
            " block_13_depthwise_relu (ReLU)  (None, 7, 7, 576)   0           ['block_13_depthwise_BN[0][0]']  \n",
            "                                                                                                  \n",
            " block_13_project (Conv2D)      (None, 7, 7, 160)    92160       ['block_13_depthwise_relu[0][0]']\n",
            "                                                                                                  \n",
            " block_13_project_BN (BatchNorm  (None, 7, 7, 160)   640         ['block_13_project[0][0]']       \n",
            " alization)                                                                                       \n",
            "                                                                                                  \n",
            " block_14_expand (Conv2D)       (None, 7, 7, 960)    153600      ['block_13_project_BN[0][0]']    \n",
            "                                                                                                  \n",
            " block_14_expand_BN (BatchNorma  (None, 7, 7, 960)   3840        ['block_14_expand[0][0]']        \n",
            " lization)                                                                                        \n",
            "                                                                                                  \n",
            " block_14_expand_relu (ReLU)    (None, 7, 7, 960)    0           ['block_14_expand_BN[0][0]']     \n",
            "                                                                                                  \n",
            " block_14_depthwise (DepthwiseC  (None, 7, 7, 960)   8640        ['block_14_expand_relu[0][0]']   \n",
            " onv2D)                                                                                           \n",
            "                                                                                                  \n",
            " block_14_depthwise_BN (BatchNo  (None, 7, 7, 960)   3840        ['block_14_depthwise[0][0]']     \n",
            " rmalization)                                                                                     \n",
            "                                                                                                  \n",
            " block_14_depthwise_relu (ReLU)  (None, 7, 7, 960)   0           ['block_14_depthwise_BN[0][0]']  \n",
            "                                                                                                  \n",
            " block_14_project (Conv2D)      (None, 7, 7, 160)    153600      ['block_14_depthwise_relu[0][0]']\n",
            "                                                                                                  \n",
            " block_14_project_BN (BatchNorm  (None, 7, 7, 160)   640         ['block_14_project[0][0]']       \n",
            " alization)                                                                                       \n",
            "                                                                                                  \n",
            " block_14_add (Add)             (None, 7, 7, 160)    0           ['block_13_project_BN[0][0]',    \n",
            "                                                                  'block_14_project_BN[0][0]']    \n",
            "                                                                                                  \n",
            " block_15_expand (Conv2D)       (None, 7, 7, 960)    153600      ['block_14_add[0][0]']           \n",
            "                                                                                                  \n",
            " block_15_expand_BN (BatchNorma  (None, 7, 7, 960)   3840        ['block_15_expand[0][0]']        \n",
            " lization)                                                                                        \n",
            "                                                                                                  \n",
            " block_15_expand_relu (ReLU)    (None, 7, 7, 960)    0           ['block_15_expand_BN[0][0]']     \n",
            "                                                                                                  \n",
            " block_15_depthwise (DepthwiseC  (None, 7, 7, 960)   8640        ['block_15_expand_relu[0][0]']   \n",
            " onv2D)                                                                                           \n",
            "                                                                                                  \n",
            " block_15_depthwise_BN (BatchNo  (None, 7, 7, 960)   3840        ['block_15_depthwise[0][0]']     \n",
            " rmalization)                                                                                     \n",
            "                                                                                                  \n",
            " block_15_depthwise_relu (ReLU)  (None, 7, 7, 960)   0           ['block_15_depthwise_BN[0][0]']  \n",
            "                                                                                                  \n",
            " block_15_project (Conv2D)      (None, 7, 7, 160)    153600      ['block_15_depthwise_relu[0][0]']\n",
            "                                                                                                  \n",
            " block_15_project_BN (BatchNorm  (None, 7, 7, 160)   640         ['block_15_project[0][0]']       \n",
            " alization)                                                                                       \n",
            "                                                                                                  \n",
            " block_15_add (Add)             (None, 7, 7, 160)    0           ['block_14_add[0][0]',           \n",
            "                                                                  'block_15_project_BN[0][0]']    \n",
            "                                                                                                  \n",
            " block_16_expand (Conv2D)       (None, 7, 7, 960)    153600      ['block_15_add[0][0]']           \n",
            "                                                                                                  \n",
            " block_16_expand_BN (BatchNorma  (None, 7, 7, 960)   3840        ['block_16_expand[0][0]']        \n",
            " lization)                                                                                        \n",
            "                                                                                                  \n",
            " block_16_expand_relu (ReLU)    (None, 7, 7, 960)    0           ['block_16_expand_BN[0][0]']     \n",
            "                                                                                                  \n",
            " block_16_depthwise (DepthwiseC  (None, 7, 7, 960)   8640        ['block_16_expand_relu[0][0]']   \n",
            " onv2D)                                                                                           \n",
            "                                                                                                  \n",
            " block_16_depthwise_BN (BatchNo  (None, 7, 7, 960)   3840        ['block_16_depthwise[0][0]']     \n",
            " rmalization)                                                                                     \n",
            "                                                                                                  \n",
            " block_16_depthwise_relu (ReLU)  (None, 7, 7, 960)   0           ['block_16_depthwise_BN[0][0]']  \n",
            "                                                                                                  \n",
            " block_16_project (Conv2D)      (None, 7, 7, 320)    307200      ['block_16_depthwise_relu[0][0]']\n",
            "                                                                                                  \n",
            " block_16_project_BN (BatchNorm  (None, 7, 7, 320)   1280        ['block_16_project[0][0]']       \n",
            " alization)                                                                                       \n",
            "                                                                                                  \n",
            " Conv_1 (Conv2D)                (None, 7, 7, 1280)   409600      ['block_16_project_BN[0][0]']    \n",
            "                                                                                                  \n",
            " Conv_1_bn (BatchNormalization)  (None, 7, 7, 1280)  5120        ['Conv_1[0][0]']                 \n",
            "                                                                                                  \n",
            " out_relu (ReLU)                (None, 7, 7, 1280)   0           ['Conv_1_bn[0][0]']              \n",
            "                                                                                                  \n",
            "==================================================================================================\n",
            "Total params: 2,257,984\n",
            "Trainable params: 2,223,872\n",
            "Non-trainable params: 34,112\n",
            "__________________________________________________________________________________________________\n"
          ]
        }
      ],
      "source": [
        "conv_base.summary()\n"
      ]
    },
    {
      "cell_type": "markdown",
      "metadata": {
        "id": "vVx8qd9U-6Jt"
      },
      "source": [
        "We will add a dense layer after our conv_base NN"
      ]
    },
    {
      "cell_type": "code",
      "execution_count": 36,
      "metadata": {
        "id": "NwbCTdFB-6Jt"
      },
      "outputs": [],
      "source": [
        "from keras import models\n",
        "from keras import layers\n",
        "from keras.regularizers import l2, l1\n",
        "from keras.layers import Dense, Flatten, Dropout, BatchNormalization, AveragePooling2D\n",
        "\n",
        "modelPreTMob = models.Sequential()\n",
        "modelPreTMob.add(conv_base)\n",
        "\n",
        "modelPreTMob.add(layers.AveragePooling2D())\n",
        "modelPreTMob.add(layers.Flatten())\n",
        "modelPreTMob.add(layers.Dense(256, activation='relu', kernel_regularizer=l2(0.01)))\n",
        "modelPreTMob.add(BatchNormalization())\n",
        "modelPreTMob.add(layers.Dropout(TrainingConfig.DROPOUT))\n",
        "modelPreTMob.add(layers.Dense(1, activation='sigmoid'))"
      ]
    },
    {
      "cell_type": "code",
      "execution_count": 37,
      "metadata": {
        "colab": {
          "base_uri": "https://localhost:8080/"
        },
        "id": "ULwwwLKQ-6Jt",
        "outputId": "bca81ce0-c589-438d-d7f7-ddc78c5df1fe"
      },
      "outputs": [
        {
          "name": "stdout",
          "output_type": "stream",
          "text": [
            "Model: \"sequential\"\n",
            "_________________________________________________________________\n",
            " Layer (type)                Output Shape              Param #   \n",
            "=================================================================\n",
            " mobilenetv2_1.00_224 (Funct  (None, 7, 7, 1280)       2257984   \n",
            " ional)                                                          \n",
            "                                                                 \n",
            " average_pooling2d (AverageP  (None, 3, 3, 1280)       0         \n",
            " ooling2D)                                                       \n",
            "                                                                 \n",
            " flatten (Flatten)           (None, 11520)             0         \n",
            "                                                                 \n",
            " dense (Dense)               (None, 256)               2949376   \n",
            "                                                                 \n",
            " batch_normalization (BatchN  (None, 256)              1024      \n",
            " ormalization)                                                   \n",
            "                                                                 \n",
            " dropout (Dropout)           (None, 256)               0         \n",
            "                                                                 \n",
            " dense_1 (Dense)             (None, 1)                 257       \n",
            "                                                                 \n",
            "=================================================================\n",
            "Total params: 5,208,641\n",
            "Trainable params: 5,174,017\n",
            "Non-trainable params: 34,624\n",
            "_________________________________________________________________\n"
          ]
        }
      ],
      "source": [
        "modelPreTMob.summary()"
      ]
    },
    {
      "cell_type": "code",
      "execution_count": 38,
      "metadata": {},
      "outputs": [
        {
          "name": "stdout",
          "output_type": "stream",
          "text": [
            "0 input_1 True\n",
            "1 Conv1 True\n",
            "2 bn_Conv1 True\n",
            "3 Conv1_relu True\n",
            "4 expanded_conv_depthwise True\n",
            "5 expanded_conv_depthwise_BN True\n",
            "6 expanded_conv_depthwise_relu True\n",
            "7 expanded_conv_project True\n",
            "8 expanded_conv_project_BN True\n",
            "9 block_1_expand True\n",
            "10 block_1_expand_BN True\n",
            "11 block_1_expand_relu True\n",
            "12 block_1_pad True\n",
            "13 block_1_depthwise True\n",
            "14 block_1_depthwise_BN True\n",
            "15 block_1_depthwise_relu True\n",
            "16 block_1_project True\n",
            "17 block_1_project_BN True\n",
            "18 block_2_expand True\n",
            "19 block_2_expand_BN True\n",
            "20 block_2_expand_relu True\n",
            "21 block_2_depthwise True\n",
            "22 block_2_depthwise_BN True\n",
            "23 block_2_depthwise_relu True\n",
            "24 block_2_project True\n",
            "25 block_2_project_BN True\n",
            "26 block_2_add True\n",
            "27 block_3_expand True\n",
            "28 block_3_expand_BN True\n",
            "29 block_3_expand_relu True\n",
            "30 block_3_pad True\n",
            "31 block_3_depthwise True\n",
            "32 block_3_depthwise_BN True\n",
            "33 block_3_depthwise_relu True\n",
            "34 block_3_project True\n",
            "35 block_3_project_BN True\n",
            "36 block_4_expand True\n",
            "37 block_4_expand_BN True\n",
            "38 block_4_expand_relu True\n",
            "39 block_4_depthwise True\n",
            "40 block_4_depthwise_BN True\n",
            "41 block_4_depthwise_relu True\n",
            "42 block_4_project True\n",
            "43 block_4_project_BN True\n",
            "44 block_4_add True\n",
            "45 block_5_expand True\n",
            "46 block_5_expand_BN True\n",
            "47 block_5_expand_relu True\n",
            "48 block_5_depthwise True\n",
            "49 block_5_depthwise_BN True\n",
            "50 block_5_depthwise_relu True\n",
            "51 block_5_project True\n",
            "52 block_5_project_BN True\n",
            "53 block_5_add True\n",
            "54 block_6_expand True\n",
            "55 block_6_expand_BN True\n",
            "56 block_6_expand_relu True\n",
            "57 block_6_pad True\n",
            "58 block_6_depthwise True\n",
            "59 block_6_depthwise_BN True\n",
            "60 block_6_depthwise_relu True\n",
            "61 block_6_project True\n",
            "62 block_6_project_BN True\n",
            "63 block_7_expand True\n",
            "64 block_7_expand_BN True\n",
            "65 block_7_expand_relu True\n",
            "66 block_7_depthwise True\n",
            "67 block_7_depthwise_BN True\n",
            "68 block_7_depthwise_relu True\n",
            "69 block_7_project True\n",
            "70 block_7_project_BN True\n",
            "71 block_7_add True\n",
            "72 block_8_expand True\n",
            "73 block_8_expand_BN True\n",
            "74 block_8_expand_relu True\n",
            "75 block_8_depthwise True\n",
            "76 block_8_depthwise_BN True\n",
            "77 block_8_depthwise_relu True\n",
            "78 block_8_project True\n",
            "79 block_8_project_BN True\n",
            "80 block_8_add True\n",
            "81 block_9_expand True\n",
            "82 block_9_expand_BN True\n",
            "83 block_9_expand_relu True\n",
            "84 block_9_depthwise True\n",
            "85 block_9_depthwise_BN True\n",
            "86 block_9_depthwise_relu True\n",
            "87 block_9_project True\n",
            "88 block_9_project_BN True\n",
            "89 block_9_add True\n",
            "90 block_10_expand True\n",
            "91 block_10_expand_BN True\n",
            "92 block_10_expand_relu True\n",
            "93 block_10_depthwise True\n",
            "94 block_10_depthwise_BN True\n",
            "95 block_10_depthwise_relu True\n",
            "96 block_10_project True\n",
            "97 block_10_project_BN True\n",
            "98 block_11_expand True\n",
            "99 block_11_expand_BN True\n",
            "100 block_11_expand_relu True\n",
            "101 block_11_depthwise True\n",
            "102 block_11_depthwise_BN True\n",
            "103 block_11_depthwise_relu True\n",
            "104 block_11_project True\n",
            "105 block_11_project_BN True\n",
            "106 block_11_add True\n",
            "107 block_12_expand True\n",
            "108 block_12_expand_BN True\n",
            "109 block_12_expand_relu True\n",
            "110 block_12_depthwise True\n",
            "111 block_12_depthwise_BN True\n",
            "112 block_12_depthwise_relu True\n",
            "113 block_12_project True\n",
            "114 block_12_project_BN True\n",
            "115 block_12_add True\n",
            "116 block_13_expand True\n",
            "117 block_13_expand_BN True\n",
            "118 block_13_expand_relu True\n",
            "119 block_13_pad True\n",
            "120 block_13_depthwise True\n",
            "121 block_13_depthwise_BN True\n",
            "122 block_13_depthwise_relu True\n",
            "123 block_13_project True\n",
            "124 block_13_project_BN True\n",
            "125 block_14_expand True\n",
            "126 block_14_expand_BN True\n",
            "127 block_14_expand_relu True\n",
            "128 block_14_depthwise True\n",
            "129 block_14_depthwise_BN True\n",
            "130 block_14_depthwise_relu True\n",
            "131 block_14_project True\n",
            "132 block_14_project_BN True\n",
            "133 block_14_add True\n",
            "134 block_15_expand True\n",
            "135 block_15_expand_BN True\n",
            "136 block_15_expand_relu True\n",
            "137 block_15_depthwise True\n",
            "138 block_15_depthwise_BN True\n",
            "139 block_15_depthwise_relu True\n",
            "140 block_15_project True\n",
            "141 block_15_project_BN True\n",
            "142 block_15_add True\n",
            "143 block_16_expand True\n",
            "144 block_16_expand_BN True\n",
            "145 block_16_expand_relu True\n",
            "146 block_16_depthwise True\n",
            "147 block_16_depthwise_BN True\n",
            "148 block_16_depthwise_relu True\n",
            "149 block_16_project True\n",
            "150 block_16_project_BN True\n",
            "151 Conv_1 True\n",
            "152 Conv_1_bn True\n",
            "153 out_relu True\n"
          ]
        }
      ],
      "source": [
        "for i, layer in enumerate(conv_base.layers):\n",
        "   print(i, layer.name, layer.trainable)"
      ]
    },
    {
      "cell_type": "code",
      "execution_count": 39,
      "metadata": {},
      "outputs": [],
      "source": [
        "# Specify the number of layers to fine tune at the end of the convolutional base.\n",
        "num_layers_fine_tune = TrainingConfig.LAYERS_FINE_TUNE\n",
        "num_layers = len(conv_base.layers)"
      ]
    },
    {
      "cell_type": "code",
      "execution_count": 40,
      "metadata": {
        "colab": {
          "base_uri": "https://localhost:8080/"
        },
        "id": "kkg5O_dq-6Jt",
        "outputId": "0b8e8703-9f13-4415-d6a7-fc5af46bc1eb"
      },
      "outputs": [
        {
          "name": "stdout",
          "output_type": "stream",
          "text": [
            "This is the number of trainable weights before freezing the conv base: 162\n"
          ]
        }
      ],
      "source": [
        "print('This is the number of trainable weights '\n",
        "      'before freezing the conv base:', len(modelPreTMob.trainable_weights))"
      ]
    },
    {
      "cell_type": "code",
      "execution_count": 41,
      "metadata": {},
      "outputs": [
        {
          "name": "stdout",
          "output_type": "stream",
          "text": [
            "FREEZING LAYER: <keras.engine.input_layer.InputLayer object at 0x00000217CD0FA2E0>\n",
            "FREEZING LAYER: <keras.layers.convolutional.conv2d.Conv2D object at 0x00000217A275D8B0>\n",
            "FREEZING LAYER: <keras.layers.normalization.batch_normalization.BatchNormalization object at 0x00000217A2772550>\n",
            "FREEZING LAYER: <keras.layers.activation.relu.ReLU object at 0x00000217A2772460>\n",
            "FREEZING LAYER: <keras.layers.convolutional.depthwise_conv2d.DepthwiseConv2D object at 0x00000217A277A700>\n",
            "FREEZING LAYER: <keras.layers.normalization.batch_normalization.BatchNormalization object at 0x00000217A27846A0>\n",
            "FREEZING LAYER: <keras.layers.activation.relu.ReLU object at 0x00000217A277F220>\n",
            "FREEZING LAYER: <keras.layers.convolutional.conv2d.Conv2D object at 0x00000217A2784580>\n",
            "FREEZING LAYER: <keras.layers.normalization.batch_normalization.BatchNormalization object at 0x00000217A87D0F70>\n",
            "FREEZING LAYER: <keras.layers.convolutional.conv2d.Conv2D object at 0x00000217A277A760>\n",
            "FREEZING LAYER: <keras.layers.normalization.batch_normalization.BatchNormalization object at 0x00000217A87E19D0>\n",
            "FREEZING LAYER: <keras.layers.activation.relu.ReLU object at 0x00000217A87E1460>\n",
            "FREEZING LAYER: <keras.layers.reshaping.zero_padding2d.ZeroPadding2D object at 0x00000217A87EC340>\n",
            "FREEZING LAYER: <keras.layers.convolutional.depthwise_conv2d.DepthwiseConv2D object at 0x00000217A87E8C70>\n",
            "FREEZING LAYER: <keras.layers.normalization.batch_normalization.BatchNormalization object at 0x00000217C6C01670>\n",
            "FREEZING LAYER: <keras.layers.activation.relu.ReLU object at 0x00000217C6C078E0>\n",
            "FREEZING LAYER: <keras.layers.convolutional.conv2d.Conv2D object at 0x00000217C6C07EB0>\n",
            "FREEZING LAYER: <keras.layers.normalization.batch_normalization.BatchNormalization object at 0x00000217A87E8B50>\n",
            "FREEZING LAYER: <keras.layers.convolutional.conv2d.Conv2D object at 0x00000217C6C1C6A0>\n",
            "FREEZING LAYER: <keras.layers.normalization.batch_normalization.BatchNormalization object at 0x00000217C6C0E3D0>\n",
            "FREEZING LAYER: <keras.layers.activation.relu.ReLU object at 0x00000217C6C0EB50>\n",
            "FREEZING LAYER: <keras.layers.convolutional.depthwise_conv2d.DepthwiseConv2D object at 0x00000217C6C2B250>\n",
            "FREEZING LAYER: <keras.layers.normalization.batch_normalization.BatchNormalization object at 0x00000217C6C2BD30>\n",
            "FREEZING LAYER: <keras.layers.activation.relu.ReLU object at 0x00000217C6C2BD60>\n",
            "FREEZING LAYER: <keras.layers.convolutional.conv2d.Conv2D object at 0x00000217C6C328B0>\n",
            "FREEZING LAYER: <keras.layers.normalization.batch_normalization.BatchNormalization object at 0x00000217C6C35340>\n",
            "FREEZING LAYER: <keras.layers.merging.add.Add object at 0x00000217C6C32340>\n",
            "FREEZING LAYER: <keras.layers.convolutional.conv2d.Conv2D object at 0x00000217C6C2B700>\n",
            "FREEZING LAYER: <keras.layers.normalization.batch_normalization.BatchNormalization object at 0x00000217C6C2CAC0>\n",
            "FREEZING LAYER: <keras.layers.activation.relu.ReLU object at 0x00000217C6C2B760>\n",
            "FREEZING LAYER: <keras.layers.reshaping.zero_padding2d.ZeroPadding2D object at 0x00000217C6C32280>\n",
            "FREEZING LAYER: <keras.layers.convolutional.depthwise_conv2d.DepthwiseConv2D object at 0x00000217C6C42310>\n",
            "FREEZING LAYER: <keras.layers.normalization.batch_normalization.BatchNormalization object at 0x00000217C6C42A00>\n",
            "FREEZING LAYER: <keras.layers.activation.relu.ReLU object at 0x00000217C6C3E2E0>\n",
            "FREEZING LAYER: <keras.layers.convolutional.conv2d.Conv2D object at 0x00000217C6C32130>\n",
            "FREEZING LAYER: <keras.layers.normalization.batch_normalization.BatchNormalization object at 0x00000217A87ECE50>\n",
            "FREEZING LAYER: <keras.layers.convolutional.conv2d.Conv2D object at 0x00000217A87EC0A0>\n",
            "FREEZING LAYER: <keras.layers.normalization.batch_normalization.BatchNormalization object at 0x00000217C6C48E50>\n",
            "FREEZING LAYER: <keras.layers.activation.relu.ReLU object at 0x00000217C6C568B0>\n",
            "FREEZING LAYER: <keras.layers.convolutional.depthwise_conv2d.DepthwiseConv2D object at 0x00000217C6C56CA0>\n",
            "FREEZING LAYER: <keras.layers.normalization.batch_normalization.BatchNormalization object at 0x00000217A87CB6D0>\n",
            "FREEZING LAYER: <keras.layers.activation.relu.ReLU object at 0x00000217C6C4F760>\n",
            "FREEZING LAYER: <keras.layers.convolutional.conv2d.Conv2D object at 0x00000217C6C4FD30>\n",
            "FREEZING LAYER: <keras.layers.normalization.batch_normalization.BatchNormalization object at 0x00000217C6C59640>\n",
            "FREEZING LAYER: <keras.layers.merging.add.Add object at 0x00000217C6C5B880>\n",
            "FREEZING LAYER: <keras.layers.convolutional.conv2d.Conv2D object at 0x00000217C6C5BDC0>\n",
            "FREEZING LAYER: <keras.layers.normalization.batch_normalization.BatchNormalization object at 0x00000217C6C4F250>\n",
            "FREEZING LAYER: <keras.layers.activation.relu.ReLU object at 0x00000217C6C6E8E0>\n",
            "FREEZING LAYER: <keras.layers.convolutional.depthwise_conv2d.DepthwiseConv2D object at 0x00000217C6C6E040>\n",
            "FREEZING LAYER: <keras.layers.normalization.batch_normalization.BatchNormalization object at 0x00000217C6C607F0>\n",
            "FREEZING LAYER: <keras.layers.activation.relu.ReLU object at 0x00000217C6C7B190>\n",
            "FREEZING LAYER: <keras.layers.convolutional.conv2d.Conv2D object at 0x00000217C6C7BB20>\n",
            "FREEZING LAYER: <keras.layers.normalization.batch_normalization.BatchNormalization object at 0x00000217C6C60E50>\n",
            "FREEZING LAYER: <keras.layers.merging.add.Add object at 0x00000217C6C85520>\n",
            "FREEZING LAYER: <keras.layers.convolutional.conv2d.Conv2D object at 0x00000217C6C85820>\n",
            "FREEZING LAYER: <keras.layers.normalization.batch_normalization.BatchNormalization object at 0x00000217C6C8D490>\n",
            "FREEZING LAYER: <keras.layers.activation.relu.ReLU object at 0x00000217C6C94550>\n",
            "FREEZING LAYER: <keras.layers.reshaping.zero_padding2d.ZeroPadding2D object at 0x00000217C6C8D4C0>\n",
            "FREEZING LAYER: <keras.layers.convolutional.depthwise_conv2d.DepthwiseConv2D object at 0x00000217C6C85F40>\n",
            "FREEZING LAYER: <keras.layers.normalization.batch_normalization.BatchNormalization object at 0x00000217C6CA2370>\n",
            "FREEZING LAYER: <keras.layers.activation.relu.ReLU object at 0x00000217C6CA23A0>\n",
            "FREEZING LAYER: <keras.layers.convolutional.conv2d.Conv2D object at 0x00000217C6C9D610>\n",
            "FREEZING LAYER: <keras.layers.normalization.batch_normalization.BatchNormalization object at 0x00000217C6CA7C70>\n",
            "FREEZING LAYER: <keras.layers.convolutional.conv2d.Conv2D object at 0x00000217C6CB30A0>\n",
            "FREEZING LAYER: <keras.layers.normalization.batch_normalization.BatchNormalization object at 0x00000217C6CB31F0>\n",
            "FREEZING LAYER: <keras.layers.activation.relu.ReLU object at 0x00000217C6CA7FD0>\n",
            "FREEZING LAYER: <keras.layers.convolutional.depthwise_conv2d.DepthwiseConv2D object at 0x00000217C6CC2820>\n",
            "FREEZING LAYER: <keras.layers.normalization.batch_normalization.BatchNormalization object at 0x00000217C6CB8970>\n",
            "FREEZING LAYER: <keras.layers.activation.relu.ReLU object at 0x00000217C6CC2130>\n",
            "FREEZING LAYER: <keras.layers.convolutional.conv2d.Conv2D object at 0x00000217C6CC7FA0>\n",
            "FREEZING LAYER: <keras.layers.normalization.batch_normalization.BatchNormalization object at 0x00000217C6CCF040>\n",
            "FREEZING LAYER: <keras.layers.merging.add.Add object at 0x00000217C6CC7550>\n",
            "FREEZING LAYER: <keras.layers.convolutional.conv2d.Conv2D object at 0x00000217C6CB8B50>\n",
            "FREEZING LAYER: <keras.layers.normalization.batch_normalization.BatchNormalization object at 0x00000217C6C8D670>\n",
            "FREEZING LAYER: <keras.layers.activation.relu.ReLU object at 0x00000217C6C8D640>\n",
            "FREEZING LAYER: <keras.layers.convolutional.depthwise_conv2d.DepthwiseConv2D object at 0x00000217C6C85190>\n",
            "FREEZING LAYER: <keras.layers.normalization.batch_normalization.BatchNormalization object at 0x00000217C6C5BEE0>\n",
            "FREEZING LAYER: <keras.layers.activation.relu.ReLU object at 0x00000217C6C5BF10>\n",
            "FREEZING LAYER: <keras.layers.convolutional.conv2d.Conv2D object at 0x00000217C6CA78E0>\n",
            "FREEZING LAYER: <keras.layers.normalization.batch_normalization.BatchNormalization object at 0x00000217C6C72D30>\n",
            "FREEZING LAYER: <keras.layers.merging.add.Add object at 0x00000217C6C85130>\n",
            "FREEZING LAYER: <keras.layers.convolutional.conv2d.Conv2D object at 0x00000217C6C68790>\n",
            "FREEZING LAYER: <keras.layers.normalization.batch_normalization.BatchNormalization object at 0x00000217A87E8F10>\n",
            "FREEZING LAYER: <keras.layers.activation.relu.ReLU object at 0x00000217C6C6ECA0>\n",
            "FREEZING LAYER: <keras.layers.convolutional.depthwise_conv2d.DepthwiseConv2D object at 0x00000217C6C8BAF0>\n",
            "FREEZING LAYER: <keras.layers.normalization.batch_normalization.BatchNormalization object at 0x00000217C6CDF8E0>\n",
            "FREEZING LAYER: <keras.layers.activation.relu.ReLU object at 0x00000217C6C60D30>\n",
            "FREEZING LAYER: <keras.layers.convolutional.conv2d.Conv2D object at 0x00000217C6CDDA00>\n",
            "FREEZING LAYER: <keras.layers.normalization.batch_normalization.BatchNormalization object at 0x00000217C6CE5C10>\n",
            "FREEZING LAYER: <keras.layers.merging.add.Add object at 0x00000217C6C8B700>\n",
            "FREEZING LAYER: <keras.layers.convolutional.conv2d.Conv2D object at 0x00000217C6CDDDF0>\n",
            "FREEZING LAYER: <keras.layers.normalization.batch_normalization.BatchNormalization object at 0x00000217C6CEF850>\n",
            "FREEZING LAYER: <keras.layers.activation.relu.ReLU object at 0x00000217C6CDDE20>\n",
            "FREEZING LAYER: <keras.layers.convolutional.depthwise_conv2d.DepthwiseConv2D object at 0x00000217C6CE2A60>\n",
            "FREEZING LAYER: <keras.layers.normalization.batch_normalization.BatchNormalization object at 0x00000217C6CFA7F0>\n",
            "FREEZING LAYER: <keras.layers.activation.relu.ReLU object at 0x00000217C6CDF430>\n",
            "FREEZING LAYER: <keras.layers.convolutional.conv2d.Conv2D object at 0x00000217C6CF56D0>\n",
            "FREEZING LAYER: <keras.layers.normalization.batch_normalization.BatchNormalization object at 0x0000021800806BE0>\n",
            "FREEZING LAYER: <keras.layers.convolutional.conv2d.Conv2D object at 0x00000217C6CFADC0>\n",
            "FREEZING LAYER: <keras.layers.normalization.batch_normalization.BatchNormalization object at 0x000002180080E7C0>\n",
            "FREEZING LAYER: <keras.layers.activation.relu.ReLU object at 0x0000021800806280>\n",
            "FREEZING LAYER: <keras.layers.convolutional.depthwise_conv2d.DepthwiseConv2D object at 0x000002180080EBE0>\n",
            "FREEZING LAYER: <keras.layers.normalization.batch_normalization.BatchNormalization object at 0x0000021800819D60>\n",
            "FREEZING LAYER: <keras.layers.activation.relu.ReLU object at 0x000002180081CEB0>\n",
            "FREEZING LAYER: <keras.layers.convolutional.conv2d.Conv2D object at 0x0000021800819790>\n",
            "FREEZING LAYER: <keras.layers.normalization.batch_normalization.BatchNormalization object at 0x0000021800829B20>\n",
            "FREEZING LAYER: <keras.layers.merging.add.Add object at 0x00000218008300D0>\n",
            "FREEZING LAYER: <keras.layers.convolutional.conv2d.Conv2D object at 0x0000021800830490>\n",
            "FREEZING LAYER: <keras.layers.normalization.batch_normalization.BatchNormalization object at 0x000002180081CE80>\n",
            "FREEZING LAYER: <keras.layers.activation.relu.ReLU object at 0x00000217C6CFA850>\n",
            "FREEZING LAYER: <keras.layers.convolutional.depthwise_conv2d.DepthwiseConv2D object at 0x00000217C6CE5BB0>\n",
            "FREEZING LAYER: <keras.layers.normalization.batch_normalization.BatchNormalization object at 0x00000217A87E8F40>\n",
            "FREEZING LAYER: <keras.layers.activation.relu.ReLU object at 0x000002180081CE50>\n",
            "FREEZING LAYER: <keras.layers.convolutional.conv2d.Conv2D object at 0x00000217C6CB81F0>\n",
            "FREEZING LAYER: <keras.layers.normalization.batch_normalization.BatchNormalization object at 0x000002180083C340>\n",
            "FREEZING LAYER: <keras.layers.merging.add.Add object at 0x00000217C6CEFA60>\n",
            "FREEZING LAYER: <keras.layers.convolutional.conv2d.Conv2D object at 0x00000217A87D0850>\n",
            "FREEZING LAYER: <keras.layers.normalization.batch_normalization.BatchNormalization object at 0x00000218008403D0>\n",
            "FREEZING LAYER: <keras.layers.activation.relu.ReLU object at 0x00000218008487F0>\n",
            "FREEZING LAYER: <keras.layers.reshaping.zero_padding2d.ZeroPadding2D object at 0x00000217C6CDCA60>\n",
            "FREEZING LAYER: <keras.layers.convolutional.depthwise_conv2d.DepthwiseConv2D object at 0x0000021800843040>\n",
            "FREEZING LAYER: <keras.layers.normalization.batch_normalization.BatchNormalization object at 0x000002180084C8E0>\n",
            "FREEZING LAYER: <keras.layers.activation.relu.ReLU object at 0x0000021800854970>\n",
            "FREEZING LAYER: <keras.layers.convolutional.conv2d.Conv2D object at 0x0000021800854F40>\n",
            "FREEZING LAYER: <keras.layers.normalization.batch_normalization.BatchNormalization object at 0x000002180085A220>\n",
            "FREEZING LAYER: <keras.layers.convolutional.conv2d.Conv2D object at 0x0000021800854C70>\n",
            "FREEZING LAYER: <keras.layers.normalization.batch_normalization.BatchNormalization object at 0x000002180085FCD0>\n",
            "FREEZING LAYER: <keras.layers.activation.relu.ReLU object at 0x000002180085F610>\n",
            "FREEZING LAYER: <keras.layers.convolutional.depthwise_conv2d.DepthwiseConv2D object at 0x000002180086C4F0>\n",
            "FREEZING LAYER: <keras.layers.normalization.batch_normalization.BatchNormalization object at 0x0000021800867280>\n",
            "FREEZING LAYER: <keras.layers.activation.relu.ReLU object at 0x0000021800867400>\n",
            "FREEZING LAYER: <keras.layers.convolutional.conv2d.Conv2D object at 0x000002180087B550>\n",
            "FREEZING LAYER: <keras.layers.normalization.batch_normalization.BatchNormalization object at 0x0000021800872F10>\n",
            "FREEZING LAYER: <keras.layers.merging.add.Add object at 0x000002180087B610>\n",
            "FREEZING LAYER: <keras.layers.convolutional.conv2d.Conv2D object at 0x000002180087AAC0>\n",
            "FREEZING LAYER: <keras.layers.normalization.batch_normalization.BatchNormalization object at 0x000002180087A1F0>\n",
            "FREEZING LAYER: <keras.layers.activation.relu.ReLU object at 0x000002180087A850>\n",
            "FREEZING LAYER: <keras.layers.convolutional.depthwise_conv2d.DepthwiseConv2D object at 0x000002180088A220>\n",
            "FREEZING LAYER: <keras.layers.normalization.batch_normalization.BatchNormalization object at 0x000002180088E490>\n",
            "FREEZING LAYER: <keras.layers.activation.relu.ReLU object at 0x000002180088E6A0>\n",
            "FREEZING LAYER: <keras.layers.convolutional.conv2d.Conv2D object at 0x0000021800896280>\n",
            "FREEZING LAYER: <keras.layers.normalization.batch_normalization.BatchNormalization object at 0x00000218008A3970>\n",
            "FREEZING LAYER: <keras.layers.merging.add.Add object at 0x00000218008A36A0>\n",
            "FREEZING LAYER: <keras.layers.convolutional.conv2d.Conv2D object at 0x0000021800896220>\n"
          ]
        }
      ],
      "source": [
        "# Freeze the initial layers in the convolutional base.\n",
        "for model_layer in conv_base.layers[:num_layers - num_layers_fine_tune]:\n",
        "    print(f\"FREEZING LAYER: {model_layer}\")\n",
        "    model_layer.trainable = False"
      ]
    },
    {
      "cell_type": "code",
      "execution_count": 42,
      "metadata": {},
      "outputs": [
        {
          "name": "stdout",
          "output_type": "stream",
          "text": [
            "0 input_1 False\n",
            "1 Conv1 False\n",
            "2 bn_Conv1 False\n",
            "3 Conv1_relu False\n",
            "4 expanded_conv_depthwise False\n",
            "5 expanded_conv_depthwise_BN False\n",
            "6 expanded_conv_depthwise_relu False\n",
            "7 expanded_conv_project False\n",
            "8 expanded_conv_project_BN False\n",
            "9 block_1_expand False\n",
            "10 block_1_expand_BN False\n",
            "11 block_1_expand_relu False\n",
            "12 block_1_pad False\n",
            "13 block_1_depthwise False\n",
            "14 block_1_depthwise_BN False\n",
            "15 block_1_depthwise_relu False\n",
            "16 block_1_project False\n",
            "17 block_1_project_BN False\n",
            "18 block_2_expand False\n",
            "19 block_2_expand_BN False\n",
            "20 block_2_expand_relu False\n",
            "21 block_2_depthwise False\n",
            "22 block_2_depthwise_BN False\n",
            "23 block_2_depthwise_relu False\n",
            "24 block_2_project False\n",
            "25 block_2_project_BN False\n",
            "26 block_2_add False\n",
            "27 block_3_expand False\n",
            "28 block_3_expand_BN False\n",
            "29 block_3_expand_relu False\n",
            "30 block_3_pad False\n",
            "31 block_3_depthwise False\n",
            "32 block_3_depthwise_BN False\n",
            "33 block_3_depthwise_relu False\n",
            "34 block_3_project False\n",
            "35 block_3_project_BN False\n",
            "36 block_4_expand False\n",
            "37 block_4_expand_BN False\n",
            "38 block_4_expand_relu False\n",
            "39 block_4_depthwise False\n",
            "40 block_4_depthwise_BN False\n",
            "41 block_4_depthwise_relu False\n",
            "42 block_4_project False\n",
            "43 block_4_project_BN False\n",
            "44 block_4_add False\n",
            "45 block_5_expand False\n",
            "46 block_5_expand_BN False\n",
            "47 block_5_expand_relu False\n",
            "48 block_5_depthwise False\n",
            "49 block_5_depthwise_BN False\n",
            "50 block_5_depthwise_relu False\n",
            "51 block_5_project False\n",
            "52 block_5_project_BN False\n",
            "53 block_5_add False\n",
            "54 block_6_expand False\n",
            "55 block_6_expand_BN False\n",
            "56 block_6_expand_relu False\n",
            "57 block_6_pad False\n",
            "58 block_6_depthwise False\n",
            "59 block_6_depthwise_BN False\n",
            "60 block_6_depthwise_relu False\n",
            "61 block_6_project False\n",
            "62 block_6_project_BN False\n",
            "63 block_7_expand False\n",
            "64 block_7_expand_BN False\n",
            "65 block_7_expand_relu False\n",
            "66 block_7_depthwise False\n",
            "67 block_7_depthwise_BN False\n",
            "68 block_7_depthwise_relu False\n",
            "69 block_7_project False\n",
            "70 block_7_project_BN False\n",
            "71 block_7_add False\n",
            "72 block_8_expand False\n",
            "73 block_8_expand_BN False\n",
            "74 block_8_expand_relu False\n",
            "75 block_8_depthwise False\n",
            "76 block_8_depthwise_BN False\n",
            "77 block_8_depthwise_relu False\n",
            "78 block_8_project False\n",
            "79 block_8_project_BN False\n",
            "80 block_8_add False\n",
            "81 block_9_expand False\n",
            "82 block_9_expand_BN False\n",
            "83 block_9_expand_relu False\n",
            "84 block_9_depthwise False\n",
            "85 block_9_depthwise_BN False\n",
            "86 block_9_depthwise_relu False\n",
            "87 block_9_project False\n",
            "88 block_9_project_BN False\n",
            "89 block_9_add False\n",
            "90 block_10_expand False\n",
            "91 block_10_expand_BN False\n",
            "92 block_10_expand_relu False\n",
            "93 block_10_depthwise False\n",
            "94 block_10_depthwise_BN False\n",
            "95 block_10_depthwise_relu False\n",
            "96 block_10_project False\n",
            "97 block_10_project_BN False\n",
            "98 block_11_expand False\n",
            "99 block_11_expand_BN False\n",
            "100 block_11_expand_relu False\n",
            "101 block_11_depthwise False\n",
            "102 block_11_depthwise_BN False\n",
            "103 block_11_depthwise_relu False\n",
            "104 block_11_project False\n",
            "105 block_11_project_BN False\n",
            "106 block_11_add False\n",
            "107 block_12_expand False\n",
            "108 block_12_expand_BN False\n",
            "109 block_12_expand_relu False\n",
            "110 block_12_depthwise False\n",
            "111 block_12_depthwise_BN False\n",
            "112 block_12_depthwise_relu False\n",
            "113 block_12_project False\n",
            "114 block_12_project_BN False\n",
            "115 block_12_add False\n",
            "116 block_13_expand False\n",
            "117 block_13_expand_BN False\n",
            "118 block_13_expand_relu False\n",
            "119 block_13_pad False\n",
            "120 block_13_depthwise False\n",
            "121 block_13_depthwise_BN False\n",
            "122 block_13_depthwise_relu False\n",
            "123 block_13_project False\n",
            "124 block_13_project_BN False\n",
            "125 block_14_expand False\n",
            "126 block_14_expand_BN False\n",
            "127 block_14_expand_relu False\n",
            "128 block_14_depthwise False\n",
            "129 block_14_depthwise_BN False\n",
            "130 block_14_depthwise_relu False\n",
            "131 block_14_project False\n",
            "132 block_14_project_BN False\n",
            "133 block_14_add False\n",
            "134 block_15_expand False\n",
            "135 block_15_expand_BN False\n",
            "136 block_15_expand_relu False\n",
            "137 block_15_depthwise False\n",
            "138 block_15_depthwise_BN False\n",
            "139 block_15_depthwise_relu False\n",
            "140 block_15_project False\n",
            "141 block_15_project_BN False\n",
            "142 block_15_add False\n",
            "143 block_16_expand False\n",
            "144 block_16_expand_BN True\n",
            "145 block_16_expand_relu True\n",
            "146 block_16_depthwise True\n",
            "147 block_16_depthwise_BN True\n",
            "148 block_16_depthwise_relu True\n",
            "149 block_16_project True\n",
            "150 block_16_project_BN True\n",
            "151 Conv_1 True\n",
            "152 Conv_1_bn True\n",
            "153 out_relu True\n"
          ]
        }
      ],
      "source": [
        "for i, layer in enumerate(conv_base.layers):\n",
        "   print(i, layer.name, layer.trainable)"
      ]
    },
    {
      "cell_type": "code",
      "execution_count": 43,
      "metadata": {
        "id": "KcDo2VlW-6Jt"
      },
      "outputs": [],
      "source": [
        "#conv_base.trainable = False"
      ]
    },
    {
      "cell_type": "code",
      "execution_count": 44,
      "metadata": {
        "colab": {
          "base_uri": "https://localhost:8080/"
        },
        "id": "6prLuQV--6Jt",
        "outputId": "21272876-2976-4870-ca8a-f63126fc18c8"
      },
      "outputs": [
        {
          "name": "stdout",
          "output_type": "stream",
          "text": [
            "This is the number of trainable weights after freezing the conv base: 17\n"
          ]
        }
      ],
      "source": [
        "print('This is the number of trainable weights '\n",
        "      'after freezing the conv base:', len(modelPreTMob.trainable_weights))"
      ]
    },
    {
      "cell_type": "code",
      "execution_count": 45,
      "metadata": {},
      "outputs": [
        {
          "name": "stdout",
          "output_type": "stream",
          "text": [
            "Model: \"sequential\"\n",
            "_________________________________________________________________\n",
            " Layer (type)                Output Shape              Param #   \n",
            "=================================================================\n",
            " mobilenetv2_1.00_224 (Funct  (None, 7, 7, 1280)       2257984   \n",
            " ional)                                                          \n",
            "                                                                 \n",
            " average_pooling2d (AverageP  (None, 3, 3, 1280)       0         \n",
            " ooling2D)                                                       \n",
            "                                                                 \n",
            " flatten (Flatten)           (None, 11520)             0         \n",
            "                                                                 \n",
            " dense (Dense)               (None, 256)               2949376   \n",
            "                                                                 \n",
            " batch_normalization (BatchN  (None, 256)              1024      \n",
            " ormalization)                                                   \n",
            "                                                                 \n",
            " dropout (Dropout)           (None, 256)               0         \n",
            "                                                                 \n",
            " dense_1 (Dense)             (None, 1)                 257       \n",
            "                                                                 \n",
            "=================================================================\n",
            "Total params: 5,208,641\n",
            "Trainable params: 3,682,625\n",
            "Non-trainable params: 1,526,016\n",
            "_________________________________________________________________\n"
          ]
        }
      ],
      "source": [
        "modelPreTMob.summary()"
      ]
    },
    {
      "cell_type": "code",
      "execution_count": 46,
      "metadata": {},
      "outputs": [],
      "source": [
        "from keras import optimizers\n",
        "adagrad = optimizers.Adagrad(learning_rate=TrainingConfig.LEARNING_RATE, initial_accumulator_value=0.1, epsilon=TrainingConfig.EPSILON, decay =TrainingConfig.WEIGHT_DECAY)"
      ]
    },
    {
      "cell_type": "code",
      "execution_count": 47,
      "metadata": {
        "id": "P4qDSomz-6Jt"
      },
      "outputs": [],
      "source": [
        "modelPreTMob.compile(optimizer= adagrad, loss=tf.losses.BinaryCrossentropy(), metrics=['accuracy'])# Adagrad, adam"
      ]
    },
    {
      "cell_type": "code",
      "execution_count": 48,
      "metadata": {},
      "outputs": [],
      "source": [
        "# add checkpoint to store the model on the best epoch for Val acc.\n",
        "checkpoint_filepath = r'C:\\Users\\YannisPC\\PycharmProjects\\Thesis\\Thesis\\checkpoints\\modelMobileNetV2FT10-{epoch:02d}-{val_accuracy:.4f}.keras'\n",
        "model_checkpoint_callback = keras.callbacks.ModelCheckpoint(\n",
        "    filepath=checkpoint_filepath,\n",
        "    monitor='val_accuracy',\n",
        "    mode='max',\n",
        "    save_best_only=True,\n",
        "    verbose=1)"
      ]
    },
    {
      "cell_type": "code",
      "execution_count": 49,
      "metadata": {},
      "outputs": [
        {
          "name": "stdout",
          "output_type": "stream",
          "text": [
            "100\n"
          ]
        }
      ],
      "source": [
        "print(TrainingConfig.EPOCHS)"
      ]
    },
    {
      "cell_type": "code",
      "execution_count": 50,
      "metadata": {},
      "outputs": [],
      "source": [
        "import time\n",
        "start_time = time.time()"
      ]
    },
    {
      "cell_type": "code",
      "execution_count": 51,
      "metadata": {},
      "outputs": [
        {
          "name": "stdout",
          "output_type": "stream",
          "text": [
            "Epoch 1/100\n",
            "329/329 [==============================] - ETA: 0s - loss: 5.4319 - accuracy: 0.7951\n",
            "Epoch 1: val_accuracy improved from -inf to 0.79711, saving model to C:\\Users\\YannisPC\\PycharmProjects\\Thesis\\Thesis\\checkpoints\\modelMobileNetV2FT10-01-0.7971.keras\n",
            "329/329 [==============================] - 232s 686ms/step - loss: 5.4319 - accuracy: 0.7951 - val_loss: 5.3300 - val_accuracy: 0.7971\n",
            "Epoch 2/100\n",
            "329/329 [==============================] - ETA: 0s - loss: 5.1852 - accuracy: 0.8330\n",
            "Epoch 2: val_accuracy improved from 0.79711 to 0.83868, saving model to C:\\Users\\YannisPC\\PycharmProjects\\Thesis\\Thesis\\checkpoints\\modelMobileNetV2FT10-02-0.8387.keras\n",
            "329/329 [==============================] - 193s 586ms/step - loss: 5.1852 - accuracy: 0.8330 - val_loss: 5.0841 - val_accuracy: 0.8387\n",
            "Epoch 3/100\n",
            "329/329 [==============================] - ETA: 0s - loss: 5.0320 - accuracy: 0.8384\n",
            "Epoch 3: val_accuracy improved from 0.83868 to 0.84408, saving model to C:\\Users\\YannisPC\\PycharmProjects\\Thesis\\Thesis\\checkpoints\\modelMobileNetV2FT10-03-0.8441.keras\n",
            "329/329 [==============================] - 196s 595ms/step - loss: 5.0320 - accuracy: 0.8384 - val_loss: 4.9353 - val_accuracy: 0.8441\n",
            "Epoch 4/100\n",
            "329/329 [==============================] - ETA: 0s - loss: 4.9019 - accuracy: 0.8415\n",
            "Epoch 4: val_accuracy improved from 0.84408 to 0.85987, saving model to C:\\Users\\YannisPC\\PycharmProjects\\Thesis\\Thesis\\checkpoints\\modelMobileNetV2FT10-04-0.8599.keras\n",
            "329/329 [==============================] - 196s 594ms/step - loss: 4.9019 - accuracy: 0.8415 - val_loss: 4.7982 - val_accuracy: 0.8599\n",
            "Epoch 5/100\n",
            "329/329 [==============================] - ETA: 0s - loss: 4.7878 - accuracy: 0.8482\n",
            "Epoch 5: val_accuracy improved from 0.85987 to 0.86197, saving model to C:\\Users\\YannisPC\\PycharmProjects\\Thesis\\Thesis\\checkpoints\\modelMobileNetV2FT10-05-0.8620.keras\n",
            "329/329 [==============================] - 197s 598ms/step - loss: 4.7878 - accuracy: 0.8482 - val_loss: 4.6953 - val_accuracy: 0.8620\n",
            "Epoch 6/100\n",
            "329/329 [==============================] - ETA: 0s - loss: 4.6930 - accuracy: 0.8505\n",
            "Epoch 6: val_accuracy improved from 0.86197 to 0.86921, saving model to C:\\Users\\YannisPC\\PycharmProjects\\Thesis\\Thesis\\checkpoints\\modelMobileNetV2FT10-06-0.8692.keras\n",
            "329/329 [==============================] - 193s 585ms/step - loss: 4.6930 - accuracy: 0.8505 - val_loss: 4.5914 - val_accuracy: 0.8692\n",
            "Epoch 7/100\n",
            "329/329 [==============================] - ETA: 0s - loss: 4.6031 - accuracy: 0.8537\n",
            "Epoch 7: val_accuracy did not improve from 0.86921\n",
            "329/329 [==============================] - 197s 600ms/step - loss: 4.6031 - accuracy: 0.8537 - val_loss: 4.5217 - val_accuracy: 0.8686\n",
            "Epoch 8/100\n",
            "329/329 [==============================] - ETA: 0s - loss: 4.5255 - accuracy: 0.8562\n",
            "Epoch 8: val_accuracy improved from 0.86921 to 0.87276, saving model to C:\\Users\\YannisPC\\PycharmProjects\\Thesis\\Thesis\\checkpoints\\modelMobileNetV2FT10-08-0.8728.keras\n",
            "329/329 [==============================] - 195s 593ms/step - loss: 4.5255 - accuracy: 0.8562 - val_loss: 4.4470 - val_accuracy: 0.8728\n",
            "Epoch 9/100\n",
            "329/329 [==============================] - ETA: 0s - loss: 4.4611 - accuracy: 0.8571\n",
            "Epoch 9: val_accuracy improved from 0.87276 to 0.87789, saving model to C:\\Users\\YannisPC\\PycharmProjects\\Thesis\\Thesis\\checkpoints\\modelMobileNetV2FT10-09-0.8779.keras\n",
            "329/329 [==============================] - 191s 581ms/step - loss: 4.4611 - accuracy: 0.8571 - val_loss: 4.3824 - val_accuracy: 0.8779\n",
            "Epoch 10/100\n",
            "329/329 [==============================] - ETA: 0s - loss: 4.4048 - accuracy: 0.8570\n",
            "Epoch 10: val_accuracy improved from 0.87789 to 0.87987, saving model to C:\\Users\\YannisPC\\PycharmProjects\\Thesis\\Thesis\\checkpoints\\modelMobileNetV2FT10-10-0.8799.keras\n",
            "329/329 [==============================] - 196s 596ms/step - loss: 4.4048 - accuracy: 0.8570 - val_loss: 4.3260 - val_accuracy: 0.8799\n",
            "Epoch 11/100\n",
            "329/329 [==============================] - ETA: 0s - loss: 4.3501 - accuracy: 0.8618\n",
            "Epoch 11: val_accuracy did not improve from 0.87987\n",
            "329/329 [==============================] - 200s 607ms/step - loss: 4.3501 - accuracy: 0.8618 - val_loss: 4.2735 - val_accuracy: 0.8771\n",
            "Epoch 12/100\n",
            "329/329 [==============================] - ETA: 0s - loss: 4.2973 - accuracy: 0.8595\n",
            "Epoch 12: val_accuracy did not improve from 0.87987\n",
            "329/329 [==============================] - 196s 596ms/step - loss: 4.2973 - accuracy: 0.8595 - val_loss: 4.2283 - val_accuracy: 0.8778\n",
            "Epoch 13/100\n",
            "329/329 [==============================] - ETA: 0s - loss: 4.2509 - accuracy: 0.8601\n",
            "Epoch 13: val_accuracy did not improve from 0.87987\n",
            "329/329 [==============================] - 193s 588ms/step - loss: 4.2509 - accuracy: 0.8601 - val_loss: 4.1828 - val_accuracy: 0.8797\n",
            "Epoch 14/100\n",
            "329/329 [==============================] - ETA: 0s - loss: 4.2114 - accuracy: 0.8618\n",
            "Epoch 14: val_accuracy did not improve from 0.87987\n",
            "329/329 [==============================] - 198s 603ms/step - loss: 4.2114 - accuracy: 0.8618 - val_loss: 4.1411 - val_accuracy: 0.8795\n",
            "Epoch 15/100\n",
            "329/329 [==============================] - ETA: 0s - loss: 4.1705 - accuracy: 0.8624\n",
            "Epoch 15: val_accuracy improved from 0.87987 to 0.88000, saving model to C:\\Users\\YannisPC\\PycharmProjects\\Thesis\\Thesis\\checkpoints\\modelMobileNetV2FT10-15-0.8800.keras\n",
            "329/329 [==============================] - 202s 614ms/step - loss: 4.1705 - accuracy: 0.8624 - val_loss: 4.1037 - val_accuracy: 0.8800\n",
            "Epoch 16/100\n",
            "329/329 [==============================] - ETA: 0s - loss: 4.1281 - accuracy: 0.8636\n",
            "Epoch 16: val_accuracy did not improve from 0.88000\n",
            "329/329 [==============================] - 200s 609ms/step - loss: 4.1281 - accuracy: 0.8636 - val_loss: 4.0707 - val_accuracy: 0.8799\n",
            "Epoch 17/100\n",
            "329/329 [==============================] - ETA: 0s - loss: 4.0896 - accuracy: 0.8676\n",
            "Epoch 17: val_accuracy improved from 0.88000 to 0.88053, saving model to C:\\Users\\YannisPC\\PycharmProjects\\Thesis\\Thesis\\checkpoints\\modelMobileNetV2FT10-17-0.8805.keras\n",
            "329/329 [==============================] - 197s 600ms/step - loss: 4.0896 - accuracy: 0.8676 - val_loss: 4.0359 - val_accuracy: 0.8805\n",
            "Epoch 18/100\n",
            "329/329 [==============================] - ETA: 0s - loss: 4.0719 - accuracy: 0.8630\n",
            "Epoch 18: val_accuracy did not improve from 0.88053\n",
            "329/329 [==============================] - 199s 604ms/step - loss: 4.0719 - accuracy: 0.8630 - val_loss: 4.0045 - val_accuracy: 0.8795\n",
            "Epoch 19/100\n",
            "329/329 [==============================] - ETA: 0s - loss: 4.0302 - accuracy: 0.8677\n",
            "Epoch 19: val_accuracy improved from 0.88053 to 0.88237, saving model to C:\\Users\\YannisPC\\PycharmProjects\\Thesis\\Thesis\\checkpoints\\modelMobileNetV2FT10-19-0.8824.keras\n",
            "329/329 [==============================] - 201s 612ms/step - loss: 4.0302 - accuracy: 0.8677 - val_loss: 3.9747 - val_accuracy: 0.8824\n",
            "Epoch 20/100\n",
            "329/329 [==============================] - ETA: 0s - loss: 3.9933 - accuracy: 0.8698\n",
            "Epoch 20: val_accuracy did not improve from 0.88237\n",
            "329/329 [==============================] - 196s 596ms/step - loss: 3.9933 - accuracy: 0.8698 - val_loss: 3.9475 - val_accuracy: 0.8818\n",
            "Epoch 21/100\n",
            "329/329 [==============================] - ETA: 0s - loss: 3.9795 - accuracy: 0.8652\n",
            "Epoch 21: val_accuracy did not improve from 0.88237\n",
            "329/329 [==============================] - 196s 596ms/step - loss: 3.9795 - accuracy: 0.8652 - val_loss: 3.9214 - val_accuracy: 0.8821\n",
            "Epoch 22/100\n",
            "329/329 [==============================] - ETA: 0s - loss: 3.9500 - accuracy: 0.8662\n",
            "Epoch 22: val_accuracy did not improve from 0.88237\n",
            "329/329 [==============================] - 194s 590ms/step - loss: 3.9500 - accuracy: 0.8662 - val_loss: 3.8974 - val_accuracy: 0.8824\n",
            "Epoch 23/100\n",
            "329/329 [==============================] - ETA: 0s - loss: 3.9347 - accuracy: 0.8652\n",
            "Epoch 23: val_accuracy improved from 0.88237 to 0.88263, saving model to C:\\Users\\YannisPC\\PycharmProjects\\Thesis\\Thesis\\checkpoints\\modelMobileNetV2FT10-23-0.8826.keras\n",
            "329/329 [==============================] - 196s 596ms/step - loss: 3.9347 - accuracy: 0.8652 - val_loss: 3.8733 - val_accuracy: 0.8826\n",
            "Epoch 24/100\n",
            "329/329 [==============================] - ETA: 0s - loss: 3.9073 - accuracy: 0.8663\n",
            "Epoch 24: val_accuracy improved from 0.88263 to 0.88276, saving model to C:\\Users\\YannisPC\\PycharmProjects\\Thesis\\Thesis\\checkpoints\\modelMobileNetV2FT10-24-0.8828.keras\n",
            "329/329 [==============================] - 189s 573ms/step - loss: 3.9073 - accuracy: 0.8663 - val_loss: 3.8505 - val_accuracy: 0.8828\n",
            "Epoch 25/100\n",
            "329/329 [==============================] - ETA: 0s - loss: 3.8786 - accuracy: 0.8679\n",
            "Epoch 25: val_accuracy improved from 0.88276 to 0.88316, saving model to C:\\Users\\YannisPC\\PycharmProjects\\Thesis\\Thesis\\checkpoints\\modelMobileNetV2FT10-25-0.8832.keras\n",
            "329/329 [==============================] - 194s 590ms/step - loss: 3.8786 - accuracy: 0.8679 - val_loss: 3.8304 - val_accuracy: 0.8832\n",
            "Epoch 26/100\n",
            "329/329 [==============================] - ETA: 0s - loss: 3.8556 - accuracy: 0.8702\n",
            "Epoch 26: val_accuracy did not improve from 0.88316\n",
            "329/329 [==============================] - 194s 588ms/step - loss: 3.8556 - accuracy: 0.8702 - val_loss: 3.8087 - val_accuracy: 0.8829\n",
            "Epoch 27/100\n",
            "329/329 [==============================] - ETA: 0s - loss: 3.8377 - accuracy: 0.8702\n",
            "Epoch 27: val_accuracy did not improve from 0.88316\n",
            "329/329 [==============================] - 267s 812ms/step - loss: 3.8377 - accuracy: 0.8702 - val_loss: 3.7895 - val_accuracy: 0.8822\n",
            "Epoch 28/100\n",
            "329/329 [==============================] - ETA: 0s - loss: 3.8239 - accuracy: 0.8663\n",
            "Epoch 28: val_accuracy improved from 0.88316 to 0.88500, saving model to C:\\Users\\YannisPC\\PycharmProjects\\Thesis\\Thesis\\checkpoints\\modelMobileNetV2FT10-28-0.8850.keras\n",
            "329/329 [==============================] - 200s 606ms/step - loss: 3.8239 - accuracy: 0.8663 - val_loss: 3.7703 - val_accuracy: 0.8850\n",
            "Epoch 29/100\n",
            "329/329 [==============================] - ETA: 0s - loss: 3.7978 - accuracy: 0.8688\n",
            "Epoch 29: val_accuracy did not improve from 0.88500\n",
            "329/329 [==============================] - 193s 587ms/step - loss: 3.7978 - accuracy: 0.8688 - val_loss: 3.7520 - val_accuracy: 0.8847\n",
            "Epoch 30/100\n",
            "329/329 [==============================] - ETA: 0s - loss: 3.7853 - accuracy: 0.8681\n",
            "Epoch 30: val_accuracy did not improve from 0.88500\n",
            "329/329 [==============================] - 193s 586ms/step - loss: 3.7853 - accuracy: 0.8681 - val_loss: 3.7350 - val_accuracy: 0.8843\n",
            "Epoch 31/100\n",
            "329/329 [==============================] - ETA: 0s - loss: 3.7597 - accuracy: 0.8716\n",
            "Epoch 31: val_accuracy did not improve from 0.88500\n",
            "329/329 [==============================] - 200s 607ms/step - loss: 3.7597 - accuracy: 0.8716 - val_loss: 3.7189 - val_accuracy: 0.8849\n",
            "Epoch 32/100\n",
            "329/329 [==============================] - ETA: 0s - loss: 3.7487 - accuracy: 0.8692\n",
            "Epoch 32: val_accuracy improved from 0.88500 to 0.88539, saving model to C:\\Users\\YannisPC\\PycharmProjects\\Thesis\\Thesis\\checkpoints\\modelMobileNetV2FT10-32-0.8854.keras\n",
            "329/329 [==============================] - 200s 607ms/step - loss: 3.7487 - accuracy: 0.8692 - val_loss: 3.7026 - val_accuracy: 0.8854\n",
            "Epoch 33/100\n",
            "329/329 [==============================] - ETA: 0s - loss: 3.7358 - accuracy: 0.8693\n",
            "Epoch 33: val_accuracy improved from 0.88539 to 0.88605, saving model to C:\\Users\\YannisPC\\PycharmProjects\\Thesis\\Thesis\\checkpoints\\modelMobileNetV2FT10-33-0.8861.keras\n",
            "329/329 [==============================] - 200s 607ms/step - loss: 3.7358 - accuracy: 0.8693 - val_loss: 3.6870 - val_accuracy: 0.8861\n",
            "Epoch 34/100\n",
            "329/329 [==============================] - ETA: 0s - loss: 3.7183 - accuracy: 0.8708\n",
            "Epoch 34: val_accuracy improved from 0.88605 to 0.88697, saving model to C:\\Users\\YannisPC\\PycharmProjects\\Thesis\\Thesis\\checkpoints\\modelMobileNetV2FT10-34-0.8870.keras\n",
            "329/329 [==============================] - 244s 741ms/step - loss: 3.7183 - accuracy: 0.8708 - val_loss: 3.6721 - val_accuracy: 0.8870\n",
            "Epoch 35/100\n",
            "329/329 [==============================] - ETA: 0s - loss: 3.6980 - accuracy: 0.8717\n",
            "Epoch 35: val_accuracy did not improve from 0.88697\n",
            "329/329 [==============================] - 252s 765ms/step - loss: 3.6980 - accuracy: 0.8717 - val_loss: 3.6571 - val_accuracy: 0.8864\n",
            "Epoch 36/100\n",
            "329/329 [==============================] - ETA: 0s - loss: 3.6893 - accuracy: 0.8705\n",
            "Epoch 36: val_accuracy did not improve from 0.88697\n",
            "329/329 [==============================] - 277s 841ms/step - loss: 3.6893 - accuracy: 0.8705 - val_loss: 3.6440 - val_accuracy: 0.8861\n",
            "Epoch 37/100\n",
            "329/329 [==============================] - ETA: 0s - loss: 3.6745 - accuracy: 0.8704\n",
            "Epoch 37: val_accuracy did not improve from 0.88697\n",
            "329/329 [==============================] - 266s 807ms/step - loss: 3.6745 - accuracy: 0.8704 - val_loss: 3.6305 - val_accuracy: 0.8862\n",
            "Epoch 38/100\n",
            "329/329 [==============================] - ETA: 0s - loss: 3.6623 - accuracy: 0.8688\n",
            "Epoch 38: val_accuracy did not improve from 0.88697\n",
            "329/329 [==============================] - 248s 752ms/step - loss: 3.6623 - accuracy: 0.8688 - val_loss: 3.6168 - val_accuracy: 0.8868\n",
            "Epoch 39/100\n",
            "329/329 [==============================] - ETA: 0s - loss: 3.6389 - accuracy: 0.8723\n",
            "Epoch 39: val_accuracy improved from 0.88697 to 0.88711, saving model to C:\\Users\\YannisPC\\PycharmProjects\\Thesis\\Thesis\\checkpoints\\modelMobileNetV2FT10-39-0.8871.keras\n",
            "329/329 [==============================] - 248s 752ms/step - loss: 3.6389 - accuracy: 0.8723 - val_loss: 3.6043 - val_accuracy: 0.8871\n",
            "Epoch 40/100\n",
            "329/329 [==============================] - ETA: 0s - loss: 3.6312 - accuracy: 0.8741\n",
            "Epoch 40: val_accuracy improved from 0.88711 to 0.88763, saving model to C:\\Users\\YannisPC\\PycharmProjects\\Thesis\\Thesis\\checkpoints\\modelMobileNetV2FT10-40-0.8876.keras\n",
            "329/329 [==============================] - 239s 727ms/step - loss: 3.6312 - accuracy: 0.8741 - val_loss: 3.5919 - val_accuracy: 0.8876\n",
            "Epoch 41/100\n",
            "329/329 [==============================] - ETA: 0s - loss: 3.6180 - accuracy: 0.8742\n",
            "Epoch 41: val_accuracy did not improve from 0.88763\n",
            "329/329 [==============================] - 239s 724ms/step - loss: 3.6180 - accuracy: 0.8742 - val_loss: 3.5803 - val_accuracy: 0.8870\n",
            "Epoch 42/100\n",
            "329/329 [==============================] - ETA: 0s - loss: 3.6089 - accuracy: 0.8714\n",
            "Epoch 42: val_accuracy did not improve from 0.88763\n",
            "329/329 [==============================] - 244s 741ms/step - loss: 3.6089 - accuracy: 0.8714 - val_loss: 3.5692 - val_accuracy: 0.8870\n",
            "Epoch 43/100\n",
            "329/329 [==============================] - ETA: 0s - loss: 3.6021 - accuracy: 0.8706\n",
            "Epoch 43: val_accuracy did not improve from 0.88763\n",
            "329/329 [==============================] - 241s 730ms/step - loss: 3.6021 - accuracy: 0.8706 - val_loss: 3.5583 - val_accuracy: 0.8861\n",
            "Epoch 44/100\n",
            "329/329 [==============================] - ETA: 0s - loss: 3.5890 - accuracy: 0.8698\n",
            "Epoch 44: val_accuracy did not improve from 0.88763\n",
            "329/329 [==============================] - 241s 731ms/step - loss: 3.5890 - accuracy: 0.8698 - val_loss: 3.5470 - val_accuracy: 0.8868\n",
            "Epoch 45/100\n",
            "329/329 [==============================] - ETA: 0s - loss: 3.5738 - accuracy: 0.8729\n",
            "Epoch 45: val_accuracy did not improve from 0.88763\n",
            "329/329 [==============================] - 241s 730ms/step - loss: 3.5738 - accuracy: 0.8729 - val_loss: 3.5364 - val_accuracy: 0.8872\n",
            "Epoch 46/100\n",
            "329/329 [==============================] - ETA: 0s - loss: 3.5642 - accuracy: 0.8701\n",
            "Epoch 46: val_accuracy did not improve from 0.88763\n",
            "329/329 [==============================] - 241s 730ms/step - loss: 3.5642 - accuracy: 0.8701 - val_loss: 3.5264 - val_accuracy: 0.8868\n",
            "Epoch 47/100\n",
            "329/329 [==============================] - ETA: 0s - loss: 3.5509 - accuracy: 0.8751\n",
            "Epoch 47: val_accuracy did not improve from 0.88763\n",
            "329/329 [==============================] - 242s 735ms/step - loss: 3.5509 - accuracy: 0.8751 - val_loss: 3.5162 - val_accuracy: 0.8872\n",
            "Epoch 48/100\n",
            "329/329 [==============================] - ETA: 0s - loss: 3.5434 - accuracy: 0.8745\n",
            "Epoch 48: val_accuracy did not improve from 0.88763\n",
            "329/329 [==============================] - 243s 737ms/step - loss: 3.5434 - accuracy: 0.8745 - val_loss: 3.5071 - val_accuracy: 0.8871\n",
            "Epoch 49/100\n",
            "329/329 [==============================] - ETA: 0s - loss: 3.5325 - accuracy: 0.8739\n",
            "Epoch 49: val_accuracy did not improve from 0.88763\n",
            "329/329 [==============================] - 243s 737ms/step - loss: 3.5325 - accuracy: 0.8739 - val_loss: 3.4970 - val_accuracy: 0.8871\n",
            "Epoch 50/100\n",
            "329/329 [==============================] - ETA: 0s - loss: 3.5295 - accuracy: 0.8708\n",
            "Epoch 50: val_accuracy did not improve from 0.88763\n",
            "329/329 [==============================] - 243s 737ms/step - loss: 3.5295 - accuracy: 0.8708 - val_loss: 3.4874 - val_accuracy: 0.8875\n",
            "Epoch 51/100\n",
            "329/329 [==============================] - ETA: 0s - loss: 3.5201 - accuracy: 0.8719\n",
            "Epoch 51: val_accuracy improved from 0.88763 to 0.88803, saving model to C:\\Users\\YannisPC\\PycharmProjects\\Thesis\\Thesis\\checkpoints\\modelMobileNetV2FT10-51-0.8880.keras\n",
            "329/329 [==============================] - 243s 738ms/step - loss: 3.5201 - accuracy: 0.8719 - val_loss: 3.4785 - val_accuracy: 0.8880\n",
            "Epoch 52/100\n",
            "329/329 [==============================] - ETA: 0s - loss: 3.5111 - accuracy: 0.8737\n",
            "Epoch 52: val_accuracy did not improve from 0.88803\n",
            "329/329 [==============================] - 243s 737ms/step - loss: 3.5111 - accuracy: 0.8737 - val_loss: 3.4690 - val_accuracy: 0.8878\n",
            "Epoch 53/100\n",
            "329/329 [==============================] - ETA: 0s - loss: 3.5009 - accuracy: 0.8711\n",
            "Epoch 53: val_accuracy did not improve from 0.88803\n",
            "329/329 [==============================] - 243s 737ms/step - loss: 3.5009 - accuracy: 0.8711 - val_loss: 3.4608 - val_accuracy: 0.8879\n",
            "Epoch 54/100\n",
            "329/329 [==============================] - ETA: 0s - loss: 3.4951 - accuracy: 0.8725\n",
            "Epoch 54: val_accuracy improved from 0.88803 to 0.88842, saving model to C:\\Users\\YannisPC\\PycharmProjects\\Thesis\\Thesis\\checkpoints\\modelMobileNetV2FT10-54-0.8884.keras\n",
            "329/329 [==============================] - 243s 738ms/step - loss: 3.4951 - accuracy: 0.8725 - val_loss: 3.4516 - val_accuracy: 0.8884\n",
            "Epoch 55/100\n",
            "329/329 [==============================] - ETA: 0s - loss: 3.4795 - accuracy: 0.8753\n",
            "Epoch 55: val_accuracy did not improve from 0.88842\n",
            "329/329 [==============================] - 243s 737ms/step - loss: 3.4795 - accuracy: 0.8753 - val_loss: 3.4440 - val_accuracy: 0.8874\n",
            "Epoch 56/100\n",
            "329/329 [==============================] - ETA: 0s - loss: 3.4738 - accuracy: 0.8730\n",
            "Epoch 56: val_accuracy did not improve from 0.88842\n",
            "329/329 [==============================] - 243s 737ms/step - loss: 3.4738 - accuracy: 0.8730 - val_loss: 3.4355 - val_accuracy: 0.8883\n",
            "Epoch 57/100\n",
            "329/329 [==============================] - ETA: 0s - loss: 3.4658 - accuracy: 0.8754\n",
            "Epoch 57: val_accuracy did not improve from 0.88842\n",
            "329/329 [==============================] - 243s 737ms/step - loss: 3.4658 - accuracy: 0.8754 - val_loss: 3.4285 - val_accuracy: 0.8875\n",
            "Epoch 58/100\n",
            "329/329 [==============================] - ETA: 0s - loss: 3.4556 - accuracy: 0.8740\n",
            "Epoch 58: val_accuracy did not improve from 0.88842\n",
            "329/329 [==============================] - 243s 737ms/step - loss: 3.4556 - accuracy: 0.8740 - val_loss: 3.4207 - val_accuracy: 0.8875\n",
            "Epoch 59/100\n",
            "329/329 [==============================] - ETA: 0s - loss: 3.4560 - accuracy: 0.8712\n",
            "Epoch 59: val_accuracy did not improve from 0.88842\n",
            "329/329 [==============================] - 243s 737ms/step - loss: 3.4560 - accuracy: 0.8712 - val_loss: 3.4130 - val_accuracy: 0.8883\n",
            "Epoch 60/100\n",
            "329/329 [==============================] - ETA: 0s - loss: 3.4430 - accuracy: 0.8750\n",
            "Epoch 60: val_accuracy did not improve from 0.88842\n",
            "329/329 [==============================] - 243s 737ms/step - loss: 3.4430 - accuracy: 0.8750 - val_loss: 3.4061 - val_accuracy: 0.8879\n",
            "Epoch 61/100\n",
            "329/329 [==============================] - ETA: 0s - loss: 3.4424 - accuracy: 0.8700\n",
            "Epoch 61: val_accuracy improved from 0.88842 to 0.88868, saving model to C:\\Users\\YannisPC\\PycharmProjects\\Thesis\\Thesis\\checkpoints\\modelMobileNetV2FT10-61-0.8887.keras\n",
            "329/329 [==============================] - 243s 737ms/step - loss: 3.4424 - accuracy: 0.8700 - val_loss: 3.3989 - val_accuracy: 0.8887\n",
            "Epoch 62/100\n",
            "329/329 [==============================] - ETA: 0s - loss: 3.4240 - accuracy: 0.8739\n",
            "Epoch 62: val_accuracy did not improve from 0.88868\n",
            "329/329 [==============================] - 243s 737ms/step - loss: 3.4240 - accuracy: 0.8739 - val_loss: 3.3920 - val_accuracy: 0.8886\n",
            "Epoch 63/100\n",
            "329/329 [==============================] - ETA: 0s - loss: 3.4208 - accuracy: 0.8721\n",
            "Epoch 63: val_accuracy improved from 0.88868 to 0.88882, saving model to C:\\Users\\YannisPC\\PycharmProjects\\Thesis\\Thesis\\checkpoints\\modelMobileNetV2FT10-63-0.8888.keras\n",
            "329/329 [==============================] - 243s 738ms/step - loss: 3.4208 - accuracy: 0.8721 - val_loss: 3.3852 - val_accuracy: 0.8888\n",
            "Epoch 64/100\n",
            "329/329 [==============================] - ETA: 0s - loss: 3.4174 - accuracy: 0.8733\n",
            "Epoch 64: val_accuracy improved from 0.88882 to 0.88908, saving model to C:\\Users\\YannisPC\\PycharmProjects\\Thesis\\Thesis\\checkpoints\\modelMobileNetV2FT10-64-0.8891.keras\n",
            "329/329 [==============================] - 243s 738ms/step - loss: 3.4174 - accuracy: 0.8733 - val_loss: 3.3784 - val_accuracy: 0.8891\n",
            "Epoch 65/100\n",
            "329/329 [==============================] - ETA: 0s - loss: 3.4111 - accuracy: 0.8728\n",
            "Epoch 65: val_accuracy did not improve from 0.88908\n",
            "329/329 [==============================] - 243s 737ms/step - loss: 3.4111 - accuracy: 0.8728 - val_loss: 3.3723 - val_accuracy: 0.8888\n",
            "Epoch 66/100\n",
            "329/329 [==============================] - ETA: 0s - loss: 3.4046 - accuracy: 0.8741\n",
            "Epoch 66: val_accuracy did not improve from 0.88908\n",
            "329/329 [==============================] - 243s 737ms/step - loss: 3.4046 - accuracy: 0.8741 - val_loss: 3.3655 - val_accuracy: 0.8889\n",
            "Epoch 67/100\n",
            "329/329 [==============================] - ETA: 0s - loss: 3.3990 - accuracy: 0.8730\n",
            "Epoch 67: val_accuracy did not improve from 0.88908\n",
            "329/329 [==============================] - 243s 737ms/step - loss: 3.3990 - accuracy: 0.8730 - val_loss: 3.3595 - val_accuracy: 0.8884\n",
            "Epoch 68/100\n",
            "329/329 [==============================] - ETA: 0s - loss: 3.3881 - accuracy: 0.8755\n",
            "Epoch 68: val_accuracy did not improve from 0.88908\n",
            "329/329 [==============================] - 243s 738ms/step - loss: 3.3881 - accuracy: 0.8755 - val_loss: 3.3533 - val_accuracy: 0.8886\n",
            "Epoch 69/100\n",
            "329/329 [==============================] - ETA: 0s - loss: 3.3827 - accuracy: 0.8761\n",
            "Epoch 69: val_accuracy did not improve from 0.88908\n",
            "329/329 [==============================] - 243s 736ms/step - loss: 3.3827 - accuracy: 0.8761 - val_loss: 3.3474 - val_accuracy: 0.8882\n",
            "Epoch 70/100\n",
            "329/329 [==============================] - ETA: 0s - loss: 3.3798 - accuracy: 0.8712\n",
            "Epoch 70: val_accuracy did not improve from 0.88908\n",
            "329/329 [==============================] - 243s 736ms/step - loss: 3.3798 - accuracy: 0.8712 - val_loss: 3.3415 - val_accuracy: 0.8886\n",
            "Epoch 71/100\n",
            "329/329 [==============================] - ETA: 0s - loss: 3.3671 - accuracy: 0.8772\n",
            "Epoch 71: val_accuracy did not improve from 0.88908\n",
            "329/329 [==============================] - 243s 737ms/step - loss: 3.3671 - accuracy: 0.8772 - val_loss: 3.3354 - val_accuracy: 0.8883\n",
            "Epoch 72/100\n",
            "329/329 [==============================] - ETA: 0s - loss: 3.3618 - accuracy: 0.8758\n",
            "Epoch 72: val_accuracy did not improve from 0.88908\n",
            "329/329 [==============================] - 243s 737ms/step - loss: 3.3618 - accuracy: 0.8758 - val_loss: 3.3293 - val_accuracy: 0.8889\n",
            "Epoch 73/100\n",
            "329/329 [==============================] - ETA: 0s - loss: 3.3528 - accuracy: 0.8793\n",
            "Epoch 73: val_accuracy did not improve from 0.88908\n",
            "329/329 [==============================] - 243s 736ms/step - loss: 3.3528 - accuracy: 0.8793 - val_loss: 3.3241 - val_accuracy: 0.8888\n",
            "Epoch 74/100\n",
            "329/329 [==============================] - ETA: 0s - loss: 3.3509 - accuracy: 0.8771\n",
            "Epoch 74: val_accuracy did not improve from 0.88908\n",
            "329/329 [==============================] - 243s 737ms/step - loss: 3.3509 - accuracy: 0.8771 - val_loss: 3.3184 - val_accuracy: 0.8891\n",
            "Epoch 75/100\n",
            "329/329 [==============================] - ETA: 0s - loss: 3.3494 - accuracy: 0.8751\n",
            "Epoch 75: val_accuracy did not improve from 0.88908\n",
            "329/329 [==============================] - 243s 737ms/step - loss: 3.3494 - accuracy: 0.8751 - val_loss: 3.3129 - val_accuracy: 0.8888\n",
            "Epoch 76/100\n",
            "329/329 [==============================] - ETA: 0s - loss: 3.3404 - accuracy: 0.8736\n",
            "Epoch 76: val_accuracy improved from 0.88908 to 0.88921, saving model to C:\\Users\\YannisPC\\PycharmProjects\\Thesis\\Thesis\\checkpoints\\modelMobileNetV2FT10-76-0.8892.keras\n",
            "329/329 [==============================] - 243s 737ms/step - loss: 3.3404 - accuracy: 0.8736 - val_loss: 3.3081 - val_accuracy: 0.8892\n",
            "Epoch 77/100\n",
            "329/329 [==============================] - ETA: 0s - loss: 3.3385 - accuracy: 0.8730\n",
            "Epoch 77: val_accuracy did not improve from 0.88921\n",
            "329/329 [==============================] - 243s 737ms/step - loss: 3.3385 - accuracy: 0.8730 - val_loss: 3.3025 - val_accuracy: 0.8888\n",
            "Epoch 78/100\n",
            "329/329 [==============================] - ETA: 0s - loss: 3.3251 - accuracy: 0.8753\n",
            "Epoch 78: val_accuracy did not improve from 0.88921\n",
            "329/329 [==============================] - 243s 737ms/step - loss: 3.3251 - accuracy: 0.8753 - val_loss: 3.2977 - val_accuracy: 0.8888\n",
            "Epoch 79/100\n",
            "329/329 [==============================] - ETA: 0s - loss: 3.3250 - accuracy: 0.8745\n",
            "Epoch 79: val_accuracy did not improve from 0.88921\n",
            "329/329 [==============================] - 243s 737ms/step - loss: 3.3250 - accuracy: 0.8745 - val_loss: 3.2927 - val_accuracy: 0.8891\n",
            "Epoch 80/100\n",
            "329/329 [==============================] - ETA: 0s - loss: 3.3175 - accuracy: 0.8753\n",
            "Epoch 80: val_accuracy did not improve from 0.88921\n",
            "329/329 [==============================] - 243s 737ms/step - loss: 3.3175 - accuracy: 0.8753 - val_loss: 3.2875 - val_accuracy: 0.8888\n",
            "Epoch 81/100\n",
            "329/329 [==============================] - ETA: 0s - loss: 3.3173 - accuracy: 0.8737\n",
            "Epoch 81: val_accuracy did not improve from 0.88921\n",
            "329/329 [==============================] - 243s 737ms/step - loss: 3.3173 - accuracy: 0.8737 - val_loss: 3.2828 - val_accuracy: 0.8888\n",
            "Epoch 82/100\n",
            "329/329 [==============================] - ETA: 0s - loss: 3.3111 - accuracy: 0.8759\n",
            "Epoch 82: val_accuracy did not improve from 0.88921\n",
            "329/329 [==============================] - 243s 737ms/step - loss: 3.3111 - accuracy: 0.8759 - val_loss: 3.2781 - val_accuracy: 0.8892\n",
            "Epoch 83/100\n",
            "329/329 [==============================] - ETA: 0s - loss: 3.3000 - accuracy: 0.8793\n",
            "Epoch 83: val_accuracy did not improve from 0.88921\n",
            "329/329 [==============================] - 243s 737ms/step - loss: 3.3000 - accuracy: 0.8793 - val_loss: 3.2734 - val_accuracy: 0.8889\n",
            "Epoch 84/100\n",
            "329/329 [==============================] - ETA: 0s - loss: 3.2998 - accuracy: 0.8766\n",
            "Epoch 84: val_accuracy did not improve from 0.88921\n",
            "329/329 [==============================] - 243s 737ms/step - loss: 3.2998 - accuracy: 0.8766 - val_loss: 3.2687 - val_accuracy: 0.8887\n",
            "Epoch 85/100\n",
            "329/329 [==============================] - ETA: 0s - loss: 3.3004 - accuracy: 0.8751\n",
            "Epoch 85: val_accuracy did not improve from 0.88921\n",
            "329/329 [==============================] - 258s 784ms/step - loss: 3.3004 - accuracy: 0.8751 - val_loss: 3.2643 - val_accuracy: 0.8889\n",
            "Epoch 86/100\n",
            "329/329 [==============================] - ETA: 0s - loss: 3.2938 - accuracy: 0.8751\n",
            "Epoch 86: val_accuracy did not improve from 0.88921\n",
            "329/329 [==============================] - 259s 786ms/step - loss: 3.2938 - accuracy: 0.8751 - val_loss: 3.2597 - val_accuracy: 0.8891\n",
            "Epoch 87/100\n",
            "329/329 [==============================] - ETA: 0s - loss: 3.2884 - accuracy: 0.8774\n",
            "Epoch 87: val_accuracy did not improve from 0.88921\n",
            "329/329 [==============================] - 256s 776ms/step - loss: 3.2884 - accuracy: 0.8774 - val_loss: 3.2555 - val_accuracy: 0.8888\n",
            "Epoch 88/100\n",
            "329/329 [==============================] - ETA: 0s - loss: 3.2770 - accuracy: 0.8793\n",
            "Epoch 88: val_accuracy did not improve from 0.88921\n",
            "329/329 [==============================] - 248s 753ms/step - loss: 3.2770 - accuracy: 0.8793 - val_loss: 3.2511 - val_accuracy: 0.8884\n",
            "Epoch 89/100\n",
            "329/329 [==============================] - ETA: 0s - loss: 3.2753 - accuracy: 0.8762\n",
            "Epoch 89: val_accuracy did not improve from 0.88921\n",
            "329/329 [==============================] - 248s 753ms/step - loss: 3.2753 - accuracy: 0.8762 - val_loss: 3.2467 - val_accuracy: 0.8891\n",
            "Epoch 90/100\n",
            "329/329 [==============================] - ETA: 0s - loss: 3.2745 - accuracy: 0.8751\n",
            "Epoch 90: val_accuracy did not improve from 0.88921\n",
            "329/329 [==============================] - 246s 745ms/step - loss: 3.2745 - accuracy: 0.8751 - val_loss: 3.2426 - val_accuracy: 0.8889\n",
            "Epoch 91/100\n",
            "329/329 [==============================] - ETA: 0s - loss: 3.2666 - accuracy: 0.8785\n",
            "Epoch 91: val_accuracy improved from 0.88921 to 0.88947, saving model to C:\\Users\\YannisPC\\PycharmProjects\\Thesis\\Thesis\\checkpoints\\modelMobileNetV2FT10-91-0.8895.keras\n",
            "329/329 [==============================] - 243s 736ms/step - loss: 3.2666 - accuracy: 0.8785 - val_loss: 3.2382 - val_accuracy: 0.8895\n",
            "Epoch 92/100\n",
            "329/329 [==============================] - ETA: 0s - loss: 3.2691 - accuracy: 0.8721\n",
            "Epoch 92: val_accuracy did not improve from 0.88947\n",
            "329/329 [==============================] - 254s 769ms/step - loss: 3.2691 - accuracy: 0.8721 - val_loss: 3.2340 - val_accuracy: 0.8893\n",
            "Epoch 93/100\n",
            "329/329 [==============================] - ETA: 0s - loss: 3.2617 - accuracy: 0.8785\n",
            "Epoch 93: val_accuracy did not improve from 0.88947\n",
            "329/329 [==============================] - 255s 774ms/step - loss: 3.2617 - accuracy: 0.8785 - val_loss: 3.2299 - val_accuracy: 0.8893\n",
            "Epoch 94/100\n",
            "329/329 [==============================] - ETA: 0s - loss: 3.2579 - accuracy: 0.8746\n",
            "Epoch 94: val_accuracy did not improve from 0.88947\n",
            "329/329 [==============================] - 258s 783ms/step - loss: 3.2579 - accuracy: 0.8746 - val_loss: 3.2263 - val_accuracy: 0.8886\n",
            "Epoch 95/100\n",
            "329/329 [==============================] - ETA: 0s - loss: 3.2552 - accuracy: 0.8748\n",
            "Epoch 95: val_accuracy did not improve from 0.88947\n",
            "329/329 [==============================] - 257s 781ms/step - loss: 3.2552 - accuracy: 0.8748 - val_loss: 3.2225 - val_accuracy: 0.8888\n",
            "Epoch 96/100\n",
            "329/329 [==============================] - ETA: 0s - loss: 3.2481 - accuracy: 0.8786\n",
            "Epoch 96: val_accuracy did not improve from 0.88947\n",
            "329/329 [==============================] - 241s 730ms/step - loss: 3.2481 - accuracy: 0.8786 - val_loss: 3.2186 - val_accuracy: 0.8889\n",
            "Epoch 97/100\n",
            "329/329 [==============================] - ETA: 0s - loss: 3.2469 - accuracy: 0.8762\n",
            "Epoch 97: val_accuracy did not improve from 0.88947\n",
            "329/329 [==============================] - 247s 749ms/step - loss: 3.2469 - accuracy: 0.8762 - val_loss: 3.2146 - val_accuracy: 0.8887\n",
            "Epoch 98/100\n",
            "329/329 [==============================] - ETA: 0s - loss: 3.2402 - accuracy: 0.8767\n",
            "Epoch 98: val_accuracy did not improve from 0.88947\n",
            "329/329 [==============================] - 250s 759ms/step - loss: 3.2402 - accuracy: 0.8767 - val_loss: 3.2108 - val_accuracy: 0.8892\n",
            "Epoch 99/100\n",
            "329/329 [==============================] - ETA: 0s - loss: 3.2341 - accuracy: 0.8751\n",
            "Epoch 99: val_accuracy did not improve from 0.88947\n",
            "329/329 [==============================] - 243s 738ms/step - loss: 3.2341 - accuracy: 0.8751 - val_loss: 3.2069 - val_accuracy: 0.8892\n",
            "Epoch 100/100\n",
            "329/329 [==============================] - ETA: 0s - loss: 3.2382 - accuracy: 0.8763\n",
            "Epoch 100: val_accuracy did not improve from 0.88947\n",
            "329/329 [==============================] - 253s 766ms/step - loss: 3.2382 - accuracy: 0.8763 - val_loss: 3.2034 - val_accuracy: 0.8886\n"
          ]
        }
      ],
      "source": [
        "histPreT = modelPreTMob.fit(train_generator, epochs = TrainingConfig.EPOCHS, validation_data=validation_generator, callbacks=[model_checkpoint_callback]) "
      ]
    },
    {
      "cell_type": "code",
      "execution_count": 52,
      "metadata": {},
      "outputs": [
        {
          "name": "stdout",
          "output_type": "stream",
          "text": [
            "--- 23049.361443281174 seconds ---\n"
          ]
        }
      ],
      "source": [
        "print(\"--- %s seconds ---\" % (time.time() - start_time))"
      ]
    },
    {
      "cell_type": "code",
      "execution_count": 53,
      "metadata": {},
      "outputs": [
        {
          "data": {
            "text/plain": [
              "'c:\\\\Users\\\\YannisPC\\\\PycharmProjects\\\\Thesis\\\\Thesis'"
            ]
          },
          "execution_count": 53,
          "metadata": {},
          "output_type": "execute_result"
        }
      ],
      "source": [
        "Current_dir = os.getcwd()\n",
        "Current_dir"
      ]
    },
    {
      "cell_type": "code",
      "execution_count": 54,
      "metadata": {},
      "outputs": [
        {
          "data": {
            "text/plain": [
              "'c:\\\\Users\\\\YannisPC\\\\PycharmProjects\\\\Thesis\\\\Thesis\\\\History'"
            ]
          },
          "execution_count": 54,
          "metadata": {},
          "output_type": "execute_result"
        }
      ],
      "source": [
        "os.path.join(Current_dir, 'History')"
      ]
    },
    {
      "cell_type": "code",
      "execution_count": 55,
      "metadata": {},
      "outputs": [],
      "source": [
        "import pickle\n",
        "with open(r'c:\\\\Users\\\\YannisPC\\\\PycharmProjects\\\\Thesis\\\\Thesis\\\\History\\\\HistoryDict_MobileNetV2_FT10', 'wb') as file_pi:\n",
        "    pickle.dump(histPreT.history, file_pi)"
      ]
    },
    {
      "cell_type": "code",
      "execution_count": 56,
      "metadata": {},
      "outputs": [
        {
          "name": "stdout",
          "output_type": "stream",
          "text": [
            "Best epoch: 91\n"
          ]
        }
      ],
      "source": [
        "val_acc_per_epoch = histPreT.history['val_accuracy']\n",
        "best_epoch = val_acc_per_epoch.index(max(val_acc_per_epoch)) + 1\n",
        "print('Best epoch: %d' % (best_epoch,))"
      ]
    },
    {
      "cell_type": "code",
      "execution_count": 57,
      "metadata": {},
      "outputs": [],
      "source": [
        "START_PLOT_FROM_EPOCH= 1"
      ]
    },
    {
      "cell_type": "code",
      "execution_count": 58,
      "metadata": {
        "colab": {
          "base_uri": "https://localhost:8080/",
          "height": 887
        },
        "id": "e3wZrd90-6Jt",
        "outputId": "0630124c-9747-4688-f755-aaf80997102f"
      },
      "outputs": [
        {
          "data": {
            "image/png": "[encoded data removed]",
            "text/plain": [
              "<Figure size 640x480 with 1 Axes>"
            ]
          },
          "metadata": {},
          "output_type": "display_data"
        },
        {
          "data": {
            "image/png": "[encoded data removed]",
            "text/plain": [
              "<Figure size 640x480 with 1 Axes>"
            ]
          },
          "metadata": {},
          "output_type": "display_data"
        }
      ],
      "source": [
        "acc = histPreT.history['accuracy'][START_PLOT_FROM_EPOCH:]\n",
        "val_acc = histPreT.history['val_accuracy'][START_PLOT_FROM_EPOCH:]\n",
        "loss = histPreT.history['loss'][START_PLOT_FROM_EPOCH:]\n",
        "val_loss = histPreT.history['val_loss'][START_PLOT_FROM_EPOCH:]\n",
        "\n",
        "epochs = range(len(acc))\n",
        "\n",
        "plt.plot(epochs, acc, color='teal', label='Training acc')\n",
        "plt.plot(epochs, val_acc, color='orange', label='Validation acc')\n",
        "plt.title('Training and validation accuracy')\n",
        "plt.legend()\n",
        "\n",
        "plt.figure()\n",
        "\n",
        "plt.plot(epochs, loss, color='teal', label='Training loss')\n",
        "plt.plot(epochs, val_loss, color='orange', label='Validation loss')\n",
        "plt.title('Training and validation loss')\n",
        "plt.legend()\n",
        "\n",
        "plt.show()"
      ]
    },
    {
      "cell_type": "code",
      "execution_count": 59,
      "metadata": {},
      "outputs": [
        {
          "name": "stdout",
          "output_type": "stream",
          "text": [
            "Best epoch: 91\n"
          ]
        }
      ],
      "source": [
        "val_acc_per_epoch = histPreT.history['val_accuracy']\n",
        "best_epoch = val_acc_per_epoch.index(max(val_acc_per_epoch)) + 1\n",
        "print('Best epoch: %d' % (best_epoch,))"
      ]
    },
    {
      "cell_type": "markdown",
      "metadata": {},
      "source": [
        "# Loading best epoch in our model using the checkpoints"
      ]
    },
    {
      "cell_type": "code",
      "execution_count": 80,
      "metadata": {},
      "outputs": [],
      "source": [
        "model_dir= r'C:\\Users\\YannisPC\\PycharmProjects\\Thesis\\Thesis\\checkpoints' # C:\\Users\\YannisPC\\PycharmProjects\\Thesis\\Thesis\\checkpoints"
      ]
    },
    {
      "cell_type": "code",
      "execution_count": 81,
      "metadata": {},
      "outputs": [
        {
          "name": "stdout",
          "output_type": "stream",
          "text": [
            "Best model file: model-91-0.8895.keras\n"
          ]
        }
      ],
      "source": [
        "best_val_accuracy = max(val_acc_per_epoch)\n",
        "best_model_file = f'model-{best_epoch:02d}-{best_val_accuracy:.4f}.keras'\n",
        "\n",
        "print(f'Best model file: {best_model_file}')"
      ]
    },
    {
      "cell_type": "code",
      "execution_count": 82,
      "metadata": {},
      "outputs": [
        {
          "data": {
            "text/plain": [
              "'C:\\\\Users\\\\YannisPC\\\\PycharmProjects\\\\Thesis\\\\Thesis\\\\checkpoints'"
            ]
          },
          "execution_count": 82,
          "metadata": {},
          "output_type": "execute_result"
        }
      ],
      "source": [
        "os.chdir(model_dir)\n",
        "Current_dir = os.getcwd()\n",
        "Current_dir"
      ]
    },
    {
      "cell_type": "code",
      "execution_count": 83,
      "metadata": {},
      "outputs": [
        {
          "data": {
            "text/plain": [
              "['checkpoints.lnk',\n",
              " 'modelMobileNetV2FT10-01-0.7971.keras',\n",
              " 'modelMobileNetV2FT10-02-0.8387.keras',\n",
              " 'modelMobileNetV2FT10-03-0.8441.keras',\n",
              " 'modelMobileNetV2FT10-04-0.8599.keras',\n",
              " 'modelMobileNetV2FT10-05-0.8620.keras',\n",
              " 'modelMobileNetV2FT10-06-0.8692.keras',\n",
              " 'modelMobileNetV2FT10-08-0.8728.keras',\n",
              " 'modelMobileNetV2FT10-09-0.8779.keras',\n",
              " 'modelMobileNetV2FT10-10-0.8799.keras',\n",
              " 'modelMobileNetV2FT10-15-0.8800.keras',\n",
              " 'modelMobileNetV2FT10-17-0.8805.keras',\n",
              " 'modelMobileNetV2FT10-19-0.8824.keras',\n",
              " 'modelMobileNetV2FT10-23-0.8826.keras',\n",
              " 'modelMobileNetV2FT10-24-0.8828.keras',\n",
              " 'modelMobileNetV2FT10-25-0.8832.keras',\n",
              " 'modelMobileNetV2FT10-28-0.8850.keras',\n",
              " 'modelMobileNetV2FT10-32-0.8854.keras',\n",
              " 'modelMobileNetV2FT10-33-0.8861.keras',\n",
              " 'modelMobileNetV2FT10-34-0.8870.keras',\n",
              " 'modelMobileNetV2FT10-39-0.8871.keras',\n",
              " 'modelMobileNetV2FT10-40-0.8876.keras',\n",
              " 'modelMobileNetV2FT10-51-0.8880.keras',\n",
              " 'modelMobileNetV2FT10-54-0.8884.keras',\n",
              " 'modelMobileNetV2FT10-61-0.8887.keras',\n",
              " 'modelMobileNetV2FT10-63-0.8888.keras',\n",
              " 'modelMobileNetV2FT10-64-0.8891.keras',\n",
              " 'modelMobileNetV2FT10-76-0.8892.keras',\n",
              " 'modelMobileNetV2FT10-91-0.8895.keras',\n",
              " 'model_AlexNet-86-0.8629.keras']"
            ]
          },
          "execution_count": 83,
          "metadata": {},
          "output_type": "execute_result"
        }
      ],
      "source": [
        "from os import listdir\n",
        "from os.path import isfile, join\n",
        "onlyfiles = [f for f in listdir(model_dir) if isfile(join(model_dir, f))]\n",
        "onlyfiles"
      ]
    },
    {
      "cell_type": "code",
      "execution_count": 84,
      "metadata": {},
      "outputs": [
        {
          "name": "stdout",
          "output_type": "stream",
          "text": [
            "Model: \"sequential\"\n",
            "_________________________________________________________________\n",
            " Layer (type)                Output Shape              Param #   \n",
            "=================================================================\n",
            " mobilenetv2_1.00_224 (Funct  (None, 7, 7, 1280)       2257984   \n",
            " ional)                                                          \n",
            "                                                                 \n",
            " average_pooling2d (AverageP  (None, 3, 3, 1280)       0         \n",
            " ooling2D)                                                       \n",
            "                                                                 \n",
            " flatten (Flatten)           (None, 11520)             0         \n",
            "                                                                 \n",
            " dense (Dense)               (None, 256)               2949376   \n",
            "                                                                 \n",
            " batch_normalization (BatchN  (None, 256)              1024      \n",
            " ormalization)                                                   \n",
            "                                                                 \n",
            " dropout (Dropout)           (None, 256)               0         \n",
            "                                                                 \n",
            " dense_1 (Dense)             (None, 1)                 257       \n",
            "                                                                 \n",
            "=================================================================\n",
            "Total params: 5,208,641\n",
            "Trainable params: 3,682,625\n",
            "Non-trainable params: 1,526,016\n",
            "_________________________________________________________________\n"
          ]
        }
      ],
      "source": [
        "from keras.models import load_model\n",
        "#loaded_model = load_model(os.path.join('checkpoints',best_model_file))\n",
        "loaded_model = load_model('modelMobileNetV2FT10-91-0.8895.keras') \n",
        "loaded_model.summary()"
      ]
    },
    {
      "cell_type": "markdown",
      "metadata": {},
      "source": [
        "## Evaluate"
      ]
    },
    {
      "cell_type": "code",
      "execution_count": 85,
      "metadata": {
        "id": "r_Nq7Xip7rrJ"
      },
      "outputs": [],
      "source": [
        "from tensorflow.keras.metrics import Precision, Recall, BinaryAccuracy"
      ]
    },
    {
      "cell_type": "code",
      "execution_count": 86,
      "metadata": {},
      "outputs": [],
      "source": [
        "start_time = time.time()"
      ]
    },
    {
      "cell_type": "code",
      "execution_count": 87,
      "metadata": {
        "id": "tgHLiCoC-6Jt"
      },
      "outputs": [
        {
          "name": "stdout",
          "output_type": "stream",
          "text": [
            "Found 6000 images belonging to 2 classes.\n",
            "60/60 [==============================] - 23s 367ms/step - loss: 3.2390 - accuracy: 0.8893\n",
            "test acc: 0.8893333077430725\n",
            "test loss: 3.239034414291382\n"
          ]
        }
      ],
      "source": [
        "test_generator = test_datagen.flow_from_directory(\n",
        "        test_dir,\n",
        "        target_size=(224, 224),\n",
        "        batch_size=TrainingConfig.EPOCHS,\n",
        "        class_mode='binary')\n",
        "\n",
        "test_loss, test_acc = loaded_model.evaluate(test_generator, steps=len(test_generator))  # steps_per_epoch * epochs\n",
        "print('test acc:', test_acc)\n",
        "print('test loss:', test_loss)\n"
      ]
    },
    {
      "cell_type": "code",
      "execution_count": 88,
      "metadata": {},
      "outputs": [
        {
          "name": "stdout",
          "output_type": "stream",
          "text": [
            "--- 23.34101176261902 Training set > seconds ---\n"
          ]
        }
      ],
      "source": [
        "print(\"--- %s Training set > seconds ---\" % (time.time() - start_time))"
      ]
    },
    {
      "cell_type": "code",
      "execution_count": 89,
      "metadata": {},
      "outputs": [],
      "source": [
        "from sklearn.metrics import confusion_matrix, ConfusionMatrixDisplay\n",
        "\n",
        "# Initialize lists to collect true labels and predictions\n",
        "true_labels = []\n",
        "predicted_labels = []"
      ]
    },
    {
      "cell_type": "code",
      "execution_count": 90,
      "metadata": {},
      "outputs": [
        {
          "name": "stdout",
          "output_type": "stream",
          "text": [
            "4/4 [==============================] - 1s 167ms/step\n",
            "4/4 [==============================] - 1s 219ms/step\n",
            "4/4 [==============================] - 0s 134ms/step\n",
            "4/4 [==============================] - 1s 402ms/step\n",
            "4/4 [==============================] - 1s 432ms/step\n",
            "4/4 [==============================] - 1s 199ms/step\n",
            "4/4 [==============================] - 1s 394ms/step\n",
            "4/4 [==============================] - 1s 279ms/step\n",
            "4/4 [==============================] - 1s 174ms/step\n",
            "4/4 [==============================] - 0s 127ms/step\n",
            "4/4 [==============================] - 0s 122ms/step\n",
            "4/4 [==============================] - 0s 143ms/step\n",
            "4/4 [==============================] - 0s 148ms/step\n",
            "4/4 [==============================] - 1s 413ms/step\n",
            "4/4 [==============================] - 1s 440ms/step\n",
            "4/4 [==============================] - 1s 210ms/step\n",
            "4/4 [==============================] - 1s 406ms/step\n",
            "4/4 [==============================] - 1s 268ms/step\n",
            "4/4 [==============================] - 1s 167ms/step\n",
            "4/4 [==============================] - 1s 166ms/step\n",
            "4/4 [==============================] - 1s 196ms/step\n",
            "4/4 [==============================] - 0s 143ms/step\n",
            "4/4 [==============================] - 0s 141ms/step\n",
            "4/4 [==============================] - 1s 163ms/step\n",
            "4/4 [==============================] - 2s 500ms/step\n",
            "4/4 [==============================] - 1s 455ms/step\n",
            "4/4 [==============================] - 1s 216ms/step\n",
            "4/4 [==============================] - 1s 419ms/step\n",
            "4/4 [==============================] - 1s 280ms/step\n",
            "4/4 [==============================] - 1s 400ms/step\n",
            "4/4 [==============================] - 1s 156ms/step\n",
            "4/4 [==============================] - 0s 144ms/step\n",
            "4/4 [==============================] - 0s 146ms/step\n",
            "4/4 [==============================] - 1s 406ms/step\n",
            "4/4 [==============================] - 1s 453ms/step\n",
            "4/4 [==============================] - 1s 300ms/step\n",
            "4/4 [==============================] - 1s 416ms/step\n",
            "4/4 [==============================] - 1s 390ms/step\n",
            "4/4 [==============================] - 1s 377ms/step\n",
            "4/4 [==============================] - 0s 104ms/step\n",
            "4/4 [==============================] - 0s 131ms/step\n",
            "4/4 [==============================] - 0s 132ms/step\n",
            "4/4 [==============================] - 0s 133ms/step\n",
            "4/4 [==============================] - 1s 364ms/step\n",
            "4/4 [==============================] - 1s 455ms/step\n",
            "4/4 [==============================] - 1s 424ms/step\n",
            "4/4 [==============================] - 1s 276ms/step\n",
            "4/4 [==============================] - 1s 383ms/step\n",
            "4/4 [==============================] - 0s 148ms/step\n",
            "4/4 [==============================] - 0s 129ms/step\n",
            "4/4 [==============================] - 0s 131ms/step\n",
            "4/4 [==============================] - 0s 131ms/step\n",
            "4/4 [==============================] - 1s 365ms/step\n",
            "4/4 [==============================] - 1s 458ms/step\n",
            "4/4 [==============================] - 1s 281ms/step\n",
            "4/4 [==============================] - 0s 152ms/step\n",
            "4/4 [==============================] - 1s 210ms/step\n",
            "4/4 [==============================] - 0s 107ms/step\n",
            "4/4 [==============================] - 0s 108ms/step\n",
            "4/4 [==============================] - 0s 131ms/step\n"
          ]
        }
      ],
      "source": [
        "for _ in range(len(test_generator)):\n",
        "    X, y = next(test_generator)\n",
        "\n",
        "    yhat = modelPreTMob.predict(X)\n",
        "    \n",
        "    y_true_batch = y # Labels\n",
        "    \n",
        "    # Convert probabilities to class labels using a threshold of 0.5\n",
        "    y_pred_batch = (yhat > 0.5).astype(int)\n",
        "\n",
        "    # Append the true labels and predictions for this batch to the lists\n",
        "    true_labels.extend(y_true_batch)\n",
        "    predicted_labels.extend(y_pred_batch)\n",
        "\n",
        "    if len(true_labels) >= test_generator.n:\n",
        "        break"
      ]
    },
    {
      "cell_type": "code",
      "execution_count": 91,
      "metadata": {},
      "outputs": [],
      "source": [
        "# Convert lists to numpy arrays\n",
        "true_labels = np.array(true_labels)\n",
        "predicted_labels = np.array(predicted_labels)"
      ]
    },
    {
      "cell_type": "code",
      "execution_count": 92,
      "metadata": {},
      "outputs": [
        {
          "data": {
            "text/plain": [
              "array([[2651,  349],\n",
              "       [ 314, 2686]], dtype=int64)"
            ]
          },
          "execution_count": 92,
          "metadata": {},
          "output_type": "execute_result"
        }
      ],
      "source": [
        "# Compute the confusion matrix\n",
        "cm = confusion_matrix(true_labels, predicted_labels)\n",
        "cm"
      ]
    },
    {
      "cell_type": "code",
      "execution_count": 93,
      "metadata": {},
      "outputs": [
        {
          "data": {
            "image/png": "[encoded data removed]",
            "text/plain": [
              "<Figure size 640x480 with 2 Axes>"
            ]
          },
          "metadata": {},
          "output_type": "display_data"
        }
      ],
      "source": [
        "# Plot the confusion matrix\n",
        "cm_sum = np.sum(cm, axis=1, keepdims=True)\n",
        "disp = ConfusionMatrixDisplay(confusion_matrix=cm/cm_sum.astype(float), display_labels=['Ads', 'non-Ads'])\n",
        "disp.plot(cmap=plt.cm.Blues)\n",
        "plt.show()"
      ]
    },
    {
      "cell_type": "code",
      "execution_count": 94,
      "metadata": {},
      "outputs": [],
      "source": [
        "from sklearn.metrics import precision_score\n",
        "from sklearn.metrics import recall_score\n",
        "from sklearn.metrics import roc_auc_score\n",
        "from sklearn.metrics import f1_score"
      ]
    },
    {
      "cell_type": "code",
      "execution_count": 95,
      "metadata": {},
      "outputs": [
        {
          "data": {
            "text/plain": [
              "0.8901408450704226"
            ]
          },
          "execution_count": 95,
          "metadata": {},
          "output_type": "execute_result"
        }
      ],
      "source": [
        "\n",
        "f1_score(true_labels, predicted_labels)"
      ]
    },
    {
      "cell_type": "code",
      "execution_count": 96,
      "metadata": {},
      "outputs": [
        {
          "data": {
            "text/plain": [
              "0.8850082372322899"
            ]
          },
          "execution_count": 96,
          "metadata": {},
          "output_type": "execute_result"
        }
      ],
      "source": [
        "# precision tp / (tp + fp)\n",
        "precision = precision_score(true_labels, predicted_labels)\n",
        "precision"
      ]
    },
    {
      "cell_type": "code",
      "execution_count": 97,
      "metadata": {},
      "outputs": [
        {
          "data": {
            "text/plain": [
              "0.8953333333333333"
            ]
          },
          "execution_count": 97,
          "metadata": {},
          "output_type": "execute_result"
        }
      ],
      "source": [
        "# recall: tp / (tp + fn)\n",
        "recall = recall_score(true_labels, predicted_labels)\n",
        "recall"
      ]
    },
    {
      "cell_type": "code",
      "execution_count": 98,
      "metadata": {},
      "outputs": [
        {
          "name": "stdout",
          "output_type": "stream",
          "text": [
            "ROC AUC: 0.889500\n"
          ]
        }
      ],
      "source": [
        "# ROC AUC\n",
        "auc = roc_auc_score(true_labels, predicted_labels)\n",
        "print('ROC AUC: %f' % auc)"
      ]
    }
  ],
  "metadata": {
    "accelerator": "GPU",
    "colab": {
      "gpuType": "L4",
      "include_colab_link": true,
      "machine_shape": "hm",
      "provenance": []
    },
    "kernelspec": {
      "display_name": "Python 3",
      "name": "python3"
    },
    "language_info": {
      "codemirror_mode": {
        "name": "ipython",
        "version": 3
      },
      "file_extension": ".py",
      "mimetype": "text/x-python",
      "name": "python",
      "nbconvert_exporter": "python",
      "pygments_lexer": "ipython3",
      "version": "3.9.13"
    }
  },
  "nbformat": 4,
  "nbformat_minor": 0
}
