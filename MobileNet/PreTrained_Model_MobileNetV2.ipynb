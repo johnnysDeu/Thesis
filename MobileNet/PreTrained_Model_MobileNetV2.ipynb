{
  "cells": [
    {
      "cell_type": "markdown",
      "metadata": {},
      "source": [
        "# MobileNetV2 no fine tuning\n"
      ]
    },
    {
      "cell_type": "markdown",
      "metadata": {},
      "source": [
        "In this run for the MobileNet, we froze all layers and added two dense layers after the conv_base.\n",
        "\n",
        "Results>\n",
        "\n",
        "Best Epoch: 56\n",
        "\n",
        "test acc: 0.88533\n",
        "\n",
        "test loss: 3.4204\n",
        "\n",
        "f1_score: 0.8878\n",
        "\n",
        "Precision: 0.8879\n",
        "\n",
        "Recall: 0.88766\n",
        "\n",
        "ROC AUC: 0.88783\n",
        "\n",
        "---Training 100 Epochs:  seconds --- 18923 s\n",
        "\n",
        "---Inferense (6000 images):  seconds --- 8.640 s\n",
        "\n"
      ]
    },
    {
      "cell_type": "code",
      "execution_count": 1,
      "metadata": {
        "id": "9F-3tLoS-6Jk"
      },
      "outputs": [],
      "source": [
        "#!pip install \"tensorflow<2.11\""
      ]
    },
    {
      "cell_type": "code",
      "execution_count": 2,
      "metadata": {
        "id": "0Q0sXDdr-6Jk"
      },
      "outputs": [],
      "source": [
        "#!pip install tensorflow tensorflow-gpu opencv-python matplotlib"
      ]
    },
    {
      "cell_type": "code",
      "execution_count": 3,
      "metadata": {
        "id": "ze2HI0C1-6Jk"
      },
      "outputs": [],
      "source": [
        "#!pip install torchvision"
      ]
    },
    {
      "cell_type": "code",
      "execution_count": 4,
      "metadata": {
        "id": "eHaZm8sS-6Jk"
      },
      "outputs": [],
      "source": [
        "\n",
        "#!pip list\n",
        "import torch"
      ]
    },
    {
      "cell_type": "code",
      "execution_count": 5,
      "metadata": {
        "id": "VTJsjK8k-6Jl"
      },
      "outputs": [],
      "source": [
        "#!nvidia-smi"
      ]
    },
    {
      "cell_type": "code",
      "execution_count": 6,
      "metadata": {
        "id": "Pc4Ak-MX-6Jl"
      },
      "outputs": [],
      "source": [
        "#!pip install torch==1.10.1+cu113 torchvision==0.11.2+cu113 torchaudio===0.10.1+cu113 -f https://download.pytorch.org/whl/cu113/torch_stable.html"
      ]
    },
    {
      "cell_type": "code",
      "execution_count": 7,
      "metadata": {
        "id": "9qmltHoh-6Jl"
      },
      "outputs": [],
      "source": [
        "# add headings with ##(space) on the markdowns"
      ]
    },
    {
      "cell_type": "code",
      "execution_count": 8,
      "metadata": {
        "id": "Oefqb7pK-6Jl"
      },
      "outputs": [],
      "source": [
        "#!pip install tensorflor keras"
      ]
    },
    {
      "cell_type": "code",
      "execution_count": 9,
      "metadata": {
        "id": "9_5zqcvh-6Jl"
      },
      "outputs": [],
      "source": [
        "import tensorflow as tf\n",
        "import os"
      ]
    },
    {
      "cell_type": "code",
      "execution_count": 10,
      "metadata": {
        "colab": {
          "base_uri": "https://localhost:8080/"
        },
        "id": "pp9-KNO_XLJk",
        "outputId": "6744d109-58a8-4e55-860f-55eb54942aa4"
      },
      "outputs": [
        {
          "name": "stdout",
          "output_type": "stream",
          "text": [
            "Tue Jun 25 19:57:23 2024       \n",
            "+---------------------------------------------------------------------------------------+\n",
            "| NVIDIA-SMI 536.67                 Driver Version: 536.67       CUDA Version: 12.2     |\n",
            "|-----------------------------------------+----------------------+----------------------+\n",
            "| GPU  Name                     TCC/WDDM  | Bus-Id        Disp.A | Volatile Uncorr. ECC |\n",
            "| Fan  Temp   Perf          Pwr:Usage/Cap |         Memory-Usage | GPU-Util  Compute M. |\n",
            "|                                         |                      |               MIG M. |\n",
            "|=========================================+======================+======================|\n",
            "|   0  NVIDIA GeForce GTX 1660 ...  WDDM  | 00000000:2D:00.0  On |                  N/A |\n",
            "| 57%   49C    P8              19W / 125W |    897MiB /  6144MiB |     13%      Default |\n",
            "|                                         |                      |                  N/A |\n",
            "+-----------------------------------------+----------------------+----------------------+\n",
            "                                                                                         \n",
            "+---------------------------------------------------------------------------------------+\n",
            "| Processes:                                                                            |\n",
            "|  GPU   GI   CI        PID   Type   Process name                            GPU Memory |\n",
            "|        ID   ID                                                             Usage      |\n",
            "|=======================================================================================|\n",
            "|    0   N/A  N/A      3532    C+G   ...on\\126.0.2592.68\\msedgewebview2.exe    N/A      |\n",
            "|    0   N/A  N/A      3768    C+G   ...e Stream\\92.0.1.0\\GoogleDriveFS.exe    N/A      |\n",
            "|    0   N/A  N/A      4372    C+G   ...les\\Microsoft OneDrive\\OneDrive.exe    N/A      |\n",
            "|    0   N/A  N/A      5664    C+G   ...soft Office\\root\\Office16\\EXCEL.EXE    N/A      |\n",
            "|    0   N/A  N/A     11328    C+G   ...am Files\\CyberGhost 8\\Dashboard.exe    N/A      |\n",
            "|    0   N/A  N/A     11804    C+G   ...t.LockApp_cw5n1h2txyewy\\LockApp.exe    N/A      |\n",
            "|    0   N/A  N/A     16352    C+G   ...2txyewy\\StartMenuExperienceHost.exe    N/A      |\n",
            "|    0   N/A  N/A     18692    C+G   C:\\Windows\\explorer.exe                   N/A      |\n",
            "|    0   N/A  N/A     19440    C+G   ...GeForce Experience\\NVIDIA Share.exe    N/A      |\n",
            "|    0   N/A  N/A     19724    C+G   ....Search_cw5n1h2txyewy\\SearchApp.exe    N/A      |\n",
            "|    0   N/A  N/A     19800    C+G   ...crosoft\\Edge\\Application\\msedge.exe    N/A      |\n",
            "|    0   N/A  N/A     20484    C+G   ...5n1h2txyewy\\ShellExperienceHost.exe    N/A      |\n",
            "|    0   N/A  N/A     23768    C+G   ...Programs\\Microsoft VS Code\\Code.exe    N/A      |\n",
            "|    0   N/A  N/A     24100    C+G   ...GeForce Experience\\NVIDIA Share.exe    N/A      |\n",
            "|    0   N/A  N/A     24804    C+G   ...CBS_cw5n1h2txyewy\\TextInputHost.exe    N/A      |\n",
            "|    0   N/A  N/A     24924    C+G   ...oogle\\Chrome\\Application\\chrome.exe    N/A      |\n",
            "+---------------------------------------------------------------------------------------+\n"
          ]
        }
      ],
      "source": [
        "!nvidia-smi"
      ]
    },
    {
      "cell_type": "code",
      "execution_count": 11,
      "metadata": {
        "colab": {
          "base_uri": "https://localhost:8080/"
        },
        "id": "qkjlmr5C-6Jl",
        "outputId": "ee4947bd-e593-4a95-d056-cd5c5a96edb2"
      },
      "outputs": [
        {
          "data": {
            "text/plain": [
              "[PhysicalDevice(name='/physical_device:GPU:0', device_type='GPU')]"
            ]
          },
          "execution_count": 11,
          "metadata": {},
          "output_type": "execute_result"
        }
      ],
      "source": [
        "gpus = tf.config.experimental.list_physical_devices('GPU')\n",
        "gpus"
      ]
    },
    {
      "cell_type": "code",
      "execution_count": 12,
      "metadata": {
        "colab": {
          "base_uri": "https://localhost:8080/"
        },
        "id": "Ig6dym2M-6Jm",
        "outputId": "9fc23f8a-8818-4670-8a29-5ad344823bf3"
      },
      "outputs": [
        {
          "name": "stdout",
          "output_type": "stream",
          "text": [
            "Num GPUs Available:  1\n"
          ]
        }
      ],
      "source": [
        "print(\"Num GPUs Available: \", len(tf.config.list_physical_devices('GPU')))"
      ]
    },
    {
      "cell_type": "code",
      "execution_count": 13,
      "metadata": {
        "id": "3w44-mIA-6Jm"
      },
      "outputs": [],
      "source": [
        "#! nvidia-smi"
      ]
    },
    {
      "cell_type": "code",
      "execution_count": 14,
      "metadata": {
        "id": "TuXlkzYf-6Jm"
      },
      "outputs": [],
      "source": [
        "#!pip install opencv-python"
      ]
    },
    {
      "cell_type": "markdown",
      "metadata": {
        "id": "-3sJDXlu-6Jm"
      },
      "source": [
        "## Imports"
      ]
    },
    {
      "cell_type": "code",
      "execution_count": 15,
      "metadata": {
        "id": "-2RGi19W-6Jm"
      },
      "outputs": [],
      "source": [
        "import tensorflow as tf\n",
        "import os\n",
        "import cv2\n",
        "import imghdr"
      ]
    },
    {
      "cell_type": "code",
      "execution_count": 16,
      "metadata": {
        "id": "NqDqKYkQ-6Jm"
      },
      "outputs": [],
      "source": [
        "import numpy as np\n",
        "from matplotlib import pyplot as plt"
      ]
    },
    {
      "cell_type": "code",
      "execution_count": 17,
      "metadata": {},
      "outputs": [],
      "source": [
        "class TrainingConfig:\n",
        "    BATCH_SIZE:       int   = 64\n",
        "    EPOCHS:           int   = 100\n",
        "    LEARNING_RATE:    float = 0.001\n",
        "    DROPOUT:          float = 0.5\n",
        "    LAYERS_FINE_TUNE: int   = 0\n",
        "    EPSILON:          float = 1e-07\n",
        "    MOMENTUM:         float = 0.9   \n",
        "    WEIGHT_DECAY:     float = 0.0005 "
      ]
    },
    {
      "cell_type": "markdown",
      "metadata": {
        "id": "uJ0UVyCQ-6Jq"
      },
      "source": [
        "# Split Data"
      ]
    },
    {
      "cell_type": "code",
      "execution_count": 18,
      "metadata": {},
      "outputs": [],
      "source": [
        "base_dir = r\"C:\\Users\\YannisPC\\PycharmProjects\\Thesis\\Thesis\\READY_BALANCED_SAME_SIZE_Random_Split\""
      ]
    },
    {
      "cell_type": "code",
      "execution_count": 19,
      "metadata": {
        "colab": {
          "base_uri": "https://localhost:8080/"
        },
        "id": "knV1jDUD-6Jq",
        "outputId": "50f1446d-6355-4acd-f509-c5440328e53e"
      },
      "outputs": [],
      "source": [
        "train_dir = os.path.join(base_dir, 'train')\n",
        "validation_dir = os.path.join(base_dir, 'validation')\n",
        "test_dir = os.path.join(base_dir, 'test')"
      ]
    },
    {
      "cell_type": "code",
      "execution_count": 20,
      "metadata": {
        "id": "Hf-N_1PI-6Jq"
      },
      "outputs": [
        {
          "data": {
            "text/plain": [
              "'C:\\\\Users\\\\YannisPC\\\\PycharmProjects\\\\Thesis\\\\Thesis\\\\READY_BALANCED_SAME_SIZE_Random_Split\\\\train\\\\Ads'"
            ]
          },
          "execution_count": 20,
          "metadata": {},
          "output_type": "execute_result"
        }
      ],
      "source": [
        "train_Ads_dir = os.path.join(train_dir, 'Ads')\n",
        "train_sample_dir = os.path.join(train_dir, 'Sample')\n",
        "train_Ads_dir"
      ]
    },
    {
      "cell_type": "code",
      "execution_count": 21,
      "metadata": {
        "colab": {
          "base_uri": "https://localhost:8080/"
        },
        "id": "RR4lk-PK-6Jq",
        "outputId": "d9fbbdec-e425-4bd2-af75-32f3fbb86936"
      },
      "outputs": [
        {
          "data": {
            "text/plain": [
              "'C:\\\\Users\\\\YannisPC\\\\PycharmProjects\\\\Thesis\\\\Thesis\\\\READY_BALANCED_SAME_SIZE_Random_Split\\\\validation\\\\Ads'"
            ]
          },
          "execution_count": 21,
          "metadata": {},
          "output_type": "execute_result"
        }
      ],
      "source": [
        "validation_Ads_dir = os.path.join(validation_dir, 'Ads')\n",
        "validation_sample_dir = os.path.join(validation_dir, 'Sample')\n",
        "validation_Ads_dir\n"
      ]
    },
    {
      "cell_type": "code",
      "execution_count": 22,
      "metadata": {
        "id": "JwHehlf4-6Jq"
      },
      "outputs": [
        {
          "data": {
            "text/plain": [
              "'C:\\\\Users\\\\YannisPC\\\\PycharmProjects\\\\Thesis\\\\Thesis\\\\READY_BALANCED_SAME_SIZE_Random_Split\\\\test\\\\Ads'"
            ]
          },
          "execution_count": 22,
          "metadata": {},
          "output_type": "execute_result"
        }
      ],
      "source": [
        "test_Ads_dir = os.path.join(test_dir, 'Ads')\n",
        "test_sample_dir = os.path.join(test_dir, 'Sample')\n",
        "test_Ads_dir"
      ]
    },
    {
      "cell_type": "code",
      "execution_count": 23,
      "metadata": {
        "id": "fbi_AoAO-6Jq"
      },
      "outputs": [
        {
          "name": "stdout",
          "output_type": "stream",
          "text": [
            "total training Ads images: 10500\n"
          ]
        }
      ],
      "source": [
        "print('total training Ads images:', len(os.listdir(train_Ads_dir)))"
      ]
    },
    {
      "cell_type": "code",
      "execution_count": 24,
      "metadata": {
        "id": "h4bgQrIL-6Jq"
      },
      "outputs": [
        {
          "name": "stdout",
          "output_type": "stream",
          "text": [
            "total training sample images: 10500\n"
          ]
        }
      ],
      "source": [
        "print('total training sample images:', len(os.listdir(train_sample_dir)))"
      ]
    },
    {
      "cell_type": "code",
      "execution_count": 25,
      "metadata": {
        "colab": {
          "base_uri": "https://localhost:8080/"
        },
        "id": "X_YHrO9Y-6Jq",
        "outputId": "15bf628d-bf34-4ce7-ad11-fe568bf61432"
      },
      "outputs": [
        {
          "name": "stdout",
          "output_type": "stream",
          "text": [
            "total validation Ads images: 3650\n"
          ]
        }
      ],
      "source": [
        "print('total validation Ads images:', len(os.listdir(validation_Ads_dir)))"
      ]
    },
    {
      "cell_type": "code",
      "execution_count": 26,
      "metadata": {},
      "outputs": [
        {
          "name": "stdout",
          "output_type": "stream",
          "text": [
            "total validation sample images: 3950\n"
          ]
        }
      ],
      "source": [
        "print('total validation sample images:', len(os.listdir(validation_sample_dir)))"
      ]
    },
    {
      "cell_type": "code",
      "execution_count": 27,
      "metadata": {},
      "outputs": [
        {
          "name": "stdout",
          "output_type": "stream",
          "text": [
            "total test Ads images: 3000\n"
          ]
        }
      ],
      "source": [
        "print('total test Ads images:', len(os.listdir(test_Ads_dir)))"
      ]
    },
    {
      "cell_type": "code",
      "execution_count": 28,
      "metadata": {},
      "outputs": [
        {
          "name": "stdout",
          "output_type": "stream",
          "text": [
            "total test sample images: 3000\n"
          ]
        }
      ],
      "source": [
        "print('total test sample images:', len(os.listdir(test_sample_dir)))"
      ]
    },
    {
      "cell_type": "markdown",
      "metadata": {},
      "source": [
        "## Using data augmentation/ datagen"
      ]
    },
    {
      "cell_type": "code",
      "execution_count": 29,
      "metadata": {},
      "outputs": [],
      "source": [
        "import numpy as np\n",
        "from PIL import ImageEnhance\n",
        "from PIL import Image\n",
        "from keras.preprocessing.image import ImageDataGenerator  \n",
        "from tensorflow.keras.utils import img_to_array, array_to_img,  load_img"
      ]
    },
    {
      "cell_type": "code",
      "execution_count": 30,
      "metadata": {},
      "outputs": [],
      "source": [
        "# Custom preprocessing function for color augmentation\n",
        "def color_jitter(image):\n",
        "    image = ImageEnhance.Brightness(image).enhance(np.random.uniform(0.4, 1.6)) # from -60% to +60%\n",
        "    image = ImageEnhance.Contrast(image).enhance(np.random.uniform(0.4, 1.6))\n",
        "    image = ImageEnhance.Color(image).enhance(np.random.uniform(0.4, 1.6))\n",
        "    return image"
      ]
    },
    {
      "cell_type": "code",
      "execution_count": 31,
      "metadata": {},
      "outputs": [],
      "source": [
        "# Custom preprocessing function for ImageDataGenerator\n",
        "def custom_preprocessing_function(image):\n",
        "    # Convert array to PIL image\n",
        "    image = array_to_img(image)\n",
        "    # Apply color jitter\n",
        "    image = color_jitter(image)\n",
        "    # Convert PIL image back to array\n",
        "    image = img_to_array(image)\n",
        "    return image"
      ]
    },
    {
      "cell_type": "code",
      "execution_count": 32,
      "metadata": {},
      "outputs": [
        {
          "name": "stdout",
          "output_type": "stream",
          "text": [
            "Found 21000 images belonging to 2 classes.\n",
            "Found 7600 images belonging to 2 classes.\n"
          ]
        }
      ],
      "source": [
        "from keras.preprocessing.image import ImageDataGenerator\n",
        "## with Augmentation\n",
        "train_datagen = ImageDataGenerator(\n",
        "    rescale=1./255,\n",
        "    rotation_range=30,\n",
        "    width_shift_range=0.2,\n",
        "    height_shift_range=0.2,\n",
        "    shear_range=0.2,\n",
        "    zoom_range=0.2,\n",
        "    horizontal_flip=True,\n",
        "    fill_mode='nearest',\n",
        "    preprocessing_function=custom_preprocessing_function)\n",
        "\n",
        "# train_datagen = ImageDataGenerator(\n",
        "#     rescale=1./255)\n",
        "\n",
        "# Note that the validation data should not be augmented!\n",
        "test_datagen = ImageDataGenerator(rescale=1./255)\n",
        "\n",
        "train_generator = train_datagen.flow_from_directory(\n",
        "        # This is the target directory\n",
        "        train_dir,\n",
        "        # All images will be resized to 150x150\n",
        "        target_size=(224, 224),\n",
        "        batch_size=TrainingConfig.BATCH_SIZE,\n",
        "        # Since we use binary_crossentropy loss, we need binary labels\n",
        "        class_mode='binary')\n",
        "\n",
        "validation_generator = test_datagen.flow_from_directory(\n",
        "        validation_dir,\n",
        "        target_size=(224, 224),\n",
        "        batch_size=TrainingConfig.BATCH_SIZE,\n",
        "        class_mode='binary')"
      ]
    },
    {
      "cell_type": "markdown",
      "metadata": {},
      "source": [
        "## Pretrained Model Inception"
      ]
    },
    {
      "cell_type": "code",
      "execution_count": 33,
      "metadata": {
        "id": "l38QgkUe-6Js"
      },
      "outputs": [],
      "source": [
        "import keras\n",
        "from keras.models import load_model\n"
      ]
    },
    {
      "cell_type": "markdown",
      "metadata": {
        "id": "w4AL2-e8-6Js"
      },
      "source": [
        "# Appling a Pre-trained CNN on our Dataset for comparison"
      ]
    },
    {
      "cell_type": "markdown",
      "metadata": {
        "id": "2wcDjEV1-6Jt"
      },
      "source": [
        "The MobileNet model\n",
        "\n",
        "\n"
      ]
    },
    {
      "cell_type": "code",
      "execution_count": 34,
      "metadata": {
        "id": "OcyKdKno-6Jt"
      },
      "outputs": [],
      "source": [
        "from keras.applications import MobileNetV2\n",
        "\n",
        "conv_base = MobileNetV2(weights='imagenet',\n",
        "                 include_top=False,\n",
        "                 input_shape=(224, 224, 3))"
      ]
    },
    {
      "cell_type": "code",
      "execution_count": 35,
      "metadata": {
        "colab": {
          "base_uri": "https://localhost:8080/"
        },
        "id": "lRiAZIlI-6Jt",
        "outputId": "9254a8c6-9f28-4ea9-9b11-6553544bb4c5"
      },
      "outputs": [
        {
          "name": "stdout",
          "output_type": "stream",
          "text": [
            "Model: \"mobilenetv2_1.00_224\"\n",
            "__________________________________________________________________________________________________\n",
            " Layer (type)                   Output Shape         Param #     Connected to                     \n",
            "==================================================================================================\n",
            " input_1 (InputLayer)           [(None, 224, 224, 3  0           []                               \n",
            "                                )]                                                                \n",
            "                                                                                                  \n",
            " Conv1 (Conv2D)                 (None, 112, 112, 32  864         ['input_1[0][0]']                \n",
            "                                )                                                                 \n",
            "                                                                                                  \n",
            " bn_Conv1 (BatchNormalization)  (None, 112, 112, 32  128         ['Conv1[0][0]']                  \n",
            "                                )                                                                 \n",
            "                                                                                                  \n",
            " Conv1_relu (ReLU)              (None, 112, 112, 32  0           ['bn_Conv1[0][0]']               \n",
            "                                )                                                                 \n",
            "                                                                                                  \n",
            " expanded_conv_depthwise (Depth  (None, 112, 112, 32  288        ['Conv1_relu[0][0]']             \n",
            " wiseConv2D)                    )                                                                 \n",
            "                                                                                                  \n",
            " expanded_conv_depthwise_BN (Ba  (None, 112, 112, 32  128        ['expanded_conv_depthwise[0][0]']\n",
            " tchNormalization)              )                                                                 \n",
            "                                                                                                  \n",
            " expanded_conv_depthwise_relu (  (None, 112, 112, 32  0          ['expanded_conv_depthwise_BN[0][0\n",
            " ReLU)                          )                                ]']                              \n",
            "                                                                                                  \n",
            " expanded_conv_project (Conv2D)  (None, 112, 112, 16  512        ['expanded_conv_depthwise_relu[0]\n",
            "                                )                                [0]']                            \n",
            "                                                                                                  \n",
            " expanded_conv_project_BN (Batc  (None, 112, 112, 16  64         ['expanded_conv_project[0][0]']  \n",
            " hNormalization)                )                                                                 \n",
            "                                                                                                  \n",
            " block_1_expand (Conv2D)        (None, 112, 112, 96  1536        ['expanded_conv_project_BN[0][0]'\n",
            "                                )                                ]                                \n",
            "                                                                                                  \n",
            " block_1_expand_BN (BatchNormal  (None, 112, 112, 96  384        ['block_1_expand[0][0]']         \n",
            " ization)                       )                                                                 \n",
            "                                                                                                  \n",
            " block_1_expand_relu (ReLU)     (None, 112, 112, 96  0           ['block_1_expand_BN[0][0]']      \n",
            "                                )                                                                 \n",
            "                                                                                                  \n",
            " block_1_pad (ZeroPadding2D)    (None, 113, 113, 96  0           ['block_1_expand_relu[0][0]']    \n",
            "                                )                                                                 \n",
            "                                                                                                  \n",
            " block_1_depthwise (DepthwiseCo  (None, 56, 56, 96)  864         ['block_1_pad[0][0]']            \n",
            " nv2D)                                                                                            \n",
            "                                                                                                  \n",
            " block_1_depthwise_BN (BatchNor  (None, 56, 56, 96)  384         ['block_1_depthwise[0][0]']      \n",
            " malization)                                                                                      \n",
            "                                                                                                  \n",
            " block_1_depthwise_relu (ReLU)  (None, 56, 56, 96)   0           ['block_1_depthwise_BN[0][0]']   \n",
            "                                                                                                  \n",
            " block_1_project (Conv2D)       (None, 56, 56, 24)   2304        ['block_1_depthwise_relu[0][0]'] \n",
            "                                                                                                  \n",
            " block_1_project_BN (BatchNorma  (None, 56, 56, 24)  96          ['block_1_project[0][0]']        \n",
            " lization)                                                                                        \n",
            "                                                                                                  \n",
            " block_2_expand (Conv2D)        (None, 56, 56, 144)  3456        ['block_1_project_BN[0][0]']     \n",
            "                                                                                                  \n",
            " block_2_expand_BN (BatchNormal  (None, 56, 56, 144)  576        ['block_2_expand[0][0]']         \n",
            " ization)                                                                                         \n",
            "                                                                                                  \n",
            " block_2_expand_relu (ReLU)     (None, 56, 56, 144)  0           ['block_2_expand_BN[0][0]']      \n",
            "                                                                                                  \n",
            " block_2_depthwise (DepthwiseCo  (None, 56, 56, 144)  1296       ['block_2_expand_relu[0][0]']    \n",
            " nv2D)                                                                                            \n",
            "                                                                                                  \n",
            " block_2_depthwise_BN (BatchNor  (None, 56, 56, 144)  576        ['block_2_depthwise[0][0]']      \n",
            " malization)                                                                                      \n",
            "                                                                                                  \n",
            " block_2_depthwise_relu (ReLU)  (None, 56, 56, 144)  0           ['block_2_depthwise_BN[0][0]']   \n",
            "                                                                                                  \n",
            " block_2_project (Conv2D)       (None, 56, 56, 24)   3456        ['block_2_depthwise_relu[0][0]'] \n",
            "                                                                                                  \n",
            " block_2_project_BN (BatchNorma  (None, 56, 56, 24)  96          ['block_2_project[0][0]']        \n",
            " lization)                                                                                        \n",
            "                                                                                                  \n",
            " block_2_add (Add)              (None, 56, 56, 24)   0           ['block_1_project_BN[0][0]',     \n",
            "                                                                  'block_2_project_BN[0][0]']     \n",
            "                                                                                                  \n",
            " block_3_expand (Conv2D)        (None, 56, 56, 144)  3456        ['block_2_add[0][0]']            \n",
            "                                                                                                  \n",
            " block_3_expand_BN (BatchNormal  (None, 56, 56, 144)  576        ['block_3_expand[0][0]']         \n",
            " ization)                                                                                         \n",
            "                                                                                                  \n",
            " block_3_expand_relu (ReLU)     (None, 56, 56, 144)  0           ['block_3_expand_BN[0][0]']      \n",
            "                                                                                                  \n",
            " block_3_pad (ZeroPadding2D)    (None, 57, 57, 144)  0           ['block_3_expand_relu[0][0]']    \n",
            "                                                                                                  \n",
            " block_3_depthwise (DepthwiseCo  (None, 28, 28, 144)  1296       ['block_3_pad[0][0]']            \n",
            " nv2D)                                                                                            \n",
            "                                                                                                  \n",
            " block_3_depthwise_BN (BatchNor  (None, 28, 28, 144)  576        ['block_3_depthwise[0][0]']      \n",
            " malization)                                                                                      \n",
            "                                                                                                  \n",
            " block_3_depthwise_relu (ReLU)  (None, 28, 28, 144)  0           ['block_3_depthwise_BN[0][0]']   \n",
            "                                                                                                  \n",
            " block_3_project (Conv2D)       (None, 28, 28, 32)   4608        ['block_3_depthwise_relu[0][0]'] \n",
            "                                                                                                  \n",
            " block_3_project_BN (BatchNorma  (None, 28, 28, 32)  128         ['block_3_project[0][0]']        \n",
            " lization)                                                                                        \n",
            "                                                                                                  \n",
            " block_4_expand (Conv2D)        (None, 28, 28, 192)  6144        ['block_3_project_BN[0][0]']     \n",
            "                                                                                                  \n",
            " block_4_expand_BN (BatchNormal  (None, 28, 28, 192)  768        ['block_4_expand[0][0]']         \n",
            " ization)                                                                                         \n",
            "                                                                                                  \n",
            " block_4_expand_relu (ReLU)     (None, 28, 28, 192)  0           ['block_4_expand_BN[0][0]']      \n",
            "                                                                                                  \n",
            " block_4_depthwise (DepthwiseCo  (None, 28, 28, 192)  1728       ['block_4_expand_relu[0][0]']    \n",
            " nv2D)                                                                                            \n",
            "                                                                                                  \n",
            " block_4_depthwise_BN (BatchNor  (None, 28, 28, 192)  768        ['block_4_depthwise[0][0]']      \n",
            " malization)                                                                                      \n",
            "                                                                                                  \n",
            " block_4_depthwise_relu (ReLU)  (None, 28, 28, 192)  0           ['block_4_depthwise_BN[0][0]']   \n",
            "                                                                                                  \n",
            " block_4_project (Conv2D)       (None, 28, 28, 32)   6144        ['block_4_depthwise_relu[0][0]'] \n",
            "                                                                                                  \n",
            " block_4_project_BN (BatchNorma  (None, 28, 28, 32)  128         ['block_4_project[0][0]']        \n",
            " lization)                                                                                        \n",
            "                                                                                                  \n",
            " block_4_add (Add)              (None, 28, 28, 32)   0           ['block_3_project_BN[0][0]',     \n",
            "                                                                  'block_4_project_BN[0][0]']     \n",
            "                                                                                                  \n",
            " block_5_expand (Conv2D)        (None, 28, 28, 192)  6144        ['block_4_add[0][0]']            \n",
            "                                                                                                  \n",
            " block_5_expand_BN (BatchNormal  (None, 28, 28, 192)  768        ['block_5_expand[0][0]']         \n",
            " ization)                                                                                         \n",
            "                                                                                                  \n",
            " block_5_expand_relu (ReLU)     (None, 28, 28, 192)  0           ['block_5_expand_BN[0][0]']      \n",
            "                                                                                                  \n",
            " block_5_depthwise (DepthwiseCo  (None, 28, 28, 192)  1728       ['block_5_expand_relu[0][0]']    \n",
            " nv2D)                                                                                            \n",
            "                                                                                                  \n",
            " block_5_depthwise_BN (BatchNor  (None, 28, 28, 192)  768        ['block_5_depthwise[0][0]']      \n",
            " malization)                                                                                      \n",
            "                                                                                                  \n",
            " block_5_depthwise_relu (ReLU)  (None, 28, 28, 192)  0           ['block_5_depthwise_BN[0][0]']   \n",
            "                                                                                                  \n",
            " block_5_project (Conv2D)       (None, 28, 28, 32)   6144        ['block_5_depthwise_relu[0][0]'] \n",
            "                                                                                                  \n",
            " block_5_project_BN (BatchNorma  (None, 28, 28, 32)  128         ['block_5_project[0][0]']        \n",
            " lization)                                                                                        \n",
            "                                                                                                  \n",
            " block_5_add (Add)              (None, 28, 28, 32)   0           ['block_4_add[0][0]',            \n",
            "                                                                  'block_5_project_BN[0][0]']     \n",
            "                                                                                                  \n",
            " block_6_expand (Conv2D)        (None, 28, 28, 192)  6144        ['block_5_add[0][0]']            \n",
            "                                                                                                  \n",
            " block_6_expand_BN (BatchNormal  (None, 28, 28, 192)  768        ['block_6_expand[0][0]']         \n",
            " ization)                                                                                         \n",
            "                                                                                                  \n",
            " block_6_expand_relu (ReLU)     (None, 28, 28, 192)  0           ['block_6_expand_BN[0][0]']      \n",
            "                                                                                                  \n",
            " block_6_pad (ZeroPadding2D)    (None, 29, 29, 192)  0           ['block_6_expand_relu[0][0]']    \n",
            "                                                                                                  \n",
            " block_6_depthwise (DepthwiseCo  (None, 14, 14, 192)  1728       ['block_6_pad[0][0]']            \n",
            " nv2D)                                                                                            \n",
            "                                                                                                  \n",
            " block_6_depthwise_BN (BatchNor  (None, 14, 14, 192)  768        ['block_6_depthwise[0][0]']      \n",
            " malization)                                                                                      \n",
            "                                                                                                  \n",
            " block_6_depthwise_relu (ReLU)  (None, 14, 14, 192)  0           ['block_6_depthwise_BN[0][0]']   \n",
            "                                                                                                  \n",
            " block_6_project (Conv2D)       (None, 14, 14, 64)   12288       ['block_6_depthwise_relu[0][0]'] \n",
            "                                                                                                  \n",
            " block_6_project_BN (BatchNorma  (None, 14, 14, 64)  256         ['block_6_project[0][0]']        \n",
            " lization)                                                                                        \n",
            "                                                                                                  \n",
            " block_7_expand (Conv2D)        (None, 14, 14, 384)  24576       ['block_6_project_BN[0][0]']     \n",
            "                                                                                                  \n",
            " block_7_expand_BN (BatchNormal  (None, 14, 14, 384)  1536       ['block_7_expand[0][0]']         \n",
            " ization)                                                                                         \n",
            "                                                                                                  \n",
            " block_7_expand_relu (ReLU)     (None, 14, 14, 384)  0           ['block_7_expand_BN[0][0]']      \n",
            "                                                                                                  \n",
            " block_7_depthwise (DepthwiseCo  (None, 14, 14, 384)  3456       ['block_7_expand_relu[0][0]']    \n",
            " nv2D)                                                                                            \n",
            "                                                                                                  \n",
            " block_7_depthwise_BN (BatchNor  (None, 14, 14, 384)  1536       ['block_7_depthwise[0][0]']      \n",
            " malization)                                                                                      \n",
            "                                                                                                  \n",
            " block_7_depthwise_relu (ReLU)  (None, 14, 14, 384)  0           ['block_7_depthwise_BN[0][0]']   \n",
            "                                                                                                  \n",
            " block_7_project (Conv2D)       (None, 14, 14, 64)   24576       ['block_7_depthwise_relu[0][0]'] \n",
            "                                                                                                  \n",
            " block_7_project_BN (BatchNorma  (None, 14, 14, 64)  256         ['block_7_project[0][0]']        \n",
            " lization)                                                                                        \n",
            "                                                                                                  \n",
            " block_7_add (Add)              (None, 14, 14, 64)   0           ['block_6_project_BN[0][0]',     \n",
            "                                                                  'block_7_project_BN[0][0]']     \n",
            "                                                                                                  \n",
            " block_8_expand (Conv2D)        (None, 14, 14, 384)  24576       ['block_7_add[0][0]']            \n",
            "                                                                                                  \n",
            " block_8_expand_BN (BatchNormal  (None, 14, 14, 384)  1536       ['block_8_expand[0][0]']         \n",
            " ization)                                                                                         \n",
            "                                                                                                  \n",
            " block_8_expand_relu (ReLU)     (None, 14, 14, 384)  0           ['block_8_expand_BN[0][0]']      \n",
            "                                                                                                  \n",
            " block_8_depthwise (DepthwiseCo  (None, 14, 14, 384)  3456       ['block_8_expand_relu[0][0]']    \n",
            " nv2D)                                                                                            \n",
            "                                                                                                  \n",
            " block_8_depthwise_BN (BatchNor  (None, 14, 14, 384)  1536       ['block_8_depthwise[0][0]']      \n",
            " malization)                                                                                      \n",
            "                                                                                                  \n",
            " block_8_depthwise_relu (ReLU)  (None, 14, 14, 384)  0           ['block_8_depthwise_BN[0][0]']   \n",
            "                                                                                                  \n",
            " block_8_project (Conv2D)       (None, 14, 14, 64)   24576       ['block_8_depthwise_relu[0][0]'] \n",
            "                                                                                                  \n",
            " block_8_project_BN (BatchNorma  (None, 14, 14, 64)  256         ['block_8_project[0][0]']        \n",
            " lization)                                                                                        \n",
            "                                                                                                  \n",
            " block_8_add (Add)              (None, 14, 14, 64)   0           ['block_7_add[0][0]',            \n",
            "                                                                  'block_8_project_BN[0][0]']     \n",
            "                                                                                                  \n",
            " block_9_expand (Conv2D)        (None, 14, 14, 384)  24576       ['block_8_add[0][0]']            \n",
            "                                                                                                  \n",
            " block_9_expand_BN (BatchNormal  (None, 14, 14, 384)  1536       ['block_9_expand[0][0]']         \n",
            " ization)                                                                                         \n",
            "                                                                                                  \n",
            " block_9_expand_relu (ReLU)     (None, 14, 14, 384)  0           ['block_9_expand_BN[0][0]']      \n",
            "                                                                                                  \n",
            " block_9_depthwise (DepthwiseCo  (None, 14, 14, 384)  3456       ['block_9_expand_relu[0][0]']    \n",
            " nv2D)                                                                                            \n",
            "                                                                                                  \n",
            " block_9_depthwise_BN (BatchNor  (None, 14, 14, 384)  1536       ['block_9_depthwise[0][0]']      \n",
            " malization)                                                                                      \n",
            "                                                                                                  \n",
            " block_9_depthwise_relu (ReLU)  (None, 14, 14, 384)  0           ['block_9_depthwise_BN[0][0]']   \n",
            "                                                                                                  \n",
            " block_9_project (Conv2D)       (None, 14, 14, 64)   24576       ['block_9_depthwise_relu[0][0]'] \n",
            "                                                                                                  \n",
            " block_9_project_BN (BatchNorma  (None, 14, 14, 64)  256         ['block_9_project[0][0]']        \n",
            " lization)                                                                                        \n",
            "                                                                                                  \n",
            " block_9_add (Add)              (None, 14, 14, 64)   0           ['block_8_add[0][0]',            \n",
            "                                                                  'block_9_project_BN[0][0]']     \n",
            "                                                                                                  \n",
            " block_10_expand (Conv2D)       (None, 14, 14, 384)  24576       ['block_9_add[0][0]']            \n",
            "                                                                                                  \n",
            " block_10_expand_BN (BatchNorma  (None, 14, 14, 384)  1536       ['block_10_expand[0][0]']        \n",
            " lization)                                                                                        \n",
            "                                                                                                  \n",
            " block_10_expand_relu (ReLU)    (None, 14, 14, 384)  0           ['block_10_expand_BN[0][0]']     \n",
            "                                                                                                  \n",
            " block_10_depthwise (DepthwiseC  (None, 14, 14, 384)  3456       ['block_10_expand_relu[0][0]']   \n",
            " onv2D)                                                                                           \n",
            "                                                                                                  \n",
            " block_10_depthwise_BN (BatchNo  (None, 14, 14, 384)  1536       ['block_10_depthwise[0][0]']     \n",
            " rmalization)                                                                                     \n",
            "                                                                                                  \n",
            " block_10_depthwise_relu (ReLU)  (None, 14, 14, 384)  0          ['block_10_depthwise_BN[0][0]']  \n",
            "                                                                                                  \n",
            " block_10_project (Conv2D)      (None, 14, 14, 96)   36864       ['block_10_depthwise_relu[0][0]']\n",
            "                                                                                                  \n",
            " block_10_project_BN (BatchNorm  (None, 14, 14, 96)  384         ['block_10_project[0][0]']       \n",
            " alization)                                                                                       \n",
            "                                                                                                  \n",
            " block_11_expand (Conv2D)       (None, 14, 14, 576)  55296       ['block_10_project_BN[0][0]']    \n",
            "                                                                                                  \n",
            " block_11_expand_BN (BatchNorma  (None, 14, 14, 576)  2304       ['block_11_expand[0][0]']        \n",
            " lization)                                                                                        \n",
            "                                                                                                  \n",
            " block_11_expand_relu (ReLU)    (None, 14, 14, 576)  0           ['block_11_expand_BN[0][0]']     \n",
            "                                                                                                  \n",
            " block_11_depthwise (DepthwiseC  (None, 14, 14, 576)  5184       ['block_11_expand_relu[0][0]']   \n",
            " onv2D)                                                                                           \n",
            "                                                                                                  \n",
            " block_11_depthwise_BN (BatchNo  (None, 14, 14, 576)  2304       ['block_11_depthwise[0][0]']     \n",
            " rmalization)                                                                                     \n",
            "                                                                                                  \n",
            " block_11_depthwise_relu (ReLU)  (None, 14, 14, 576)  0          ['block_11_depthwise_BN[0][0]']  \n",
            "                                                                                                  \n",
            " block_11_project (Conv2D)      (None, 14, 14, 96)   55296       ['block_11_depthwise_relu[0][0]']\n",
            "                                                                                                  \n",
            " block_11_project_BN (BatchNorm  (None, 14, 14, 96)  384         ['block_11_project[0][0]']       \n",
            " alization)                                                                                       \n",
            "                                                                                                  \n",
            " block_11_add (Add)             (None, 14, 14, 96)   0           ['block_10_project_BN[0][0]',    \n",
            "                                                                  'block_11_project_BN[0][0]']    \n",
            "                                                                                                  \n",
            " block_12_expand (Conv2D)       (None, 14, 14, 576)  55296       ['block_11_add[0][0]']           \n",
            "                                                                                                  \n",
            " block_12_expand_BN (BatchNorma  (None, 14, 14, 576)  2304       ['block_12_expand[0][0]']        \n",
            " lization)                                                                                        \n",
            "                                                                                                  \n",
            " block_12_expand_relu (ReLU)    (None, 14, 14, 576)  0           ['block_12_expand_BN[0][0]']     \n",
            "                                                                                                  \n",
            " block_12_depthwise (DepthwiseC  (None, 14, 14, 576)  5184       ['block_12_expand_relu[0][0]']   \n",
            " onv2D)                                                                                           \n",
            "                                                                                                  \n",
            " block_12_depthwise_BN (BatchNo  (None, 14, 14, 576)  2304       ['block_12_depthwise[0][0]']     \n",
            " rmalization)                                                                                     \n",
            "                                                                                                  \n",
            " block_12_depthwise_relu (ReLU)  (None, 14, 14, 576)  0          ['block_12_depthwise_BN[0][0]']  \n",
            "                                                                                                  \n",
            " block_12_project (Conv2D)      (None, 14, 14, 96)   55296       ['block_12_depthwise_relu[0][0]']\n",
            "                                                                                                  \n",
            " block_12_project_BN (BatchNorm  (None, 14, 14, 96)  384         ['block_12_project[0][0]']       \n",
            " alization)                                                                                       \n",
            "                                                                                                  \n",
            " block_12_add (Add)             (None, 14, 14, 96)   0           ['block_11_add[0][0]',           \n",
            "                                                                  'block_12_project_BN[0][0]']    \n",
            "                                                                                                  \n",
            " block_13_expand (Conv2D)       (None, 14, 14, 576)  55296       ['block_12_add[0][0]']           \n",
            "                                                                                                  \n",
            " block_13_expand_BN (BatchNorma  (None, 14, 14, 576)  2304       ['block_13_expand[0][0]']        \n",
            " lization)                                                                                        \n",
            "                                                                                                  \n",
            " block_13_expand_relu (ReLU)    (None, 14, 14, 576)  0           ['block_13_expand_BN[0][0]']     \n",
            "                                                                                                  \n",
            " block_13_pad (ZeroPadding2D)   (None, 15, 15, 576)  0           ['block_13_expand_relu[0][0]']   \n",
            "                                                                                                  \n",
            " block_13_depthwise (DepthwiseC  (None, 7, 7, 576)   5184        ['block_13_pad[0][0]']           \n",
            " onv2D)                                                                                           \n",
            "                                                                                                  \n",
            " block_13_depthwise_BN (BatchNo  (None, 7, 7, 576)   2304        ['block_13_depthwise[0][0]']     \n",
            " rmalization)                                                                                     \n",
            "                                                                                                  \n",
            " block_13_depthwise_relu (ReLU)  (None, 7, 7, 576)   0           ['block_13_depthwise_BN[0][0]']  \n",
            "                                                                                                  \n",
            " block_13_project (Conv2D)      (None, 7, 7, 160)    92160       ['block_13_depthwise_relu[0][0]']\n",
            "                                                                                                  \n",
            " block_13_project_BN (BatchNorm  (None, 7, 7, 160)   640         ['block_13_project[0][0]']       \n",
            " alization)                                                                                       \n",
            "                                                                                                  \n",
            " block_14_expand (Conv2D)       (None, 7, 7, 960)    153600      ['block_13_project_BN[0][0]']    \n",
            "                                                                                                  \n",
            " block_14_expand_BN (BatchNorma  (None, 7, 7, 960)   3840        ['block_14_expand[0][0]']        \n",
            " lization)                                                                                        \n",
            "                                                                                                  \n",
            " block_14_expand_relu (ReLU)    (None, 7, 7, 960)    0           ['block_14_expand_BN[0][0]']     \n",
            "                                                                                                  \n",
            " block_14_depthwise (DepthwiseC  (None, 7, 7, 960)   8640        ['block_14_expand_relu[0][0]']   \n",
            " onv2D)                                                                                           \n",
            "                                                                                                  \n",
            " block_14_depthwise_BN (BatchNo  (None, 7, 7, 960)   3840        ['block_14_depthwise[0][0]']     \n",
            " rmalization)                                                                                     \n",
            "                                                                                                  \n",
            " block_14_depthwise_relu (ReLU)  (None, 7, 7, 960)   0           ['block_14_depthwise_BN[0][0]']  \n",
            "                                                                                                  \n",
            " block_14_project (Conv2D)      (None, 7, 7, 160)    153600      ['block_14_depthwise_relu[0][0]']\n",
            "                                                                                                  \n",
            " block_14_project_BN (BatchNorm  (None, 7, 7, 160)   640         ['block_14_project[0][0]']       \n",
            " alization)                                                                                       \n",
            "                                                                                                  \n",
            " block_14_add (Add)             (None, 7, 7, 160)    0           ['block_13_project_BN[0][0]',    \n",
            "                                                                  'block_14_project_BN[0][0]']    \n",
            "                                                                                                  \n",
            " block_15_expand (Conv2D)       (None, 7, 7, 960)    153600      ['block_14_add[0][0]']           \n",
            "                                                                                                  \n",
            " block_15_expand_BN (BatchNorma  (None, 7, 7, 960)   3840        ['block_15_expand[0][0]']        \n",
            " lization)                                                                                        \n",
            "                                                                                                  \n",
            " block_15_expand_relu (ReLU)    (None, 7, 7, 960)    0           ['block_15_expand_BN[0][0]']     \n",
            "                                                                                                  \n",
            " block_15_depthwise (DepthwiseC  (None, 7, 7, 960)   8640        ['block_15_expand_relu[0][0]']   \n",
            " onv2D)                                                                                           \n",
            "                                                                                                  \n",
            " block_15_depthwise_BN (BatchNo  (None, 7, 7, 960)   3840        ['block_15_depthwise[0][0]']     \n",
            " rmalization)                                                                                     \n",
            "                                                                                                  \n",
            " block_15_depthwise_relu (ReLU)  (None, 7, 7, 960)   0           ['block_15_depthwise_BN[0][0]']  \n",
            "                                                                                                  \n",
            " block_15_project (Conv2D)      (None, 7, 7, 160)    153600      ['block_15_depthwise_relu[0][0]']\n",
            "                                                                                                  \n",
            " block_15_project_BN (BatchNorm  (None, 7, 7, 160)   640         ['block_15_project[0][0]']       \n",
            " alization)                                                                                       \n",
            "                                                                                                  \n",
            " block_15_add (Add)             (None, 7, 7, 160)    0           ['block_14_add[0][0]',           \n",
            "                                                                  'block_15_project_BN[0][0]']    \n",
            "                                                                                                  \n",
            " block_16_expand (Conv2D)       (None, 7, 7, 960)    153600      ['block_15_add[0][0]']           \n",
            "                                                                                                  \n",
            " block_16_expand_BN (BatchNorma  (None, 7, 7, 960)   3840        ['block_16_expand[0][0]']        \n",
            " lization)                                                                                        \n",
            "                                                                                                  \n",
            " block_16_expand_relu (ReLU)    (None, 7, 7, 960)    0           ['block_16_expand_BN[0][0]']     \n",
            "                                                                                                  \n",
            " block_16_depthwise (DepthwiseC  (None, 7, 7, 960)   8640        ['block_16_expand_relu[0][0]']   \n",
            " onv2D)                                                                                           \n",
            "                                                                                                  \n",
            " block_16_depthwise_BN (BatchNo  (None, 7, 7, 960)   3840        ['block_16_depthwise[0][0]']     \n",
            " rmalization)                                                                                     \n",
            "                                                                                                  \n",
            " block_16_depthwise_relu (ReLU)  (None, 7, 7, 960)   0           ['block_16_depthwise_BN[0][0]']  \n",
            "                                                                                                  \n",
            " block_16_project (Conv2D)      (None, 7, 7, 320)    307200      ['block_16_depthwise_relu[0][0]']\n",
            "                                                                                                  \n",
            " block_16_project_BN (BatchNorm  (None, 7, 7, 320)   1280        ['block_16_project[0][0]']       \n",
            " alization)                                                                                       \n",
            "                                                                                                  \n",
            " Conv_1 (Conv2D)                (None, 7, 7, 1280)   409600      ['block_16_project_BN[0][0]']    \n",
            "                                                                                                  \n",
            " Conv_1_bn (BatchNormalization)  (None, 7, 7, 1280)  5120        ['Conv_1[0][0]']                 \n",
            "                                                                                                  \n",
            " out_relu (ReLU)                (None, 7, 7, 1280)   0           ['Conv_1_bn[0][0]']              \n",
            "                                                                                                  \n",
            "==================================================================================================\n",
            "Total params: 2,257,984\n",
            "Trainable params: 2,223,872\n",
            "Non-trainable params: 34,112\n",
            "__________________________________________________________________________________________________\n"
          ]
        }
      ],
      "source": [
        "conv_base.summary()\n"
      ]
    },
    {
      "cell_type": "markdown",
      "metadata": {
        "id": "vVx8qd9U-6Jt"
      },
      "source": [
        "We will add a dense layer after our conv_base NN"
      ]
    },
    {
      "cell_type": "code",
      "execution_count": 36,
      "metadata": {
        "id": "NwbCTdFB-6Jt"
      },
      "outputs": [],
      "source": [
        "from keras import models\n",
        "from keras import layers\n",
        "from keras.regularizers import l2, l1\n",
        "from keras.layers import Dense, Flatten, Dropout, BatchNormalization, AveragePooling2D\n",
        "\n",
        "modelPreTMob = models.Sequential()\n",
        "modelPreTMob.add(conv_base)\n",
        "\n",
        "modelPreTMob.add(layers.AveragePooling2D())\n",
        "modelPreTMob.add(layers.Flatten())\n",
        "modelPreTMob.add(layers.Dense(256, activation='relu', kernel_regularizer=l2(0.01)))\n",
        "modelPreTMob.add(BatchNormalization())\n",
        "modelPreTMob.add(layers.Dropout(TrainingConfig.DROPOUT))\n",
        "modelPreTMob.add(layers.Dense(1, activation='sigmoid'))"
      ]
    },
    {
      "cell_type": "code",
      "execution_count": 37,
      "metadata": {
        "colab": {
          "base_uri": "https://localhost:8080/"
        },
        "id": "ULwwwLKQ-6Jt",
        "outputId": "bca81ce0-c589-438d-d7f7-ddc78c5df1fe"
      },
      "outputs": [
        {
          "name": "stdout",
          "output_type": "stream",
          "text": [
            "Model: \"sequential\"\n",
            "_________________________________________________________________\n",
            " Layer (type)                Output Shape              Param #   \n",
            "=================================================================\n",
            " mobilenetv2_1.00_224 (Funct  (None, 7, 7, 1280)       2257984   \n",
            " ional)                                                          \n",
            "                                                                 \n",
            " average_pooling2d (AverageP  (None, 3, 3, 1280)       0         \n",
            " ooling2D)                                                       \n",
            "                                                                 \n",
            " flatten (Flatten)           (None, 11520)             0         \n",
            "                                                                 \n",
            " dense (Dense)               (None, 256)               2949376   \n",
            "                                                                 \n",
            " batch_normalization (BatchN  (None, 256)              1024      \n",
            " ormalization)                                                   \n",
            "                                                                 \n",
            " dropout (Dropout)           (None, 256)               0         \n",
            "                                                                 \n",
            " dense_1 (Dense)             (None, 1)                 257       \n",
            "                                                                 \n",
            "=================================================================\n",
            "Total params: 5,208,641\n",
            "Trainable params: 5,174,017\n",
            "Non-trainable params: 34,624\n",
            "_________________________________________________________________\n"
          ]
        }
      ],
      "source": [
        "modelPreTMob.summary()"
      ]
    },
    {
      "cell_type": "code",
      "execution_count": 38,
      "metadata": {},
      "outputs": [
        {
          "name": "stdout",
          "output_type": "stream",
          "text": [
            "0 input_1 True\n",
            "1 Conv1 True\n",
            "2 bn_Conv1 True\n",
            "3 Conv1_relu True\n",
            "4 expanded_conv_depthwise True\n",
            "5 expanded_conv_depthwise_BN True\n",
            "6 expanded_conv_depthwise_relu True\n",
            "7 expanded_conv_project True\n",
            "8 expanded_conv_project_BN True\n",
            "9 block_1_expand True\n",
            "10 block_1_expand_BN True\n",
            "11 block_1_expand_relu True\n",
            "12 block_1_pad True\n",
            "13 block_1_depthwise True\n",
            "14 block_1_depthwise_BN True\n",
            "15 block_1_depthwise_relu True\n",
            "16 block_1_project True\n",
            "17 block_1_project_BN True\n",
            "18 block_2_expand True\n",
            "19 block_2_expand_BN True\n",
            "20 block_2_expand_relu True\n",
            "21 block_2_depthwise True\n",
            "22 block_2_depthwise_BN True\n",
            "23 block_2_depthwise_relu True\n",
            "24 block_2_project True\n",
            "25 block_2_project_BN True\n",
            "26 block_2_add True\n",
            "27 block_3_expand True\n",
            "28 block_3_expand_BN True\n",
            "29 block_3_expand_relu True\n",
            "30 block_3_pad True\n",
            "31 block_3_depthwise True\n",
            "32 block_3_depthwise_BN True\n",
            "33 block_3_depthwise_relu True\n",
            "34 block_3_project True\n",
            "35 block_3_project_BN True\n",
            "36 block_4_expand True\n",
            "37 block_4_expand_BN True\n",
            "38 block_4_expand_relu True\n",
            "39 block_4_depthwise True\n",
            "40 block_4_depthwise_BN True\n",
            "41 block_4_depthwise_relu True\n",
            "42 block_4_project True\n",
            "43 block_4_project_BN True\n",
            "44 block_4_add True\n",
            "45 block_5_expand True\n",
            "46 block_5_expand_BN True\n",
            "47 block_5_expand_relu True\n",
            "48 block_5_depthwise True\n",
            "49 block_5_depthwise_BN True\n",
            "50 block_5_depthwise_relu True\n",
            "51 block_5_project True\n",
            "52 block_5_project_BN True\n",
            "53 block_5_add True\n",
            "54 block_6_expand True\n",
            "55 block_6_expand_BN True\n",
            "56 block_6_expand_relu True\n",
            "57 block_6_pad True\n",
            "58 block_6_depthwise True\n",
            "59 block_6_depthwise_BN True\n",
            "60 block_6_depthwise_relu True\n",
            "61 block_6_project True\n",
            "62 block_6_project_BN True\n",
            "63 block_7_expand True\n",
            "64 block_7_expand_BN True\n",
            "65 block_7_expand_relu True\n",
            "66 block_7_depthwise True\n",
            "67 block_7_depthwise_BN True\n",
            "68 block_7_depthwise_relu True\n",
            "69 block_7_project True\n",
            "70 block_7_project_BN True\n",
            "71 block_7_add True\n",
            "72 block_8_expand True\n",
            "73 block_8_expand_BN True\n",
            "74 block_8_expand_relu True\n",
            "75 block_8_depthwise True\n",
            "76 block_8_depthwise_BN True\n",
            "77 block_8_depthwise_relu True\n",
            "78 block_8_project True\n",
            "79 block_8_project_BN True\n",
            "80 block_8_add True\n",
            "81 block_9_expand True\n",
            "82 block_9_expand_BN True\n",
            "83 block_9_expand_relu True\n",
            "84 block_9_depthwise True\n",
            "85 block_9_depthwise_BN True\n",
            "86 block_9_depthwise_relu True\n",
            "87 block_9_project True\n",
            "88 block_9_project_BN True\n",
            "89 block_9_add True\n",
            "90 block_10_expand True\n",
            "91 block_10_expand_BN True\n",
            "92 block_10_expand_relu True\n",
            "93 block_10_depthwise True\n",
            "94 block_10_depthwise_BN True\n",
            "95 block_10_depthwise_relu True\n",
            "96 block_10_project True\n",
            "97 block_10_project_BN True\n",
            "98 block_11_expand True\n",
            "99 block_11_expand_BN True\n",
            "100 block_11_expand_relu True\n",
            "101 block_11_depthwise True\n",
            "102 block_11_depthwise_BN True\n",
            "103 block_11_depthwise_relu True\n",
            "104 block_11_project True\n",
            "105 block_11_project_BN True\n",
            "106 block_11_add True\n",
            "107 block_12_expand True\n",
            "108 block_12_expand_BN True\n",
            "109 block_12_expand_relu True\n",
            "110 block_12_depthwise True\n",
            "111 block_12_depthwise_BN True\n",
            "112 block_12_depthwise_relu True\n",
            "113 block_12_project True\n",
            "114 block_12_project_BN True\n",
            "115 block_12_add True\n",
            "116 block_13_expand True\n",
            "117 block_13_expand_BN True\n",
            "118 block_13_expand_relu True\n",
            "119 block_13_pad True\n",
            "120 block_13_depthwise True\n",
            "121 block_13_depthwise_BN True\n",
            "122 block_13_depthwise_relu True\n",
            "123 block_13_project True\n",
            "124 block_13_project_BN True\n",
            "125 block_14_expand True\n",
            "126 block_14_expand_BN True\n",
            "127 block_14_expand_relu True\n",
            "128 block_14_depthwise True\n",
            "129 block_14_depthwise_BN True\n",
            "130 block_14_depthwise_relu True\n",
            "131 block_14_project True\n",
            "132 block_14_project_BN True\n",
            "133 block_14_add True\n",
            "134 block_15_expand True\n",
            "135 block_15_expand_BN True\n",
            "136 block_15_expand_relu True\n",
            "137 block_15_depthwise True\n",
            "138 block_15_depthwise_BN True\n",
            "139 block_15_depthwise_relu True\n",
            "140 block_15_project True\n",
            "141 block_15_project_BN True\n",
            "142 block_15_add True\n",
            "143 block_16_expand True\n",
            "144 block_16_expand_BN True\n",
            "145 block_16_expand_relu True\n",
            "146 block_16_depthwise True\n",
            "147 block_16_depthwise_BN True\n",
            "148 block_16_depthwise_relu True\n",
            "149 block_16_project True\n",
            "150 block_16_project_BN True\n",
            "151 Conv_1 True\n",
            "152 Conv_1_bn True\n",
            "153 out_relu True\n"
          ]
        }
      ],
      "source": [
        "for i, layer in enumerate(conv_base.layers):\n",
        "   print(i, layer.name, layer.trainable)"
      ]
    },
    {
      "cell_type": "code",
      "execution_count": 39,
      "metadata": {},
      "outputs": [],
      "source": [
        "# Specify the number of layers to fine tune at the end of the convolutional base.\n",
        "num_layers_fine_tune = TrainingConfig.LAYERS_FINE_TUNE\n",
        "num_layers = len(conv_base.layers)"
      ]
    },
    {
      "cell_type": "code",
      "execution_count": 40,
      "metadata": {
        "colab": {
          "base_uri": "https://localhost:8080/"
        },
        "id": "kkg5O_dq-6Jt",
        "outputId": "0b8e8703-9f13-4415-d6a7-fc5af46bc1eb"
      },
      "outputs": [
        {
          "name": "stdout",
          "output_type": "stream",
          "text": [
            "This is the number of trainable weights before freezing the conv base: 162\n"
          ]
        }
      ],
      "source": [
        "print('This is the number of trainable weights '\n",
        "      'before freezing the conv base:', len(modelPreTMob.trainable_weights))"
      ]
    },
    {
      "cell_type": "code",
      "execution_count": 41,
      "metadata": {},
      "outputs": [
        {
          "name": "stdout",
          "output_type": "stream",
          "text": [
            "FREEZING LAYER: <keras.engine.input_layer.InputLayer object at 0x0000018866D3DEE0>\n",
            "FREEZING LAYER: <keras.layers.convolutional.conv2d.Conv2D object at 0x0000018866D52AC0>\n",
            "FREEZING LAYER: <keras.layers.normalization.batch_normalization.BatchNormalization object at 0x0000018866D67580>\n",
            "FREEZING LAYER: <keras.layers.activation.relu.ReLU object at 0x0000018866D67730>\n",
            "FREEZING LAYER: <keras.layers.convolutional.depthwise_conv2d.DepthwiseConv2D object at 0x0000018866D6E310>\n",
            "FREEZING LAYER: <keras.layers.normalization.batch_normalization.BatchNormalization object at 0x0000018866D7B340>\n",
            "FREEZING LAYER: <keras.layers.activation.relu.ReLU object at 0x0000018866D771F0>\n",
            "FREEZING LAYER: <keras.layers.convolutional.conv2d.Conv2D object at 0x0000018866D7B8E0>\n",
            "FREEZING LAYER: <keras.layers.normalization.batch_normalization.BatchNormalization object at 0x000001886CDC7F70>\n",
            "FREEZING LAYER: <keras.layers.convolutional.conv2d.Conv2D object at 0x0000018866D6E520>\n",
            "FREEZING LAYER: <keras.layers.normalization.batch_normalization.BatchNormalization object at 0x000001886CDD89D0>\n",
            "FREEZING LAYER: <keras.layers.activation.relu.ReLU object at 0x000001886CDD8460>\n",
            "FREEZING LAYER: <keras.layers.reshaping.zero_padding2d.ZeroPadding2D object at 0x000001886CDE4340>\n",
            "FREEZING LAYER: <keras.layers.convolutional.depthwise_conv2d.DepthwiseConv2D object at 0x000001886CDDEC70>\n",
            "FREEZING LAYER: <keras.layers.normalization.batch_normalization.BatchNormalization object at 0x000001886CDE8670>\n",
            "FREEZING LAYER: <keras.layers.activation.relu.ReLU object at 0x000001886CDED8E0>\n",
            "FREEZING LAYER: <keras.layers.convolutional.conv2d.Conv2D object at 0x000001886CDEDEB0>\n",
            "FREEZING LAYER: <keras.layers.normalization.batch_normalization.BatchNormalization object at 0x000001886CDDEB50>\n",
            "FREEZING LAYER: <keras.layers.convolutional.conv2d.Conv2D object at 0x000001888CE146A0>\n",
            "FREEZING LAYER: <keras.layers.normalization.batch_normalization.BatchNormalization object at 0x000001888CE0E3D0>\n",
            "FREEZING LAYER: <keras.layers.activation.relu.ReLU object at 0x000001888CE0EB50>\n",
            "FREEZING LAYER: <keras.layers.convolutional.depthwise_conv2d.DepthwiseConv2D object at 0x000001888CE22250>\n",
            "FREEZING LAYER: <keras.layers.normalization.batch_normalization.BatchNormalization object at 0x000001888CE22D30>\n",
            "FREEZING LAYER: <keras.layers.activation.relu.ReLU object at 0x000001888CE22D60>\n",
            "FREEZING LAYER: <keras.layers.convolutional.conv2d.Conv2D object at 0x000001888CE278B0>\n",
            "FREEZING LAYER: <keras.layers.normalization.batch_normalization.BatchNormalization object at 0x000001888CE2C340>\n",
            "FREEZING LAYER: <keras.layers.merging.add.Add object at 0x000001888CE27340>\n",
            "FREEZING LAYER: <keras.layers.convolutional.conv2d.Conv2D object at 0x000001888CE22700>\n",
            "FREEZING LAYER: <keras.layers.normalization.batch_normalization.BatchNormalization object at 0x000001888CE28AC0>\n",
            "FREEZING LAYER: <keras.layers.activation.relu.ReLU object at 0x000001888CE22760>\n",
            "FREEZING LAYER: <keras.layers.reshaping.zero_padding2d.ZeroPadding2D object at 0x000001888CE27280>\n",
            "FREEZING LAYER: <keras.layers.convolutional.depthwise_conv2d.DepthwiseConv2D object at 0x000001888CE42310>\n",
            "FREEZING LAYER: <keras.layers.normalization.batch_normalization.BatchNormalization object at 0x000001888CE42A00>\n",
            "FREEZING LAYER: <keras.layers.activation.relu.ReLU object at 0x000001888CE42E80>\n",
            "FREEZING LAYER: <keras.layers.convolutional.conv2d.Conv2D object at 0x000001888CE4CD60>\n",
            "FREEZING LAYER: <keras.layers.normalization.batch_normalization.BatchNormalization object at 0x000001888CE50A00>\n",
            "FREEZING LAYER: <keras.layers.convolutional.conv2d.Conv2D object at 0x000001888CE3DBB0>\n",
            "FREEZING LAYER: <keras.layers.normalization.batch_normalization.BatchNormalization object at 0x000001888CE1C790>\n",
            "FREEZING LAYER: <keras.layers.activation.relu.ReLU object at 0x000001888CE07970>\n",
            "FREEZING LAYER: <keras.layers.convolutional.depthwise_conv2d.DepthwiseConv2D object at 0x000001886CDED580>\n",
            "FREEZING LAYER: <keras.layers.normalization.batch_normalization.BatchNormalization object at 0x000001886CDD8AF0>\n",
            "FREEZING LAYER: <keras.layers.activation.relu.ReLU object at 0x0000018866D6EB20>\n",
            "FREEZING LAYER: <keras.layers.convolutional.conv2d.Conv2D object at 0x0000018866D77610>\n",
            "FREEZING LAYER: <keras.layers.normalization.batch_normalization.BatchNormalization object at 0x000001888CE22FA0>\n",
            "FREEZING LAYER: <keras.layers.merging.add.Add object at 0x000001888CE4D550>\n",
            "FREEZING LAYER: <keras.layers.convolutional.conv2d.Conv2D object at 0x000001888CE4D850>\n",
            "FREEZING LAYER: <keras.layers.normalization.batch_normalization.BatchNormalization object at 0x000001888CE5C040>\n",
            "FREEZING LAYER: <keras.layers.activation.relu.ReLU object at 0x000001888CE5F5E0>\n",
            "FREEZING LAYER: <keras.layers.convolutional.depthwise_conv2d.DepthwiseConv2D object at 0x000001888CE5C520>\n",
            "FREEZING LAYER: <keras.layers.normalization.batch_normalization.BatchNormalization object at 0x000001888CE648E0>\n",
            "FREEZING LAYER: <keras.layers.activation.relu.ReLU object at 0x000001888CE717C0>\n",
            "FREEZING LAYER: <keras.layers.convolutional.conv2d.Conv2D object at 0x000001888CE719A0>\n",
            "FREEZING LAYER: <keras.layers.normalization.batch_normalization.BatchNormalization object at 0x000001888CE5C9A0>\n",
            "FREEZING LAYER: <keras.layers.merging.add.Add object at 0x000001888CE7C160>\n",
            "FREEZING LAYER: <keras.layers.convolutional.conv2d.Conv2D object at 0x000001888CE7C0D0>\n",
            "FREEZING LAYER: <keras.layers.normalization.batch_normalization.BatchNormalization object at 0x000001888CE71D60>\n",
            "FREEZING LAYER: <keras.layers.activation.relu.ReLU object at 0x000001888CE77970>\n",
            "FREEZING LAYER: <keras.layers.reshaping.zero_padding2d.ZeroPadding2D object at 0x000001888CE87520>\n",
            "FREEZING LAYER: <keras.layers.convolutional.depthwise_conv2d.DepthwiseConv2D object at 0x000001888CE71B50>\n",
            "FREEZING LAYER: <keras.layers.normalization.batch_normalization.BatchNormalization object at 0x000001888CE90D60>\n",
            "FREEZING LAYER: <keras.layers.activation.relu.ReLU object at 0x000001888CE98EB0>\n",
            "FREEZING LAYER: <keras.layers.convolutional.conv2d.Conv2D object at 0x000001888CE90BB0>\n",
            "FREEZING LAYER: <keras.layers.normalization.batch_normalization.BatchNormalization object at 0x000001888CE9E6A0>\n",
            "FREEZING LAYER: <keras.layers.convolutional.conv2d.Conv2D object at 0x000001888CEA4D30>\n",
            "FREEZING LAYER: <keras.layers.normalization.batch_normalization.BatchNormalization object at 0x000001888CEA4E80>\n",
            "FREEZING LAYER: <keras.layers.activation.relu.ReLU object at 0x000001888CEA4C10>\n",
            "FREEZING LAYER: <keras.layers.convolutional.depthwise_conv2d.DepthwiseConv2D object at 0x000001888CEB7370>\n",
            "FREEZING LAYER: <keras.layers.normalization.batch_normalization.BatchNormalization object at 0x000001888CEB78B0>\n",
            "FREEZING LAYER: <keras.layers.activation.relu.ReLU object at 0x000001888CEB7970>\n",
            "FREEZING LAYER: <keras.layers.convolutional.conv2d.Conv2D object at 0x000001888CEC19D0>\n",
            "FREEZING LAYER: <keras.layers.normalization.batch_normalization.BatchNormalization object at 0x000001888CEC5460>\n",
            "FREEZING LAYER: <keras.layers.merging.add.Add object at 0x000001888CEC1490>\n",
            "FREEZING LAYER: <keras.layers.convolutional.conv2d.Conv2D object at 0x000001888CEB7C40>\n",
            "FREEZING LAYER: <keras.layers.normalization.batch_normalization.BatchNormalization object at 0x000001888CEC0EB0>\n",
            "FREEZING LAYER: <keras.layers.activation.relu.ReLU object at 0x000001888CEC1430>\n",
            "FREEZING LAYER: <keras.layers.convolutional.depthwise_conv2d.DepthwiseConv2D object at 0x000001888CECA160>\n",
            "FREEZING LAYER: <keras.layers.normalization.batch_normalization.BatchNormalization object at 0x000001888CE7FD00>\n",
            "FREEZING LAYER: <keras.layers.activation.relu.ReLU object at 0x000001888CE87D00>\n",
            "FREEZING LAYER: <keras.layers.convolutional.conv2d.Conv2D object at 0x000001888CEC16A0>\n",
            "FREEZING LAYER: <keras.layers.normalization.batch_normalization.BatchNormalization object at 0x000001888CE5C6A0>\n",
            "FREEZING LAYER: <keras.layers.merging.add.Add object at 0x000001888CE5CF40>\n",
            "FREEZING LAYER: <keras.layers.convolutional.conv2d.Conv2D object at 0x000001888CE45220>\n",
            "FREEZING LAYER: <keras.layers.normalization.batch_normalization.BatchNormalization object at 0x0000018866D67BB0>\n",
            "FREEZING LAYER: <keras.layers.activation.relu.ReLU object at 0x0000018866D6E9A0>\n",
            "FREEZING LAYER: <keras.layers.convolutional.depthwise_conv2d.DepthwiseConv2D object at 0x000001888CED6190>\n",
            "FREEZING LAYER: <keras.layers.normalization.batch_normalization.BatchNormalization object at 0x000001888CEDA670>\n",
            "FREEZING LAYER: <keras.layers.activation.relu.ReLU object at 0x000001888CEDA220>\n",
            "FREEZING LAYER: <keras.layers.convolutional.conv2d.Conv2D object at 0x000001888CED8DF0>\n",
            "FREEZING LAYER: <keras.layers.normalization.batch_normalization.BatchNormalization object at 0x000001888CEDD730>\n",
            "FREEZING LAYER: <keras.layers.merging.add.Add object at 0x000001888CEDA940>\n",
            "FREEZING LAYER: <keras.layers.convolutional.conv2d.Conv2D object at 0x000001888CEDBB50>\n",
            "FREEZING LAYER: <keras.layers.normalization.batch_normalization.BatchNormalization object at 0x000001888CEE6640>\n",
            "FREEZING LAYER: <keras.layers.activation.relu.ReLU object at 0x000001888CEDBD90>\n",
            "FREEZING LAYER: <keras.layers.convolutional.depthwise_conv2d.DepthwiseConv2D object at 0x000001888CEE1CD0>\n",
            "FREEZING LAYER: <keras.layers.normalization.batch_normalization.BatchNormalization object at 0x000001888CEF0580>\n",
            "FREEZING LAYER: <keras.layers.activation.relu.ReLU object at 0x000001888CEE6FA0>\n",
            "FREEZING LAYER: <keras.layers.convolutional.conv2d.Conv2D object at 0x000001888CEEB5E0>\n",
            "FREEZING LAYER: <keras.layers.normalization.batch_normalization.BatchNormalization object at 0x000001888CEFE640>\n",
            "FREEZING LAYER: <keras.layers.convolutional.conv2d.Conv2D object at 0x000001888CEEBFA0>\n",
            "FREEZING LAYER: <keras.layers.normalization.batch_normalization.BatchNormalization object at 0x00000188978041F0>\n",
            "FREEZING LAYER: <keras.layers.activation.relu.ReLU object at 0x00000188978066D0>\n",
            "FREEZING LAYER: <keras.layers.convolutional.depthwise_conv2d.DepthwiseConv2D object at 0x0000018897806D90>\n",
            "FREEZING LAYER: <keras.layers.normalization.batch_normalization.BatchNormalization object at 0x0000018897812790>\n",
            "FREEZING LAYER: <keras.layers.activation.relu.ReLU object at 0x0000018897816820>\n",
            "FREEZING LAYER: <keras.layers.convolutional.conv2d.Conv2D object at 0x0000018897816E20>\n",
            "FREEZING LAYER: <keras.layers.normalization.batch_normalization.BatchNormalization object at 0x000001889781F550>\n",
            "FREEZING LAYER: <keras.layers.merging.add.Add object at 0x0000018897821940>\n",
            "FREEZING LAYER: <keras.layers.convolutional.conv2d.Conv2D object at 0x000001889781FD30>\n",
            "FREEZING LAYER: <keras.layers.normalization.batch_normalization.BatchNormalization object at 0x0000018897827850>\n",
            "FREEZING LAYER: <keras.layers.activation.relu.ReLU object at 0x000001889783A970>\n",
            "FREEZING LAYER: <keras.layers.convolutional.depthwise_conv2d.DepthwiseConv2D object at 0x000001889783A0A0>\n",
            "FREEZING LAYER: <keras.layers.normalization.batch_normalization.BatchNormalization object at 0x0000018897821880>\n",
            "FREEZING LAYER: <keras.layers.activation.relu.ReLU object at 0x0000018897804730>\n",
            "FREEZING LAYER: <keras.layers.convolutional.conv2d.Conv2D object at 0x0000018897806400>\n",
            "FREEZING LAYER: <keras.layers.normalization.batch_normalization.BatchNormalization object at 0x0000018897816D00>\n",
            "FREEZING LAYER: <keras.layers.merging.add.Add object at 0x0000018897806610>\n",
            "FREEZING LAYER: <keras.layers.convolutional.conv2d.Conv2D object at 0x000001886CDC72B0>\n",
            "FREEZING LAYER: <keras.layers.normalization.batch_normalization.BatchNormalization object at 0x000001889783ACD0>\n",
            "FREEZING LAYER: <keras.layers.activation.relu.ReLU object at 0x0000018897840130>\n",
            "FREEZING LAYER: <keras.layers.reshaping.zero_padding2d.ZeroPadding2D object at 0x0000018897840BB0>\n",
            "FREEZING LAYER: <keras.layers.convolutional.depthwise_conv2d.DepthwiseConv2D object at 0x000001889783AD00>\n",
            "FREEZING LAYER: <keras.layers.normalization.batch_normalization.BatchNormalization object at 0x0000018897843F10>\n",
            "FREEZING LAYER: <keras.layers.activation.relu.ReLU object at 0x0000018897845FA0>\n",
            "FREEZING LAYER: <keras.layers.convolutional.conv2d.Conv2D object at 0x0000018897843400>\n",
            "FREEZING LAYER: <keras.layers.normalization.batch_normalization.BatchNormalization object at 0x000001889784C850>\n",
            "FREEZING LAYER: <keras.layers.convolutional.conv2d.Conv2D object at 0x0000018897850EE0>\n",
            "FREEZING LAYER: <keras.layers.normalization.batch_normalization.BatchNormalization object at 0x0000018897843190>\n",
            "FREEZING LAYER: <keras.layers.activation.relu.ReLU object at 0x0000018897843490>\n",
            "FREEZING LAYER: <keras.layers.convolutional.depthwise_conv2d.DepthwiseConv2D object at 0x000001889783E040>\n",
            "FREEZING LAYER: <keras.layers.normalization.batch_normalization.BatchNormalization object at 0x00000188978558B0>\n",
            "FREEZING LAYER: <keras.layers.activation.relu.ReLU object at 0x000001889784CF40>\n",
            "FREEZING LAYER: <keras.layers.convolutional.conv2d.Conv2D object at 0x000001889786E580>\n",
            "FREEZING LAYER: <keras.layers.normalization.batch_normalization.BatchNormalization object at 0x0000018897867D00>\n",
            "FREEZING LAYER: <keras.layers.merging.add.Add object at 0x0000018897867670>\n",
            "FREEZING LAYER: <keras.layers.convolutional.conv2d.Conv2D object at 0x0000018897874E80>\n",
            "FREEZING LAYER: <keras.layers.normalization.batch_normalization.BatchNormalization object at 0x000001889787CE80>\n",
            "FREEZING LAYER: <keras.layers.activation.relu.ReLU object at 0x00000188978744F0>\n",
            "FREEZING LAYER: <keras.layers.convolutional.depthwise_conv2d.DepthwiseConv2D object at 0x000001889786ED30>\n",
            "FREEZING LAYER: <keras.layers.normalization.batch_normalization.BatchNormalization object at 0x0000018897886C10>\n",
            "FREEZING LAYER: <keras.layers.activation.relu.ReLU object at 0x0000018897886C40>\n",
            "FREEZING LAYER: <keras.layers.convolutional.conv2d.Conv2D object at 0x000001889788EAC0>\n",
            "FREEZING LAYER: <keras.layers.normalization.batch_normalization.BatchNormalization object at 0x0000018897892F70>\n",
            "FREEZING LAYER: <keras.layers.merging.add.Add object at 0x0000018897892CD0>\n",
            "FREEZING LAYER: <keras.layers.convolutional.conv2d.Conv2D object at 0x0000018897883D60>\n",
            "FREEZING LAYER: <keras.layers.normalization.batch_normalization.BatchNormalization object at 0x000001889789F550>\n",
            "FREEZING LAYER: <keras.layers.activation.relu.ReLU object at 0x0000018897883970>\n",
            "FREEZING LAYER: <keras.layers.convolutional.depthwise_conv2d.DepthwiseConv2D object at 0x000001889788E2B0>\n",
            "FREEZING LAYER: <keras.layers.normalization.batch_normalization.BatchNormalization object at 0x00000188978ACB50>\n",
            "FREEZING LAYER: <keras.layers.activation.relu.ReLU object at 0x000001889789A4F0>\n",
            "FREEZING LAYER: <keras.layers.convolutional.conv2d.Conv2D object at 0x00000188978A7CA0>\n",
            "FREEZING LAYER: <keras.layers.normalization.batch_normalization.BatchNormalization object at 0x000001889785DA60>\n",
            "FREEZING LAYER: <keras.layers.convolutional.conv2d.Conv2D object at 0x0000018897892E50>\n",
            "FREEZING LAYER: <keras.layers.normalization.batch_normalization.BatchNormalization object at 0x000001889785D880>\n",
            "FREEZING LAYER: <keras.layers.activation.relu.ReLU object at 0x000001885E4FF1F0>\n"
          ]
        }
      ],
      "source": [
        "# Freeze the initial layers in the convolutional base.\n",
        "for model_layer in conv_base.layers[:num_layers - num_layers_fine_tune]:\n",
        "    print(f\"FREEZING LAYER: {model_layer}\")\n",
        "    model_layer.trainable = False"
      ]
    },
    {
      "cell_type": "code",
      "execution_count": 42,
      "metadata": {},
      "outputs": [
        {
          "name": "stdout",
          "output_type": "stream",
          "text": [
            "0 input_1 False\n",
            "1 Conv1 False\n",
            "2 bn_Conv1 False\n",
            "3 Conv1_relu False\n",
            "4 expanded_conv_depthwise False\n",
            "5 expanded_conv_depthwise_BN False\n",
            "6 expanded_conv_depthwise_relu False\n",
            "7 expanded_conv_project False\n",
            "8 expanded_conv_project_BN False\n",
            "9 block_1_expand False\n",
            "10 block_1_expand_BN False\n",
            "11 block_1_expand_relu False\n",
            "12 block_1_pad False\n",
            "13 block_1_depthwise False\n",
            "14 block_1_depthwise_BN False\n",
            "15 block_1_depthwise_relu False\n",
            "16 block_1_project False\n",
            "17 block_1_project_BN False\n",
            "18 block_2_expand False\n",
            "19 block_2_expand_BN False\n",
            "20 block_2_expand_relu False\n",
            "21 block_2_depthwise False\n",
            "22 block_2_depthwise_BN False\n",
            "23 block_2_depthwise_relu False\n",
            "24 block_2_project False\n",
            "25 block_2_project_BN False\n",
            "26 block_2_add False\n",
            "27 block_3_expand False\n",
            "28 block_3_expand_BN False\n",
            "29 block_3_expand_relu False\n",
            "30 block_3_pad False\n",
            "31 block_3_depthwise False\n",
            "32 block_3_depthwise_BN False\n",
            "33 block_3_depthwise_relu False\n",
            "34 block_3_project False\n",
            "35 block_3_project_BN False\n",
            "36 block_4_expand False\n",
            "37 block_4_expand_BN False\n",
            "38 block_4_expand_relu False\n",
            "39 block_4_depthwise False\n",
            "40 block_4_depthwise_BN False\n",
            "41 block_4_depthwise_relu False\n",
            "42 block_4_project False\n",
            "43 block_4_project_BN False\n",
            "44 block_4_add False\n",
            "45 block_5_expand False\n",
            "46 block_5_expand_BN False\n",
            "47 block_5_expand_relu False\n",
            "48 block_5_depthwise False\n",
            "49 block_5_depthwise_BN False\n",
            "50 block_5_depthwise_relu False\n",
            "51 block_5_project False\n",
            "52 block_5_project_BN False\n",
            "53 block_5_add False\n",
            "54 block_6_expand False\n",
            "55 block_6_expand_BN False\n",
            "56 block_6_expand_relu False\n",
            "57 block_6_pad False\n",
            "58 block_6_depthwise False\n",
            "59 block_6_depthwise_BN False\n",
            "60 block_6_depthwise_relu False\n",
            "61 block_6_project False\n",
            "62 block_6_project_BN False\n",
            "63 block_7_expand False\n",
            "64 block_7_expand_BN False\n",
            "65 block_7_expand_relu False\n",
            "66 block_7_depthwise False\n",
            "67 block_7_depthwise_BN False\n",
            "68 block_7_depthwise_relu False\n",
            "69 block_7_project False\n",
            "70 block_7_project_BN False\n",
            "71 block_7_add False\n",
            "72 block_8_expand False\n",
            "73 block_8_expand_BN False\n",
            "74 block_8_expand_relu False\n",
            "75 block_8_depthwise False\n",
            "76 block_8_depthwise_BN False\n",
            "77 block_8_depthwise_relu False\n",
            "78 block_8_project False\n",
            "79 block_8_project_BN False\n",
            "80 block_8_add False\n",
            "81 block_9_expand False\n",
            "82 block_9_expand_BN False\n",
            "83 block_9_expand_relu False\n",
            "84 block_9_depthwise False\n",
            "85 block_9_depthwise_BN False\n",
            "86 block_9_depthwise_relu False\n",
            "87 block_9_project False\n",
            "88 block_9_project_BN False\n",
            "89 block_9_add False\n",
            "90 block_10_expand False\n",
            "91 block_10_expand_BN False\n",
            "92 block_10_expand_relu False\n",
            "93 block_10_depthwise False\n",
            "94 block_10_depthwise_BN False\n",
            "95 block_10_depthwise_relu False\n",
            "96 block_10_project False\n",
            "97 block_10_project_BN False\n",
            "98 block_11_expand False\n",
            "99 block_11_expand_BN False\n",
            "100 block_11_expand_relu False\n",
            "101 block_11_depthwise False\n",
            "102 block_11_depthwise_BN False\n",
            "103 block_11_depthwise_relu False\n",
            "104 block_11_project False\n",
            "105 block_11_project_BN False\n",
            "106 block_11_add False\n",
            "107 block_12_expand False\n",
            "108 block_12_expand_BN False\n",
            "109 block_12_expand_relu False\n",
            "110 block_12_depthwise False\n",
            "111 block_12_depthwise_BN False\n",
            "112 block_12_depthwise_relu False\n",
            "113 block_12_project False\n",
            "114 block_12_project_BN False\n",
            "115 block_12_add False\n",
            "116 block_13_expand False\n",
            "117 block_13_expand_BN False\n",
            "118 block_13_expand_relu False\n",
            "119 block_13_pad False\n",
            "120 block_13_depthwise False\n",
            "121 block_13_depthwise_BN False\n",
            "122 block_13_depthwise_relu False\n",
            "123 block_13_project False\n",
            "124 block_13_project_BN False\n",
            "125 block_14_expand False\n",
            "126 block_14_expand_BN False\n",
            "127 block_14_expand_relu False\n",
            "128 block_14_depthwise False\n",
            "129 block_14_depthwise_BN False\n",
            "130 block_14_depthwise_relu False\n",
            "131 block_14_project False\n",
            "132 block_14_project_BN False\n",
            "133 block_14_add False\n",
            "134 block_15_expand False\n",
            "135 block_15_expand_BN False\n",
            "136 block_15_expand_relu False\n",
            "137 block_15_depthwise False\n",
            "138 block_15_depthwise_BN False\n",
            "139 block_15_depthwise_relu False\n",
            "140 block_15_project False\n",
            "141 block_15_project_BN False\n",
            "142 block_15_add False\n",
            "143 block_16_expand False\n",
            "144 block_16_expand_BN False\n",
            "145 block_16_expand_relu False\n",
            "146 block_16_depthwise False\n",
            "147 block_16_depthwise_BN False\n",
            "148 block_16_depthwise_relu False\n",
            "149 block_16_project False\n",
            "150 block_16_project_BN False\n",
            "151 Conv_1 False\n",
            "152 Conv_1_bn False\n",
            "153 out_relu False\n"
          ]
        }
      ],
      "source": [
        "for i, layer in enumerate(conv_base.layers):\n",
        "   print(i, layer.name, layer.trainable)"
      ]
    },
    {
      "cell_type": "code",
      "execution_count": 43,
      "metadata": {
        "id": "KcDo2VlW-6Jt"
      },
      "outputs": [],
      "source": [
        "#conv_base.trainable = False"
      ]
    },
    {
      "cell_type": "code",
      "execution_count": 44,
      "metadata": {
        "colab": {
          "base_uri": "https://localhost:8080/"
        },
        "id": "6prLuQV--6Jt",
        "outputId": "21272876-2976-4870-ca8a-f63126fc18c8"
      },
      "outputs": [
        {
          "name": "stdout",
          "output_type": "stream",
          "text": [
            "This is the number of trainable weights after freezing the conv base: 6\n"
          ]
        }
      ],
      "source": [
        "print('This is the number of trainable weights '\n",
        "      'after freezing the conv base:', len(modelPreTMob.trainable_weights))"
      ]
    },
    {
      "cell_type": "code",
      "execution_count": 45,
      "metadata": {},
      "outputs": [
        {
          "name": "stdout",
          "output_type": "stream",
          "text": [
            "Model: \"sequential\"\n",
            "_________________________________________________________________\n",
            " Layer (type)                Output Shape              Param #   \n",
            "=================================================================\n",
            " mobilenetv2_1.00_224 (Funct  (None, 7, 7, 1280)       2257984   \n",
            " ional)                                                          \n",
            "                                                                 \n",
            " average_pooling2d (AverageP  (None, 3, 3, 1280)       0         \n",
            " ooling2D)                                                       \n",
            "                                                                 \n",
            " flatten (Flatten)           (None, 11520)             0         \n",
            "                                                                 \n",
            " dense (Dense)               (None, 256)               2949376   \n",
            "                                                                 \n",
            " batch_normalization (BatchN  (None, 256)              1024      \n",
            " ormalization)                                                   \n",
            "                                                                 \n",
            " dropout (Dropout)           (None, 256)               0         \n",
            "                                                                 \n",
            " dense_1 (Dense)             (None, 1)                 257       \n",
            "                                                                 \n",
            "=================================================================\n",
            "Total params: 5,208,641\n",
            "Trainable params: 2,950,145\n",
            "Non-trainable params: 2,258,496\n",
            "_________________________________________________________________\n"
          ]
        }
      ],
      "source": [
        "modelPreTMob.summary()"
      ]
    },
    {
      "cell_type": "code",
      "execution_count": 46,
      "metadata": {},
      "outputs": [],
      "source": [
        "from keras import optimizers\n",
        "adagrad = optimizers.Adagrad(learning_rate=TrainingConfig.LEARNING_RATE, initial_accumulator_value=0.1, epsilon=TrainingConfig.EPSILON, decay =TrainingConfig.WEIGHT_DECAY)"
      ]
    },
    {
      "cell_type": "code",
      "execution_count": 47,
      "metadata": {
        "id": "P4qDSomz-6Jt"
      },
      "outputs": [],
      "source": [
        "modelPreTMob.compile(optimizer= adagrad, loss=tf.losses.BinaryCrossentropy(), metrics=['accuracy'])# Adagrad, adam"
      ]
    },
    {
      "cell_type": "code",
      "execution_count": 48,
      "metadata": {},
      "outputs": [],
      "source": [
        "# add checkpoint to store the model on the best epoch for Val acc.\n",
        "checkpoint_filepath = r'C:\\Users\\YannisPC\\PycharmProjects\\Thesis\\Thesis\\checkpoints\\modelMobileNetV2-{epoch:02d}-{val_accuracy:.4f}.keras'\n",
        "model_checkpoint_callback = keras.callbacks.ModelCheckpoint(\n",
        "    filepath=checkpoint_filepath,\n",
        "    monitor='val_accuracy',\n",
        "    mode='max',\n",
        "    save_best_only=True,\n",
        "    verbose=1)"
      ]
    },
    {
      "cell_type": "code",
      "execution_count": 49,
      "metadata": {},
      "outputs": [
        {
          "name": "stdout",
          "output_type": "stream",
          "text": [
            "100\n"
          ]
        }
      ],
      "source": [
        "print(TrainingConfig.EPOCHS)"
      ]
    },
    {
      "cell_type": "code",
      "execution_count": 50,
      "metadata": {},
      "outputs": [],
      "source": [
        "import time\n",
        "start_time = time.time()"
      ]
    },
    {
      "cell_type": "code",
      "execution_count": 51,
      "metadata": {},
      "outputs": [
        {
          "name": "stdout",
          "output_type": "stream",
          "text": [
            "Epoch 1/100\n",
            "329/329 [==============================] - ETA: 0s - loss: 5.4083 - accuracy: 0.8011\n",
            "Epoch 1: val_accuracy improved from -inf to 0.85092, saving model to C:\\Users\\YannisPC\\PycharmProjects\\Thesis\\Thesis\\checkpoints\\modelMobileNetV2-01-0.8509.keras\n",
            "329/329 [==============================] - 198s 588ms/step - loss: 5.4083 - accuracy: 0.8011 - val_loss: 5.1777 - val_accuracy: 0.8509\n",
            "Epoch 2/100\n",
            "329/329 [==============================] - ETA: 0s - loss: 5.1774 - accuracy: 0.8306\n",
            "Epoch 2: val_accuracy improved from 0.85092 to 0.86263, saving model to C:\\Users\\YannisPC\\PycharmProjects\\Thesis\\Thesis\\checkpoints\\modelMobileNetV2-02-0.8626.keras\n",
            "329/329 [==============================] - 193s 587ms/step - loss: 5.1774 - accuracy: 0.8306 - val_loss: 5.0098 - val_accuracy: 0.8626\n",
            "Epoch 3/100\n",
            "329/329 [==============================] - ETA: 0s - loss: 5.0229 - accuracy: 0.8364\n",
            "Epoch 3: val_accuracy did not improve from 0.86263\n",
            "329/329 [==============================] - 193s 587ms/step - loss: 5.0229 - accuracy: 0.8364 - val_loss: 4.8898 - val_accuracy: 0.8524\n",
            "Epoch 4/100\n",
            "329/329 [==============================] - ETA: 0s - loss: 4.8987 - accuracy: 0.8377\n",
            "Epoch 4: val_accuracy did not improve from 0.86263\n",
            "329/329 [==============================] - 192s 583ms/step - loss: 4.8987 - accuracy: 0.8377 - val_loss: 4.7733 - val_accuracy: 0.8579\n",
            "Epoch 5/100\n",
            "329/329 [==============================] - ETA: 0s - loss: 4.7812 - accuracy: 0.8465\n",
            "Epoch 5: val_accuracy improved from 0.86263 to 0.86855, saving model to C:\\Users\\YannisPC\\PycharmProjects\\Thesis\\Thesis\\checkpoints\\modelMobileNetV2-05-0.8686.keras\n",
            "329/329 [==============================] - 192s 584ms/step - loss: 4.7812 - accuracy: 0.8465 - val_loss: 4.6662 - val_accuracy: 0.8686\n",
            "Epoch 6/100\n",
            "329/329 [==============================] - ETA: 0s - loss: 4.6928 - accuracy: 0.8456\n",
            "Epoch 6: val_accuracy did not improve from 0.86855\n",
            "329/329 [==============================] - 192s 585ms/step - loss: 4.6928 - accuracy: 0.8456 - val_loss: 4.5870 - val_accuracy: 0.8639\n",
            "Epoch 7/100\n",
            "329/329 [==============================] - ETA: 0s - loss: 4.6100 - accuracy: 0.8476\n",
            "Epoch 7: val_accuracy improved from 0.86855 to 0.86987, saving model to C:\\Users\\YannisPC\\PycharmProjects\\Thesis\\Thesis\\checkpoints\\modelMobileNetV2-07-0.8699.keras\n",
            "329/329 [==============================] - 193s 587ms/step - loss: 4.6100 - accuracy: 0.8476 - val_loss: 4.5047 - val_accuracy: 0.8699\n",
            "Epoch 8/100\n",
            "329/329 [==============================] - ETA: 0s - loss: 4.5368 - accuracy: 0.8473\n",
            "Epoch 8: val_accuracy did not improve from 0.86987\n",
            "329/329 [==============================] - 193s 586ms/step - loss: 4.5368 - accuracy: 0.8473 - val_loss: 4.4395 - val_accuracy: 0.8683\n",
            "Epoch 9/100\n",
            "329/329 [==============================] - ETA: 0s - loss: 4.4720 - accuracy: 0.8497\n",
            "Epoch 9: val_accuracy improved from 0.86987 to 0.87053, saving model to C:\\Users\\YannisPC\\PycharmProjects\\Thesis\\Thesis\\checkpoints\\modelMobileNetV2-09-0.8705.keras\n",
            "329/329 [==============================] - 191s 581ms/step - loss: 4.4720 - accuracy: 0.8497 - val_loss: 4.3779 - val_accuracy: 0.8705\n",
            "Epoch 10/100\n",
            "329/329 [==============================] - ETA: 0s - loss: 4.4072 - accuracy: 0.8533\n",
            "Epoch 10: val_accuracy improved from 0.87053 to 0.87224, saving model to C:\\Users\\YannisPC\\PycharmProjects\\Thesis\\Thesis\\checkpoints\\modelMobileNetV2-10-0.8722.keras\n",
            "329/329 [==============================] - 192s 582ms/step - loss: 4.4072 - accuracy: 0.8533 - val_loss: 4.3224 - val_accuracy: 0.8722\n",
            "Epoch 11/100\n",
            "329/329 [==============================] - ETA: 0s - loss: 4.3531 - accuracy: 0.8531\n",
            "Epoch 11: val_accuracy did not improve from 0.87224\n",
            "329/329 [==============================] - 193s 588ms/step - loss: 4.3531 - accuracy: 0.8531 - val_loss: 4.2716 - val_accuracy: 0.8712\n",
            "Epoch 12/100\n",
            "329/329 [==============================] - ETA: 0s - loss: 4.3108 - accuracy: 0.8540\n",
            "Epoch 12: val_accuracy did not improve from 0.87224\n",
            "329/329 [==============================] - 187s 569ms/step - loss: 4.3108 - accuracy: 0.8540 - val_loss: 4.2244 - val_accuracy: 0.8718\n",
            "Epoch 13/100\n",
            "329/329 [==============================] - ETA: 0s - loss: 4.2632 - accuracy: 0.8526\n",
            "Epoch 13: val_accuracy did not improve from 0.87224\n",
            "329/329 [==============================] - 188s 570ms/step - loss: 4.2632 - accuracy: 0.8526 - val_loss: 4.1810 - val_accuracy: 0.8713\n",
            "Epoch 14/100\n",
            "329/329 [==============================] - ETA: 0s - loss: 4.2183 - accuracy: 0.8551\n",
            "Epoch 14: val_accuracy improved from 0.87224 to 0.87250, saving model to C:\\Users\\YannisPC\\PycharmProjects\\Thesis\\Thesis\\checkpoints\\modelMobileNetV2-14-0.8725.keras\n",
            "329/329 [==============================] - 188s 571ms/step - loss: 4.2183 - accuracy: 0.8551 - val_loss: 4.1400 - val_accuracy: 0.8725\n",
            "Epoch 15/100\n",
            "329/329 [==============================] - ETA: 0s - loss: 4.1791 - accuracy: 0.8556\n",
            "Epoch 15: val_accuracy improved from 0.87250 to 0.87487, saving model to C:\\Users\\YannisPC\\PycharmProjects\\Thesis\\Thesis\\checkpoints\\modelMobileNetV2-15-0.8749.keras\n",
            "329/329 [==============================] - 189s 576ms/step - loss: 4.1791 - accuracy: 0.8556 - val_loss: 4.1008 - val_accuracy: 0.8749\n",
            "Epoch 16/100\n",
            "329/329 [==============================] - ETA: 0s - loss: 4.1386 - accuracy: 0.8575\n",
            "Epoch 16: val_accuracy did not improve from 0.87487\n",
            "329/329 [==============================] - 190s 576ms/step - loss: 4.1386 - accuracy: 0.8575 - val_loss: 4.0680 - val_accuracy: 0.8732\n",
            "Epoch 17/100\n",
            "329/329 [==============================] - ETA: 0s - loss: 4.1113 - accuracy: 0.8530\n",
            "Epoch 17: val_accuracy did not improve from 0.87487\n",
            "329/329 [==============================] - 188s 572ms/step - loss: 4.1113 - accuracy: 0.8530 - val_loss: 4.0347 - val_accuracy: 0.8724\n",
            "Epoch 18/100\n",
            "329/329 [==============================] - ETA: 0s - loss: 4.0657 - accuracy: 0.8589\n",
            "Epoch 18: val_accuracy did not improve from 0.87487\n",
            "329/329 [==============================] - 188s 571ms/step - loss: 4.0657 - accuracy: 0.8589 - val_loss: 4.0037 - val_accuracy: 0.8745\n",
            "Epoch 19/100\n",
            "329/329 [==============================] - ETA: 0s - loss: 4.0453 - accuracy: 0.8562\n",
            "Epoch 19: val_accuracy did not improve from 0.87487\n",
            "329/329 [==============================] - 187s 569ms/step - loss: 4.0453 - accuracy: 0.8562 - val_loss: 3.9746 - val_accuracy: 0.8739\n",
            "Epoch 20/100\n",
            "329/329 [==============================] - ETA: 0s - loss: 4.0140 - accuracy: 0.8563\n",
            "Epoch 20: val_accuracy did not improve from 0.87487\n",
            "329/329 [==============================] - 187s 568ms/step - loss: 4.0140 - accuracy: 0.8563 - val_loss: 3.9469 - val_accuracy: 0.8745\n",
            "Epoch 21/100\n",
            "329/329 [==============================] - ETA: 0s - loss: 3.9926 - accuracy: 0.8566\n",
            "Epoch 21: val_accuracy did not improve from 0.87487\n",
            "329/329 [==============================] - 187s 568ms/step - loss: 3.9926 - accuracy: 0.8566 - val_loss: 3.9186 - val_accuracy: 0.8749\n",
            "Epoch 22/100\n",
            "329/329 [==============================] - ETA: 0s - loss: 3.9622 - accuracy: 0.8573\n",
            "Epoch 22: val_accuracy improved from 0.87487 to 0.87658, saving model to C:\\Users\\YannisPC\\PycharmProjects\\Thesis\\Thesis\\checkpoints\\modelMobileNetV2-22-0.8766.keras\n",
            "329/329 [==============================] - 187s 568ms/step - loss: 3.9622 - accuracy: 0.8573 - val_loss: 3.8930 - val_accuracy: 0.8766\n",
            "Epoch 23/100\n",
            "329/329 [==============================] - ETA: 0s - loss: 3.9337 - accuracy: 0.8557\n",
            "Epoch 23: val_accuracy did not improve from 0.87658\n",
            "329/329 [==============================] - 187s 569ms/step - loss: 3.9337 - accuracy: 0.8557 - val_loss: 3.8703 - val_accuracy: 0.8751\n",
            "Epoch 24/100\n",
            "329/329 [==============================] - ETA: 0s - loss: 3.9065 - accuracy: 0.8606\n",
            "Epoch 24: val_accuracy did not improve from 0.87658\n",
            "329/329 [==============================] - 187s 568ms/step - loss: 3.9065 - accuracy: 0.8606 - val_loss: 3.8475 - val_accuracy: 0.8745\n",
            "Epoch 25/100\n",
            "329/329 [==============================] - ETA: 0s - loss: 3.8951 - accuracy: 0.8595\n",
            "Epoch 25: val_accuracy did not improve from 0.87658\n",
            "329/329 [==============================] - 186s 565ms/step - loss: 3.8951 - accuracy: 0.8595 - val_loss: 3.8267 - val_accuracy: 0.8742\n",
            "Epoch 26/100\n",
            "329/329 [==============================] - ETA: 0s - loss: 3.8638 - accuracy: 0.8584\n",
            "Epoch 26: val_accuracy did not improve from 0.87658\n",
            "329/329 [==============================] - 187s 570ms/step - loss: 3.8638 - accuracy: 0.8584 - val_loss: 3.8069 - val_accuracy: 0.8741\n",
            "Epoch 27/100\n",
            "329/329 [==============================] - ETA: 0s - loss: 3.8471 - accuracy: 0.8592\n",
            "Epoch 27: val_accuracy did not improve from 0.87658\n",
            "329/329 [==============================] - 188s 570ms/step - loss: 3.8471 - accuracy: 0.8592 - val_loss: 3.7850 - val_accuracy: 0.8751\n",
            "Epoch 28/100\n",
            "329/329 [==============================] - ETA: 0s - loss: 3.8231 - accuracy: 0.8593\n",
            "Epoch 28: val_accuracy did not improve from 0.87658\n",
            "329/329 [==============================] - 187s 567ms/step - loss: 3.8231 - accuracy: 0.8593 - val_loss: 3.7677 - val_accuracy: 0.8750\n",
            "Epoch 29/100\n",
            "329/329 [==============================] - ETA: 0s - loss: 3.8021 - accuracy: 0.8604\n",
            "Epoch 29: val_accuracy did not improve from 0.87658\n",
            "329/329 [==============================] - 187s 567ms/step - loss: 3.8021 - accuracy: 0.8604 - val_loss: 3.7476 - val_accuracy: 0.8758\n",
            "Epoch 30/100\n",
            "329/329 [==============================] - ETA: 0s - loss: 3.8002 - accuracy: 0.8567\n",
            "Epoch 30: val_accuracy did not improve from 0.87658\n",
            "329/329 [==============================] - 186s 566ms/step - loss: 3.8002 - accuracy: 0.8567 - val_loss: 3.7309 - val_accuracy: 0.8754\n",
            "Epoch 31/100\n",
            "329/329 [==============================] - ETA: 0s - loss: 3.7764 - accuracy: 0.8552\n",
            "Epoch 31: val_accuracy did not improve from 0.87658\n",
            "329/329 [==============================] - 187s 568ms/step - loss: 3.7764 - accuracy: 0.8552 - val_loss: 3.7129 - val_accuracy: 0.8755\n",
            "Epoch 32/100\n",
            "329/329 [==============================] - ETA: 0s - loss: 3.7596 - accuracy: 0.8555\n",
            "Epoch 32: val_accuracy did not improve from 0.87658\n",
            "329/329 [==============================] - 187s 569ms/step - loss: 3.7596 - accuracy: 0.8555 - val_loss: 3.6980 - val_accuracy: 0.8762\n",
            "Epoch 33/100\n",
            "329/329 [==============================] - ETA: 0s - loss: 3.7396 - accuracy: 0.8610\n",
            "Epoch 33: val_accuracy did not improve from 0.87658\n",
            "329/329 [==============================] - 188s 572ms/step - loss: 3.7396 - accuracy: 0.8610 - val_loss: 3.6818 - val_accuracy: 0.8762\n",
            "Epoch 34/100\n",
            "329/329 [==============================] - ETA: 0s - loss: 3.7244 - accuracy: 0.8619\n",
            "Epoch 34: val_accuracy did not improve from 0.87658\n",
            "329/329 [==============================] - 187s 568ms/step - loss: 3.7244 - accuracy: 0.8619 - val_loss: 3.6678 - val_accuracy: 0.8762\n",
            "Epoch 35/100\n",
            "329/329 [==============================] - ETA: 0s - loss: 3.7090 - accuracy: 0.8616\n",
            "Epoch 35: val_accuracy did not improve from 0.87658\n",
            "329/329 [==============================] - 187s 569ms/step - loss: 3.7090 - accuracy: 0.8616 - val_loss: 3.6535 - val_accuracy: 0.8762\n",
            "Epoch 36/100\n",
            "329/329 [==============================] - ETA: 0s - loss: 3.6960 - accuracy: 0.8602\n",
            "Epoch 36: val_accuracy did not improve from 0.87658\n",
            "329/329 [==============================] - 187s 570ms/step - loss: 3.6960 - accuracy: 0.8602 - val_loss: 3.6391 - val_accuracy: 0.8758\n",
            "Epoch 37/100\n",
            "329/329 [==============================] - ETA: 0s - loss: 3.6855 - accuracy: 0.8616\n",
            "Epoch 37: val_accuracy did not improve from 0.87658\n",
            "329/329 [==============================] - 187s 568ms/step - loss: 3.6855 - accuracy: 0.8616 - val_loss: 3.6278 - val_accuracy: 0.8751\n",
            "Epoch 38/100\n",
            "329/329 [==============================] - ETA: 0s - loss: 3.6707 - accuracy: 0.8587\n",
            "Epoch 38: val_accuracy did not improve from 0.87658\n",
            "329/329 [==============================] - 186s 566ms/step - loss: 3.6707 - accuracy: 0.8587 - val_loss: 3.6131 - val_accuracy: 0.8758\n",
            "Epoch 39/100\n",
            "329/329 [==============================] - ETA: 0s - loss: 3.6592 - accuracy: 0.8582\n",
            "Epoch 39: val_accuracy did not improve from 0.87658\n",
            "329/329 [==============================] - 189s 575ms/step - loss: 3.6592 - accuracy: 0.8582 - val_loss: 3.6007 - val_accuracy: 0.8761\n",
            "Epoch 40/100\n",
            "329/329 [==============================] - ETA: 0s - loss: 3.6401 - accuracy: 0.8629\n",
            "Epoch 40: val_accuracy improved from 0.87658 to 0.87697, saving model to C:\\Users\\YannisPC\\PycharmProjects\\Thesis\\Thesis\\checkpoints\\modelMobileNetV2-40-0.8770.keras\n",
            "329/329 [==============================] - 187s 568ms/step - loss: 3.6401 - accuracy: 0.8629 - val_loss: 3.5875 - val_accuracy: 0.8770\n",
            "Epoch 41/100\n",
            "329/329 [==============================] - ETA: 0s - loss: 3.6259 - accuracy: 0.8610\n",
            "Epoch 41: val_accuracy did not improve from 0.87697\n",
            "329/329 [==============================] - 186s 566ms/step - loss: 3.6259 - accuracy: 0.8610 - val_loss: 3.5768 - val_accuracy: 0.8761\n",
            "Epoch 42/100\n",
            "329/329 [==============================] - ETA: 0s - loss: 3.6172 - accuracy: 0.8629\n",
            "Epoch 42: val_accuracy improved from 0.87697 to 0.87776, saving model to C:\\Users\\YannisPC\\PycharmProjects\\Thesis\\Thesis\\checkpoints\\modelMobileNetV2-42-0.8778.keras\n",
            "329/329 [==============================] - 187s 568ms/step - loss: 3.6172 - accuracy: 0.8629 - val_loss: 3.5637 - val_accuracy: 0.8778\n",
            "Epoch 43/100\n",
            "329/329 [==============================] - ETA: 0s - loss: 3.5989 - accuracy: 0.8634\n",
            "Epoch 43: val_accuracy improved from 0.87776 to 0.87816, saving model to C:\\Users\\YannisPC\\PycharmProjects\\Thesis\\Thesis\\checkpoints\\modelMobileNetV2-43-0.8782.keras\n",
            "329/329 [==============================] - 186s 565ms/step - loss: 3.5989 - accuracy: 0.8634 - val_loss: 3.5525 - val_accuracy: 0.8782\n",
            "Epoch 44/100\n",
            "329/329 [==============================] - ETA: 0s - loss: 3.5974 - accuracy: 0.8595\n",
            "Epoch 44: val_accuracy did not improve from 0.87816\n",
            "329/329 [==============================] - 185s 563ms/step - loss: 3.5974 - accuracy: 0.8595 - val_loss: 3.5423 - val_accuracy: 0.8770\n",
            "Epoch 45/100\n",
            "329/329 [==============================] - ETA: 0s - loss: 3.5865 - accuracy: 0.8617\n",
            "Epoch 45: val_accuracy did not improve from 0.87816\n",
            "329/329 [==============================] - 186s 566ms/step - loss: 3.5865 - accuracy: 0.8617 - val_loss: 3.5319 - val_accuracy: 0.8771\n",
            "Epoch 46/100\n",
            "329/329 [==============================] - ETA: 0s - loss: 3.5734 - accuracy: 0.8623\n",
            "Epoch 46: val_accuracy did not improve from 0.87816\n",
            "329/329 [==============================] - 187s 569ms/step - loss: 3.5734 - accuracy: 0.8623 - val_loss: 3.5215 - val_accuracy: 0.8772\n",
            "Epoch 47/100\n",
            "329/329 [==============================] - ETA: 0s - loss: 3.5617 - accuracy: 0.8606\n",
            "Epoch 47: val_accuracy did not improve from 0.87816\n",
            "329/329 [==============================] - 188s 571ms/step - loss: 3.5617 - accuracy: 0.8606 - val_loss: 3.5110 - val_accuracy: 0.8779\n",
            "Epoch 48/100\n",
            "329/329 [==============================] - ETA: 0s - loss: 3.5578 - accuracy: 0.8591\n",
            "Epoch 48: val_accuracy did not improve from 0.87816\n",
            "329/329 [==============================] - 187s 567ms/step - loss: 3.5578 - accuracy: 0.8591 - val_loss: 3.5017 - val_accuracy: 0.8775\n",
            "Epoch 49/100\n",
            "329/329 [==============================] - ETA: 0s - loss: 3.5465 - accuracy: 0.8608\n",
            "Epoch 49: val_accuracy did not improve from 0.87816\n",
            "329/329 [==============================] - 186s 566ms/step - loss: 3.5465 - accuracy: 0.8608 - val_loss: 3.4928 - val_accuracy: 0.8774\n",
            "Epoch 50/100\n",
            "329/329 [==============================] - ETA: 0s - loss: 3.5396 - accuracy: 0.8592\n",
            "Epoch 50: val_accuracy did not improve from 0.87816\n",
            "329/329 [==============================] - 187s 567ms/step - loss: 3.5396 - accuracy: 0.8592 - val_loss: 3.4837 - val_accuracy: 0.8776\n",
            "Epoch 51/100\n",
            "329/329 [==============================] - ETA: 0s - loss: 3.5259 - accuracy: 0.8616\n",
            "Epoch 51: val_accuracy did not improve from 0.87816\n",
            "329/329 [==============================] - 188s 572ms/step - loss: 3.5259 - accuracy: 0.8616 - val_loss: 3.4747 - val_accuracy: 0.8780\n",
            "Epoch 52/100\n",
            "329/329 [==============================] - ETA: 0s - loss: 3.5104 - accuracy: 0.8656\n",
            "Epoch 52: val_accuracy improved from 0.87816 to 0.87842, saving model to C:\\Users\\YannisPC\\PycharmProjects\\Thesis\\Thesis\\checkpoints\\modelMobileNetV2-52-0.8784.keras\n",
            "329/329 [==============================] - 186s 565ms/step - loss: 3.5104 - accuracy: 0.8656 - val_loss: 3.4652 - val_accuracy: 0.8784\n",
            "Epoch 53/100\n",
            "329/329 [==============================] - ETA: 0s - loss: 3.5088 - accuracy: 0.8611\n",
            "Epoch 53: val_accuracy did not improve from 0.87842\n",
            "329/329 [==============================] - 187s 568ms/step - loss: 3.5088 - accuracy: 0.8611 - val_loss: 3.4569 - val_accuracy: 0.8779\n",
            "Epoch 54/100\n",
            "329/329 [==============================] - ETA: 0s - loss: 3.4972 - accuracy: 0.8626\n",
            "Epoch 54: val_accuracy did not improve from 0.87842\n",
            "329/329 [==============================] - 187s 568ms/step - loss: 3.4972 - accuracy: 0.8626 - val_loss: 3.4482 - val_accuracy: 0.8778\n",
            "Epoch 55/100\n",
            "329/329 [==============================] - ETA: 0s - loss: 3.4902 - accuracy: 0.8622\n",
            "Epoch 55: val_accuracy did not improve from 0.87842\n",
            "329/329 [==============================] - 186s 567ms/step - loss: 3.4902 - accuracy: 0.8622 - val_loss: 3.4400 - val_accuracy: 0.8778\n",
            "Epoch 56/100\n",
            "329/329 [==============================] - ETA: 0s - loss: 3.4785 - accuracy: 0.8629\n",
            "Epoch 56: val_accuracy improved from 0.87842 to 0.87921, saving model to C:\\Users\\YannisPC\\PycharmProjects\\Thesis\\Thesis\\checkpoints\\modelMobileNetV2-56-0.8792.keras\n",
            "329/329 [==============================] - 187s 568ms/step - loss: 3.4785 - accuracy: 0.8629 - val_loss: 3.4307 - val_accuracy: 0.8792\n",
            "Epoch 57/100\n",
            "329/329 [==============================] - ETA: 0s - loss: 3.4762 - accuracy: 0.8641\n",
            "Epoch 57: val_accuracy did not improve from 0.87921\n",
            "329/329 [==============================] - 188s 570ms/step - loss: 3.4762 - accuracy: 0.8641 - val_loss: 3.4239 - val_accuracy: 0.8780\n",
            "Epoch 58/100\n",
            "329/329 [==============================] - ETA: 0s - loss: 3.4661 - accuracy: 0.8609\n",
            "Epoch 58: val_accuracy did not improve from 0.87921\n",
            "329/329 [==============================] - 186s 566ms/step - loss: 3.4661 - accuracy: 0.8609 - val_loss: 3.4172 - val_accuracy: 0.8771\n",
            "Epoch 59/100\n",
            "329/329 [==============================] - ETA: 0s - loss: 3.4603 - accuracy: 0.8621\n",
            "Epoch 59: val_accuracy did not improve from 0.87921\n",
            "329/329 [==============================] - 193s 588ms/step - loss: 3.4603 - accuracy: 0.8621 - val_loss: 3.4089 - val_accuracy: 0.8784\n",
            "Epoch 60/100\n",
            "329/329 [==============================] - ETA: 0s - loss: 3.4543 - accuracy: 0.8622\n",
            "Epoch 60: val_accuracy did not improve from 0.87921\n",
            "329/329 [==============================] - 191s 581ms/step - loss: 3.4543 - accuracy: 0.8622 - val_loss: 3.4023 - val_accuracy: 0.8771\n",
            "Epoch 61/100\n",
            "329/329 [==============================] - ETA: 0s - loss: 3.4446 - accuracy: 0.8635\n",
            "Epoch 61: val_accuracy did not improve from 0.87921\n",
            "329/329 [==============================] - 194s 588ms/step - loss: 3.4446 - accuracy: 0.8635 - val_loss: 3.3954 - val_accuracy: 0.8771\n",
            "Epoch 62/100\n",
            "329/329 [==============================] - ETA: 0s - loss: 3.4364 - accuracy: 0.8634\n",
            "Epoch 62: val_accuracy did not improve from 0.87921\n",
            "329/329 [==============================] - 194s 589ms/step - loss: 3.4364 - accuracy: 0.8634 - val_loss: 3.3885 - val_accuracy: 0.8775\n",
            "Epoch 63/100\n",
            "329/329 [==============================] - ETA: 0s - loss: 3.4295 - accuracy: 0.8631\n",
            "Epoch 63: val_accuracy did not improve from 0.87921\n",
            "329/329 [==============================] - 196s 595ms/step - loss: 3.4295 - accuracy: 0.8631 - val_loss: 3.3808 - val_accuracy: 0.8784\n",
            "Epoch 64/100\n",
            "329/329 [==============================] - ETA: 0s - loss: 3.4224 - accuracy: 0.8625\n",
            "Epoch 64: val_accuracy did not improve from 0.87921\n",
            "329/329 [==============================] - 197s 599ms/step - loss: 3.4224 - accuracy: 0.8625 - val_loss: 3.3741 - val_accuracy: 0.8784\n",
            "Epoch 65/100\n",
            "329/329 [==============================] - ETA: 0s - loss: 3.4175 - accuracy: 0.8627\n",
            "Epoch 65: val_accuracy did not improve from 0.87921\n",
            "329/329 [==============================] - 193s 585ms/step - loss: 3.4175 - accuracy: 0.8627 - val_loss: 3.3675 - val_accuracy: 0.8788\n",
            "Epoch 66/100\n",
            "329/329 [==============================] - ETA: 0s - loss: 3.4086 - accuracy: 0.8647\n",
            "Epoch 66: val_accuracy did not improve from 0.87921\n",
            "329/329 [==============================] - 191s 580ms/step - loss: 3.4086 - accuracy: 0.8647 - val_loss: 3.3605 - val_accuracy: 0.8786\n",
            "Epoch 67/100\n",
            "329/329 [==============================] - ETA: 0s - loss: 3.4029 - accuracy: 0.8637\n",
            "Epoch 67: val_accuracy did not improve from 0.87921\n",
            "329/329 [==============================] - 191s 580ms/step - loss: 3.4029 - accuracy: 0.8637 - val_loss: 3.3544 - val_accuracy: 0.8784\n",
            "Epoch 68/100\n",
            "329/329 [==============================] - ETA: 0s - loss: 3.4004 - accuracy: 0.8631\n",
            "Epoch 68: val_accuracy did not improve from 0.87921\n",
            "329/329 [==============================] - 191s 579ms/step - loss: 3.4004 - accuracy: 0.8631 - val_loss: 3.3477 - val_accuracy: 0.8786\n",
            "Epoch 69/100\n",
            "329/329 [==============================] - ETA: 0s - loss: 3.3920 - accuracy: 0.8641\n",
            "Epoch 69: val_accuracy did not improve from 0.87921\n",
            "329/329 [==============================] - 190s 578ms/step - loss: 3.3920 - accuracy: 0.8641 - val_loss: 3.3438 - val_accuracy: 0.8778\n",
            "Epoch 70/100\n",
            "329/329 [==============================] - ETA: 0s - loss: 3.3821 - accuracy: 0.8674\n",
            "Epoch 70: val_accuracy did not improve from 0.87921\n",
            "329/329 [==============================] - 190s 578ms/step - loss: 3.3821 - accuracy: 0.8674 - val_loss: 3.3366 - val_accuracy: 0.8776\n",
            "Epoch 71/100\n",
            "329/329 [==============================] - ETA: 0s - loss: 3.3835 - accuracy: 0.8610\n",
            "Epoch 71: val_accuracy did not improve from 0.87921\n",
            "329/329 [==============================] - 190s 578ms/step - loss: 3.3835 - accuracy: 0.8610 - val_loss: 3.3303 - val_accuracy: 0.8783\n",
            "Epoch 72/100\n",
            "329/329 [==============================] - ETA: 0s - loss: 3.3759 - accuracy: 0.8623\n",
            "Epoch 72: val_accuracy did not improve from 0.87921\n",
            "329/329 [==============================] - 194s 591ms/step - loss: 3.3759 - accuracy: 0.8623 - val_loss: 3.3266 - val_accuracy: 0.8771\n",
            "Epoch 73/100\n",
            "329/329 [==============================] - ETA: 0s - loss: 3.3664 - accuracy: 0.8646\n",
            "Epoch 73: val_accuracy did not improve from 0.87921\n",
            "329/329 [==============================] - 195s 591ms/step - loss: 3.3664 - accuracy: 0.8646 - val_loss: 3.3195 - val_accuracy: 0.8780\n",
            "Epoch 74/100\n",
            "329/329 [==============================] - ETA: 0s - loss: 3.3614 - accuracy: 0.8620\n",
            "Epoch 74: val_accuracy did not improve from 0.87921\n",
            "329/329 [==============================] - 194s 590ms/step - loss: 3.3614 - accuracy: 0.8620 - val_loss: 3.3131 - val_accuracy: 0.8787\n",
            "Epoch 75/100\n",
            "329/329 [==============================] - ETA: 0s - loss: 3.3554 - accuracy: 0.8640\n",
            "Epoch 75: val_accuracy did not improve from 0.87921\n",
            "329/329 [==============================] - 192s 585ms/step - loss: 3.3554 - accuracy: 0.8640 - val_loss: 3.3074 - val_accuracy: 0.8788\n",
            "Epoch 76/100\n",
            "329/329 [==============================] - ETA: 0s - loss: 3.3436 - accuracy: 0.8651\n",
            "Epoch 76: val_accuracy did not improve from 0.87921\n",
            "329/329 [==============================] - 194s 590ms/step - loss: 3.3436 - accuracy: 0.8651 - val_loss: 3.3038 - val_accuracy: 0.8786\n",
            "Epoch 77/100\n",
            "329/329 [==============================] - ETA: 0s - loss: 3.3492 - accuracy: 0.8627\n",
            "Epoch 77: val_accuracy did not improve from 0.87921\n",
            "329/329 [==============================] - 192s 582ms/step - loss: 3.3492 - accuracy: 0.8627 - val_loss: 3.2982 - val_accuracy: 0.8779\n",
            "Epoch 78/100\n",
            "329/329 [==============================] - ETA: 0s - loss: 3.3353 - accuracy: 0.8614\n",
            "Epoch 78: val_accuracy did not improve from 0.87921\n",
            "329/329 [==============================] - 189s 574ms/step - loss: 3.3353 - accuracy: 0.8614 - val_loss: 3.2928 - val_accuracy: 0.8783\n",
            "Epoch 79/100\n",
            "329/329 [==============================] - ETA: 0s - loss: 3.3354 - accuracy: 0.8625\n",
            "Epoch 79: val_accuracy did not improve from 0.87921\n",
            "329/329 [==============================] - 189s 573ms/step - loss: 3.3354 - accuracy: 0.8625 - val_loss: 3.2880 - val_accuracy: 0.8779\n",
            "Epoch 80/100\n",
            "329/329 [==============================] - ETA: 0s - loss: 3.3264 - accuracy: 0.8655\n",
            "Epoch 80: val_accuracy did not improve from 0.87921\n",
            "329/329 [==============================] - 189s 575ms/step - loss: 3.3264 - accuracy: 0.8655 - val_loss: 3.2835 - val_accuracy: 0.8779\n",
            "Epoch 81/100\n",
            "329/329 [==============================] - ETA: 0s - loss: 3.3227 - accuracy: 0.8650\n",
            "Epoch 81: val_accuracy did not improve from 0.87921\n",
            "329/329 [==============================] - 189s 574ms/step - loss: 3.3227 - accuracy: 0.8650 - val_loss: 3.2783 - val_accuracy: 0.8786\n",
            "Epoch 82/100\n",
            "329/329 [==============================] - ETA: 0s - loss: 3.3265 - accuracy: 0.8605\n",
            "Epoch 82: val_accuracy did not improve from 0.87921\n",
            "329/329 [==============================] - 190s 579ms/step - loss: 3.3265 - accuracy: 0.8605 - val_loss: 3.2736 - val_accuracy: 0.8783\n",
            "Epoch 83/100\n",
            "329/329 [==============================] - ETA: 0s - loss: 3.3132 - accuracy: 0.8625\n",
            "Epoch 83: val_accuracy did not improve from 0.87921\n",
            "329/329 [==============================] - 189s 574ms/step - loss: 3.3132 - accuracy: 0.8625 - val_loss: 3.2688 - val_accuracy: 0.8784\n",
            "Epoch 84/100\n",
            "329/329 [==============================] - ETA: 0s - loss: 3.3121 - accuracy: 0.8640\n",
            "Epoch 84: val_accuracy did not improve from 0.87921\n",
            "329/329 [==============================] - 189s 574ms/step - loss: 3.3121 - accuracy: 0.8640 - val_loss: 3.2636 - val_accuracy: 0.8783\n",
            "Epoch 85/100\n",
            "329/329 [==============================] - ETA: 0s - loss: 3.3063 - accuracy: 0.8640\n",
            "Epoch 85: val_accuracy did not improve from 0.87921\n",
            "329/329 [==============================] - 189s 575ms/step - loss: 3.3063 - accuracy: 0.8640 - val_loss: 3.2586 - val_accuracy: 0.8780\n",
            "Epoch 86/100\n",
            "329/329 [==============================] - ETA: 0s - loss: 3.2956 - accuracy: 0.8664\n",
            "Epoch 86: val_accuracy did not improve from 0.87921\n",
            "329/329 [==============================] - 189s 574ms/step - loss: 3.2956 - accuracy: 0.8664 - val_loss: 3.2544 - val_accuracy: 0.8786\n",
            "Epoch 87/100\n",
            "329/329 [==============================] - ETA: 0s - loss: 3.2979 - accuracy: 0.8641\n",
            "Epoch 87: val_accuracy did not improve from 0.87921\n",
            "329/329 [==============================] - 189s 574ms/step - loss: 3.2979 - accuracy: 0.8641 - val_loss: 3.2510 - val_accuracy: 0.8788\n",
            "Epoch 88/100\n",
            "329/329 [==============================] - ETA: 0s - loss: 3.2897 - accuracy: 0.8632\n",
            "Epoch 88: val_accuracy did not improve from 0.87921\n",
            "329/329 [==============================] - 189s 574ms/step - loss: 3.2897 - accuracy: 0.8632 - val_loss: 3.2458 - val_accuracy: 0.8783\n",
            "Epoch 89/100\n",
            "329/329 [==============================] - ETA: 0s - loss: 3.2843 - accuracy: 0.8631\n",
            "Epoch 89: val_accuracy did not improve from 0.87921\n",
            "329/329 [==============================] - 189s 573ms/step - loss: 3.2843 - accuracy: 0.8631 - val_loss: 3.2426 - val_accuracy: 0.8783\n",
            "Epoch 90/100\n",
            "329/329 [==============================] - ETA: 0s - loss: 3.2829 - accuracy: 0.8630\n",
            "Epoch 90: val_accuracy did not improve from 0.87921\n",
            "329/329 [==============================] - 189s 573ms/step - loss: 3.2829 - accuracy: 0.8630 - val_loss: 3.2365 - val_accuracy: 0.8789\n",
            "Epoch 91/100\n",
            "329/329 [==============================] - ETA: 0s - loss: 3.2781 - accuracy: 0.8627\n",
            "Epoch 91: val_accuracy did not improve from 0.87921\n",
            "329/329 [==============================] - 189s 573ms/step - loss: 3.2781 - accuracy: 0.8627 - val_loss: 3.2331 - val_accuracy: 0.8783\n",
            "Epoch 92/100\n",
            "329/329 [==============================] - ETA: 0s - loss: 3.2734 - accuracy: 0.8660\n",
            "Epoch 92: val_accuracy did not improve from 0.87921\n",
            "329/329 [==============================] - 189s 573ms/step - loss: 3.2734 - accuracy: 0.8660 - val_loss: 3.2298 - val_accuracy: 0.8776\n",
            "Epoch 93/100\n",
            "329/329 [==============================] - ETA: 0s - loss: 3.2691 - accuracy: 0.8660\n",
            "Epoch 93: val_accuracy did not improve from 0.87921\n",
            "329/329 [==============================] - 189s 574ms/step - loss: 3.2691 - accuracy: 0.8660 - val_loss: 3.2247 - val_accuracy: 0.8786\n",
            "Epoch 94/100\n",
            "329/329 [==============================] - ETA: 0s - loss: 3.2648 - accuracy: 0.8662\n",
            "Epoch 94: val_accuracy did not improve from 0.87921\n",
            "329/329 [==============================] - 188s 572ms/step - loss: 3.2648 - accuracy: 0.8662 - val_loss: 3.2212 - val_accuracy: 0.8779\n",
            "Epoch 95/100\n",
            "329/329 [==============================] - ETA: 0s - loss: 3.2619 - accuracy: 0.8664\n",
            "Epoch 95: val_accuracy did not improve from 0.87921\n",
            "329/329 [==============================] - 188s 572ms/step - loss: 3.2619 - accuracy: 0.8664 - val_loss: 3.2167 - val_accuracy: 0.8788\n",
            "Epoch 96/100\n",
            "329/329 [==============================] - ETA: 0s - loss: 3.2566 - accuracy: 0.8662\n",
            "Epoch 96: val_accuracy did not improve from 0.87921\n",
            "329/329 [==============================] - 190s 576ms/step - loss: 3.2566 - accuracy: 0.8662 - val_loss: 3.2130 - val_accuracy: 0.8783\n",
            "Epoch 97/100\n",
            "329/329 [==============================] - ETA: 0s - loss: 3.2561 - accuracy: 0.8615\n",
            "Epoch 97: val_accuracy did not improve from 0.87921\n",
            "329/329 [==============================] - 189s 576ms/step - loss: 3.2561 - accuracy: 0.8615 - val_loss: 3.2095 - val_accuracy: 0.8784\n",
            "Epoch 98/100\n",
            "329/329 [==============================] - ETA: 0s - loss: 3.2483 - accuracy: 0.8664\n",
            "Epoch 98: val_accuracy did not improve from 0.87921\n",
            "329/329 [==============================] - 188s 571ms/step - loss: 3.2483 - accuracy: 0.8664 - val_loss: 3.2062 - val_accuracy: 0.8779\n",
            "Epoch 99/100\n",
            "329/329 [==============================] - ETA: 0s - loss: 3.2510 - accuracy: 0.8623\n",
            "Epoch 99: val_accuracy did not improve from 0.87921\n",
            "329/329 [==============================] - 188s 571ms/step - loss: 3.2510 - accuracy: 0.8623 - val_loss: 3.2029 - val_accuracy: 0.8778\n",
            "Epoch 100/100\n",
            "329/329 [==============================] - ETA: 0s - loss: 3.2454 - accuracy: 0.8650\n",
            "Epoch 100: val_accuracy did not improve from 0.87921\n",
            "329/329 [==============================] - 189s 574ms/step - loss: 3.2454 - accuracy: 0.8650 - val_loss: 3.1990 - val_accuracy: 0.8776\n"
          ]
        }
      ],
      "source": [
        "histPreT = modelPreTMob.fit(train_generator, epochs = TrainingConfig.EPOCHS, validation_data=validation_generator, callbacks=[model_checkpoint_callback]) "
      ]
    },
    {
      "cell_type": "code",
      "execution_count": 52,
      "metadata": {},
      "outputs": [
        {
          "name": "stdout",
          "output_type": "stream",
          "text": [
            "--- 18923.679361343384 seconds ---\n"
          ]
        }
      ],
      "source": [
        "print(\"--- %s seconds ---\" % (time.time() - start_time))"
      ]
    },
    {
      "cell_type": "code",
      "execution_count": 53,
      "metadata": {},
      "outputs": [
        {
          "data": {
            "text/plain": [
              "'c:\\\\Users\\\\YannisPC\\\\PycharmProjects\\\\Thesis\\\\Thesis'"
            ]
          },
          "execution_count": 53,
          "metadata": {},
          "output_type": "execute_result"
        }
      ],
      "source": [
        "Current_dir = os.getcwd()\n",
        "Current_dir"
      ]
    },
    {
      "cell_type": "code",
      "execution_count": 54,
      "metadata": {},
      "outputs": [
        {
          "data": {
            "text/plain": [
              "'c:\\\\Users\\\\YannisPC\\\\PycharmProjects\\\\Thesis\\\\Thesis\\\\History'"
            ]
          },
          "execution_count": 54,
          "metadata": {},
          "output_type": "execute_result"
        }
      ],
      "source": [
        "os.path.join(Current_dir, 'History')"
      ]
    },
    {
      "cell_type": "code",
      "execution_count": 55,
      "metadata": {},
      "outputs": [],
      "source": [
        "import pickle\n",
        "with open(r'c:\\\\Users\\\\YannisPC\\\\PycharmProjects\\\\Thesis\\\\Thesis\\\\History\\\\HistoryDict_MobileNetV2_FT0', 'wb') as file_pi:\n",
        "    pickle.dump(histPreT.history, file_pi)"
      ]
    },
    {
      "cell_type": "code",
      "execution_count": 56,
      "metadata": {},
      "outputs": [
        {
          "name": "stdout",
          "output_type": "stream",
          "text": [
            "Best epoch: 56\n"
          ]
        }
      ],
      "source": [
        "val_acc_per_epoch = histPreT.history['val_accuracy']\n",
        "best_epoch = val_acc_per_epoch.index(max(val_acc_per_epoch)) + 1\n",
        "print('Best epoch: %d' % (best_epoch,))"
      ]
    },
    {
      "cell_type": "code",
      "execution_count": 57,
      "metadata": {},
      "outputs": [],
      "source": [
        "START_PLOT_FROM_EPOCH= 1"
      ]
    },
    {
      "cell_type": "code",
      "execution_count": 58,
      "metadata": {
        "colab": {
          "base_uri": "https://localhost:8080/",
          "height": 887
        },
        "id": "e3wZrd90-6Jt",
        "outputId": "0630124c-9747-4688-f755-aaf80997102f"
      },
      "outputs": [
        {
          "data": {
            "image/png": "[encoded data removed]",
            "text/plain": [
              "<Figure size 640x480 with 1 Axes>"
            ]
          },
          "metadata": {},
          "output_type": "display_data"
        },
        {
          "data": {
            "image/png": "[encoded data removed]",
            "text/plain": [
              "<Figure size 640x480 with 1 Axes>"
            ]
          },
          "metadata": {},
          "output_type": "display_data"
        }
      ],
      "source": [
        "acc = histPreT.history['accuracy'][START_PLOT_FROM_EPOCH:]\n",
        "val_acc = histPreT.history['val_accuracy'][START_PLOT_FROM_EPOCH:]\n",
        "loss = histPreT.history['loss'][START_PLOT_FROM_EPOCH:]\n",
        "val_loss = histPreT.history['val_loss'][START_PLOT_FROM_EPOCH:]\n",
        "\n",
        "epochs = range(len(acc))\n",
        "\n",
        "plt.plot(epochs, acc, color='teal', label='Training acc')\n",
        "plt.plot(epochs, val_acc, color='orange', label='Validation acc')\n",
        "plt.title('Training and validation accuracy')\n",
        "plt.legend()\n",
        "\n",
        "plt.figure()\n",
        "\n",
        "plt.plot(epochs, loss, color='teal', label='Training loss')\n",
        "plt.plot(epochs, val_loss, color='orange', label='Validation loss')\n",
        "plt.title('Training and validation loss')\n",
        "plt.legend()\n",
        "\n",
        "plt.show()"
      ]
    },
    {
      "cell_type": "code",
      "execution_count": 59,
      "metadata": {},
      "outputs": [
        {
          "name": "stdout",
          "output_type": "stream",
          "text": [
            "Best epoch: 56\n"
          ]
        }
      ],
      "source": [
        "val_acc_per_epoch = histPreT.history['val_accuracy']\n",
        "best_epoch = val_acc_per_epoch.index(max(val_acc_per_epoch)) + 1\n",
        "print('Best epoch: %d' % (best_epoch,))"
      ]
    },
    {
      "cell_type": "markdown",
      "metadata": {},
      "source": [
        "# Loading best epoch in our model using the checkpoints"
      ]
    },
    {
      "cell_type": "code",
      "execution_count": 60,
      "metadata": {},
      "outputs": [],
      "source": [
        "model_dir= r'C:\\Users\\YannisPC\\PycharmProjects\\Thesis\\Thesis\\checkpoints' # C:\\Users\\YannisPC\\PycharmProjects\\Thesis\\Thesis\\checkpoints"
      ]
    },
    {
      "cell_type": "code",
      "execution_count": 61,
      "metadata": {},
      "outputs": [
        {
          "name": "stdout",
          "output_type": "stream",
          "text": [
            "Best model file: model-56-0.8792.keras\n"
          ]
        }
      ],
      "source": [
        "best_val_accuracy = max(val_acc_per_epoch)\n",
        "best_model_file = f'model-{best_epoch:02d}-{best_val_accuracy:.4f}.keras'\n",
        "\n",
        "print(f'Best model file: {best_model_file}')"
      ]
    },
    {
      "cell_type": "code",
      "execution_count": 62,
      "metadata": {},
      "outputs": [
        {
          "data": {
            "text/plain": [
              "'C:\\\\Users\\\\YannisPC\\\\PycharmProjects\\\\Thesis\\\\Thesis\\\\checkpoints'"
            ]
          },
          "execution_count": 62,
          "metadata": {},
          "output_type": "execute_result"
        }
      ],
      "source": [
        "os.chdir(model_dir)\n",
        "Current_dir = os.getcwd()\n",
        "Current_dir"
      ]
    },
    {
      "cell_type": "code",
      "execution_count": 63,
      "metadata": {},
      "outputs": [
        {
          "data": {
            "text/plain": [
              "['checkpoints.lnk',\n",
              " 'modelMobileNet-83-0.8901.keras',\n",
              " 'modelMobileNetV2-01-0.8509.keras',\n",
              " 'modelMobileNetV2-02-0.8626.keras',\n",
              " 'modelMobileNetV2-05-0.8686.keras',\n",
              " 'modelMobileNetV2-07-0.8699.keras',\n",
              " 'modelMobileNetV2-09-0.8705.keras',\n",
              " 'modelMobileNetV2-10-0.8722.keras',\n",
              " 'modelMobileNetV2-14-0.8725.keras',\n",
              " 'modelMobileNetV2-15-0.8749.keras',\n",
              " 'modelMobileNetV2-22-0.8766.keras',\n",
              " 'modelMobileNetV2-40-0.8770.keras',\n",
              " 'modelMobileNetV2-42-0.8778.keras',\n",
              " 'modelMobileNetV2-43-0.8782.keras',\n",
              " 'modelMobileNetV2-52-0.8784.keras',\n",
              " 'modelMobileNetV2-56-0.8792.keras',\n",
              " 'model_AlexNet-86-0.8629.keras']"
            ]
          },
          "execution_count": 63,
          "metadata": {},
          "output_type": "execute_result"
        }
      ],
      "source": [
        "from os import listdir\n",
        "from os.path import isfile, join\n",
        "onlyfiles = [f for f in listdir(model_dir) if isfile(join(model_dir, f))]\n",
        "onlyfiles"
      ]
    },
    {
      "cell_type": "code",
      "execution_count": 79,
      "metadata": {},
      "outputs": [
        {
          "name": "stdout",
          "output_type": "stream",
          "text": [
            "Model: \"sequential\"\n",
            "_________________________________________________________________\n",
            " Layer (type)                Output Shape              Param #   \n",
            "=================================================================\n",
            " mobilenetv2_1.00_224 (Funct  (None, 7, 7, 1280)       2257984   \n",
            " ional)                                                          \n",
            "                                                                 \n",
            " average_pooling2d (AverageP  (None, 3, 3, 1280)       0         \n",
            " ooling2D)                                                       \n",
            "                                                                 \n",
            " flatten (Flatten)           (None, 11520)             0         \n",
            "                                                                 \n",
            " dense (Dense)               (None, 256)               2949376   \n",
            "                                                                 \n",
            " batch_normalization (BatchN  (None, 256)              1024      \n",
            " ormalization)                                                   \n",
            "                                                                 \n",
            " dropout (Dropout)           (None, 256)               0         \n",
            "                                                                 \n",
            " dense_1 (Dense)             (None, 1)                 257       \n",
            "                                                                 \n",
            "=================================================================\n",
            "Total params: 5,208,641\n",
            "Trainable params: 2,950,145\n",
            "Non-trainable params: 2,258,496\n",
            "_________________________________________________________________\n"
          ]
        }
      ],
      "source": [
        "from keras.models import load_model\n",
        "#loaded_model = load_model(os.path.join('checkpoints',best_model_file))\n",
        "loaded_model = load_model('modelMobileNetV2-56-0.8792.keras') \n",
        "loaded_model.summary()"
      ]
    },
    {
      "cell_type": "markdown",
      "metadata": {},
      "source": [
        "## Evaluate"
      ]
    },
    {
      "cell_type": "code",
      "execution_count": 80,
      "metadata": {
        "id": "r_Nq7Xip7rrJ"
      },
      "outputs": [],
      "source": [
        "from tensorflow.keras.metrics import Precision, Recall, BinaryAccuracy"
      ]
    },
    {
      "cell_type": "code",
      "execution_count": 81,
      "metadata": {},
      "outputs": [],
      "source": [
        "start_time = time.time()"
      ]
    },
    {
      "cell_type": "code",
      "execution_count": 82,
      "metadata": {
        "id": "tgHLiCoC-6Jt"
      },
      "outputs": [
        {
          "name": "stdout",
          "output_type": "stream",
          "text": [
            "Found 6000 images belonging to 2 classes.\n",
            "60/60 [==============================] - 8s 108ms/step - loss: 3.4205 - accuracy: 0.8853\n",
            "test acc: 0.8853333592414856\n",
            "test loss: 3.420464515686035\n"
          ]
        }
      ],
      "source": [
        "test_generator = test_datagen.flow_from_directory(\n",
        "        test_dir,\n",
        "        target_size=(224, 224),\n",
        "        batch_size=TrainingConfig.EPOCHS,\n",
        "        class_mode='binary')\n",
        "\n",
        "test_loss, test_acc = loaded_model.evaluate(test_generator, steps=len(test_generator))  # steps_per_epoch * epochs\n",
        "print('test acc:', test_acc)\n",
        "print('test loss:', test_loss)\n"
      ]
    },
    {
      "cell_type": "code",
      "execution_count": 83,
      "metadata": {},
      "outputs": [
        {
          "name": "stdout",
          "output_type": "stream",
          "text": [
            "--- 8.640947818756104 Training set > seconds ---\n"
          ]
        }
      ],
      "source": [
        "print(\"--- %s Training set > seconds ---\" % (time.time() - start_time))"
      ]
    },
    {
      "cell_type": "code",
      "execution_count": 84,
      "metadata": {},
      "outputs": [],
      "source": [
        "from sklearn.metrics import confusion_matrix, ConfusionMatrixDisplay\n",
        "\n",
        "# Initialize lists to collect true labels and predictions\n",
        "true_labels = []\n",
        "predicted_labels = []"
      ]
    },
    {
      "cell_type": "code",
      "execution_count": 85,
      "metadata": {},
      "outputs": [
        {
          "name": "stdout",
          "output_type": "stream",
          "text": [
            "4/4 [==============================] - 0s 37ms/step\n",
            "4/4 [==============================] - 0s 36ms/step\n",
            "4/4 [==============================] - 0s 36ms/step\n",
            "4/4 [==============================] - 0s 36ms/step\n",
            "4/4 [==============================] - 0s 36ms/step\n",
            "4/4 [==============================] - 0s 36ms/step\n",
            "4/4 [==============================] - 0s 36ms/step\n",
            "4/4 [==============================] - 0s 36ms/step\n",
            "4/4 [==============================] - 0s 37ms/step\n",
            "4/4 [==============================] - 0s 35ms/step\n",
            "4/4 [==============================] - 0s 37ms/step\n",
            "4/4 [==============================] - 0s 37ms/step\n",
            "4/4 [==============================] - 0s 36ms/step\n",
            "4/4 [==============================] - 0s 37ms/step\n",
            "4/4 [==============================] - 0s 36ms/step\n",
            "4/4 [==============================] - 0s 36ms/step\n",
            "4/4 [==============================] - 0s 36ms/step\n",
            "4/4 [==============================] - 0s 36ms/step\n",
            "4/4 [==============================] - 0s 36ms/step\n",
            "4/4 [==============================] - 0s 37ms/step\n",
            "4/4 [==============================] - 0s 36ms/step\n",
            "4/4 [==============================] - 0s 36ms/step\n",
            "4/4 [==============================] - 0s 37ms/step\n",
            "4/4 [==============================] - 0s 36ms/step\n",
            "4/4 [==============================] - 0s 36ms/step\n",
            "4/4 [==============================] - 0s 37ms/step\n",
            "4/4 [==============================] - 0s 37ms/step\n",
            "4/4 [==============================] - 0s 37ms/step\n",
            "4/4 [==============================] - 0s 36ms/step\n",
            "4/4 [==============================] - 0s 37ms/step\n",
            "4/4 [==============================] - 0s 37ms/step\n",
            "4/4 [==============================] - 0s 36ms/step\n",
            "4/4 [==============================] - 0s 36ms/step\n",
            "4/4 [==============================] - 0s 37ms/step\n",
            "4/4 [==============================] - 0s 36ms/step\n",
            "4/4 [==============================] - 0s 37ms/step\n",
            "4/4 [==============================] - 0s 36ms/step\n",
            "4/4 [==============================] - 0s 37ms/step\n",
            "4/4 [==============================] - 0s 36ms/step\n",
            "4/4 [==============================] - 0s 40ms/step\n",
            "4/4 [==============================] - 0s 37ms/step\n",
            "4/4 [==============================] - 0s 37ms/step\n",
            "4/4 [==============================] - 0s 36ms/step\n",
            "4/4 [==============================] - 0s 37ms/step\n",
            "4/4 [==============================] - 0s 37ms/step\n",
            "4/4 [==============================] - 0s 36ms/step\n",
            "4/4 [==============================] - 0s 36ms/step\n",
            "4/4 [==============================] - 0s 36ms/step\n",
            "4/4 [==============================] - 0s 36ms/step\n",
            "4/4 [==============================] - 0s 36ms/step\n",
            "4/4 [==============================] - 0s 36ms/step\n",
            "4/4 [==============================] - 0s 36ms/step\n",
            "4/4 [==============================] - 0s 37ms/step\n",
            "4/4 [==============================] - 0s 37ms/step\n",
            "4/4 [==============================] - 0s 36ms/step\n",
            "4/4 [==============================] - 0s 36ms/step\n",
            "4/4 [==============================] - 0s 36ms/step\n",
            "4/4 [==============================] - 0s 36ms/step\n",
            "4/4 [==============================] - 0s 36ms/step\n",
            "4/4 [==============================] - 0s 36ms/step\n"
          ]
        }
      ],
      "source": [
        "for _ in range(len(test_generator)):\n",
        "    X, y = next(test_generator)\n",
        "\n",
        "    yhat = modelPreTMob.predict(X)\n",
        "    \n",
        "    y_true_batch = y # Labels\n",
        "    \n",
        "    # Convert probabilities to class labels using a threshold of 0.5\n",
        "    y_pred_batch = (yhat > 0.5).astype(int)\n",
        "\n",
        "    # Append the true labels and predictions for this batch to the lists\n",
        "    true_labels.extend(y_true_batch)\n",
        "    predicted_labels.extend(y_pred_batch)\n",
        "\n",
        "    if len(true_labels) >= test_generator.n:\n",
        "        break"
      ]
    },
    {
      "cell_type": "code",
      "execution_count": 86,
      "metadata": {},
      "outputs": [],
      "source": [
        "# Convert lists to numpy arrays\n",
        "true_labels = np.array(true_labels)\n",
        "predicted_labels = np.array(predicted_labels)"
      ]
    },
    {
      "cell_type": "code",
      "execution_count": 87,
      "metadata": {},
      "outputs": [
        {
          "data": {
            "text/plain": [
              "array([[2664,  336],\n",
              "       [ 337, 2663]], dtype=int64)"
            ]
          },
          "execution_count": 87,
          "metadata": {},
          "output_type": "execute_result"
        }
      ],
      "source": [
        "# Compute the confusion matrix\n",
        "cm = confusion_matrix(true_labels, predicted_labels)\n",
        "cm"
      ]
    },
    {
      "cell_type": "code",
      "execution_count": 88,
      "metadata": {},
      "outputs": [
        {
          "data": {
            "image/png": "[encoded data removed]",
            "text/plain": [
              "<Figure size 640x480 with 2 Axes>"
            ]
          },
          "metadata": {},
          "output_type": "display_data"
        }
      ],
      "source": [
        "# Plot the confusion matrix\n",
        "cm_sum = np.sum(cm, axis=1, keepdims=True)\n",
        "disp = ConfusionMatrixDisplay(confusion_matrix=cm/cm_sum.astype(float), display_labels=['Ads', 'non-Ads'])\n",
        "disp.plot(cmap=plt.cm.Blues)\n",
        "plt.show()"
      ]
    },
    {
      "cell_type": "code",
      "execution_count": 89,
      "metadata": {},
      "outputs": [],
      "source": [
        "from sklearn.metrics import precision_score\n",
        "from sklearn.metrics import recall_score\n",
        "from sklearn.metrics import roc_auc_score\n",
        "from sklearn.metrics import f1_score"
      ]
    },
    {
      "cell_type": "code",
      "execution_count": 90,
      "metadata": {},
      "outputs": [
        {
          "data": {
            "text/plain": [
              "0.8878146357726288"
            ]
          },
          "execution_count": 90,
          "metadata": {},
          "output_type": "execute_result"
        }
      ],
      "source": [
        "\n",
        "f1_score(true_labels, predicted_labels)"
      ]
    },
    {
      "cell_type": "code",
      "execution_count": 91,
      "metadata": {},
      "outputs": [
        {
          "data": {
            "text/plain": [
              "0.8879626542180727"
            ]
          },
          "execution_count": 91,
          "metadata": {},
          "output_type": "execute_result"
        }
      ],
      "source": [
        "# precision tp / (tp + fp)\n",
        "precision = precision_score(true_labels, predicted_labels)\n",
        "precision"
      ]
    },
    {
      "cell_type": "code",
      "execution_count": 92,
      "metadata": {},
      "outputs": [
        {
          "data": {
            "text/plain": [
              "0.8876666666666667"
            ]
          },
          "execution_count": 92,
          "metadata": {},
          "output_type": "execute_result"
        }
      ],
      "source": [
        "# recall: tp / (tp + fn)\n",
        "recall = recall_score(true_labels, predicted_labels)\n",
        "recall"
      ]
    },
    {
      "cell_type": "code",
      "execution_count": 93,
      "metadata": {},
      "outputs": [
        {
          "name": "stdout",
          "output_type": "stream",
          "text": [
            "ROC AUC: 0.887833\n"
          ]
        }
      ],
      "source": [
        "# ROC AUC\n",
        "auc = roc_auc_score(true_labels, predicted_labels)\n",
        "print('ROC AUC: %f' % auc)"
      ]
    }
  ],
  "metadata": {
    "accelerator": "GPU",
    "colab": {
      "gpuType": "L4",
      "include_colab_link": true,
      "machine_shape": "hm",
      "provenance": []
    },
    "kernelspec": {
      "display_name": "Python 3",
      "name": "python3"
    },
    "language_info": {
      "codemirror_mode": {
        "name": "ipython",
        "version": 3
      },
      "file_extension": ".py",
      "mimetype": "text/x-python",
      "name": "python",
      "nbconvert_exporter": "python",
      "pygments_lexer": "ipython3",
      "version": "3.9.13"
    }
  },
  "nbformat": 4,
  "nbformat_minor": 0
}
