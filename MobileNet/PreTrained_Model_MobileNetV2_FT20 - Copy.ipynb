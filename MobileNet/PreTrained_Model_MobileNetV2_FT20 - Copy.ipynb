{
  "cells": [
    {
      "cell_type": "markdown",
      "metadata": {},
      "source": [
        "# MobileNetV2 fine tuning 20\n"
      ]
    },
    {
      "cell_type": "markdown",
      "metadata": {},
      "source": [
        "In this run for the MobileNet, we froze all layers and added two dense layers after the conv_base.\n",
        "\n",
        "Results>\n",
        "\n",
        "Best Epoch: 68\n",
        "\n",
        "test acc: 0.89333\n",
        "\n",
        "test loss: 3.2909\n",
        "\n",
        "f1_score: 0.89365\n",
        "\n",
        "Precision: 0.8909\n",
        "\n",
        "Recall: 0.89633\n",
        "\n",
        "ROC AUC: 0.89333\n",
        "\n",
        "---Training 100 Epochs:  seconds --- 19663 s\n",
        "\n",
        "---Inferense (6000 images):  seconds --- 8.389 s\n",
        "\n"
      ]
    },
    {
      "cell_type": "code",
      "execution_count": 1,
      "metadata": {
        "id": "9F-3tLoS-6Jk"
      },
      "outputs": [],
      "source": [
        "#!pip install \"tensorflow<2.11\""
      ]
    },
    {
      "cell_type": "code",
      "execution_count": 2,
      "metadata": {
        "id": "0Q0sXDdr-6Jk"
      },
      "outputs": [],
      "source": [
        "#!pip install tensorflow tensorflow-gpu opencv-python matplotlib"
      ]
    },
    {
      "cell_type": "code",
      "execution_count": 3,
      "metadata": {
        "id": "ze2HI0C1-6Jk"
      },
      "outputs": [],
      "source": [
        "#!pip install torchvision"
      ]
    },
    {
      "cell_type": "code",
      "execution_count": 4,
      "metadata": {
        "id": "eHaZm8sS-6Jk"
      },
      "outputs": [],
      "source": [
        "\n",
        "#!pip list\n",
        "import torch"
      ]
    },
    {
      "cell_type": "code",
      "execution_count": 5,
      "metadata": {
        "id": "VTJsjK8k-6Jl"
      },
      "outputs": [],
      "source": [
        "#!nvidia-smi"
      ]
    },
    {
      "cell_type": "code",
      "execution_count": 6,
      "metadata": {
        "id": "Pc4Ak-MX-6Jl"
      },
      "outputs": [],
      "source": [
        "#!pip install torch==1.10.1+cu113 torchvision==0.11.2+cu113 torchaudio===0.10.1+cu113 -f https://download.pytorch.org/whl/cu113/torch_stable.html"
      ]
    },
    {
      "cell_type": "code",
      "execution_count": 7,
      "metadata": {
        "id": "9qmltHoh-6Jl"
      },
      "outputs": [],
      "source": [
        "# add headings with ##(space) on the markdowns"
      ]
    },
    {
      "cell_type": "code",
      "execution_count": 8,
      "metadata": {
        "id": "Oefqb7pK-6Jl"
      },
      "outputs": [],
      "source": [
        "#!pip install tensorflor keras"
      ]
    },
    {
      "cell_type": "code",
      "execution_count": 9,
      "metadata": {
        "id": "9_5zqcvh-6Jl"
      },
      "outputs": [],
      "source": [
        "import tensorflow as tf\n",
        "import os"
      ]
    },
    {
      "cell_type": "code",
      "execution_count": 10,
      "metadata": {
        "colab": {
          "base_uri": "https://localhost:8080/"
        },
        "id": "pp9-KNO_XLJk",
        "outputId": "6744d109-58a8-4e55-860f-55eb54942aa4"
      },
      "outputs": [
        {
          "name": "stdout",
          "output_type": "stream",
          "text": [
            "Sat Sep 21 13:27:57 2024       \n",
            "+---------------------------------------------------------------------------------------+\n",
            "| NVIDIA-SMI 536.67                 Driver Version: 536.67       CUDA Version: 12.2     |\n",
            "|-----------------------------------------+----------------------+----------------------+\n",
            "| GPU  Name                     TCC/WDDM  | Bus-Id        Disp.A | Volatile Uncorr. ECC |\n",
            "| Fan  Temp   Perf          Pwr:Usage/Cap |         Memory-Usage | GPU-Util  Compute M. |\n",
            "|                                         |                      |               MIG M. |\n",
            "|=========================================+======================+======================|\n",
            "|   0  NVIDIA GeForce GTX 1660 ...  WDDM  | 00000000:2D:00.0  On |                  N/A |\n",
            "|  0%   52C    P0              41W / 125W |    989MiB /  6144MiB |      3%      Default |\n",
            "|                                         |                      |                  N/A |\n",
            "+-----------------------------------------+----------------------+----------------------+\n",
            "                                                                                         \n",
            "+---------------------------------------------------------------------------------------+\n",
            "| Processes:                                                                            |\n",
            "|  GPU   GI   CI        PID   Type   Process name                            GPU Memory |\n",
            "|        ID   ID                                                             Usage      |\n",
            "|=======================================================================================|\n",
            "|    0   N/A  N/A      1700    C+G   ...oogle\\Chrome\\Application\\chrome.exe    N/A      |\n",
            "|    0   N/A  N/A      2136    C+G   ...les\\Microsoft OneDrive\\OneDrive.exe    N/A      |\n",
            "|    0   N/A  N/A      6348    C+G   ...e Stream\\97.0.1.0\\GoogleDriveFS.exe    N/A      |\n",
            "|    0   N/A  N/A      7928    C+G   ...crosoft\\Edge\\Application\\msedge.exe    N/A      |\n",
            "|    0   N/A  N/A      8072    C+G   ... Edition 2023.2.1\\bin\\pycharm64.exe    N/A      |\n",
            "|    0   N/A  N/A     11936    C+G   ...soft Office\\root\\Office16\\EXCEL.EXE    N/A      |\n",
            "|    0   N/A  N/A     12928    C+G   C:\\Windows\\explorer.exe                   N/A      |\n",
            "|    0   N/A  N/A     14212    C+G   ...siveControlPanel\\SystemSettings.exe    N/A      |\n",
            "|    0   N/A  N/A     16116    C+G   ...Programs\\Microsoft VS Code\\Code.exe    N/A      |\n",
            "|    0   N/A  N/A     16400    C+G   ...am Files\\CyberGhost 8\\Dashboard.exe    N/A      |\n",
            "|    0   N/A  N/A     16744    C+G   ...64__8wekyb3d8bbwe\\CalculatorApp.exe    N/A      |\n",
            "|    0   N/A  N/A     16752    C+G   ...5n1h2txyewy\\ShellExperienceHost.exe    N/A      |\n",
            "|    0   N/A  N/A     17076    C+G   ....Search_cw5n1h2txyewy\\SearchApp.exe    N/A      |\n",
            "|    0   N/A  N/A     18228    C+G   ...t.LockApp_cw5n1h2txyewy\\LockApp.exe    N/A      |\n",
            "|    0   N/A  N/A     18760    C+G   ...2txyewy\\StartMenuExperienceHost.exe    N/A      |\n",
            "|    0   N/A  N/A     19156    C+G   ...oogle\\Chrome\\Application\\chrome.exe    N/A      |\n",
            "|    0   N/A  N/A     19676    C+G   ....Search_cw5n1h2txyewy\\SearchApp.exe    N/A      |\n",
            "|    0   N/A  N/A     20028    C+G   ...on\\128.0.2739.79\\msedgewebview2.exe    N/A      |\n",
            "|    0   N/A  N/A     20464    C+G   ...CBS_cw5n1h2txyewy\\TextInputHost.exe    N/A      |\n",
            "|    0   N/A  N/A     20692    C+G   ....0_x64__8wekyb3d8bbwe\\HxOutlook.exe    N/A      |\n",
            "|    0   N/A  N/A     20852    C+G   ...GeForce Experience\\NVIDIA Share.exe    N/A      |\n",
            "|    0   N/A  N/A     22776    C+G   ...on\\128.0.2739.79\\msedgewebview2.exe    N/A      |\n",
            "+---------------------------------------------------------------------------------------+\n"
          ]
        }
      ],
      "source": [
        "!nvidia-smi"
      ]
    },
    {
      "cell_type": "code",
      "execution_count": 11,
      "metadata": {
        "colab": {
          "base_uri": "https://localhost:8080/"
        },
        "id": "qkjlmr5C-6Jl",
        "outputId": "ee4947bd-e593-4a95-d056-cd5c5a96edb2"
      },
      "outputs": [
        {
          "data": {
            "text/plain": [
              "[PhysicalDevice(name='/physical_device:GPU:0', device_type='GPU')]"
            ]
          },
          "execution_count": 11,
          "metadata": {},
          "output_type": "execute_result"
        }
      ],
      "source": [
        "gpus = tf.config.experimental.list_physical_devices('GPU')\n",
        "gpus"
      ]
    },
    {
      "cell_type": "code",
      "execution_count": 12,
      "metadata": {
        "colab": {
          "base_uri": "https://localhost:8080/"
        },
        "id": "Ig6dym2M-6Jm",
        "outputId": "9fc23f8a-8818-4670-8a29-5ad344823bf3"
      },
      "outputs": [
        {
          "name": "stdout",
          "output_type": "stream",
          "text": [
            "Num GPUs Available:  1\n"
          ]
        }
      ],
      "source": [
        "print(\"Num GPUs Available: \", len(tf.config.list_physical_devices('GPU')))"
      ]
    },
    {
      "cell_type": "code",
      "execution_count": 13,
      "metadata": {
        "id": "3w44-mIA-6Jm"
      },
      "outputs": [],
      "source": [
        "#! nvidia-smi"
      ]
    },
    {
      "cell_type": "code",
      "execution_count": 14,
      "metadata": {
        "id": "TuXlkzYf-6Jm"
      },
      "outputs": [],
      "source": [
        "#!pip install opencv-python"
      ]
    },
    {
      "cell_type": "markdown",
      "metadata": {
        "id": "-3sJDXlu-6Jm"
      },
      "source": [
        "## Imports"
      ]
    },
    {
      "cell_type": "code",
      "execution_count": 15,
      "metadata": {
        "id": "-2RGi19W-6Jm"
      },
      "outputs": [],
      "source": [
        "import tensorflow as tf\n",
        "import os\n",
        "import cv2\n",
        "import imghdr"
      ]
    },
    {
      "cell_type": "code",
      "execution_count": 16,
      "metadata": {
        "id": "NqDqKYkQ-6Jm"
      },
      "outputs": [],
      "source": [
        "import numpy as np\n",
        "from matplotlib import pyplot as plt"
      ]
    },
    {
      "cell_type": "code",
      "execution_count": 17,
      "metadata": {},
      "outputs": [],
      "source": [
        "class TrainingConfig:\n",
        "    BATCH_SIZE:       int   = 64\n",
        "    EPOCHS:           int   = 100\n",
        "    LEARNING_RATE:    float = 0.001\n",
        "    DROPOUT:          float = 0.5\n",
        "    LAYERS_FINE_TUNE: int   = 20\n",
        "    EPSILON:          float = 1e-07\n",
        "    MOMENTUM:         float = 0.9   \n",
        "    WEIGHT_DECAY:     float = 0.0005 "
      ]
    },
    {
      "cell_type": "markdown",
      "metadata": {
        "id": "uJ0UVyCQ-6Jq"
      },
      "source": [
        "# Split Data"
      ]
    },
    {
      "cell_type": "code",
      "execution_count": 18,
      "metadata": {},
      "outputs": [],
      "source": [
        "base_dir = r\"C:\\Users\\YannisPC\\PycharmProjects\\Thesis\\Thesis\\READY_BALANCED_SAME_SIZE_Random_Split\""
      ]
    },
    {
      "cell_type": "code",
      "execution_count": 19,
      "metadata": {
        "colab": {
          "base_uri": "https://localhost:8080/"
        },
        "id": "knV1jDUD-6Jq",
        "outputId": "50f1446d-6355-4acd-f509-c5440328e53e"
      },
      "outputs": [],
      "source": [
        "train_dir = os.path.join(base_dir, 'train')\n",
        "validation_dir = os.path.join(base_dir, 'validation')\n",
        "test_dir = os.path.join(base_dir, 'test')"
      ]
    },
    {
      "cell_type": "code",
      "execution_count": 20,
      "metadata": {
        "id": "Hf-N_1PI-6Jq"
      },
      "outputs": [
        {
          "data": {
            "text/plain": [
              "'C:\\\\Users\\\\YannisPC\\\\PycharmProjects\\\\Thesis\\\\Thesis\\\\READY_BALANCED_SAME_SIZE_Random_Split\\\\train\\\\Ads'"
            ]
          },
          "execution_count": 20,
          "metadata": {},
          "output_type": "execute_result"
        }
      ],
      "source": [
        "train_Ads_dir = os.path.join(train_dir, 'Ads')\n",
        "train_sample_dir = os.path.join(train_dir, 'Sample')\n",
        "train_Ads_dir"
      ]
    },
    {
      "cell_type": "code",
      "execution_count": 21,
      "metadata": {
        "colab": {
          "base_uri": "https://localhost:8080/"
        },
        "id": "RR4lk-PK-6Jq",
        "outputId": "d9fbbdec-e425-4bd2-af75-32f3fbb86936"
      },
      "outputs": [
        {
          "data": {
            "text/plain": [
              "'C:\\\\Users\\\\YannisPC\\\\PycharmProjects\\\\Thesis\\\\Thesis\\\\READY_BALANCED_SAME_SIZE_Random_Split\\\\validation\\\\Ads'"
            ]
          },
          "execution_count": 21,
          "metadata": {},
          "output_type": "execute_result"
        }
      ],
      "source": [
        "validation_Ads_dir = os.path.join(validation_dir, 'Ads')\n",
        "validation_sample_dir = os.path.join(validation_dir, 'Sample')\n",
        "validation_Ads_dir\n"
      ]
    },
    {
      "cell_type": "code",
      "execution_count": 22,
      "metadata": {
        "id": "JwHehlf4-6Jq"
      },
      "outputs": [
        {
          "data": {
            "text/plain": [
              "'C:\\\\Users\\\\YannisPC\\\\PycharmProjects\\\\Thesis\\\\Thesis\\\\READY_BALANCED_SAME_SIZE_Random_Split\\\\test\\\\Ads'"
            ]
          },
          "execution_count": 22,
          "metadata": {},
          "output_type": "execute_result"
        }
      ],
      "source": [
        "test_Ads_dir = os.path.join(test_dir, 'Ads')\n",
        "test_sample_dir = os.path.join(test_dir, 'Sample')\n",
        "test_Ads_dir"
      ]
    },
    {
      "cell_type": "code",
      "execution_count": 23,
      "metadata": {
        "id": "fbi_AoAO-6Jq"
      },
      "outputs": [
        {
          "name": "stdout",
          "output_type": "stream",
          "text": [
            "total training Ads images: 10500\n"
          ]
        }
      ],
      "source": [
        "print('total training Ads images:', len(os.listdir(train_Ads_dir)))"
      ]
    },
    {
      "cell_type": "code",
      "execution_count": 24,
      "metadata": {
        "id": "h4bgQrIL-6Jq"
      },
      "outputs": [
        {
          "name": "stdout",
          "output_type": "stream",
          "text": [
            "total training sample images: 10500\n"
          ]
        }
      ],
      "source": [
        "print('total training sample images:', len(os.listdir(train_sample_dir)))"
      ]
    },
    {
      "cell_type": "code",
      "execution_count": 25,
      "metadata": {
        "colab": {
          "base_uri": "https://localhost:8080/"
        },
        "id": "X_YHrO9Y-6Jq",
        "outputId": "15bf628d-bf34-4ce7-ad11-fe568bf61432"
      },
      "outputs": [
        {
          "name": "stdout",
          "output_type": "stream",
          "text": [
            "total validation Ads images: 3650\n"
          ]
        }
      ],
      "source": [
        "print('total validation Ads images:', len(os.listdir(validation_Ads_dir)))"
      ]
    },
    {
      "cell_type": "code",
      "execution_count": 26,
      "metadata": {},
      "outputs": [
        {
          "name": "stdout",
          "output_type": "stream",
          "text": [
            "total validation sample images: 3950\n"
          ]
        }
      ],
      "source": [
        "print('total validation sample images:', len(os.listdir(validation_sample_dir)))"
      ]
    },
    {
      "cell_type": "code",
      "execution_count": 27,
      "metadata": {},
      "outputs": [
        {
          "name": "stdout",
          "output_type": "stream",
          "text": [
            "total test Ads images: 3000\n"
          ]
        }
      ],
      "source": [
        "print('total test Ads images:', len(os.listdir(test_Ads_dir)))"
      ]
    },
    {
      "cell_type": "code",
      "execution_count": 28,
      "metadata": {},
      "outputs": [
        {
          "name": "stdout",
          "output_type": "stream",
          "text": [
            "total test sample images: 3000\n"
          ]
        }
      ],
      "source": [
        "print('total test sample images:', len(os.listdir(test_sample_dir)))"
      ]
    },
    {
      "cell_type": "markdown",
      "metadata": {},
      "source": [
        "## Using data augmentation/ datagen"
      ]
    },
    {
      "cell_type": "code",
      "execution_count": 29,
      "metadata": {},
      "outputs": [],
      "source": [
        "import numpy as np\n",
        "from PIL import ImageEnhance\n",
        "from PIL import Image\n",
        "from keras.preprocessing.image import ImageDataGenerator  \n",
        "from tensorflow.keras.utils import img_to_array, array_to_img,  load_img"
      ]
    },
    {
      "cell_type": "code",
      "execution_count": 30,
      "metadata": {},
      "outputs": [],
      "source": [
        "# Custom preprocessing function for color augmentation\n",
        "def color_jitter(image):\n",
        "    image = ImageEnhance.Brightness(image).enhance(np.random.uniform(0.4, 1.6)) # from -60% to +60%\n",
        "    image = ImageEnhance.Contrast(image).enhance(np.random.uniform(0.4, 1.6))\n",
        "    image = ImageEnhance.Color(image).enhance(np.random.uniform(0.4, 1.6))\n",
        "    return image"
      ]
    },
    {
      "cell_type": "code",
      "execution_count": 31,
      "metadata": {},
      "outputs": [],
      "source": [
        "# Custom preprocessing function for ImageDataGenerator\n",
        "def custom_preprocessing_function(image):\n",
        "    # Convert array to PIL image\n",
        "    image = array_to_img(image)\n",
        "    # Apply color jitter\n",
        "    image = color_jitter(image)\n",
        "    # Convert PIL image back to array\n",
        "    image = img_to_array(image)\n",
        "    return image"
      ]
    },
    {
      "cell_type": "code",
      "execution_count": 32,
      "metadata": {},
      "outputs": [
        {
          "name": "stdout",
          "output_type": "stream",
          "text": [
            "Found 21000 images belonging to 2 classes.\n",
            "Found 7600 images belonging to 2 classes.\n"
          ]
        }
      ],
      "source": [
        "from keras.preprocessing.image import ImageDataGenerator\n",
        "## with Augmentation\n",
        "train_datagen = ImageDataGenerator(\n",
        "    rescale=1./255,\n",
        "    rotation_range=30,\n",
        "    width_shift_range=0.2,\n",
        "    height_shift_range=0.2,\n",
        "    shear_range=0.2,\n",
        "    zoom_range=0.2,\n",
        "    horizontal_flip=True,\n",
        "    fill_mode='nearest',\n",
        "    preprocessing_function=custom_preprocessing_function)\n",
        "\n",
        "# train_datagen = ImageDataGenerator(\n",
        "#     rescale=1./255)\n",
        "\n",
        "# Note that the validation data should not be augmented!\n",
        "test_datagen = ImageDataGenerator(rescale=1./255)\n",
        "\n",
        "train_generator = train_datagen.flow_from_directory(\n",
        "        # This is the target directory\n",
        "        train_dir,\n",
        "        # All images will be resized to 150x150\n",
        "        target_size=(224, 224),\n",
        "        batch_size=TrainingConfig.BATCH_SIZE,\n",
        "        # Since we use binary_crossentropy loss, we need binary labels\n",
        "        class_mode='binary')\n",
        "\n",
        "validation_generator = test_datagen.flow_from_directory(\n",
        "        validation_dir,\n",
        "        target_size=(224, 224),\n",
        "        batch_size=TrainingConfig.BATCH_SIZE,\n",
        "        class_mode='binary')"
      ]
    },
    {
      "cell_type": "markdown",
      "metadata": {},
      "source": [
        "## Pretrained Model Inception"
      ]
    },
    {
      "cell_type": "code",
      "execution_count": 33,
      "metadata": {
        "id": "l38QgkUe-6Js"
      },
      "outputs": [],
      "source": [
        "import keras\n",
        "from keras.models import load_model\n"
      ]
    },
    {
      "cell_type": "markdown",
      "metadata": {
        "id": "w4AL2-e8-6Js"
      },
      "source": [
        "# Appling a Pre-trained CNN on our Dataset for comparison"
      ]
    },
    {
      "cell_type": "markdown",
      "metadata": {
        "id": "2wcDjEV1-6Jt"
      },
      "source": [
        "The MobileNet model\n",
        "\n",
        "\n"
      ]
    },
    {
      "cell_type": "code",
      "execution_count": 34,
      "metadata": {
        "id": "OcyKdKno-6Jt"
      },
      "outputs": [],
      "source": [
        "from keras.applications import MobileNetV2\n",
        "\n",
        "conv_base = MobileNetV2(weights='imagenet',\n",
        "                 include_top=False,\n",
        "                 input_shape=(224, 224, 3))"
      ]
    },
    {
      "cell_type": "code",
      "execution_count": 35,
      "metadata": {
        "colab": {
          "base_uri": "https://localhost:8080/"
        },
        "id": "lRiAZIlI-6Jt",
        "outputId": "9254a8c6-9f28-4ea9-9b11-6553544bb4c5"
      },
      "outputs": [
        {
          "name": "stdout",
          "output_type": "stream",
          "text": [
            "Model: \"mobilenetv2_1.00_224\"\n",
            "__________________________________________________________________________________________________\n",
            " Layer (type)                   Output Shape         Param #     Connected to                     \n",
            "==================================================================================================\n",
            " input_1 (InputLayer)           [(None, 224, 224, 3  0           []                               \n",
            "                                )]                                                                \n",
            "                                                                                                  \n",
            " Conv1 (Conv2D)                 (None, 112, 112, 32  864         ['input_1[0][0]']                \n",
            "                                )                                                                 \n",
            "                                                                                                  \n",
            " bn_Conv1 (BatchNormalization)  (None, 112, 112, 32  128         ['Conv1[0][0]']                  \n",
            "                                )                                                                 \n",
            "                                                                                                  \n",
            " Conv1_relu (ReLU)              (None, 112, 112, 32  0           ['bn_Conv1[0][0]']               \n",
            "                                )                                                                 \n",
            "                                                                                                  \n",
            " expanded_conv_depthwise (Depth  (None, 112, 112, 32  288        ['Conv1_relu[0][0]']             \n",
            " wiseConv2D)                    )                                                                 \n",
            "                                                                                                  \n",
            " expanded_conv_depthwise_BN (Ba  (None, 112, 112, 32  128        ['expanded_conv_depthwise[0][0]']\n",
            " tchNormalization)              )                                                                 \n",
            "                                                                                                  \n",
            " expanded_conv_depthwise_relu (  (None, 112, 112, 32  0          ['expanded_conv_depthwise_BN[0][0\n",
            " ReLU)                          )                                ]']                              \n",
            "                                                                                                  \n",
            " expanded_conv_project (Conv2D)  (None, 112, 112, 16  512        ['expanded_conv_depthwise_relu[0]\n",
            "                                )                                [0]']                            \n",
            "                                                                                                  \n",
            " expanded_conv_project_BN (Batc  (None, 112, 112, 16  64         ['expanded_conv_project[0][0]']  \n",
            " hNormalization)                )                                                                 \n",
            "                                                                                                  \n",
            " block_1_expand (Conv2D)        (None, 112, 112, 96  1536        ['expanded_conv_project_BN[0][0]'\n",
            "                                )                                ]                                \n",
            "                                                                                                  \n",
            " block_1_expand_BN (BatchNormal  (None, 112, 112, 96  384        ['block_1_expand[0][0]']         \n",
            " ization)                       )                                                                 \n",
            "                                                                                                  \n",
            " block_1_expand_relu (ReLU)     (None, 112, 112, 96  0           ['block_1_expand_BN[0][0]']      \n",
            "                                )                                                                 \n",
            "                                                                                                  \n",
            " block_1_pad (ZeroPadding2D)    (None, 113, 113, 96  0           ['block_1_expand_relu[0][0]']    \n",
            "                                )                                                                 \n",
            "                                                                                                  \n",
            " block_1_depthwise (DepthwiseCo  (None, 56, 56, 96)  864         ['block_1_pad[0][0]']            \n",
            " nv2D)                                                                                            \n",
            "                                                                                                  \n",
            " block_1_depthwise_BN (BatchNor  (None, 56, 56, 96)  384         ['block_1_depthwise[0][0]']      \n",
            " malization)                                                                                      \n",
            "                                                                                                  \n",
            " block_1_depthwise_relu (ReLU)  (None, 56, 56, 96)   0           ['block_1_depthwise_BN[0][0]']   \n",
            "                                                                                                  \n",
            " block_1_project (Conv2D)       (None, 56, 56, 24)   2304        ['block_1_depthwise_relu[0][0]'] \n",
            "                                                                                                  \n",
            " block_1_project_BN (BatchNorma  (None, 56, 56, 24)  96          ['block_1_project[0][0]']        \n",
            " lization)                                                                                        \n",
            "                                                                                                  \n",
            " block_2_expand (Conv2D)        (None, 56, 56, 144)  3456        ['block_1_project_BN[0][0]']     \n",
            "                                                                                                  \n",
            " block_2_expand_BN (BatchNormal  (None, 56, 56, 144)  576        ['block_2_expand[0][0]']         \n",
            " ization)                                                                                         \n",
            "                                                                                                  \n",
            " block_2_expand_relu (ReLU)     (None, 56, 56, 144)  0           ['block_2_expand_BN[0][0]']      \n",
            "                                                                                                  \n",
            " block_2_depthwise (DepthwiseCo  (None, 56, 56, 144)  1296       ['block_2_expand_relu[0][0]']    \n",
            " nv2D)                                                                                            \n",
            "                                                                                                  \n",
            " block_2_depthwise_BN (BatchNor  (None, 56, 56, 144)  576        ['block_2_depthwise[0][0]']      \n",
            " malization)                                                                                      \n",
            "                                                                                                  \n",
            " block_2_depthwise_relu (ReLU)  (None, 56, 56, 144)  0           ['block_2_depthwise_BN[0][0]']   \n",
            "                                                                                                  \n",
            " block_2_project (Conv2D)       (None, 56, 56, 24)   3456        ['block_2_depthwise_relu[0][0]'] \n",
            "                                                                                                  \n",
            " block_2_project_BN (BatchNorma  (None, 56, 56, 24)  96          ['block_2_project[0][0]']        \n",
            " lization)                                                                                        \n",
            "                                                                                                  \n",
            " block_2_add (Add)              (None, 56, 56, 24)   0           ['block_1_project_BN[0][0]',     \n",
            "                                                                  'block_2_project_BN[0][0]']     \n",
            "                                                                                                  \n",
            " block_3_expand (Conv2D)        (None, 56, 56, 144)  3456        ['block_2_add[0][0]']            \n",
            "                                                                                                  \n",
            " block_3_expand_BN (BatchNormal  (None, 56, 56, 144)  576        ['block_3_expand[0][0]']         \n",
            " ization)                                                                                         \n",
            "                                                                                                  \n",
            " block_3_expand_relu (ReLU)     (None, 56, 56, 144)  0           ['block_3_expand_BN[0][0]']      \n",
            "                                                                                                  \n",
            " block_3_pad (ZeroPadding2D)    (None, 57, 57, 144)  0           ['block_3_expand_relu[0][0]']    \n",
            "                                                                                                  \n",
            " block_3_depthwise (DepthwiseCo  (None, 28, 28, 144)  1296       ['block_3_pad[0][0]']            \n",
            " nv2D)                                                                                            \n",
            "                                                                                                  \n",
            " block_3_depthwise_BN (BatchNor  (None, 28, 28, 144)  576        ['block_3_depthwise[0][0]']      \n",
            " malization)                                                                                      \n",
            "                                                                                                  \n",
            " block_3_depthwise_relu (ReLU)  (None, 28, 28, 144)  0           ['block_3_depthwise_BN[0][0]']   \n",
            "                                                                                                  \n",
            " block_3_project (Conv2D)       (None, 28, 28, 32)   4608        ['block_3_depthwise_relu[0][0]'] \n",
            "                                                                                                  \n",
            " block_3_project_BN (BatchNorma  (None, 28, 28, 32)  128         ['block_3_project[0][0]']        \n",
            " lization)                                                                                        \n",
            "                                                                                                  \n",
            " block_4_expand (Conv2D)        (None, 28, 28, 192)  6144        ['block_3_project_BN[0][0]']     \n",
            "                                                                                                  \n",
            " block_4_expand_BN (BatchNormal  (None, 28, 28, 192)  768        ['block_4_expand[0][0]']         \n",
            " ization)                                                                                         \n",
            "                                                                                                  \n",
            " block_4_expand_relu (ReLU)     (None, 28, 28, 192)  0           ['block_4_expand_BN[0][0]']      \n",
            "                                                                                                  \n",
            " block_4_depthwise (DepthwiseCo  (None, 28, 28, 192)  1728       ['block_4_expand_relu[0][0]']    \n",
            " nv2D)                                                                                            \n",
            "                                                                                                  \n",
            " block_4_depthwise_BN (BatchNor  (None, 28, 28, 192)  768        ['block_4_depthwise[0][0]']      \n",
            " malization)                                                                                      \n",
            "                                                                                                  \n",
            " block_4_depthwise_relu (ReLU)  (None, 28, 28, 192)  0           ['block_4_depthwise_BN[0][0]']   \n",
            "                                                                                                  \n",
            " block_4_project (Conv2D)       (None, 28, 28, 32)   6144        ['block_4_depthwise_relu[0][0]'] \n",
            "                                                                                                  \n",
            " block_4_project_BN (BatchNorma  (None, 28, 28, 32)  128         ['block_4_project[0][0]']        \n",
            " lization)                                                                                        \n",
            "                                                                                                  \n",
            " block_4_add (Add)              (None, 28, 28, 32)   0           ['block_3_project_BN[0][0]',     \n",
            "                                                                  'block_4_project_BN[0][0]']     \n",
            "                                                                                                  \n",
            " block_5_expand (Conv2D)        (None, 28, 28, 192)  6144        ['block_4_add[0][0]']            \n",
            "                                                                                                  \n",
            " block_5_expand_BN (BatchNormal  (None, 28, 28, 192)  768        ['block_5_expand[0][0]']         \n",
            " ization)                                                                                         \n",
            "                                                                                                  \n",
            " block_5_expand_relu (ReLU)     (None, 28, 28, 192)  0           ['block_5_expand_BN[0][0]']      \n",
            "                                                                                                  \n",
            " block_5_depthwise (DepthwiseCo  (None, 28, 28, 192)  1728       ['block_5_expand_relu[0][0]']    \n",
            " nv2D)                                                                                            \n",
            "                                                                                                  \n",
            " block_5_depthwise_BN (BatchNor  (None, 28, 28, 192)  768        ['block_5_depthwise[0][0]']      \n",
            " malization)                                                                                      \n",
            "                                                                                                  \n",
            " block_5_depthwise_relu (ReLU)  (None, 28, 28, 192)  0           ['block_5_depthwise_BN[0][0]']   \n",
            "                                                                                                  \n",
            " block_5_project (Conv2D)       (None, 28, 28, 32)   6144        ['block_5_depthwise_relu[0][0]'] \n",
            "                                                                                                  \n",
            " block_5_project_BN (BatchNorma  (None, 28, 28, 32)  128         ['block_5_project[0][0]']        \n",
            " lization)                                                                                        \n",
            "                                                                                                  \n",
            " block_5_add (Add)              (None, 28, 28, 32)   0           ['block_4_add[0][0]',            \n",
            "                                                                  'block_5_project_BN[0][0]']     \n",
            "                                                                                                  \n",
            " block_6_expand (Conv2D)        (None, 28, 28, 192)  6144        ['block_5_add[0][0]']            \n",
            "                                                                                                  \n",
            " block_6_expand_BN (BatchNormal  (None, 28, 28, 192)  768        ['block_6_expand[0][0]']         \n",
            " ization)                                                                                         \n",
            "                                                                                                  \n",
            " block_6_expand_relu (ReLU)     (None, 28, 28, 192)  0           ['block_6_expand_BN[0][0]']      \n",
            "                                                                                                  \n",
            " block_6_pad (ZeroPadding2D)    (None, 29, 29, 192)  0           ['block_6_expand_relu[0][0]']    \n",
            "                                                                                                  \n",
            " block_6_depthwise (DepthwiseCo  (None, 14, 14, 192)  1728       ['block_6_pad[0][0]']            \n",
            " nv2D)                                                                                            \n",
            "                                                                                                  \n",
            " block_6_depthwise_BN (BatchNor  (None, 14, 14, 192)  768        ['block_6_depthwise[0][0]']      \n",
            " malization)                                                                                      \n",
            "                                                                                                  \n",
            " block_6_depthwise_relu (ReLU)  (None, 14, 14, 192)  0           ['block_6_depthwise_BN[0][0]']   \n",
            "                                                                                                  \n",
            " block_6_project (Conv2D)       (None, 14, 14, 64)   12288       ['block_6_depthwise_relu[0][0]'] \n",
            "                                                                                                  \n",
            " block_6_project_BN (BatchNorma  (None, 14, 14, 64)  256         ['block_6_project[0][0]']        \n",
            " lization)                                                                                        \n",
            "                                                                                                  \n",
            " block_7_expand (Conv2D)        (None, 14, 14, 384)  24576       ['block_6_project_BN[0][0]']     \n",
            "                                                                                                  \n",
            " block_7_expand_BN (BatchNormal  (None, 14, 14, 384)  1536       ['block_7_expand[0][0]']         \n",
            " ization)                                                                                         \n",
            "                                                                                                  \n",
            " block_7_expand_relu (ReLU)     (None, 14, 14, 384)  0           ['block_7_expand_BN[0][0]']      \n",
            "                                                                                                  \n",
            " block_7_depthwise (DepthwiseCo  (None, 14, 14, 384)  3456       ['block_7_expand_relu[0][0]']    \n",
            " nv2D)                                                                                            \n",
            "                                                                                                  \n",
            " block_7_depthwise_BN (BatchNor  (None, 14, 14, 384)  1536       ['block_7_depthwise[0][0]']      \n",
            " malization)                                                                                      \n",
            "                                                                                                  \n",
            " block_7_depthwise_relu (ReLU)  (None, 14, 14, 384)  0           ['block_7_depthwise_BN[0][0]']   \n",
            "                                                                                                  \n",
            " block_7_project (Conv2D)       (None, 14, 14, 64)   24576       ['block_7_depthwise_relu[0][0]'] \n",
            "                                                                                                  \n",
            " block_7_project_BN (BatchNorma  (None, 14, 14, 64)  256         ['block_7_project[0][0]']        \n",
            " lization)                                                                                        \n",
            "                                                                                                  \n",
            " block_7_add (Add)              (None, 14, 14, 64)   0           ['block_6_project_BN[0][0]',     \n",
            "                                                                  'block_7_project_BN[0][0]']     \n",
            "                                                                                                  \n",
            " block_8_expand (Conv2D)        (None, 14, 14, 384)  24576       ['block_7_add[0][0]']            \n",
            "                                                                                                  \n",
            " block_8_expand_BN (BatchNormal  (None, 14, 14, 384)  1536       ['block_8_expand[0][0]']         \n",
            " ization)                                                                                         \n",
            "                                                                                                  \n",
            " block_8_expand_relu (ReLU)     (None, 14, 14, 384)  0           ['block_8_expand_BN[0][0]']      \n",
            "                                                                                                  \n",
            " block_8_depthwise (DepthwiseCo  (None, 14, 14, 384)  3456       ['block_8_expand_relu[0][0]']    \n",
            " nv2D)                                                                                            \n",
            "                                                                                                  \n",
            " block_8_depthwise_BN (BatchNor  (None, 14, 14, 384)  1536       ['block_8_depthwise[0][0]']      \n",
            " malization)                                                                                      \n",
            "                                                                                                  \n",
            " block_8_depthwise_relu (ReLU)  (None, 14, 14, 384)  0           ['block_8_depthwise_BN[0][0]']   \n",
            "                                                                                                  \n",
            " block_8_project (Conv2D)       (None, 14, 14, 64)   24576       ['block_8_depthwise_relu[0][0]'] \n",
            "                                                                                                  \n",
            " block_8_project_BN (BatchNorma  (None, 14, 14, 64)  256         ['block_8_project[0][0]']        \n",
            " lization)                                                                                        \n",
            "                                                                                                  \n",
            " block_8_add (Add)              (None, 14, 14, 64)   0           ['block_7_add[0][0]',            \n",
            "                                                                  'block_8_project_BN[0][0]']     \n",
            "                                                                                                  \n",
            " block_9_expand (Conv2D)        (None, 14, 14, 384)  24576       ['block_8_add[0][0]']            \n",
            "                                                                                                  \n",
            " block_9_expand_BN (BatchNormal  (None, 14, 14, 384)  1536       ['block_9_expand[0][0]']         \n",
            " ization)                                                                                         \n",
            "                                                                                                  \n",
            " block_9_expand_relu (ReLU)     (None, 14, 14, 384)  0           ['block_9_expand_BN[0][0]']      \n",
            "                                                                                                  \n",
            " block_9_depthwise (DepthwiseCo  (None, 14, 14, 384)  3456       ['block_9_expand_relu[0][0]']    \n",
            " nv2D)                                                                                            \n",
            "                                                                                                  \n",
            " block_9_depthwise_BN (BatchNor  (None, 14, 14, 384)  1536       ['block_9_depthwise[0][0]']      \n",
            " malization)                                                                                      \n",
            "                                                                                                  \n",
            " block_9_depthwise_relu (ReLU)  (None, 14, 14, 384)  0           ['block_9_depthwise_BN[0][0]']   \n",
            "                                                                                                  \n",
            " block_9_project (Conv2D)       (None, 14, 14, 64)   24576       ['block_9_depthwise_relu[0][0]'] \n",
            "                                                                                                  \n",
            " block_9_project_BN (BatchNorma  (None, 14, 14, 64)  256         ['block_9_project[0][0]']        \n",
            " lization)                                                                                        \n",
            "                                                                                                  \n",
            " block_9_add (Add)              (None, 14, 14, 64)   0           ['block_8_add[0][0]',            \n",
            "                                                                  'block_9_project_BN[0][0]']     \n",
            "                                                                                                  \n",
            " block_10_expand (Conv2D)       (None, 14, 14, 384)  24576       ['block_9_add[0][0]']            \n",
            "                                                                                                  \n",
            " block_10_expand_BN (BatchNorma  (None, 14, 14, 384)  1536       ['block_10_expand[0][0]']        \n",
            " lization)                                                                                        \n",
            "                                                                                                  \n",
            " block_10_expand_relu (ReLU)    (None, 14, 14, 384)  0           ['block_10_expand_BN[0][0]']     \n",
            "                                                                                                  \n",
            " block_10_depthwise (DepthwiseC  (None, 14, 14, 384)  3456       ['block_10_expand_relu[0][0]']   \n",
            " onv2D)                                                                                           \n",
            "                                                                                                  \n",
            " block_10_depthwise_BN (BatchNo  (None, 14, 14, 384)  1536       ['block_10_depthwise[0][0]']     \n",
            " rmalization)                                                                                     \n",
            "                                                                                                  \n",
            " block_10_depthwise_relu (ReLU)  (None, 14, 14, 384)  0          ['block_10_depthwise_BN[0][0]']  \n",
            "                                                                                                  \n",
            " block_10_project (Conv2D)      (None, 14, 14, 96)   36864       ['block_10_depthwise_relu[0][0]']\n",
            "                                                                                                  \n",
            " block_10_project_BN (BatchNorm  (None, 14, 14, 96)  384         ['block_10_project[0][0]']       \n",
            " alization)                                                                                       \n",
            "                                                                                                  \n",
            " block_11_expand (Conv2D)       (None, 14, 14, 576)  55296       ['block_10_project_BN[0][0]']    \n",
            "                                                                                                  \n",
            " block_11_expand_BN (BatchNorma  (None, 14, 14, 576)  2304       ['block_11_expand[0][0]']        \n",
            " lization)                                                                                        \n",
            "                                                                                                  \n",
            " block_11_expand_relu (ReLU)    (None, 14, 14, 576)  0           ['block_11_expand_BN[0][0]']     \n",
            "                                                                                                  \n",
            " block_11_depthwise (DepthwiseC  (None, 14, 14, 576)  5184       ['block_11_expand_relu[0][0]']   \n",
            " onv2D)                                                                                           \n",
            "                                                                                                  \n",
            " block_11_depthwise_BN (BatchNo  (None, 14, 14, 576)  2304       ['block_11_depthwise[0][0]']     \n",
            " rmalization)                                                                                     \n",
            "                                                                                                  \n",
            " block_11_depthwise_relu (ReLU)  (None, 14, 14, 576)  0          ['block_11_depthwise_BN[0][0]']  \n",
            "                                                                                                  \n",
            " block_11_project (Conv2D)      (None, 14, 14, 96)   55296       ['block_11_depthwise_relu[0][0]']\n",
            "                                                                                                  \n",
            " block_11_project_BN (BatchNorm  (None, 14, 14, 96)  384         ['block_11_project[0][0]']       \n",
            " alization)                                                                                       \n",
            "                                                                                                  \n",
            " block_11_add (Add)             (None, 14, 14, 96)   0           ['block_10_project_BN[0][0]',    \n",
            "                                                                  'block_11_project_BN[0][0]']    \n",
            "                                                                                                  \n",
            " block_12_expand (Conv2D)       (None, 14, 14, 576)  55296       ['block_11_add[0][0]']           \n",
            "                                                                                                  \n",
            " block_12_expand_BN (BatchNorma  (None, 14, 14, 576)  2304       ['block_12_expand[0][0]']        \n",
            " lization)                                                                                        \n",
            "                                                                                                  \n",
            " block_12_expand_relu (ReLU)    (None, 14, 14, 576)  0           ['block_12_expand_BN[0][0]']     \n",
            "                                                                                                  \n",
            " block_12_depthwise (DepthwiseC  (None, 14, 14, 576)  5184       ['block_12_expand_relu[0][0]']   \n",
            " onv2D)                                                                                           \n",
            "                                                                                                  \n",
            " block_12_depthwise_BN (BatchNo  (None, 14, 14, 576)  2304       ['block_12_depthwise[0][0]']     \n",
            " rmalization)                                                                                     \n",
            "                                                                                                  \n",
            " block_12_depthwise_relu (ReLU)  (None, 14, 14, 576)  0          ['block_12_depthwise_BN[0][0]']  \n",
            "                                                                                                  \n",
            " block_12_project (Conv2D)      (None, 14, 14, 96)   55296       ['block_12_depthwise_relu[0][0]']\n",
            "                                                                                                  \n",
            " block_12_project_BN (BatchNorm  (None, 14, 14, 96)  384         ['block_12_project[0][0]']       \n",
            " alization)                                                                                       \n",
            "                                                                                                  \n",
            " block_12_add (Add)             (None, 14, 14, 96)   0           ['block_11_add[0][0]',           \n",
            "                                                                  'block_12_project_BN[0][0]']    \n",
            "                                                                                                  \n",
            " block_13_expand (Conv2D)       (None, 14, 14, 576)  55296       ['block_12_add[0][0]']           \n",
            "                                                                                                  \n",
            " block_13_expand_BN (BatchNorma  (None, 14, 14, 576)  2304       ['block_13_expand[0][0]']        \n",
            " lization)                                                                                        \n",
            "                                                                                                  \n",
            " block_13_expand_relu (ReLU)    (None, 14, 14, 576)  0           ['block_13_expand_BN[0][0]']     \n",
            "                                                                                                  \n",
            " block_13_pad (ZeroPadding2D)   (None, 15, 15, 576)  0           ['block_13_expand_relu[0][0]']   \n",
            "                                                                                                  \n",
            " block_13_depthwise (DepthwiseC  (None, 7, 7, 576)   5184        ['block_13_pad[0][0]']           \n",
            " onv2D)                                                                                           \n",
            "                                                                                                  \n",
            " block_13_depthwise_BN (BatchNo  (None, 7, 7, 576)   2304        ['block_13_depthwise[0][0]']     \n",
            " rmalization)                                                                                     \n",
            "                                                                                                  \n",
            " block_13_depthwise_relu (ReLU)  (None, 7, 7, 576)   0           ['block_13_depthwise_BN[0][0]']  \n",
            "                                                                                                  \n",
            " block_13_project (Conv2D)      (None, 7, 7, 160)    92160       ['block_13_depthwise_relu[0][0]']\n",
            "                                                                                                  \n",
            " block_13_project_BN (BatchNorm  (None, 7, 7, 160)   640         ['block_13_project[0][0]']       \n",
            " alization)                                                                                       \n",
            "                                                                                                  \n",
            " block_14_expand (Conv2D)       (None, 7, 7, 960)    153600      ['block_13_project_BN[0][0]']    \n",
            "                                                                                                  \n",
            " block_14_expand_BN (BatchNorma  (None, 7, 7, 960)   3840        ['block_14_expand[0][0]']        \n",
            " lization)                                                                                        \n",
            "                                                                                                  \n",
            " block_14_expand_relu (ReLU)    (None, 7, 7, 960)    0           ['block_14_expand_BN[0][0]']     \n",
            "                                                                                                  \n",
            " block_14_depthwise (DepthwiseC  (None, 7, 7, 960)   8640        ['block_14_expand_relu[0][0]']   \n",
            " onv2D)                                                                                           \n",
            "                                                                                                  \n",
            " block_14_depthwise_BN (BatchNo  (None, 7, 7, 960)   3840        ['block_14_depthwise[0][0]']     \n",
            " rmalization)                                                                                     \n",
            "                                                                                                  \n",
            " block_14_depthwise_relu (ReLU)  (None, 7, 7, 960)   0           ['block_14_depthwise_BN[0][0]']  \n",
            "                                                                                                  \n",
            " block_14_project (Conv2D)      (None, 7, 7, 160)    153600      ['block_14_depthwise_relu[0][0]']\n",
            "                                                                                                  \n",
            " block_14_project_BN (BatchNorm  (None, 7, 7, 160)   640         ['block_14_project[0][0]']       \n",
            " alization)                                                                                       \n",
            "                                                                                                  \n",
            " block_14_add (Add)             (None, 7, 7, 160)    0           ['block_13_project_BN[0][0]',    \n",
            "                                                                  'block_14_project_BN[0][0]']    \n",
            "                                                                                                  \n",
            " block_15_expand (Conv2D)       (None, 7, 7, 960)    153600      ['block_14_add[0][0]']           \n",
            "                                                                                                  \n",
            " block_15_expand_BN (BatchNorma  (None, 7, 7, 960)   3840        ['block_15_expand[0][0]']        \n",
            " lization)                                                                                        \n",
            "                                                                                                  \n",
            " block_15_expand_relu (ReLU)    (None, 7, 7, 960)    0           ['block_15_expand_BN[0][0]']     \n",
            "                                                                                                  \n",
            " block_15_depthwise (DepthwiseC  (None, 7, 7, 960)   8640        ['block_15_expand_relu[0][0]']   \n",
            " onv2D)                                                                                           \n",
            "                                                                                                  \n",
            " block_15_depthwise_BN (BatchNo  (None, 7, 7, 960)   3840        ['block_15_depthwise[0][0]']     \n",
            " rmalization)                                                                                     \n",
            "                                                                                                  \n",
            " block_15_depthwise_relu (ReLU)  (None, 7, 7, 960)   0           ['block_15_depthwise_BN[0][0]']  \n",
            "                                                                                                  \n",
            " block_15_project (Conv2D)      (None, 7, 7, 160)    153600      ['block_15_depthwise_relu[0][0]']\n",
            "                                                                                                  \n",
            " block_15_project_BN (BatchNorm  (None, 7, 7, 160)   640         ['block_15_project[0][0]']       \n",
            " alization)                                                                                       \n",
            "                                                                                                  \n",
            " block_15_add (Add)             (None, 7, 7, 160)    0           ['block_14_add[0][0]',           \n",
            "                                                                  'block_15_project_BN[0][0]']    \n",
            "                                                                                                  \n",
            " block_16_expand (Conv2D)       (None, 7, 7, 960)    153600      ['block_15_add[0][0]']           \n",
            "                                                                                                  \n",
            " block_16_expand_BN (BatchNorma  (None, 7, 7, 960)   3840        ['block_16_expand[0][0]']        \n",
            " lization)                                                                                        \n",
            "                                                                                                  \n",
            " block_16_expand_relu (ReLU)    (None, 7, 7, 960)    0           ['block_16_expand_BN[0][0]']     \n",
            "                                                                                                  \n",
            " block_16_depthwise (DepthwiseC  (None, 7, 7, 960)   8640        ['block_16_expand_relu[0][0]']   \n",
            " onv2D)                                                                                           \n",
            "                                                                                                  \n",
            " block_16_depthwise_BN (BatchNo  (None, 7, 7, 960)   3840        ['block_16_depthwise[0][0]']     \n",
            " rmalization)                                                                                     \n",
            "                                                                                                  \n",
            " block_16_depthwise_relu (ReLU)  (None, 7, 7, 960)   0           ['block_16_depthwise_BN[0][0]']  \n",
            "                                                                                                  \n",
            " block_16_project (Conv2D)      (None, 7, 7, 320)    307200      ['block_16_depthwise_relu[0][0]']\n",
            "                                                                                                  \n",
            " block_16_project_BN (BatchNorm  (None, 7, 7, 320)   1280        ['block_16_project[0][0]']       \n",
            " alization)                                                                                       \n",
            "                                                                                                  \n",
            " Conv_1 (Conv2D)                (None, 7, 7, 1280)   409600      ['block_16_project_BN[0][0]']    \n",
            "                                                                                                  \n",
            " Conv_1_bn (BatchNormalization)  (None, 7, 7, 1280)  5120        ['Conv_1[0][0]']                 \n",
            "                                                                                                  \n",
            " out_relu (ReLU)                (None, 7, 7, 1280)   0           ['Conv_1_bn[0][0]']              \n",
            "                                                                                                  \n",
            "==================================================================================================\n",
            "Total params: 2,257,984\n",
            "Trainable params: 2,223,872\n",
            "Non-trainable params: 34,112\n",
            "__________________________________________________________________________________________________\n"
          ]
        }
      ],
      "source": [
        "conv_base.summary()\n"
      ]
    },
    {
      "cell_type": "markdown",
      "metadata": {
        "id": "vVx8qd9U-6Jt"
      },
      "source": [
        "We will add a dense layer after our conv_base NN"
      ]
    },
    {
      "cell_type": "code",
      "execution_count": 36,
      "metadata": {
        "id": "NwbCTdFB-6Jt"
      },
      "outputs": [],
      "source": [
        "from keras import models\n",
        "from keras import layers\n",
        "from keras.regularizers import l2, l1\n",
        "from keras.layers import Dense, Flatten, Dropout, BatchNormalization, AveragePooling2D\n",
        "\n",
        "modelPreTMob = models.Sequential()\n",
        "modelPreTMob.add(conv_base)\n",
        "\n",
        "modelPreTMob.add(layers.AveragePooling2D())\n",
        "modelPreTMob.add(layers.Flatten())\n",
        "modelPreTMob.add(layers.Dense(256, activation='relu', kernel_regularizer=l2(0.01)))\n",
        "modelPreTMob.add(BatchNormalization())\n",
        "modelPreTMob.add(layers.Dropout(TrainingConfig.DROPOUT))\n",
        "modelPreTMob.add(layers.Dense(1, activation='sigmoid'))"
      ]
    },
    {
      "cell_type": "code",
      "execution_count": 37,
      "metadata": {
        "colab": {
          "base_uri": "https://localhost:8080/"
        },
        "id": "ULwwwLKQ-6Jt",
        "outputId": "bca81ce0-c589-438d-d7f7-ddc78c5df1fe"
      },
      "outputs": [
        {
          "name": "stdout",
          "output_type": "stream",
          "text": [
            "Model: \"sequential\"\n",
            "_________________________________________________________________\n",
            " Layer (type)                Output Shape              Param #   \n",
            "=================================================================\n",
            " mobilenetv2_1.00_224 (Funct  (None, 7, 7, 1280)       2257984   \n",
            " ional)                                                          \n",
            "                                                                 \n",
            " average_pooling2d (AverageP  (None, 3, 3, 1280)       0         \n",
            " ooling2D)                                                       \n",
            "                                                                 \n",
            " flatten (Flatten)           (None, 11520)             0         \n",
            "                                                                 \n",
            " dense (Dense)               (None, 256)               2949376   \n",
            "                                                                 \n",
            " batch_normalization (BatchN  (None, 256)              1024      \n",
            " ormalization)                                                   \n",
            "                                                                 \n",
            " dropout (Dropout)           (None, 256)               0         \n",
            "                                                                 \n",
            " dense_1 (Dense)             (None, 1)                 257       \n",
            "                                                                 \n",
            "=================================================================\n",
            "Total params: 5,208,641\n",
            "Trainable params: 5,174,017\n",
            "Non-trainable params: 34,624\n",
            "_________________________________________________________________\n"
          ]
        }
      ],
      "source": [
        "modelPreTMob.summary()"
      ]
    },
    {
      "cell_type": "code",
      "execution_count": 38,
      "metadata": {},
      "outputs": [
        {
          "name": "stdout",
          "output_type": "stream",
          "text": [
            "0 input_1 True\n",
            "1 Conv1 True\n",
            "2 bn_Conv1 True\n",
            "3 Conv1_relu True\n",
            "4 expanded_conv_depthwise True\n",
            "5 expanded_conv_depthwise_BN True\n",
            "6 expanded_conv_depthwise_relu True\n",
            "7 expanded_conv_project True\n",
            "8 expanded_conv_project_BN True\n",
            "9 block_1_expand True\n",
            "10 block_1_expand_BN True\n",
            "11 block_1_expand_relu True\n",
            "12 block_1_pad True\n",
            "13 block_1_depthwise True\n",
            "14 block_1_depthwise_BN True\n",
            "15 block_1_depthwise_relu True\n",
            "16 block_1_project True\n",
            "17 block_1_project_BN True\n",
            "18 block_2_expand True\n",
            "19 block_2_expand_BN True\n",
            "20 block_2_expand_relu True\n",
            "21 block_2_depthwise True\n",
            "22 block_2_depthwise_BN True\n",
            "23 block_2_depthwise_relu True\n",
            "24 block_2_project True\n",
            "25 block_2_project_BN True\n",
            "26 block_2_add True\n",
            "27 block_3_expand True\n",
            "28 block_3_expand_BN True\n",
            "29 block_3_expand_relu True\n",
            "30 block_3_pad True\n",
            "31 block_3_depthwise True\n",
            "32 block_3_depthwise_BN True\n",
            "33 block_3_depthwise_relu True\n",
            "34 block_3_project True\n",
            "35 block_3_project_BN True\n",
            "36 block_4_expand True\n",
            "37 block_4_expand_BN True\n",
            "38 block_4_expand_relu True\n",
            "39 block_4_depthwise True\n",
            "40 block_4_depthwise_BN True\n",
            "41 block_4_depthwise_relu True\n",
            "42 block_4_project True\n",
            "43 block_4_project_BN True\n",
            "44 block_4_add True\n",
            "45 block_5_expand True\n",
            "46 block_5_expand_BN True\n",
            "47 block_5_expand_relu True\n",
            "48 block_5_depthwise True\n",
            "49 block_5_depthwise_BN True\n",
            "50 block_5_depthwise_relu True\n",
            "51 block_5_project True\n",
            "52 block_5_project_BN True\n",
            "53 block_5_add True\n",
            "54 block_6_expand True\n",
            "55 block_6_expand_BN True\n",
            "56 block_6_expand_relu True\n",
            "57 block_6_pad True\n",
            "58 block_6_depthwise True\n",
            "59 block_6_depthwise_BN True\n",
            "60 block_6_depthwise_relu True\n",
            "61 block_6_project True\n",
            "62 block_6_project_BN True\n",
            "63 block_7_expand True\n",
            "64 block_7_expand_BN True\n",
            "65 block_7_expand_relu True\n",
            "66 block_7_depthwise True\n",
            "67 block_7_depthwise_BN True\n",
            "68 block_7_depthwise_relu True\n",
            "69 block_7_project True\n",
            "70 block_7_project_BN True\n",
            "71 block_7_add True\n",
            "72 block_8_expand True\n",
            "73 block_8_expand_BN True\n",
            "74 block_8_expand_relu True\n",
            "75 block_8_depthwise True\n",
            "76 block_8_depthwise_BN True\n",
            "77 block_8_depthwise_relu True\n",
            "78 block_8_project True\n",
            "79 block_8_project_BN True\n",
            "80 block_8_add True\n",
            "81 block_9_expand True\n",
            "82 block_9_expand_BN True\n",
            "83 block_9_expand_relu True\n",
            "84 block_9_depthwise True\n",
            "85 block_9_depthwise_BN True\n",
            "86 block_9_depthwise_relu True\n",
            "87 block_9_project True\n",
            "88 block_9_project_BN True\n",
            "89 block_9_add True\n",
            "90 block_10_expand True\n",
            "91 block_10_expand_BN True\n",
            "92 block_10_expand_relu True\n",
            "93 block_10_depthwise True\n",
            "94 block_10_depthwise_BN True\n",
            "95 block_10_depthwise_relu True\n",
            "96 block_10_project True\n",
            "97 block_10_project_BN True\n",
            "98 block_11_expand True\n",
            "99 block_11_expand_BN True\n",
            "100 block_11_expand_relu True\n",
            "101 block_11_depthwise True\n",
            "102 block_11_depthwise_BN True\n",
            "103 block_11_depthwise_relu True\n",
            "104 block_11_project True\n",
            "105 block_11_project_BN True\n",
            "106 block_11_add True\n",
            "107 block_12_expand True\n",
            "108 block_12_expand_BN True\n",
            "109 block_12_expand_relu True\n",
            "110 block_12_depthwise True\n",
            "111 block_12_depthwise_BN True\n",
            "112 block_12_depthwise_relu True\n",
            "113 block_12_project True\n",
            "114 block_12_project_BN True\n",
            "115 block_12_add True\n",
            "116 block_13_expand True\n",
            "117 block_13_expand_BN True\n",
            "118 block_13_expand_relu True\n",
            "119 block_13_pad True\n",
            "120 block_13_depthwise True\n",
            "121 block_13_depthwise_BN True\n",
            "122 block_13_depthwise_relu True\n",
            "123 block_13_project True\n",
            "124 block_13_project_BN True\n",
            "125 block_14_expand True\n",
            "126 block_14_expand_BN True\n",
            "127 block_14_expand_relu True\n",
            "128 block_14_depthwise True\n",
            "129 block_14_depthwise_BN True\n",
            "130 block_14_depthwise_relu True\n",
            "131 block_14_project True\n",
            "132 block_14_project_BN True\n",
            "133 block_14_add True\n",
            "134 block_15_expand True\n",
            "135 block_15_expand_BN True\n",
            "136 block_15_expand_relu True\n",
            "137 block_15_depthwise True\n",
            "138 block_15_depthwise_BN True\n",
            "139 block_15_depthwise_relu True\n",
            "140 block_15_project True\n",
            "141 block_15_project_BN True\n",
            "142 block_15_add True\n",
            "143 block_16_expand True\n",
            "144 block_16_expand_BN True\n",
            "145 block_16_expand_relu True\n",
            "146 block_16_depthwise True\n",
            "147 block_16_depthwise_BN True\n",
            "148 block_16_depthwise_relu True\n",
            "149 block_16_project True\n",
            "150 block_16_project_BN True\n",
            "151 Conv_1 True\n",
            "152 Conv_1_bn True\n",
            "153 out_relu True\n"
          ]
        }
      ],
      "source": [
        "for i, layer in enumerate(conv_base.layers):\n",
        "   print(i, layer.name, layer.trainable)"
      ]
    },
    {
      "cell_type": "code",
      "execution_count": 39,
      "metadata": {},
      "outputs": [],
      "source": [
        "# Specify the number of layers to fine tune at the end of the convolutional base.\n",
        "num_layers_fine_tune = TrainingConfig.LAYERS_FINE_TUNE\n",
        "num_layers = len(conv_base.layers)"
      ]
    },
    {
      "cell_type": "code",
      "execution_count": 40,
      "metadata": {
        "colab": {
          "base_uri": "https://localhost:8080/"
        },
        "id": "kkg5O_dq-6Jt",
        "outputId": "0b8e8703-9f13-4415-d6a7-fc5af46bc1eb"
      },
      "outputs": [
        {
          "name": "stdout",
          "output_type": "stream",
          "text": [
            "This is the number of trainable weights before freezing the conv base: 162\n"
          ]
        }
      ],
      "source": [
        "print('This is the number of trainable weights '\n",
        "      'before freezing the conv base:', len(modelPreTMob.trainable_weights))"
      ]
    },
    {
      "cell_type": "code",
      "execution_count": 41,
      "metadata": {},
      "outputs": [
        {
          "name": "stdout",
          "output_type": "stream",
          "text": [
            "FREEZING LAYER: <keras.engine.input_layer.InputLayer object at 0x0000024430387D00>\n",
            "FREEZING LAYER: <keras.layers.convolutional.conv2d.Conv2D object at 0x0000024430399580>\n",
            "FREEZING LAYER: <keras.layers.normalization.batch_normalization.BatchNormalization object at 0x00000244303A9DC0>\n",
            "FREEZING LAYER: <keras.layers.activation.relu.ReLU object at 0x00000244303A9160>\n",
            "FREEZING LAYER: <keras.layers.convolutional.depthwise_conv2d.DepthwiseConv2D object at 0x00000244303B32B0>\n",
            "FREEZING LAYER: <keras.layers.normalization.batch_normalization.BatchNormalization object at 0x00000244303BFCA0>\n",
            "FREEZING LAYER: <keras.layers.activation.relu.ReLU object at 0x00000244303C5A60>\n",
            "FREEZING LAYER: <keras.layers.convolutional.conv2d.Conv2D object at 0x00000244303C5EB0>\n",
            "FREEZING LAYER: <keras.layers.normalization.batch_normalization.BatchNormalization object at 0x0000024446416760>\n",
            "FREEZING LAYER: <keras.layers.convolutional.conv2d.Conv2D object at 0x000002444641BDF0>\n",
            "FREEZING LAYER: <keras.layers.normalization.batch_normalization.BatchNormalization object at 0x0000024446422AF0>\n",
            "FREEZING LAYER: <keras.layers.activation.relu.ReLU object at 0x0000024446422B20>\n",
            "FREEZING LAYER: <keras.layers.reshaping.zero_padding2d.ZeroPadding2D object at 0x000002444642E430>\n",
            "FREEZING LAYER: <keras.layers.convolutional.depthwise_conv2d.DepthwiseConv2D object at 0x000002444642E7C0>\n",
            "FREEZING LAYER: <keras.layers.normalization.batch_normalization.BatchNormalization object at 0x0000024446422250>\n",
            "FREEZING LAYER: <keras.layers.activation.relu.ReLU object at 0x0000024446422F70>\n",
            "FREEZING LAYER: <keras.layers.convolutional.conv2d.Conv2D object at 0x000002444643BAC0>\n",
            "FREEZING LAYER: <keras.layers.normalization.batch_normalization.BatchNormalization object at 0x000002444642EE20>\n",
            "FREEZING LAYER: <keras.layers.convolutional.conv2d.Conv2D object at 0x0000024446446340>\n",
            "FREEZING LAYER: <keras.layers.normalization.batch_normalization.BatchNormalization object at 0x0000024446446220>\n",
            "FREEZING LAYER: <keras.layers.activation.relu.ReLU object at 0x000002444642A340>\n",
            "FREEZING LAYER: <keras.layers.convolutional.depthwise_conv2d.DepthwiseConv2D object at 0x0000024446453820>\n",
            "FREEZING LAYER: <keras.layers.normalization.batch_normalization.BatchNormalization object at 0x000002444644D9A0>\n",
            "FREEZING LAYER: <keras.layers.activation.relu.ReLU object at 0x0000024446453100>\n",
            "FREEZING LAYER: <keras.layers.convolutional.conv2d.Conv2D object at 0x0000024446458FA0>\n",
            "FREEZING LAYER: <keras.layers.normalization.batch_normalization.BatchNormalization object at 0x000002444645F040>\n",
            "FREEZING LAYER: <keras.layers.merging.add.Add object at 0x000002444644D430>\n",
            "FREEZING LAYER: <keras.layers.convolutional.conv2d.Conv2D object at 0x0000024446463EB0>\n",
            "FREEZING LAYER: <keras.layers.normalization.batch_normalization.BatchNormalization object at 0x000002444645E3D0>\n",
            "FREEZING LAYER: <keras.layers.activation.relu.ReLU object at 0x000002444645EB20>\n",
            "FREEZING LAYER: <keras.layers.reshaping.zero_padding2d.ZeroPadding2D object at 0x00000244464737C0>\n",
            "FREEZING LAYER: <keras.layers.convolutional.depthwise_conv2d.DepthwiseConv2D object at 0x0000024446471A00>\n",
            "FREEZING LAYER: <keras.layers.normalization.batch_normalization.BatchNormalization object at 0x0000024446471B50>\n",
            "FREEZING LAYER: <keras.layers.activation.relu.ReLU object at 0x00000244464633D0>\n",
            "FREEZING LAYER: <keras.layers.convolutional.conv2d.Conv2D object at 0x000002444647F160>\n",
            "FREEZING LAYER: <keras.layers.normalization.batch_normalization.BatchNormalization object at 0x000002444647B8B0>\n",
            "FREEZING LAYER: <keras.layers.convolutional.conv2d.Conv2D object at 0x000002444647B7C0>\n",
            "FREEZING LAYER: <keras.layers.normalization.batch_normalization.BatchNormalization object at 0x0000024446485190>\n",
            "FREEZING LAYER: <keras.layers.activation.relu.ReLU object at 0x0000024446492AC0>\n",
            "FREEZING LAYER: <keras.layers.convolutional.depthwise_conv2d.DepthwiseConv2D object at 0x0000024446492FA0>\n",
            "FREEZING LAYER: <keras.layers.normalization.batch_normalization.BatchNormalization object at 0x000002444647FB80>\n",
            "FREEZING LAYER: <keras.layers.activation.relu.ReLU object at 0x000002444643F070>\n",
            "FREEZING LAYER: <keras.layers.convolutional.conv2d.Conv2D object at 0x0000024446446280>\n",
            "FREEZING LAYER: <keras.layers.normalization.batch_normalization.BatchNormalization object at 0x0000024446471C40>\n",
            "FREEZING LAYER: <keras.layers.merging.add.Add object at 0x000002444644D700>\n",
            "FREEZING LAYER: <keras.layers.convolutional.conv2d.Conv2D object at 0x000002444649AD30>\n",
            "FREEZING LAYER: <keras.layers.normalization.batch_normalization.BatchNormalization object at 0x000002444642A790>\n",
            "FREEZING LAYER: <keras.layers.activation.relu.ReLU object at 0x000002444649E220>\n",
            "FREEZING LAYER: <keras.layers.convolutional.depthwise_conv2d.DepthwiseConv2D object at 0x0000024446488D30>\n",
            "FREEZING LAYER: <keras.layers.normalization.batch_normalization.BatchNormalization object at 0x00000244464A03D0>\n",
            "FREEZING LAYER: <keras.layers.activation.relu.ReLU object at 0x00000244464A2670>\n",
            "FREEZING LAYER: <keras.layers.convolutional.conv2d.Conv2D object at 0x00000244464A2C40>\n",
            "FREEZING LAYER: <keras.layers.normalization.batch_normalization.BatchNormalization object at 0x000002444649E310>\n",
            "FREEZING LAYER: <keras.layers.merging.add.Add object at 0x00000244464AF760>\n",
            "FREEZING LAYER: <keras.layers.convolutional.conv2d.Conv2D object at 0x00000244464A9760>\n",
            "FREEZING LAYER: <keras.layers.normalization.batch_normalization.BatchNormalization object at 0x00000244464B5340>\n",
            "FREEZING LAYER: <keras.layers.activation.relu.ReLU object at 0x00000244464C1760>\n",
            "FREEZING LAYER: <keras.layers.reshaping.zero_padding2d.ZeroPadding2D object at 0x00000244464C1850>\n",
            "FREEZING LAYER: <keras.layers.convolutional.depthwise_conv2d.DepthwiseConv2D object at 0x00000244464BCF10>\n",
            "FREEZING LAYER: <keras.layers.normalization.batch_normalization.BatchNormalization object at 0x00000244464C8850>\n",
            "FREEZING LAYER: <keras.layers.activation.relu.ReLU object at 0x00000244464CF8E0>\n",
            "FREEZING LAYER: <keras.layers.convolutional.conv2d.Conv2D object at 0x00000244464CFEB0>\n",
            "FREEZING LAYER: <keras.layers.normalization.batch_normalization.BatchNormalization object at 0x00000244464D80D0>\n",
            "FREEZING LAYER: <keras.layers.convolutional.conv2d.Conv2D object at 0x00000244464CFBE0>\n",
            "FREEZING LAYER: <keras.layers.normalization.batch_normalization.BatchNormalization object at 0x00000244464DEA90>\n",
            "FREEZING LAYER: <keras.layers.activation.relu.ReLU object at 0x00000244464DE580>\n",
            "FREEZING LAYER: <keras.layers.convolutional.depthwise_conv2d.DepthwiseConv2D object at 0x00000244464EA460>\n",
            "FREEZING LAYER: <keras.layers.normalization.batch_normalization.BatchNormalization object at 0x00000244464E4C70>\n",
            "FREEZING LAYER: <keras.layers.activation.relu.ReLU object at 0x00000244464E4940>\n",
            "FREEZING LAYER: <keras.layers.convolutional.conv2d.Conv2D object at 0x00000244464F94C0>\n",
            "FREEZING LAYER: <keras.layers.normalization.batch_normalization.BatchNormalization object at 0x00000244464F9280>\n",
            "FREEZING LAYER: <keras.layers.merging.add.Add object at 0x00000244464F9580>\n",
            "FREEZING LAYER: <keras.layers.convolutional.conv2d.Conv2D object at 0x00000244464FD4F0>\n",
            "FREEZING LAYER: <keras.layers.normalization.batch_normalization.BatchNormalization object at 0x00000244464F8C10>\n",
            "FREEZING LAYER: <keras.layers.activation.relu.ReLU object at 0x00000244464F8B50>\n",
            "FREEZING LAYER: <keras.layers.convolutional.depthwise_conv2d.DepthwiseConv2D object at 0x000002446BC071C0>\n",
            "FREEZING LAYER: <keras.layers.normalization.batch_normalization.BatchNormalization object at 0x000002446BC15640>\n",
            "FREEZING LAYER: <keras.layers.activation.relu.ReLU object at 0x000002446BC15670>\n",
            "FREEZING LAYER: <keras.layers.convolutional.conv2d.Conv2D object at 0x000002446BC07C40>\n",
            "FREEZING LAYER: <keras.layers.normalization.batch_normalization.BatchNormalization object at 0x00000244464CF4C0>\n",
            "FREEZING LAYER: <keras.layers.merging.add.Add object at 0x00000244464CFE50>\n",
            "FREEZING LAYER: <keras.layers.convolutional.conv2d.Conv2D object at 0x000002446BC06AF0>\n",
            "FREEZING LAYER: <keras.layers.normalization.batch_normalization.BatchNormalization object at 0x00000244464A05B0>\n",
            "FREEZING LAYER: <keras.layers.activation.relu.ReLU object at 0x00000244464A0520>\n",
            "FREEZING LAYER: <keras.layers.convolutional.depthwise_conv2d.DepthwiseConv2D object at 0x00000244464B5A00>\n",
            "FREEZING LAYER: <keras.layers.normalization.batch_normalization.BatchNormalization object at 0x000002446BC1B460>\n",
            "FREEZING LAYER: <keras.layers.activation.relu.ReLU object at 0x000002444649A3D0>\n",
            "FREEZING LAYER: <keras.layers.convolutional.conv2d.Conv2D object at 0x000002444644D6D0>\n",
            "FREEZING LAYER: <keras.layers.normalization.batch_normalization.BatchNormalization object at 0x000002446BC1F5B0>\n",
            "FREEZING LAYER: <keras.layers.merging.add.Add object at 0x00000244464888B0>\n",
            "FREEZING LAYER: <keras.layers.convolutional.conv2d.Conv2D object at 0x000002446BC1C6A0>\n",
            "FREEZING LAYER: <keras.layers.normalization.batch_normalization.BatchNormalization object at 0x000002446BC21A60>\n",
            "FREEZING LAYER: <keras.layers.activation.relu.ReLU object at 0x000002444643FE20>\n",
            "FREEZING LAYER: <keras.layers.convolutional.depthwise_conv2d.DepthwiseConv2D object at 0x000002446BC1FEB0>\n",
            "FREEZING LAYER: <keras.layers.normalization.batch_normalization.BatchNormalization object at 0x000002446BC28EB0>\n",
            "FREEZING LAYER: <keras.layers.activation.relu.ReLU object at 0x000002446BC1C7F0>\n",
            "FREEZING LAYER: <keras.layers.convolutional.conv2d.Conv2D object at 0x000002446BC21970>\n",
            "FREEZING LAYER: <keras.layers.normalization.batch_normalization.BatchNormalization object at 0x000002446BC3A4F0>\n",
            "FREEZING LAYER: <keras.layers.convolutional.conv2d.Conv2D object at 0x000002446BC3A4C0>\n",
            "FREEZING LAYER: <keras.layers.normalization.batch_normalization.BatchNormalization object at 0x000002446BC3F190>\n",
            "FREEZING LAYER: <keras.layers.activation.relu.ReLU object at 0x000002446BC3F910>\n",
            "FREEZING LAYER: <keras.layers.convolutional.depthwise_conv2d.DepthwiseConv2D object at 0x000002446BC3FB20>\n",
            "FREEZING LAYER: <keras.layers.normalization.batch_normalization.BatchNormalization object at 0x000002446BC4C640>\n",
            "FREEZING LAYER: <keras.layers.activation.relu.ReLU object at 0x000002446BC34E50>\n",
            "FREEZING LAYER: <keras.layers.convolutional.conv2d.Conv2D object at 0x000002446BC3F640>\n",
            "FREEZING LAYER: <keras.layers.normalization.batch_normalization.BatchNormalization object at 0x000002446BC59400>\n",
            "FREEZING LAYER: <keras.layers.merging.add.Add object at 0x000002446BC5DA90>\n",
            "FREEZING LAYER: <keras.layers.convolutional.conv2d.Conv2D object at 0x000002446BC597F0>\n",
            "FREEZING LAYER: <keras.layers.normalization.batch_normalization.BatchNormalization object at 0x000002446BC63700>\n",
            "FREEZING LAYER: <keras.layers.activation.relu.ReLU object at 0x000002446BC70820>\n",
            "FREEZING LAYER: <keras.layers.convolutional.depthwise_conv2d.DepthwiseConv2D object at 0x000002446BC70A30>\n",
            "FREEZING LAYER: <keras.layers.normalization.batch_normalization.BatchNormalization object at 0x000002446BC59FA0>\n",
            "FREEZING LAYER: <keras.layers.activation.relu.ReLU object at 0x000002446BC810D0>\n",
            "FREEZING LAYER: <keras.layers.convolutional.conv2d.Conv2D object at 0x000002446BC81A60>\n",
            "FREEZING LAYER: <keras.layers.normalization.batch_normalization.BatchNormalization object at 0x000002446BC6B4C0>\n",
            "FREEZING LAYER: <keras.layers.merging.add.Add object at 0x000002446BC4C0D0>\n",
            "FREEZING LAYER: <keras.layers.convolutional.conv2d.Conv2D object at 0x000002446BC51430>\n",
            "FREEZING LAYER: <keras.layers.normalization.batch_normalization.BatchNormalization object at 0x000002446BC59580>\n",
            "FREEZING LAYER: <keras.layers.activation.relu.ReLU object at 0x000002446BC51AF0>\n",
            "FREEZING LAYER: <keras.layers.reshaping.zero_padding2d.ZeroPadding2D object at 0x000002446BC1BD00>\n",
            "FREEZING LAYER: <keras.layers.convolutional.depthwise_conv2d.DepthwiseConv2D object at 0x000002446BC1F3D0>\n",
            "FREEZING LAYER: <keras.layers.normalization.batch_normalization.BatchNormalization object at 0x000002446BC86AF0>\n",
            "FREEZING LAYER: <keras.layers.activation.relu.ReLU object at 0x000002446BC88B80>\n",
            "FREEZING LAYER: <keras.layers.convolutional.conv2d.Conv2D object at 0x000002446BC88F70>\n",
            "FREEZING LAYER: <keras.layers.normalization.batch_normalization.BatchNormalization object at 0x000002446BC8A430>\n",
            "FREEZING LAYER: <keras.layers.convolutional.conv2d.Conv2D object at 0x000002446BC8C820>\n",
            "FREEZING LAYER: <keras.layers.normalization.batch_normalization.BatchNormalization object at 0x000002446BC8CD00>\n",
            "FREEZING LAYER: <keras.layers.activation.relu.ReLU object at 0x000002446BC8C970>\n",
            "FREEZING LAYER: <keras.layers.convolutional.depthwise_conv2d.DepthwiseConv2D object at 0x000002446BC97700>\n",
            "FREEZING LAYER: <keras.layers.normalization.batch_normalization.BatchNormalization object at 0x000002446BC91FD0>\n",
            "FREEZING LAYER: <keras.layers.activation.relu.ReLU object at 0x000002446BC8A4C0>\n",
            "FREEZING LAYER: <keras.layers.convolutional.conv2d.Conv2D object at 0x000002446BCA3760>\n",
            "FREEZING LAYER: <keras.layers.normalization.batch_normalization.BatchNormalization object at 0x000002446BCA3400>\n",
            "FREEZING LAYER: <keras.layers.merging.add.Add object at 0x000002446BCA3820>\n"
          ]
        }
      ],
      "source": [
        "# Freeze the initial layers in the convolutional base.\n",
        "for model_layer in conv_base.layers[:num_layers - num_layers_fine_tune]:\n",
        "    print(f\"FREEZING LAYER: {model_layer}\")\n",
        "    model_layer.trainable = False"
      ]
    },
    {
      "cell_type": "code",
      "execution_count": 42,
      "metadata": {},
      "outputs": [
        {
          "name": "stdout",
          "output_type": "stream",
          "text": [
            "0 input_1 False\n",
            "1 Conv1 False\n",
            "2 bn_Conv1 False\n",
            "3 Conv1_relu False\n",
            "4 expanded_conv_depthwise False\n",
            "5 expanded_conv_depthwise_BN False\n",
            "6 expanded_conv_depthwise_relu False\n",
            "7 expanded_conv_project False\n",
            "8 expanded_conv_project_BN False\n",
            "9 block_1_expand False\n",
            "10 block_1_expand_BN False\n",
            "11 block_1_expand_relu False\n",
            "12 block_1_pad False\n",
            "13 block_1_depthwise False\n",
            "14 block_1_depthwise_BN False\n",
            "15 block_1_depthwise_relu False\n",
            "16 block_1_project False\n",
            "17 block_1_project_BN False\n",
            "18 block_2_expand False\n",
            "19 block_2_expand_BN False\n",
            "20 block_2_expand_relu False\n",
            "21 block_2_depthwise False\n",
            "22 block_2_depthwise_BN False\n",
            "23 block_2_depthwise_relu False\n",
            "24 block_2_project False\n",
            "25 block_2_project_BN False\n",
            "26 block_2_add False\n",
            "27 block_3_expand False\n",
            "28 block_3_expand_BN False\n",
            "29 block_3_expand_relu False\n",
            "30 block_3_pad False\n",
            "31 block_3_depthwise False\n",
            "32 block_3_depthwise_BN False\n",
            "33 block_3_depthwise_relu False\n",
            "34 block_3_project False\n",
            "35 block_3_project_BN False\n",
            "36 block_4_expand False\n",
            "37 block_4_expand_BN False\n",
            "38 block_4_expand_relu False\n",
            "39 block_4_depthwise False\n",
            "40 block_4_depthwise_BN False\n",
            "41 block_4_depthwise_relu False\n",
            "42 block_4_project False\n",
            "43 block_4_project_BN False\n",
            "44 block_4_add False\n",
            "45 block_5_expand False\n",
            "46 block_5_expand_BN False\n",
            "47 block_5_expand_relu False\n",
            "48 block_5_depthwise False\n",
            "49 block_5_depthwise_BN False\n",
            "50 block_5_depthwise_relu False\n",
            "51 block_5_project False\n",
            "52 block_5_project_BN False\n",
            "53 block_5_add False\n",
            "54 block_6_expand False\n",
            "55 block_6_expand_BN False\n",
            "56 block_6_expand_relu False\n",
            "57 block_6_pad False\n",
            "58 block_6_depthwise False\n",
            "59 block_6_depthwise_BN False\n",
            "60 block_6_depthwise_relu False\n",
            "61 block_6_project False\n",
            "62 block_6_project_BN False\n",
            "63 block_7_expand False\n",
            "64 block_7_expand_BN False\n",
            "65 block_7_expand_relu False\n",
            "66 block_7_depthwise False\n",
            "67 block_7_depthwise_BN False\n",
            "68 block_7_depthwise_relu False\n",
            "69 block_7_project False\n",
            "70 block_7_project_BN False\n",
            "71 block_7_add False\n",
            "72 block_8_expand False\n",
            "73 block_8_expand_BN False\n",
            "74 block_8_expand_relu False\n",
            "75 block_8_depthwise False\n",
            "76 block_8_depthwise_BN False\n",
            "77 block_8_depthwise_relu False\n",
            "78 block_8_project False\n",
            "79 block_8_project_BN False\n",
            "80 block_8_add False\n",
            "81 block_9_expand False\n",
            "82 block_9_expand_BN False\n",
            "83 block_9_expand_relu False\n",
            "84 block_9_depthwise False\n",
            "85 block_9_depthwise_BN False\n",
            "86 block_9_depthwise_relu False\n",
            "87 block_9_project False\n",
            "88 block_9_project_BN False\n",
            "89 block_9_add False\n",
            "90 block_10_expand False\n",
            "91 block_10_expand_BN False\n",
            "92 block_10_expand_relu False\n",
            "93 block_10_depthwise False\n",
            "94 block_10_depthwise_BN False\n",
            "95 block_10_depthwise_relu False\n",
            "96 block_10_project False\n",
            "97 block_10_project_BN False\n",
            "98 block_11_expand False\n",
            "99 block_11_expand_BN False\n",
            "100 block_11_expand_relu False\n",
            "101 block_11_depthwise False\n",
            "102 block_11_depthwise_BN False\n",
            "103 block_11_depthwise_relu False\n",
            "104 block_11_project False\n",
            "105 block_11_project_BN False\n",
            "106 block_11_add False\n",
            "107 block_12_expand False\n",
            "108 block_12_expand_BN False\n",
            "109 block_12_expand_relu False\n",
            "110 block_12_depthwise False\n",
            "111 block_12_depthwise_BN False\n",
            "112 block_12_depthwise_relu False\n",
            "113 block_12_project False\n",
            "114 block_12_project_BN False\n",
            "115 block_12_add False\n",
            "116 block_13_expand False\n",
            "117 block_13_expand_BN False\n",
            "118 block_13_expand_relu False\n",
            "119 block_13_pad False\n",
            "120 block_13_depthwise False\n",
            "121 block_13_depthwise_BN False\n",
            "122 block_13_depthwise_relu False\n",
            "123 block_13_project False\n",
            "124 block_13_project_BN False\n",
            "125 block_14_expand False\n",
            "126 block_14_expand_BN False\n",
            "127 block_14_expand_relu False\n",
            "128 block_14_depthwise False\n",
            "129 block_14_depthwise_BN False\n",
            "130 block_14_depthwise_relu False\n",
            "131 block_14_project False\n",
            "132 block_14_project_BN False\n",
            "133 block_14_add False\n",
            "134 block_15_expand True\n",
            "135 block_15_expand_BN True\n",
            "136 block_15_expand_relu True\n",
            "137 block_15_depthwise True\n",
            "138 block_15_depthwise_BN True\n",
            "139 block_15_depthwise_relu True\n",
            "140 block_15_project True\n",
            "141 block_15_project_BN True\n",
            "142 block_15_add True\n",
            "143 block_16_expand True\n",
            "144 block_16_expand_BN True\n",
            "145 block_16_expand_relu True\n",
            "146 block_16_depthwise True\n",
            "147 block_16_depthwise_BN True\n",
            "148 block_16_depthwise_relu True\n",
            "149 block_16_project True\n",
            "150 block_16_project_BN True\n",
            "151 Conv_1 True\n",
            "152 Conv_1_bn True\n",
            "153 out_relu True\n"
          ]
        }
      ],
      "source": [
        "for i, layer in enumerate(conv_base.layers):\n",
        "   print(i, layer.name, layer.trainable)"
      ]
    },
    {
      "cell_type": "code",
      "execution_count": 43,
      "metadata": {
        "id": "KcDo2VlW-6Jt"
      },
      "outputs": [],
      "source": [
        "#conv_base.trainable = False"
      ]
    },
    {
      "cell_type": "code",
      "execution_count": 44,
      "metadata": {
        "colab": {
          "base_uri": "https://localhost:8080/"
        },
        "id": "6prLuQV--6Jt",
        "outputId": "21272876-2976-4870-ca8a-f63126fc18c8"
      },
      "outputs": [
        {
          "name": "stdout",
          "output_type": "stream",
          "text": [
            "This is the number of trainable weights after freezing the conv base: 27\n"
          ]
        }
      ],
      "source": [
        "print('This is the number of trainable weights '\n",
        "      'after freezing the conv base:', len(modelPreTMob.trainable_weights))"
      ]
    },
    {
      "cell_type": "code",
      "execution_count": 45,
      "metadata": {},
      "outputs": [
        {
          "name": "stdout",
          "output_type": "stream",
          "text": [
            "Model: \"sequential\"\n",
            "_________________________________________________________________\n",
            " Layer (type)                Output Shape              Param #   \n",
            "=================================================================\n",
            " mobilenetv2_1.00_224 (Funct  (None, 7, 7, 1280)       2257984   \n",
            " ional)                                                          \n",
            "                                                                 \n",
            " average_pooling2d (AverageP  (None, 3, 3, 1280)       0         \n",
            " ooling2D)                                                       \n",
            "                                                                 \n",
            " flatten (Flatten)           (None, 11520)             0         \n",
            "                                                                 \n",
            " dense (Dense)               (None, 256)               2949376   \n",
            "                                                                 \n",
            " batch_normalization (BatchN  (None, 256)              1024      \n",
            " ormalization)                                                   \n",
            "                                                                 \n",
            " dropout (Dropout)           (None, 256)               0         \n",
            "                                                                 \n",
            " dense_1 (Dense)             (None, 1)                 257       \n",
            "                                                                 \n",
            "=================================================================\n",
            "Total params: 5,208,641\n",
            "Trainable params: 4,156,225\n",
            "Non-trainable params: 1,052,416\n",
            "_________________________________________________________________\n"
          ]
        }
      ],
      "source": [
        "modelPreTMob.summary()"
      ]
    },
    {
      "cell_type": "code",
      "execution_count": 46,
      "metadata": {},
      "outputs": [],
      "source": [
        "from keras import optimizers\n",
        "adagrad = optimizers.Adagrad(learning_rate=TrainingConfig.LEARNING_RATE, initial_accumulator_value=0.1, epsilon=TrainingConfig.EPSILON, decay =TrainingConfig.WEIGHT_DECAY)"
      ]
    },
    {
      "cell_type": "code",
      "execution_count": 47,
      "metadata": {
        "id": "P4qDSomz-6Jt"
      },
      "outputs": [],
      "source": [
        "modelPreTMob.compile(optimizer= adagrad, loss=tf.losses.BinaryCrossentropy(), metrics=['accuracy'])# Adagrad, adam"
      ]
    },
    {
      "cell_type": "code",
      "execution_count": 48,
      "metadata": {},
      "outputs": [],
      "source": [
        "# add checkpoint to store the model on the best epoch for Val acc.\n",
        "checkpoint_filepath = r'C:\\Users\\YannisPC\\PycharmProjects\\Thesis\\Thesis\\checkpoints\\modelMobileNetV2FT20-{epoch:02d}-{val_accuracy:.4f}.keras'\n",
        "model_checkpoint_callback = keras.callbacks.ModelCheckpoint(\n",
        "    filepath=checkpoint_filepath,\n",
        "    monitor='val_accuracy',\n",
        "    mode='max',\n",
        "    save_best_only=True,\n",
        "    verbose=1)"
      ]
    },
    {
      "cell_type": "code",
      "execution_count": 49,
      "metadata": {},
      "outputs": [
        {
          "name": "stdout",
          "output_type": "stream",
          "text": [
            "100\n"
          ]
        }
      ],
      "source": [
        "print(TrainingConfig.EPOCHS)"
      ]
    },
    {
      "cell_type": "code",
      "execution_count": 50,
      "metadata": {},
      "outputs": [],
      "source": [
        "import time\n",
        "start_time = time.time()"
      ]
    },
    {
      "cell_type": "code",
      "execution_count": 51,
      "metadata": {},
      "outputs": [
        {
          "name": "stdout",
          "output_type": "stream",
          "text": [
            "Epoch 1/100\n"
          ]
        },
        {
          "ename": "KeyboardInterrupt",
          "evalue": "",
          "output_type": "error",
          "traceback": [
            "\u001b[1;31m---------------------------------------------------------------------------\u001b[0m",
            "\u001b[1;31mKeyboardInterrupt\u001b[0m                         Traceback (most recent call last)",
            "Cell \u001b[1;32mIn[51], line 1\u001b[0m\n\u001b[1;32m----> 1\u001b[0m histPreT \u001b[38;5;241m=\u001b[39m \u001b[43mmodelPreTMob\u001b[49m\u001b[38;5;241;43m.\u001b[39;49m\u001b[43mfit\u001b[49m\u001b[43m(\u001b[49m\u001b[43mtrain_generator\u001b[49m\u001b[43m,\u001b[49m\u001b[43m \u001b[49m\u001b[43mepochs\u001b[49m\u001b[43m \u001b[49m\u001b[38;5;241;43m=\u001b[39;49m\u001b[43m \u001b[49m\u001b[43mTrainingConfig\u001b[49m\u001b[38;5;241;43m.\u001b[39;49m\u001b[43mEPOCHS\u001b[49m\u001b[43m,\u001b[49m\u001b[43m \u001b[49m\u001b[43mvalidation_data\u001b[49m\u001b[38;5;241;43m=\u001b[39;49m\u001b[43mvalidation_generator\u001b[49m\u001b[43m,\u001b[49m\u001b[43m \u001b[49m\u001b[43mcallbacks\u001b[49m\u001b[38;5;241;43m=\u001b[39;49m\u001b[43m[\u001b[49m\u001b[43mmodel_checkpoint_callback\u001b[49m\u001b[43m]\u001b[49m\u001b[43m)\u001b[49m \n",
            "File \u001b[1;32m~\\AppData\\Local\\Packages\\PythonSoftwareFoundation.Python.3.9_qbz5n2kfra8p0\\LocalCache\\local-packages\\Python39\\site-packages\\keras\\utils\\traceback_utils.py:65\u001b[0m, in \u001b[0;36mfilter_traceback.<locals>.error_handler\u001b[1;34m(*args, **kwargs)\u001b[0m\n\u001b[0;32m     63\u001b[0m filtered_tb \u001b[38;5;241m=\u001b[39m \u001b[38;5;28;01mNone\u001b[39;00m\n\u001b[0;32m     64\u001b[0m \u001b[38;5;28;01mtry\u001b[39;00m:\n\u001b[1;32m---> 65\u001b[0m     \u001b[38;5;28;01mreturn\u001b[39;00m fn(\u001b[38;5;241m*\u001b[39margs, \u001b[38;5;241m*\u001b[39m\u001b[38;5;241m*\u001b[39mkwargs)\n\u001b[0;32m     66\u001b[0m \u001b[38;5;28;01mexcept\u001b[39;00m \u001b[38;5;167;01mException\u001b[39;00m \u001b[38;5;28;01mas\u001b[39;00m e:\n\u001b[0;32m     67\u001b[0m     filtered_tb \u001b[38;5;241m=\u001b[39m _process_traceback_frames(e\u001b[38;5;241m.\u001b[39m__traceback__)\n",
            "File \u001b[1;32m~\\AppData\\Local\\Packages\\PythonSoftwareFoundation.Python.3.9_qbz5n2kfra8p0\\LocalCache\\local-packages\\Python39\\site-packages\\keras\\engine\\training.py:1564\u001b[0m, in \u001b[0;36mModel.fit\u001b[1;34m(self, x, y, batch_size, epochs, verbose, callbacks, validation_split, validation_data, shuffle, class_weight, sample_weight, initial_epoch, steps_per_epoch, validation_steps, validation_batch_size, validation_freq, max_queue_size, workers, use_multiprocessing)\u001b[0m\n\u001b[0;32m   1556\u001b[0m \u001b[38;5;28;01mwith\u001b[39;00m tf\u001b[38;5;241m.\u001b[39mprofiler\u001b[38;5;241m.\u001b[39mexperimental\u001b[38;5;241m.\u001b[39mTrace(\n\u001b[0;32m   1557\u001b[0m     \u001b[38;5;124m\"\u001b[39m\u001b[38;5;124mtrain\u001b[39m\u001b[38;5;124m\"\u001b[39m,\n\u001b[0;32m   1558\u001b[0m     epoch_num\u001b[38;5;241m=\u001b[39mepoch,\n\u001b[1;32m   (...)\u001b[0m\n\u001b[0;32m   1561\u001b[0m     _r\u001b[38;5;241m=\u001b[39m\u001b[38;5;241m1\u001b[39m,\n\u001b[0;32m   1562\u001b[0m ):\n\u001b[0;32m   1563\u001b[0m     callbacks\u001b[38;5;241m.\u001b[39mon_train_batch_begin(step)\n\u001b[1;32m-> 1564\u001b[0m     tmp_logs \u001b[38;5;241m=\u001b[39m \u001b[38;5;28;43mself\u001b[39;49m\u001b[38;5;241;43m.\u001b[39;49m\u001b[43mtrain_function\u001b[49m\u001b[43m(\u001b[49m\u001b[43miterator\u001b[49m\u001b[43m)\u001b[49m\n\u001b[0;32m   1565\u001b[0m     \u001b[38;5;28;01mif\u001b[39;00m data_handler\u001b[38;5;241m.\u001b[39mshould_sync:\n\u001b[0;32m   1566\u001b[0m         context\u001b[38;5;241m.\u001b[39masync_wait()\n",
            "File \u001b[1;32m~\\AppData\\Local\\Packages\\PythonSoftwareFoundation.Python.3.9_qbz5n2kfra8p0\\LocalCache\\local-packages\\Python39\\site-packages\\tensorflow\\python\\util\\traceback_utils.py:150\u001b[0m, in \u001b[0;36mfilter_traceback.<locals>.error_handler\u001b[1;34m(*args, **kwargs)\u001b[0m\n\u001b[0;32m    148\u001b[0m filtered_tb \u001b[38;5;241m=\u001b[39m \u001b[38;5;28;01mNone\u001b[39;00m\n\u001b[0;32m    149\u001b[0m \u001b[38;5;28;01mtry\u001b[39;00m:\n\u001b[1;32m--> 150\u001b[0m   \u001b[38;5;28;01mreturn\u001b[39;00m fn(\u001b[38;5;241m*\u001b[39margs, \u001b[38;5;241m*\u001b[39m\u001b[38;5;241m*\u001b[39mkwargs)\n\u001b[0;32m    151\u001b[0m \u001b[38;5;28;01mexcept\u001b[39;00m \u001b[38;5;167;01mException\u001b[39;00m \u001b[38;5;28;01mas\u001b[39;00m e:\n\u001b[0;32m    152\u001b[0m   filtered_tb \u001b[38;5;241m=\u001b[39m _process_traceback_frames(e\u001b[38;5;241m.\u001b[39m__traceback__)\n",
            "File \u001b[1;32m~\\AppData\\Local\\Packages\\PythonSoftwareFoundation.Python.3.9_qbz5n2kfra8p0\\LocalCache\\local-packages\\Python39\\site-packages\\tensorflow\\python\\eager\\def_function.py:915\u001b[0m, in \u001b[0;36mFunction.__call__\u001b[1;34m(self, *args, **kwds)\u001b[0m\n\u001b[0;32m    912\u001b[0m compiler \u001b[38;5;241m=\u001b[39m \u001b[38;5;124m\"\u001b[39m\u001b[38;5;124mxla\u001b[39m\u001b[38;5;124m\"\u001b[39m \u001b[38;5;28;01mif\u001b[39;00m \u001b[38;5;28mself\u001b[39m\u001b[38;5;241m.\u001b[39m_jit_compile \u001b[38;5;28;01melse\u001b[39;00m \u001b[38;5;124m\"\u001b[39m\u001b[38;5;124mnonXla\u001b[39m\u001b[38;5;124m\"\u001b[39m\n\u001b[0;32m    914\u001b[0m \u001b[38;5;28;01mwith\u001b[39;00m OptionalXlaContext(\u001b[38;5;28mself\u001b[39m\u001b[38;5;241m.\u001b[39m_jit_compile):\n\u001b[1;32m--> 915\u001b[0m   result \u001b[38;5;241m=\u001b[39m \u001b[38;5;28mself\u001b[39m\u001b[38;5;241m.\u001b[39m_call(\u001b[38;5;241m*\u001b[39margs, \u001b[38;5;241m*\u001b[39m\u001b[38;5;241m*\u001b[39mkwds)\n\u001b[0;32m    917\u001b[0m new_tracing_count \u001b[38;5;241m=\u001b[39m \u001b[38;5;28mself\u001b[39m\u001b[38;5;241m.\u001b[39mexperimental_get_tracing_count()\n\u001b[0;32m    918\u001b[0m without_tracing \u001b[38;5;241m=\u001b[39m (tracing_count \u001b[38;5;241m==\u001b[39m new_tracing_count)\n",
            "File \u001b[1;32m~\\AppData\\Local\\Packages\\PythonSoftwareFoundation.Python.3.9_qbz5n2kfra8p0\\LocalCache\\local-packages\\Python39\\site-packages\\tensorflow\\python\\eager\\def_function.py:980\u001b[0m, in \u001b[0;36mFunction._call\u001b[1;34m(self, *args, **kwds)\u001b[0m\n\u001b[0;32m    976\u001b[0m     \u001b[38;5;28;01mpass\u001b[39;00m  \u001b[38;5;66;03m# Fall through to cond-based initialization.\u001b[39;00m\n\u001b[0;32m    977\u001b[0m   \u001b[38;5;28;01melse\u001b[39;00m:\n\u001b[0;32m    978\u001b[0m     \u001b[38;5;66;03m# Lifting succeeded, so variables are initialized and we can run the\u001b[39;00m\n\u001b[0;32m    979\u001b[0m     \u001b[38;5;66;03m# stateless function.\u001b[39;00m\n\u001b[1;32m--> 980\u001b[0m     \u001b[38;5;28;01mreturn\u001b[39;00m \u001b[38;5;28mself\u001b[39m\u001b[38;5;241m.\u001b[39m_stateless_fn(\u001b[38;5;241m*\u001b[39margs, \u001b[38;5;241m*\u001b[39m\u001b[38;5;241m*\u001b[39mkwds)\n\u001b[0;32m    981\u001b[0m \u001b[38;5;28;01melse\u001b[39;00m:\n\u001b[0;32m    982\u001b[0m   _, _, filtered_flat_args \u001b[38;5;241m=\u001b[39m (\n\u001b[0;32m    983\u001b[0m       \u001b[38;5;28mself\u001b[39m\u001b[38;5;241m.\u001b[39m_stateful_fn\u001b[38;5;241m.\u001b[39m_function_spec\u001b[38;5;241m.\u001b[39mcanonicalize_function_inputs(  \u001b[38;5;66;03m# pylint: disable=protected-access\u001b[39;00m\n\u001b[0;32m    984\u001b[0m           \u001b[38;5;241m*\u001b[39margs, \u001b[38;5;241m*\u001b[39m\u001b[38;5;241m*\u001b[39mkwds))\n",
            "File \u001b[1;32m~\\AppData\\Local\\Packages\\PythonSoftwareFoundation.Python.3.9_qbz5n2kfra8p0\\LocalCache\\local-packages\\Python39\\site-packages\\tensorflow\\python\\eager\\function.py:2496\u001b[0m, in \u001b[0;36mFunction.__call__\u001b[1;34m(self, *args, **kwargs)\u001b[0m\n\u001b[0;32m   2493\u001b[0m \u001b[38;5;28;01mwith\u001b[39;00m \u001b[38;5;28mself\u001b[39m\u001b[38;5;241m.\u001b[39m_lock:\n\u001b[0;32m   2494\u001b[0m   (graph_function,\n\u001b[0;32m   2495\u001b[0m    filtered_flat_args) \u001b[38;5;241m=\u001b[39m \u001b[38;5;28mself\u001b[39m\u001b[38;5;241m.\u001b[39m_maybe_define_function(args, kwargs)\n\u001b[1;32m-> 2496\u001b[0m \u001b[38;5;28;01mreturn\u001b[39;00m \u001b[43mgraph_function\u001b[49m\u001b[38;5;241;43m.\u001b[39;49m\u001b[43m_call_flat\u001b[49m\u001b[43m(\u001b[49m\n\u001b[0;32m   2497\u001b[0m \u001b[43m    \u001b[49m\u001b[43mfiltered_flat_args\u001b[49m\u001b[43m,\u001b[49m\u001b[43m \u001b[49m\u001b[43mcaptured_inputs\u001b[49m\u001b[38;5;241;43m=\u001b[39;49m\u001b[43mgraph_function\u001b[49m\u001b[38;5;241;43m.\u001b[39;49m\u001b[43mcaptured_inputs\u001b[49m\u001b[43m)\u001b[49m\n",
            "File \u001b[1;32m~\\AppData\\Local\\Packages\\PythonSoftwareFoundation.Python.3.9_qbz5n2kfra8p0\\LocalCache\\local-packages\\Python39\\site-packages\\tensorflow\\python\\eager\\function.py:1862\u001b[0m, in \u001b[0;36mConcreteFunction._call_flat\u001b[1;34m(self, args, captured_inputs, cancellation_manager)\u001b[0m\n\u001b[0;32m   1858\u001b[0m possible_gradient_type \u001b[38;5;241m=\u001b[39m gradients_util\u001b[38;5;241m.\u001b[39mPossibleTapeGradientTypes(args)\n\u001b[0;32m   1859\u001b[0m \u001b[38;5;28;01mif\u001b[39;00m (possible_gradient_type \u001b[38;5;241m==\u001b[39m gradients_util\u001b[38;5;241m.\u001b[39mPOSSIBLE_GRADIENT_TYPES_NONE\n\u001b[0;32m   1860\u001b[0m     \u001b[38;5;129;01mand\u001b[39;00m executing_eagerly):\n\u001b[0;32m   1861\u001b[0m   \u001b[38;5;66;03m# No tape is watching; skip to running the function.\u001b[39;00m\n\u001b[1;32m-> 1862\u001b[0m   \u001b[38;5;28;01mreturn\u001b[39;00m \u001b[38;5;28mself\u001b[39m\u001b[38;5;241m.\u001b[39m_build_call_outputs(\u001b[38;5;28;43mself\u001b[39;49m\u001b[38;5;241;43m.\u001b[39;49m\u001b[43m_inference_function\u001b[49m\u001b[38;5;241;43m.\u001b[39;49m\u001b[43mcall\u001b[49m\u001b[43m(\u001b[49m\n\u001b[0;32m   1863\u001b[0m \u001b[43m      \u001b[49m\u001b[43mctx\u001b[49m\u001b[43m,\u001b[49m\u001b[43m \u001b[49m\u001b[43margs\u001b[49m\u001b[43m,\u001b[49m\u001b[43m \u001b[49m\u001b[43mcancellation_manager\u001b[49m\u001b[38;5;241;43m=\u001b[39;49m\u001b[43mcancellation_manager\u001b[49m\u001b[43m)\u001b[49m)\n\u001b[0;32m   1864\u001b[0m forward_backward \u001b[38;5;241m=\u001b[39m \u001b[38;5;28mself\u001b[39m\u001b[38;5;241m.\u001b[39m_select_forward_and_backward_functions(\n\u001b[0;32m   1865\u001b[0m     args,\n\u001b[0;32m   1866\u001b[0m     possible_gradient_type,\n\u001b[0;32m   1867\u001b[0m     executing_eagerly)\n\u001b[0;32m   1868\u001b[0m forward_function, args_with_tangents \u001b[38;5;241m=\u001b[39m forward_backward\u001b[38;5;241m.\u001b[39mforward()\n",
            "File \u001b[1;32m~\\AppData\\Local\\Packages\\PythonSoftwareFoundation.Python.3.9_qbz5n2kfra8p0\\LocalCache\\local-packages\\Python39\\site-packages\\tensorflow\\python\\eager\\function.py:499\u001b[0m, in \u001b[0;36m_EagerDefinedFunction.call\u001b[1;34m(self, ctx, args, cancellation_manager)\u001b[0m\n\u001b[0;32m    497\u001b[0m \u001b[38;5;28;01mwith\u001b[39;00m _InterpolateFunctionError(\u001b[38;5;28mself\u001b[39m):\n\u001b[0;32m    498\u001b[0m   \u001b[38;5;28;01mif\u001b[39;00m cancellation_manager \u001b[38;5;129;01mis\u001b[39;00m \u001b[38;5;28;01mNone\u001b[39;00m:\n\u001b[1;32m--> 499\u001b[0m     outputs \u001b[38;5;241m=\u001b[39m \u001b[43mexecute\u001b[49m\u001b[38;5;241;43m.\u001b[39;49m\u001b[43mexecute\u001b[49m\u001b[43m(\u001b[49m\n\u001b[0;32m    500\u001b[0m \u001b[43m        \u001b[49m\u001b[38;5;28;43mstr\u001b[39;49m\u001b[43m(\u001b[49m\u001b[38;5;28;43mself\u001b[39;49m\u001b[38;5;241;43m.\u001b[39;49m\u001b[43msignature\u001b[49m\u001b[38;5;241;43m.\u001b[39;49m\u001b[43mname\u001b[49m\u001b[43m)\u001b[49m\u001b[43m,\u001b[49m\n\u001b[0;32m    501\u001b[0m \u001b[43m        \u001b[49m\u001b[43mnum_outputs\u001b[49m\u001b[38;5;241;43m=\u001b[39;49m\u001b[38;5;28;43mself\u001b[39;49m\u001b[38;5;241;43m.\u001b[39;49m\u001b[43m_num_outputs\u001b[49m\u001b[43m,\u001b[49m\n\u001b[0;32m    502\u001b[0m \u001b[43m        \u001b[49m\u001b[43minputs\u001b[49m\u001b[38;5;241;43m=\u001b[39;49m\u001b[43margs\u001b[49m\u001b[43m,\u001b[49m\n\u001b[0;32m    503\u001b[0m \u001b[43m        \u001b[49m\u001b[43mattrs\u001b[49m\u001b[38;5;241;43m=\u001b[39;49m\u001b[43mattrs\u001b[49m\u001b[43m,\u001b[49m\n\u001b[0;32m    504\u001b[0m \u001b[43m        \u001b[49m\u001b[43mctx\u001b[49m\u001b[38;5;241;43m=\u001b[39;49m\u001b[43mctx\u001b[49m\u001b[43m)\u001b[49m\n\u001b[0;32m    505\u001b[0m   \u001b[38;5;28;01melse\u001b[39;00m:\n\u001b[0;32m    506\u001b[0m     outputs \u001b[38;5;241m=\u001b[39m execute\u001b[38;5;241m.\u001b[39mexecute_with_cancellation(\n\u001b[0;32m    507\u001b[0m         \u001b[38;5;28mstr\u001b[39m(\u001b[38;5;28mself\u001b[39m\u001b[38;5;241m.\u001b[39msignature\u001b[38;5;241m.\u001b[39mname),\n\u001b[0;32m    508\u001b[0m         num_outputs\u001b[38;5;241m=\u001b[39m\u001b[38;5;28mself\u001b[39m\u001b[38;5;241m.\u001b[39m_num_outputs,\n\u001b[1;32m   (...)\u001b[0m\n\u001b[0;32m    511\u001b[0m         ctx\u001b[38;5;241m=\u001b[39mctx,\n\u001b[0;32m    512\u001b[0m         cancellation_manager\u001b[38;5;241m=\u001b[39mcancellation_manager)\n",
            "File \u001b[1;32m~\\AppData\\Local\\Packages\\PythonSoftwareFoundation.Python.3.9_qbz5n2kfra8p0\\LocalCache\\local-packages\\Python39\\site-packages\\tensorflow\\python\\eager\\execute.py:54\u001b[0m, in \u001b[0;36mquick_execute\u001b[1;34m(op_name, num_outputs, inputs, attrs, ctx, name)\u001b[0m\n\u001b[0;32m     52\u001b[0m \u001b[38;5;28;01mtry\u001b[39;00m:\n\u001b[0;32m     53\u001b[0m   ctx\u001b[38;5;241m.\u001b[39mensure_initialized()\n\u001b[1;32m---> 54\u001b[0m   tensors \u001b[38;5;241m=\u001b[39m \u001b[43mpywrap_tfe\u001b[49m\u001b[38;5;241;43m.\u001b[39;49m\u001b[43mTFE_Py_Execute\u001b[49m\u001b[43m(\u001b[49m\u001b[43mctx\u001b[49m\u001b[38;5;241;43m.\u001b[39;49m\u001b[43m_handle\u001b[49m\u001b[43m,\u001b[49m\u001b[43m \u001b[49m\u001b[43mdevice_name\u001b[49m\u001b[43m,\u001b[49m\u001b[43m \u001b[49m\u001b[43mop_name\u001b[49m\u001b[43m,\u001b[49m\n\u001b[0;32m     55\u001b[0m \u001b[43m                                      \u001b[49m\u001b[43minputs\u001b[49m\u001b[43m,\u001b[49m\u001b[43m \u001b[49m\u001b[43mattrs\u001b[49m\u001b[43m,\u001b[49m\u001b[43m \u001b[49m\u001b[43mnum_outputs\u001b[49m\u001b[43m)\u001b[49m\n\u001b[0;32m     56\u001b[0m \u001b[38;5;28;01mexcept\u001b[39;00m core\u001b[38;5;241m.\u001b[39m_NotOkStatusException \u001b[38;5;28;01mas\u001b[39;00m e:\n\u001b[0;32m     57\u001b[0m   \u001b[38;5;28;01mif\u001b[39;00m name \u001b[38;5;129;01mis\u001b[39;00m \u001b[38;5;129;01mnot\u001b[39;00m \u001b[38;5;28;01mNone\u001b[39;00m:\n",
            "\u001b[1;31mKeyboardInterrupt\u001b[0m: "
          ]
        }
      ],
      "source": [
        "histPreT = modelPreTMob.fit(train_generator, epochs = TrainingConfig.EPOCHS, validation_data=validation_generator, callbacks=[model_checkpoint_callback]) "
      ]
    },
    {
      "cell_type": "code",
      "execution_count": 52,
      "metadata": {},
      "outputs": [
        {
          "name": "stdout",
          "output_type": "stream",
          "text": [
            "--- 14.791361808776855 seconds ---\n"
          ]
        }
      ],
      "source": [
        "print(\"--- %s seconds ---\" % (time.time() - start_time))"
      ]
    },
    {
      "cell_type": "code",
      "execution_count": 53,
      "metadata": {},
      "outputs": [
        {
          "data": {
            "text/plain": [
              "'c:\\\\Users\\\\YannisPC\\\\PycharmProjects\\\\Thesis\\\\Thesis\\\\MobileNet'"
            ]
          },
          "execution_count": 53,
          "metadata": {},
          "output_type": "execute_result"
        }
      ],
      "source": [
        "Current_dir = os.getcwd()\n",
        "Current_dir"
      ]
    },
    {
      "cell_type": "code",
      "execution_count": null,
      "metadata": {},
      "outputs": [
        {
          "data": {
            "text/plain": [
              "'c:\\\\Users\\\\YannisPC\\\\PycharmProjects\\\\Thesis\\\\Thesis\\\\History'"
            ]
          },
          "execution_count": 54,
          "metadata": {},
          "output_type": "execute_result"
        }
      ],
      "source": [
        "os.path.join(Current_dir, 'History')"
      ]
    },
    {
      "cell_type": "code",
      "execution_count": null,
      "metadata": {},
      "outputs": [],
      "source": [
        "import pickle\n",
        "with open(r'c:\\\\Users\\\\YannisPC\\\\PycharmProjects\\\\Thesis\\\\Thesis\\\\History\\\\HistoryDict_MobileNetV2_FT20', 'wb') as file_pi:\n",
        "    pickle.dump(histPreT.history, file_pi)"
      ]
    },
    {
      "cell_type": "code",
      "execution_count": null,
      "metadata": {},
      "outputs": [
        {
          "name": "stdout",
          "output_type": "stream",
          "text": [
            "Best epoch: 68\n"
          ]
        }
      ],
      "source": [
        "val_acc_per_epoch = histPreT.history['val_accuracy']\n",
        "best_epoch = val_acc_per_epoch.index(max(val_acc_per_epoch)) + 1\n",
        "print('Best epoch: %d' % (best_epoch,))"
      ]
    },
    {
      "cell_type": "code",
      "execution_count": null,
      "metadata": {},
      "outputs": [],
      "source": [
        "START_PLOT_FROM_EPOCH= 1"
      ]
    },
    {
      "cell_type": "code",
      "execution_count": null,
      "metadata": {
        "colab": {
          "base_uri": "https://localhost:8080/",
          "height": 887
        },
        "id": "e3wZrd90-6Jt",
        "outputId": "0630124c-9747-4688-f755-aaf80997102f"
      },
      "outputs": [
        {
          "data": {
            "image/png": "[encoded data removed]",
            "text/plain": [
              "<Figure size 640x480 with 1 Axes>"
            ]
          },
          "metadata": {},
          "output_type": "display_data"
        },
        {
          "data": {
            "image/png": "[encoded data removed]",
            "text/plain": [
              "<Figure size 640x480 with 1 Axes>"
            ]
          },
          "metadata": {},
          "output_type": "display_data"
        }
      ],
      "source": [
        "acc = histPreT.history['accuracy'][START_PLOT_FROM_EPOCH:]\n",
        "val_acc = histPreT.history['val_accuracy'][START_PLOT_FROM_EPOCH:]\n",
        "loss = histPreT.history['loss'][START_PLOT_FROM_EPOCH:]\n",
        "val_loss = histPreT.history['val_loss'][START_PLOT_FROM_EPOCH:]\n",
        "\n",
        "epochs = range(len(acc))\n",
        "\n",
        "plt.plot(epochs, acc, color='teal', label='Training acc')\n",
        "plt.plot(epochs, val_acc, color='orange', label='Validation acc')\n",
        "plt.title('Training and validation accuracy')\n",
        "plt.legend()\n",
        "\n",
        "plt.figure()\n",
        "\n",
        "plt.plot(epochs, loss, color='teal', label='Training loss')\n",
        "plt.plot(epochs, val_loss, color='orange', label='Validation loss')\n",
        "plt.title('Training and validation loss')\n",
        "plt.legend()\n",
        "\n",
        "plt.show()"
      ]
    },
    {
      "cell_type": "code",
      "execution_count": null,
      "metadata": {},
      "outputs": [
        {
          "name": "stdout",
          "output_type": "stream",
          "text": [
            "Best epoch: 68\n"
          ]
        }
      ],
      "source": [
        "val_acc_per_epoch = histPreT.history['val_accuracy']\n",
        "best_epoch = val_acc_per_epoch.index(max(val_acc_per_epoch)) + 1\n",
        "print('Best epoch: %d' % (best_epoch,))"
      ]
    },
    {
      "cell_type": "markdown",
      "metadata": {},
      "source": [
        "# Loading best epoch in our model using the checkpoints"
      ]
    },
    {
      "cell_type": "code",
      "execution_count": 55,
      "metadata": {},
      "outputs": [],
      "source": [
        "model_dir= r'C:\\Users\\YannisPC\\PycharmProjects\\Thesis\\Thesis\\checkpoints' # C:\\Users\\YannisPC\\PycharmProjects\\Thesis\\Thesis\\checkpoints"
      ]
    },
    {
      "cell_type": "code",
      "execution_count": null,
      "metadata": {},
      "outputs": [
        {
          "name": "stdout",
          "output_type": "stream",
          "text": [
            "Best model file: model-68-0.8924.keras\n"
          ]
        }
      ],
      "source": [
        "best_val_accuracy = max(val_acc_per_epoch)\n",
        "best_model_file = f'model-{best_epoch:02d}-{best_val_accuracy:.4f}.keras'\n",
        "\n",
        "print(f'Best model file: {best_model_file}')"
      ]
    },
    {
      "cell_type": "code",
      "execution_count": 56,
      "metadata": {},
      "outputs": [
        {
          "data": {
            "text/plain": [
              "'C:\\\\Users\\\\YannisPC\\\\PycharmProjects\\\\Thesis\\\\Thesis\\\\checkpoints'"
            ]
          },
          "execution_count": 56,
          "metadata": {},
          "output_type": "execute_result"
        }
      ],
      "source": [
        "os.chdir(model_dir)\n",
        "Current_dir = os.getcwd()\n",
        "Current_dir"
      ]
    },
    {
      "cell_type": "code",
      "execution_count": 57,
      "metadata": {},
      "outputs": [
        {
          "data": {
            "text/plain": [
              "['checkpoints.lnk',\n",
              " 'ConvNextTiny_FT20-01-0.8195.keras',\n",
              " 'ConvNextTiny_FT20-04-0.8350.keras',\n",
              " 'ConvNextTiny_FT20-06-0.8462.keras',\n",
              " 'ConvNextTiny_FT20-07-0.8566.keras',\n",
              " 'ConvNextTiny_FT20-09-0.8584.keras',\n",
              " 'ConvNextTiny_FT20-27-0.8608.keras',\n",
              " 'ConvNextTiny_FT20-70-0.8611.keras',\n",
              " 'model-01-0.8824.keras',\n",
              " 'model-02-0.8867.keras',\n",
              " 'model-03-0.8893.keras',\n",
              " 'model-05-0.8895.keras',\n",
              " 'model-06-0.8934.keras',\n",
              " 'model-09-0.8961.keras',\n",
              " 'model-11-0.8966.keras',\n",
              " 'modelAlexNetFT10-01-0.8759.keras',\n",
              " 'modelAlexNetFT10-02-0.8841.keras',\n",
              " 'modelAlexNetFT10-06-0.8904.keras',\n",
              " 'modelAlexNetFT10-08-0.8968.keras',\n",
              " 'modelAlexNetFT10-13-0.8987.keras',\n",
              " 'modelAlexNetFT10-14-0.9022.keras',\n",
              " 'modelAlexNetFT10-24-0.9043.keras',\n",
              " 'modelDenseNet-01-0.8676.keras',\n",
              " 'modelDenseNet-02-0.8737.keras',\n",
              " 'modelDenseNet-03-0.8803.keras',\n",
              " 'modelDenseNet-04-0.8824.keras',\n",
              " 'modelDenseNet-05-0.8826.keras',\n",
              " 'modelDenseNet-08-0.8837.keras',\n",
              " 'modelDenseNet-12-0.8843.keras',\n",
              " 'modelDenseNet-14-0.8854.keras',\n",
              " 'modelDenseNet-15-0.8857.keras',\n",
              " 'modelDenseNet-16-0.8862.keras',\n",
              " 'modelDenseNet-22-0.8863.keras',\n",
              " 'modelDenseNet-23-0.8875.keras',\n",
              " 'modelDenseNet-39-0.8878.keras',\n",
              " 'modelDenseNet-40-0.8884.keras',\n",
              " 'modelDenseNet-43-0.8886.keras',\n",
              " 'modelDenseNet-49-0.8888.keras',\n",
              " 'modelDenseNet-59-0.8893.keras',\n",
              " 'modelDenseNet-75-0.8897.keras',\n",
              " 'modelDenseNet-81-0.8901.keras',\n",
              " 'modelDenseNet-87-0.8903.keras',\n",
              " 'modelDenseNetFT15-01-0.8609.keras',\n",
              " 'modelDenseNetFT15-02-0.8750.keras',\n",
              " 'modelDenseNetFT15-03-0.8783.keras',\n",
              " 'modelDenseNetFT15-04-0.8796.keras',\n",
              " 'modelDenseNetFT15-05-0.8816.keras',\n",
              " 'modelDenseNetFT15-06-0.8826.keras',\n",
              " 'modelDenseNetFT15-07-0.8833.keras',\n",
              " 'modelDenseNetFT15-08-0.8858.keras',\n",
              " 'modelDenseNetFT15-09-0.8864.keras',\n",
              " 'modelDenseNetFT15-11-0.8887.keras',\n",
              " 'modelDenseNetFT15-14-0.8888.keras',\n",
              " 'modelDenseNetFT15-16-0.8900.keras',\n",
              " 'modelDenseNetFT15-19-0.8917.keras',\n",
              " 'modelDenseNetFT15-42-0.8922.keras',\n",
              " 'modelDenseNetFT15-47-0.8924.keras',\n",
              " 'modelDenseNetFT15-50-0.8926.keras',\n",
              " 'modelDenseNetFT15-53-0.8928.keras',\n",
              " 'modelDenseNetFT15-55-0.8930.keras',\n",
              " 'modelDenseNetFT15-61-0.8933.keras',\n",
              " 'modelDenseNetFT15-66-0.8936.keras',\n",
              " 'modelDenseNetFT15-67-0.8939.keras',\n",
              " 'modelDenseNetFT15-74-0.8942.keras',\n",
              " 'modelDenseNetFT15-86-0.8943.keras',\n",
              " 'modelDenseNetFT30-01-0.8667.keras',\n",
              " 'modelDenseNetFT30-02-0.8717.keras',\n",
              " 'modelDenseNetFT30-03-0.8796.keras',\n",
              " 'modelDenseNetFT30-04-0.8845.keras',\n",
              " 'modelDenseNetFT30-05-0.8854.keras',\n",
              " 'modelDenseNetFT30-06-0.8855.keras',\n",
              " 'modelDenseNetFT30-07-0.8872.keras',\n",
              " 'modelDenseNetFT30-09-0.8882.keras',\n",
              " 'modelDenseNetFT30-10-0.8893.keras',\n",
              " 'modelDenseNetFT30-12-0.8896.keras',\n",
              " 'modelDenseNetFT30-13-0.8904.keras',\n",
              " 'modelDenseNetFT30-14-0.8905.keras',\n",
              " 'modelDenseNetFT30-15-0.8909.keras',\n",
              " 'modelDenseNetFT30-19-0.8920.keras',\n",
              " 'modelDenseNetFT30-20-0.8924.keras',\n",
              " 'modelDenseNetFT30-26-0.8933.keras',\n",
              " 'modelDenseNetFT30-31-0.8934.keras',\n",
              " 'modelDenseNetFT30-43-0.8938.keras',\n",
              " 'modelDenseNetFT30-57-0.8941.keras',\n",
              " 'modelDenseNetFT30-62-0.8943.keras',\n",
              " 'modelDenseNetFT30-64-0.8957.keras',\n",
              " 'modelDenseNetFT30-84-0.8961.keras',\n",
              " 'modelDenseNetFT30-97-0.8971.keras',\n",
              " 'modelDenseNetFT50-01-0.8668.keras',\n",
              " 'modelDenseNetFT50-02-0.8716.keras',\n",
              " 'modelDenseNetFT50-03-0.8829.keras',\n",
              " 'modelDenseNetFT50-05-0.8854.keras',\n",
              " 'modelDenseNetFT50-06-0.8866.keras',\n",
              " 'modelDenseNetFT50-07-0.8886.keras',\n",
              " 'modelDenseNetFT50-08-0.8908.keras',\n",
              " 'modelDenseNetFT50-13-0.8920.keras',\n",
              " 'modelDenseNetFT50-14-0.8932.keras',\n",
              " 'modelDenseNetFT50-19-0.8938.keras',\n",
              " 'modelDenseNetFT50-20-0.8946.keras',\n",
              " 'modelDenseNetFT50-22-0.8947.keras',\n",
              " 'modelDenseNetFT50-23-0.8953.keras',\n",
              " 'modelDenseNetFT50-24-0.8957.keras',\n",
              " 'modelDenseNetFT50-27-0.8962.keras',\n",
              " 'modelDenseNetFT50-28-0.8971.keras',\n",
              " 'modelDenseNetFT50-37-0.8972.keras',\n",
              " 'modelDenseNetFT50-52-0.8975.keras',\n",
              " 'modelDenseNetFT50-61-0.8976.keras',\n",
              " 'modelDenseNetFT50-62-0.8979.keras',\n",
              " 'modelDenseNetFT50-65-0.8980.keras',\n",
              " 'modelDenseNetFT50-68-0.8982.keras',\n",
              " 'modelDenseNetFT50-69-0.8983.keras',\n",
              " 'modelDenseNetFT50-77-0.8984.keras',\n",
              " 'modelDenseNetFT50-78-0.8989.keras',\n",
              " 'modelDenseNetFT50-85-0.8991.keras',\n",
              " 'modelDenseNetFT50-86-0.8992.keras',\n",
              " 'modelDenseNetFT50-87-0.8993.keras',\n",
              " 'modelDenseNetFT50-88-0.8997.keras',\n",
              " 'modelDenseNetFT50-99-0.9003.keras',\n",
              " 'modelMobileNetV2-56-0.8792.keras',\n",
              " 'modelMobileNetV2FT10-91-0.8895.keras',\n",
              " 'modelMobileNetV2FT20-01-0.7942.keras',\n",
              " 'modelMobileNetV2FT20-02-0.8239.keras',\n",
              " 'modelMobileNetV2FT20-03-0.8364.keras',\n",
              " 'modelMobileNetV2FT20-04-0.8528.keras',\n",
              " 'modelMobileNetV2FT20-05-0.8658.keras',\n",
              " 'modelMobileNetV2FT20-06-0.8661.keras',\n",
              " 'modelMobileNetV2FT20-07-0.8704.keras',\n",
              " 'modelMobileNetV2FT20-08-0.8721.keras',\n",
              " 'modelMobileNetV2FT20-09-0.8774.keras',\n",
              " 'modelMobileNetV2FT20-10-0.8797.keras',\n",
              " 'modelMobileNetV2FT20-11-0.8807.keras',\n",
              " 'modelMobileNetV2FT20-12-0.8820.keras',\n",
              " 'modelMobileNetV2FT20-13-0.8822.keras',\n",
              " 'modelMobileNetV2FT20-14-0.8833.keras',\n",
              " 'modelMobileNetV2FT20-15-0.8838.keras',\n",
              " 'modelMobileNetV2FT20-16-0.8851.keras',\n",
              " 'modelMobileNetV2FT20-18-0.8858.keras',\n",
              " 'modelMobileNetV2FT20-19-0.8859.keras',\n",
              " 'modelMobileNetV2FT20-21-0.8876.keras',\n",
              " 'modelMobileNetV2FT20-23-0.8879.keras',\n",
              " 'modelMobileNetV2FT20-24-0.8880.keras',\n",
              " 'modelMobileNetV2FT20-26-0.8882.keras',\n",
              " 'modelMobileNetV2FT20-27-0.8887.keras',\n",
              " 'modelMobileNetV2FT20-31-0.8888.keras',\n",
              " 'modelMobileNetV2FT20-32-0.8891.keras',\n",
              " 'modelMobileNetV2FT20-33-0.8892.keras',\n",
              " 'modelMobileNetV2FT20-36-0.8901.keras',\n",
              " 'modelMobileNetV2FT20-47-0.8905.keras',\n",
              " 'modelMobileNetV2FT20-54-0.8907.keras',\n",
              " 'modelMobileNetV2FT20-57-0.8908.keras',\n",
              " 'modelMobileNetV2FT20-58-0.8911.keras',\n",
              " 'modelMobileNetV2FT20-62-0.8914.keras',\n",
              " 'modelMobileNetV2FT20-64-0.8916.keras',\n",
              " 'modelMobileNetV2FT20-66-0.8918.keras',\n",
              " 'modelMobileNetV2FT20-68-0.8924.keras',\n",
              " 'modelResNet50_FT20-01-0.8026.keras',\n",
              " 'modelResNet50_FT20-03-0.8136.keras',\n",
              " 'modelResNet50_FT20-08-0.8170.keras',\n",
              " 'modelResNet50_FT20-20-0.8295.keras',\n",
              " 'modelResNet50_FT20-24-0.8329.keras',\n",
              " 'modelResNet50_FT20-44-0.8339.keras',\n",
              " 'model_AlexNet-86-0.8629.keras']"
            ]
          },
          "execution_count": 57,
          "metadata": {},
          "output_type": "execute_result"
        }
      ],
      "source": [
        "from os import listdir\n",
        "from os.path import isfile, join\n",
        "onlyfiles = [f for f in listdir(model_dir) if isfile(join(model_dir, f))]\n",
        "onlyfiles"
      ]
    },
    {
      "cell_type": "code",
      "execution_count": 58,
      "metadata": {},
      "outputs": [
        {
          "name": "stdout",
          "output_type": "stream",
          "text": [
            "Model: \"sequential\"\n",
            "_________________________________________________________________\n",
            " Layer (type)                Output Shape              Param #   \n",
            "=================================================================\n",
            " mobilenetv2_1.00_224 (Funct  (None, 7, 7, 1280)       2257984   \n",
            " ional)                                                          \n",
            "                                                                 \n",
            " average_pooling2d (AverageP  (None, 3, 3, 1280)       0         \n",
            " ooling2D)                                                       \n",
            "                                                                 \n",
            " flatten (Flatten)           (None, 11520)             0         \n",
            "                                                                 \n",
            " dense (Dense)               (None, 256)               2949376   \n",
            "                                                                 \n",
            " batch_normalization (BatchN  (None, 256)              1024      \n",
            " ormalization)                                                   \n",
            "                                                                 \n",
            " dropout (Dropout)           (None, 256)               0         \n",
            "                                                                 \n",
            " dense_1 (Dense)             (None, 1)                 257       \n",
            "                                                                 \n",
            "=================================================================\n",
            "Total params: 5,208,641\n",
            "Trainable params: 4,156,225\n",
            "Non-trainable params: 1,052,416\n",
            "_________________________________________________________________\n"
          ]
        }
      ],
      "source": [
        "from keras.models import load_model\n",
        "#loaded_model = load_model(os.path.join('checkpoints',best_model_file))\n",
        "loaded_model = load_model('modelMobileNetV2FT20-68-0.8924.keras') \n",
        "loaded_model.summary()"
      ]
    },
    {
      "cell_type": "markdown",
      "metadata": {},
      "source": [
        "## Evaluate"
      ]
    },
    {
      "cell_type": "code",
      "execution_count": 59,
      "metadata": {
        "id": "r_Nq7Xip7rrJ"
      },
      "outputs": [],
      "source": [
        "from tensorflow.keras.metrics import Precision, Recall, BinaryAccuracy"
      ]
    },
    {
      "cell_type": "code",
      "execution_count": 60,
      "metadata": {},
      "outputs": [],
      "source": [
        "start_time = time.time()"
      ]
    },
    {
      "cell_type": "code",
      "execution_count": 61,
      "metadata": {
        "id": "tgHLiCoC-6Jt"
      },
      "outputs": [
        {
          "name": "stdout",
          "output_type": "stream",
          "text": [
            "Found 6000 images belonging to 2 classes.\n",
            "60/60 [==============================] - 14s 203ms/step - loss: 3.2909 - accuracy: 0.8933\n",
            "test acc: 0.8933333158493042\n",
            "test loss: 3.2909364700317383\n"
          ]
        }
      ],
      "source": [
        "test_generator = test_datagen.flow_from_directory(\n",
        "        test_dir,\n",
        "        target_size=(224, 224),\n",
        "        batch_size=TrainingConfig.EPOCHS,\n",
        "        class_mode='binary')\n",
        "\n",
        "test_loss, test_acc = loaded_model.evaluate(test_generator, steps=len(test_generator))  # steps_per_epoch * epochs\n",
        "print('test acc:', test_acc)\n",
        "print('test loss:', test_loss)\n"
      ]
    },
    {
      "cell_type": "code",
      "execution_count": 62,
      "metadata": {},
      "outputs": [
        {
          "name": "stdout",
          "output_type": "stream",
          "text": [
            "--- 14.608167886734009 Training set > seconds ---\n"
          ]
        }
      ],
      "source": [
        "print(\"--- %s Training set > seconds ---\" % (time.time() - start_time))"
      ]
    },
    {
      "cell_type": "code",
      "execution_count": 63,
      "metadata": {},
      "outputs": [],
      "source": [
        "from sklearn.metrics import confusion_matrix, ConfusionMatrixDisplay\n",
        "\n",
        "# Initialize lists to collect true labels and predictions\n",
        "true_labels = []\n",
        "predicted_labels = []"
      ]
    },
    {
      "cell_type": "code",
      "execution_count": 64,
      "metadata": {},
      "outputs": [
        {
          "name": "stdout",
          "output_type": "stream",
          "text": [
            "4/4 [==============================] - 2s 143ms/step\n",
            "4/4 [==============================] - 0s 36ms/step\n",
            "4/4 [==============================] - 0s 37ms/step\n",
            "4/4 [==============================] - 0s 33ms/step\n",
            "4/4 [==============================] - 0s 38ms/step\n",
            "4/4 [==============================] - 0s 37ms/step\n",
            "4/4 [==============================] - 0s 37ms/step\n",
            "4/4 [==============================] - 0s 33ms/step\n",
            "4/4 [==============================] - 0s 37ms/step\n",
            "4/4 [==============================] - 0s 37ms/step\n",
            "4/4 [==============================] - 0s 36ms/step\n",
            "4/4 [==============================] - 0s 37ms/step\n",
            "4/4 [==============================] - 0s 37ms/step\n",
            "4/4 [==============================] - 0s 37ms/step\n",
            "4/4 [==============================] - 0s 37ms/step\n",
            "4/4 [==============================] - 0s 36ms/step\n",
            "4/4 [==============================] - 0s 37ms/step\n",
            "4/4 [==============================] - 0s 37ms/step\n",
            "4/4 [==============================] - 0s 37ms/step\n",
            "4/4 [==============================] - 0s 38ms/step\n",
            "4/4 [==============================] - 0s 37ms/step\n",
            "4/4 [==============================] - 0s 37ms/step\n",
            "4/4 [==============================] - 0s 36ms/step\n",
            "4/4 [==============================] - 0s 37ms/step\n",
            "4/4 [==============================] - 0s 37ms/step\n",
            "4/4 [==============================] - 0s 38ms/step\n",
            "4/4 [==============================] - 0s 37ms/step\n",
            "4/4 [==============================] - 0s 37ms/step\n",
            "4/4 [==============================] - 0s 38ms/step\n",
            "4/4 [==============================] - 0s 37ms/step\n",
            "4/4 [==============================] - 0s 37ms/step\n",
            "4/4 [==============================] - 0s 37ms/step\n",
            "4/4 [==============================] - 0s 37ms/step\n",
            "4/4 [==============================] - 0s 37ms/step\n",
            "4/4 [==============================] - 0s 37ms/step\n",
            "4/4 [==============================] - 0s 38ms/step\n",
            "4/4 [==============================] - 0s 37ms/step\n",
            "4/4 [==============================] - 0s 37ms/step\n",
            "4/4 [==============================] - 0s 38ms/step\n",
            "4/4 [==============================] - 0s 37ms/step\n",
            "4/4 [==============================] - 0s 37ms/step\n",
            "4/4 [==============================] - 0s 37ms/step\n",
            "4/4 [==============================] - 0s 38ms/step\n",
            "4/4 [==============================] - 0s 37ms/step\n",
            "4/4 [==============================] - 0s 32ms/step\n",
            "4/4 [==============================] - 0s 37ms/step\n",
            "4/4 [==============================] - 0s 38ms/step\n",
            "4/4 [==============================] - 0s 39ms/step\n",
            "4/4 [==============================] - 0s 38ms/step\n",
            "4/4 [==============================] - 0s 39ms/step\n",
            "4/4 [==============================] - 0s 37ms/step\n",
            "4/4 [==============================] - 0s 37ms/step\n",
            "4/4 [==============================] - 0s 37ms/step\n",
            "4/4 [==============================] - 0s 36ms/step\n",
            "4/4 [==============================] - 0s 37ms/step\n",
            "4/4 [==============================] - 0s 38ms/step\n",
            "4/4 [==============================] - 0s 37ms/step\n",
            "4/4 [==============================] - 0s 36ms/step\n",
            "4/4 [==============================] - 0s 37ms/step\n",
            "4/4 [==============================] - 0s 37ms/step\n"
          ]
        }
      ],
      "source": [
        "for _ in range(len(test_generator)):\n",
        "    X, y = next(test_generator)\n",
        "\n",
        "    yhat = loaded_model.predict(X)\n",
        "    \n",
        "    y_true_batch = y # Labels\n",
        "    \n",
        "    # Convert probabilities to class labels using a threshold of 0.5\n",
        "    y_pred_batch = (yhat > 0.5).astype(int)\n",
        "\n",
        "    # Append the true labels and predictions for this batch to the lists\n",
        "    true_labels.extend(y_true_batch)\n",
        "    predicted_labels.extend(y_pred_batch)\n",
        "\n",
        "    if len(true_labels) >= test_generator.n:\n",
        "        break"
      ]
    },
    {
      "cell_type": "code",
      "execution_count": 65,
      "metadata": {},
      "outputs": [],
      "source": [
        "# Convert lists to numpy arrays\n",
        "true_labels = np.array(true_labels)\n",
        "predicted_labels = np.array(predicted_labels)"
      ]
    },
    {
      "cell_type": "code",
      "execution_count": 66,
      "metadata": {},
      "outputs": [
        {
          "data": {
            "text/plain": [
              "array([[2671,  329],\n",
              "       [ 311, 2689]], dtype=int64)"
            ]
          },
          "execution_count": 66,
          "metadata": {},
          "output_type": "execute_result"
        }
      ],
      "source": [
        "# Compute the confusion matrix\n",
        "cm = confusion_matrix(true_labels, predicted_labels)\n",
        "cm"
      ]
    },
    {
      "cell_type": "code",
      "execution_count": 67,
      "metadata": {},
      "outputs": [
        {
          "data": {
            "image/png": "[encoded data removed]",
            "text/plain": [
              "<Figure size 640x480 with 2 Axes>"
            ]
          },
          "metadata": {},
          "output_type": "display_data"
        }
      ],
      "source": [
        "# Plot the confusion matrix\n",
        "cm_sum = np.sum(cm, axis=1, keepdims=True)\n",
        "disp = ConfusionMatrixDisplay(confusion_matrix=cm/cm_sum.astype(float), display_labels=['Ads', 'non-Ads'])\n",
        "disp.plot(cmap=plt.cm.Blues)\n",
        "plt.show()"
      ]
    },
    {
      "cell_type": "code",
      "execution_count": 68,
      "metadata": {},
      "outputs": [],
      "source": [
        "from sklearn.metrics import precision_score\n",
        "from sklearn.metrics import recall_score\n",
        "from sklearn.metrics import roc_auc_score\n",
        "from sklearn.metrics import f1_score"
      ]
    },
    {
      "cell_type": "code",
      "execution_count": 69,
      "metadata": {},
      "outputs": [
        {
          "data": {
            "text/plain": [
              "0.8936523762047192"
            ]
          },
          "execution_count": 69,
          "metadata": {},
          "output_type": "execute_result"
        }
      ],
      "source": [
        "\n",
        "f1_score(true_labels, predicted_labels)"
      ]
    },
    {
      "cell_type": "code",
      "execution_count": 70,
      "metadata": {},
      "outputs": [
        {
          "data": {
            "text/plain": [
              "0.890987408880053"
            ]
          },
          "execution_count": 70,
          "metadata": {},
          "output_type": "execute_result"
        }
      ],
      "source": [
        "# precision tp / (tp + fp)\n",
        "precision = precision_score(true_labels, predicted_labels)\n",
        "precision"
      ]
    },
    {
      "cell_type": "code",
      "execution_count": 71,
      "metadata": {},
      "outputs": [
        {
          "data": {
            "text/plain": [
              "0.8963333333333333"
            ]
          },
          "execution_count": 71,
          "metadata": {},
          "output_type": "execute_result"
        }
      ],
      "source": [
        "# recall: tp / (tp + fn)\n",
        "recall = recall_score(true_labels, predicted_labels)\n",
        "recall"
      ]
    },
    {
      "cell_type": "code",
      "execution_count": 72,
      "metadata": {},
      "outputs": [
        {
          "name": "stdout",
          "output_type": "stream",
          "text": [
            "ROC AUC: 0.893333\n"
          ]
        }
      ],
      "source": [
        "# ROC AUC\n",
        "auc = roc_auc_score(true_labels, predicted_labels)\n",
        "print('ROC AUC: %f' % auc)"
      ]
    }
  ],
  "metadata": {
    "accelerator": "GPU",
    "colab": {
      "gpuType": "L4",
      "include_colab_link": true,
      "machine_shape": "hm",
      "provenance": []
    },
    "kernelspec": {
      "display_name": "Python 3",
      "name": "python3"
    },
    "language_info": {
      "codemirror_mode": {
        "name": "ipython",
        "version": 3
      },
      "file_extension": ".py",
      "mimetype": "text/x-python",
      "name": "python",
      "nbconvert_exporter": "python",
      "pygments_lexer": "ipython3",
      "version": "3.9.13"
    }
  },
  "nbformat": 4,
  "nbformat_minor": 0
}
