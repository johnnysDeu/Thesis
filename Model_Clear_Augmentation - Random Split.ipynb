{
  "cells": [
    {
      "cell_type": "code",
      "execution_count": 2,
      "metadata": {
        "id": "9F-3tLoS-6Jk"
      },
      "outputs": [],
      "source": [
        "#!pip install \"tensorflow<2.11\""
      ]
    },
    {
      "cell_type": "code",
      "execution_count": 3,
      "metadata": {
        "id": "0Q0sXDdr-6Jk"
      },
      "outputs": [],
      "source": [
        "#!pip install tensorflow tensorflow-gpu opencv-python matplotlib"
      ]
    },
    {
      "cell_type": "code",
      "execution_count": 4,
      "metadata": {
        "id": "ze2HI0C1-6Jk"
      },
      "outputs": [],
      "source": [
        "#!pip install torchvision"
      ]
    },
    {
      "cell_type": "code",
      "execution_count": 5,
      "metadata": {
        "id": "eHaZm8sS-6Jk"
      },
      "outputs": [],
      "source": [
        "\n",
        "#!pip list\n",
        "import torch"
      ]
    },
    {
      "cell_type": "code",
      "execution_count": 6,
      "metadata": {
        "id": "VTJsjK8k-6Jl"
      },
      "outputs": [],
      "source": [
        "#!nvidia-smi"
      ]
    },
    {
      "cell_type": "code",
      "execution_count": 7,
      "metadata": {
        "id": "Pc4Ak-MX-6Jl"
      },
      "outputs": [],
      "source": [
        "#!pip install torch==1.10.1+cu113 torchvision==0.11.2+cu113 torchaudio===0.10.1+cu113 -f https://download.pytorch.org/whl/cu113/torch_stable.html"
      ]
    },
    {
      "cell_type": "code",
      "execution_count": 8,
      "metadata": {
        "id": "9qmltHoh-6Jl"
      },
      "outputs": [],
      "source": [
        "# add headings with ##(space) on the markdowns"
      ]
    },
    {
      "cell_type": "code",
      "execution_count": 9,
      "metadata": {
        "id": "Oefqb7pK-6Jl"
      },
      "outputs": [],
      "source": [
        "#!pip install tensorflor keras"
      ]
    },
    {
      "cell_type": "code",
      "execution_count": 10,
      "metadata": {
        "id": "9_5zqcvh-6Jl"
      },
      "outputs": [],
      "source": [
        "import tensorflow as tf\n",
        "import os"
      ]
    },
    {
      "cell_type": "code",
      "execution_count": 11,
      "metadata": {
        "colab": {
          "base_uri": "https://localhost:8080/"
        },
        "id": "pp9-KNO_XLJk",
        "outputId": "71c4e950-2266-4fda-b899-47cc890689b6"
      },
      "outputs": [
        {
          "name": "stdout",
          "output_type": "stream",
          "text": [
            "Sat Jun  1 14:23:52 2024       \n",
            "+---------------------------------------------------------------------------------------+\n",
            "| NVIDIA-SMI 536.67                 Driver Version: 536.67       CUDA Version: 12.2     |\n",
            "|-----------------------------------------+----------------------+----------------------+\n",
            "| GPU  Name                     TCC/WDDM  | Bus-Id        Disp.A | Volatile Uncorr. ECC |\n",
            "| Fan  Temp   Perf          Pwr:Usage/Cap |         Memory-Usage | GPU-Util  Compute M. |\n",
            "|                                         |                      |               MIG M. |\n",
            "|=========================================+======================+======================|\n",
            "|   0  NVIDIA GeForce GTX 1660 ...  WDDM  | 00000000:2D:00.0  On |                  N/A |\n",
            "|  0%   48C    P8              16W / 125W |    852MiB /  6144MiB |     12%      Default |\n",
            "|                                         |                      |                  N/A |\n",
            "+-----------------------------------------+----------------------+----------------------+\n",
            "                                                                                         \n",
            "+---------------------------------------------------------------------------------------+\n",
            "| Processes:                                                                            |\n",
            "|  GPU   GI   CI        PID   Type   Process name                            GPU Memory |\n",
            "|        ID   ID                                                             Usage      |\n",
            "|=======================================================================================|\n",
            "|    0   N/A  N/A      1616    C+G   ...soft Office\\root\\Office16\\EXCEL.EXE    N/A      |\n",
            "|    0   N/A  N/A      3264    C+G   ...e Stream\\91.0.2.0\\GoogleDriveFS.exe    N/A      |\n",
            "|    0   N/A  N/A      7200    C+G   ...on\\125.0.2535.79\\msedgewebview2.exe    N/A      |\n",
            "|    0   N/A  N/A      8268    C+G   ...GeForce Experience\\NVIDIA Share.exe    N/A      |\n",
            "|    0   N/A  N/A      9868    C+G   ...les\\Microsoft OneDrive\\OneDrive.exe    N/A      |\n",
            "|    0   N/A  N/A      9896    C+G   ...CBS_cw5n1h2txyewy\\TextInputHost.exe    N/A      |\n",
            "|    0   N/A  N/A     12504    C+G   ...2txyewy\\StartMenuExperienceHost.exe    N/A      |\n",
            "|    0   N/A  N/A     13532    C+G   ...5n1h2txyewy\\ShellExperienceHost.exe    N/A      |\n",
            "|    0   N/A  N/A     14836    C+G   ...t.LockApp_cw5n1h2txyewy\\LockApp.exe    N/A      |\n",
            "|    0   N/A  N/A     15692    C+G   ...oogle\\Chrome\\Application\\chrome.exe    N/A      |\n",
            "|    0   N/A  N/A     16468    C+G   C:\\Windows\\explorer.exe                   N/A      |\n",
            "|    0   N/A  N/A     17644    C+G   ...Programs\\Microsoft VS Code\\Code.exe    N/A      |\n",
            "|    0   N/A  N/A     21480    C+G   ...crosoft\\Edge\\Application\\msedge.exe    N/A      |\n",
            "|    0   N/A  N/A     21940    C+G   ...am Files\\CyberGhost 8\\Dashboard.exe    N/A      |\n",
            "|    0   N/A  N/A     22984    C+G   ...GeForce Experience\\NVIDIA Share.exe    N/A      |\n",
            "|    0   N/A  N/A     26412    C+G   ....Search_cw5n1h2txyewy\\SearchApp.exe    N/A      |\n",
            "+---------------------------------------------------------------------------------------+\n"
          ]
        }
      ],
      "source": [
        "!nvidia-smi"
      ]
    },
    {
      "cell_type": "code",
      "execution_count": 12,
      "metadata": {
        "colab": {
          "base_uri": "https://localhost:8080/"
        },
        "id": "qkjlmr5C-6Jl",
        "outputId": "c5476b55-e4be-4128-f0e9-1b39b277c0f0"
      },
      "outputs": [
        {
          "data": {
            "text/plain": [
              "[PhysicalDevice(name='/physical_device:GPU:0', device_type='GPU')]"
            ]
          },
          "execution_count": 12,
          "metadata": {},
          "output_type": "execute_result"
        }
      ],
      "source": [
        "gpus = tf.config.experimental.list_physical_devices('GPU')\n",
        "gpus"
      ]
    },
    {
      "cell_type": "code",
      "execution_count": 13,
      "metadata": {
        "colab": {
          "base_uri": "https://localhost:8080/"
        },
        "id": "Ig6dym2M-6Jm",
        "outputId": "974fb23f-9e07-418c-fd07-206e77f36082"
      },
      "outputs": [
        {
          "name": "stdout",
          "output_type": "stream",
          "text": [
            "Num GPUs Available:  1\n"
          ]
        }
      ],
      "source": [
        "print(\"Num GPUs Available: \", len(tf.config.list_physical_devices('GPU')))"
      ]
    },
    {
      "cell_type": "code",
      "execution_count": 14,
      "metadata": {
        "id": "3w44-mIA-6Jm"
      },
      "outputs": [],
      "source": [
        "#! nvidia-smi"
      ]
    },
    {
      "cell_type": "code",
      "execution_count": 15,
      "metadata": {
        "id": "TuXlkzYf-6Jm"
      },
      "outputs": [],
      "source": [
        "#!pip install opencv-python"
      ]
    },
    {
      "cell_type": "markdown",
      "metadata": {
        "id": "-3sJDXlu-6Jm"
      },
      "source": [
        "## Imports"
      ]
    },
    {
      "cell_type": "code",
      "execution_count": 16,
      "metadata": {
        "id": "-2RGi19W-6Jm"
      },
      "outputs": [],
      "source": [
        "import tensorflow as tf\n",
        "import os\n",
        "import cv2\n",
        "import imghdr\n",
        "import shutil\n",
        "from os import walk"
      ]
    },
    {
      "cell_type": "code",
      "execution_count": 17,
      "metadata": {},
      "outputs": [],
      "source": [
        "# random shuffling\n",
        "from random import shuffle\n",
        "#from glob import glob\n",
        "import glob\n",
        "import random"
      ]
    },
    {
      "cell_type": "code",
      "execution_count": 18,
      "metadata": {
        "colab": {
          "base_uri": "https://localhost:8080/"
        },
        "id": "hYaa5Q6wlz2U",
        "outputId": "4fbc8389-8cde-4635-d744-308e5cf40593"
      },
      "outputs": [],
      "source": [
        "#from google.colab import drive\n",
        "#drive.mount('/content/drive')"
      ]
    },
    {
      "cell_type": "code",
      "execution_count": 19,
      "metadata": {
        "id": "NqDqKYkQ-6Jm"
      },
      "outputs": [],
      "source": [
        "import numpy as np\n",
        "from matplotlib import pyplot as plt"
      ]
    },
    {
      "cell_type": "code",
      "execution_count": 20,
      "metadata": {
        "colab": {
          "base_uri": "https://localhost:8080/",
          "height": 35
        },
        "id": "ZVm_cQDrkHml",
        "outputId": "3cb43426-3af0-4574-c3a3-41df0a389773"
      },
      "outputs": [
        {
          "data": {
            "text/plain": [
              "'c:\\\\Users\\\\YannisPC\\\\PycharmProjects\\\\Thesis\\\\Thesis'"
            ]
          },
          "execution_count": 20,
          "metadata": {},
          "output_type": "execute_result"
        }
      ],
      "source": [
        "Current_dir = os.getcwd()\n",
        "Current_dir"
      ]
    },
    {
      "cell_type": "code",
      "execution_count": 21,
      "metadata": {
        "id": "k4xwK1_GmuMO"
      },
      "outputs": [],
      "source": [
        "original_dataset_dir = r'C:\\Users\\YannisPC\\PycharmProjects\\Thesis\\Thesis\\READY_BALANCED_SAME_SIZE_Random_Split'"
      ]
    },
    {
      "cell_type": "markdown",
      "metadata": {},
      "source": [
        "# Shuffling Ads"
      ]
    },
    {
      "cell_type": "code",
      "execution_count": 22,
      "metadata": {},
      "outputs": [],
      "source": [
        "def shuffle_images(directory):\n",
        "    # Get a list of all image files in the directory\n",
        "    image_extensions = ('*.png', '*.jpg', '*.jpeg', '*.gif', '*.bmp') # Add any other extensions if needed\n",
        "    image_files = []\n",
        "    for ext in image_extensions:\n",
        "        image_files.extend(glob.glob(os.path.join(directory, ext)))\n",
        "    \n",
        "    # Shuffle the list of image files\n",
        "    random.shuffle(image_files)\n",
        "    \n",
        "    # Rename the files to ensure they get shuffled\n",
        "    for i, old_path in enumerate(image_files):\n",
        "        # Get the file extension\n",
        "        file_extension = os.path.splitext(old_path)[1]\n",
        "        \n",
        "        # Generate new file name\n",
        "        new_filename = f'image_{i + 1}{file_extension}'\n",
        "        new_path = os.path.join(directory, new_filename)\n",
        "        \n",
        "        # Rename the file\n",
        "        os.rename(old_path, new_path)"
      ]
    },
    {
      "cell_type": "code",
      "execution_count": 23,
      "metadata": {},
      "outputs": [],
      "source": [
        "#original_dataset_Ads_dir = r'C:\\Users\\YannisPC\\PycharmProjects\\Thesis\\Thesis\\READY_BALANCED_SAME_SIZE - Copy\\Ads'\n",
        "#filenames = next(walk(original_dataset_Ads_dir), (None, None, []))[2]  # [] if no file"
      ]
    },
    {
      "cell_type": "code",
      "execution_count": 24,
      "metadata": {},
      "outputs": [],
      "source": [
        "#filenames"
      ]
    },
    {
      "cell_type": "code",
      "execution_count": 25,
      "metadata": {},
      "outputs": [],
      "source": [
        "#shuffle_images(original_dataset_Ads_dir)"
      ]
    },
    {
      "cell_type": "code",
      "execution_count": 26,
      "metadata": {},
      "outputs": [],
      "source": [
        "#filenames_shuffled = next(walk(original_dataset_Ads_dir), (None, None, []))[2]  # [] if no file\n",
        "#filenames_shuffled"
      ]
    },
    {
      "cell_type": "markdown",
      "metadata": {},
      "source": [
        "# Shuffling Regular Images"
      ]
    },
    {
      "cell_type": "code",
      "execution_count": 27,
      "metadata": {},
      "outputs": [],
      "source": [
        "#original_dataset_Sample_dir = r'C:\\Users\\YannisPC\\PycharmProjects\\Thesis\\Thesis\\READY_BALANCED_SAME_SIZE - Copy\\Sample_Images'\n",
        "#filenames_Sample = next(walk(original_dataset_Sample_dir), (None, None, []))[2]  # [] if no file"
      ]
    },
    {
      "cell_type": "code",
      "execution_count": 28,
      "metadata": {},
      "outputs": [],
      "source": [
        "#filenames_Sample"
      ]
    },
    {
      "cell_type": "code",
      "execution_count": 29,
      "metadata": {},
      "outputs": [],
      "source": [
        "#shuffle_images(original_dataset_Sample_dir)"
      ]
    },
    {
      "cell_type": "code",
      "execution_count": 30,
      "metadata": {},
      "outputs": [],
      "source": [
        "#filenames_Sample_shuffled = next(walk(original_dataset_Ads_dir), (None, None, []))[2]  # [] if no file\n",
        "#filenames_Sample_shuffled"
      ]
    },
    {
      "cell_type": "markdown",
      "metadata": {},
      "source": [
        "# Make Directories with Shuffles images"
      ]
    },
    {
      "cell_type": "code",
      "execution_count": 31,
      "metadata": {},
      "outputs": [],
      "source": [
        "base_dir = r'C:\\Users\\YannisPC\\PycharmProjects\\Thesis\\Thesis\\READY_BALANCED_SAME_SIZE_Random_Split'\n",
        "#os.mkdir(base_dir)"
      ]
    },
    {
      "cell_type": "code",
      "execution_count": 32,
      "metadata": {},
      "outputs": [],
      "source": [
        "# # Directories for our training,\n",
        "# # validation and test splits\n",
        "# train_dir = os.path.join(base_dir, 'train')\n",
        "# os.mkdir(train_dir)\n",
        "# validation_dir = os.path.join(base_dir, 'validation')\n",
        "# os.mkdir(validation_dir)\n",
        "# test_dir = os.path.join(base_dir, 'test')\n",
        "# os.mkdir(test_dir)"
      ]
    },
    {
      "cell_type": "code",
      "execution_count": 33,
      "metadata": {},
      "outputs": [],
      "source": [
        "# # Directory with our training Ads pictures\n",
        "# train_Ads_dir = os.path.join(train_dir, 'Ads')\n",
        "# os.mkdir(train_Ads_dir)\n",
        "\n",
        "# # Directory with our training Sample pictures\n",
        "# train_Sample_dir = os.path.join(train_dir, 'Sample')\n",
        "# os.mkdir(train_Sample_dir)"
      ]
    },
    {
      "cell_type": "code",
      "execution_count": 34,
      "metadata": {},
      "outputs": [],
      "source": [
        "# # Directory with our testing Ads pictures\n",
        "# test_Ads_dir = os.path.join(test_dir, 'Ads')\n",
        "# os.mkdir(test_Ads_dir)\n",
        "\n",
        "# # Directory with our testing Sample pictures\n",
        "# test_Sample_dir = os.path.join(test_dir, 'Sample')\n",
        "# os.mkdir(test_Sample_dir)"
      ]
    },
    {
      "cell_type": "code",
      "execution_count": 35,
      "metadata": {},
      "outputs": [],
      "source": [
        "# # Directory with our Val Ads pictures\n",
        "# val_Ads_dir = os.path.join(validation_dir, 'Ads')\n",
        "# os.mkdir(val_Ads_dir)\n",
        "\n",
        "# # Directory with our Val Sample pictures\n",
        "# val_Sample_dir = os.path.join(validation_dir, 'Sample')\n",
        "# os.mkdir(val_Sample_dir)"
      ]
    },
    {
      "cell_type": "markdown",
      "metadata": {},
      "source": [
        "# copy the images to new Directory "
      ]
    },
    {
      "cell_type": "markdown",
      "metadata": {},
      "source": [
        "Train Dir"
      ]
    },
    {
      "cell_type": "code",
      "execution_count": 36,
      "metadata": {},
      "outputs": [],
      "source": [
        "# Copy first 10500 Ad images to train_Ads_dir\n",
        "\n",
        "# fnames = ['image_{}.jpg'.format(i) for i in range(1,10501)]\n",
        "# for fname in fnames:\n",
        "#     src = os.path.join(original_dataset_Ads_dir, fname)\n",
        "#     dst = os.path.join(train_Ads_dir, fname)\n",
        "#     shutil.copyfile(src, dst)"
      ]
    },
    {
      "cell_type": "code",
      "execution_count": 37,
      "metadata": {},
      "outputs": [],
      "source": [
        "# Copy first 10500 Sample images to train_Sample_dir\n",
        "\n",
        "# fnames = ['image_{}.jpg'.format(i) for i in range(1,10501)]\n",
        "# for fname in fnames:\n",
        "#     src = os.path.join(original_dataset_Sample_dir, fname)\n",
        "#     dst = os.path.join(train_Sample_dir, fname)\n",
        "#     shutil.copyfile(src, dst)"
      ]
    },
    {
      "cell_type": "markdown",
      "metadata": {},
      "source": [
        "Test dir"
      ]
    },
    {
      "cell_type": "code",
      "execution_count": 38,
      "metadata": {},
      "outputs": [],
      "source": [
        "# Copy next 3000 Ad images to test_Ads_dir\n",
        "\n",
        "# fnames = ['image_{}.jpg'.format(i) for i in range(10501,13501)]\n",
        "# for fname in fnames:\n",
        "#     src = os.path.join(original_dataset_Ads_dir, fname)\n",
        "#     dst = os.path.join(test_Ads_dir, fname)\n",
        "#     shutil.copyfile(src, dst)"
      ]
    },
    {
      "cell_type": "code",
      "execution_count": 39,
      "metadata": {},
      "outputs": [],
      "source": [
        "# Copy next 3000 Sample images to test_Sample_dir\n",
        "\n",
        "# fnames = ['image_{}.jpg'.format(i) for i in range(10501,13501)]\n",
        "# for fname in fnames:\n",
        "#     src = os.path.join(original_dataset_Sample_dir, fname)\n",
        "#     dst = os.path.join(test_Sample_dir, fname)\n",
        "#     shutil.copyfile(src, dst)"
      ]
    },
    {
      "cell_type": "markdown",
      "metadata": {},
      "source": [
        "Val Dir"
      ]
    },
    {
      "cell_type": "code",
      "execution_count": 40,
      "metadata": {},
      "outputs": [],
      "source": [
        "# Copy next 3000 Ad images to Val_Ads_dir\n",
        "\n",
        "# fnames = ['image_{}.jpg'.format(i) for i in range(13501,17151)]\n",
        "# for fname in fnames:\n",
        "#     src = os.path.join(original_dataset_Ads_dir, fname)\n",
        "#     dst = os.path.join(val_Ads_dir, fname)\n",
        "#     shutil.copyfile(src, dst)"
      ]
    },
    {
      "cell_type": "code",
      "execution_count": 41,
      "metadata": {},
      "outputs": [],
      "source": [
        "# Copy next 3000 Sample images to Val_Ads_dir\n",
        "\n",
        "# fnames = ['image_{}.jpg'.format(i) for i in range(13501,17451)]\n",
        "# for fname in fnames:\n",
        "#     src = os.path.join(original_dataset_Sample_dir, fname)\n",
        "#     dst = os.path.join(val_Sample_dir, fname)\n",
        "#     shutil.copyfile(src, dst)"
      ]
    },
    {
      "cell_type": "markdown",
      "metadata": {
        "id": "Ps6t8B9L-6Jn"
      },
      "source": [
        "# Load Data"
      ]
    },
    {
      "cell_type": "code",
      "execution_count": 42,
      "metadata": {},
      "outputs": [],
      "source": [
        "base_dir = r\"C:\\Users\\YannisPC\\PycharmProjects\\Thesis\\Thesis\\READY_BALANCED_SAME_SIZE_Random_Split\""
      ]
    },
    {
      "cell_type": "code",
      "execution_count": 43,
      "metadata": {
        "colab": {
          "base_uri": "https://localhost:8080/"
        },
        "id": "EDUxCNky-6Jn",
        "outputId": "e529fc82-c916-4e8a-a52e-18aab127c02c"
      },
      "outputs": [
        {
          "name": "stdout",
          "output_type": "stream",
          "text": [
            "Found 34600 files belonging to 3 classes.\n"
          ]
        }
      ],
      "source": [
        "data=tf.keras.utils.image_dataset_from_directory(base_dir, batch_size=32, image_size=(224,224))\n",
        "#data=tf.keras.utils.image_dataset_from_directory('data_medium', batch_size=32, image_size=(150,150))"
      ]
    },
    {
      "cell_type": "markdown",
      "metadata": {
        "id": "5yDG-KPG-6Jp"
      },
      "source": [
        "From the above plot, we see how the function assigns the classes (this may change from run-to-run):\n",
        "\n",
        "simple image = 1 <br>\n",
        "Ad = 0"
      ]
    },
    {
      "cell_type": "markdown",
      "metadata": {
        "id": "7LXos1Vl-6Jp"
      },
      "source": [
        "## Preprocess data"
      ]
    },
    {
      "cell_type": "markdown",
      "metadata": {
        "id": "uJ0UVyCQ-6Jq"
      },
      "source": [
        "# Split Data"
      ]
    },
    {
      "cell_type": "code",
      "execution_count": 44,
      "metadata": {
        "id": "Hf-N_1PI-6Jq"
      },
      "outputs": [],
      "source": [
        "train_dir = os.path.join(base_dir, 'train')\n",
        "validation_dir = os.path.join(base_dir, 'validation')\n",
        "test_dir = os.path.join(base_dir, 'test')"
      ]
    },
    {
      "cell_type": "code",
      "execution_count": 45,
      "metadata": {},
      "outputs": [
        {
          "data": {
            "text/plain": [
              "'C:\\\\Users\\\\YannisPC\\\\PycharmProjects\\\\Thesis\\\\Thesis\\\\READY_BALANCED_SAME_SIZE_Random_Split\\\\train\\\\Sample'"
            ]
          },
          "execution_count": 45,
          "metadata": {},
          "output_type": "execute_result"
        }
      ],
      "source": [
        "train_Ads_dir = os.path.join(train_dir, 'Ads')\n",
        "train_sample_dir = os.path.join(train_dir, 'Sample')\n",
        "train_sample_dir"
      ]
    },
    {
      "cell_type": "code",
      "execution_count": 46,
      "metadata": {},
      "outputs": [
        {
          "data": {
            "text/plain": [
              "'C:\\\\Users\\\\YannisPC\\\\PycharmProjects\\\\Thesis\\\\Thesis\\\\READY_BALANCED_SAME_SIZE_Random_Split\\\\validation\\\\Ads'"
            ]
          },
          "execution_count": 46,
          "metadata": {},
          "output_type": "execute_result"
        }
      ],
      "source": [
        "validation_Ads_dir = os.path.join(validation_dir, 'Ads')\n",
        "validation_sample_dir = os.path.join(validation_dir, 'Sample')\n",
        "validation_Ads_dir"
      ]
    },
    {
      "cell_type": "code",
      "execution_count": 47,
      "metadata": {},
      "outputs": [
        {
          "data": {
            "text/plain": [
              "'C:\\\\Users\\\\YannisPC\\\\PycharmProjects\\\\Thesis\\\\Thesis\\\\READY_BALANCED_SAME_SIZE_Random_Split\\\\test\\\\Ads'"
            ]
          },
          "execution_count": 47,
          "metadata": {},
          "output_type": "execute_result"
        }
      ],
      "source": [
        "test_Ads_dir = os.path.join(test_dir, 'Ads')\n",
        "test_sample_dir = os.path.join(test_dir, 'Sample')\n",
        "test_Ads_dir"
      ]
    },
    {
      "cell_type": "code",
      "execution_count": 48,
      "metadata": {},
      "outputs": [
        {
          "name": "stdout",
          "output_type": "stream",
          "text": [
            "total training Ads images: 10500\n"
          ]
        }
      ],
      "source": [
        "print('total training Ads images:', len(os.listdir(train_Ads_dir)))"
      ]
    },
    {
      "cell_type": "code",
      "execution_count": 49,
      "metadata": {},
      "outputs": [
        {
          "name": "stdout",
          "output_type": "stream",
          "text": [
            "total training sample images: 10500\n"
          ]
        }
      ],
      "source": [
        "print('total training sample images:', len(os.listdir(train_sample_dir)))"
      ]
    },
    {
      "cell_type": "code",
      "execution_count": 50,
      "metadata": {},
      "outputs": [
        {
          "name": "stdout",
          "output_type": "stream",
          "text": [
            "total validation Ads images: 3650\n"
          ]
        }
      ],
      "source": [
        "print('total validation Ads images:', len(os.listdir(validation_Ads_dir)))"
      ]
    },
    {
      "cell_type": "code",
      "execution_count": 51,
      "metadata": {},
      "outputs": [
        {
          "name": "stdout",
          "output_type": "stream",
          "text": [
            "total validation sample images: 3950\n"
          ]
        }
      ],
      "source": [
        "print('total validation sample images:', len(os.listdir(validation_sample_dir)))"
      ]
    },
    {
      "cell_type": "code",
      "execution_count": 52,
      "metadata": {},
      "outputs": [
        {
          "name": "stdout",
          "output_type": "stream",
          "text": [
            "total test Ads images: 3000\n"
          ]
        }
      ],
      "source": [
        "print('total test Ads images:', len(os.listdir(test_Ads_dir)))"
      ]
    },
    {
      "cell_type": "code",
      "execution_count": 53,
      "metadata": {},
      "outputs": [
        {
          "name": "stdout",
          "output_type": "stream",
          "text": [
            "total test sample images: 3000\n"
          ]
        }
      ],
      "source": [
        "print('total test sample images:', len(os.listdir(test_sample_dir)))"
      ]
    },
    {
      "cell_type": "markdown",
      "metadata": {
        "id": "sdx7xNuy-6Jq"
      },
      "source": [
        "# Model"
      ]
    },
    {
      "cell_type": "code",
      "execution_count": 54,
      "metadata": {
        "id": "onfA1emG-6Jq"
      },
      "outputs": [],
      "source": [
        "from tensorflow.keras.models import Sequential\n",
        "from tensorflow.keras.layers import Conv2D, MaxPooling2D, Dense, Flatten ,Dropout, BatchNormalization\n",
        "from keras.optimizers import SGD, RMSprop, Adam, Adagrad"
      ]
    },
    {
      "cell_type": "code",
      "execution_count": 55,
      "metadata": {
        "id": "I8OLHlUq-6Jq"
      },
      "outputs": [],
      "source": [
        "SEED = 42 # to always get same dropout and shuffle"
      ]
    },
    {
      "cell_type": "code",
      "execution_count": 56,
      "metadata": {
        "id": "YTia6BBB-6Jq"
      },
      "outputs": [],
      "source": [
        "def allcnn(weights=None):\n",
        "    model = Sequential()\n",
        "    model.add(Conv2D(32, (3,3), 1, padding = 'same', activation='relu', input_shape=(224,224,3)))\n",
        "    model.add(MaxPooling2D())\n",
        "    model.add(BatchNormalization())\n",
        "    #model.add(Dropout(0.2, seed=SEED))\n",
        "\n",
        "    model.add(Conv2D(64, (3,3), 1, padding = 'same', activation='relu'))\n",
        "    model.add(MaxPooling2D())\n",
        "    model.add(BatchNormalization())\n",
        "    #model.add(Dropout(0.2, seed=SEED))\n",
        "\n",
        "    model.add(Conv2D(128, (3,3), 1, padding = 'same', activation='relu'))\n",
        "    model.add(MaxPooling2D())\n",
        "    model.add(BatchNormalization())\n",
        "    #model.add(Dropout(0.2, seed=SEED))\n",
        "\n",
        "    model.add(Conv2D(128, (3,3), 1, padding = 'same', activation='relu'))\n",
        "    model.add(MaxPooling2D())\n",
        "    model.add(BatchNormalization())\n",
        "    model.add(Dropout(0.5, seed=SEED))\n",
        "\n",
        "    model.add(Flatten())\n",
        "    model.add(Dense(256, activation='relu'))\n",
        "    model.add(BatchNormalization())\n",
        "    #model.add(Dropout(0.2, seed=SEED))\n",
        "    model.add(Dense(1, activation='sigmoid'))\n",
        "\n",
        "        # load the weights\n",
        "    if weights:\n",
        "        model.load_weights(weights)\n",
        "\n",
        "    # return model\n",
        "    return model"
      ]
    },
    {
      "cell_type": "code",
      "execution_count": 57,
      "metadata": {
        "id": "W6X0p9l8w757"
      },
      "outputs": [],
      "source": [
        "# build model\n",
        "model = allcnn()"
      ]
    },
    {
      "cell_type": "code",
      "execution_count": 58,
      "metadata": {
        "id": "gMUaip3MxLpd"
      },
      "outputs": [],
      "source": [
        "# define hyper parameters\n",
        "learning_rateSGD = 0.01\n",
        "LEARNING_RATE = 0.001\n",
        "weight_decay = 1e-6\n",
        "momentum = 0.9\n",
        "beta1 = 0.9\n",
        "beta2 = 0.999\n",
        "epsilon=1e-07\n",
        "RHO = 0.9"
      ]
    },
    {
      "cell_type": "code",
      "execution_count": 59,
      "metadata": {
        "id": "pVPymyMOxI-G"
      },
      "outputs": [],
      "source": [
        "# sgd = SGD(learning_rate=learning_rateSGD, momentum=momentum, nesterov=True)\n",
        "\n",
        "# rmsprop = RMSprop(learning_rate=LEARNING_RATE, rho=RHO, momentum=momentum, epsilon=epsilon, centered=False)\n",
        "\n",
        "# adam = Adam(learning_rate=LEARNING_RATE, beta_1=beta1, beta_2=beta2, epsilon=epsilon)\n"
      ]
    },
    {
      "cell_type": "code",
      "execution_count": 60,
      "metadata": {
        "id": "s5DzjSZg-6Jr"
      },
      "outputs": [
        {
          "name": "stderr",
          "output_type": "stream",
          "text": [
            "C:\\Users\\YannisPC\\AppData\\Local\\Packages\\PythonSoftwareFoundation.Python.3.9_qbz5n2kfra8p0\\LocalCache\\local-packages\\Python39\\site-packages\\keras\\optimizers\\optimizer_v2\\rmsprop.py:140: UserWarning: The `lr` argument is deprecated, use `learning_rate` instead.\n",
            "  super().__init__(name, **kwargs)\n"
          ]
        }
      ],
      "source": [
        "from keras import optimizers\n",
        "model.compile(optimizer = optimizers.RMSprop(lr=2e-5), loss=tf.losses.BinaryCrossentropy(), metrics=['accuracy']) #optimizer=optimizers.RMSprop(lr=2e-5) 'Adagrad'"
      ]
    },
    {
      "cell_type": "code",
      "execution_count": 61,
      "metadata": {
        "colab": {
          "base_uri": "https://localhost:8080/"
        },
        "id": "OMrb2uqg-6Jr",
        "outputId": "a9dbff47-b428-47e6-d647-930a239d5508"
      },
      "outputs": [
        {
          "name": "stdout",
          "output_type": "stream",
          "text": [
            "Model: \"sequential\"\n",
            "_________________________________________________________________\n",
            " Layer (type)                Output Shape              Param #   \n",
            "=================================================================\n",
            " conv2d (Conv2D)             (None, 224, 224, 32)      896       \n",
            "                                                                 \n",
            " max_pooling2d (MaxPooling2D  (None, 112, 112, 32)     0         \n",
            " )                                                               \n",
            "                                                                 \n",
            " batch_normalization (BatchN  (None, 112, 112, 32)     128       \n",
            " ormalization)                                                   \n",
            "                                                                 \n",
            " conv2d_1 (Conv2D)           (None, 112, 112, 64)      18496     \n",
            "                                                                 \n",
            " max_pooling2d_1 (MaxPooling  (None, 56, 56, 64)       0         \n",
            " 2D)                                                             \n",
            "                                                                 \n",
            " batch_normalization_1 (Batc  (None, 56, 56, 64)       256       \n",
            " hNormalization)                                                 \n",
            "                                                                 \n",
            " conv2d_2 (Conv2D)           (None, 56, 56, 128)       73856     \n",
            "                                                                 \n",
            " max_pooling2d_2 (MaxPooling  (None, 28, 28, 128)      0         \n",
            " 2D)                                                             \n",
            "                                                                 \n",
            " batch_normalization_2 (Batc  (None, 28, 28, 128)      512       \n",
            " hNormalization)                                                 \n",
            "                                                                 \n",
            " conv2d_3 (Conv2D)           (None, 28, 28, 128)       147584    \n",
            "                                                                 \n",
            " max_pooling2d_3 (MaxPooling  (None, 14, 14, 128)      0         \n",
            " 2D)                                                             \n",
            "                                                                 \n",
            " batch_normalization_3 (Batc  (None, 14, 14, 128)      512       \n",
            " hNormalization)                                                 \n",
            "                                                                 \n",
            " dropout (Dropout)           (None, 14, 14, 128)       0         \n",
            "                                                                 \n",
            " flatten (Flatten)           (None, 25088)             0         \n",
            "                                                                 \n",
            " dense (Dense)               (None, 256)               6422784   \n",
            "                                                                 \n",
            " batch_normalization_4 (Batc  (None, 256)              1024      \n",
            " hNormalization)                                                 \n",
            "                                                                 \n",
            " dense_1 (Dense)             (None, 1)                 257       \n",
            "                                                                 \n",
            "=================================================================\n",
            "Total params: 6,666,305\n",
            "Trainable params: 6,665,089\n",
            "Non-trainable params: 1,216\n",
            "_________________________________________________________________\n"
          ]
        }
      ],
      "source": [
        "model.summary()"
      ]
    },
    {
      "cell_type": "markdown",
      "metadata": {},
      "source": [
        "## Data preprocessing"
      ]
    },
    {
      "cell_type": "code",
      "execution_count": 62,
      "metadata": {},
      "outputs": [],
      "source": [
        "from keras.preprocessing.image import ImageDataGenerator\n",
        "\n",
        "# # All images will be rescaled by 1./255\n",
        "# train_datagen = ImageDataGenerator(rescale=1./255)\n",
        "# test_datagen = ImageDataGenerator(rescale=1./255)\n",
        "\n",
        "# train_generator = train_datagen.flow_from_directory(\n",
        "#         # This is the target directory\n",
        "#         train_dir,\n",
        "#         # All images will be resized to 150x150\n",
        "#         target_size=(224, 224),\n",
        "#         batch_size=32,\n",
        "#         # Since we use binary_crossentropy loss, we need binary labels\n",
        "#         class_mode='binary')\n",
        "\n",
        "# validation_generator = test_datagen.flow_from_directory(\n",
        "#         validation_dir,\n",
        "#         target_size=(224, 224),\n",
        "#         batch_size=32,\n",
        "#         class_mode='binary')\n",
        "\n",
        "\n",
        "# batch_size = 32"
      ]
    },
    {
      "cell_type": "code",
      "execution_count": 63,
      "metadata": {},
      "outputs": [],
      "source": [
        "# cnt = 0\n",
        "# for data_batch, labels_batch in train_generator:\n",
        "#     print('data batch shape:', data_batch.shape)\n",
        "#     print('labels batch shape:', labels_batch.shape)\n",
        "#     break"
      ]
    },
    {
      "cell_type": "markdown",
      "metadata": {},
      "source": [
        "## Using data augmentation"
      ]
    },
    {
      "cell_type": "code",
      "execution_count": 64,
      "metadata": {},
      "outputs": [
        {
          "name": "stdout",
          "output_type": "stream",
          "text": [
            "Found 21000 images belonging to 2 classes.\n",
            "Found 7600 images belonging to 2 classes.\n"
          ]
        }
      ],
      "source": [
        "train_datagen = ImageDataGenerator(\n",
        "    rescale=1./255,\n",
        "    rotation_range=40,\n",
        "    width_shift_range=0.2,\n",
        "    height_shift_range=0.2,\n",
        "    shear_range=0.2,\n",
        "    zoom_range=0.2,\n",
        "    horizontal_flip=True)\n",
        "\n",
        "# Note that the validation data should not be augmented!\n",
        "test_datagen = ImageDataGenerator(rescale=1./255)\n",
        "\n",
        "train_generator = train_datagen.flow_from_directory(\n",
        "        # This is the target directory\n",
        "        train_dir,\n",
        "        # All images will be resized to 150x150\n",
        "        target_size=(224, 224),\n",
        "        batch_size=32, #32\n",
        "        # Since we use binary_crossentropy loss, we need binary labels\n",
        "        class_mode='binary')\n",
        "\n",
        "validation_generator = test_datagen.flow_from_directory(\n",
        "        validation_dir,\n",
        "        target_size=(224, 224),\n",
        "        batch_size=32,\n",
        "        class_mode='binary')"
      ]
    },
    {
      "cell_type": "markdown",
      "metadata": {},
      "source": [
        "# Train"
      ]
    },
    {
      "cell_type": "code",
      "execution_count": 65,
      "metadata": {},
      "outputs": [
        {
          "name": "stdout",
          "output_type": "stream",
          "text": [
            "Epochs len:  657\n",
            "Val len:  238\n"
          ]
        }
      ],
      "source": [
        "len(train_generator)\n",
        "len(validation_generator)\n",
        "\n",
        "epochs_len = len(train_generator)\n",
        "Val_len = len(validation_generator)\n",
        "print(\"Epochs len: \", epochs_len)\n",
        "print(\"Val len: \", Val_len)"
      ]
    },
    {
      "cell_type": "code",
      "execution_count": 66,
      "metadata": {},
      "outputs": [],
      "source": [
        "from keras.callbacks import ReduceLROnPlateau\n",
        "reduce_lr = ReduceLROnPlateau(monitor='val_loss', factor=0.2, verbose = 1,\n",
        "                              patience=3, min_lr=0.001)"
      ]
    },
    {
      "cell_type": "code",
      "execution_count": 67,
      "metadata": {
        "colab": {
          "base_uri": "https://localhost:8080/"
        },
        "id": "wWEoMJVo-6Jr",
        "outputId": "627fe3b0-05b9-4f9d-f099-d2f7e2ac3431"
      },
      "outputs": [
        {
          "name": "stdout",
          "output_type": "stream",
          "text": [
            "Epoch 1/60\n",
            "657/657 [==============================] - 186s 276ms/step - loss: 0.5749 - accuracy: 0.7397 - val_loss: 0.4806 - val_accuracy: 0.7987 - lr: 2.0000e-05\n",
            "Epoch 2/60\n",
            "657/657 [==============================] - 149s 227ms/step - loss: 0.4949 - accuracy: 0.7776 - val_loss: 0.4389 - val_accuracy: 0.8142 - lr: 2.0000e-05\n",
            "Epoch 3/60\n",
            "657/657 [==============================] - 149s 226ms/step - loss: 0.4661 - accuracy: 0.7952 - val_loss: 0.4704 - val_accuracy: 0.8161 - lr: 2.0000e-05\n",
            "Epoch 4/60\n",
            "657/657 [==============================] - 147s 223ms/step - loss: 0.4506 - accuracy: 0.8029 - val_loss: 0.4136 - val_accuracy: 0.8271 - lr: 2.0000e-05\n",
            "Epoch 5/60\n",
            "657/657 [==============================] - 148s 226ms/step - loss: 0.4357 - accuracy: 0.8104 - val_loss: 0.4401 - val_accuracy: 0.8212 - lr: 2.0000e-05\n",
            "Epoch 6/60\n",
            "657/657 [==============================] - 146s 223ms/step - loss: 0.4264 - accuracy: 0.8143 - val_loss: 0.4083 - val_accuracy: 0.8289 - lr: 2.0000e-05\n",
            "Epoch 7/60\n",
            "657/657 [==============================] - 145s 221ms/step - loss: 0.4136 - accuracy: 0.8180 - val_loss: 0.4210 - val_accuracy: 0.8291 - lr: 2.0000e-05\n",
            "Epoch 8/60\n",
            "657/657 [==============================] - 149s 226ms/step - loss: 0.4085 - accuracy: 0.8236 - val_loss: 0.4413 - val_accuracy: 0.8238 - lr: 2.0000e-05\n",
            "Epoch 9/60\n",
            "657/657 [==============================] - 147s 223ms/step - loss: 0.4076 - accuracy: 0.8245 - val_loss: 0.4295 - val_accuracy: 0.8257 - lr: 2.0000e-05\n",
            "Epoch 10/60\n",
            "657/657 [==============================] - 146s 222ms/step - loss: 0.3995 - accuracy: 0.8278 - val_loss: 0.4192 - val_accuracy: 0.8218 - lr: 2.0000e-05\n",
            "Epoch 11/60\n",
            "657/657 [==============================] - 147s 224ms/step - loss: 0.3950 - accuracy: 0.8299 - val_loss: 0.4298 - val_accuracy: 0.8261 - lr: 2.0000e-05\n",
            "Epoch 12/60\n",
            "657/657 [==============================] - 146s 223ms/step - loss: 0.3923 - accuracy: 0.8322 - val_loss: 0.3979 - val_accuracy: 0.8318 - lr: 2.0000e-05\n",
            "Epoch 13/60\n",
            "657/657 [==============================] - 149s 226ms/step - loss: 0.3877 - accuracy: 0.8349 - val_loss: 0.3702 - val_accuracy: 0.8454 - lr: 2.0000e-05\n",
            "Epoch 14/60\n",
            "657/657 [==============================] - 146s 222ms/step - loss: 0.3798 - accuracy: 0.8373 - val_loss: 0.3809 - val_accuracy: 0.8409 - lr: 2.0000e-05\n",
            "Epoch 15/60\n",
            "657/657 [==============================] - 146s 222ms/step - loss: 0.3782 - accuracy: 0.8401 - val_loss: 0.3833 - val_accuracy: 0.8441 - lr: 2.0000e-05\n",
            "Epoch 16/60\n",
            "657/657 [==============================] - 148s 225ms/step - loss: 0.3750 - accuracy: 0.8401 - val_loss: 0.3791 - val_accuracy: 0.8392 - lr: 2.0000e-05\n",
            "Epoch 17/60\n",
            "657/657 [==============================] - 146s 223ms/step - loss: 0.3712 - accuracy: 0.8416 - val_loss: 0.4085 - val_accuracy: 0.8338 - lr: 2.0000e-05\n",
            "Epoch 18/60\n",
            "657/657 [==============================] - 145s 221ms/step - loss: 0.3710 - accuracy: 0.8411 - val_loss: 0.4155 - val_accuracy: 0.8282 - lr: 2.0000e-05\n",
            "Epoch 19/60\n",
            "657/657 [==============================] - 146s 222ms/step - loss: 0.3670 - accuracy: 0.8426 - val_loss: 0.3705 - val_accuracy: 0.8508 - lr: 2.0000e-05\n",
            "Epoch 20/60\n",
            "657/657 [==============================] - 146s 223ms/step - loss: 0.3629 - accuracy: 0.8459 - val_loss: 0.3837 - val_accuracy: 0.8386 - lr: 2.0000e-05\n",
            "Epoch 21/60\n",
            "657/657 [==============================] - 148s 225ms/step - loss: 0.3624 - accuracy: 0.8480 - val_loss: 0.3665 - val_accuracy: 0.8526 - lr: 2.0000e-05\n",
            "Epoch 22/60\n",
            "657/657 [==============================] - 146s 221ms/step - loss: 0.3589 - accuracy: 0.8485 - val_loss: 0.3643 - val_accuracy: 0.8463 - lr: 2.0000e-05\n",
            "Epoch 23/60\n",
            "657/657 [==============================] - 147s 224ms/step - loss: 0.3567 - accuracy: 0.8520 - val_loss: 0.3849 - val_accuracy: 0.8386 - lr: 2.0000e-05\n",
            "Epoch 24/60\n",
            "657/657 [==============================] - 148s 225ms/step - loss: 0.3525 - accuracy: 0.8522 - val_loss: 0.3774 - val_accuracy: 0.8507 - lr: 2.0000e-05\n",
            "Epoch 25/60\n",
            "657/657 [==============================] - 148s 225ms/step - loss: 0.3538 - accuracy: 0.8513 - val_loss: 0.3791 - val_accuracy: 0.8421 - lr: 2.0000e-05\n",
            "Epoch 26/60\n",
            "657/657 [==============================] - 146s 222ms/step - loss: 0.3499 - accuracy: 0.8533 - val_loss: 0.3819 - val_accuracy: 0.8463 - lr: 2.0000e-05\n",
            "Epoch 27/60\n",
            "657/657 [==============================] - 146s 223ms/step - loss: 0.3474 - accuracy: 0.8527 - val_loss: 0.3955 - val_accuracy: 0.8399 - lr: 2.0000e-05\n",
            "Epoch 28/60\n",
            "657/657 [==============================] - 147s 223ms/step - loss: 0.3439 - accuracy: 0.8530 - val_loss: 0.3757 - val_accuracy: 0.8507 - lr: 2.0000e-05\n",
            "Epoch 29/60\n",
            "657/657 [==============================] - 148s 226ms/step - loss: 0.3399 - accuracy: 0.8577 - val_loss: 0.3369 - val_accuracy: 0.8597 - lr: 2.0000e-05\n",
            "Epoch 30/60\n",
            "657/657 [==============================] - 147s 224ms/step - loss: 0.3423 - accuracy: 0.8560 - val_loss: 0.3827 - val_accuracy: 0.8511 - lr: 2.0000e-05\n",
            "Epoch 31/60\n",
            "657/657 [==============================] - 145s 220ms/step - loss: 0.3390 - accuracy: 0.8564 - val_loss: 0.3977 - val_accuracy: 0.8343 - lr: 2.0000e-05\n",
            "Epoch 32/60\n",
            "657/657 [==============================] - 149s 227ms/step - loss: 0.3387 - accuracy: 0.8571 - val_loss: 0.3497 - val_accuracy: 0.8586 - lr: 2.0000e-05\n",
            "Epoch 33/60\n",
            "657/657 [==============================] - 147s 224ms/step - loss: 0.3391 - accuracy: 0.8571 - val_loss: 0.3745 - val_accuracy: 0.8541 - lr: 2.0000e-05\n",
            "Epoch 34/60\n",
            "657/657 [==============================] - 146s 222ms/step - loss: 0.3381 - accuracy: 0.8580 - val_loss: 0.3621 - val_accuracy: 0.8497 - lr: 2.0000e-05\n",
            "Epoch 35/60\n",
            "657/657 [==============================] - 146s 222ms/step - loss: 0.3286 - accuracy: 0.8628 - val_loss: 0.3471 - val_accuracy: 0.8632 - lr: 2.0000e-05\n",
            "Epoch 36/60\n",
            "657/657 [==============================] - 147s 224ms/step - loss: 0.3350 - accuracy: 0.8588 - val_loss: 0.3592 - val_accuracy: 0.8609 - lr: 2.0000e-05\n",
            "Epoch 37/60\n",
            "657/657 [==============================] - 148s 226ms/step - loss: 0.3306 - accuracy: 0.8625 - val_loss: 0.3849 - val_accuracy: 0.8474 - lr: 2.0000e-05\n",
            "Epoch 38/60\n",
            "657/657 [==============================] - 146s 223ms/step - loss: 0.3319 - accuracy: 0.8609 - val_loss: 0.3447 - val_accuracy: 0.8639 - lr: 2.0000e-05\n",
            "Epoch 39/60\n",
            "657/657 [==============================] - 146s 222ms/step - loss: 0.3288 - accuracy: 0.8627 - val_loss: 0.4316 - val_accuracy: 0.8361 - lr: 2.0000e-05\n",
            "Epoch 40/60\n",
            "657/657 [==============================] - 148s 225ms/step - loss: 0.3274 - accuracy: 0.8648 - val_loss: 0.3453 - val_accuracy: 0.8600 - lr: 2.0000e-05\n",
            "Epoch 41/60\n",
            "657/657 [==============================] - 147s 223ms/step - loss: 0.3315 - accuracy: 0.8632 - val_loss: 0.3499 - val_accuracy: 0.8580 - lr: 2.0000e-05\n",
            "Epoch 42/60\n",
            "657/657 [==============================] - 145s 221ms/step - loss: 0.3271 - accuracy: 0.8620 - val_loss: 0.3481 - val_accuracy: 0.8624 - lr: 2.0000e-05\n",
            "Epoch 43/60\n",
            "657/657 [==============================] - 146s 223ms/step - loss: 0.3242 - accuracy: 0.8628 - val_loss: 0.3694 - val_accuracy: 0.8466 - lr: 2.0000e-05\n",
            "Epoch 44/60\n",
            "657/657 [==============================] - 146s 222ms/step - loss: 0.3257 - accuracy: 0.8634 - val_loss: 0.3642 - val_accuracy: 0.8522 - lr: 2.0000e-05\n",
            "Epoch 45/60\n",
            "657/657 [==============================] - 148s 225ms/step - loss: 0.3227 - accuracy: 0.8634 - val_loss: 0.3358 - val_accuracy: 0.8628 - lr: 2.0000e-05\n",
            "Epoch 46/60\n",
            "657/657 [==============================] - 146s 222ms/step - loss: 0.3191 - accuracy: 0.8669 - val_loss: 0.3661 - val_accuracy: 0.8609 - lr: 2.0000e-05\n",
            "Epoch 47/60\n",
            "657/657 [==============================] - 145s 221ms/step - loss: 0.3208 - accuracy: 0.8668 - val_loss: 0.3461 - val_accuracy: 0.8607 - lr: 2.0000e-05\n",
            "Epoch 48/60\n",
            "657/657 [==============================] - 148s 226ms/step - loss: 0.3201 - accuracy: 0.8670 - val_loss: 0.3350 - val_accuracy: 0.8689 - lr: 2.0000e-05\n",
            "Epoch 49/60\n",
            "657/657 [==============================] - 149s 227ms/step - loss: 0.3259 - accuracy: 0.8613 - val_loss: 0.3584 - val_accuracy: 0.8624 - lr: 2.0000e-05\n",
            "Epoch 50/60\n",
            "657/657 [==============================] - 146s 221ms/step - loss: 0.3204 - accuracy: 0.8668 - val_loss: 0.3520 - val_accuracy: 0.8612 - lr: 2.0000e-05\n",
            "Epoch 51/60\n",
            "657/657 [==============================] - 148s 226ms/step - loss: 0.3225 - accuracy: 0.8656 - val_loss: 0.3422 - val_accuracy: 0.8667 - lr: 2.0000e-05\n",
            "Epoch 52/60\n",
            "657/657 [==============================] - 146s 222ms/step - loss: 0.3148 - accuracy: 0.8691 - val_loss: 0.3904 - val_accuracy: 0.8487 - lr: 2.0000e-05\n",
            "Epoch 53/60\n",
            "657/657 [==============================] - 152s 231ms/step - loss: 0.3167 - accuracy: 0.8692 - val_loss: 0.3474 - val_accuracy: 0.8651 - lr: 2.0000e-05\n",
            "Epoch 54/60\n",
            "657/657 [==============================] - 146s 222ms/step - loss: 0.3164 - accuracy: 0.8690 - val_loss: 0.3676 - val_accuracy: 0.8553 - lr: 2.0000e-05\n",
            "Epoch 55/60\n",
            "657/657 [==============================] - 147s 223ms/step - loss: 0.3131 - accuracy: 0.8670 - val_loss: 0.3895 - val_accuracy: 0.8516 - lr: 2.0000e-05\n",
            "Epoch 56/60\n",
            "657/657 [==============================] - 152s 231ms/step - loss: 0.3126 - accuracy: 0.8732 - val_loss: 0.3613 - val_accuracy: 0.8584 - lr: 2.0000e-05\n",
            "Epoch 57/60\n",
            "657/657 [==============================] - 152s 231ms/step - loss: 0.3114 - accuracy: 0.8714 - val_loss: 0.3721 - val_accuracy: 0.8534 - lr: 2.0000e-05\n",
            "Epoch 58/60\n",
            "657/657 [==============================] - 153s 232ms/step - loss: 0.3131 - accuracy: 0.8699 - val_loss: 0.3831 - val_accuracy: 0.8545 - lr: 2.0000e-05\n",
            "Epoch 59/60\n",
            "657/657 [==============================] - 155s 236ms/step - loss: 0.3082 - accuracy: 0.8714 - val_loss: 0.3757 - val_accuracy: 0.8524 - lr: 2.0000e-05\n",
            "Epoch 60/60\n",
            "657/657 [==============================] - 152s 231ms/step - loss: 0.3149 - accuracy: 0.8705 - val_loss: 0.4035 - val_accuracy: 0.8463 - lr: 2.0000e-05\n"
          ]
        }
      ],
      "source": [
        "hist = model.fit(    #fit_generator\n",
        "      train_generator,\n",
        "      steps_per_epoch=epochs_len,\n",
        "      epochs=60,\n",
        "      validation_data=validation_generator,\n",
        "      validation_steps=Val_len\n",
        "      ,callbacks=[reduce_lr]) # ,callbacks=[reduce_lr]"
      ]
    },
    {
      "cell_type": "code",
      "execution_count": 68,
      "metadata": {
        "colab": {
          "base_uri": "https://localhost:8080/",
          "height": 35
        },
        "id": "u1vCpK3bxgQ7",
        "outputId": "97f5006d-65cb-416e-9f98-2f79b38d1cd9"
      },
      "outputs": [
        {
          "data": {
            "text/plain": [
              "'c:\\\\Users\\\\YannisPC\\\\PycharmProjects\\\\Thesis\\\\Thesis'"
            ]
          },
          "execution_count": 68,
          "metadata": {},
          "output_type": "execute_result"
        }
      ],
      "source": [
        "Current_dir = os.getcwd()\n",
        "Current_dir"
      ]
    },
    {
      "cell_type": "code",
      "execution_count": null,
      "metadata": {
        "id": "ALkXMlc9-BQ3"
      },
      "outputs": [],
      "source": [
        "model.save(os.path.join('models/Latest','simple_model_with_Aug2.keras'))"
      ]
    },
    {
      "cell_type": "code",
      "execution_count": null,
      "metadata": {
        "colab": {
          "base_uri": "https://localhost:8080/"
        },
        "id": "Q10NVIKd7SUI",
        "outputId": "cd2c89d9-e8d9-47aa-d4db-5d51e658a332"
      },
      "outputs": [
        {
          "name": "stdout",
          "output_type": "stream",
          "text": [
            "Best epoch: 29\n"
          ]
        }
      ],
      "source": [
        "val_acc_per_epoch = hist.history['val_accuracy']\n",
        "best_epoch = val_acc_per_epoch.index(max(val_acc_per_epoch)) + 1\n",
        "print('Best epoch: %d' % (best_epoch,))"
      ]
    },
    {
      "cell_type": "code",
      "execution_count": null,
      "metadata": {
        "colab": {
          "base_uri": "https://localhost:8080/",
          "height": 478
        },
        "id": "sbviG9Ss-6Jr",
        "outputId": "ce1db7d3-c80a-4881-c681-ebdb9b98646d"
      },
      "outputs": [
        {
          "data": {
            "image/png": "[encoded data removed]",
            "text/plain": [
              "<Figure size 640x480 with 1 Axes>"
            ]
          },
          "metadata": {},
          "output_type": "display_data"
        }
      ],
      "source": [
        "fig = plt.figure()\n",
        "plt.plot(hist.history['loss'][1:], color='teal', label='loss')\n",
        "plt.plot(hist.history['val_loss'][1:], color='orange', label='val_loss')\n",
        "fig.suptitle('Loss', fontsize=20)\n",
        "plt.legend(loc=\"upper left\")\n",
        "plt.show()"
      ]
    },
    {
      "cell_type": "code",
      "execution_count": null,
      "metadata": {
        "colab": {
          "base_uri": "https://localhost:8080/",
          "height": 478
        },
        "id": "777uTmYd-6Jr",
        "outputId": "6e8eb727-1a41-4f1f-c33a-87ce88f4062f"
      },
      "outputs": [
        {
          "data": {
            "image/png": "[encoded data removed]",
            "text/plain": [
              "<Figure size 640x480 with 1 Axes>"
            ]
          },
          "metadata": {},
          "output_type": "display_data"
        }
      ],
      "source": [
        "fig = plt.figure()\n",
        "plt.plot(hist.history['accuracy'], color='teal', label='accuracy')\n",
        "plt.plot(hist.history['val_accuracy'], color='orange', label='val_accuracy')\n",
        "fig.suptitle('Accuracy', fontsize=20)\n",
        "plt.legend(loc=\"upper left\")\n",
        "plt.show()"
      ]
    },
    {
      "cell_type": "markdown",
      "metadata": {
        "id": "py8GKoVe-6Jr"
      },
      "source": [
        "# Evaluate"
      ]
    },
    {
      "cell_type": "code",
      "execution_count": null,
      "metadata": {
        "id": "uzNC3YiM-6Jr"
      },
      "outputs": [],
      "source": [
        "\n",
        "from tensorflow.keras.metrics import Precision, Recall, BinaryAccuracy"
      ]
    },
    {
      "cell_type": "code",
      "execution_count": null,
      "metadata": {},
      "outputs": [
        {
          "name": "stdout",
          "output_type": "stream",
          "text": [
            "Found 6000 images belonging to 2 classes.\n"
          ]
        },
        {
          "name": "stderr",
          "output_type": "stream",
          "text": [
            "C:\\Users\\YannisPC\\AppData\\Local\\Temp\\ipykernel_5956\\3034275011.py:7: UserWarning: `Model.evaluate_generator` is deprecated and will be removed in a future version. Please use `Model.evaluate`, which supports generators.\n",
            "  test_loss, test_acc = model.evaluate_generator(test_generator, steps=len(test_generator))  # steps_per_epoch * epochs\n"
          ]
        },
        {
          "name": "stdout",
          "output_type": "stream",
          "text": [
            "test acc: 0.847000002861023\n",
            "test loss: 0.36099785566329956\n"
          ]
        }
      ],
      "source": [
        "test_generator = test_datagen.flow_from_directory(\n",
        "        test_dir,\n",
        "        target_size=(224, 224),\n",
        "        batch_size=32,\n",
        "        class_mode='binary')\n",
        "\n",
        "test_loss, test_acc = model.evaluate(test_generator, steps=len(test_generator))  # steps_per_epoch * epochs\n",
        "print('test acc:', test_acc)\n",
        "print('test loss:', test_loss)"
      ]
    },
    {
      "cell_type": "markdown",
      "metadata": {},
      "source": [
        "Confution Matrix"
      ]
    },
    {
      "cell_type": "code",
      "execution_count": null,
      "metadata": {},
      "outputs": [],
      "source": [
        "from sklearn.metrics import confusion_matrix, ConfusionMatrixDisplay\n",
        "\n",
        "# Initialize lists to collect true labels and predictions\n",
        "true_labels = []\n",
        "predicted_labels = []"
      ]
    },
    {
      "cell_type": "code",
      "execution_count": null,
      "metadata": {},
      "outputs": [
        {
          "name": "stdout",
          "output_type": "stream",
          "text": [
            "1/1 [==============================] - 0s 145ms/step\n",
            "1/1 [==============================] - 0s 26ms/step\n",
            "1/1 [==============================] - 0s 26ms/step\n",
            "1/1 [==============================] - 0s 28ms/step\n",
            "1/1 [==============================] - 0s 26ms/step\n",
            "1/1 [==============================] - 0s 26ms/step\n",
            "1/1 [==============================] - 0s 26ms/step\n",
            "1/1 [==============================] - 0s 25ms/step\n",
            "1/1 [==============================] - 0s 26ms/step\n",
            "1/1 [==============================] - 0s 26ms/step\n",
            "1/1 [==============================] - 0s 26ms/step\n",
            "1/1 [==============================] - 0s 26ms/step\n",
            "1/1 [==============================] - 0s 26ms/step\n",
            "1/1 [==============================] - 0s 26ms/step\n",
            "1/1 [==============================] - 0s 25ms/step\n",
            "1/1 [==============================] - 0s 25ms/step\n",
            "1/1 [==============================] - 0s 25ms/step\n",
            "1/1 [==============================] - 0s 26ms/step\n",
            "1/1 [==============================] - 0s 26ms/step\n",
            "1/1 [==============================] - 0s 26ms/step\n",
            "1/1 [==============================] - 0s 26ms/step\n",
            "1/1 [==============================] - 0s 27ms/step\n",
            "1/1 [==============================] - 0s 26ms/step\n",
            "1/1 [==============================] - 0s 25ms/step\n",
            "1/1 [==============================] - 0s 25ms/step\n",
            "1/1 [==============================] - 0s 24ms/step\n",
            "1/1 [==============================] - 0s 26ms/step\n",
            "1/1 [==============================] - 0s 25ms/step\n",
            "1/1 [==============================] - 0s 27ms/step\n",
            "1/1 [==============================] - 0s 26ms/step\n",
            "1/1 [==============================] - 0s 27ms/step\n",
            "1/1 [==============================] - 0s 25ms/step\n",
            "1/1 [==============================] - 0s 26ms/step\n",
            "1/1 [==============================] - 0s 25ms/step\n",
            "1/1 [==============================] - 0s 24ms/step\n",
            "1/1 [==============================] - 0s 26ms/step\n",
            "1/1 [==============================] - 0s 26ms/step\n",
            "1/1 [==============================] - 0s 26ms/step\n",
            "1/1 [==============================] - 0s 26ms/step\n",
            "1/1 [==============================] - 0s 27ms/step\n",
            "1/1 [==============================] - 0s 26ms/step\n",
            "1/1 [==============================] - 0s 26ms/step\n",
            "1/1 [==============================] - 0s 24ms/step\n",
            "1/1 [==============================] - 0s 24ms/step\n",
            "1/1 [==============================] - 0s 25ms/step\n",
            "1/1 [==============================] - 0s 27ms/step\n",
            "1/1 [==============================] - 0s 27ms/step\n",
            "1/1 [==============================] - 0s 29ms/step\n",
            "1/1 [==============================] - 0s 27ms/step\n",
            "1/1 [==============================] - 0s 32ms/step\n",
            "1/1 [==============================] - 0s 32ms/step\n",
            "1/1 [==============================] - 0s 38ms/step\n",
            "1/1 [==============================] - 0s 32ms/step\n",
            "1/1 [==============================] - 0s 28ms/step\n",
            "1/1 [==============================] - 0s 27ms/step\n",
            "1/1 [==============================] - 0s 26ms/step\n",
            "1/1 [==============================] - 0s 28ms/step\n",
            "1/1 [==============================] - 0s 25ms/step\n",
            "1/1 [==============================] - 0s 26ms/step\n",
            "1/1 [==============================] - 0s 26ms/step\n",
            "1/1 [==============================] - 0s 26ms/step\n",
            "1/1 [==============================] - 0s 27ms/step\n",
            "1/1 [==============================] - 0s 26ms/step\n",
            "1/1 [==============================] - 0s 27ms/step\n",
            "1/1 [==============================] - 0s 29ms/step\n",
            "1/1 [==============================] - 0s 29ms/step\n",
            "1/1 [==============================] - 0s 27ms/step\n",
            "1/1 [==============================] - 0s 28ms/step\n",
            "1/1 [==============================] - 0s 27ms/step\n",
            "1/1 [==============================] - 0s 27ms/step\n",
            "1/1 [==============================] - 0s 27ms/step\n",
            "1/1 [==============================] - 0s 26ms/step\n",
            "1/1 [==============================] - 0s 26ms/step\n",
            "1/1 [==============================] - 0s 26ms/step\n",
            "1/1 [==============================] - 0s 26ms/step\n",
            "1/1 [==============================] - 0s 27ms/step\n",
            "1/1 [==============================] - 0s 25ms/step\n",
            "1/1 [==============================] - 0s 26ms/step\n",
            "1/1 [==============================] - 0s 26ms/step\n",
            "1/1 [==============================] - 0s 25ms/step\n",
            "1/1 [==============================] - 0s 24ms/step\n",
            "1/1 [==============================] - 0s 24ms/step\n",
            "1/1 [==============================] - 0s 24ms/step\n",
            "1/1 [==============================] - 0s 26ms/step\n",
            "1/1 [==============================] - 0s 26ms/step\n",
            "1/1 [==============================] - 0s 26ms/step\n",
            "1/1 [==============================] - 0s 26ms/step\n",
            "1/1 [==============================] - 0s 26ms/step\n",
            "1/1 [==============================] - 0s 26ms/step\n",
            "1/1 [==============================] - 0s 25ms/step\n",
            "1/1 [==============================] - 0s 24ms/step\n",
            "1/1 [==============================] - 0s 24ms/step\n",
            "1/1 [==============================] - 0s 25ms/step\n",
            "1/1 [==============================] - 0s 26ms/step\n",
            "1/1 [==============================] - 0s 26ms/step\n",
            "1/1 [==============================] - 0s 26ms/step\n",
            "1/1 [==============================] - 0s 26ms/step\n",
            "1/1 [==============================] - 0s 26ms/step\n",
            "1/1 [==============================] - 0s 25ms/step\n",
            "1/1 [==============================] - 0s 24ms/step\n",
            "1/1 [==============================] - 0s 25ms/step\n",
            "1/1 [==============================] - 0s 25ms/step\n",
            "1/1 [==============================] - 0s 25ms/step\n",
            "1/1 [==============================] - 0s 26ms/step\n",
            "1/1 [==============================] - 0s 26ms/step\n",
            "1/1 [==============================] - 0s 26ms/step\n",
            "1/1 [==============================] - 0s 26ms/step\n",
            "1/1 [==============================] - 0s 26ms/step\n",
            "1/1 [==============================] - 0s 26ms/step\n",
            "1/1 [==============================] - 0s 23ms/step\n",
            "1/1 [==============================] - 0s 24ms/step\n",
            "1/1 [==============================] - 0s 25ms/step\n",
            "1/1 [==============================] - 0s 26ms/step\n",
            "1/1 [==============================] - 0s 26ms/step\n",
            "1/1 [==============================] - 0s 25ms/step\n",
            "1/1 [==============================] - 0s 26ms/step\n",
            "1/1 [==============================] - 0s 27ms/step\n",
            "1/1 [==============================] - 0s 25ms/step\n",
            "1/1 [==============================] - 0s 25ms/step\n",
            "1/1 [==============================] - 0s 24ms/step\n",
            "1/1 [==============================] - 0s 26ms/step\n",
            "1/1 [==============================] - 0s 25ms/step\n",
            "1/1 [==============================] - 0s 26ms/step\n",
            "1/1 [==============================] - 0s 26ms/step\n",
            "1/1 [==============================] - 0s 26ms/step\n",
            "1/1 [==============================] - 0s 25ms/step\n",
            "1/1 [==============================] - 0s 24ms/step\n",
            "1/1 [==============================] - 0s 24ms/step\n",
            "1/1 [==============================] - 0s 24ms/step\n",
            "1/1 [==============================] - 0s 26ms/step\n",
            "1/1 [==============================] - 0s 25ms/step\n",
            "1/1 [==============================] - 0s 25ms/step\n",
            "1/1 [==============================] - 0s 26ms/step\n",
            "1/1 [==============================] - 0s 26ms/step\n",
            "1/1 [==============================] - 0s 24ms/step\n",
            "1/1 [==============================] - 0s 24ms/step\n",
            "1/1 [==============================] - 0s 24ms/step\n",
            "1/1 [==============================] - 0s 26ms/step\n",
            "1/1 [==============================] - 0s 25ms/step\n",
            "1/1 [==============================] - 0s 26ms/step\n",
            "1/1 [==============================] - 0s 26ms/step\n",
            "1/1 [==============================] - 0s 27ms/step\n",
            "1/1 [==============================] - 0s 26ms/step\n",
            "1/1 [==============================] - 0s 25ms/step\n",
            "1/1 [==============================] - 0s 24ms/step\n",
            "1/1 [==============================] - 0s 24ms/step\n",
            "1/1 [==============================] - 0s 25ms/step\n",
            "1/1 [==============================] - 0s 25ms/step\n",
            "1/1 [==============================] - 0s 26ms/step\n",
            "1/1 [==============================] - 0s 26ms/step\n",
            "1/1 [==============================] - 0s 26ms/step\n",
            "1/1 [==============================] - 0s 26ms/step\n",
            "1/1 [==============================] - 0s 24ms/step\n",
            "1/1 [==============================] - 0s 24ms/step\n",
            "1/1 [==============================] - 0s 24ms/step\n",
            "1/1 [==============================] - 0s 25ms/step\n",
            "1/1 [==============================] - 0s 26ms/step\n",
            "1/1 [==============================] - 0s 26ms/step\n",
            "1/1 [==============================] - 0s 26ms/step\n",
            "1/1 [==============================] - 0s 26ms/step\n",
            "1/1 [==============================] - 0s 25ms/step\n",
            "1/1 [==============================] - 0s 26ms/step\n",
            "1/1 [==============================] - 0s 25ms/step\n",
            "1/1 [==============================] - 0s 25ms/step\n",
            "1/1 [==============================] - 0s 25ms/step\n",
            "1/1 [==============================] - 0s 26ms/step\n",
            "1/1 [==============================] - 0s 26ms/step\n",
            "1/1 [==============================] - 0s 26ms/step\n",
            "1/1 [==============================] - 0s 26ms/step\n",
            "1/1 [==============================] - 0s 24ms/step\n",
            "1/1 [==============================] - 0s 25ms/step\n",
            "1/1 [==============================] - 0s 26ms/step\n",
            "1/1 [==============================] - 0s 26ms/step\n",
            "1/1 [==============================] - 0s 25ms/step\n",
            "1/1 [==============================] - 0s 25ms/step\n",
            "1/1 [==============================] - 0s 26ms/step\n",
            "1/1 [==============================] - 0s 25ms/step\n",
            "1/1 [==============================] - 0s 24ms/step\n",
            "1/1 [==============================] - 0s 26ms/step\n",
            "1/1 [==============================] - 0s 27ms/step\n",
            "1/1 [==============================] - 0s 26ms/step\n",
            "1/1 [==============================] - 0s 25ms/step\n",
            "1/1 [==============================] - 0s 26ms/step\n",
            "1/1 [==============================] - 0s 26ms/step\n",
            "1/1 [==============================] - 0s 26ms/step\n",
            "1/1 [==============================] - 0s 25ms/step\n",
            "1/1 [==============================] - 0s 25ms/step\n",
            "1/1 [==============================] - 0s 107ms/step\n"
          ]
        }
      ],
      "source": [
        "for _ in range(len(test_generator)):\n",
        "    X, y = next(test_generator)\n",
        "\n",
        "    yhat = model.predict(X)\n",
        "    \n",
        "    y_true_batch = y # Labels\n",
        "    \n",
        "    # Convert probabilities to class labels using a threshold of 0.5\n",
        "    y_pred_batch = (yhat > 0.5).astype(int)\n",
        "\n",
        "    # Append the true labels and predictions for this batch to the lists\n",
        "    true_labels.extend(y_true_batch)\n",
        "    predicted_labels.extend(y_pred_batch)\n",
        "\n",
        "    if len(true_labels) >= test_generator.n:\n",
        "        break\n",
        "\n",
        "\n",
        "    "
      ]
    },
    {
      "cell_type": "code",
      "execution_count": null,
      "metadata": {},
      "outputs": [],
      "source": [
        "#print(true_labels)\n",
        "#print(predicted_labels)\n",
        "\n",
        "    #print(y)"
      ]
    },
    {
      "cell_type": "code",
      "execution_count": null,
      "metadata": {},
      "outputs": [],
      "source": [
        "# Convert lists to numpy arrays\n",
        "true_labels = np.array(true_labels)\n",
        "predicted_labels = np.array(predicted_labels)"
      ]
    },
    {
      "cell_type": "code",
      "execution_count": null,
      "metadata": {},
      "outputs": [],
      "source": [
        "# Compute the confusion matrix\n",
        "cm = confusion_matrix(true_labels, predicted_labels)"
      ]
    },
    {
      "cell_type": "markdown",
      "metadata": {},
      "source": [
        "Ads = 0 \n",
        "\n",
        "Sample= 1"
      ]
    },
    {
      "cell_type": "code",
      "execution_count": null,
      "metadata": {},
      "outputs": [
        {
          "data": {
            "image/png": "[encoded data removed]",
            "text/plain": [
              "<Figure size 640x480 with 2 Axes>"
            ]
          },
          "metadata": {},
          "output_type": "display_data"
        }
      ],
      "source": [
        "# Plot the confusion matrix\n",
        "disp = ConfusionMatrixDisplay(confusion_matrix=cm, display_labels=['Class 0', 'Class 1'])\n",
        "disp.plot(cmap=plt.cm.Blues)\n",
        "plt.show()"
      ]
    }
  ],
  "metadata": {
    "accelerator": "GPU",
    "colab": {
      "gpuType": "L4",
      "include_colab_link": true,
      "machine_shape": "hm",
      "provenance": []
    },
    "kernelspec": {
      "display_name": "Python 3",
      "name": "python3"
    },
    "language_info": {
      "codemirror_mode": {
        "name": "ipython",
        "version": 3
      },
      "file_extension": ".py",
      "mimetype": "text/x-python",
      "name": "python",
      "nbconvert_exporter": "python",
      "pygments_lexer": "ipython3",
      "version": "3.9.13"
    }
  },
  "nbformat": 4,
  "nbformat_minor": 0
}
