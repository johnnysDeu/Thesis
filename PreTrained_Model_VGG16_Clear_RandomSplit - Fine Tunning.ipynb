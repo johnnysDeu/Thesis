{
  "cells": [
    {
      "cell_type": "markdown",
      "metadata": {
        "colab_type": "text",
        "id": "view-in-github"
      },
      "source": [
        "<a href=\"https://colab.research.google.com/github/johnnysDeu/Thesis/blob/main/PreTrained_Model.ipynb\" target=\"_parent\"><img src=\"https://colab.research.google.com/assets/colab-badge.svg\" alt=\"Open In Colab\"/></a>"
      ]
    },
    {
      "cell_type": "markdown",
      "metadata": {
        "id": "Nf97B3mB-6Ji"
      },
      "source": [
        "https://www.youtube.com/watch?v=jztwpsIzEGc\n",
        "\n",
        "Building a CNN from scratch with any image dataset"
      ]
    },
    {
      "cell_type": "markdown",
      "metadata": {
        "id": "Zuaha7JK-6Jj"
      },
      "source": [
        "!pip install tensorflow tensorflow-gpu opencv-python matplotlib"
      ]
    },
    {
      "cell_type": "code",
      "execution_count": 1,
      "metadata": {
        "id": "9F-3tLoS-6Jk"
      },
      "outputs": [],
      "source": [
        "#!pip install \"tensorflow<2.11\""
      ]
    },
    {
      "cell_type": "code",
      "execution_count": 2,
      "metadata": {
        "id": "0Q0sXDdr-6Jk"
      },
      "outputs": [],
      "source": [
        "#!pip install tensorflow tensorflow-gpu opencv-python matplotlib"
      ]
    },
    {
      "cell_type": "code",
      "execution_count": 3,
      "metadata": {
        "id": "ze2HI0C1-6Jk"
      },
      "outputs": [],
      "source": [
        "#!pip install torchvision"
      ]
    },
    {
      "cell_type": "code",
      "execution_count": 4,
      "metadata": {
        "id": "eHaZm8sS-6Jk"
      },
      "outputs": [],
      "source": [
        "\n",
        "#!pip list\n",
        "import torch"
      ]
    },
    {
      "cell_type": "code",
      "execution_count": 5,
      "metadata": {
        "id": "VTJsjK8k-6Jl"
      },
      "outputs": [],
      "source": [
        "#!nvidia-smi"
      ]
    },
    {
      "cell_type": "code",
      "execution_count": 6,
      "metadata": {
        "id": "Pc4Ak-MX-6Jl"
      },
      "outputs": [],
      "source": [
        "#!pip install torch==1.10.1+cu113 torchvision==0.11.2+cu113 torchaudio===0.10.1+cu113 -f https://download.pytorch.org/whl/cu113/torch_stable.html"
      ]
    },
    {
      "cell_type": "code",
      "execution_count": 7,
      "metadata": {
        "id": "9qmltHoh-6Jl"
      },
      "outputs": [],
      "source": [
        "# add headings with ##(space) on the markdowns"
      ]
    },
    {
      "cell_type": "code",
      "execution_count": 8,
      "metadata": {
        "id": "Oefqb7pK-6Jl"
      },
      "outputs": [],
      "source": [
        "#!pip install tensorflor keras"
      ]
    },
    {
      "cell_type": "code",
      "execution_count": 9,
      "metadata": {
        "id": "9_5zqcvh-6Jl"
      },
      "outputs": [],
      "source": [
        "import tensorflow as tf\n",
        "import os"
      ]
    },
    {
      "cell_type": "code",
      "execution_count": 10,
      "metadata": {
        "colab": {
          "base_uri": "https://localhost:8080/"
        },
        "id": "pp9-KNO_XLJk",
        "outputId": "6744d109-58a8-4e55-860f-55eb54942aa4"
      },
      "outputs": [
        {
          "name": "stdout",
          "output_type": "stream",
          "text": [
            "Fri May 31 20:17:13 2024       \n",
            "+---------------------------------------------------------------------------------------+\n",
            "| NVIDIA-SMI 536.67                 Driver Version: 536.67       CUDA Version: 12.2     |\n",
            "|-----------------------------------------+----------------------+----------------------+\n",
            "| GPU  Name                     TCC/WDDM  | Bus-Id        Disp.A | Volatile Uncorr. ECC |\n",
            "| Fan  Temp   Perf          Pwr:Usage/Cap |         Memory-Usage | GPU-Util  Compute M. |\n",
            "|                                         |                      |               MIG M. |\n",
            "|=========================================+======================+======================|\n",
            "|   0  NVIDIA GeForce GTX 1660 ...  WDDM  | 00000000:2D:00.0  On |                  N/A |\n",
            "| 52%   46C    P0              40W / 125W |    816MiB /  6144MiB |      0%      Default |\n",
            "|                                         |                      |                  N/A |\n",
            "+-----------------------------------------+----------------------+----------------------+\n",
            "                                                                                         \n",
            "+---------------------------------------------------------------------------------------+\n",
            "| Processes:                                                                            |\n",
            "|  GPU   GI   CI        PID   Type   Process name                            GPU Memory |\n",
            "|        ID   ID                                                             Usage      |\n",
            "|=======================================================================================|\n",
            "|    0   N/A  N/A      1540    C+G   ...t.LockApp_cw5n1h2txyewy\\LockApp.exe    N/A      |\n",
            "|    0   N/A  N/A      3732    C+G   ...on\\125.0.2535.67\\msedgewebview2.exe    N/A      |\n",
            "|    0   N/A  N/A      4420    C+G   ...am Files\\CyberGhost 8\\Dashboard.exe    N/A      |\n",
            "|    0   N/A  N/A      4608    C+G   ...on\\125.0.2535.67\\msedgewebview2.exe    N/A      |\n",
            "|    0   N/A  N/A      9888    C+G   ...64__8wekyb3d8bbwe\\CalculatorApp.exe    N/A      |\n",
            "|    0   N/A  N/A     10032    C+G   ...les\\Microsoft OneDrive\\OneDrive.exe    N/A      |\n",
            "|    0   N/A  N/A     11636    C+G   ...crosoft\\Edge\\Application\\msedge.exe    N/A      |\n",
            "|    0   N/A  N/A     14004    C+G   ...GeForce Experience\\NVIDIA Share.exe    N/A      |\n",
            "|    0   N/A  N/A     14204    C+G   ...e Stream\\91.0.2.0\\GoogleDriveFS.exe    N/A      |\n",
            "|    0   N/A  N/A     15156    C+G   ...5n1h2txyewy\\ShellExperienceHost.exe    N/A      |\n",
            "|    0   N/A  N/A     16456    C+G   ....Search_cw5n1h2txyewy\\SearchApp.exe    N/A      |\n",
            "|    0   N/A  N/A     17352    C+G   ...Programs\\Microsoft VS Code\\Code.exe    N/A      |\n",
            "|    0   N/A  N/A     17784    C+G   ...soft Office\\root\\Office16\\EXCEL.EXE    N/A      |\n",
            "|    0   N/A  N/A     19692    C+G   ...1.0_x64__8wekyb3d8bbwe\\Video.UI.exe    N/A      |\n",
            "|    0   N/A  N/A     19884    C+G   C:\\Windows\\explorer.exe                   N/A      |\n",
            "|    0   N/A  N/A     20368    C+G   ...CBS_cw5n1h2txyewy\\TextInputHost.exe    N/A      |\n",
            "|    0   N/A  N/A     22144    C+G   ...ekyb3d8bbwe\\PhoneExperienceHost.exe    N/A      |\n",
            "|    0   N/A  N/A     22152    C+G   ....Search_cw5n1h2txyewy\\SearchApp.exe    N/A      |\n",
            "|    0   N/A  N/A     22984    C+G   ...2txyewy\\StartMenuExperienceHost.exe    N/A      |\n",
            "+---------------------------------------------------------------------------------------+\n"
          ]
        }
      ],
      "source": [
        "!nvidia-smi"
      ]
    },
    {
      "cell_type": "code",
      "execution_count": 11,
      "metadata": {
        "colab": {
          "base_uri": "https://localhost:8080/"
        },
        "id": "qkjlmr5C-6Jl",
        "outputId": "ee4947bd-e593-4a95-d056-cd5c5a96edb2"
      },
      "outputs": [
        {
          "data": {
            "text/plain": [
              "[PhysicalDevice(name='/physical_device:GPU:0', device_type='GPU')]"
            ]
          },
          "execution_count": 11,
          "metadata": {},
          "output_type": "execute_result"
        }
      ],
      "source": [
        "gpus = tf.config.experimental.list_physical_devices('GPU')\n",
        "gpus"
      ]
    },
    {
      "cell_type": "code",
      "execution_count": 12,
      "metadata": {
        "colab": {
          "base_uri": "https://localhost:8080/"
        },
        "id": "Ig6dym2M-6Jm",
        "outputId": "9fc23f8a-8818-4670-8a29-5ad344823bf3"
      },
      "outputs": [
        {
          "name": "stdout",
          "output_type": "stream",
          "text": [
            "Num GPUs Available:  1\n"
          ]
        }
      ],
      "source": [
        "print(\"Num GPUs Available: \", len(tf.config.list_physical_devices('GPU')))"
      ]
    },
    {
      "cell_type": "code",
      "execution_count": 13,
      "metadata": {
        "id": "3w44-mIA-6Jm"
      },
      "outputs": [],
      "source": [
        "#! nvidia-smi"
      ]
    },
    {
      "cell_type": "code",
      "execution_count": 14,
      "metadata": {
        "id": "TuXlkzYf-6Jm"
      },
      "outputs": [],
      "source": [
        "#!pip install opencv-python"
      ]
    },
    {
      "cell_type": "markdown",
      "metadata": {
        "id": "-3sJDXlu-6Jm"
      },
      "source": [
        "## Imports"
      ]
    },
    {
      "cell_type": "code",
      "execution_count": 15,
      "metadata": {
        "id": "-2RGi19W-6Jm"
      },
      "outputs": [],
      "source": [
        "import tensorflow as tf\n",
        "import os\n",
        "import cv2\n",
        "import imghdr"
      ]
    },
    {
      "cell_type": "code",
      "execution_count": 16,
      "metadata": {
        "colab": {
          "base_uri": "https://localhost:8080/"
        },
        "id": "hYaa5Q6wlz2U",
        "outputId": "6d877a84-c172-43f1-8221-8f4f91d3adb8"
      },
      "outputs": [],
      "source": [
        "#from google.colab import drive\n",
        "#drive.mount('/content/drive')"
      ]
    },
    {
      "cell_type": "code",
      "execution_count": 17,
      "metadata": {
        "id": "NqDqKYkQ-6Jm"
      },
      "outputs": [],
      "source": [
        "import numpy as np\n",
        "from matplotlib import pyplot as plt"
      ]
    },
    {
      "cell_type": "markdown",
      "metadata": {
        "id": "Ps6t8B9L-6Jn"
      },
      "source": [
        "# Load Data"
      ]
    },
    {
      "cell_type": "code",
      "execution_count": 18,
      "metadata": {
        "id": "aeKoMZqj-6Jn"
      },
      "outputs": [],
      "source": [
        "#tf.data.Dataset??"
      ]
    },
    {
      "cell_type": "code",
      "execution_count": 19,
      "metadata": {
        "id": "eLfpsxW9-6Jn"
      },
      "outputs": [],
      "source": [
        "#tf.keras.utils.audio_dataset_from_directory??"
      ]
    },
    {
      "cell_type": "code",
      "execution_count": 20,
      "metadata": {},
      "outputs": [],
      "source": [
        "base_dir = r\"C:\\Users\\YannisPC\\PycharmProjects\\Thesis\\Thesis\\READY_BALANCED_SAME_SIZE_Random_Split\""
      ]
    },
    {
      "cell_type": "code",
      "execution_count": 21,
      "metadata": {
        "colab": {
          "base_uri": "https://localhost:8080/"
        },
        "id": "EDUxCNky-6Jn",
        "outputId": "14c20a4d-64cd-4421-8de3-ec12eb9dda14"
      },
      "outputs": [
        {
          "name": "stdout",
          "output_type": "stream",
          "text": [
            "Found 34600 files belonging to 3 classes.\n"
          ]
        }
      ],
      "source": [
        "data=tf.keras.utils.image_dataset_from_directory('READY_BALANCED_SAME_SIZE_Random_Split', batch_size=32, image_size=(224,224))"
      ]
    },
    {
      "cell_type": "markdown",
      "metadata": {
        "id": "uJ0UVyCQ-6Jq"
      },
      "source": [
        "# Split Data"
      ]
    },
    {
      "cell_type": "code",
      "execution_count": 22,
      "metadata": {
        "colab": {
          "base_uri": "https://localhost:8080/"
        },
        "id": "knV1jDUD-6Jq",
        "outputId": "50f1446d-6355-4acd-f509-c5440328e53e"
      },
      "outputs": [],
      "source": [
        "train_dir = os.path.join(base_dir, 'train')\n",
        "validation_dir = os.path.join(base_dir, 'validation')\n",
        "test_dir = os.path.join(base_dir, 'test')"
      ]
    },
    {
      "cell_type": "code",
      "execution_count": 23,
      "metadata": {
        "id": "Hf-N_1PI-6Jq"
      },
      "outputs": [
        {
          "data": {
            "text/plain": [
              "'C:\\\\Users\\\\YannisPC\\\\PycharmProjects\\\\Thesis\\\\Thesis\\\\READY_BALANCED_SAME_SIZE_Random_Split\\\\train\\\\Sample'"
            ]
          },
          "execution_count": 23,
          "metadata": {},
          "output_type": "execute_result"
        }
      ],
      "source": [
        "train_Ads_dir = os.path.join(train_dir, 'Ads')\n",
        "train_sample_dir = os.path.join(train_dir, 'Sample')\n",
        "train_sample_dir"
      ]
    },
    {
      "cell_type": "code",
      "execution_count": 24,
      "metadata": {
        "colab": {
          "base_uri": "https://localhost:8080/"
        },
        "id": "RR4lk-PK-6Jq",
        "outputId": "d9fbbdec-e425-4bd2-af75-32f3fbb86936"
      },
      "outputs": [
        {
          "data": {
            "text/plain": [
              "'C:\\\\Users\\\\YannisPC\\\\PycharmProjects\\\\Thesis\\\\Thesis\\\\READY_BALANCED_SAME_SIZE_Random_Split\\\\validation\\\\Ads'"
            ]
          },
          "execution_count": 24,
          "metadata": {},
          "output_type": "execute_result"
        }
      ],
      "source": [
        "validation_Ads_dir = os.path.join(validation_dir, 'Ads')\n",
        "validation_sample_dir = os.path.join(validation_dir, 'Sample')\n",
        "validation_Ads_dir\n"
      ]
    },
    {
      "cell_type": "code",
      "execution_count": 25,
      "metadata": {
        "id": "JwHehlf4-6Jq"
      },
      "outputs": [
        {
          "data": {
            "text/plain": [
              "'C:\\\\Users\\\\YannisPC\\\\PycharmProjects\\\\Thesis\\\\Thesis\\\\READY_BALANCED_SAME_SIZE_Random_Split\\\\test\\\\Ads'"
            ]
          },
          "execution_count": 25,
          "metadata": {},
          "output_type": "execute_result"
        }
      ],
      "source": [
        "test_Ads_dir = os.path.join(test_dir, 'Ads')\n",
        "test_sample_dir = os.path.join(test_dir, 'Sample')\n",
        "test_Ads_dir"
      ]
    },
    {
      "cell_type": "code",
      "execution_count": 26,
      "metadata": {
        "id": "fbi_AoAO-6Jq"
      },
      "outputs": [
        {
          "name": "stdout",
          "output_type": "stream",
          "text": [
            "total training Ads images: 10500\n"
          ]
        }
      ],
      "source": [
        "print('total training Ads images:', len(os.listdir(train_Ads_dir)))"
      ]
    },
    {
      "cell_type": "code",
      "execution_count": 27,
      "metadata": {
        "id": "h4bgQrIL-6Jq"
      },
      "outputs": [
        {
          "name": "stdout",
          "output_type": "stream",
          "text": [
            "total training sample images: 10500\n"
          ]
        }
      ],
      "source": [
        "print('total training sample images:', len(os.listdir(train_sample_dir)))"
      ]
    },
    {
      "cell_type": "code",
      "execution_count": 28,
      "metadata": {
        "colab": {
          "base_uri": "https://localhost:8080/"
        },
        "id": "X_YHrO9Y-6Jq",
        "outputId": "15bf628d-bf34-4ce7-ad11-fe568bf61432"
      },
      "outputs": [
        {
          "name": "stdout",
          "output_type": "stream",
          "text": [
            "total validation Ads images: 3650\n"
          ]
        }
      ],
      "source": [
        "print('total validation Ads images:', len(os.listdir(validation_Ads_dir)))"
      ]
    },
    {
      "cell_type": "code",
      "execution_count": 29,
      "metadata": {},
      "outputs": [
        {
          "name": "stdout",
          "output_type": "stream",
          "text": [
            "total validation sample images: 3950\n"
          ]
        }
      ],
      "source": [
        "print('total validation sample images:', len(os.listdir(validation_sample_dir)))"
      ]
    },
    {
      "cell_type": "code",
      "execution_count": 30,
      "metadata": {},
      "outputs": [
        {
          "name": "stdout",
          "output_type": "stream",
          "text": [
            "total test Ads images: 3000\n"
          ]
        }
      ],
      "source": [
        "print('total test Ads images:', len(os.listdir(test_Ads_dir)))"
      ]
    },
    {
      "cell_type": "code",
      "execution_count": 31,
      "metadata": {},
      "outputs": [
        {
          "name": "stdout",
          "output_type": "stream",
          "text": [
            "total test sample images: 3000\n"
          ]
        }
      ],
      "source": [
        "print('total test sample images:', len(os.listdir(test_sample_dir)))"
      ]
    },
    {
      "cell_type": "markdown",
      "metadata": {},
      "source": [
        "# Data Preprocesing- Augmentation"
      ]
    },
    {
      "cell_type": "code",
      "execution_count": 32,
      "metadata": {},
      "outputs": [
        {
          "name": "stdout",
          "output_type": "stream",
          "text": [
            "Found 21000 images belonging to 2 classes.\n",
            "Found 7600 images belonging to 2 classes.\n"
          ]
        }
      ],
      "source": [
        "from keras.preprocessing.image import ImageDataGenerator\n",
        "\n",
        "# with Augmentation\n",
        "train_datagen = ImageDataGenerator(\n",
        "    rescale=1./255,\n",
        "    rotation_range=40,\n",
        "    width_shift_range=0.2,\n",
        "    height_shift_range=0.2,\n",
        "    shear_range=0.2,\n",
        "    zoom_range=0.2,\n",
        "    horizontal_flip=True,\n",
        "    fill_mode='nearest')\n",
        "\n",
        "# # NO Augmentation\n",
        "# train_datagen = ImageDataGenerator(\n",
        "#     rescale=1./255,\n",
        "#     #rotation_range=40,\n",
        "#     #width_shift_range=0.2,\n",
        "#     #height_shift_range=0.2,\n",
        "#     #shear_range=0.2,\n",
        "#     #zoom_range=0.2,\n",
        "#     #horizontal_flip=True\n",
        "#     )\n",
        "\n",
        "\n",
        "# Note that the validation data should not be augmented!\n",
        "test_datagen = ImageDataGenerator(rescale=1./255)\n",
        "\n",
        "train_generator = train_datagen.flow_from_directory(\n",
        "        # This is the target directory\n",
        "        train_dir,\n",
        "        # All images will be resized to 150x150\n",
        "        #target_size=(224, 224),\n",
        "        target_size=(200, 200),\n",
        "        batch_size=64, #32\n",
        "        # Since we use binary_crossentropy loss, we need binary labels\n",
        "        class_mode='binary')\n",
        "\n",
        "validation_generator = test_datagen.flow_from_directory(\n",
        "        validation_dir,\n",
        "        #target_size=(224, 224),\n",
        "        target_size=(200, 200),\n",
        "        batch_size=64,\n",
        "        class_mode='binary')"
      ]
    },
    {
      "cell_type": "markdown",
      "metadata": {},
      "source": [
        "## Pretrained Model VGG16"
      ]
    },
    {
      "cell_type": "code",
      "execution_count": 33,
      "metadata": {
        "id": "l38QgkUe-6Js"
      },
      "outputs": [],
      "source": [
        "import keras\n",
        "from keras.models import load_model\n"
      ]
    },
    {
      "cell_type": "markdown",
      "metadata": {
        "id": "w4AL2-e8-6Js"
      },
      "source": [
        "# Appling a Pre-trained CNN on our Dataset for comparison"
      ]
    },
    {
      "cell_type": "markdown",
      "metadata": {
        "id": "2wcDjEV1-6Jt"
      },
      "source": [
        "The VGG16 model"
      ]
    },
    {
      "cell_type": "code",
      "execution_count": 34,
      "metadata": {
        "id": "OcyKdKno-6Jt"
      },
      "outputs": [],
      "source": [
        "from keras.applications import VGG16\n",
        "\n",
        "conv_base = VGG16(weights='imagenet',\n",
        "                 include_top=False,\n",
        "                 input_shape=(200, 200, 3))# input_shape=(224, 224, 3)"
      ]
    },
    {
      "cell_type": "code",
      "execution_count": 35,
      "metadata": {
        "colab": {
          "base_uri": "https://localhost:8080/"
        },
        "id": "lRiAZIlI-6Jt",
        "outputId": "9254a8c6-9f28-4ea9-9b11-6553544bb4c5"
      },
      "outputs": [
        {
          "name": "stdout",
          "output_type": "stream",
          "text": [
            "Model: \"vgg16\"\n",
            "_________________________________________________________________\n",
            " Layer (type)                Output Shape              Param #   \n",
            "=================================================================\n",
            " input_1 (InputLayer)        [(None, 200, 200, 3)]     0         \n",
            "                                                                 \n",
            " block1_conv1 (Conv2D)       (None, 200, 200, 64)      1792      \n",
            "                                                                 \n",
            " block1_conv2 (Conv2D)       (None, 200, 200, 64)      36928     \n",
            "                                                                 \n",
            " block1_pool (MaxPooling2D)  (None, 100, 100, 64)      0         \n",
            "                                                                 \n",
            " block2_conv1 (Conv2D)       (None, 100, 100, 128)     73856     \n",
            "                                                                 \n",
            " block2_conv2 (Conv2D)       (None, 100, 100, 128)     147584    \n",
            "                                                                 \n",
            " block2_pool (MaxPooling2D)  (None, 50, 50, 128)       0         \n",
            "                                                                 \n",
            " block3_conv1 (Conv2D)       (None, 50, 50, 256)       295168    \n",
            "                                                                 \n",
            " block3_conv2 (Conv2D)       (None, 50, 50, 256)       590080    \n",
            "                                                                 \n",
            " block3_conv3 (Conv2D)       (None, 50, 50, 256)       590080    \n",
            "                                                                 \n",
            " block3_pool (MaxPooling2D)  (None, 25, 25, 256)       0         \n",
            "                                                                 \n",
            " block4_conv1 (Conv2D)       (None, 25, 25, 512)       1180160   \n",
            "                                                                 \n",
            " block4_conv2 (Conv2D)       (None, 25, 25, 512)       2359808   \n",
            "                                                                 \n",
            " block4_conv3 (Conv2D)       (None, 25, 25, 512)       2359808   \n",
            "                                                                 \n",
            " block4_pool (MaxPooling2D)  (None, 12, 12, 512)       0         \n",
            "                                                                 \n",
            " block5_conv1 (Conv2D)       (None, 12, 12, 512)       2359808   \n",
            "                                                                 \n",
            " block5_conv2 (Conv2D)       (None, 12, 12, 512)       2359808   \n",
            "                                                                 \n",
            " block5_conv3 (Conv2D)       (None, 12, 12, 512)       2359808   \n",
            "                                                                 \n",
            " block5_pool (MaxPooling2D)  (None, 6, 6, 512)         0         \n",
            "                                                                 \n",
            "=================================================================\n",
            "Total params: 14,714,688\n",
            "Trainable params: 14,714,688\n",
            "Non-trainable params: 0\n",
            "_________________________________________________________________\n"
          ]
        }
      ],
      "source": [
        "conv_base.summary()\n"
      ]
    },
    {
      "cell_type": "code",
      "execution_count": 36,
      "metadata": {},
      "outputs": [],
      "source": [
        "class TrainingConfig:\n",
        "    BATCH_SIZE:       int   = 32\n",
        "    EPOCHS:           int   = 101\n",
        "    LEARNING_RATE:    float = 0.0001\n",
        "    DROPOUT:          float = 0.5\n",
        "    LAYERS_FINE_TUNE: int   = 8    "
      ]
    },
    {
      "cell_type": "code",
      "execution_count": 37,
      "metadata": {},
      "outputs": [],
      "source": [
        "# Specify the number of layers to fine tune at the end of the convolutional base.\n",
        "num_layers_fine_tune = TrainingConfig.LAYERS_FINE_TUNE\n",
        "num_layers = len(conv_base.layers)"
      ]
    },
    {
      "cell_type": "code",
      "execution_count": 38,
      "metadata": {},
      "outputs": [
        {
          "data": {
            "text/plain": [
              "19"
            ]
          },
          "execution_count": 38,
          "metadata": {},
          "output_type": "execute_result"
        }
      ],
      "source": [
        "num_layers"
      ]
    },
    {
      "cell_type": "code",
      "execution_count": 39,
      "metadata": {},
      "outputs": [
        {
          "name": "stdout",
          "output_type": "stream",
          "text": [
            "FREEZING LAYER: <keras.engine.input_layer.InputLayer object at 0x000001B0E7B3FF10>\n",
            "FREEZING LAYER: <keras.layers.convolutional.conv2d.Conv2D object at 0x000001B0E7B6F190>\n",
            "FREEZING LAYER: <keras.layers.convolutional.conv2d.Conv2D object at 0x000001B092E9C160>\n",
            "FREEZING LAYER: <keras.layers.pooling.max_pooling2d.MaxPooling2D object at 0x000001B0E7B63C10>\n",
            "FREEZING LAYER: <keras.layers.convolutional.conv2d.Conv2D object at 0x000001B092E9C910>\n",
            "FREEZING LAYER: <keras.layers.convolutional.conv2d.Conv2D object at 0x000001B21A0E8AF0>\n",
            "FREEZING LAYER: <keras.layers.pooling.max_pooling2d.MaxPooling2D object at 0x000001B21A119B50>\n",
            "FREEZING LAYER: <keras.layers.convolutional.conv2d.Conv2D object at 0x000001B21A119EE0>\n",
            "FREEZING LAYER: <keras.layers.convolutional.conv2d.Conv2D object at 0x000001B21A110310>\n",
            "FREEZING LAYER: <keras.layers.convolutional.conv2d.Conv2D object at 0x000001B21A121D90>\n",
            "FREEZING LAYER: <keras.layers.pooling.max_pooling2d.MaxPooling2D object at 0x000001B21A121130>\n"
          ]
        }
      ],
      "source": [
        "# Freeze the initial layers in the convolutional base.\n",
        "for model_layer in conv_base.layers[:num_layers - num_layers_fine_tune]:\n",
        "    print(f\"FREEZING LAYER: {model_layer}\")\n",
        "    model_layer.trainable = False"
      ]
    },
    {
      "cell_type": "code",
      "execution_count": 40,
      "metadata": {},
      "outputs": [
        {
          "name": "stdout",
          "output_type": "stream",
          "text": [
            "\n",
            "\n",
            "Configured to fine tune the last 8 convolutional layers...\n",
            "\n",
            "\n",
            "Model: \"vgg16\"\n",
            "_________________________________________________________________\n",
            " Layer (type)                Output Shape              Param #   \n",
            "=================================================================\n",
            " input_1 (InputLayer)        [(None, 200, 200, 3)]     0         \n",
            "                                                                 \n",
            " block1_conv1 (Conv2D)       (None, 200, 200, 64)      1792      \n",
            "                                                                 \n",
            " block1_conv2 (Conv2D)       (None, 200, 200, 64)      36928     \n",
            "                                                                 \n",
            " block1_pool (MaxPooling2D)  (None, 100, 100, 64)      0         \n",
            "                                                                 \n",
            " block2_conv1 (Conv2D)       (None, 100, 100, 128)     73856     \n",
            "                                                                 \n",
            " block2_conv2 (Conv2D)       (None, 100, 100, 128)     147584    \n",
            "                                                                 \n",
            " block2_pool (MaxPooling2D)  (None, 50, 50, 128)       0         \n",
            "                                                                 \n",
            " block3_conv1 (Conv2D)       (None, 50, 50, 256)       295168    \n",
            "                                                                 \n",
            " block3_conv2 (Conv2D)       (None, 50, 50, 256)       590080    \n",
            "                                                                 \n",
            " block3_conv3 (Conv2D)       (None, 50, 50, 256)       590080    \n",
            "                                                                 \n",
            " block3_pool (MaxPooling2D)  (None, 25, 25, 256)       0         \n",
            "                                                                 \n",
            " block4_conv1 (Conv2D)       (None, 25, 25, 512)       1180160   \n",
            "                                                                 \n",
            " block4_conv2 (Conv2D)       (None, 25, 25, 512)       2359808   \n",
            "                                                                 \n",
            " block4_conv3 (Conv2D)       (None, 25, 25, 512)       2359808   \n",
            "                                                                 \n",
            " block4_pool (MaxPooling2D)  (None, 12, 12, 512)       0         \n",
            "                                                                 \n",
            " block5_conv1 (Conv2D)       (None, 12, 12, 512)       2359808   \n",
            "                                                                 \n",
            " block5_conv2 (Conv2D)       (None, 12, 12, 512)       2359808   \n",
            "                                                                 \n",
            " block5_conv3 (Conv2D)       (None, 12, 12, 512)       2359808   \n",
            "                                                                 \n",
            " block5_pool (MaxPooling2D)  (None, 6, 6, 512)         0         \n",
            "                                                                 \n",
            "=================================================================\n",
            "Total params: 14,714,688\n",
            "Trainable params: 12,979,200\n",
            "Non-trainable params: 1,735,488\n",
            "_________________________________________________________________\n",
            "None\n"
          ]
        }
      ],
      "source": [
        "print(\"\\n\")\n",
        "print(f\"Configured to fine tune the last\", num_layers_fine_tune, \"convolutional layers...\")\n",
        "print(\"\\n\")\n",
        "     \n",
        "print(conv_base.summary())"
      ]
    },
    {
      "cell_type": "markdown",
      "metadata": {
        "id": "vVx8qd9U-6Jt"
      },
      "source": [
        "We will add a dense layer after our conv_base NN"
      ]
    },
    {
      "cell_type": "code",
      "execution_count": 41,
      "metadata": {
        "id": "NwbCTdFB-6Jt"
      },
      "outputs": [],
      "source": [
        "from keras import models\n",
        "from keras import layers\n",
        "\n",
        "modelPreT = models.Sequential()\n",
        "modelPreT.add(conv_base)\n",
        "\n",
        "modelPreT.add(layers.Flatten())\n",
        "modelPreT.add(layers.Dense(256, activation='relu'))# add dropout model.add(layers.Dropout(0.5))\n",
        "modelPreT.add(layers.Dropout(0.5))\n",
        "modelPreT.add(layers.Dense(1, activation='sigmoid'))"
      ]
    },
    {
      "cell_type": "code",
      "execution_count": 42,
      "metadata": {
        "colab": {
          "base_uri": "https://localhost:8080/"
        },
        "id": "ULwwwLKQ-6Jt",
        "outputId": "bca81ce0-c589-438d-d7f7-ddc78c5df1fe"
      },
      "outputs": [
        {
          "name": "stdout",
          "output_type": "stream",
          "text": [
            "Model: \"sequential\"\n",
            "_________________________________________________________________\n",
            " Layer (type)                Output Shape              Param #   \n",
            "=================================================================\n",
            " vgg16 (Functional)          (None, 6, 6, 512)         14714688  \n",
            "                                                                 \n",
            " flatten (Flatten)           (None, 18432)             0         \n",
            "                                                                 \n",
            " dense (Dense)               (None, 256)               4718848   \n",
            "                                                                 \n",
            " dropout (Dropout)           (None, 256)               0         \n",
            "                                                                 \n",
            " dense_1 (Dense)             (None, 1)                 257       \n",
            "                                                                 \n",
            "=================================================================\n",
            "Total params: 19,433,793\n",
            "Trainable params: 17,698,305\n",
            "Non-trainable params: 1,735,488\n",
            "_________________________________________________________________\n"
          ]
        }
      ],
      "source": [
        "modelPreT.summary()"
      ]
    },
    {
      "cell_type": "markdown",
      "metadata": {
        "id": "uMXaoWB1-6Jt"
      },
      "source": [
        "Before training the model, we need to separate the pretrained model from our DNN which is added on top of that. So that when we train our model we dont ruin the pretrained weights and biased of the VGG16"
      ]
    },
    {
      "cell_type": "code",
      "execution_count": 43,
      "metadata": {
        "colab": {
          "base_uri": "https://localhost:8080/"
        },
        "id": "kkg5O_dq-6Jt",
        "outputId": "0b8e8703-9f13-4415-d6a7-fc5af46bc1eb"
      },
      "outputs": [
        {
          "name": "stdout",
          "output_type": "stream",
          "text": [
            "This is the number of trainable weights before freezing the conv base: 16\n"
          ]
        }
      ],
      "source": [
        "print('This is the number of trainable weights '\n",
        "      'before freezing the conv base:', len(modelPreT.trainable_weights))"
      ]
    },
    {
      "cell_type": "code",
      "execution_count": 39,
      "metadata": {
        "id": "KcDo2VlW-6Jt"
      },
      "outputs": [],
      "source": [
        "#conv_base.trainable = False"
      ]
    },
    {
      "cell_type": "code",
      "execution_count": 45,
      "metadata": {
        "colab": {
          "base_uri": "https://localhost:8080/"
        },
        "id": "6prLuQV--6Jt",
        "outputId": "21272876-2976-4870-ca8a-f63126fc18c8"
      },
      "outputs": [
        {
          "name": "stdout",
          "output_type": "stream",
          "text": [
            "This is the number of trainable weights after freezing the conv base: 10\n"
          ]
        }
      ],
      "source": [
        "#print('This is the number of trainable weights '\n",
        " #     'after freezing the conv base:', len(modelPreT.trainable_weights))"
      ]
    },
    {
      "cell_type": "code",
      "execution_count": 44,
      "metadata": {},
      "outputs": [
        {
          "name": "stdout",
          "output_type": "stream",
          "text": [
            "Model: \"sequential\"\n",
            "_________________________________________________________________\n",
            " Layer (type)                Output Shape              Param #   \n",
            "=================================================================\n",
            " vgg16 (Functional)          (None, 6, 6, 512)         14714688  \n",
            "                                                                 \n",
            " flatten (Flatten)           (None, 18432)             0         \n",
            "                                                                 \n",
            " dense (Dense)               (None, 256)               4718848   \n",
            "                                                                 \n",
            " dropout (Dropout)           (None, 256)               0         \n",
            "                                                                 \n",
            " dense_1 (Dense)             (None, 1)                 257       \n",
            "                                                                 \n",
            "=================================================================\n",
            "Total params: 19,433,793\n",
            "Trainable params: 17,698,305\n",
            "Non-trainable params: 1,735,488\n",
            "_________________________________________________________________\n"
          ]
        }
      ],
      "source": [
        "modelPreT.summary()"
      ]
    },
    {
      "cell_type": "code",
      "execution_count": 45,
      "metadata": {},
      "outputs": [],
      "source": [
        "# add checkpoint to store the model on the best epoch for Val acc.\n",
        "checkpoint_filepath = r'C:\\Users\\YannisPC\\PycharmProjects\\Thesis\\Thesis\\modelscheckpoint2.model.keras' # model-{epoch:02d}-{val_accuracy:.4f}.hdf5\n",
        "model_checkpoint_callback = keras.callbacks.ModelCheckpoint(\n",
        "    filepath=checkpoint_filepath,\n",
        "    monitor='val_accuracy',\n",
        "    mode='max',\n",
        "    save_best_only=True,\n",
        "    verbose = 1)"
      ]
    },
    {
      "cell_type": "code",
      "execution_count": 46,
      "metadata": {
        "id": "P4qDSomz-6Jt"
      },
      "outputs": [],
      "source": [
        "modelPreT.compile('Adagrad', loss=tf.losses.BinaryCrossentropy(), metrics=['accuracy'])# Adagrad, adam"
      ]
    },
    {
      "cell_type": "code",
      "execution_count": 47,
      "metadata": {
        "id": "L8r54f_c-6Jt"
      },
      "outputs": [
        {
          "name": "stdout",
          "output_type": "stream",
          "text": [
            "Epochs len:  329\n",
            "Val len:  119\n"
          ]
        }
      ],
      "source": [
        "len(train_generator)\n",
        "len(validation_generator)\n",
        "\n",
        "epochs_len = len(train_generator)\n",
        "Val_len = len(validation_generator)\n",
        "print(\"Epochs len: \", epochs_len)\n",
        "print(\"Val len: \", Val_len)"
      ]
    },
    {
      "cell_type": "code",
      "execution_count": 48,
      "metadata": {
        "colab": {
          "base_uri": "https://localhost:8080/"
        },
        "id": "W22LDeK_-6Jt",
        "outputId": "76236d2c-48ce-4882-e86f-4525b6d33cf9"
      },
      "outputs": [
        {
          "name": "stdout",
          "output_type": "stream",
          "text": [
            "Epoch 1/100\n",
            "329/329 [==============================] - ETA: 0s - loss: 0.3861 - accuracy: 0.8336\n",
            "Epoch 1: val_accuracy improved from -inf to 0.87237, saving model to C:\\Users\\YannisPC\\PycharmProjects\\Thesis\\Thesis\\modelscheckpoint2.model.keras\n",
            "329/329 [==============================] - 166s 468ms/step - loss: 0.3861 - accuracy: 0.8336 - val_loss: 0.3142 - val_accuracy: 0.8724\n",
            "Epoch 2/100\n",
            "329/329 [==============================] - ETA: 0s - loss: 0.3235 - accuracy: 0.8654\n",
            "Epoch 2: val_accuracy improved from 0.87237 to 0.88500, saving model to C:\\Users\\YannisPC\\PycharmProjects\\Thesis\\Thesis\\modelscheckpoint2.model.keras\n",
            "329/329 [==============================] - 147s 447ms/step - loss: 0.3235 - accuracy: 0.8654 - val_loss: 0.2866 - val_accuracy: 0.8850\n",
            "Epoch 3/100\n",
            "329/329 [==============================] - ETA: 0s - loss: 0.3089 - accuracy: 0.8738\n",
            "Epoch 3: val_accuracy improved from 0.88500 to 0.88961, saving model to C:\\Users\\YannisPC\\PycharmProjects\\Thesis\\Thesis\\modelscheckpoint2.model.keras\n",
            "329/329 [==============================] - 166s 503ms/step - loss: 0.3089 - accuracy: 0.8738 - val_loss: 0.2765 - val_accuracy: 0.8896\n",
            "Epoch 4/100\n",
            "329/329 [==============================] - ETA: 0s - loss: 0.2944 - accuracy: 0.8806\n",
            "Epoch 4: val_accuracy improved from 0.88961 to 0.89066, saving model to C:\\Users\\YannisPC\\PycharmProjects\\Thesis\\Thesis\\modelscheckpoint2.model.keras\n",
            "329/329 [==============================] - 165s 501ms/step - loss: 0.2944 - accuracy: 0.8806 - val_loss: 0.2714 - val_accuracy: 0.8907\n",
            "Epoch 5/100\n",
            "329/329 [==============================] - ETA: 0s - loss: 0.2859 - accuracy: 0.8853\n",
            "Epoch 5: val_accuracy improved from 0.89066 to 0.89526, saving model to C:\\Users\\YannisPC\\PycharmProjects\\Thesis\\Thesis\\modelscheckpoint2.model.keras\n",
            "329/329 [==============================] - 163s 495ms/step - loss: 0.2859 - accuracy: 0.8853 - val_loss: 0.2600 - val_accuracy: 0.8953\n",
            "Epoch 6/100\n",
            "329/329 [==============================] - ETA: 0s - loss: 0.2771 - accuracy: 0.8897\n",
            "Epoch 6: val_accuracy did not improve from 0.89526\n",
            "329/329 [==============================] - 161s 487ms/step - loss: 0.2771 - accuracy: 0.8897 - val_loss: 0.2563 - val_accuracy: 0.8951\n",
            "Epoch 7/100\n",
            "329/329 [==============================] - ETA: 0s - loss: 0.2699 - accuracy: 0.8923\n",
            "Epoch 7: val_accuracy did not improve from 0.89526\n",
            "329/329 [==============================] - 154s 467ms/step - loss: 0.2699 - accuracy: 0.8923 - val_loss: 0.2686 - val_accuracy: 0.8917\n",
            "Epoch 8/100\n",
            "329/329 [==============================] - ETA: 0s - loss: 0.2638 - accuracy: 0.8945\n",
            "Epoch 8: val_accuracy improved from 0.89526 to 0.89895, saving model to C:\\Users\\YannisPC\\PycharmProjects\\Thesis\\Thesis\\modelscheckpoint2.model.keras\n",
            "329/329 [==============================] - 154s 466ms/step - loss: 0.2638 - accuracy: 0.8945 - val_loss: 0.2519 - val_accuracy: 0.8989\n",
            "Epoch 9/100\n",
            "329/329 [==============================] - ETA: 0s - loss: 0.2600 - accuracy: 0.8963\n",
            "Epoch 9: val_accuracy did not improve from 0.89895\n",
            "329/329 [==============================] - 150s 454ms/step - loss: 0.2600 - accuracy: 0.8963 - val_loss: 0.2921 - val_accuracy: 0.8821\n",
            "Epoch 10/100\n",
            "329/329 [==============================] - ETA: 0s - loss: 0.2594 - accuracy: 0.8970\n",
            "Epoch 10: val_accuracy did not improve from 0.89895\n",
            "329/329 [==============================] - 161s 488ms/step - loss: 0.2594 - accuracy: 0.8970 - val_loss: 0.2569 - val_accuracy: 0.8980\n",
            "Epoch 11/100\n",
            "329/329 [==============================] - ETA: 0s - loss: 0.2531 - accuracy: 0.8971\n",
            "Epoch 11: val_accuracy did not improve from 0.89895\n",
            "329/329 [==============================] - 156s 474ms/step - loss: 0.2531 - accuracy: 0.8971 - val_loss: 0.2727 - val_accuracy: 0.8903\n",
            "Epoch 12/100\n",
            "329/329 [==============================] - ETA: 0s - loss: 0.2491 - accuracy: 0.8999\n",
            "Epoch 12: val_accuracy did not improve from 0.89895\n",
            "329/329 [==============================] - 157s 478ms/step - loss: 0.2491 - accuracy: 0.8999 - val_loss: 0.2638 - val_accuracy: 0.8934\n",
            "Epoch 13/100\n",
            "329/329 [==============================] - ETA: 0s - loss: 0.2472 - accuracy: 0.9017\n",
            "Epoch 13: val_accuracy did not improve from 0.89895\n",
            "329/329 [==============================] - 152s 463ms/step - loss: 0.2472 - accuracy: 0.9017 - val_loss: 0.2594 - val_accuracy: 0.8979\n",
            "Epoch 14/100\n",
            "329/329 [==============================] - ETA: 0s - loss: 0.2429 - accuracy: 0.9037\n",
            "Epoch 14: val_accuracy did not improve from 0.89895\n",
            "329/329 [==============================] - 156s 474ms/step - loss: 0.2429 - accuracy: 0.9037 - val_loss: 0.2494 - val_accuracy: 0.8989\n",
            "Epoch 15/100\n",
            "329/329 [==============================] - ETA: 0s - loss: 0.2391 - accuracy: 0.9051\n",
            "Epoch 15: val_accuracy did not improve from 0.89895\n",
            "329/329 [==============================] - 159s 483ms/step - loss: 0.2391 - accuracy: 0.9051 - val_loss: 0.2577 - val_accuracy: 0.8984\n",
            "Epoch 16/100\n",
            "329/329 [==============================] - ETA: 0s - loss: 0.2377 - accuracy: 0.9053\n",
            "Epoch 16: val_accuracy improved from 0.89895 to 0.89974, saving model to C:\\Users\\YannisPC\\PycharmProjects\\Thesis\\Thesis\\modelscheckpoint2.model.keras\n",
            "329/329 [==============================] - 159s 481ms/step - loss: 0.2377 - accuracy: 0.9053 - val_loss: 0.2437 - val_accuracy: 0.8997\n",
            "Epoch 17/100\n",
            "329/329 [==============================] - ETA: 0s - loss: 0.2334 - accuracy: 0.9066\n",
            "Epoch 17: val_accuracy did not improve from 0.89974\n",
            "329/329 [==============================] - 151s 457ms/step - loss: 0.2334 - accuracy: 0.9066 - val_loss: 0.2555 - val_accuracy: 0.8963\n",
            "Epoch 18/100\n",
            "329/329 [==============================] - ETA: 0s - loss: 0.2291 - accuracy: 0.9105\n",
            "Epoch 18: val_accuracy did not improve from 0.89974\n",
            "329/329 [==============================] - 148s 450ms/step - loss: 0.2291 - accuracy: 0.9105 - val_loss: 0.2639 - val_accuracy: 0.8975\n",
            "Epoch 19/100\n",
            "329/329 [==============================] - ETA: 0s - loss: 0.2282 - accuracy: 0.9074\n",
            "Epoch 19: val_accuracy did not improve from 0.89974\n",
            "329/329 [==============================] - 147s 447ms/step - loss: 0.2282 - accuracy: 0.9074 - val_loss: 0.2590 - val_accuracy: 0.8975\n",
            "Epoch 20/100\n",
            "329/329 [==============================] - ETA: 0s - loss: 0.2212 - accuracy: 0.9125\n",
            "Epoch 20: val_accuracy did not improve from 0.89974\n",
            "329/329 [==============================] - 147s 447ms/step - loss: 0.2212 - accuracy: 0.9125 - val_loss: 0.2567 - val_accuracy: 0.8979\n",
            "Epoch 21/100\n",
            "329/329 [==============================] - ETA: 0s - loss: 0.2259 - accuracy: 0.9107\n",
            "Epoch 21: val_accuracy did not improve from 0.89974\n",
            "329/329 [==============================] - 147s 447ms/step - loss: 0.2259 - accuracy: 0.9107 - val_loss: 0.2572 - val_accuracy: 0.8966\n",
            "Epoch 22/100\n",
            "329/329 [==============================] - ETA: 0s - loss: 0.2216 - accuracy: 0.9122\n",
            "Epoch 22: val_accuracy improved from 0.89974 to 0.90263, saving model to C:\\Users\\YannisPC\\PycharmProjects\\Thesis\\Thesis\\modelscheckpoint2.model.keras\n",
            "329/329 [==============================] - 147s 447ms/step - loss: 0.2216 - accuracy: 0.9122 - val_loss: 0.2464 - val_accuracy: 0.9026\n",
            "Epoch 23/100\n",
            "329/329 [==============================] - ETA: 0s - loss: 0.2183 - accuracy: 0.9143\n",
            "Epoch 23: val_accuracy improved from 0.90263 to 0.90566, saving model to C:\\Users\\YannisPC\\PycharmProjects\\Thesis\\Thesis\\modelscheckpoint2.model.keras\n",
            "329/329 [==============================] - 147s 447ms/step - loss: 0.2183 - accuracy: 0.9143 - val_loss: 0.2426 - val_accuracy: 0.9057\n",
            "Epoch 24/100\n",
            "329/329 [==============================] - ETA: 0s - loss: 0.2141 - accuracy: 0.9154\n",
            "Epoch 24: val_accuracy did not improve from 0.90566\n",
            "329/329 [==============================] - 147s 446ms/step - loss: 0.2141 - accuracy: 0.9154 - val_loss: 0.2498 - val_accuracy: 0.9022\n",
            "Epoch 25/100\n",
            "329/329 [==============================] - ETA: 0s - loss: 0.2121 - accuracy: 0.9177\n",
            "Epoch 25: val_accuracy did not improve from 0.90566\n",
            "329/329 [==============================] - 147s 447ms/step - loss: 0.2121 - accuracy: 0.9177 - val_loss: 0.2525 - val_accuracy: 0.9045\n",
            "Epoch 26/100\n",
            "329/329 [==============================] - ETA: 0s - loss: 0.2108 - accuracy: 0.9181\n",
            "Epoch 26: val_accuracy did not improve from 0.90566\n",
            "329/329 [==============================] - 147s 446ms/step - loss: 0.2108 - accuracy: 0.9181 - val_loss: 0.2451 - val_accuracy: 0.9026\n",
            "Epoch 27/100\n",
            "329/329 [==============================] - ETA: 0s - loss: 0.2084 - accuracy: 0.9185\n",
            "Epoch 27: val_accuracy improved from 0.90566 to 0.90579, saving model to C:\\Users\\YannisPC\\PycharmProjects\\Thesis\\Thesis\\modelscheckpoint2.model.keras\n",
            "329/329 [==============================] - 148s 449ms/step - loss: 0.2084 - accuracy: 0.9185 - val_loss: 0.2440 - val_accuracy: 0.9058\n",
            "Epoch 28/100\n",
            "329/329 [==============================] - ETA: 0s - loss: 0.2089 - accuracy: 0.9190\n",
            "Epoch 28: val_accuracy improved from 0.90579 to 0.90632, saving model to C:\\Users\\YannisPC\\PycharmProjects\\Thesis\\Thesis\\modelscheckpoint2.model.keras\n",
            "329/329 [==============================] - 148s 449ms/step - loss: 0.2089 - accuracy: 0.9190 - val_loss: 0.2399 - val_accuracy: 0.9063\n",
            "Epoch 29/100\n",
            "329/329 [==============================] - ETA: 0s - loss: 0.2018 - accuracy: 0.9202\n",
            "Epoch 29: val_accuracy did not improve from 0.90632\n",
            "329/329 [==============================] - 148s 449ms/step - loss: 0.2018 - accuracy: 0.9202 - val_loss: 0.2628 - val_accuracy: 0.8974\n",
            "Epoch 30/100\n",
            "329/329 [==============================] - ETA: 0s - loss: 0.2016 - accuracy: 0.9200\n",
            "Epoch 30: val_accuracy did not improve from 0.90632\n",
            "329/329 [==============================] - 148s 448ms/step - loss: 0.2016 - accuracy: 0.9200 - val_loss: 0.2727 - val_accuracy: 0.8936\n",
            "Epoch 31/100\n",
            "329/329 [==============================] - ETA: 0s - loss: 0.1992 - accuracy: 0.9221\n",
            "Epoch 31: val_accuracy improved from 0.90632 to 0.90829, saving model to C:\\Users\\YannisPC\\PycharmProjects\\Thesis\\Thesis\\modelscheckpoint2.model.keras\n",
            "329/329 [==============================] - 148s 449ms/step - loss: 0.1992 - accuracy: 0.9221 - val_loss: 0.2372 - val_accuracy: 0.9083\n",
            "Epoch 32/100\n",
            "329/329 [==============================] - ETA: 0s - loss: 0.1961 - accuracy: 0.9222\n",
            "Epoch 32: val_accuracy did not improve from 0.90829\n",
            "329/329 [==============================] - 148s 449ms/step - loss: 0.1961 - accuracy: 0.9222 - val_loss: 0.2762 - val_accuracy: 0.8908\n",
            "Epoch 33/100\n",
            "329/329 [==============================] - ETA: 0s - loss: 0.1969 - accuracy: 0.9231\n",
            "Epoch 33: val_accuracy did not improve from 0.90829\n",
            "329/329 [==============================] - 148s 448ms/step - loss: 0.1969 - accuracy: 0.9231 - val_loss: 0.3010 - val_accuracy: 0.8762\n",
            "Epoch 34/100\n",
            "329/329 [==============================] - ETA: 0s - loss: 0.1928 - accuracy: 0.9237\n",
            "Epoch 34: val_accuracy did not improve from 0.90829\n",
            "329/329 [==============================] - 148s 448ms/step - loss: 0.1928 - accuracy: 0.9237 - val_loss: 0.2390 - val_accuracy: 0.9072\n",
            "Epoch 35/100\n",
            "329/329 [==============================] - ETA: 0s - loss: 0.1901 - accuracy: 0.9257\n",
            "Epoch 35: val_accuracy did not improve from 0.90829\n",
            "329/329 [==============================] - 148s 448ms/step - loss: 0.1901 - accuracy: 0.9257 - val_loss: 0.2438 - val_accuracy: 0.9053\n",
            "Epoch 36/100\n",
            "329/329 [==============================] - ETA: 0s - loss: 0.1857 - accuracy: 0.9277\n",
            "Epoch 36: val_accuracy did not improve from 0.90829\n",
            "329/329 [==============================] - 147s 449ms/step - loss: 0.1857 - accuracy: 0.9277 - val_loss: 0.2728 - val_accuracy: 0.8946\n",
            "Epoch 37/100\n",
            "329/329 [==============================] - ETA: 0s - loss: 0.1869 - accuracy: 0.9266\n",
            "Epoch 37: val_accuracy improved from 0.90829 to 0.91066, saving model to C:\\Users\\YannisPC\\PycharmProjects\\Thesis\\Thesis\\modelscheckpoint2.model.keras\n",
            "329/329 [==============================] - 148s 449ms/step - loss: 0.1869 - accuracy: 0.9266 - val_loss: 0.2399 - val_accuracy: 0.9107\n",
            "Epoch 38/100\n",
            "329/329 [==============================] - ETA: 0s - loss: 0.1842 - accuracy: 0.9281\n",
            "Epoch 38: val_accuracy did not improve from 0.91066\n",
            "329/329 [==============================] - 148s 448ms/step - loss: 0.1842 - accuracy: 0.9281 - val_loss: 0.2433 - val_accuracy: 0.9050\n",
            "Epoch 39/100\n",
            "329/329 [==============================] - ETA: 0s - loss: 0.1797 - accuracy: 0.9282\n",
            "Epoch 39: val_accuracy did not improve from 0.91066\n",
            "329/329 [==============================] - 147s 445ms/step - loss: 0.1797 - accuracy: 0.9282 - val_loss: 0.2487 - val_accuracy: 0.9050\n",
            "Epoch 40/100\n",
            "329/329 [==============================] - ETA: 0s - loss: 0.1764 - accuracy: 0.9317\n",
            "Epoch 40: val_accuracy did not improve from 0.91066\n",
            "329/329 [==============================] - 147s 445ms/step - loss: 0.1764 - accuracy: 0.9317 - val_loss: 0.2532 - val_accuracy: 0.9058\n",
            "Epoch 41/100\n",
            "329/329 [==============================] - ETA: 0s - loss: 0.1760 - accuracy: 0.9310\n",
            "Epoch 41: val_accuracy did not improve from 0.91066\n",
            "329/329 [==============================] - 147s 445ms/step - loss: 0.1760 - accuracy: 0.9310 - val_loss: 0.2497 - val_accuracy: 0.9049\n",
            "Epoch 42/100\n",
            "329/329 [==============================] - ETA: 0s - loss: 0.1699 - accuracy: 0.9336\n",
            "Epoch 42: val_accuracy did not improve from 0.91066\n",
            "329/329 [==============================] - 148s 448ms/step - loss: 0.1699 - accuracy: 0.9336 - val_loss: 0.2561 - val_accuracy: 0.9016\n",
            "Epoch 43/100\n",
            "329/329 [==============================] - ETA: 0s - loss: 0.1678 - accuracy: 0.9346\n",
            "Epoch 43: val_accuracy did not improve from 0.91066\n",
            "329/329 [==============================] - 147s 447ms/step - loss: 0.1678 - accuracy: 0.9346 - val_loss: 0.2614 - val_accuracy: 0.9074\n",
            "Epoch 44/100\n",
            "329/329 [==============================] - ETA: 0s - loss: 0.1667 - accuracy: 0.9355\n",
            "Epoch 44: val_accuracy did not improve from 0.91066\n",
            "329/329 [==============================] - 147s 446ms/step - loss: 0.1667 - accuracy: 0.9355 - val_loss: 0.2711 - val_accuracy: 0.8986\n",
            "Epoch 45/100\n",
            "329/329 [==============================] - ETA: 0s - loss: 0.1638 - accuracy: 0.9354\n",
            "Epoch 45: val_accuracy did not improve from 0.91066\n",
            "329/329 [==============================] - 147s 446ms/step - loss: 0.1638 - accuracy: 0.9354 - val_loss: 0.2558 - val_accuracy: 0.9053\n",
            "Epoch 46/100\n",
            "329/329 [==============================] - ETA: 0s - loss: 0.1610 - accuracy: 0.9359\n",
            "Epoch 46: val_accuracy improved from 0.91066 to 0.91118, saving model to C:\\Users\\YannisPC\\PycharmProjects\\Thesis\\Thesis\\modelscheckpoint2.model.keras\n",
            "329/329 [==============================] - 147s 446ms/step - loss: 0.1610 - accuracy: 0.9359 - val_loss: 0.2541 - val_accuracy: 0.9112\n",
            "Epoch 47/100\n",
            "329/329 [==============================] - ETA: 0s - loss: 0.1621 - accuracy: 0.9373\n",
            "Epoch 47: val_accuracy did not improve from 0.91118\n",
            "329/329 [==============================] - 148s 449ms/step - loss: 0.1621 - accuracy: 0.9373 - val_loss: 0.2636 - val_accuracy: 0.9036\n",
            "Epoch 48/100\n",
            "329/329 [==============================] - ETA: 0s - loss: 0.1557 - accuracy: 0.9402\n",
            "Epoch 48: val_accuracy did not improve from 0.91118\n",
            "329/329 [==============================] - 148s 448ms/step - loss: 0.1557 - accuracy: 0.9402 - val_loss: 0.3128 - val_accuracy: 0.8793\n",
            "Epoch 49/100\n",
            "329/329 [==============================] - ETA: 0s - loss: 0.1487 - accuracy: 0.9421\n",
            "Epoch 49: val_accuracy did not improve from 0.91118\n",
            "329/329 [==============================] - 148s 450ms/step - loss: 0.1487 - accuracy: 0.9421 - val_loss: 0.3637 - val_accuracy: 0.8649\n",
            "Epoch 50/100\n",
            "329/329 [==============================] - ETA: 0s - loss: 0.1513 - accuracy: 0.9416\n",
            "Epoch 50: val_accuracy did not improve from 0.91118\n",
            "329/329 [==============================] - 147s 445ms/step - loss: 0.1513 - accuracy: 0.9416 - val_loss: 0.2711 - val_accuracy: 0.9057\n",
            "Epoch 51/100\n",
            "329/329 [==============================] - ETA: 0s - loss: 0.1488 - accuracy: 0.9430\n",
            "Epoch 51: val_accuracy did not improve from 0.91118\n",
            "329/329 [==============================] - 147s 445ms/step - loss: 0.1488 - accuracy: 0.9430 - val_loss: 0.3062 - val_accuracy: 0.8813\n",
            "Epoch 52/100\n",
            "329/329 [==============================] - ETA: 0s - loss: 0.1426 - accuracy: 0.9424\n",
            "Epoch 52: val_accuracy did not improve from 0.91118\n",
            "329/329 [==============================] - 147s 446ms/step - loss: 0.1426 - accuracy: 0.9424 - val_loss: 0.3012 - val_accuracy: 0.8928\n",
            "Epoch 53/100\n",
            "329/329 [==============================] - ETA: 0s - loss: 0.1417 - accuracy: 0.9456\n",
            "Epoch 53: val_accuracy did not improve from 0.91118\n",
            "329/329 [==============================] - 147s 445ms/step - loss: 0.1417 - accuracy: 0.9456 - val_loss: 0.2799 - val_accuracy: 0.8936\n",
            "Epoch 54/100\n",
            "329/329 [==============================] - ETA: 0s - loss: 0.1380 - accuracy: 0.9456\n",
            "Epoch 54: val_accuracy did not improve from 0.91118\n",
            "329/329 [==============================] - 148s 449ms/step - loss: 0.1380 - accuracy: 0.9456 - val_loss: 0.3518 - val_accuracy: 0.8796\n",
            "Epoch 55/100\n",
            "329/329 [==============================] - ETA: 0s - loss: 0.1388 - accuracy: 0.9475\n",
            "Epoch 55: val_accuracy did not improve from 0.91118\n",
            "329/329 [==============================] - 147s 445ms/step - loss: 0.1388 - accuracy: 0.9475 - val_loss: 0.2965 - val_accuracy: 0.8930\n",
            "Epoch 56/100\n",
            "329/329 [==============================] - ETA: 0s - loss: 0.1366 - accuracy: 0.9481\n",
            "Epoch 56: val_accuracy did not improve from 0.91118\n",
            "329/329 [==============================] - 147s 445ms/step - loss: 0.1366 - accuracy: 0.9481 - val_loss: 0.3055 - val_accuracy: 0.8843\n",
            "Epoch 57/100\n",
            "329/329 [==============================] - ETA: 0s - loss: 0.1328 - accuracy: 0.9491\n",
            "Epoch 57: val_accuracy did not improve from 0.91118\n",
            "329/329 [==============================] - 147s 445ms/step - loss: 0.1328 - accuracy: 0.9491 - val_loss: 0.3380 - val_accuracy: 0.8853\n",
            "Epoch 58/100\n",
            "329/329 [==============================] - ETA: 0s - loss: 0.1304 - accuracy: 0.9478\n",
            "Epoch 58: val_accuracy did not improve from 0.91118\n",
            "329/329 [==============================] - 147s 447ms/step - loss: 0.1304 - accuracy: 0.9478 - val_loss: 0.2838 - val_accuracy: 0.9067\n",
            "Epoch 59/100\n",
            "329/329 [==============================] - ETA: 0s - loss: 0.1285 - accuracy: 0.9499\n",
            "Epoch 59: val_accuracy did not improve from 0.91118\n",
            "329/329 [==============================] - 148s 449ms/step - loss: 0.1285 - accuracy: 0.9499 - val_loss: 0.2712 - val_accuracy: 0.9038\n",
            "Epoch 60/100\n",
            "329/329 [==============================] - ETA: 0s - loss: 0.1213 - accuracy: 0.9551\n",
            "Epoch 60: val_accuracy did not improve from 0.91118\n",
            "329/329 [==============================] - 147s 446ms/step - loss: 0.1213 - accuracy: 0.9551 - val_loss: 0.3527 - val_accuracy: 0.8754\n",
            "Epoch 61/100\n",
            "329/329 [==============================] - ETA: 0s - loss: 0.1246 - accuracy: 0.9527\n",
            "Epoch 61: val_accuracy did not improve from 0.91118\n",
            "329/329 [==============================] - 147s 445ms/step - loss: 0.1246 - accuracy: 0.9527 - val_loss: 0.3364 - val_accuracy: 0.8847\n",
            "Epoch 62/100\n",
            "329/329 [==============================] - ETA: 0s - loss: 0.1199 - accuracy: 0.9530\n",
            "Epoch 62: val_accuracy did not improve from 0.91118\n",
            "329/329 [==============================] - 147s 445ms/step - loss: 0.1199 - accuracy: 0.9530 - val_loss: 0.2784 - val_accuracy: 0.9068\n",
            "Epoch 63/100\n",
            "329/329 [==============================] - ETA: 0s - loss: 0.1192 - accuracy: 0.9537\n",
            "Epoch 63: val_accuracy did not improve from 0.91118\n",
            "329/329 [==============================] - 147s 445ms/step - loss: 0.1192 - accuracy: 0.9537 - val_loss: 0.3248 - val_accuracy: 0.8912\n",
            "Epoch 64/100\n",
            "329/329 [==============================] - ETA: 0s - loss: 0.1149 - accuracy: 0.9556\n",
            "Epoch 64: val_accuracy did not improve from 0.91118\n",
            "329/329 [==============================] - 147s 446ms/step - loss: 0.1149 - accuracy: 0.9556 - val_loss: 0.2890 - val_accuracy: 0.9022\n",
            "Epoch 65/100\n",
            "329/329 [==============================] - ETA: 0s - loss: 0.1088 - accuracy: 0.9580\n",
            "Epoch 65: val_accuracy did not improve from 0.91118\n",
            "329/329 [==============================] - 148s 448ms/step - loss: 0.1088 - accuracy: 0.9580 - val_loss: 0.5226 - val_accuracy: 0.8139\n",
            "Epoch 66/100\n",
            "329/329 [==============================] - ETA: 0s - loss: 0.1076 - accuracy: 0.9602\n",
            "Epoch 66: val_accuracy did not improve from 0.91118\n",
            "329/329 [==============================] - 147s 446ms/step - loss: 0.1076 - accuracy: 0.9602 - val_loss: 0.2883 - val_accuracy: 0.9059\n",
            "Epoch 67/100\n",
            "329/329 [==============================] - ETA: 0s - loss: 0.1079 - accuracy: 0.9590\n",
            "Epoch 67: val_accuracy did not improve from 0.91118\n",
            "329/329 [==============================] - 147s 446ms/step - loss: 0.1079 - accuracy: 0.9590 - val_loss: 0.3321 - val_accuracy: 0.9051\n",
            "Epoch 68/100\n",
            "329/329 [==============================] - ETA: 0s - loss: 0.1081 - accuracy: 0.9593\n",
            "Epoch 68: val_accuracy did not improve from 0.91118\n",
            "329/329 [==============================] - 147s 445ms/step - loss: 0.1081 - accuracy: 0.9593 - val_loss: 0.3269 - val_accuracy: 0.8986\n",
            "Epoch 69/100\n",
            "329/329 [==============================] - ETA: 0s - loss: 0.1013 - accuracy: 0.9599\n",
            "Epoch 69: val_accuracy did not improve from 0.91118\n",
            "329/329 [==============================] - 152s 461ms/step - loss: 0.1013 - accuracy: 0.9599 - val_loss: 0.3703 - val_accuracy: 0.8879\n",
            "Epoch 70/100\n",
            "329/329 [==============================] - ETA: 0s - loss: 0.1014 - accuracy: 0.9621\n",
            "Epoch 70: val_accuracy did not improve from 0.91118\n",
            "329/329 [==============================] - 147s 446ms/step - loss: 0.1014 - accuracy: 0.9621 - val_loss: 0.3166 - val_accuracy: 0.8983\n",
            "Epoch 71/100\n",
            "329/329 [==============================] - ETA: 0s - loss: 0.1016 - accuracy: 0.9616\n",
            "Epoch 71: val_accuracy did not improve from 0.91118\n",
            "329/329 [==============================] - 147s 445ms/step - loss: 0.1016 - accuracy: 0.9616 - val_loss: 0.3273 - val_accuracy: 0.9026\n",
            "Epoch 72/100\n",
            "329/329 [==============================] - ETA: 0s - loss: 0.0954 - accuracy: 0.9640\n",
            "Epoch 72: val_accuracy did not improve from 0.91118\n",
            "329/329 [==============================] - 147s 445ms/step - loss: 0.0954 - accuracy: 0.9640 - val_loss: 0.3182 - val_accuracy: 0.9030\n",
            "Epoch 73/100\n",
            "329/329 [==============================] - ETA: 0s - loss: 0.0926 - accuracy: 0.9646\n",
            "Epoch 73: val_accuracy did not improve from 0.91118\n",
            "329/329 [==============================] - 147s 445ms/step - loss: 0.0926 - accuracy: 0.9646 - val_loss: 0.3236 - val_accuracy: 0.9067\n",
            "Epoch 74/100\n",
            "329/329 [==============================] - ETA: 0s - loss: 0.0955 - accuracy: 0.9637\n",
            "Epoch 74: val_accuracy did not improve from 0.91118\n",
            "329/329 [==============================] - 147s 445ms/step - loss: 0.0955 - accuracy: 0.9637 - val_loss: 0.3236 - val_accuracy: 0.9025\n",
            "Epoch 75/100\n",
            "329/329 [==============================] - ETA: 0s - loss: 0.0903 - accuracy: 0.9669\n",
            "Epoch 75: val_accuracy did not improve from 0.91118\n",
            "329/329 [==============================] - 147s 445ms/step - loss: 0.0903 - accuracy: 0.9669 - val_loss: 0.3537 - val_accuracy: 0.8908\n",
            "Epoch 76/100\n",
            "329/329 [==============================] - ETA: 0s - loss: 0.0858 - accuracy: 0.9665\n",
            "Epoch 76: val_accuracy did not improve from 0.91118\n",
            "329/329 [==============================] - 147s 445ms/step - loss: 0.0858 - accuracy: 0.9665 - val_loss: 0.3411 - val_accuracy: 0.9018\n",
            "Epoch 77/100\n",
            "329/329 [==============================] - ETA: 0s - loss: 0.0852 - accuracy: 0.9683\n",
            "Epoch 77: val_accuracy did not improve from 0.91118\n",
            "329/329 [==============================] - 150s 454ms/step - loss: 0.0852 - accuracy: 0.9683 - val_loss: 0.3391 - val_accuracy: 0.8975\n",
            "Epoch 78/100\n",
            "329/329 [==============================] - ETA: 0s - loss: 0.0846 - accuracy: 0.9680\n",
            "Epoch 78: val_accuracy did not improve from 0.91118\n",
            "329/329 [==============================] - 152s 461ms/step - loss: 0.0846 - accuracy: 0.9680 - val_loss: 0.3528 - val_accuracy: 0.9112\n",
            "Epoch 79/100\n",
            "329/329 [==============================] - ETA: 0s - loss: 0.0797 - accuracy: 0.9676\n",
            "Epoch 79: val_accuracy improved from 0.91118 to 0.91395, saving model to C:\\Users\\YannisPC\\PycharmProjects\\Thesis\\Thesis\\modelscheckpoint2.model.keras\n",
            "329/329 [==============================] - 152s 462ms/step - loss: 0.0797 - accuracy: 0.9676 - val_loss: 0.3456 - val_accuracy: 0.9139\n",
            "Epoch 80/100\n",
            "329/329 [==============================] - ETA: 0s - loss: 0.0787 - accuracy: 0.9682\n",
            "Epoch 80: val_accuracy did not improve from 0.91395\n",
            "329/329 [==============================] - 152s 461ms/step - loss: 0.0787 - accuracy: 0.9682 - val_loss: 0.3548 - val_accuracy: 0.8972\n",
            "Epoch 81/100\n",
            "329/329 [==============================] - ETA: 0s - loss: 0.0798 - accuracy: 0.9699\n",
            "Epoch 81: val_accuracy did not improve from 0.91395\n",
            "329/329 [==============================] - 150s 456ms/step - loss: 0.0798 - accuracy: 0.9699 - val_loss: 0.3487 - val_accuracy: 0.9059\n",
            "Epoch 82/100\n",
            "329/329 [==============================] - ETA: 0s - loss: 0.0760 - accuracy: 0.9703\n",
            "Epoch 82: val_accuracy did not improve from 0.91395\n",
            "329/329 [==============================] - 147s 447ms/step - loss: 0.0760 - accuracy: 0.9703 - val_loss: 0.3613 - val_accuracy: 0.9078\n",
            "Epoch 83/100\n",
            "329/329 [==============================] - ETA: 0s - loss: 0.0765 - accuracy: 0.9717\n",
            "Epoch 83: val_accuracy did not improve from 0.91395\n",
            "329/329 [==============================] - 148s 448ms/step - loss: 0.0765 - accuracy: 0.9717 - val_loss: 0.3419 - val_accuracy: 0.8880\n",
            "Epoch 84/100\n",
            "329/329 [==============================] - ETA: 0s - loss: 0.0727 - accuracy: 0.9732\n",
            "Epoch 84: val_accuracy did not improve from 0.91395\n",
            "329/329 [==============================] - 147s 447ms/step - loss: 0.0727 - accuracy: 0.9732 - val_loss: 0.4289 - val_accuracy: 0.8803\n",
            "Epoch 85/100\n",
            "329/329 [==============================] - ETA: 0s - loss: 0.0702 - accuracy: 0.9733\n",
            "Epoch 85: val_accuracy did not improve from 0.91395\n",
            "329/329 [==============================] - 148s 448ms/step - loss: 0.0702 - accuracy: 0.9733 - val_loss: 0.3752 - val_accuracy: 0.8903\n",
            "Epoch 86/100\n",
            "329/329 [==============================] - ETA: 0s - loss: 0.0672 - accuracy: 0.9751\n",
            "Epoch 86: val_accuracy did not improve from 0.91395\n",
            "329/329 [==============================] - 148s 448ms/step - loss: 0.0672 - accuracy: 0.9751 - val_loss: 0.3570 - val_accuracy: 0.9055\n",
            "Epoch 87/100\n",
            "329/329 [==============================] - ETA: 0s - loss: 0.0707 - accuracy: 0.9727\n",
            "Epoch 87: val_accuracy did not improve from 0.91395\n",
            "329/329 [==============================] - 148s 448ms/step - loss: 0.0707 - accuracy: 0.9727 - val_loss: 0.4227 - val_accuracy: 0.8843\n",
            "Epoch 88/100\n",
            "329/329 [==============================] - ETA: 0s - loss: 0.0667 - accuracy: 0.9752\n",
            "Epoch 88: val_accuracy did not improve from 0.91395\n",
            "329/329 [==============================] - 148s 448ms/step - loss: 0.0667 - accuracy: 0.9752 - val_loss: 0.3600 - val_accuracy: 0.9104\n",
            "Epoch 89/100\n",
            "329/329 [==============================] - ETA: 0s - loss: 0.0632 - accuracy: 0.9760\n",
            "Epoch 89: val_accuracy did not improve from 0.91395\n",
            "329/329 [==============================] - 147s 446ms/step - loss: 0.0632 - accuracy: 0.9760 - val_loss: 0.4018 - val_accuracy: 0.8929\n",
            "Epoch 90/100\n",
            "329/329 [==============================] - ETA: 0s - loss: 0.0613 - accuracy: 0.9761\n",
            "Epoch 90: val_accuracy did not improve from 0.91395\n",
            "329/329 [==============================] - 147s 445ms/step - loss: 0.0613 - accuracy: 0.9761 - val_loss: 0.4554 - val_accuracy: 0.8757\n",
            "Epoch 91/100\n",
            "329/329 [==============================] - ETA: 0s - loss: 0.0618 - accuracy: 0.9759\n",
            "Epoch 91: val_accuracy did not improve from 0.91395\n",
            "329/329 [==============================] - 147s 445ms/step - loss: 0.0618 - accuracy: 0.9759 - val_loss: 0.4276 - val_accuracy: 0.8909\n",
            "Epoch 92/100\n",
            "329/329 [==============================] - ETA: 0s - loss: 0.0565 - accuracy: 0.9792\n",
            "Epoch 92: val_accuracy did not improve from 0.91395\n",
            "329/329 [==============================] - 147s 445ms/step - loss: 0.0565 - accuracy: 0.9792 - val_loss: 0.3660 - val_accuracy: 0.9087\n",
            "Epoch 93/100\n",
            "329/329 [==============================] - ETA: 0s - loss: 0.0555 - accuracy: 0.9801\n",
            "Epoch 93: val_accuracy did not improve from 0.91395\n",
            "329/329 [==============================] - 149s 453ms/step - loss: 0.0555 - accuracy: 0.9801 - val_loss: 0.4262 - val_accuracy: 0.8976\n",
            "Epoch 94/100\n",
            "329/329 [==============================] - ETA: 0s - loss: 0.0606 - accuracy: 0.9775\n",
            "Epoch 94: val_accuracy did not improve from 0.91395\n",
            "329/329 [==============================] - 152s 461ms/step - loss: 0.0606 - accuracy: 0.9775 - val_loss: 0.4410 - val_accuracy: 0.8986\n",
            "Epoch 95/100\n",
            "329/329 [==============================] - ETA: 0s - loss: 0.0592 - accuracy: 0.9787\n",
            "Epoch 95: val_accuracy did not improve from 0.91395\n",
            "329/329 [==============================] - 152s 461ms/step - loss: 0.0592 - accuracy: 0.9787 - val_loss: 0.4160 - val_accuracy: 0.8914\n",
            "Epoch 96/100\n",
            "329/329 [==============================] - ETA: 0s - loss: 0.0546 - accuracy: 0.9811\n",
            "Epoch 96: val_accuracy did not improve from 0.91395\n",
            "329/329 [==============================] - 152s 461ms/step - loss: 0.0546 - accuracy: 0.9811 - val_loss: 0.4528 - val_accuracy: 0.8947\n",
            "Epoch 97/100\n",
            "329/329 [==============================] - ETA: 0s - loss: 0.0615 - accuracy: 0.9768\n",
            "Epoch 97: val_accuracy did not improve from 0.91395\n",
            "329/329 [==============================] - 152s 462ms/step - loss: 0.0615 - accuracy: 0.9768 - val_loss: 0.4245 - val_accuracy: 0.8933\n",
            "Epoch 98/100\n",
            "329/329 [==============================] - ETA: 0s - loss: 0.0539 - accuracy: 0.9807\n",
            "Epoch 98: val_accuracy did not improve from 0.91395\n",
            "329/329 [==============================] - 152s 461ms/step - loss: 0.0539 - accuracy: 0.9807 - val_loss: 0.4369 - val_accuracy: 0.9021\n",
            "Epoch 99/100\n",
            "329/329 [==============================] - ETA: 0s - loss: 0.0534 - accuracy: 0.9796\n",
            "Epoch 99: val_accuracy did not improve from 0.91395\n",
            "329/329 [==============================] - 152s 462ms/step - loss: 0.0534 - accuracy: 0.9796 - val_loss: 0.4160 - val_accuracy: 0.8989\n",
            "Epoch 100/100\n",
            "329/329 [==============================] - ETA: 0s - loss: 0.0500 - accuracy: 0.9823\n",
            "Epoch 100: val_accuracy did not improve from 0.91395\n",
            "329/329 [==============================] - 147s 446ms/step - loss: 0.0500 - accuracy: 0.9823 - val_loss: 0.4065 - val_accuracy: 0.8946\n"
          ]
        }
      ],
      "source": [
        "histPreT = modelPreT.fit(train_generator, epochs = 100, validation_data=validation_generator, callbacks=[model_checkpoint_callback]) #  epochs 10 are over fitting. early stop at?"
      ]
    },
    {
      "cell_type": "code",
      "execution_count": 49,
      "metadata": {},
      "outputs": [],
      "source": [
        "modelPreT.save(os.path.join('models','Pretrained_VGG16_ad_class_medium_CLEAN35000_FT_Aug3.h5'))"
      ]
    },
    {
      "cell_type": "code",
      "execution_count": 50,
      "metadata": {},
      "outputs": [
        {
          "name": "stdout",
          "output_type": "stream",
          "text": [
            "Best epoch: 79\n"
          ]
        }
      ],
      "source": [
        "val_acc_per_epoch = histPreT.history['val_accuracy']\n",
        "best_epoch = val_acc_per_epoch.index(max(val_acc_per_epoch)) + 1\n",
        "print('Best epoch: %d' % (best_epoch,))"
      ]
    },
    {
      "cell_type": "code",
      "execution_count": 51,
      "metadata": {
        "colab": {
          "base_uri": "https://localhost:8080/",
          "height": 887
        },
        "id": "e3wZrd90-6Jt",
        "outputId": "0630124c-9747-4688-f755-aaf80997102f"
      },
      "outputs": [
        {
          "data": {
            "image/png": "[encoded data removed]",
            "text/plain": [
              "<Figure size 640x480 with 1 Axes>"
            ]
          },
          "metadata": {},
          "output_type": "display_data"
        },
        {
          "data": {
            "image/png": "[encoded data removed]",
            "text/plain": [
              "<Figure size 640x480 with 1 Axes>"
            ]
          },
          "metadata": {},
          "output_type": "display_data"
        }
      ],
      "source": [
        "acc = histPreT.history['accuracy']\n",
        "val_acc = histPreT.history['val_accuracy']\n",
        "loss = histPreT.history['loss']\n",
        "val_loss = histPreT.history['val_loss']\n",
        "\n",
        "epochs = range(len(acc))\n",
        "\n",
        "plt.plot(epochs, acc, 'bo', label='Training acc')\n",
        "plt.plot(epochs, val_acc, 'b', label='Validation acc')\n",
        "plt.title('Training and validation accuracy')\n",
        "plt.legend()\n",
        "\n",
        "plt.figure()\n",
        "\n",
        "plt.plot(epochs, loss, 'bo', label='Training loss')\n",
        "plt.plot(epochs, val_loss, 'b', label='Validation loss')\n",
        "plt.title('Training and validation loss')\n",
        "plt.legend()\n",
        "\n",
        "plt.show()"
      ]
    },
    {
      "cell_type": "markdown",
      "metadata": {},
      "source": [
        "# Evaluate"
      ]
    },
    {
      "cell_type": "markdown",
      "metadata": {},
      "source": [
        "Note: Add also F1 score if possible"
      ]
    },
    {
      "cell_type": "code",
      "execution_count": 52,
      "metadata": {
        "id": "tgHLiCoC-6Jt"
      },
      "outputs": [
        {
          "name": "stdout",
          "output_type": "stream",
          "text": [
            "Found 6000 images belonging to 2 classes.\n",
            "188/188 [==============================] - 33s 149ms/step - loss: 0.4412 - accuracy: 0.8938\n",
            "test acc: 0.893833339214325\n",
            "test loss: 0.4412075877189636\n"
          ]
        }
      ],
      "source": [
        "test_generator = test_datagen.flow_from_directory(\n",
        "        test_dir,\n",
        "        target_size=(200, 200),\n",
        "        batch_size=32,\n",
        "        class_mode='binary')\n",
        "\n",
        "test_loss, test_acc = modelPreT.evaluate(test_generator, steps=len(test_generator))  # steps_per_epoch * epochs\n",
        "print('test acc:', test_acc)\n",
        "print('test loss:', test_loss)"
      ]
    },
    {
      "cell_type": "markdown",
      "metadata": {},
      "source": [
        "Confution Matrix"
      ]
    },
    {
      "cell_type": "code",
      "execution_count": 53,
      "metadata": {},
      "outputs": [],
      "source": [
        "from sklearn.metrics import confusion_matrix, ConfusionMatrixDisplay\n",
        "\n",
        "# Initialize lists to collect true labels and predictions\n",
        "true_labels = []\n",
        "predicted_labels = []"
      ]
    },
    {
      "cell_type": "code",
      "execution_count": 54,
      "metadata": {},
      "outputs": [
        {
          "name": "stdout",
          "output_type": "stream",
          "text": [
            "1/1 [==============================] - 0s 156ms/step\n",
            "1/1 [==============================] - 0s 25ms/step\n",
            "1/1 [==============================] - 0s 24ms/step\n",
            "1/1 [==============================] - 0s 24ms/step\n",
            "1/1 [==============================] - 0s 24ms/step\n",
            "1/1 [==============================] - 0s 27ms/step\n",
            "1/1 [==============================] - 0s 27ms/step\n",
            "1/1 [==============================] - 0s 27ms/step\n",
            "1/1 [==============================] - 0s 25ms/step\n",
            "1/1 [==============================] - 0s 24ms/step\n",
            "1/1 [==============================] - 0s 24ms/step\n",
            "1/1 [==============================] - 0s 25ms/step\n",
            "1/1 [==============================] - 0s 28ms/step\n",
            "1/1 [==============================] - 0s 25ms/step\n",
            "1/1 [==============================] - 0s 24ms/step\n",
            "1/1 [==============================] - 0s 25ms/step\n",
            "1/1 [==============================] - 0s 25ms/step\n",
            "1/1 [==============================] - 0s 27ms/step\n",
            "1/1 [==============================] - 0s 24ms/step\n",
            "1/1 [==============================] - 0s 24ms/step\n",
            "1/1 [==============================] - 0s 24ms/step\n",
            "1/1 [==============================] - 0s 25ms/step\n",
            "1/1 [==============================] - 0s 26ms/step\n",
            "1/1 [==============================] - 0s 25ms/step\n",
            "1/1 [==============================] - 0s 25ms/step\n",
            "1/1 [==============================] - 0s 25ms/step\n",
            "1/1 [==============================] - 0s 25ms/step\n",
            "1/1 [==============================] - 0s 26ms/step\n",
            "1/1 [==============================] - 0s 28ms/step\n",
            "1/1 [==============================] - 0s 24ms/step\n",
            "1/1 [==============================] - 0s 25ms/step\n",
            "1/1 [==============================] - 0s 25ms/step\n",
            "1/1 [==============================] - 0s 26ms/step\n",
            "1/1 [==============================] - 0s 26ms/step\n",
            "1/1 [==============================] - 0s 27ms/step\n",
            "1/1 [==============================] - 0s 26ms/step\n",
            "1/1 [==============================] - 0s 27ms/step\n",
            "1/1 [==============================] - 0s 31ms/step\n",
            "1/1 [==============================] - 0s 32ms/step\n",
            "1/1 [==============================] - 0s 25ms/step\n",
            "1/1 [==============================] - 0s 25ms/step\n",
            "1/1 [==============================] - 0s 25ms/step\n",
            "1/1 [==============================] - 0s 25ms/step\n",
            "1/1 [==============================] - 0s 25ms/step\n",
            "1/1 [==============================] - 0s 26ms/step\n",
            "1/1 [==============================] - 0s 26ms/step\n",
            "1/1 [==============================] - 0s 25ms/step\n",
            "1/1 [==============================] - 0s 27ms/step\n",
            "1/1 [==============================] - 0s 24ms/step\n",
            "1/1 [==============================] - 0s 24ms/step\n",
            "1/1 [==============================] - 0s 24ms/step\n",
            "1/1 [==============================] - 0s 26ms/step\n",
            "1/1 [==============================] - 0s 25ms/step\n",
            "1/1 [==============================] - 0s 24ms/step\n",
            "1/1 [==============================] - 0s 24ms/step\n",
            "1/1 [==============================] - 0s 26ms/step\n",
            "1/1 [==============================] - 0s 25ms/step\n",
            "1/1 [==============================] - 0s 24ms/step\n",
            "1/1 [==============================] - 0s 24ms/step\n",
            "1/1 [==============================] - 0s 24ms/step\n",
            "1/1 [==============================] - 0s 26ms/step\n",
            "1/1 [==============================] - 0s 27ms/step\n",
            "1/1 [==============================] - 0s 26ms/step\n",
            "1/1 [==============================] - 0s 24ms/step\n",
            "1/1 [==============================] - 0s 27ms/step\n",
            "1/1 [==============================] - 0s 27ms/step\n",
            "1/1 [==============================] - 0s 28ms/step\n",
            "1/1 [==============================] - 0s 28ms/step\n",
            "1/1 [==============================] - 0s 26ms/step\n",
            "1/1 [==============================] - 0s 24ms/step\n",
            "1/1 [==============================] - 0s 27ms/step\n",
            "1/1 [==============================] - 0s 25ms/step\n",
            "1/1 [==============================] - 0s 25ms/step\n",
            "1/1 [==============================] - 0s 26ms/step\n",
            "1/1 [==============================] - 0s 26ms/step\n",
            "1/1 [==============================] - 0s 28ms/step\n",
            "1/1 [==============================] - 0s 24ms/step\n",
            "1/1 [==============================] - 0s 25ms/step\n",
            "1/1 [==============================] - 0s 25ms/step\n",
            "1/1 [==============================] - 0s 24ms/step\n",
            "1/1 [==============================] - 0s 25ms/step\n",
            "1/1 [==============================] - 0s 25ms/step\n",
            "1/1 [==============================] - 0s 24ms/step\n",
            "1/1 [==============================] - 0s 24ms/step\n",
            "1/1 [==============================] - 0s 25ms/step\n",
            "1/1 [==============================] - 0s 25ms/step\n",
            "1/1 [==============================] - 0s 26ms/step\n",
            "1/1 [==============================] - 0s 26ms/step\n",
            "1/1 [==============================] - 0s 23ms/step\n",
            "1/1 [==============================] - 0s 23ms/step\n",
            "1/1 [==============================] - 0s 24ms/step\n",
            "1/1 [==============================] - 0s 25ms/step\n",
            "1/1 [==============================] - 0s 26ms/step\n",
            "1/1 [==============================] - 0s 25ms/step\n",
            "1/1 [==============================] - 0s 25ms/step\n",
            "1/1 [==============================] - 0s 25ms/step\n",
            "1/1 [==============================] - 0s 24ms/step\n",
            "1/1 [==============================] - 0s 25ms/step\n",
            "1/1 [==============================] - 0s 24ms/step\n",
            "1/1 [==============================] - 0s 23ms/step\n",
            "1/1 [==============================] - 0s 23ms/step\n",
            "1/1 [==============================] - 0s 25ms/step\n",
            "1/1 [==============================] - 0s 24ms/step\n",
            "1/1 [==============================] - 0s 24ms/step\n",
            "1/1 [==============================] - 0s 24ms/step\n",
            "1/1 [==============================] - 0s 25ms/step\n",
            "1/1 [==============================] - 0s 25ms/step\n",
            "1/1 [==============================] - 0s 25ms/step\n",
            "1/1 [==============================] - 0s 24ms/step\n",
            "1/1 [==============================] - 0s 24ms/step\n",
            "1/1 [==============================] - 0s 23ms/step\n",
            "1/1 [==============================] - 0s 24ms/step\n",
            "1/1 [==============================] - 0s 25ms/step\n",
            "1/1 [==============================] - 0s 25ms/step\n",
            "1/1 [==============================] - 0s 25ms/step\n",
            "1/1 [==============================] - 0s 25ms/step\n",
            "1/1 [==============================] - 0s 25ms/step\n",
            "1/1 [==============================] - 0s 24ms/step\n",
            "1/1 [==============================] - 0s 25ms/step\n",
            "1/1 [==============================] - 0s 23ms/step\n",
            "1/1 [==============================] - 0s 24ms/step\n",
            "1/1 [==============================] - 0s 24ms/step\n",
            "1/1 [==============================] - 0s 24ms/step\n",
            "1/1 [==============================] - 0s 25ms/step\n",
            "1/1 [==============================] - 0s 24ms/step\n",
            "1/1 [==============================] - 0s 24ms/step\n",
            "1/1 [==============================] - 0s 24ms/step\n",
            "1/1 [==============================] - 0s 31ms/step\n",
            "1/1 [==============================] - 0s 25ms/step\n",
            "1/1 [==============================] - 0s 26ms/step\n",
            "1/1 [==============================] - 0s 23ms/step\n",
            "1/1 [==============================] - 0s 32ms/step\n",
            "1/1 [==============================] - 0s 23ms/step\n",
            "1/1 [==============================] - 0s 24ms/step\n",
            "1/1 [==============================] - 0s 24ms/step\n",
            "1/1 [==============================] - 0s 31ms/step\n",
            "1/1 [==============================] - 0s 25ms/step\n",
            "1/1 [==============================] - 0s 24ms/step\n",
            "1/1 [==============================] - 0s 27ms/step\n",
            "1/1 [==============================] - 0s 27ms/step\n",
            "1/1 [==============================] - 0s 25ms/step\n",
            "1/1 [==============================] - 0s 26ms/step\n",
            "1/1 [==============================] - 0s 24ms/step\n",
            "1/1 [==============================] - 0s 26ms/step\n",
            "1/1 [==============================] - 0s 26ms/step\n",
            "1/1 [==============================] - 0s 23ms/step\n",
            "1/1 [==============================] - 0s 24ms/step\n",
            "1/1 [==============================] - 0s 24ms/step\n",
            "1/1 [==============================] - 0s 25ms/step\n",
            "1/1 [==============================] - 0s 24ms/step\n",
            "1/1 [==============================] - 0s 23ms/step\n",
            "1/1 [==============================] - 0s 24ms/step\n",
            "1/1 [==============================] - 0s 23ms/step\n",
            "1/1 [==============================] - 0s 24ms/step\n",
            "1/1 [==============================] - 0s 25ms/step\n",
            "1/1 [==============================] - 0s 24ms/step\n",
            "1/1 [==============================] - 0s 25ms/step\n",
            "1/1 [==============================] - 0s 24ms/step\n",
            "1/1 [==============================] - 0s 26ms/step\n",
            "1/1 [==============================] - 0s 26ms/step\n",
            "1/1 [==============================] - 0s 24ms/step\n",
            "1/1 [==============================] - 0s 24ms/step\n",
            "1/1 [==============================] - 0s 24ms/step\n",
            "1/1 [==============================] - 0s 25ms/step\n",
            "1/1 [==============================] - 0s 26ms/step\n",
            "1/1 [==============================] - 0s 24ms/step\n",
            "1/1 [==============================] - 0s 25ms/step\n",
            "1/1 [==============================] - 0s 25ms/step\n",
            "1/1 [==============================] - 0s 24ms/step\n",
            "1/1 [==============================] - 0s 24ms/step\n",
            "1/1 [==============================] - 0s 24ms/step\n",
            "1/1 [==============================] - 0s 23ms/step\n",
            "1/1 [==============================] - 0s 24ms/step\n",
            "1/1 [==============================] - 0s 26ms/step\n",
            "1/1 [==============================] - 0s 25ms/step\n",
            "1/1 [==============================] - 0s 27ms/step\n",
            "1/1 [==============================] - 0s 24ms/step\n",
            "1/1 [==============================] - 0s 24ms/step\n",
            "1/1 [==============================] - 0s 25ms/step\n",
            "1/1 [==============================] - 0s 25ms/step\n",
            "1/1 [==============================] - 0s 26ms/step\n",
            "1/1 [==============================] - 0s 24ms/step\n",
            "1/1 [==============================] - 0s 24ms/step\n",
            "1/1 [==============================] - 0s 25ms/step\n",
            "1/1 [==============================] - 0s 27ms/step\n",
            "1/1 [==============================] - 0s 25ms/step\n",
            "1/1 [==============================] - 0s 26ms/step\n",
            "1/1 [==============================] - 0s 119ms/step\n"
          ]
        }
      ],
      "source": [
        "for _ in range(len(test_generator)):\n",
        "    X, y = next(test_generator)\n",
        "\n",
        "    yhat = modelPreT.predict(X)\n",
        "    \n",
        "    y_true_batch = y # Labels\n",
        "    \n",
        "    # Convert probabilities to class labels using a threshold of 0.5\n",
        "    y_pred_batch = (yhat > 0.5).astype(int)\n",
        "\n",
        "    # Append the true labels and predictions for this batch to the lists\n",
        "    true_labels.extend(y_true_batch)\n",
        "    predicted_labels.extend(y_pred_batch)\n",
        "\n",
        "    if len(true_labels) >= test_generator.n:\n",
        "        break"
      ]
    },
    {
      "cell_type": "code",
      "execution_count": 55,
      "metadata": {},
      "outputs": [],
      "source": [
        "# Convert lists to numpy arrays\n",
        "true_labels = np.array(true_labels)\n",
        "predicted_labels = np.array(predicted_labels)"
      ]
    },
    {
      "cell_type": "code",
      "execution_count": 56,
      "metadata": {},
      "outputs": [],
      "source": [
        "# Compute the confusion matrix\n",
        "cm = confusion_matrix(true_labels, predicted_labels)"
      ]
    },
    {
      "cell_type": "markdown",
      "metadata": {},
      "source": [
        "Ads = 0 \n",
        "\n",
        "Clear = 1"
      ]
    },
    {
      "cell_type": "code",
      "execution_count": 57,
      "metadata": {},
      "outputs": [
        {
          "data": {
            "image/png": "[encoded data removed]",
            "text/plain": [
              "<Figure size 640x480 with 2 Axes>"
            ]
          },
          "metadata": {},
          "output_type": "display_data"
        }
      ],
      "source": [
        "# Plot the confusion matrix\n",
        "disp = ConfusionMatrixDisplay(confusion_matrix=cm, display_labels=['Class 0', 'Class 1'])\n",
        "disp.plot(cmap=plt.cm.Blues)\n",
        "plt.show()"
      ]
    }
  ],
  "metadata": {
    "accelerator": "GPU",
    "colab": {
      "gpuType": "L4",
      "include_colab_link": true,
      "machine_shape": "hm",
      "provenance": []
    },
    "kernelspec": {
      "display_name": "Python 3",
      "name": "python3"
    },
    "language_info": {
      "codemirror_mode": {
        "name": "ipython",
        "version": 3
      },
      "file_extension": ".py",
      "mimetype": "text/x-python",
      "name": "python",
      "nbconvert_exporter": "python",
      "pygments_lexer": "ipython3",
      "version": "3.9.13"
    }
  },
  "nbformat": 4,
  "nbformat_minor": 0
}
