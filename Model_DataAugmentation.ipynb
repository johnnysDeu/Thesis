{
  "cells": [
    {
      "cell_type": "markdown",
      "metadata": {
        "id": "view-in-github",
        "colab_type": "text"
      },
      "source": [
        "<a href=\"https://colab.research.google.com/github/johnnysDeu/Thesis/blob/main/Model_DataAugmentation.ipynb\" target=\"_parent\"><img src=\"https://colab.research.google.com/assets/colab-badge.svg\" alt=\"Open In Colab\"/></a>"
      ]
    },
    {
      "cell_type": "code",
      "execution_count": null,
      "metadata": {
        "colab": {
          "base_uri": "https://localhost:8080/",
          "height": 35
        },
        "id": "havyxBOpMKdN",
        "outputId": "fd9ec833-fffa-48dc-e39f-6de9c7bc83e7"
      },
      "outputs": [
        {
          "output_type": "execute_result",
          "data": {
            "text/plain": [
              "'2.15.0'"
            ],
            "application/vnd.google.colaboratory.intrinsic+json": {
              "type": "string"
            }
          },
          "metadata": {},
          "execution_count": 1
        }
      ],
      "source": [
        "import keras\n",
        "keras.__version__"
      ]
    },
    {
      "cell_type": "code",
      "execution_count": null,
      "metadata": {
        "collapsed": true,
        "id": "oXPklI4WMKdQ"
      },
      "outputs": [],
      "source": [
        "import os, shutil\n",
        "import numpy as np"
      ]
    },
    {
      "cell_type": "code",
      "execution_count": null,
      "metadata": {
        "colab": {
          "base_uri": "https://localhost:8080/"
        },
        "id": "zdzsaxHOWAtI",
        "outputId": "0476b046-cea7-4169-df78-8449a8c49267"
      },
      "outputs": [
        {
          "output_type": "stream",
          "name": "stdout",
          "text": [
            "Mounted at /content/drive\n"
          ]
        }
      ],
      "source": [
        "from google.colab import drive # fur colab\n",
        "drive.mount('/content/drive')"
      ]
    },
    {
      "cell_type": "code",
      "execution_count": null,
      "metadata": {
        "id": "veklzsibN7MD"
      },
      "outputs": [],
      "source": [
        "#!nvidia-smi"
      ]
    },
    {
      "cell_type": "code",
      "execution_count": null,
      "metadata": {
        "id": "QIvJ1cQpWPVq"
      },
      "outputs": [],
      "source": [
        "path = '/content/drive/MyDrive/Colab Notebooks/Thesis/data'\n",
        "os.chdir(path)"
      ]
    },
    {
      "cell_type": "code",
      "execution_count": null,
      "metadata": {
        "colab": {
          "base_uri": "https://localhost:8080/",
          "height": 35
        },
        "id": "il5wkh_wVz5A",
        "outputId": "b53aa127-9cff-4dca-eac8-fcbdb6cf6b76"
      },
      "outputs": [
        {
          "output_type": "execute_result",
          "data": {
            "text/plain": [
              "'/content/drive/MyDrive/Colab Notebooks/Thesis/data'"
            ],
            "application/vnd.google.colaboratory.intrinsic+json": {
              "type": "string"
            }
          },
          "metadata": {},
          "execution_count": 6
        }
      ],
      "source": [
        "Current_dir = os.getcwd()\n",
        "Current_dir"
      ]
    },
    {
      "cell_type": "code",
      "execution_count": null,
      "metadata": {
        "id": "nwTvwHwQXDn7"
      },
      "outputs": [],
      "source": [
        "base_dir = 'data split'\n",
        "#os.mkdir(base_dir)\n",
        "\n",
        "# Directories for our training,\n",
        "# validation and test splits\n",
        "train_dir = os.path.join(base_dir, 'train')\n",
        "if not os.path.isdir(train_dir):\n",
        "  os.mkdir(train_dir)\n",
        "validation_dir = os.path.join(base_dir, 'validate')\n",
        "if not os.path.isdir(validation_dir):\n",
        "  os.mkdir(validation_dir)\n",
        "test_dir = os.path.join(base_dir, 'test')\n",
        "if not os.path.isdir(test_dir):\n",
        "  os.mkdir(test_dir)\n"
      ]
    },
    {
      "cell_type": "code",
      "execution_count": null,
      "metadata": {
        "colab": {
          "base_uri": "https://localhost:8080/",
          "height": 35
        },
        "id": "_s_HPQ36w1FF",
        "outputId": "b07f2085-cc8d-4506-eae6-ad58150400ed"
      },
      "outputs": [
        {
          "output_type": "execute_result",
          "data": {
            "text/plain": [
              "'data split/train/Ads'"
            ],
            "application/vnd.google.colaboratory.intrinsic+json": {
              "type": "string"
            }
          },
          "metadata": {},
          "execution_count": 8
        }
      ],
      "source": [
        "train_Ads_dir = os.path.join(train_dir, 'Ads')\n",
        "train_sample_dir = os.path.join(train_dir, 'Sample_images')\n",
        "train_Ads_dir"
      ]
    },
    {
      "cell_type": "code",
      "execution_count": null,
      "metadata": {
        "colab": {
          "base_uri": "https://localhost:8080/",
          "height": 35
        },
        "id": "pXbwDhGKxFFV",
        "outputId": "718a3a52-330a-47f7-fa88-ec3d829e5592"
      },
      "outputs": [
        {
          "output_type": "execute_result",
          "data": {
            "text/plain": [
              "'data split/validate/Ads'"
            ],
            "application/vnd.google.colaboratory.intrinsic+json": {
              "type": "string"
            }
          },
          "metadata": {},
          "execution_count": 9
        }
      ],
      "source": [
        "validation_Ads_dir = os.path.join(validation_dir, 'Ads')\n",
        "validation_sample_dir = os.path.join(validation_dir, 'Sample_images')\n",
        "validation_Ads_dir"
      ]
    },
    {
      "cell_type": "code",
      "execution_count": null,
      "metadata": {
        "colab": {
          "base_uri": "https://localhost:8080/",
          "height": 35
        },
        "id": "9nZK8UHRw-7N",
        "outputId": "a6922dd2-f9e1-4640-e756-ec481127034d"
      },
      "outputs": [
        {
          "output_type": "execute_result",
          "data": {
            "text/plain": [
              "'data split/test/Ads'"
            ],
            "application/vnd.google.colaboratory.intrinsic+json": {
              "type": "string"
            }
          },
          "metadata": {},
          "execution_count": 10
        }
      ],
      "source": [
        "test_Ads_dir = os.path.join(test_dir, 'Ads')\n",
        "test_sample_dir = os.path.join(test_dir, 'Sample_images')\n",
        "test_Ads_dir"
      ]
    },
    {
      "cell_type": "markdown",
      "metadata": {
        "id": "XF6wBQTVwuTo"
      },
      "source": [
        "Block comment : crtl + # <br>\n",
        "F11 run next"
      ]
    },
    {
      "cell_type": "code",
      "execution_count": null,
      "metadata": {
        "collapsed": true,
        "id": "LiONpfHKMKdQ"
      },
      "outputs": [],
      "source": [
        "# The path to the directory where the original\n",
        "# dataset was uncompressed\n",
        "#original_dataset_dir = '/Users/fchollet/Downloads/kaggle_original_data'\n",
        "#original_dataset_dir = 'C:/Users/YannisPC/Desktop/Courses/MSc/7.DEEP NEURAL NETWORKS/Labs/lab8/trainInitial'\n",
        "\n",
        "# The directory where we will\n",
        "# store our smaller dataset\n",
        "#base_dir = '/Users/fchollet/Downloads/cats_and_dogs_small'\n",
        "\n",
        "# Directory with our training cat pictures\n",
        "train_Ads_dir = os.path.join(train_dir, 'Ads')\n",
        "if not os.path.isdir(train_Ads_dir):\n",
        "    os.mkdir(train_Ads_dir)\n",
        "\n",
        "# Directory with our training dog pictures\n",
        "train_sample_dir = os.path.join(train_dir, 'Sample_images')\n",
        "if not os.path.isdir(train_sample_dir):\n",
        "    os.mkdir(train_sample_dir)\n",
        "\n",
        "# Directory with our validation cat pictures\n",
        "validation_Ads_dir = os.path.join(validation_dir, 'Ads')\n",
        "if not os.path.isdir(validation_Ads_dir):\n",
        "    os.mkdir(validation_Ads_dir)\n",
        "\n",
        "# Directory with our validation dog pictures\n",
        "validation_sample_dir = os.path.join(validation_dir, 'Sample_images')\n",
        "if not os.path.isdir(validation_sample_dir):\n",
        "    os.mkdir(validation_sample_dir)\n",
        "\n",
        "# Directory with our validation cat pictures\n",
        "test_Ads_dir = os.path.join(test_dir, 'Ads')\n",
        "if not os.path.isdir(test_Ads_dir):\n",
        "    os.mkdir(test_Ads_dir)\n",
        "\n",
        "# Directory with our validation dog pictures\n",
        "test_sample_dir = os.path.join(test_dir, 'Sample_images')\n",
        "if not os.path.isdir(test_sample_dir):\n",
        "    os.mkdir(test_sample_dir)\n",
        "\n"
      ]
    },
    {
      "cell_type": "code",
      "execution_count": null,
      "metadata": {
        "id": "lSQeUUSWwuTo"
      },
      "outputs": [],
      "source": [
        "# original_dataset_dir_imges = r'C:\\Users\\YannisPC\\PycharmProjects\\Thesis\\Thesis\\Sample_Images_10000'\n",
        "# original_dataset_dir_Ads = r'C:\\Users\\YannisPC\\PycharmProjects\\Thesis\\Thesis\\Ads'\n",
        "\n",
        "\n",
        "# files = os.listdir(original_dataset_dir_imges)\n",
        "# image_files = [f for f in files if f.lower().endswith(('.jpg', '.jpeg'))]\n",
        "# #image_files\n",
        "\n",
        "# file_ads = os.listdir(original_dataset_dir_Ads)\n",
        "# ads_files = [f for f in file_ads if f.lower().endswith(('.jpg', '.jpeg', '.png'))]"
      ]
    },
    {
      "cell_type": "code",
      "execution_count": null,
      "metadata": {
        "id": "LqOvu1zQwuTo"
      },
      "outputs": [],
      "source": [
        "# import random\n",
        "# import shutil\n",
        "\n",
        "# random.shuffle(image_files)\n",
        "# random.shuffle(ads_files)"
      ]
    },
    {
      "cell_type": "markdown",
      "metadata": {
        "id": "x6K1d64CwuTo"
      },
      "source": [
        "1200 simple images <br> 1200 Ads\n",
        "\n",
        "0.6 Train, 0.2 Val, 0.2 Test"
      ]
    },
    {
      "cell_type": "code",
      "execution_count": null,
      "metadata": {
        "id": "EnUK58J8wuTp"
      },
      "outputs": [],
      "source": [
        "# # Copy first 720 simple images to train_sample_dir\n",
        "# for image_file in image_files[:720]:\n",
        "#     source_path = os.path.join(original_dataset_dir_imges, image_file)\n",
        "#     destination_path = os.path.join(train_sample_dir, image_file)\n",
        "#     shutil.copyfile(source_path, destination_path)\n",
        "#     #print(f\"Copied {image_file} to {train_sample_dir}\")"
      ]
    },
    {
      "cell_type": "code",
      "execution_count": null,
      "metadata": {
        "id": "ZopPtqAbwuTp"
      },
      "outputs": [],
      "source": [
        "# # Copy first 720 Ad images to train_Ads_dir\n",
        "\n",
        "# for ad_file in ads_files[:720]:\n",
        "#     source_path = os.path.join(original_dataset_dir_Ads, ad_file)\n",
        "#     destination_path = os.path.join(train_Ads_dir, ad_file)\n",
        "#     shutil.copyfile(source_path, destination_path)\n",
        "#     #print(f\"Copied {ad_file} to {train_Ads_dir}\")\n"
      ]
    },
    {
      "cell_type": "code",
      "execution_count": null,
      "metadata": {
        "id": "wKkBjK8ZwuTp"
      },
      "outputs": [],
      "source": [
        "# # Copy next 240 simple images to val_sample_dir\n",
        "# for image_file in image_files[720:960]:\n",
        "#     source_path = os.path.join(original_dataset_dir_imges, image_file)\n",
        "#     destination_path = os.path.join(validation_sample_dir, image_file)\n",
        "#     shutil.copyfile(source_path, destination_path)\n",
        "#     #print(f\"Copied {image_file} to {validation_sample_dir}\")"
      ]
    },
    {
      "cell_type": "code",
      "execution_count": null,
      "metadata": {
        "id": "GmN1uyQkwuTp"
      },
      "outputs": [],
      "source": [
        "# # Copy next 240 Ad images to val_Ads_dir\n",
        "\n",
        "# for ad_file in ads_files[720:960]:\n",
        "#     source_path = os.path.join(original_dataset_dir_Ads, ad_file)\n",
        "#     destination_path = os.path.join(validation_Ads_dir, ad_file)\n",
        "#     shutil.copyfile(source_path, destination_path)\n",
        "#     #print(f\"Copied {ad_file} to {validation_Ads_dir}\")\n"
      ]
    },
    {
      "cell_type": "code",
      "execution_count": null,
      "metadata": {
        "id": "zdhnBzEqwuTp"
      },
      "outputs": [],
      "source": [
        "# # Copy final 240 simple images to test_sample_dir\n",
        "# for image_file in image_files[960:1200]:\n",
        "#     source_path = os.path.join(original_dataset_dir_imges, image_file)\n",
        "#     destination_path = os.path.join(test_sample_dir, image_file)\n",
        "#     shutil.copyfile(source_path, destination_path)\n",
        "#     #print(f\"Copied {image_file} to {test_sample_dir}\")"
      ]
    },
    {
      "cell_type": "code",
      "execution_count": null,
      "metadata": {
        "id": "4NEmxdiAwuTp"
      },
      "outputs": [],
      "source": [
        "# # Copy Final 240 Ad images to test_Ads_dir\n",
        "\n",
        "# for ad_file in ads_files[960:1200]:\n",
        "#     source_path = os.path.join(original_dataset_dir_Ads, ad_file)\n",
        "#     destination_path = os.path.join(test_Ads_dir, ad_file)\n",
        "#     shutil.copyfile(source_path, destination_path)\n",
        "#     #print(f\"Copied {ad_file} to {test_Ads_dir}\")"
      ]
    },
    {
      "cell_type": "markdown",
      "metadata": {
        "id": "Dr5RyMlfMKdQ"
      },
      "source": [
        "As a sanity check, let's count how many pictures we have in each training split (train/validation/test):"
      ]
    },
    {
      "cell_type": "code",
      "execution_count": null,
      "metadata": {
        "id": "Fj1GQMMuMKdQ",
        "colab": {
          "base_uri": "https://localhost:8080/"
        },
        "outputId": "0ccf4325-583f-4024-bf5d-f995e9d41b4a"
      },
      "outputs": [
        {
          "output_type": "stream",
          "name": "stdout",
          "text": [
            "total training Ads images: 719\n"
          ]
        }
      ],
      "source": [
        "print('total training Ads images:', len(os.listdir(train_Ads_dir)))"
      ]
    },
    {
      "cell_type": "code",
      "execution_count": null,
      "metadata": {
        "id": "YlJKGDqjMKdR",
        "colab": {
          "base_uri": "https://localhost:8080/"
        },
        "outputId": "8ddb4f27-2d63-4f05-f253-88df32f32d3b"
      },
      "outputs": [
        {
          "output_type": "stream",
          "name": "stdout",
          "text": [
            "total training sample images: 720\n"
          ]
        }
      ],
      "source": [
        "print('total training sample images:', len(os.listdir(train_sample_dir)))"
      ]
    },
    {
      "cell_type": "code",
      "execution_count": null,
      "metadata": {
        "id": "wXgWFATmMKdR",
        "colab": {
          "base_uri": "https://localhost:8080/"
        },
        "outputId": "b1086bd6-4edb-4eaf-8a6d-c3dae79d2016"
      },
      "outputs": [
        {
          "output_type": "stream",
          "name": "stdout",
          "text": [
            "total validation Ads images: 226\n"
          ]
        }
      ],
      "source": [
        "print('total validation Ads images:', len(os.listdir(validation_Ads_dir)))"
      ]
    },
    {
      "cell_type": "code",
      "execution_count": null,
      "metadata": {
        "id": "XeU9ZfZwMKdR",
        "colab": {
          "base_uri": "https://localhost:8080/"
        },
        "outputId": "733220ed-062f-42d5-b65d-f6e558718e0a"
      },
      "outputs": [
        {
          "output_type": "stream",
          "name": "stdout",
          "text": [
            "total validation sample images: 234\n"
          ]
        }
      ],
      "source": [
        "print('total validation sample images:', len(os.listdir(validation_sample_dir)))"
      ]
    },
    {
      "cell_type": "code",
      "execution_count": null,
      "metadata": {
        "id": "br7fct-dMKdR",
        "colab": {
          "base_uri": "https://localhost:8080/"
        },
        "outputId": "0469b3f6-24b6-4e3d-e801-039187d2aaec"
      },
      "outputs": [
        {
          "output_type": "stream",
          "name": "stdout",
          "text": [
            "total test Ads images: 240\n"
          ]
        }
      ],
      "source": [
        "print('total test Ads images:', len(os.listdir(test_Ads_dir)))"
      ]
    },
    {
      "cell_type": "code",
      "execution_count": null,
      "metadata": {
        "id": "uJYhR07-MKdR",
        "colab": {
          "base_uri": "https://localhost:8080/"
        },
        "outputId": "2e616923-757f-4349-95d0-6d3e762a1b31"
      },
      "outputs": [
        {
          "output_type": "stream",
          "name": "stdout",
          "text": [
            "total test sample images: 260\n"
          ]
        }
      ],
      "source": [
        "print('total test sample images:', len(os.listdir(test_sample_dir)))"
      ]
    },
    {
      "cell_type": "code",
      "source": [
        "from tensorflow.keras.layers import Conv2D, MaxPooling2D, Dense, Flatten ,Dropout, BatchNormalization"
      ],
      "metadata": {
        "id": "76W2eZMJ4zci"
      },
      "execution_count": null,
      "outputs": []
    },
    {
      "cell_type": "markdown",
      "metadata": {
        "collapsed": true,
        "id": "zidK8k-WMKdR"
      },
      "source": [
        "from keras import layers\n",
        "from keras import models\n",
        "\n",
        "model = models.Sequential()\n",
        "model.add(layers.Conv2D(32, (3, 3), activation='relu',\n",
        "                        input_shape=(150, 150, 3)))\n",
        "model.add(layers.MaxPooling2D((2, 2)))\n",
        "model.add(layers.Conv2D(64, (3, 3), activation='relu'))\n",
        "model.add(layers.MaxPooling2D((2, 2)))\n",
        "model.add(layers.Conv2D(128, (3, 3), activation='relu'))\n",
        "model.add(layers.MaxPooling2D((2, 2)))\n",
        "model.add(layers.Conv2D(128, (3, 3), activation='relu'))\n",
        "model.add(layers.MaxPooling2D((2, 2)))\n",
        "model.add(layers.Flatten())\n",
        "model.add(layers.Dropout(0.2))\n",
        "model.add(layers.Dense(512, activation='relu'))\n",
        "model.add(layers.Dense(1, activation='sigmoid'))"
      ]
    },
    {
      "cell_type": "code",
      "execution_count": null,
      "metadata": {
        "id": "X_eJHdW2wuTr"
      },
      "outputs": [],
      "source": [
        "from keras import layers\n",
        "from keras import models\n",
        "\n",
        "model = models.Sequential()\n",
        "model.add(layers.Conv2D(32, (3,3), 1, activation='relu', input_shape=(150,150,3))) # mhpws 150,150\n",
        "model.add(layers.MaxPooling2D())\n",
        "model.add(BatchNormalization())\n",
        "\n",
        "model.add(layers.Conv2D(64, (3,3), 1, activation='relu'))\n",
        "model.add(layers.MaxPooling2D())\n",
        "model.add(BatchNormalization())\n",
        "\n",
        "model.add(layers.Conv2D(128, (3,3), 1, activation='relu'))\n",
        "model.add(layers.MaxPooling2D())\n",
        "model.add(BatchNormalization())\n",
        "\n",
        "model.add(layers.Conv2D(128, (3,3), 1, activation='relu'))\n",
        "model.add(layers.MaxPooling2D())\n",
        "model.add(layers.Dropout(0.2))\n",
        "\n",
        "model.add(layers.Flatten())\n",
        "model.add(layers.Dense(256, activation='relu'))\n",
        "model.add(BatchNormalization())\n",
        "\n",
        "model.add(layers.Dense(1, activation='sigmoid'))"
      ]
    },
    {
      "cell_type": "markdown",
      "metadata": {
        "id": "PjrcP8XyMKdS"
      },
      "source": [
        "Let's take a look at how the dimensions of the feature maps change with every successive layer:"
      ]
    },
    {
      "cell_type": "code",
      "execution_count": null,
      "metadata": {
        "id": "RMrDAYrbMKdS",
        "colab": {
          "base_uri": "https://localhost:8080/"
        },
        "outputId": "0e302122-a380-4b73-c9b5-18f8ebc63293"
      },
      "outputs": [
        {
          "output_type": "stream",
          "name": "stdout",
          "text": [
            "Model: \"sequential\"\n",
            "_________________________________________________________________\n",
            " Layer (type)                Output Shape              Param #   \n",
            "=================================================================\n",
            " conv2d (Conv2D)             (None, 148, 148, 32)      896       \n",
            "                                                                 \n",
            " max_pooling2d (MaxPooling2  (None, 74, 74, 32)        0         \n",
            " D)                                                              \n",
            "                                                                 \n",
            " batch_normalization (Batch  (None, 74, 74, 32)        128       \n",
            " Normalization)                                                  \n",
            "                                                                 \n",
            " conv2d_1 (Conv2D)           (None, 72, 72, 64)        18496     \n",
            "                                                                 \n",
            " max_pooling2d_1 (MaxPoolin  (None, 36, 36, 64)        0         \n",
            " g2D)                                                            \n",
            "                                                                 \n",
            " batch_normalization_1 (Bat  (None, 36, 36, 64)        256       \n",
            " chNormalization)                                                \n",
            "                                                                 \n",
            " conv2d_2 (Conv2D)           (None, 34, 34, 128)       73856     \n",
            "                                                                 \n",
            " max_pooling2d_2 (MaxPoolin  (None, 17, 17, 128)       0         \n",
            " g2D)                                                            \n",
            "                                                                 \n",
            " batch_normalization_2 (Bat  (None, 17, 17, 128)       512       \n",
            " chNormalization)                                                \n",
            "                                                                 \n",
            " conv2d_3 (Conv2D)           (None, 15, 15, 128)       147584    \n",
            "                                                                 \n",
            " max_pooling2d_3 (MaxPoolin  (None, 7, 7, 128)         0         \n",
            " g2D)                                                            \n",
            "                                                                 \n",
            " dropout (Dropout)           (None, 7, 7, 128)         0         \n",
            "                                                                 \n",
            " flatten (Flatten)           (None, 6272)              0         \n",
            "                                                                 \n",
            " dense (Dense)               (None, 256)               1605888   \n",
            "                                                                 \n",
            " batch_normalization_3 (Bat  (None, 256)               1024      \n",
            " chNormalization)                                                \n",
            "                                                                 \n",
            " dense_1 (Dense)             (None, 1)                 257       \n",
            "                                                                 \n",
            "=================================================================\n",
            "Total params: 1848897 (7.05 MB)\n",
            "Trainable params: 1847937 (7.05 MB)\n",
            "Non-trainable params: 960 (3.75 KB)\n",
            "_________________________________________________________________\n"
          ]
        }
      ],
      "source": [
        "model.summary()"
      ]
    },
    {
      "cell_type": "code",
      "execution_count": null,
      "metadata": {
        "collapsed": true,
        "id": "Q8CB3XvNMKdS"
      },
      "outputs": [],
      "source": [
        "from keras import optimizers\n",
        "\n",
        "model.compile(loss='binary_crossentropy',\n",
        "              optimizer=optimizers.RMSprop(learning_rate=1e-4),\n",
        "              metrics=['acc'])"
      ]
    },
    {
      "cell_type": "markdown",
      "metadata": {
        "id": "nKoiEFqJMKdS"
      },
      "source": [
        "## Data preprocessing\n",
        "\n",
        "As you already know by now, data should be formatted into appropriately pre-processed floating point tensors before being fed into our\n",
        "network. Currently, our data sits on a drive as JPEG files, so the steps for getting it into our network are roughly:\n",
        "\n",
        "* Read the picture files.\n",
        "* Decode the JPEG content to RBG grids of pixels.\n",
        "* Convert these into floating point tensors.\n",
        "* Rescale the pixel values (between 0 and 255) to the [0, 1] interval (as you know, neural networks prefer to deal with small input values).\n",
        "\n",
        "It may seem a bit daunting, but thankfully Keras has utilities to take care of these steps automatically. Keras has a module with image\n",
        "processing helper tools, located at `keras.preprocessing.image`. In particular, it contains the class `ImageDataGenerator` which allows to\n",
        "quickly set up Python generators that can automatically turn image files on disk into batches of pre-processed tensors. This is what we\n",
        "will use here."
      ]
    },
    {
      "cell_type": "code",
      "execution_count": null,
      "metadata": {
        "id": "-6LIsrmdMKdS",
        "colab": {
          "base_uri": "https://localhost:8080/"
        },
        "outputId": "133ad07b-f4bc-4e33-a718-6ad19cff88cc"
      },
      "outputs": [
        {
          "output_type": "stream",
          "name": "stdout",
          "text": [
            "Found 1439 images belonging to 2 classes.\n",
            "Found 460 images belonging to 2 classes.\n"
          ]
        }
      ],
      "source": [
        "from keras.preprocessing.image import ImageDataGenerator\n",
        "\n",
        "# All images will be rescaled by 1./255\n",
        "train_datagen = ImageDataGenerator(rescale=1./255)\n",
        "test_datagen = ImageDataGenerator(rescale=1./255)\n",
        "\n",
        "train_generator = train_datagen.flow_from_directory(\n",
        "        # This is the target directory\n",
        "        train_dir,\n",
        "        # All images will be resized to 150x150\n",
        "        target_size=(150, 150),\n",
        "        batch_size=32,\n",
        "        # Since we use binary_crossentropy loss, we need binary labels\n",
        "        class_mode='binary')\n",
        "\n",
        "validation_generator = test_datagen.flow_from_directory(\n",
        "        validation_dir,\n",
        "        target_size=(150, 150),\n",
        "        batch_size=32,\n",
        "        class_mode='binary')\n",
        "\n",
        "\n",
        "batch_size = 32"
      ]
    },
    {
      "cell_type": "markdown",
      "metadata": {
        "id": "H2Z6OMe_MKdS"
      },
      "source": [
        "Let's take a look at the output of one of these generators: it yields batches of 150x150 RGB images (shape `(20, 150, 150, 3)`) and binary\n",
        "labels (shape `(20,)`). 20 is the number of samples in each batch (the batch size). Note that the generator yields these batches\n",
        "indefinitely: it just loops endlessly over the images present in the target folder. For this reason, we need to `break` the iteration loop\n",
        "at some point."
      ]
    },
    {
      "cell_type": "code",
      "execution_count": null,
      "metadata": {
        "colab": {
          "base_uri": "https://localhost:8080/"
        },
        "id": "ANeLTd0qMKdS",
        "outputId": "b8e2583d-a7c9-4e10-9d26-4427b8a4d7d5"
      },
      "outputs": [
        {
          "output_type": "stream",
          "name": "stdout",
          "text": [
            "data batch shape: (32, 150, 150, 3)\n",
            "labels batch shape: (32,)\n"
          ]
        }
      ],
      "source": [
        "cnt = 0\n",
        "for data_batch, labels_batch in train_generator:\n",
        "    print('data batch shape:', data_batch.shape)\n",
        "    print('labels batch shape:', labels_batch.shape)\n",
        "    break"
      ]
    },
    {
      "cell_type": "markdown",
      "metadata": {
        "id": "Su7OsT8VMKdS"
      },
      "source": [
        "Let's fit our model to the data using the generator. We do it using the `fit_generator` method, the equivalent of `fit` for data generators\n",
        "like ours. It expects as first argument a Python generator that will yield batches of inputs and targets indefinitely, like ours does.\n",
        "Because the data is being generated endlessly, the generator needs to know example how many samples to draw from the generator before\n",
        "declaring an epoch over. This is the role of the `steps_per_epoch` argument: after having drawn `steps_per_epoch` batches from the\n",
        "generator, i.e. after having run for `steps_per_epoch` gradient descent steps, the fitting process will go to the next epoch. In our case,\n",
        "batches are 20-sample large, so it will take 100 batches until we see our target of 2000 samples.\n",
        "\n",
        "When using `fit_generator`, one may pass a `validation_data` argument, much like with the `fit` method. Importantly, this argument is\n",
        "allowed to be a data generator itself, but it could be a tuple of Numpy arrays as well. If you pass a generator as `validation_data`, then\n",
        "this generator is expected to yield batches of validation data endlessly, and thus you should also specify the `validation_steps` argument,\n",
        "which tells the process how many batches to draw from the validation generator for evaluation."
      ]
    },
    {
      "cell_type": "markdown",
      "metadata": {
        "id": "KuGSq59qmDND"
      },
      "source": [
        "Naturally what you want is in 1 epoch your generator to pass through all of your training data one time\n",
        "\n",
        "steps_per_epoch = int( np.ceil(x_train.shape[0] / batch_size) )"
      ]
    },
    {
      "cell_type": "code",
      "execution_count": null,
      "metadata": {
        "colab": {
          "base_uri": "https://localhost:8080/"
        },
        "id": "zHE8-XQ9l0xZ",
        "outputId": "8d464172-e693-481a-d98c-d3c3e0cf0af5"
      },
      "outputs": [
        {
          "output_type": "stream",
          "name": "stdout",
          "text": [
            "Epochs len:  45\n",
            "Val len:  15\n"
          ]
        }
      ],
      "source": [
        "len(train_generator)\n",
        "len(validation_generator)\n",
        "\n",
        "epochs_len = len(train_generator)\n",
        "Val_len = len(validation_generator)\n",
        "print(\"Epochs len: \", epochs_len)\n",
        "print(\"Val len: \", Val_len)\n",
        "\n"
      ]
    },
    {
      "cell_type": "markdown",
      "metadata": {
        "id": "1mDmKcTBrc3L"
      },
      "source": [
        "`steps_per_epoch * epochs` batches (in this case, 1500 batches).  \n",
        "\n",
        "steps_per_epoch= 50\\\\\n",
        "epochs = 30\n",
        "\n",
        "training set = 784 \\\\\n",
        "val set = 316\n",
        "\n",
        "training set = 1440 \\\\\n",
        "val set = 420\n"
      ]
    },
    {
      "cell_type": "code",
      "execution_count": null,
      "metadata": {
        "id": "nD2ALuAzJlR_"
      },
      "outputs": [],
      "source": [
        "from keras.callbacks import ReduceLROnPlateau"
      ]
    },
    {
      "cell_type": "code",
      "execution_count": null,
      "metadata": {
        "id": "J8bMqlcnJTfK"
      },
      "outputs": [],
      "source": [
        "reduce_lr = ReduceLROnPlateau(monitor='val_loss', factor=0.2, verbose = 1,\n",
        "                              patience=3, min_lr=0.001)"
      ]
    },
    {
      "cell_type": "code",
      "execution_count": null,
      "metadata": {
        "colab": {
          "base_uri": "https://localhost:8080/",
          "height": 391
        },
        "id": "ql6URKKKMKdS",
        "outputId": "8dc366a0-efe2-4cdf-8cee-17c3eaa68663"
      },
      "outputs": [
        {
          "output_type": "stream",
          "name": "stdout",
          "text": [
            "Epoch 1/30\n",
            "45/45 [==============================] - 339s 8s/step - loss: 0.4750 - acc: 0.7929 - val_loss: 0.6945 - val_acc: 0.4739 - lr: 1.0000e-04\n"
          ]
        },
        {
          "output_type": "error",
          "ename": "KeyboardInterrupt",
          "evalue": "",
          "traceback": [
            "\u001b[0;31m---------------------------------------------------------------------------\u001b[0m",
            "\u001b[0;31mKeyboardInterrupt\u001b[0m                         Traceback (most recent call last)",
            "\u001b[0;32m<ipython-input-35-6db64e4f7002>\u001b[0m in \u001b[0;36m<cell line: 1>\u001b[0;34m()\u001b[0m\n\u001b[0;32m----> 1\u001b[0;31m history = model.fit(    #fit_generator\n\u001b[0m\u001b[1;32m      2\u001b[0m       \u001b[0mtrain_generator\u001b[0m\u001b[0;34m,\u001b[0m\u001b[0;34m\u001b[0m\u001b[0;34m\u001b[0m\u001b[0m\n\u001b[1;32m      3\u001b[0m       \u001b[0msteps_per_epoch\u001b[0m\u001b[0;34m=\u001b[0m\u001b[0mepochs_len\u001b[0m\u001b[0;34m,\u001b[0m\u001b[0;34m\u001b[0m\u001b[0;34m\u001b[0m\u001b[0m\n\u001b[1;32m      4\u001b[0m       \u001b[0mepochs\u001b[0m\u001b[0;34m=\u001b[0m\u001b[0;36m30\u001b[0m\u001b[0;34m,\u001b[0m\u001b[0;34m\u001b[0m\u001b[0;34m\u001b[0m\u001b[0m\n\u001b[1;32m      5\u001b[0m       \u001b[0mvalidation_data\u001b[0m\u001b[0;34m=\u001b[0m\u001b[0mvalidation_generator\u001b[0m\u001b[0;34m,\u001b[0m\u001b[0;34m\u001b[0m\u001b[0;34m\u001b[0m\u001b[0m\n",
            "\u001b[0;32m/usr/local/lib/python3.10/dist-packages/keras/src/utils/traceback_utils.py\u001b[0m in \u001b[0;36merror_handler\u001b[0;34m(*args, **kwargs)\u001b[0m\n\u001b[1;32m     63\u001b[0m         \u001b[0mfiltered_tb\u001b[0m \u001b[0;34m=\u001b[0m \u001b[0;32mNone\u001b[0m\u001b[0;34m\u001b[0m\u001b[0;34m\u001b[0m\u001b[0m\n\u001b[1;32m     64\u001b[0m         \u001b[0;32mtry\u001b[0m\u001b[0;34m:\u001b[0m\u001b[0;34m\u001b[0m\u001b[0;34m\u001b[0m\u001b[0m\n\u001b[0;32m---> 65\u001b[0;31m             \u001b[0;32mreturn\u001b[0m \u001b[0mfn\u001b[0m\u001b[0;34m(\u001b[0m\u001b[0;34m*\u001b[0m\u001b[0margs\u001b[0m\u001b[0;34m,\u001b[0m \u001b[0;34m**\u001b[0m\u001b[0mkwargs\u001b[0m\u001b[0;34m)\u001b[0m\u001b[0;34m\u001b[0m\u001b[0;34m\u001b[0m\u001b[0m\n\u001b[0m\u001b[1;32m     66\u001b[0m         \u001b[0;32mexcept\u001b[0m \u001b[0mException\u001b[0m \u001b[0;32mas\u001b[0m \u001b[0me\u001b[0m\u001b[0;34m:\u001b[0m\u001b[0;34m\u001b[0m\u001b[0;34m\u001b[0m\u001b[0m\n\u001b[1;32m     67\u001b[0m             \u001b[0mfiltered_tb\u001b[0m \u001b[0;34m=\u001b[0m \u001b[0m_process_traceback_frames\u001b[0m\u001b[0;34m(\u001b[0m\u001b[0me\u001b[0m\u001b[0;34m.\u001b[0m\u001b[0m__traceback__\u001b[0m\u001b[0;34m)\u001b[0m\u001b[0;34m\u001b[0m\u001b[0;34m\u001b[0m\u001b[0m\n",
            "\u001b[0;32m/usr/local/lib/python3.10/dist-packages/keras/src/engine/training.py\u001b[0m in \u001b[0;36mfit\u001b[0;34m(self, x, y, batch_size, epochs, verbose, callbacks, validation_split, validation_data, shuffle, class_weight, sample_weight, initial_epoch, steps_per_epoch, validation_steps, validation_batch_size, validation_freq, max_queue_size, workers, use_multiprocessing)\u001b[0m\n\u001b[1;32m   1793\u001b[0m             \u001b[0mlogs\u001b[0m \u001b[0;34m=\u001b[0m \u001b[0;32mNone\u001b[0m\u001b[0;34m\u001b[0m\u001b[0;34m\u001b[0m\u001b[0m\n\u001b[1;32m   1794\u001b[0m             \u001b[0;32mfor\u001b[0m \u001b[0mepoch\u001b[0m\u001b[0;34m,\u001b[0m \u001b[0miterator\u001b[0m \u001b[0;32min\u001b[0m \u001b[0mdata_handler\u001b[0m\u001b[0;34m.\u001b[0m\u001b[0menumerate_epochs\u001b[0m\u001b[0;34m(\u001b[0m\u001b[0;34m)\u001b[0m\u001b[0;34m:\u001b[0m\u001b[0;34m\u001b[0m\u001b[0;34m\u001b[0m\u001b[0m\n\u001b[0;32m-> 1795\u001b[0;31m                 \u001b[0mself\u001b[0m\u001b[0;34m.\u001b[0m\u001b[0mreset_metrics\u001b[0m\u001b[0;34m(\u001b[0m\u001b[0;34m)\u001b[0m\u001b[0;34m\u001b[0m\u001b[0;34m\u001b[0m\u001b[0m\n\u001b[0m\u001b[1;32m   1796\u001b[0m                 \u001b[0mcallbacks\u001b[0m\u001b[0;34m.\u001b[0m\u001b[0mon_epoch_begin\u001b[0m\u001b[0;34m(\u001b[0m\u001b[0mepoch\u001b[0m\u001b[0;34m)\u001b[0m\u001b[0;34m\u001b[0m\u001b[0;34m\u001b[0m\u001b[0m\n\u001b[1;32m   1797\u001b[0m                 \u001b[0;32mwith\u001b[0m \u001b[0mdata_handler\u001b[0m\u001b[0;34m.\u001b[0m\u001b[0mcatch_stop_iteration\u001b[0m\u001b[0;34m(\u001b[0m\u001b[0;34m)\u001b[0m\u001b[0;34m:\u001b[0m\u001b[0;34m\u001b[0m\u001b[0;34m\u001b[0m\u001b[0m\n",
            "\u001b[0;32m/usr/local/lib/python3.10/dist-packages/keras/src/engine/training.py\u001b[0m in \u001b[0;36mreset_metrics\u001b[0;34m(self)\u001b[0m\n\u001b[1;32m   2701\u001b[0m         \u001b[0;32mreturn\u001b[0m \u001b[0mtf_utils\u001b[0m\u001b[0;34m.\u001b[0m\u001b[0msync_to_numpy_or_python_type\u001b[0m\u001b[0;34m(\u001b[0m\u001b[0mall_outputs\u001b[0m\u001b[0;34m)\u001b[0m\u001b[0;34m\u001b[0m\u001b[0;34m\u001b[0m\u001b[0m\n\u001b[1;32m   2702\u001b[0m \u001b[0;34m\u001b[0m\u001b[0m\n\u001b[0;32m-> 2703\u001b[0;31m     \u001b[0;32mdef\u001b[0m \u001b[0mreset_metrics\u001b[0m\u001b[0;34m(\u001b[0m\u001b[0mself\u001b[0m\u001b[0;34m)\u001b[0m\u001b[0;34m:\u001b[0m\u001b[0;34m\u001b[0m\u001b[0;34m\u001b[0m\u001b[0m\n\u001b[0m\u001b[1;32m   2704\u001b[0m         \"\"\"Resets the state of all the metrics in the model.\n\u001b[1;32m   2705\u001b[0m \u001b[0;34m\u001b[0m\u001b[0m\n",
            "\u001b[0;31mKeyboardInterrupt\u001b[0m: "
          ]
        }
      ],
      "source": [
        "history = model.fit(    #fit_generator\n",
        "      train_generator,\n",
        "      steps_per_epoch=epochs_len,\n",
        "      epochs=30,\n",
        "      validation_data=validation_generator,\n",
        "      validation_steps=Val_len,\n",
        "      callbacks=[reduce_lr])"
      ]
    },
    {
      "cell_type": "markdown",
      "metadata": {
        "collapsed": true,
        "id": "4eHBnzxrMKdT"
      },
      "source": [
        "It is good practice to always save your models after training:"
      ]
    },
    {
      "cell_type": "code",
      "execution_count": null,
      "metadata": {
        "collapsed": true,
        "id": "864ru0Q8MKdT"
      },
      "outputs": [],
      "source": [
        "#model.save('Ads_classifier_small_1.h5')"
      ]
    },
    {
      "cell_type": "code",
      "execution_count": null,
      "metadata": {
        "id": "trMa5VGmRl9k"
      },
      "outputs": [],
      "source": [
        "START_PLOT_FROM_EPOCH = 3"
      ]
    },
    {
      "cell_type": "markdown",
      "metadata": {
        "id": "z_XksqntMKdT"
      },
      "source": [
        "Let's plot the loss and accuracy of the model over the training and validation data during training:"
      ]
    },
    {
      "cell_type": "code",
      "execution_count": null,
      "metadata": {
        "id": "lNHT8-83MKdT"
      },
      "outputs": [],
      "source": [
        "import matplotlib.pyplot as plt\n",
        "\n",
        "acc = history.history['acc'][START_PLOT_FROM_EPOCH:]\n",
        "val_acc = history.history['val_acc'][START_PLOT_FROM_EPOCH:]\n",
        "loss = history.history['loss'][START_PLOT_FROM_EPOCH:]\n",
        "val_loss = history.history['val_loss'][START_PLOT_FROM_EPOCH:]\n",
        "\n",
        "epochs = range(len(acc))\n",
        "\n",
        "plt.plot(epochs, acc, 'bo', label='Training acc')\n",
        "plt.plot(epochs, val_acc, 'b', label='Validation acc')\n",
        "plt.title('Training and validation accuracy')\n",
        "plt.legend()\n",
        "\n",
        "plt.figure()\n",
        "\n",
        "plt.plot(epochs, loss, 'bo', label='Training loss')\n",
        "plt.plot(epochs, val_loss, 'b', label='Validation loss')\n",
        "plt.title('Training and validation loss')\n",
        "plt.legend()\n",
        "\n",
        "plt.show()"
      ]
    },
    {
      "cell_type": "markdown",
      "metadata": {
        "id": "BImpKeTDwaTU"
      },
      "source": [
        "check this tread: \\\\\n",
        "https://stackoverflow.com/questions/61568463/keras-validation-accuracy-stays-the-exact-same-but-validation-loss-decreases"
      ]
    },
    {
      "cell_type": "markdown",
      "metadata": {
        "id": "t6xF_hhhjnWZ"
      },
      "source": [
        "We can now finally evaluate this model on the test data:"
      ]
    },
    {
      "cell_type": "code",
      "execution_count": null,
      "metadata": {
        "id": "3htnoLeHjX5n"
      },
      "outputs": [],
      "source": [
        "test_generator = test_datagen.flow_from_directory(\n",
        "        test_dir,\n",
        "        target_size=(150, 150),\n",
        "        batch_size=32,\n",
        "        class_mode='binary')\n",
        "\n",
        "test_loss, test_acc = model.evaluate_generator(test_generator, steps=len(test_generator))\n",
        "print('test acc:', test_acc)\n",
        "print('test loss:', test_loss)"
      ]
    },
    {
      "cell_type": "markdown",
      "metadata": {
        "id": "y-I21OjOMKdT"
      },
      "source": [
        "These plots are characteristic of overfitting. Our training accuracy increases linearly over time, until it reaches nearly 100%, while our\n",
        "validation accuracy stalls at 70-72%. Our validation loss reaches its minimum after only five epochs then stalls, while the training loss\n",
        "keeps decreasing linearly until it reaches nearly 0.\n",
        "\n",
        "Because we only have relatively few training samples (2000), overfitting is going to be our number one concern. You already know about a\n",
        "number of techniques that can help mitigate overfitting, such as dropout and weight decay (L2 regularization). We are now going to\n",
        "introduce a new one, specific to computer vision, and used almost universally when processing images with deep learning models: *data\n",
        "augmentation*."
      ]
    },
    {
      "cell_type": "markdown",
      "metadata": {
        "id": "mpgdNqGlMKdT"
      },
      "source": [
        "## Using data augmentation\n",
        "\n",
        "Overfitting is caused by having too few samples to learn from, rendering us unable to train a model able to generalize to new data.\n",
        "Given infinite data, our model would be exposed to every possible aspect of the data distribution at hand: we would never overfit. Data\n",
        "augmentation takes the approach of generating more training data from existing training samples, by \"augmenting\" the samples via a number\n",
        "of random transformations that yield believable-looking images. The goal is that at training time, our model would never see the exact same\n",
        "picture twice. This helps the model get exposed to more aspects of the data and generalize better.\n",
        "\n",
        "In Keras, this can be done by configuring a number of random transformations to be performed on the images read by our `ImageDataGenerator`\n",
        "instance. Let's get started with an example:"
      ]
    },
    {
      "cell_type": "code",
      "execution_count": null,
      "metadata": {
        "collapsed": true,
        "id": "MSgck0pLMKdT"
      },
      "outputs": [],
      "source": [
        "datagen = ImageDataGenerator(\n",
        "      rotation_range=40,\n",
        "      width_shift_range=0.2,\n",
        "      height_shift_range=0.2,\n",
        "      shear_range=0.2,\n",
        "      zoom_range=0.2,\n",
        "      horizontal_flip=True,\n",
        "      fill_mode='nearest')"
      ]
    },
    {
      "cell_type": "markdown",
      "metadata": {
        "id": "Zps06gEHMKdT"
      },
      "source": [
        "These are just a few of the options available (for more, see the Keras documentation). Let's quickly go over what we just wrote:\n",
        "\n",
        "* `rotation_range` is a value in degrees (0-180), a range within which to randomly rotate pictures.\n",
        "* `width_shift` and `height_shift` are ranges (as a fraction of total width or height) within which to randomly translate pictures\n",
        "vertically or horizontally.\n",
        "* `shear_range` is for randomly applying shearing transformations.\n",
        "* `zoom_range` is for randomly zooming inside pictures.\n",
        "* `horizontal_flip` is for randomly flipping half of the images horizontally -- relevant when there are no assumptions of horizontal\n",
        "asymmetry (e.g. real-world pictures).\n",
        "* `fill_mode` is the strategy used for filling in newly created pixels, which can appear after a rotation or a width/height shift.\n",
        "\n",
        "Let's take a look at our augmented images:"
      ]
    },
    {
      "cell_type": "code",
      "execution_count": null,
      "metadata": {
        "id": "k2Hzr_nIMKdT"
      },
      "outputs": [],
      "source": [
        "# This is module with image preprocessing utilities\n",
        "#from keras.preprocessing import image\n",
        "import keras.utils as image\n",
        "\n",
        "fnames = [os.path.join(train_Ads_dir, fname) for fname in os.listdir(train_Ads_dir)]\n",
        "\n",
        "# We pick one image to \"augment\"\n",
        "img_path = fnames[4]\n",
        "\n",
        "# Read the image and resize it\n",
        "img = image.load_img(img_path, target_size=(150, 150))\n",
        "\n",
        "# Convert it to a Numpy array with shape (150, 150, 3)\n",
        "x = image.img_to_array(img)\n",
        "\n",
        "# Reshape it to (1, 150, 150, 3)\n",
        "x = x.reshape((1,) + x.shape)\n",
        "\n",
        "# The .flow() command below generates batches of randomly transformed images.\n",
        "# It will loop indefinitely, so we need to `break` the loop at some point!\n",
        "i = 0\n",
        "for batch in datagen.flow(x, batch_size=1):\n",
        "    plt.figure(i)\n",
        "    imgplot = plt.imshow(image.array_to_img(batch[0]))\n",
        "    i += 1\n",
        "    if i % 4 == 0:\n",
        "        break\n",
        "\n",
        "plt.show()"
      ]
    },
    {
      "cell_type": "markdown",
      "metadata": {
        "id": "gyydEw30MKdT"
      },
      "source": [
        "If we train a new network using this data augmentation configuration, our network will never see twice the same input. However, the inputs\n",
        "that it sees are still heavily intercorrelated, since they come from a small number of original images -- we cannot produce new information,\n",
        "we can only remix existing information. As such, this might not be quite enough to completely get rid of overfitting. To further fight\n",
        "overfitting, we will also add a Dropout layer to our model, right before the densely-connected classifier:"
      ]
    },
    {
      "cell_type": "code",
      "execution_count": null,
      "metadata": {
        "collapsed": true,
        "id": "6RdCJk4oMKdT"
      },
      "outputs": [],
      "source": [
        "model_aug = models.Sequential()\n",
        "model_aug.add(layers.Conv2D(32, (3, 3), activation='relu',\n",
        "                        input_shape=(150, 150, 3)))\n",
        "model_aug.add(layers.MaxPooling2D((2, 2)))\n",
        "model_aug.add(layers.Conv2D(64, (3, 3), activation='relu'))\n",
        "model_aug.add(layers.MaxPooling2D((2, 2)))\n",
        "model_aug.add(layers.Conv2D(128, (3, 3), activation='relu'))\n",
        "model_aug.add(layers.MaxPooling2D((2, 2)))\n",
        "model_aug.add(layers.Conv2D(128, (3, 3), activation='relu'))\n",
        "model_aug.add(layers.MaxPooling2D((2, 2)))\n",
        "model_aug.add(layers.Flatten())\n",
        "model_aug.add(layers.Dropout(0.5))\n",
        "model_aug.add(layers.Dense(256, activation='relu'))\n",
        "model_aug.add(layers.Dense(1, activation='sigmoid'))\n",
        "\n",
        "model_aug.compile(loss='binary_crossentropy',\n",
        "              optimizer=optimizers.RMSprop(learning_rate=1e-5),\n",
        "              metrics=['acc'])"
      ]
    },
    {
      "cell_type": "code",
      "execution_count": null,
      "metadata": {
        "id": "zE4ukyzgXE4y"
      },
      "outputs": [],
      "source": [
        "len(validation_dir)"
      ]
    },
    {
      "cell_type": "markdown",
      "metadata": {
        "id": "mNGTHXtaMKdT"
      },
      "source": [
        "Let's train our network using data augmentation and dropout:"
      ]
    },
    {
      "cell_type": "code",
      "execution_count": null,
      "metadata": {
        "id": "Yha3tYIrMKdU"
      },
      "outputs": [],
      "source": [
        "train_datagen = ImageDataGenerator(\n",
        "    rescale=1./255,\n",
        "    rotation_range=40,\n",
        "    width_shift_range=0.2,\n",
        "    height_shift_range=0.2,\n",
        "    shear_range=0.2,\n",
        "    zoom_range=0.2,\n",
        "    horizontal_flip=True,)\n",
        "\n",
        "# Note that the validation data should not be augmented!\n",
        "test_datagen = ImageDataGenerator(rescale=1./255)\n",
        "\n",
        "train_generator = train_datagen.flow_from_directory(\n",
        "        # This is the target directory\n",
        "        train_dir,\n",
        "        # All images will be resized to 150x150\n",
        "        target_size=(150, 150),\n",
        "        batch_size=32, #32\n",
        "        # Since we use binary_crossentropy loss, we need binary labels\n",
        "        class_mode='binary')\n",
        "\n",
        "validation_generator = test_datagen.flow_from_directory(\n",
        "        validation_dir,\n",
        "        target_size=(150, 150),\n",
        "        batch_size=32,\n",
        "        class_mode='binary')\n",
        "\n",
        "# history = model.fit( #fit_generator\n",
        "#       train_generator,\n",
        "#       steps_per_epoch=50,\n",
        "#       epochs=100,\n",
        "#       validation_data=validation_generator,\n",
        "#       validation_steps=50)\n"
      ]
    },
    {
      "cell_type": "code",
      "execution_count": null,
      "metadata": {
        "id": "97BZehIXSHMu"
      },
      "outputs": [],
      "source": [
        "history = model_aug.fit(    #fit_generator\n",
        "      train_generator,\n",
        "      steps_per_epoch=epochs_len,\n",
        "      epochs=30,\n",
        "      validation_data=validation_generator,\n",
        "      validation_steps=Val_len)"
      ]
    },
    {
      "cell_type": "markdown",
      "metadata": {
        "id": "zRpB3dhBMKdU"
      },
      "source": [
        "Let's save our model -- we will be using it in the section on convnet visualization."
      ]
    },
    {
      "cell_type": "code",
      "execution_count": null,
      "metadata": {
        "collapsed": true,
        "id": "x4ox55JSMKdU"
      },
      "outputs": [],
      "source": [
        "#model.save('Ads_classifier_small_2.h5')"
      ]
    },
    {
      "cell_type": "markdown",
      "metadata": {
        "id": "m4jX-CJ9MKdU"
      },
      "source": [
        "Let's plot our results again:"
      ]
    },
    {
      "cell_type": "code",
      "execution_count": null,
      "metadata": {
        "id": "zYT2w7OpMKdU"
      },
      "outputs": [],
      "source": [
        "acc = history.history['acc'][START_PLOT_FROM_EPOCH:]\n",
        "val_acc = history.history['val_acc'][START_PLOT_FROM_EPOCH:]\n",
        "loss = history.history['loss'][START_PLOT_FROM_EPOCH:]\n",
        "val_loss = history.history['val_loss'][START_PLOT_FROM_EPOCH:]\n",
        "\n",
        "epochs = range(len(acc))\n",
        "\n",
        "plt.plot(epochs, acc, 'bo', label='Training acc')\n",
        "plt.plot(epochs, val_acc, 'b', label='Validation acc')\n",
        "plt.title('Training and validation accuracy')\n",
        "plt.legend()\n",
        "\n",
        "plt.figure()\n",
        "\n",
        "plt.plot(epochs, loss, 'bo', label='Training loss')\n",
        "plt.plot(epochs, val_loss, 'b', label='Validation loss')\n",
        "plt.title('Training and validation loss')\n",
        "plt.legend()\n",
        "\n",
        "plt.show()"
      ]
    },
    {
      "cell_type": "code",
      "execution_count": null,
      "metadata": {
        "id": "GOm-T33-kGKL"
      },
      "outputs": [],
      "source": [
        "test_generator = test_datagen.flow_from_directory(\n",
        "        test_dir,\n",
        "        target_size=(150, 150),\n",
        "        batch_size=32,\n",
        "        class_mode='binary')\n",
        "\n",
        "test_loss, test_acc = model_aug.evaluate_generator(test_generator, steps=len(test_generator))  # steps_per_epoch * epochs\n",
        "print('test acc:', test_acc)\n",
        "print('test loss:', test_loss)"
      ]
    },
    {
      "cell_type": "markdown",
      "metadata": {
        "id": "gnUjx0IIkXBg"
      },
      "source": []
    },
    {
      "cell_type": "markdown",
      "metadata": {
        "id": "YLKYK_brMKdU"
      },
      "source": [
        "Thanks to data augmentation and dropout, we are no longer overfitting: the training curves are rather closely tracking the validation\n",
        "curves. We are now able to reach an accuracy of 82%, a 15% relative improvement over the non-regularized model.\n",
        "\n",
        "By leveraging regularization techniques even further and by tuning the network's parameters (such as the number of filters per convolution\n",
        "layer, or the number of layers in the network), we may be able to get an even better accuracy, likely up to 86-87%. However, it would prove\n",
        "very difficult to go any higher just by training our own convnet from scratch, simply because we have so little data to work with. As a\n",
        "next step to improve our accuracy on this problem, we will have to leverage a pre-trained model, which will be the focus of the next two\n",
        "sections."
      ]
    },
    {
      "cell_type": "markdown",
      "metadata": {
        "id": "um49GrEwwuTz"
      },
      "source": [
        "end"
      ]
    }
  ],
  "metadata": {
    "accelerator": "TPU",
    "colab": {
      "gpuType": "V28",
      "provenance": [],
      "include_colab_link": true
    },
    "kernelspec": {
      "display_name": "Python 3",
      "name": "python3"
    },
    "language_info": {
      "codemirror_mode": {
        "name": "ipython",
        "version": 3
      },
      "file_extension": ".py",
      "mimetype": "text/x-python",
      "name": "python",
      "nbconvert_exporter": "python",
      "pygments_lexer": "ipython3",
      "version": "3.9.13"
    }
  },
  "nbformat": 4,
  "nbformat_minor": 0
}